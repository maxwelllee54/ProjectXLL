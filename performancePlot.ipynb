{
 "cells": [
  {
   "cell_type": "code",
   "execution_count": null,
   "metadata": {
    "collapsed": true
   },
   "outputs": [],
   "source": [
    "from ImpliedVolatility import ImpliedVolatility                                                                                 \n",
    "import pandas as pd                                                                                                             \n",
    "import numpy as np                                                                                                              \n",
    "import datetime                                                                                                                 \n",
    "                                                                                                                                \n",
    "                                                                                                                                \n",
    "def performance(df, method, r = 0.05, sigma0 = 0.5):                                                                            \n",
    "    time_start = datetime.datetime.now()                                                                                        \n",
    "    dfCopy = df.copy()                                                                                                          \n",
    "                                                                                                                                \n",
    "    for i in df.index:                                                                                                          \n",
    "        impVol = ImpliedVolatility(df.ix[i, 'StockPrice'], df.ix[i, 'StrikePrice'], df.ix[i, 'T'], r, sigma0,                   \n",
    "                                   df.ix[i, 'Last'], df.ix[i, 'Type'])                                                          \n",
    "                                                                                                                                \n",
    "        if method == 'bisection':                                                                                               \n",
    "            dfCopy.ix[i, method] = impVol.bsmBisectionVol()                                                                     \n",
    "                                                                                                                                \n",
    "        elif method == 'newton':                                                                                                \n",
    "            dfCopy.ix[i, method] = impVol.bsmNewtonVol()                                                                        \n",
    "                                                                                                                                \n",
    "        elif method == 'mullerBisection':                                                                                       \n",
    "            dfCopy.ix[i, method] = impVol.bsmMullerBisectionVol()                                                               \n",
    "                                                                                                                                \n",
    "        elif method == 'halley':                                                                                                \n",
    "            dfCopy.ix[i, method] = impVol.bsmHalley()                                                                           \n",
    "                                                                                                                                \n",
    "        elif method == 'new_newton':                                                                                            \n",
    "            impVol.bsmMullerBisectionInitial()                                                                                  \n",
    "            dfCopy.ix[i, method] = impVol.bsmNewtonVol()                                                                        \n",
    "                                                                                                                                \n",
    "        elif method == 'new_halley':                                                                                            \n",
    "            impVol.bsmMullerBisectionInitial()                                                                                  \n",
    "            dfCopy.ix[i, method] = impVol.bsmHalley()                                                                           \n",
    "                                                                                                                                \n",
    "    dfCopy.loc[:, 'Difference'] = -np.log(np.fabs(dfCopy.IV - dfCopy.ix[:, method]))                        \n",
    "                                                                                                                                \n",
    "    accuracy = dfCopy.Difference.mean()                                                                                         \n",
    "    duration = datetime.datetime.now() - time_start                                                                             \n",
    "                                                                                                                                \n",
    "    return accuracy, duration                                                                                                   \n",
    "                                                                                                                                \n",
    "                                                                                                                                \n",
    "data = pd.read_csv('europeanOptions.csv')                                                                                       \n",
    "data = data.loc[:, ['cDate', 'ExpDate', 'StrikePrice', 'Ticker', 'Type', 'Last', 'IV', 'StockPrice', 'T']]                      \n",
    "                                                                                                                                \n",
    "testMethods = ['bisection', 'mullerBisection', 'newton', 'halley', 'new_newton', 'new_halley']                                  \n",
    "testSigma = [0.1, 0.3, 0.5, 0.7, 1]                                                                                             \n",
    "result = pd.DataFrame(index=testMethods, columns=['Accuracy', 'Time(hh:mm:ss)'])                                                \n",
    "resultDic = {}                                                                                                                  \n",
    "                                                                                                                                \n",
    "                                                                                                                                \n",
    "for sigma in testSigma:                                                                                                         \n",
    "    for method in testMethods:                                                                                                  \n",
    "        result.loc[method, :] = performance(data, method, sigma0=sigma)                                                         \n",
    "                                                                                                                                \n",
    "    resultDic[sigma] = result                                                                                                   \n",
    "    print('This is the test result for initial point sigma {}:\\n{}\\n\\n'.format(sigma, result))"
   ]
  }
 ],
 "metadata": {
  "kernelspec": {
   "display_name": "Python 2",
   "language": "python",
   "name": "python2"
  },
  "language_info": {
   "codemirror_mode": {
    "name": "ipython",
    "version": 2.0
   },
   "file_extension": ".py",
   "mimetype": "text/x-python",
   "name": "python",
   "nbconvert_exporter": "python",
   "pygments_lexer": "ipython2",
   "version": "2.7.6"
  }
 },
 "nbformat": 4,
 "nbformat_minor": 0
}