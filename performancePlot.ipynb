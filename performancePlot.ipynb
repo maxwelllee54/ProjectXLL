{
 "cells": [
  {
   "cell_type": "code",
   "execution_count": 1,
   "metadata": {
    "collapsed": true
   },
   "outputs": [
    {
     "name": "stdout",
     "output_type": "stream",
     "text": [
      "This is the test result for initial point sigma 0.1:\n                  Accuracy  Time(hh:mm:ss)\nbisection          3.99595  0:00:21.091301\nmullerBisection    3.99246  0:00:21.834244\nnewton             3.85335  0:15:37.149187\nhalley           0.0126243  0:00:38.580257\nnew_newton         4.03708  0:00:39.375585\nnew_halley         3.95494  0:00:21.692258\n\n\n"
     ]
    },
    {
     "name": "stdout",
     "output_type": "stream",
     "text": [
      "This is the test result for initial point sigma 0.3:\n                Accuracy  Time(hh:mm:ss)\nbisection        3.99595  0:00:20.593348\nmullerBisection  3.99246  0:00:21.671891\nnewton           4.01074  0:01:57.230624\nhalley           3.68253  0:00:21.559519\nnew_newton       4.03708  0:00:39.530243\nnew_halley       3.95494  0:00:21.596327\n\n\n"
     ]
    },
    {
     "name": "stdout",
     "output_type": "stream",
     "text": [
      "This is the test result for initial point sigma 0.5:\n                Accuracy  Time(hh:mm:ss)\nbisection        3.99595  0:00:20.003411\nmullerBisection  3.99246  0:00:21.671793\nnewton           4.03019  0:00:35.345667\nhalley           3.72324  0:00:14.161432\nnew_newton       4.03708  0:00:39.362093\nnew_halley       3.95494  0:00:21.537102\n\n\n"
     ]
    },
    {
     "name": "stdout",
     "output_type": "stream",
     "text": [
      "This is the test result for initial point sigma 0.7:\n                Accuracy  Time(hh:mm:ss)\nbisection        3.99595  0:00:20.069090\nmullerBisection  3.99246  0:00:21.640811\nnewton           4.03589  0:00:26.221396\nhalley           3.49094  0:00:52.370810\nnew_newton       4.03708  0:00:39.728422\nnew_halley       3.95494  0:00:21.696220\n\n\n"
     ]
    },
    {
     "name": "stdout",
     "output_type": "stream",
     "text": [
      "This is the test result for initial point sigma 1:\n                Accuracy  Time(hh:mm:ss)\nbisection        3.99595  0:00:20.178249\nmullerBisection  3.99246  0:00:21.844139\nnewton            4.0434  0:00:33.748404\nhalley           3.24607  0:00:21.751491\nnew_newton       4.03708  0:00:39.371573\nnew_halley       3.95494  0:00:21.432394\n\n\n"
     ]
    }
   ],
   "source": [
    "from ImpliedVolatility import ImpliedVolatility                                                                                 \n",
    "import pandas as pd                                                                                                             \n",
    "import numpy as np                                                                                                              \n",
    "import datetime                                                                                                                 \n",
    "                                                                                                                                \n",
    "                                                                                                                                \n",
    "def performance(df, method, r = 0.05, sigma0 = 0.5):                                                                            \n",
    "    time_start = datetime.datetime.now()                                                                                        \n",
    "    dfCopy = df.copy()                                                                                                          \n",
    "                                                                                                                                \n",
    "    for i in df.index:                                                                                                          \n",
    "        impVol = ImpliedVolatility(df.ix[i, 'StockPrice'], df.ix[i, 'StrikePrice'], df.ix[i, 'T'], r, sigma0,                   \n",
    "                                   df.ix[i, 'Last'], df.ix[i, 'Type'])                                                          \n",
    "                                                                                                                                \n",
    "        if method == 'bisection':                                                                                               \n",
    "            dfCopy.ix[i, method] = impVol.bsmBisectionVol()                                                                     \n",
    "                                                                                                                                \n",
    "        elif method == 'newton':                                                                                                \n",
    "            dfCopy.ix[i, method] = impVol.bsmNewtonVol()                                                                        \n",
    "                                                                                                                                \n",
    "        elif method == 'mullerBisection':                                                                                       \n",
    "            dfCopy.ix[i, method] = impVol.bsmMullerBisectionVol()                                                               \n",
    "                                                                                                                                \n",
    "        elif method == 'halley':                                                                                                \n",
    "            dfCopy.ix[i, method] = impVol.bsmHalley()                                                                           \n",
    "                                                                                                                                \n",
    "        elif method == 'new_newton':                                                                                            \n",
    "            impVol.bsmMullerBisectionInitial()                                                                                  \n",
    "            dfCopy.ix[i, method] = impVol.bsmNewtonVol()                                                                        \n",
    "                                                                                                                                \n",
    "        elif method == 'new_halley':                                                                                            \n",
    "            impVol.bsmMullerBisectionInitial()                                                                                  \n",
    "            dfCopy.ix[i, method] = impVol.bsmHalley()                                                                           \n",
    "                                                                                                                                \n",
    "    dfCopy.loc[:, 'Difference'] = -np.log(np.fabs(dfCopy.IV - dfCopy.ix[:, method]))                        \n",
    "                                                                                                                                \n",
    "    accuracy = dfCopy.Difference.mean()                                                                                         \n",
    "    duration = datetime.datetime.now() - time_start                                                                             \n",
    "                                                                                                                                \n",
    "    return accuracy, duration                                                                                                   \n",
    "                                                                                                                                \n",
    "                                                                                                                                \n",
    "data = pd.read_csv('europeanOptions.csv')                                                                                       \n",
    "data = data.loc[:, ['cDate', 'ExpDate', 'StrikePrice', 'Ticker', 'Type', 'Last', 'IV', 'StockPrice', 'T']]                      \n",
    "                                                                                                                                \n",
    "testMethods = ['bisection', 'mullerBisection', 'newton', 'halley', 'new_newton', 'new_halley']                                  \n",
    "testSigma = [0.1, 0.3, 0.5, 0.7, 1]                                                                                             \n",
    "result = pd.DataFrame(index=testMethods, columns=['Accuracy', 'Time(hh:mm:ss)'])                                                \n",
    "resultDic = {}                                                                                                                  \n",
    "                                                                                                                                \n",
    "                                                                                                                                \n",
    "for sigma in testSigma:                                                                                                         \n",
    "    for method in testMethods:                                                                                                  \n",
    "        result.loc[method, :] = performance(data, method, sigma0=sigma)                                                         \n",
    "                                                                                                                                \n",
    "    resultDic[sigma] = result                                                                                                   \n",
    "    print('This is the test result for initial point sigma {}:\\n{}\\n\\n'.format(sigma, result))"
   ]
  },
  {
   "cell_type": "code",
   "execution_count": 16,
   "metadata": {},
   "outputs": [],
   "source": [
    "for i in resultDic:\n",
    "    for ind in resultDic[i].index:\n",
    "        resultDic[i].loc[ind, 'Seconds'] = resultDic[i].loc[ind, 'Time(hh:mm:ss)'].seconds"
   ]
  },
  {
   "cell_type": "code",
   "execution_count": 28,
   "metadata": {},
   "outputs": [
    {
     "name": "stdout",
     "output_type": "stream",
     "text": [
      "Using matplotlib backend: MacOSX\n"
     ]
    }
   ],
   "source": [
    "%matplotlib \n",
    "for i in resultDic:\n",
    "    resultDic[i].plot(kind='hist', subplots=True)"
   ]
  },
  {
   "cell_type": "code",
   "execution_count": 28,
   "metadata": {},
   "outputs": [],
   "source": [
    ""
   ]
  },
  {
   "cell_type": "code",
   "execution_count": null,
   "metadata": {},
   "outputs": [],
   "source": [
    ""
   ]
  }
 ],
 "metadata": {
  "kernelspec": {
   "display_name": "Python 2",
   "language": "python",
   "name": "python2"
  },
  "language_info": {
   "codemirror_mode": {
    "name": "ipython",
    "version": 2.0
   },
   "file_extension": ".py",
   "mimetype": "text/x-python",
   "name": "python",
   "nbconvert_exporter": "python",
   "pygments_lexer": "ipython2",
   "version": "2.7.6"
  }
 },
 "nbformat": 4,
 "nbformat_minor": 0
}