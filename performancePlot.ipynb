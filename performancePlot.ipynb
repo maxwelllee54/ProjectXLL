{
 "cells": [
  {
   "cell_type": "code",
   "execution_count": 10,
   "metadata": {
    "collapsed": true
   },
   "outputs": [],
   "source": [
    "from ImpliedVolatility import ImpliedVolatility                                                                                 \n",
    "import pandas as pd                                                                                                             \n",
    "import numpy as np                                                                                                              \n",
    "import datetime                                                                                                                 \n",
    "                                                                                                                                \n",
    "def performance(df, method, r = 0.05, sigma0 = 0.5, initialIter = 1):                                                                            \n",
    "    time_start = datetime.datetime.now()                                                                                        \n",
    "    dfCopy = df.copy()                                                                                                          \n",
    "                                                                                                                                \n",
    "    for i in df.index:                                                                                                          \n",
    "        impVol = ImpliedVolatility(df.ix[i, 'StockPrice'], df.ix[i, 'StrikePrice'], df.ix[i, 'T'], r, sigma0,                   \n",
    "                                   df.ix[i, 'Last'], df.ix[i, 'Type'])                                                          \n",
    "                                                                                                                                \n",
    "        if method == 'bisection':                                                                                               \n",
    "            dfCopy.ix[i, method] = impVol.bsmBisectionVol()                                                                     \n",
    "                                                                                                                                \n",
    "        elif method == 'newton':                                                                                                \n",
    "            dfCopy.ix[i, method] = impVol.bsmNewtonVol()                                                                        \n",
    "                                                                                                                                \n",
    "        elif method == 'mullerBisection':                                                                                       \n",
    "            dfCopy.ix[i, method] = impVol.bsmMullerBisectionVol()                                                               \n",
    "                                                                                                                                \n",
    "        elif method == 'halley':                                                                                                \n",
    "            dfCopy.ix[i, method] = impVol.bsmHalley()                                                                           \n",
    "                                                                                                                                \n",
    "        elif method == 'new_newton':                                                                                            \n",
    "            impVol.bsmMullerBisectionInitial(initialIter=initialIter)                                                                                  \n",
    "            dfCopy.ix[i, method] = impVol.bsmNewtonVol()                                                                        \n",
    "                                                                                                                                \n",
    "        elif method == 'new_halley':                                                                                            \n",
    "            impVol.bsmMullerBisectionInitial(initialIter=initialIter)                                                                                  \n",
    "            dfCopy.ix[i, method] = impVol.bsmHalley()     \n",
    "        \n",
    "        elif method == 'brentq':    \n",
    "            dfCopy.ix[i, method] = impVol.bsmBrentq()\n",
    "        \n",
    "        elif method == 'brenth':   \n",
    "            dfCopy.ix[i, method] = impVol.bsmBrenth()\n",
    "        \n",
    "        elif method == 'ridder':  \n",
    "            dfCopy.ix[i, method] = impVol.bsmRidder()\n",
    "        \n",
    "        elif method == 'scipy_newton': \n",
    "            dfCopy.ix[i, method] = impVol.bsmScipyNewton()                                                                                                                                \n",
    "    \n",
    "    \n",
    "    dfCopy.loc[:, 'log_difference'] = -np.log(np.fabs(dfCopy.IV - dfCopy.ix[:, method])) \n",
    "    dfCopy.loc[:, 'MSE'] = np.power((dfCopy.IV - dfCopy.ix[:, method]), 2) \n",
    "                                                                                                                                \n",
    "    log_accuracy = dfCopy.log_difference.mean()  \n",
    "    mse = dfCopy.MSE.mean()\n",
    "    duration = datetime.datetime.now() - time_start\n",
    "    \n",
    "                                                                                                                                \n",
    "    return log_accuracy, mse, duration #datetime.time(hour=0, minute=0, second=duration.seconds, microsecond=duration.microseconds).strftime(\"%M:%S.%f\")[:-3]"
   ]
  },
  {
   "cell_type": "code",
   "execution_count": 8,
   "metadata": {
    "collapsed": true
   },
   "outputs": [
    {
     "data": {
      "text/html": [
       "<div>\n",
       "<table border=\"1\" class=\"dataframe\">\n",
       "  <thead>\n",
       "    <tr style=\"text-align: right;\">\n",
       "      <th></th>\n",
       "      <th>currentDate</th>\n",
       "      <th>ExpDate</th>\n",
       "      <th>StrikePrice</th>\n",
       "      <th>Ticker</th>\n",
       "      <th>Type</th>\n",
       "      <th>Last</th>\n",
       "      <th>IV</th>\n",
       "      <th>StockPrice</th>\n",
       "      <th>T</th>\n",
       "    </tr>\n",
       "  </thead>\n",
       "  <tbody>\n",
       "    <tr>\n",
       "      <th>0</th>\n",
       "      <td>2017-02-17</td>\n",
       "      <td>2017-03-17</td>\n",
       "      <td>22.5</td>\n",
       "      <td>ARR</td>\n",
       "      <td>Call</td>\n",
       "      <td>0.08</td>\n",
       "      <td>0.13956</td>\n",
       "      <td>21.709999</td>\n",
       "      <td>0.076660</td>\n",
       "    </tr>\n",
       "    <tr>\n",
       "      <th>1</th>\n",
       "      <td>2017-02-17</td>\n",
       "      <td>2017-03-17</td>\n",
       "      <td>20.0</td>\n",
       "      <td>ARR</td>\n",
       "      <td>Put</td>\n",
       "      <td>0.20</td>\n",
       "      <td>0.32783</td>\n",
       "      <td>21.709999</td>\n",
       "      <td>0.076660</td>\n",
       "    </tr>\n",
       "    <tr>\n",
       "      <th>2</th>\n",
       "      <td>2017-02-17</td>\n",
       "      <td>2017-04-21</td>\n",
       "      <td>21.0</td>\n",
       "      <td>ARR</td>\n",
       "      <td>Call</td>\n",
       "      <td>0.75</td>\n",
       "      <td>0.05176</td>\n",
       "      <td>21.709999</td>\n",
       "      <td>0.172485</td>\n",
       "    </tr>\n",
       "    <tr>\n",
       "      <th>3</th>\n",
       "      <td>2017-02-17</td>\n",
       "      <td>2017-04-21</td>\n",
       "      <td>22.0</td>\n",
       "      <td>ARR</td>\n",
       "      <td>Call</td>\n",
       "      <td>0.30</td>\n",
       "      <td>0.10719</td>\n",
       "      <td>21.709999</td>\n",
       "      <td>0.172485</td>\n",
       "    </tr>\n",
       "    <tr>\n",
       "      <th>4</th>\n",
       "      <td>2017-02-17</td>\n",
       "      <td>2017-03-17</td>\n",
       "      <td>180.0</td>\n",
       "      <td>MSG</td>\n",
       "      <td>Put</td>\n",
       "      <td>6.45</td>\n",
       "      <td>0.18380</td>\n",
       "      <td>175.300003</td>\n",
       "      <td>0.076660</td>\n",
       "    </tr>\n",
       "  </tbody>\n",
       "</table>\n",
       "</div>"
      ],
      "text/plain": [
       "<div>\n",
       "<table border=\"1\" class=\"dataframe\">\n",
       "  <thead>\n",
       "    <tr style=\"text-align: right;\">\n",
       "      <th></th>\n",
       "      <th>currentDate</th>\n",
       "      <th>ExpDate</th>\n",
       "      <th>StrikePrice</th>\n",
       "      <th>Ticker</th>\n",
       "      <th>Type</th>\n",
       "      <th>Last</th>\n",
       "      <th>IV</th>\n",
       "      <th>StockPrice</th>\n",
       "      <th>T</th>\n",
       "    </tr>\n",
       "  </thead>\n",
       "  <tbody>\n",
       "    <tr>\n",
       "      <th>0</th>\n",
       "      <td>2017-02-17</td>\n",
       "      <td>2017-03-17</td>\n",
       "      <td>22.5</td>\n",
       "      <td>ARR</td>\n",
       "      <td>Call</td>\n",
       "      <td>0.08</td>\n",
       "      <td>0.13956</td>\n",
       "      <td>21.709999</td>\n",
       "      <td>0.076660</td>\n",
       "    </tr>\n",
       "    <tr>\n",
       "      <th>1</th>\n",
       "      <td>2017-02-17</td>\n",
       "      <td>2017-03-17</td>\n",
       "      <td>20.0</td>\n",
       "      <td>ARR</td>\n",
       "      <td>Put</td>\n",
       "      <td>0.20</td>\n",
       "      <td>0.32783</td>\n",
       "      <td>21.709999</td>\n",
       "      <td>0.076660</td>\n",
       "    </tr>\n",
       "    <tr>\n",
       "      <th>2</th>\n",
       "      <td>2017-02-17</td>\n",
       "      <td>2017-04-21</td>\n",
       "      <td>21.0</td>\n",
       "      <td>ARR</td>\n",
       "      <td>Call</td>\n",
       "      <td>0.75</td>\n",
       "      <td>0.05176</td>\n",
       "      <td>21.709999</td>\n",
       "      <td>0.172485</td>\n",
       "    </tr>\n",
       "    <tr>\n",
       "      <th>3</th>\n",
       "      <td>2017-02-17</td>\n",
       "      <td>2017-04-21</td>\n",
       "      <td>22.0</td>\n",
       "      <td>ARR</td>\n",
       "      <td>Call</td>\n",
       "      <td>0.30</td>\n",
       "      <td>0.10719</td>\n",
       "      <td>21.709999</td>\n",
       "      <td>0.172485</td>\n",
       "    </tr>\n",
       "    <tr>\n",
       "      <th>4</th>\n",
       "      <td>2017-02-17</td>\n",
       "      <td>2017-03-17</td>\n",
       "      <td>180.0</td>\n",
       "      <td>MSG</td>\n",
       "      <td>Put</td>\n",
       "      <td>6.45</td>\n",
       "      <td>0.18380</td>\n",
       "      <td>175.300003</td>\n",
       "      <td>0.076660</td>\n",
       "    </tr>\n",
       "  </tbody>\n",
       "</table>\n",
       "</div>"
      ]
     },
     "execution_count": 8,
     "metadata": {},
     "output_type": "execute_result"
    }
   ],
   "source": [
    "data = pd.read_csv('europeanOptions_.01tol.csv')                                                                                       \n",
    "data = data.loc[:, ['currentDate', 'ExpDate', 'StrikePrice', 'Ticker', 'Type', 'Last', 'IV', 'StockPrice', 'T']]\n",
    "data.head()"
   ]
  },
  {
   "cell_type": "code",
   "execution_count": 11,
   "metadata": {
    "collapsed": true
   },
   "outputs": [
    {
     "name": "stderr",
     "output_type": "stream",
     "text": [
      "/Users/Maxwell/anaconda/lib/python3.5/site-packages/scipy/optimize/zeros.py:173: RuntimeWarning: Tolerance of -0.0021106292083 reached\n  warnings.warn(msg, RuntimeWarning)\n/Users/Maxwell/anaconda/lib/python3.5/site-packages/scipy/optimize/zeros.py:173: RuntimeWarning: Tolerance of 4834821.20006 reached\n  warnings.warn(msg, RuntimeWarning)\n"
     ]
    },
    {
     "name": "stderr",
     "output_type": "stream",
     "text": [
      "/Users/Maxwell/anaconda/lib/python3.5/site-packages/scipy/optimize/zeros.py:173: RuntimeWarning: Tolerance of 186100.226642 reached\n  warnings.warn(msg, RuntimeWarning)\n/Users/Maxwell/anaconda/lib/python3.5/site-packages/scipy/optimize/zeros.py:173: RuntimeWarning: Tolerance of 30471.9009936 reached\n  warnings.warn(msg, RuntimeWarning)\n/Users/Maxwell/anaconda/lib/python3.5/site-packages/scipy/optimize/zeros.py:173: RuntimeWarning: Tolerance of 8972692.35162 reached\n  warnings.warn(msg, RuntimeWarning)\n/Users/Maxwell/anaconda/lib/python3.5/site-packages/scipy/optimize/zeros.py:173: RuntimeWarning: Tolerance of -1896851.51349 reached\n  warnings.warn(msg, RuntimeWarning)\n/Users/Maxwell/anaconda/lib/python3.5/site-packages/scipy/optimize/zeros.py:173: RuntimeWarning: Tolerance of -0.00332953061931 reached\n  warnings.warn(msg, RuntimeWarning)\n"
     ]
    },
    {
     "name": "stderr",
     "output_type": "stream",
     "text": [
      "/Users/Maxwell/anaconda/lib/python3.5/site-packages/scipy/optimize/zeros.py:173: RuntimeWarning: Tolerance of -975.944463839 reached\n  warnings.warn(msg, RuntimeWarning)\n"
     ]
    },
    {
     "name": "stderr",
     "output_type": "stream",
     "text": [
      "/Users/Maxwell/anaconda/lib/python3.5/site-packages/scipy/optimize/zeros.py:173: RuntimeWarning: Tolerance of -816096.967203 reached\n  warnings.warn(msg, RuntimeWarning)\n/Users/Maxwell/anaconda/lib/python3.5/site-packages/scipy/optimize/zeros.py:173: RuntimeWarning: Tolerance of 214.978948571 reached\n  warnings.warn(msg, RuntimeWarning)\n/Users/Maxwell/anaconda/lib/python3.5/site-packages/scipy/optimize/zeros.py:173: RuntimeWarning: Tolerance of 6777108.04707 reached\n  warnings.warn(msg, RuntimeWarning)\n/Users/Maxwell/anaconda/lib/python3.5/site-packages/scipy/optimize/zeros.py:173: RuntimeWarning: Tolerance of 23953711.0806 reached\n  warnings.warn(msg, RuntimeWarning)\n/Users/Maxwell/anaconda/lib/python3.5/site-packages/scipy/optimize/zeros.py:173: RuntimeWarning: Tolerance of -0.00753559953767 reached\n  warnings.warn(msg, RuntimeWarning)\n/Users/Maxwell/anaconda/lib/python3.5/site-packages/scipy/optimize/zeros.py:173: RuntimeWarning: Tolerance of 150176548.982 reached\n  warnings.warn(msg, RuntimeWarning)\n/Users/Maxwell/anaconda/lib/python3.5/site-packages/scipy/optimize/zeros.py:173: RuntimeWarning: Tolerance of 73693570476.2 reached\n  warnings.warn(msg, RuntimeWarning)\n/Users/Maxwell/anaconda/lib/python3.5/site-packages/scipy/optimize/zeros.py:173: RuntimeWarning: Tolerance of 594777.592865 reached\n  warnings.warn(msg, RuntimeWarning)\n/Users/Maxwell/anaconda/lib/python3.5/site-packages/scipy/optimize/zeros.py:173: RuntimeWarning: Tolerance of -2.24467018992e-05 reached\n  warnings.warn(msg, RuntimeWarning)\n/Users/Maxwell/anaconda/lib/python3.5/site-packages/scipy/optimize/zeros.py:173: RuntimeWarning: Tolerance of 7444273422.21 reached\n  warnings.warn(msg, RuntimeWarning)\n/Users/Maxwell/anaconda/lib/python3.5/site-packages/scipy/optimize/zeros.py:173: RuntimeWarning: Tolerance of -578055999.569 reached\n  warnings.warn(msg, RuntimeWarning)\n/Users/Maxwell/anaconda/lib/python3.5/site-packages/scipy/optimize/zeros.py:173: RuntimeWarning: Tolerance of 837.32687762 reached\n  warnings.warn(msg, RuntimeWarning)\n"
     ]
    },
    {
     "name": "stderr",
     "output_type": "stream",
     "text": [
      "/Users/Maxwell/anaconda/lib/python3.5/site-packages/scipy/optimize/zeros.py:173: RuntimeWarning: Tolerance of -0.00189988674422 reached\n  warnings.warn(msg, RuntimeWarning)\n/Users/Maxwell/anaconda/lib/python3.5/site-packages/scipy/optimize/zeros.py:173: RuntimeWarning: Tolerance of 3412135.69556 reached\n  warnings.warn(msg, RuntimeWarning)\n/Users/Maxwell/anaconda/lib/python3.5/site-packages/scipy/optimize/zeros.py:173: RuntimeWarning: Tolerance of -0.00751754669395 reached\n  warnings.warn(msg, RuntimeWarning)\n/Users/Maxwell/anaconda/lib/python3.5/site-packages/scipy/optimize/zeros.py:173: RuntimeWarning: Tolerance of -0.0020715319247 reached\n  warnings.warn(msg, RuntimeWarning)\n"
     ]
    },
    {
     "name": "stderr",
     "output_type": "stream",
     "text": [
      "/Users/Maxwell/anaconda/lib/python3.5/site-packages/scipy/optimize/zeros.py:173: RuntimeWarning: Tolerance of 4180508932.21 reached\n  warnings.warn(msg, RuntimeWarning)\n/Users/Maxwell/anaconda/lib/python3.5/site-packages/scipy/optimize/zeros.py:173: RuntimeWarning: Tolerance of -0.00893525336774 reached\n  warnings.warn(msg, RuntimeWarning)\n"
     ]
    },
    {
     "name": "stderr",
     "output_type": "stream",
     "text": [
      "/Users/Maxwell/anaconda/lib/python3.5/site-packages/scipy/optimize/zeros.py:173: RuntimeWarning: Tolerance of -3826.58844013 reached\n  warnings.warn(msg, RuntimeWarning)\n/Users/Maxwell/anaconda/lib/python3.5/site-packages/scipy/optimize/zeros.py:173: RuntimeWarning: Tolerance of -0.000535756816249 reached\n  warnings.warn(msg, RuntimeWarning)\n/Users/Maxwell/anaconda/lib/python3.5/site-packages/scipy/optimize/zeros.py:173: RuntimeWarning: Tolerance of -5211338572.83 reached\n  warnings.warn(msg, RuntimeWarning)\n"
     ]
    },
    {
     "name": "stderr",
     "output_type": "stream",
     "text": [
      "/Users/Maxwell/anaconda/lib/python3.5/site-packages/scipy/optimize/zeros.py:173: RuntimeWarning: Tolerance of -0.000179087484186 reached\n  warnings.warn(msg, RuntimeWarning)\n/Users/Maxwell/anaconda/lib/python3.5/site-packages/scipy/optimize/zeros.py:173: RuntimeWarning: Tolerance of -0.000705508815798 reached\n  warnings.warn(msg, RuntimeWarning)\n/Users/Maxwell/anaconda/lib/python3.5/site-packages/scipy/optimize/zeros.py:173: RuntimeWarning: Tolerance of 849.021896213 reached\n  warnings.warn(msg, RuntimeWarning)\n/Users/Maxwell/anaconda/lib/python3.5/site-packages/scipy/optimize/zeros.py:173: RuntimeWarning: Tolerance of -0.00876186237435 reached\n  warnings.warn(msg, RuntimeWarning)\n/Users/Maxwell/anaconda/lib/python3.5/site-packages/scipy/optimize/zeros.py:173: RuntimeWarning: Tolerance of 89606367.3 reached\n  warnings.warn(msg, RuntimeWarning)\n/Users/Maxwell/anaconda/lib/python3.5/site-packages/scipy/optimize/zeros.py:173: RuntimeWarning: Tolerance of -0.02205268116 reached\n  warnings.warn(msg, RuntimeWarning)\n/Users/Maxwell/anaconda/lib/python3.5/site-packages/scipy/optimize/zeros.py:173: RuntimeWarning: Tolerance of -0.00145751857788 reached\n  warnings.warn(msg, RuntimeWarning)\n"
     ]
    },
    {
     "name": "stderr",
     "output_type": "stream",
     "text": [
      "/Users/Maxwell/anaconda/lib/python3.5/site-packages/scipy/optimize/zeros.py:173: RuntimeWarning: Tolerance of 4700.68407643 reached\n  warnings.warn(msg, RuntimeWarning)\n/Users/Maxwell/anaconda/lib/python3.5/site-packages/scipy/optimize/zeros.py:173: RuntimeWarning: Tolerance of -0.000405816461249 reached\n  warnings.warn(msg, RuntimeWarning)\n"
     ]
    },
    {
     "name": "stderr",
     "output_type": "stream",
     "text": [
      "/Users/Maxwell/anaconda/lib/python3.5/site-packages/scipy/optimize/zeros.py:173: RuntimeWarning: Tolerance of 38953.3908495 reached\n  warnings.warn(msg, RuntimeWarning)\n/Users/Maxwell/anaconda/lib/python3.5/site-packages/scipy/optimize/zeros.py:173: RuntimeWarning: Tolerance of -0.00175647602925 reached\n  warnings.warn(msg, RuntimeWarning)\n"
     ]
    },
    {
     "name": "stdout",
     "output_type": "stream",
     "text": [
      "This is the test result for initial point sigma 0.30, initial iteration 1 times:\n                log_accuracy           MSE  Time(hh:mm:ss)\nbrentq               4.30646    0.00100102  0:00:04.933965\nbrenth               4.30646    0.00100102  0:00:04.728438\nridder               4.30646    0.00100102  0:00:06.583211\nscipy_newton         4.14998   5.85325e+17  0:00:02.714752\nbisection            4.23352       1.61306  0:00:21.710789\nmullerBisection      4.23223       1.61304  0:00:22.911845\nnewton               4.07488  5.82465e+198  0:00:03.470157\nhalley               4.22647     0.0008426  0:00:01.918691\nnew_newton          -14.3382           inf  0:19:02.380316\nnew_halley           -8.8698           inf  0:05:51.802205\n\n\n"
     ]
    },
    {
     "name": "stderr",
     "output_type": "stream",
     "text": [
      "/Users/Maxwell/anaconda/lib/python3.5/site-packages/scipy/optimize/zeros.py:173: RuntimeWarning: Tolerance of 15043.8384811 reached\n  warnings.warn(msg, RuntimeWarning)\n/Users/Maxwell/anaconda/lib/python3.5/site-packages/scipy/optimize/zeros.py:173: RuntimeWarning: Tolerance of -8.78325982217e-06 reached\n  warnings.warn(msg, RuntimeWarning)\n"
     ]
    },
    {
     "name": "stderr",
     "output_type": "stream",
     "text": [
      "/Users/Maxwell/anaconda/lib/python3.5/site-packages/scipy/optimize/zeros.py:173: RuntimeWarning: Tolerance of 1033715.52342 reached\n  warnings.warn(msg, RuntimeWarning)\n/Users/Maxwell/anaconda/lib/python3.5/site-packages/scipy/optimize/zeros.py:173: RuntimeWarning: Tolerance of -0.00268544053288 reached\n  warnings.warn(msg, RuntimeWarning)\n/Users/Maxwell/anaconda/lib/python3.5/site-packages/scipy/optimize/zeros.py:173: RuntimeWarning: Tolerance of -0.0208351200224 reached\n  warnings.warn(msg, RuntimeWarning)\n/Users/Maxwell/anaconda/lib/python3.5/site-packages/scipy/optimize/zeros.py:173: RuntimeWarning: Tolerance of -0.00275563653178 reached\n  warnings.warn(msg, RuntimeWarning)\n/Users/Maxwell/anaconda/lib/python3.5/site-packages/scipy/optimize/zeros.py:173: RuntimeWarning: Tolerance of -0.00223129576011 reached\n  warnings.warn(msg, RuntimeWarning)\n"
     ]
    },
    {
     "name": "stderr",
     "output_type": "stream",
     "text": [
      "/Users/Maxwell/anaconda/lib/python3.5/site-packages/scipy/optimize/zeros.py:173: RuntimeWarning: Tolerance of 4114267385.28 reached\n  warnings.warn(msg, RuntimeWarning)\n"
     ]
    },
    {
     "name": "stderr",
     "output_type": "stream",
     "text": [
      "/Users/Maxwell/anaconda/lib/python3.5/site-packages/scipy/optimize/zeros.py:173: RuntimeWarning: Tolerance of 11310548238.9 reached\n  warnings.warn(msg, RuntimeWarning)\n/Users/Maxwell/anaconda/lib/python3.5/site-packages/scipy/optimize/zeros.py:173: RuntimeWarning: Tolerance of 3628540284.67 reached\n  warnings.warn(msg, RuntimeWarning)\n/Users/Maxwell/anaconda/lib/python3.5/site-packages/scipy/optimize/zeros.py:173: RuntimeWarning: Tolerance of 270.084656506 reached\n  warnings.warn(msg, RuntimeWarning)\n/Users/Maxwell/anaconda/lib/python3.5/site-packages/scipy/optimize/zeros.py:173: RuntimeWarning: Tolerance of -49679765170.8 reached\n  warnings.warn(msg, RuntimeWarning)\n/Users/Maxwell/anaconda/lib/python3.5/site-packages/scipy/optimize/zeros.py:173: RuntimeWarning: Tolerance of -0.00746502637511 reached\n  warnings.warn(msg, RuntimeWarning)\n/Users/Maxwell/anaconda/lib/python3.5/site-packages/scipy/optimize/zeros.py:173: RuntimeWarning: Tolerance of 68246.8210848 reached\n  warnings.warn(msg, RuntimeWarning)\n/Users/Maxwell/anaconda/lib/python3.5/site-packages/scipy/optimize/zeros.py:173: RuntimeWarning: Tolerance of 3959771826.77 reached\n  warnings.warn(msg, RuntimeWarning)\n/Users/Maxwell/anaconda/lib/python3.5/site-packages/scipy/optimize/zeros.py:173: RuntimeWarning: Tolerance of 42989110552.0 reached\n  warnings.warn(msg, RuntimeWarning)\n/Users/Maxwell/anaconda/lib/python3.5/site-packages/scipy/optimize/zeros.py:173: RuntimeWarning: Tolerance of -0.00938438357576 reached\n  warnings.warn(msg, RuntimeWarning)\n/Users/Maxwell/anaconda/lib/python3.5/site-packages/scipy/optimize/zeros.py:173: RuntimeWarning: Tolerance of 331455444841.0 reached\n  warnings.warn(msg, RuntimeWarning)\n/Users/Maxwell/anaconda/lib/python3.5/site-packages/scipy/optimize/zeros.py:173: RuntimeWarning: Tolerance of 21013150.655 reached\n  warnings.warn(msg, RuntimeWarning)\n"
     ]
    },
    {
     "name": "stderr",
     "output_type": "stream",
     "text": [
      "/Users/Maxwell/anaconda/lib/python3.5/site-packages/scipy/optimize/zeros.py:173: RuntimeWarning: Tolerance of -24.142184356 reached\n  warnings.warn(msg, RuntimeWarning)\n/Users/Maxwell/anaconda/lib/python3.5/site-packages/scipy/optimize/zeros.py:173: RuntimeWarning: Tolerance of -0.00202309679337 reached\n  warnings.warn(msg, RuntimeWarning)\n"
     ]
    },
    {
     "name": "stderr",
     "output_type": "stream",
     "text": [
      "/Users/Maxwell/anaconda/lib/python3.5/site-packages/scipy/optimize/zeros.py:173: RuntimeWarning: Tolerance of -0.00711104531125 reached\n  warnings.warn(msg, RuntimeWarning)\n/Users/Maxwell/anaconda/lib/python3.5/site-packages/scipy/optimize/zeros.py:173: RuntimeWarning: Tolerance of 86938239.0001 reached\n  warnings.warn(msg, RuntimeWarning)\n/Users/Maxwell/anaconda/lib/python3.5/site-packages/scipy/optimize/zeros.py:173: RuntimeWarning: Tolerance of 5421954357.71 reached\n  warnings.warn(msg, RuntimeWarning)\n/Users/Maxwell/anaconda/lib/python3.5/site-packages/scipy/optimize/zeros.py:173: RuntimeWarning: Tolerance of -0.00753228669711 reached\n  warnings.warn(msg, RuntimeWarning)\n"
     ]
    },
    {
     "name": "stderr",
     "output_type": "stream",
     "text": [
      "/Users/Maxwell/anaconda/lib/python3.5/site-packages/scipy/optimize/zeros.py:173: RuntimeWarning: Tolerance of 46205090454.1 reached\n  warnings.warn(msg, RuntimeWarning)\n/Users/Maxwell/anaconda/lib/python3.5/site-packages/scipy/optimize/zeros.py:173: RuntimeWarning: Tolerance of -0.00127470323177 reached\n  warnings.warn(msg, RuntimeWarning)\n"
     ]
    },
    {
     "name": "stderr",
     "output_type": "stream",
     "text": [
      "/Users/Maxwell/anaconda/lib/python3.5/site-packages/scipy/optimize/zeros.py:173: RuntimeWarning: Tolerance of -0.00254041047777 reached\n  warnings.warn(msg, RuntimeWarning)\n/Users/Maxwell/anaconda/lib/python3.5/site-packages/scipy/optimize/zeros.py:173: RuntimeWarning: Tolerance of 3931729.1344 reached\n  warnings.warn(msg, RuntimeWarning)\n/Users/Maxwell/anaconda/lib/python3.5/site-packages/scipy/optimize/zeros.py:173: RuntimeWarning: Tolerance of 4458303.43782 reached\n  warnings.warn(msg, RuntimeWarning)\n"
     ]
    },
    {
     "name": "stderr",
     "output_type": "stream",
     "text": [
      "/Users/Maxwell/anaconda/lib/python3.5/site-packages/scipy/optimize/zeros.py:173: RuntimeWarning: Tolerance of -0.0010870837415 reached\n  warnings.warn(msg, RuntimeWarning)\n/Users/Maxwell/anaconda/lib/python3.5/site-packages/scipy/optimize/zeros.py:173: RuntimeWarning: Tolerance of -0.00632166552186 reached\n  warnings.warn(msg, RuntimeWarning)\n/Users/Maxwell/anaconda/lib/python3.5/site-packages/scipy/optimize/zeros.py:173: RuntimeWarning: Tolerance of 326214062.693 reached\n  warnings.warn(msg, RuntimeWarning)\n/Users/Maxwell/anaconda/lib/python3.5/site-packages/scipy/optimize/zeros.py:173: RuntimeWarning: Tolerance of -825.488457018 reached\n  warnings.warn(msg, RuntimeWarning)\n/Users/Maxwell/anaconda/lib/python3.5/site-packages/scipy/optimize/zeros.py:173: RuntimeWarning: Tolerance of -0.000608010431399 reached\n  warnings.warn(msg, RuntimeWarning)\n/Users/Maxwell/anaconda/lib/python3.5/site-packages/scipy/optimize/zeros.py:173: RuntimeWarning: Tolerance of -2.63222694914e+13 reached\n  warnings.warn(msg, RuntimeWarning)\n/Users/Maxwell/anaconda/lib/python3.5/site-packages/scipy/optimize/zeros.py:173: RuntimeWarning: Tolerance of -0.00189289120861 reached\n  warnings.warn(msg, RuntimeWarning)\n"
     ]
    },
    {
     "name": "stderr",
     "output_type": "stream",
     "text": [
      "/Users/Maxwell/anaconda/lib/python3.5/site-packages/scipy/optimize/zeros.py:173: RuntimeWarning: Tolerance of -29.3154703893 reached\n  warnings.warn(msg, RuntimeWarning)\n/Users/Maxwell/anaconda/lib/python3.5/site-packages/scipy/optimize/zeros.py:173: RuntimeWarning: Tolerance of 33118395.1684 reached\n  warnings.warn(msg, RuntimeWarning)\n"
     ]
    },
    {
     "name": "stderr",
     "output_type": "stream",
     "text": [
      "/Users/Maxwell/anaconda/lib/python3.5/site-packages/scipy/optimize/zeros.py:173: RuntimeWarning: Tolerance of 4214649.48987 reached\n  warnings.warn(msg, RuntimeWarning)\n/Users/Maxwell/anaconda/lib/python3.5/site-packages/scipy/optimize/zeros.py:173: RuntimeWarning: Tolerance of 13804607835.3 reached\n  warnings.warn(msg, RuntimeWarning)\n"
     ]
    },
    {
     "name": "stdout",
     "output_type": "stream",
     "text": [
      "This is the test result for initial point sigma 0.50, initial iteration 1 times:\n                log_accuracy           MSE  Time(hh:mm:ss)\nbrentq               4.30646    0.00100102  0:00:04.731362\nbrenth               4.30646    0.00100102  0:00:04.703053\nridder               4.30646    0.00100102  0:00:06.529668\nscipy_newton         4.11276   7.04273e+23  0:00:02.793572\nbisection            4.23352       1.61306  0:00:21.578024\nmullerBisection      4.23223       1.61304  0:00:22.806896\nnewton               4.11989  5.81717e+111  0:00:05.621832\nhalley               3.93286    0.00104206  0:00:01.891630\nnew_newton          -14.3382           inf  0:18:50.724173\nnew_halley           -8.8698           inf  0:05:50.458620\n\n\n"
     ]
    },
    {
     "name": "stderr",
     "output_type": "stream",
     "text": [
      "/Users/Maxwell/anaconda/lib/python3.5/site-packages/scipy/optimize/zeros.py:173: RuntimeWarning: Tolerance of -382.389525425 reached\n  warnings.warn(msg, RuntimeWarning)\n/Users/Maxwell/anaconda/lib/python3.5/site-packages/scipy/optimize/zeros.py:173: RuntimeWarning: Tolerance of -0.00152581934372 reached\n  warnings.warn(msg, RuntimeWarning)\n"
     ]
    },
    {
     "name": "stderr",
     "output_type": "stream",
     "text": [
      "/Users/Maxwell/anaconda/lib/python3.5/site-packages/scipy/optimize/zeros.py:173: RuntimeWarning: Tolerance of -6136761.33464 reached\n  warnings.warn(msg, RuntimeWarning)\n/Users/Maxwell/anaconda/lib/python3.5/site-packages/scipy/optimize/zeros.py:173: RuntimeWarning: Tolerance of -3.13025982498e-05 reached\n  warnings.warn(msg, RuntimeWarning)\n/Users/Maxwell/anaconda/lib/python3.5/site-packages/scipy/optimize/zeros.py:173: RuntimeWarning: Tolerance of -0.00927964191539 reached\n  warnings.warn(msg, RuntimeWarning)\n/Users/Maxwell/anaconda/lib/python3.5/site-packages/scipy/optimize/zeros.py:173: RuntimeWarning: Tolerance of -0.00251498453844 reached\n  warnings.warn(msg, RuntimeWarning)\n/Users/Maxwell/anaconda/lib/python3.5/site-packages/scipy/optimize/zeros.py:173: RuntimeWarning: Tolerance of 186024.521259 reached\n  warnings.warn(msg, RuntimeWarning)\n"
     ]
    },
    {
     "name": "stderr",
     "output_type": "stream",
     "text": [
      "/Users/Maxwell/anaconda/lib/python3.5/site-packages/scipy/optimize/zeros.py:173: RuntimeWarning: Tolerance of -7447.57137102 reached\n  warnings.warn(msg, RuntimeWarning)\n"
     ]
    },
    {
     "name": "stderr",
     "output_type": "stream",
     "text": [
      "/Users/Maxwell/anaconda/lib/python3.5/site-packages/scipy/optimize/zeros.py:173: RuntimeWarning: Tolerance of -2.32310937063e-06 reached\n  warnings.warn(msg, RuntimeWarning)\n/Users/Maxwell/anaconda/lib/python3.5/site-packages/scipy/optimize/zeros.py:173: RuntimeWarning: Tolerance of -100.337433189 reached\n  warnings.warn(msg, RuntimeWarning)\n/Users/Maxwell/anaconda/lib/python3.5/site-packages/scipy/optimize/zeros.py:173: RuntimeWarning: Tolerance of -0.00765624213372 reached\n  warnings.warn(msg, RuntimeWarning)\n/Users/Maxwell/anaconda/lib/python3.5/site-packages/scipy/optimize/zeros.py:173: RuntimeWarning: Tolerance of -0.000106972020724 reached\n  warnings.warn(msg, RuntimeWarning)\n/Users/Maxwell/anaconda/lib/python3.5/site-packages/scipy/optimize/zeros.py:173: RuntimeWarning: Tolerance of 359171.979179 reached\n  warnings.warn(msg, RuntimeWarning)\n/Users/Maxwell/anaconda/lib/python3.5/site-packages/scipy/optimize/zeros.py:173: RuntimeWarning: Tolerance of 286005.457133 reached\n  warnings.warn(msg, RuntimeWarning)\n/Users/Maxwell/anaconda/lib/python3.5/site-packages/scipy/optimize/zeros.py:173: RuntimeWarning: Tolerance of -0.000361374125148 reached\n  warnings.warn(msg, RuntimeWarning)\n/Users/Maxwell/anaconda/lib/python3.5/site-packages/scipy/optimize/zeros.py:173: RuntimeWarning: Tolerance of -0.000327180528215 reached\n  warnings.warn(msg, RuntimeWarning)\n/Users/Maxwell/anaconda/lib/python3.5/site-packages/scipy/optimize/zeros.py:173: RuntimeWarning: Tolerance of 4112537.57426 reached\n  warnings.warn(msg, RuntimeWarning)\n/Users/Maxwell/anaconda/lib/python3.5/site-packages/scipy/optimize/zeros.py:173: RuntimeWarning: Tolerance of -355.861938608 reached\n  warnings.warn(msg, RuntimeWarning)\n"
     ]
    },
    {
     "name": "stderr",
     "output_type": "stream",
     "text": [
      "/Users/Maxwell/anaconda/lib/python3.5/site-packages/scipy/optimize/zeros.py:173: RuntimeWarning: Tolerance of -3.82742520832e+13 reached\n  warnings.warn(msg, RuntimeWarning)\n/Users/Maxwell/anaconda/lib/python3.5/site-packages/scipy/optimize/zeros.py:173: RuntimeWarning: Tolerance of -0.0028158251272 reached\n  warnings.warn(msg, RuntimeWarning)\n"
     ]
    },
    {
     "name": "stderr",
     "output_type": "stream",
     "text": [
      "/Users/Maxwell/anaconda/lib/python3.5/site-packages/scipy/optimize/zeros.py:173: RuntimeWarning: Tolerance of -3.92152329385e-05 reached\n  warnings.warn(msg, RuntimeWarning)\n/Users/Maxwell/anaconda/lib/python3.5/site-packages/scipy/optimize/zeros.py:173: RuntimeWarning: Tolerance of 6098927.89509 reached\n  warnings.warn(msg, RuntimeWarning)\n/Users/Maxwell/anaconda/lib/python3.5/site-packages/scipy/optimize/zeros.py:173: RuntimeWarning: Tolerance of -0.00635557743559 reached\n  warnings.warn(msg, RuntimeWarning)\n"
     ]
    },
    {
     "name": "stderr",
     "output_type": "stream",
     "text": [
      "/Users/Maxwell/anaconda/lib/python3.5/site-packages/scipy/optimize/zeros.py:173: RuntimeWarning: Tolerance of 8045070.49444 reached\n  warnings.warn(msg, RuntimeWarning)\n/Users/Maxwell/anaconda/lib/python3.5/site-packages/scipy/optimize/zeros.py:173: RuntimeWarning: Tolerance of 137689468.996 reached\n  warnings.warn(msg, RuntimeWarning)\n"
     ]
    },
    {
     "name": "stderr",
     "output_type": "stream",
     "text": [
      "/Users/Maxwell/anaconda/lib/python3.5/site-packages/scipy/optimize/zeros.py:173: RuntimeWarning: Tolerance of 129992220.654 reached\n  warnings.warn(msg, RuntimeWarning)\n/Users/Maxwell/anaconda/lib/python3.5/site-packages/scipy/optimize/zeros.py:173: RuntimeWarning: Tolerance of -2.90194343394e+20 reached\n  warnings.warn(msg, RuntimeWarning)\n/Users/Maxwell/anaconda/lib/python3.5/site-packages/scipy/optimize/zeros.py:173: RuntimeWarning: Tolerance of 10496700.4482 reached\n  warnings.warn(msg, RuntimeWarning)\n"
     ]
    },
    {
     "name": "stderr",
     "output_type": "stream",
     "text": [
      "/Users/Maxwell/anaconda/lib/python3.5/site-packages/scipy/optimize/zeros.py:173: RuntimeWarning: Tolerance of 2424054853.21 reached\n  warnings.warn(msg, RuntimeWarning)\n/Users/Maxwell/anaconda/lib/python3.5/site-packages/scipy/optimize/zeros.py:173: RuntimeWarning: Tolerance of -15333.5067243 reached\n  warnings.warn(msg, RuntimeWarning)\n/Users/Maxwell/anaconda/lib/python3.5/site-packages/scipy/optimize/zeros.py:173: RuntimeWarning: Tolerance of -0.00957568177593 reached\n  warnings.warn(msg, RuntimeWarning)\n/Users/Maxwell/anaconda/lib/python3.5/site-packages/scipy/optimize/zeros.py:173: RuntimeWarning: Tolerance of -0.00067489540598 reached\n  warnings.warn(msg, RuntimeWarning)\n/Users/Maxwell/anaconda/lib/python3.5/site-packages/scipy/optimize/zeros.py:173: RuntimeWarning: Tolerance of 43101986873.9 reached\n  warnings.warn(msg, RuntimeWarning)\n/Users/Maxwell/anaconda/lib/python3.5/site-packages/scipy/optimize/zeros.py:173: RuntimeWarning: Tolerance of -0.00225417798927 reached\n  warnings.warn(msg, RuntimeWarning)\n/Users/Maxwell/anaconda/lib/python3.5/site-packages/scipy/optimize/zeros.py:173: RuntimeWarning: Tolerance of 2234908.33974 reached\n  warnings.warn(msg, RuntimeWarning)\n"
     ]
    },
    {
     "name": "stderr",
     "output_type": "stream",
     "text": [
      "/Users/Maxwell/anaconda/lib/python3.5/site-packages/scipy/optimize/zeros.py:173: RuntimeWarning: Tolerance of 1728058524.82 reached\n  warnings.warn(msg, RuntimeWarning)\n/Users/Maxwell/anaconda/lib/python3.5/site-packages/scipy/optimize/zeros.py:173: RuntimeWarning: Tolerance of -7572500.23242 reached\n  warnings.warn(msg, RuntimeWarning)\n"
     ]
    },
    {
     "name": "stderr",
     "output_type": "stream",
     "text": [
      "/Users/Maxwell/anaconda/lib/python3.5/site-packages/scipy/optimize/zeros.py:173: RuntimeWarning: Tolerance of 249811.802901 reached\n  warnings.warn(msg, RuntimeWarning)\n/Users/Maxwell/anaconda/lib/python3.5/site-packages/scipy/optimize/zeros.py:173: RuntimeWarning: Tolerance of 24997991842.1 reached\n  warnings.warn(msg, RuntimeWarning)\n"
     ]
    },
    {
     "name": "stdout",
     "output_type": "stream",
     "text": [
      "This is the test result for initial point sigma 0.70, initial iteration 1 times:\n                log_accuracy          MSE  Time(hh:mm:ss)\nbrentq               4.30646   0.00100102  0:00:04.716007\nbrenth               4.30646   0.00100102  0:00:04.725492\nridder               4.30646   0.00100102  0:00:06.541128\nscipy_newton         4.12553  7.79877e+37  0:00:02.854884\nbisection            4.23352      1.61306  0:00:21.579581\nmullerBisection      4.23223      1.61304  0:00:22.749562\nnewton               4.19757  2.05935e+42  0:00:03.487866\nhalley                3.7735   0.00167653  0:00:01.909935\nnew_newton          -14.3382          inf  0:18:58.347385\nnew_halley           -8.8698          inf  0:05:54.047223\n\n\n"
     ]
    },
    {
     "name": "stderr",
     "output_type": "stream",
     "text": [
      "/Users/Maxwell/anaconda/lib/python3.5/site-packages/scipy/optimize/zeros.py:173: RuntimeWarning: Tolerance of 30206.817939 reached\n  warnings.warn(msg, RuntimeWarning)\n"
     ]
    },
    {
     "name": "stderr",
     "output_type": "stream",
     "text": [
      "/Users/Maxwell/anaconda/lib/python3.5/site-packages/scipy/optimize/zeros.py:173: RuntimeWarning: Tolerance of -0.00140365416065 reached\n  warnings.warn(msg, RuntimeWarning)\n/Users/Maxwell/anaconda/lib/python3.5/site-packages/scipy/optimize/zeros.py:173: RuntimeWarning: Tolerance of 99589.5899029 reached\n  warnings.warn(msg, RuntimeWarning)\n/Users/Maxwell/anaconda/lib/python3.5/site-packages/scipy/optimize/zeros.py:173: RuntimeWarning: Tolerance of -110672.651969 reached\n  warnings.warn(msg, RuntimeWarning)\n/Users/Maxwell/anaconda/lib/python3.5/site-packages/scipy/optimize/zeros.py:173: RuntimeWarning: Tolerance of -0.0079074565165 reached\n  warnings.warn(msg, RuntimeWarning)\n/Users/Maxwell/anaconda/lib/python3.5/site-packages/scipy/optimize/zeros.py:173: RuntimeWarning: Tolerance of -0.00233761232178 reached\n  warnings.warn(msg, RuntimeWarning)\n"
     ]
    },
    {
     "name": "stderr",
     "output_type": "stream",
     "text": [
      "/Users/Maxwell/anaconda/lib/python3.5/site-packages/scipy/optimize/zeros.py:173: RuntimeWarning: Tolerance of 5346422.94494 reached\n  warnings.warn(msg, RuntimeWarning)\n/Users/Maxwell/anaconda/lib/python3.5/site-packages/scipy/optimize/zeros.py:173: RuntimeWarning: Tolerance of 406416.679361 reached\n  warnings.warn(msg, RuntimeWarning)\n"
     ]
    },
    {
     "name": "stderr",
     "output_type": "stream",
     "text": [
      "/Users/Maxwell/anaconda/lib/python3.5/site-packages/scipy/optimize/zeros.py:173: RuntimeWarning: Tolerance of -123139.257949 reached\n  warnings.warn(msg, RuntimeWarning)\n/Users/Maxwell/anaconda/lib/python3.5/site-packages/scipy/optimize/zeros.py:173: RuntimeWarning: Tolerance of -277.380683233 reached\n  warnings.warn(msg, RuntimeWarning)\n/Users/Maxwell/anaconda/lib/python3.5/site-packages/scipy/optimize/zeros.py:173: RuntimeWarning: Tolerance of -26.0951465699 reached\n  warnings.warn(msg, RuntimeWarning)\n/Users/Maxwell/anaconda/lib/python3.5/site-packages/scipy/optimize/zeros.py:173: RuntimeWarning: Tolerance of 8693324.75755 reached\n  warnings.warn(msg, RuntimeWarning)\n/Users/Maxwell/anaconda/lib/python3.5/site-packages/scipy/optimize/zeros.py:173: RuntimeWarning: Tolerance of 36915038.8821 reached\n  warnings.warn(msg, RuntimeWarning)\n/Users/Maxwell/anaconda/lib/python3.5/site-packages/scipy/optimize/zeros.py:173: RuntimeWarning: Tolerance of 263261286.288 reached\n  warnings.warn(msg, RuntimeWarning)\n/Users/Maxwell/anaconda/lib/python3.5/site-packages/scipy/optimize/zeros.py:173: RuntimeWarning: Tolerance of 15021279.0522 reached\n  warnings.warn(msg, RuntimeWarning)\n/Users/Maxwell/anaconda/lib/python3.5/site-packages/scipy/optimize/zeros.py:173: RuntimeWarning: Tolerance of -0.00486873655925 reached\n  warnings.warn(msg, RuntimeWarning)\n/Users/Maxwell/anaconda/lib/python3.5/site-packages/scipy/optimize/zeros.py:173: RuntimeWarning: Tolerance of -0.000435923609033 reached\n  warnings.warn(msg, RuntimeWarning)\n/Users/Maxwell/anaconda/lib/python3.5/site-packages/scipy/optimize/zeros.py:173: RuntimeWarning: Tolerance of -0.00029326926059 reached\n  warnings.warn(msg, RuntimeWarning)\n/Users/Maxwell/anaconda/lib/python3.5/site-packages/scipy/optimize/zeros.py:173: RuntimeWarning: Tolerance of -0.000404536763467 reached\n  warnings.warn(msg, RuntimeWarning)\n"
     ]
    },
    {
     "name": "stderr",
     "output_type": "stream",
     "text": [
      "/Users/Maxwell/anaconda/lib/python3.5/site-packages/scipy/optimize/zeros.py:173: RuntimeWarning: Tolerance of 20701.4071862 reached\n  warnings.warn(msg, RuntimeWarning)\n"
     ]
    },
    {
     "name": "stderr",
     "output_type": "stream",
     "text": [
      "/Users/Maxwell/anaconda/lib/python3.5/site-packages/scipy/optimize/zeros.py:173: RuntimeWarning: Tolerance of -0.00281073030297 reached\n  warnings.warn(msg, RuntimeWarning)\n/Users/Maxwell/anaconda/lib/python3.5/site-packages/scipy/optimize/zeros.py:173: RuntimeWarning: Tolerance of -4.4438422429e-05 reached\n  warnings.warn(msg, RuntimeWarning)\n/Users/Maxwell/anaconda/lib/python3.5/site-packages/scipy/optimize/zeros.py:173: RuntimeWarning: Tolerance of -466339.323522 reached\n  warnings.warn(msg, RuntimeWarning)\n/Users/Maxwell/anaconda/lib/python3.5/site-packages/scipy/optimize/zeros.py:173: RuntimeWarning: Tolerance of 356201293623.0 reached\n  warnings.warn(msg, RuntimeWarning)\n"
     ]
    },
    {
     "name": "stderr",
     "output_type": "stream",
     "text": [
      "/Users/Maxwell/anaconda/lib/python3.5/site-packages/scipy/optimize/zeros.py:173: RuntimeWarning: Tolerance of 5915795.75384 reached\n  warnings.warn(msg, RuntimeWarning)\n/Users/Maxwell/anaconda/lib/python3.5/site-packages/scipy/optimize/zeros.py:173: RuntimeWarning: Tolerance of -129155.088127 reached\n  warnings.warn(msg, RuntimeWarning)\n"
     ]
    },
    {
     "name": "stderr",
     "output_type": "stream",
     "text": [
      "/Users/Maxwell/anaconda/lib/python3.5/site-packages/scipy/optimize/zeros.py:173: RuntimeWarning: Tolerance of -0.000293313068513 reached\n  warnings.warn(msg, RuntimeWarning)\n/Users/Maxwell/anaconda/lib/python3.5/site-packages/scipy/optimize/zeros.py:173: RuntimeWarning: Tolerance of 0.00706832710492 reached\n  warnings.warn(msg, RuntimeWarning)\n/Users/Maxwell/anaconda/lib/python3.5/site-packages/scipy/optimize/zeros.py:173: RuntimeWarning: Tolerance of -0.000509073860616 reached\n  warnings.warn(msg, RuntimeWarning)\n"
     ]
    },
    {
     "name": "stderr",
     "output_type": "stream",
     "text": [
      "/Users/Maxwell/anaconda/lib/python3.5/site-packages/scipy/optimize/zeros.py:173: RuntimeWarning: Tolerance of -0.00611044455416 reached\n  warnings.warn(msg, RuntimeWarning)\n"
     ]
    },
    {
     "name": "stderr",
     "output_type": "stream",
     "text": [
      "/Users/Maxwell/anaconda/lib/python3.5/site-packages/scipy/optimize/zeros.py:173: RuntimeWarning: Tolerance of -0.0101302367913 reached\n  warnings.warn(msg, RuntimeWarning)\n/Users/Maxwell/anaconda/lib/python3.5/site-packages/scipy/optimize/zeros.py:173: RuntimeWarning: Tolerance of -497.191709026 reached\n  warnings.warn(msg, RuntimeWarning)\n/Users/Maxwell/anaconda/lib/python3.5/site-packages/scipy/optimize/zeros.py:173: RuntimeWarning: Tolerance of 27189045593.7 reached\n  warnings.warn(msg, RuntimeWarning)\n/Users/Maxwell/anaconda/lib/python3.5/site-packages/scipy/optimize/zeros.py:173: RuntimeWarning: Tolerance of 28234.2870879 reached\n  warnings.warn(msg, RuntimeWarning)\n/Users/Maxwell/anaconda/lib/python3.5/site-packages/scipy/optimize/zeros.py:173: RuntimeWarning: Tolerance of 19198755737.3 reached\n  warnings.warn(msg, RuntimeWarning)\n/Users/Maxwell/anaconda/lib/python3.5/site-packages/scipy/optimize/zeros.py:173: RuntimeWarning: Tolerance of 44753124618.2 reached\n  warnings.warn(msg, RuntimeWarning)\n/Users/Maxwell/anaconda/lib/python3.5/site-packages/scipy/optimize/zeros.py:173: RuntimeWarning: Tolerance of 231821943.814 reached\n  warnings.warn(msg, RuntimeWarning)\n"
     ]
    },
    {
     "name": "stderr",
     "output_type": "stream",
     "text": [
      "/Users/Maxwell/anaconda/lib/python3.5/site-packages/scipy/optimize/zeros.py:173: RuntimeWarning: Tolerance of 860367.818087 reached\n  warnings.warn(msg, RuntimeWarning)\n/Users/Maxwell/anaconda/lib/python3.5/site-packages/scipy/optimize/zeros.py:173: RuntimeWarning: Tolerance of -4907.94811941 reached\n  warnings.warn(msg, RuntimeWarning)\n"
     ]
    },
    {
     "name": "stderr",
     "output_type": "stream",
     "text": [
      "/Users/Maxwell/anaconda/lib/python3.5/site-packages/scipy/optimize/zeros.py:173: RuntimeWarning: Tolerance of -0.00141053516136 reached\n  warnings.warn(msg, RuntimeWarning)\n/Users/Maxwell/anaconda/lib/python3.5/site-packages/scipy/optimize/zeros.py:173: RuntimeWarning: Tolerance of -27146.1740144 reached\n  warnings.warn(msg, RuntimeWarning)\n"
     ]
    },
    {
     "name": "stdout",
     "output_type": "stream",
     "text": [
      "This is the test result for initial point sigma 1.00, initial iteration 1 times:\n                log_accuracy           MSE  Time(hh:mm:ss)\nbrentq               4.30646    0.00100102  0:00:04.733570\nbrenth               4.30646    0.00100102  0:00:04.724741\nridder               4.30646    0.00100102  0:00:06.526174\nscipy_newton         4.13935   1.40374e+19  0:00:02.906407\nbisection            4.23352       1.61306  0:00:21.609386\nmullerBisection      4.23223       1.61304  0:00:22.832818\nnewton               4.12668  1.55421e+181  0:00:03.296718\nhalley               3.64457    0.00281198  0:00:01.905420\nnew_newton          -14.3382           inf  0:18:55.251304\nnew_halley           -8.8698           inf  0:05:53.518749\n\n\n"
     ]
    },
    {
     "name": "stderr",
     "output_type": "stream",
     "text": [
      "/Users/Maxwell/anaconda/lib/python3.5/site-packages/scipy/optimize/zeros.py:173: RuntimeWarning: Tolerance of -0.00223806288895 reached\n  warnings.warn(msg, RuntimeWarning)\n"
     ]
    },
    {
     "name": "stderr",
     "output_type": "stream",
     "text": [
      "/Users/Maxwell/anaconda/lib/python3.5/site-packages/scipy/optimize/zeros.py:173: RuntimeWarning: Tolerance of -0.00139842789295 reached\n  warnings.warn(msg, RuntimeWarning)\n/Users/Maxwell/anaconda/lib/python3.5/site-packages/scipy/optimize/zeros.py:173: RuntimeWarning: Tolerance of -0.00588311513984 reached\n  warnings.warn(msg, RuntimeWarning)\n/Users/Maxwell/anaconda/lib/python3.5/site-packages/scipy/optimize/zeros.py:173: RuntimeWarning: Tolerance of -757.568115372 reached\n  warnings.warn(msg, RuntimeWarning)\n/Users/Maxwell/anaconda/lib/python3.5/site-packages/scipy/optimize/zeros.py:173: RuntimeWarning: Tolerance of 1970546.95176 reached\n  warnings.warn(msg, RuntimeWarning)\n/Users/Maxwell/anaconda/lib/python3.5/site-packages/scipy/optimize/zeros.py:173: RuntimeWarning: Tolerance of -0.00230081143326 reached\n  warnings.warn(msg, RuntimeWarning)\n"
     ]
    },
    {
     "name": "stderr",
     "output_type": "stream",
     "text": [
      "/Users/Maxwell/anaconda/lib/python3.5/site-packages/scipy/optimize/zeros.py:173: RuntimeWarning: Tolerance of 9710393054.55 reached\n  warnings.warn(msg, RuntimeWarning)\n/Users/Maxwell/anaconda/lib/python3.5/site-packages/scipy/optimize/zeros.py:173: RuntimeWarning: Tolerance of -0.00679811571742 reached\n  warnings.warn(msg, RuntimeWarning)\n"
     ]
    },
    {
     "name": "stderr",
     "output_type": "stream",
     "text": [
      "/Users/Maxwell/anaconda/lib/python3.5/site-packages/scipy/optimize/zeros.py:173: RuntimeWarning: Tolerance of -3481.07213298 reached\n  warnings.warn(msg, RuntimeWarning)\n/Users/Maxwell/anaconda/lib/python3.5/site-packages/scipy/optimize/zeros.py:173: RuntimeWarning: Tolerance of -207.368724175 reached\n  warnings.warn(msg, RuntimeWarning)\n/Users/Maxwell/anaconda/lib/python3.5/site-packages/scipy/optimize/zeros.py:173: RuntimeWarning: Tolerance of 426.336486637 reached\n  warnings.warn(msg, RuntimeWarning)\n/Users/Maxwell/anaconda/lib/python3.5/site-packages/scipy/optimize/zeros.py:173: RuntimeWarning: Tolerance of -18562.5079732 reached\n  warnings.warn(msg, RuntimeWarning)\n/Users/Maxwell/anaconda/lib/python3.5/site-packages/scipy/optimize/zeros.py:173: RuntimeWarning: Tolerance of -0.00678227539576 reached\n  warnings.warn(msg, RuntimeWarning)\n/Users/Maxwell/anaconda/lib/python3.5/site-packages/scipy/optimize/zeros.py:173: RuntimeWarning: Tolerance of 663814486.849 reached\n  warnings.warn(msg, RuntimeWarning)\n/Users/Maxwell/anaconda/lib/python3.5/site-packages/scipy/optimize/zeros.py:173: RuntimeWarning: Tolerance of 397130802.78 reached\n  warnings.warn(msg, RuntimeWarning)\n/Users/Maxwell/anaconda/lib/python3.5/site-packages/scipy/optimize/zeros.py:173: RuntimeWarning: Tolerance of -0.00474363257215 reached\n  warnings.warn(msg, RuntimeWarning)\n/Users/Maxwell/anaconda/lib/python3.5/site-packages/scipy/optimize/zeros.py:173: RuntimeWarning: Tolerance of -0.000438710735798 reached\n  warnings.warn(msg, RuntimeWarning)\n/Users/Maxwell/anaconda/lib/python3.5/site-packages/scipy/optimize/zeros.py:173: RuntimeWarning: Tolerance of -0.000298210277503 reached\n  warnings.warn(msg, RuntimeWarning)\n/Users/Maxwell/anaconda/lib/python3.5/site-packages/scipy/optimize/zeros.py:173: RuntimeWarning: Tolerance of -0.00605516568416 reached\n  warnings.warn(msg, RuntimeWarning)\n"
     ]
    },
    {
     "name": "stderr",
     "output_type": "stream",
     "text": [
      "/Users/Maxwell/anaconda/lib/python3.5/site-packages/scipy/optimize/zeros.py:173: RuntimeWarning: Tolerance of -2.73473584072e+13 reached\n  warnings.warn(msg, RuntimeWarning)\n"
     ]
    },
    {
     "name": "stderr",
     "output_type": "stream",
     "text": [
      "/Users/Maxwell/anaconda/lib/python3.5/site-packages/scipy/optimize/zeros.py:173: RuntimeWarning: Tolerance of -0.00219381260194 reached\n  warnings.warn(msg, RuntimeWarning)\n/Users/Maxwell/anaconda/lib/python3.5/site-packages/scipy/optimize/zeros.py:173: RuntimeWarning: Tolerance of -4.3511886288e-05 reached\n  warnings.warn(msg, RuntimeWarning)\n/Users/Maxwell/anaconda/lib/python3.5/site-packages/scipy/optimize/zeros.py:173: RuntimeWarning: Tolerance of -9.13514464928e+14 reached\n  warnings.warn(msg, RuntimeWarning)\n/Users/Maxwell/anaconda/lib/python3.5/site-packages/scipy/optimize/zeros.py:173: RuntimeWarning: Tolerance of 12163446.5957 reached\n  warnings.warn(msg, RuntimeWarning)\n"
     ]
    },
    {
     "name": "stderr",
     "output_type": "stream",
     "text": [
      "/Users/Maxwell/anaconda/lib/python3.5/site-packages/scipy/optimize/zeros.py:173: RuntimeWarning: Tolerance of 38209228369.4 reached\n  warnings.warn(msg, RuntimeWarning)\n/Users/Maxwell/anaconda/lib/python3.5/site-packages/scipy/optimize/zeros.py:173: RuntimeWarning: Tolerance of -499013843.19 reached\n  warnings.warn(msg, RuntimeWarning)\n"
     ]
    },
    {
     "name": "stderr",
     "output_type": "stream",
     "text": [
      "/Users/Maxwell/anaconda/lib/python3.5/site-packages/scipy/optimize/zeros.py:173: RuntimeWarning: Tolerance of 448415532.675 reached\n  warnings.warn(msg, RuntimeWarning)\n/Users/Maxwell/anaconda/lib/python3.5/site-packages/scipy/optimize/zeros.py:173: RuntimeWarning: Tolerance of -244.770847796 reached\n  warnings.warn(msg, RuntimeWarning)\n"
     ]
    },
    {
     "name": "stderr",
     "output_type": "stream",
     "text": [
      "/Users/Maxwell/anaconda/lib/python3.5/site-packages/scipy/optimize/zeros.py:173: RuntimeWarning: Tolerance of -41852.2839074 reached\n  warnings.warn(msg, RuntimeWarning)\n/Users/Maxwell/anaconda/lib/python3.5/site-packages/scipy/optimize/zeros.py:173: RuntimeWarning: Tolerance of -42757327708.9 reached\n  warnings.warn(msg, RuntimeWarning)\n/Users/Maxwell/anaconda/lib/python3.5/site-packages/scipy/optimize/zeros.py:173: RuntimeWarning: Tolerance of 0.00398725052048 reached\n  warnings.warn(msg, RuntimeWarning)\n"
     ]
    },
    {
     "name": "stderr",
     "output_type": "stream",
     "text": [
      "/Users/Maxwell/anaconda/lib/python3.5/site-packages/scipy/optimize/zeros.py:173: RuntimeWarning: Tolerance of 50589.0793399 reached\n  warnings.warn(msg, RuntimeWarning)\n/Users/Maxwell/anaconda/lib/python3.5/site-packages/scipy/optimize/zeros.py:173: RuntimeWarning: Tolerance of -1765.40165702 reached\n  warnings.warn(msg, RuntimeWarning)\n/Users/Maxwell/anaconda/lib/python3.5/site-packages/scipy/optimize/zeros.py:173: RuntimeWarning: Tolerance of 385726.878727 reached\n  warnings.warn(msg, RuntimeWarning)\n/Users/Maxwell/anaconda/lib/python3.5/site-packages/scipy/optimize/zeros.py:173: RuntimeWarning: Tolerance of -177.140296262 reached\n  warnings.warn(msg, RuntimeWarning)\n/Users/Maxwell/anaconda/lib/python3.5/site-packages/scipy/optimize/zeros.py:173: RuntimeWarning: Tolerance of 52753266236.8 reached\n  warnings.warn(msg, RuntimeWarning)\n/Users/Maxwell/anaconda/lib/python3.5/site-packages/scipy/optimize/zeros.py:173: RuntimeWarning: Tolerance of -21375604227.1 reached\n  warnings.warn(msg, RuntimeWarning)\n/Users/Maxwell/anaconda/lib/python3.5/site-packages/scipy/optimize/zeros.py:173: RuntimeWarning: Tolerance of -0.00157758562563 reached\n  warnings.warn(msg, RuntimeWarning)\n"
     ]
    },
    {
     "name": "stderr",
     "output_type": "stream",
     "text": [
      "/Users/Maxwell/anaconda/lib/python3.5/site-packages/scipy/optimize/zeros.py:173: RuntimeWarning: Tolerance of -0.00354550691571 reached\n  warnings.warn(msg, RuntimeWarning)\n/Users/Maxwell/anaconda/lib/python3.5/site-packages/scipy/optimize/zeros.py:173: RuntimeWarning: Tolerance of 10184488317.7 reached\n  warnings.warn(msg, RuntimeWarning)\n"
     ]
    },
    {
     "name": "stderr",
     "output_type": "stream",
     "text": [
      "/Users/Maxwell/anaconda/lib/python3.5/site-packages/scipy/optimize/zeros.py:173: RuntimeWarning: Tolerance of -0.0117091067058 reached\n  warnings.warn(msg, RuntimeWarning)\n/Users/Maxwell/anaconda/lib/python3.5/site-packages/scipy/optimize/zeros.py:173: RuntimeWarning: Tolerance of -0.002254967753 reached\n  warnings.warn(msg, RuntimeWarning)\n"
     ]
    },
    {
     "name": "stdout",
     "output_type": "stream",
     "text": [
      "This is the test result for initial point sigma 1.50, initial iteration 1 times:\n                log_accuracy          MSE  Time(hh:mm:ss)\nbrentq               4.30646   0.00100102  0:00:04.775454\nbrenth               4.30646   0.00100102  0:00:04.715441\nridder               4.30646   0.00100102  0:00:06.568138\nscipy_newton         4.12278   7.8153e+26  0:00:02.998072\nbisection            4.23352      1.61306  0:00:21.745437\nmullerBisection      4.23223      1.61304  0:00:22.837833\nnewton               4.07301  6.80155e+19  0:00:07.154913\nhalley               3.56188   0.00490749  0:00:01.907732\nnew_newton          -14.3382          inf  0:18:52.160233\nnew_halley           -8.8698          inf  0:05:53.161701\n\n\n"
     ]
    },
    {
     "name": "stderr",
     "output_type": "stream",
     "text": [
      "/Users/Maxwell/anaconda/lib/python3.5/site-packages/scipy/optimize/zeros.py:173: RuntimeWarning: Tolerance of -0.00578489594169 reached\n  warnings.warn(msg, RuntimeWarning)\n"
     ]
    },
    {
     "name": "stderr",
     "output_type": "stream",
     "text": [
      "/Users/Maxwell/anaconda/lib/python3.5/site-packages/scipy/optimize/zeros.py:173: RuntimeWarning: Tolerance of -0.00145182774427 reached\n  warnings.warn(msg, RuntimeWarning)\n/Users/Maxwell/anaconda/lib/python3.5/site-packages/scipy/optimize/zeros.py:173: RuntimeWarning: Tolerance of -0.000374648302569 reached\n  warnings.warn(msg, RuntimeWarning)\n/Users/Maxwell/anaconda/lib/python3.5/site-packages/scipy/optimize/zeros.py:173: RuntimeWarning: Tolerance of -0.00259964809779 reached\n  warnings.warn(msg, RuntimeWarning)\n/Users/Maxwell/anaconda/lib/python3.5/site-packages/scipy/optimize/zeros.py:173: RuntimeWarning: Tolerance of 870019.539598 reached\n  warnings.warn(msg, RuntimeWarning)\n/Users/Maxwell/anaconda/lib/python3.5/site-packages/scipy/optimize/zeros.py:173: RuntimeWarning: Tolerance of -0.00235160800279 reached\n  warnings.warn(msg, RuntimeWarning)\n"
     ]
    },
    {
     "name": "stderr",
     "output_type": "stream",
     "text": [
      "/Users/Maxwell/anaconda/lib/python3.5/site-packages/scipy/optimize/zeros.py:173: RuntimeWarning: Tolerance of -0.00475232211222 reached\n  warnings.warn(msg, RuntimeWarning)\n/Users/Maxwell/anaconda/lib/python3.5/site-packages/scipy/optimize/zeros.py:173: RuntimeWarning: Tolerance of 262695.970302 reached\n  warnings.warn(msg, RuntimeWarning)\n"
     ]
    },
    {
     "name": "stderr",
     "output_type": "stream",
     "text": [
      "/Users/Maxwell/anaconda/lib/python3.5/site-packages/scipy/optimize/zeros.py:173: RuntimeWarning: Tolerance of -0.0257743880366 reached\n  warnings.warn(msg, RuntimeWarning)\n/Users/Maxwell/anaconda/lib/python3.5/site-packages/scipy/optimize/zeros.py:173: RuntimeWarning: Tolerance of -1969.45765754 reached\n  warnings.warn(msg, RuntimeWarning)\n/Users/Maxwell/anaconda/lib/python3.5/site-packages/scipy/optimize/zeros.py:173: RuntimeWarning: Tolerance of -43.2195022154 reached\n  warnings.warn(msg, RuntimeWarning)\n/Users/Maxwell/anaconda/lib/python3.5/site-packages/scipy/optimize/zeros.py:173: RuntimeWarning: Tolerance of -8570.34792496 reached\n  warnings.warn(msg, RuntimeWarning)\n/Users/Maxwell/anaconda/lib/python3.5/site-packages/scipy/optimize/zeros.py:173: RuntimeWarning: Tolerance of -0.00683043299641 reached\n  warnings.warn(msg, RuntimeWarning)\n/Users/Maxwell/anaconda/lib/python3.5/site-packages/scipy/optimize/zeros.py:173: RuntimeWarning: Tolerance of 12737829890.3 reached\n  warnings.warn(msg, RuntimeWarning)\n/Users/Maxwell/anaconda/lib/python3.5/site-packages/scipy/optimize/zeros.py:173: RuntimeWarning: Tolerance of -0.00036746049966 reached\n  warnings.warn(msg, RuntimeWarning)\n/Users/Maxwell/anaconda/lib/python3.5/site-packages/scipy/optimize/zeros.py:173: RuntimeWarning: Tolerance of -0.00487648892873 reached\n  warnings.warn(msg, RuntimeWarning)\n/Users/Maxwell/anaconda/lib/python3.5/site-packages/scipy/optimize/zeros.py:173: RuntimeWarning: Tolerance of -0.000455026848668 reached\n  warnings.warn(msg, RuntimeWarning)\n/Users/Maxwell/anaconda/lib/python3.5/site-packages/scipy/optimize/zeros.py:173: RuntimeWarning: Tolerance of -0.000950175001836 reached\n  warnings.warn(msg, RuntimeWarning)\n/Users/Maxwell/anaconda/lib/python3.5/site-packages/scipy/optimize/zeros.py:173: RuntimeWarning: Tolerance of -488.630895299 reached\n  warnings.warn(msg, RuntimeWarning)\n/Users/Maxwell/anaconda/lib/python3.5/site-packages/scipy/optimize/zeros.py:173: RuntimeWarning: Tolerance of 619.050447712 reached\n  warnings.warn(msg, RuntimeWarning)\n"
     ]
    },
    {
     "name": "stderr",
     "output_type": "stream",
     "text": [
      "/Users/Maxwell/anaconda/lib/python3.5/site-packages/scipy/optimize/zeros.py:173: RuntimeWarning: Tolerance of 687.627366992 reached\n  warnings.warn(msg, RuntimeWarning)\n"
     ]
    },
    {
     "name": "stderr",
     "output_type": "stream",
     "text": [
      "/Users/Maxwell/anaconda/lib/python3.5/site-packages/scipy/optimize/zeros.py:173: RuntimeWarning: Tolerance of 7.23255298613e+13 reached\n  warnings.warn(msg, RuntimeWarning)\n/Users/Maxwell/anaconda/lib/python3.5/site-packages/scipy/optimize/zeros.py:173: RuntimeWarning: Tolerance of -0.000650129981909 reached\n  warnings.warn(msg, RuntimeWarning)\n/Users/Maxwell/anaconda/lib/python3.5/site-packages/scipy/optimize/zeros.py:173: RuntimeWarning: Tolerance of 2879801.44471 reached\n  warnings.warn(msg, RuntimeWarning)\n"
     ]
    },
    {
     "name": "stderr",
     "output_type": "stream",
     "text": [
      "/Users/Maxwell/anaconda/lib/python3.5/site-packages/scipy/optimize/zeros.py:173: RuntimeWarning: Tolerance of 2717301.29159 reached\n  warnings.warn(msg, RuntimeWarning)\n/Users/Maxwell/anaconda/lib/python3.5/site-packages/scipy/optimize/zeros.py:173: RuntimeWarning: Tolerance of -0.00739287699571 reached\n  warnings.warn(msg, RuntimeWarning)\n/Users/Maxwell/anaconda/lib/python3.5/site-packages/scipy/optimize/zeros.py:173: RuntimeWarning: Tolerance of -0.00176945571858 reached\n  warnings.warn(msg, RuntimeWarning)\n"
     ]
    },
    {
     "name": "stderr",
     "output_type": "stream",
     "text": [
      "/Users/Maxwell/anaconda/lib/python3.5/site-packages/scipy/optimize/zeros.py:173: RuntimeWarning: Tolerance of -181.893269429 reached\n  warnings.warn(msg, RuntimeWarning)\n/Users/Maxwell/anaconda/lib/python3.5/site-packages/scipy/optimize/zeros.py:173: RuntimeWarning: Tolerance of -0.00339261727868 reached\n  warnings.warn(msg, RuntimeWarning)\n"
     ]
    },
    {
     "name": "stderr",
     "output_type": "stream",
     "text": [
      "/Users/Maxwell/anaconda/lib/python3.5/site-packages/scipy/optimize/zeros.py:173: RuntimeWarning: Tolerance of 25420.38511 reached\n  warnings.warn(msg, RuntimeWarning)\n"
     ]
    },
    {
     "name": "stderr",
     "output_type": "stream",
     "text": [
      "/Users/Maxwell/anaconda/lib/python3.5/site-packages/scipy/optimize/zeros.py:173: RuntimeWarning: Tolerance of 62655.4212323 reached\n  warnings.warn(msg, RuntimeWarning)\n/Users/Maxwell/anaconda/lib/python3.5/site-packages/scipy/optimize/zeros.py:173: RuntimeWarning: Tolerance of -0.00588690621404 reached\n  warnings.warn(msg, RuntimeWarning)\n/Users/Maxwell/anaconda/lib/python3.5/site-packages/scipy/optimize/zeros.py:173: RuntimeWarning: Tolerance of -3.05893869404e+17 reached\n  warnings.warn(msg, RuntimeWarning)\n/Users/Maxwell/anaconda/lib/python3.5/site-packages/scipy/optimize/zeros.py:173: RuntimeWarning: Tolerance of -215.477787733 reached\n  warnings.warn(msg, RuntimeWarning)\n/Users/Maxwell/anaconda/lib/python3.5/site-packages/scipy/optimize/zeros.py:173: RuntimeWarning: Tolerance of 338209464145.0 reached\n  warnings.warn(msg, RuntimeWarning)\n/Users/Maxwell/anaconda/lib/python3.5/site-packages/scipy/optimize/zeros.py:173: RuntimeWarning: Tolerance of -469.258002546 reached\n  warnings.warn(msg, RuntimeWarning)\n/Users/Maxwell/anaconda/lib/python3.5/site-packages/scipy/optimize/zeros.py:173: RuntimeWarning: Tolerance of -0.00155573838512 reached\n  warnings.warn(msg, RuntimeWarning)\n"
     ]
    },
    {
     "name": "stderr",
     "output_type": "stream",
     "text": [
      "/Users/Maxwell/anaconda/lib/python3.5/site-packages/scipy/optimize/zeros.py:173: RuntimeWarning: Tolerance of -0.000746037880526 reached\n  warnings.warn(msg, RuntimeWarning)\n/Users/Maxwell/anaconda/lib/python3.5/site-packages/scipy/optimize/zeros.py:173: RuntimeWarning: Tolerance of -0.000366334955399 reached\n  warnings.warn(msg, RuntimeWarning)\n"
     ]
    },
    {
     "name": "stderr",
     "output_type": "stream",
     "text": [
      "/Users/Maxwell/anaconda/lib/python3.5/site-packages/scipy/optimize/zeros.py:173: RuntimeWarning: Tolerance of -1659.42334933 reached\n  warnings.warn(msg, RuntimeWarning)\n/Users/Maxwell/anaconda/lib/python3.5/site-packages/scipy/optimize/zeros.py:173: RuntimeWarning: Tolerance of 6696672.53643 reached\n  warnings.warn(msg, RuntimeWarning)\n"
     ]
    },
    {
     "name": "stdout",
     "output_type": "stream",
     "text": [
      "This is the test result for initial point sigma 1.70, initial iteration 1 times:\n                log_accuracy           MSE  Time(hh:mm:ss)\nbrentq               4.30646    0.00100102  0:00:04.744244\nbrenth               4.30646    0.00100102  0:00:04.779090\nridder               4.30646    0.00100102  0:00:06.594308\nscipy_newton         4.17953   8.81086e+31  0:00:03.061615\nbisection            4.23352       1.61306  0:00:21.925180\nmullerBisection      4.23223       1.61304  0:00:22.893678\nnewton               3.53386  6.53992e+303  0:00:02.886860\nhalley               3.40933    0.00586908  0:00:01.905126\nnew_newton          -14.3382           inf  0:18:51.505863\nnew_halley           -8.8698           inf  0:05:53.226685\n\n\n"
     ]
    },
    {
     "name": "stderr",
     "output_type": "stream",
     "text": [
      "/Users/Maxwell/anaconda/lib/python3.5/site-packages/scipy/optimize/zeros.py:173: RuntimeWarning: Tolerance of -4679649928.1 reached\n  warnings.warn(msg, RuntimeWarning)\n"
     ]
    },
    {
     "name": "stderr",
     "output_type": "stream",
     "text": [
      "/Users/Maxwell/anaconda/lib/python3.5/site-packages/scipy/optimize/zeros.py:173: RuntimeWarning: Tolerance of -0.00158392585457 reached\n  warnings.warn(msg, RuntimeWarning)\n/Users/Maxwell/anaconda/lib/python3.5/site-packages/scipy/optimize/zeros.py:173: RuntimeWarning: Tolerance of 61232334.1456 reached\n  warnings.warn(msg, RuntimeWarning)\n/Users/Maxwell/anaconda/lib/python3.5/site-packages/scipy/optimize/zeros.py:173: RuntimeWarning: Tolerance of 1987290288.09 reached\n  warnings.warn(msg, RuntimeWarning)\n/Users/Maxwell/anaconda/lib/python3.5/site-packages/scipy/optimize/zeros.py:173: RuntimeWarning: Tolerance of 1403714.99011 reached\n  warnings.warn(msg, RuntimeWarning)\n/Users/Maxwell/anaconda/lib/python3.5/site-packages/scipy/optimize/zeros.py:173: RuntimeWarning: Tolerance of -0.00249431612562 reached\n  warnings.warn(msg, RuntimeWarning)\n"
     ]
    },
    {
     "name": "stderr",
     "output_type": "stream",
     "text": [
      "/Users/Maxwell/anaconda/lib/python3.5/site-packages/scipy/optimize/zeros.py:173: RuntimeWarning: Tolerance of 297928.588004 reached\n  warnings.warn(msg, RuntimeWarning)\n/Users/Maxwell/anaconda/lib/python3.5/site-packages/scipy/optimize/zeros.py:173: RuntimeWarning: Tolerance of -26424024.6092 reached\n  warnings.warn(msg, RuntimeWarning)\n"
     ]
    },
    {
     "name": "stderr",
     "output_type": "stream",
     "text": [
      "/Users/Maxwell/anaconda/lib/python3.5/site-packages/scipy/optimize/zeros.py:173: RuntimeWarning: Tolerance of -11253.3680848 reached\n  warnings.warn(msg, RuntimeWarning)\n/Users/Maxwell/anaconda/lib/python3.5/site-packages/scipy/optimize/zeros.py:173: RuntimeWarning: Tolerance of 381.271727698 reached\n  warnings.warn(msg, RuntimeWarning)\n/Users/Maxwell/anaconda/lib/python3.5/site-packages/scipy/optimize/zeros.py:173: RuntimeWarning: Tolerance of -0.00695847880299 reached\n  warnings.warn(msg, RuntimeWarning)\n/Users/Maxwell/anaconda/lib/python3.5/site-packages/scipy/optimize/zeros.py:173: RuntimeWarning: Tolerance of -0.0196554690179 reached\n  warnings.warn(msg, RuntimeWarning)\n/Users/Maxwell/anaconda/lib/python3.5/site-packages/scipy/optimize/zeros.py:173: RuntimeWarning: Tolerance of -0.0196651276512 reached\n  warnings.warn(msg, RuntimeWarning)\n/Users/Maxwell/anaconda/lib/python3.5/site-packages/scipy/optimize/zeros.py:173: RuntimeWarning: Tolerance of 1773786.30088 reached\n  warnings.warn(msg, RuntimeWarning)\n/Users/Maxwell/anaconda/lib/python3.5/site-packages/scipy/optimize/zeros.py:173: RuntimeWarning: Tolerance of -24238.8351305 reached\n  warnings.warn(msg, RuntimeWarning)\n/Users/Maxwell/anaconda/lib/python3.5/site-packages/scipy/optimize/zeros.py:173: RuntimeWarning: Tolerance of 11367543475.9 reached\n  warnings.warn(msg, RuntimeWarning)\n/Users/Maxwell/anaconda/lib/python3.5/site-packages/scipy/optimize/zeros.py:173: RuntimeWarning: Tolerance of 6366060.17151 reached\n  warnings.warn(msg, RuntimeWarning)\n/Users/Maxwell/anaconda/lib/python3.5/site-packages/scipy/optimize/zeros.py:173: RuntimeWarning: Tolerance of -0.00656634066978 reached\n  warnings.warn(msg, RuntimeWarning)\n"
     ]
    },
    {
     "name": "stderr",
     "output_type": "stream",
     "text": [
      "/Users/Maxwell/anaconda/lib/python3.5/site-packages/scipy/optimize/zeros.py:173: RuntimeWarning: Tolerance of -60.760941458 reached\n  warnings.warn(msg, RuntimeWarning)\n"
     ]
    },
    {
     "name": "stderr",
     "output_type": "stream",
     "text": [
      "/Users/Maxwell/anaconda/lib/python3.5/site-packages/scipy/optimize/zeros.py:173: RuntimeWarning: Tolerance of -0.0209259759761 reached\n  warnings.warn(msg, RuntimeWarning)\n/Users/Maxwell/anaconda/lib/python3.5/site-packages/scipy/optimize/zeros.py:173: RuntimeWarning: Tolerance of -0.00607654409112 reached\n  warnings.warn(msg, RuntimeWarning)\n/Users/Maxwell/anaconda/lib/python3.5/site-packages/scipy/optimize/zeros.py:173: RuntimeWarning: Tolerance of 169558600.818 reached\n  warnings.warn(msg, RuntimeWarning)\n"
     ]
    },
    {
     "name": "stderr",
     "output_type": "stream",
     "text": [
      "/Users/Maxwell/anaconda/lib/python3.5/site-packages/scipy/optimize/zeros.py:173: RuntimeWarning: Tolerance of -800313364.734 reached\n  warnings.warn(msg, RuntimeWarning)\n/Users/Maxwell/anaconda/lib/python3.5/site-packages/scipy/optimize/zeros.py:173: RuntimeWarning: Tolerance of 339318822.888 reached\n  warnings.warn(msg, RuntimeWarning)\n/Users/Maxwell/anaconda/lib/python3.5/site-packages/scipy/optimize/zeros.py:173: RuntimeWarning: Tolerance of -10082.8784932 reached\n  warnings.warn(msg, RuntimeWarning)\n"
     ]
    },
    {
     "name": "stderr",
     "output_type": "stream",
     "text": [
      "/Users/Maxwell/anaconda/lib/python3.5/site-packages/scipy/optimize/zeros.py:173: RuntimeWarning: Tolerance of 16964777530.5 reached\n  warnings.warn(msg, RuntimeWarning)\n/Users/Maxwell/anaconda/lib/python3.5/site-packages/scipy/optimize/zeros.py:173: RuntimeWarning: Tolerance of -0.000590170418741 reached\n  warnings.warn(msg, RuntimeWarning)\n"
     ]
    },
    {
     "name": "stderr",
     "output_type": "stream",
     "text": [
      "/Users/Maxwell/anaconda/lib/python3.5/site-packages/scipy/optimize/zeros.py:173: RuntimeWarning: Tolerance of -265050453736.0 reached\n  warnings.warn(msg, RuntimeWarning)\n/Users/Maxwell/anaconda/lib/python3.5/site-packages/scipy/optimize/zeros.py:173: RuntimeWarning: Tolerance of -1356.85594484 reached\n  warnings.warn(msg, RuntimeWarning)\n"
     ]
    },
    {
     "name": "stderr",
     "output_type": "stream",
     "text": [
      "/Users/Maxwell/anaconda/lib/python3.5/site-packages/scipy/optimize/zeros.py:173: RuntimeWarning: Tolerance of -0.000754670167486 reached\n  warnings.warn(msg, RuntimeWarning)\n/Users/Maxwell/anaconda/lib/python3.5/site-packages/scipy/optimize/zeros.py:173: RuntimeWarning: Tolerance of 278438501.8 reached\n  warnings.warn(msg, RuntimeWarning)\n/Users/Maxwell/anaconda/lib/python3.5/site-packages/scipy/optimize/zeros.py:173: RuntimeWarning: Tolerance of 185328.133761 reached\n  warnings.warn(msg, RuntimeWarning)\n/Users/Maxwell/anaconda/lib/python3.5/site-packages/scipy/optimize/zeros.py:173: RuntimeWarning: Tolerance of -0.000722280421811 reached\n  warnings.warn(msg, RuntimeWarning)\n/Users/Maxwell/anaconda/lib/python3.5/site-packages/scipy/optimize/zeros.py:173: RuntimeWarning: Tolerance of -0.00107462421423 reached\n  warnings.warn(msg, RuntimeWarning)\n/Users/Maxwell/anaconda/lib/python3.5/site-packages/scipy/optimize/zeros.py:173: RuntimeWarning: Tolerance of -1130916200.61 reached\n  warnings.warn(msg, RuntimeWarning)\n/Users/Maxwell/anaconda/lib/python3.5/site-packages/scipy/optimize/zeros.py:173: RuntimeWarning: Tolerance of -0.0148293965326 reached\n  warnings.warn(msg, RuntimeWarning)\n"
     ]
    },
    {
     "name": "stderr",
     "output_type": "stream",
     "text": [
      "/Users/Maxwell/anaconda/lib/python3.5/site-packages/scipy/optimize/zeros.py:173: RuntimeWarning: Tolerance of 124057526514.0 reached\n  warnings.warn(msg, RuntimeWarning)\n/Users/Maxwell/anaconda/lib/python3.5/site-packages/scipy/optimize/zeros.py:173: RuntimeWarning: Tolerance of 62524812.083 reached\n  warnings.warn(msg, RuntimeWarning)\n/Users/Maxwell/anaconda/lib/python3.5/site-packages/scipy/optimize/zeros.py:173: RuntimeWarning: Tolerance of -162687.059345 reached\n  warnings.warn(msg, RuntimeWarning)\n"
     ]
    },
    {
     "name": "stderr",
     "output_type": "stream",
     "text": [
      "/Users/Maxwell/anaconda/lib/python3.5/site-packages/scipy/optimize/zeros.py:173: RuntimeWarning: Tolerance of -0.0109715693248 reached\n  warnings.warn(msg, RuntimeWarning)\n/Users/Maxwell/anaconda/lib/python3.5/site-packages/scipy/optimize/zeros.py:173: RuntimeWarning: Tolerance of -0.0031000483171 reached\n  warnings.warn(msg, RuntimeWarning)\n"
     ]
    },
    {
     "name": "stdout",
     "output_type": "stream",
     "text": [
      "This is the test result for initial point sigma 2.00, initial iteration 1 times:\n                log_accuracy          MSE  Time(hh:mm:ss)\nbrentq               4.30646   0.00100102  0:00:04.749375\nbrenth               4.30646   0.00100102  0:00:04.728667\nridder               4.30646   0.00100102  0:00:06.519713\nscipy_newton         4.11627  6.68672e+19  0:00:03.098148\nbisection            4.23352      1.61306  0:00:21.610973\nmullerBisection      4.23223      1.61304  0:00:23.074377\nnewton                3.3724  1.34356e+47  0:00:04.755880\nhalley                 3.136   0.00753054  0:00:01.916958\nnew_newton          -14.3382          inf  0:18:49.731790\nnew_halley           -8.8698          inf  0:05:51.197230\n\n\n"
     ]
    },
    {
     "name": "stdout",
     "output_type": "stream",
     "text": [
      "This is the test result for initial point sigma 0.30, initial iteration 2 times:\n                log_accuracy           MSE  Time(hh:mm:ss)\nbrentq               4.30646    0.00100102  0:00:04.753711\nbrenth               4.30646    0.00100102  0:00:04.711864\nridder               4.30646    0.00100102  0:00:06.522023\nscipy_newton         4.14998   5.85325e+17  0:00:02.667093\nbisection            4.23352       1.61306  0:00:21.583975\nmullerBisection      4.23223       1.61304  0:00:22.852475\nnewton               4.07488  5.82465e+198  0:00:03.447181\nhalley               4.22647     0.0008426  0:00:01.900866\nnew_newton           4.03798  7.88275e+266  0:00:10.240788\nnew_halley           4.03232        154124  0:00:06.603519\n\n\n"
     ]
    },
    {
     "name": "stdout",
     "output_type": "stream",
     "text": [
      "This is the test result for initial point sigma 0.50, initial iteration 2 times:\n                log_accuracy           MSE  Time(hh:mm:ss)\nbrentq               4.30646    0.00100102  0:00:04.760764\nbrenth               4.30646    0.00100102  0:00:04.713875\nridder               4.30646    0.00100102  0:00:06.542184\nscipy_newton         4.11276   7.04273e+23  0:00:02.789269\nbisection            4.23352       1.61306  0:00:21.606820\nmullerBisection      4.23223       1.61304  0:00:22.819395\nnewton               4.11989  5.81717e+111  0:00:05.569983\nhalley               3.93286    0.00104206  0:00:01.903457\nnew_newton           4.03798  7.88275e+266  0:00:10.104743\nnew_halley           4.03232        154124  0:00:06.591064\n\n\n"
     ]
    },
    {
     "name": "stdout",
     "output_type": "stream",
     "text": [
      "This is the test result for initial point sigma 0.70, initial iteration 2 times:\n                log_accuracy           MSE  Time(hh:mm:ss)\nbrentq               4.30646    0.00100102  0:00:04.751471\nbrenth               4.30646    0.00100102  0:00:04.715392\nridder               4.30646    0.00100102  0:00:06.503318\nscipy_newton         4.12553   7.79877e+37  0:00:02.833738\nbisection            4.23352       1.61306  0:00:21.766483\nmullerBisection      4.23223       1.61304  0:00:22.797415\nnewton               4.19757   2.05935e+42  0:00:03.478937\nhalley                3.7735    0.00167653  0:00:01.899945\nnew_newton           4.03798  7.88275e+266  0:00:10.230001\nnew_halley           4.03232        154124  0:00:06.551651\n\n\n"
     ]
    },
    {
     "name": "stdout",
     "output_type": "stream",
     "text": [
      "This is the test result for initial point sigma 1.00, initial iteration 2 times:\n                log_accuracy           MSE  Time(hh:mm:ss)\nbrentq               4.30646    0.00100102  0:00:04.733515\nbrenth               4.30646    0.00100102  0:00:04.712470\nridder               4.30646    0.00100102  0:00:06.493886\nscipy_newton         4.13935   1.40374e+19  0:00:02.907010\nbisection            4.23352       1.61306  0:00:21.515502\nmullerBisection      4.23223       1.61304  0:00:22.987298\nnewton               4.12668  1.55421e+181  0:00:03.303868\nhalley               3.64457    0.00281198  0:00:01.898761\nnew_newton           4.03798  7.88275e+266  0:00:10.139124\nnew_halley           4.03232        154124  0:00:06.565716\n\n\n"
     ]
    },
    {
     "name": "stdout",
     "output_type": "stream",
     "text": [
      "This is the test result for initial point sigma 1.50, initial iteration 2 times:\n                log_accuracy           MSE  Time(hh:mm:ss)\nbrentq               4.30646    0.00100102  0:00:04.740477\nbrenth               4.30646    0.00100102  0:00:04.720080\nridder               4.30646    0.00100102  0:00:06.533807\nscipy_newton         4.12278    7.8153e+26  0:00:02.987709\nbisection            4.23352       1.61306  0:00:21.596035\nmullerBisection      4.23223       1.61304  0:00:23.072496\nnewton               4.07301   6.80155e+19  0:00:07.107248\nhalley               3.56188    0.00490749  0:00:01.898317\nnew_newton           4.03798  7.88275e+266  0:00:10.176280\nnew_halley           4.03232        154124  0:00:06.605151\n\n\n"
     ]
    },
    {
     "name": "stdout",
     "output_type": "stream",
     "text": [
      "This is the test result for initial point sigma 1.70, initial iteration 2 times:\n                log_accuracy           MSE  Time(hh:mm:ss)\nbrentq               4.30646    0.00100102  0:00:04.749106\nbrenth               4.30646    0.00100102  0:00:04.718049\nridder               4.30646    0.00100102  0:00:06.528065\nscipy_newton         4.17953   8.81086e+31  0:00:03.007135\nbisection            4.23352       1.61306  0:00:21.565830\nmullerBisection      4.23223       1.61304  0:00:22.803543\nnewton               3.53386  6.53992e+303  0:00:02.880131\nhalley               3.40933    0.00586908  0:00:01.903919\nnew_newton           4.03798  7.88275e+266  0:00:10.211072\nnew_halley           4.03232        154124  0:00:06.589726\n\n\n"
     ]
    },
    {
     "name": "stdout",
     "output_type": "stream",
     "text": [
      "This is the test result for initial point sigma 2.00, initial iteration 2 times:\n                log_accuracy           MSE  Time(hh:mm:ss)\nbrentq               4.30646    0.00100102  0:00:04.766244\nbrenth               4.30646    0.00100102  0:00:04.703795\nridder               4.30646    0.00100102  0:00:06.536967\nscipy_newton         4.11627   6.68672e+19  0:00:03.099349\nbisection            4.23352       1.61306  0:00:21.602917\nmullerBisection      4.23223       1.61304  0:00:23.001688\nnewton                3.3724   1.34356e+47  0:00:04.832773\nhalley                 3.136    0.00753054  0:00:01.915886\nnew_newton           4.03798  7.88275e+266  0:00:10.281310\nnew_halley           4.03232        154124  0:00:06.619619\n\n\n"
     ]
    },
    {
     "name": "stdout",
     "output_type": "stream",
     "text": [
      "This is the test result for initial point sigma 0.30, initial iteration 3 times:\n                log_accuracy           MSE  Time(hh:mm:ss)\nbrentq               4.30646    0.00100102  0:00:04.752007\nbrenth               4.30646    0.00100102  0:00:04.770726\nridder               4.30646    0.00100102  0:00:06.590021\nscipy_newton         4.14998   5.85325e+17  0:00:02.675322\nbisection            4.23352       1.61306  0:00:21.625970\nmullerBisection      4.23223       1.61304  0:00:22.821336\nnewton               4.07488  5.82465e+198  0:00:03.456916\nhalley               4.22647     0.0008426  0:00:01.902747\nnew_newton           2.82967           inf  0:00:55.749268\nnew_halley           3.91522   2.17325e+06  0:00:08.958499\n\n\n"
     ]
    },
    {
     "name": "stdout",
     "output_type": "stream",
     "text": [
      "This is the test result for initial point sigma 0.50, initial iteration 3 times:\n                log_accuracy           MSE  Time(hh:mm:ss)\nbrentq               4.30646    0.00100102  0:00:04.765634\nbrenth               4.30646    0.00100102  0:00:04.706255\nridder               4.30646    0.00100102  0:00:06.524208\nscipy_newton         4.11276   7.04273e+23  0:00:02.775053\nbisection            4.23352       1.61306  0:00:21.630624\nmullerBisection      4.23223       1.61304  0:00:22.822514\nnewton               4.11989  5.81717e+111  0:00:05.607842\nhalley               3.93286    0.00104206  0:00:01.904253\nnew_newton           2.82967           inf  0:00:55.090526\nnew_halley           3.91522   2.17325e+06  0:00:08.852469\n\n\n"
     ]
    },
    {
     "name": "stdout",
     "output_type": "stream",
     "text": [
      "This is the test result for initial point sigma 0.70, initial iteration 3 times:\n                log_accuracy          MSE  Time(hh:mm:ss)\nbrentq               4.30646   0.00100102  0:00:04.754547\nbrenth               4.30646   0.00100102  0:00:04.720813\nridder               4.30646   0.00100102  0:00:06.515613\nscipy_newton         4.12553  7.79877e+37  0:00:02.863673\nbisection            4.23352      1.61306  0:00:21.609265\nmullerBisection      4.23223      1.61304  0:00:22.825070\nnewton               4.19757  2.05935e+42  0:00:03.492793\nhalley                3.7735   0.00167653  0:00:01.903444\nnew_newton           2.82967          inf  0:00:55.042568\nnew_halley           3.91522  2.17325e+06  0:00:08.925146\n\n\n"
     ]
    },
    {
     "name": "stdout",
     "output_type": "stream",
     "text": [
      "This is the test result for initial point sigma 1.00, initial iteration 3 times:\n                log_accuracy           MSE  Time(hh:mm:ss)\nbrentq               4.30646    0.00100102  0:00:04.726317\nbrenth               4.30646    0.00100102  0:00:04.814015\nridder               4.30646    0.00100102  0:00:06.558268\nscipy_newton         4.13935   1.40374e+19  0:00:02.908475\nbisection            4.23352       1.61306  0:00:21.624088\nmullerBisection      4.23223       1.61304  0:00:22.714291\nnewton               4.12668  1.55421e+181  0:00:03.300622\nhalley               3.64457    0.00281198  0:00:01.919284\nnew_newton           2.82967           inf  0:00:55.217771\nnew_halley           3.91522   2.17325e+06  0:00:09.001761\n\n\n"
     ]
    },
    {
     "name": "stdout",
     "output_type": "stream",
     "text": [
      "This is the test result for initial point sigma 1.50, initial iteration 3 times:\n                log_accuracy          MSE  Time(hh:mm:ss)\nbrentq               4.30646   0.00100102  0:00:04.768962\nbrenth               4.30646   0.00100102  0:00:04.719120\nridder               4.30646   0.00100102  0:00:06.591364\nscipy_newton         4.12278   7.8153e+26  0:00:02.993491\nbisection            4.23352      1.61306  0:00:21.505081\nmullerBisection      4.23223      1.61304  0:00:22.895378\nnewton               4.07301  6.80155e+19  0:00:07.087239\nhalley               3.56188   0.00490749  0:00:01.899962\nnew_newton           2.82967          inf  0:00:55.152459\nnew_halley           3.91522  2.17325e+06  0:00:08.916262\n\n\n"
     ]
    },
    {
     "name": "stdout",
     "output_type": "stream",
     "text": [
      "This is the test result for initial point sigma 1.70, initial iteration 3 times:\n                log_accuracy           MSE  Time(hh:mm:ss)\nbrentq               4.30646    0.00100102  0:00:04.734454\nbrenth               4.30646    0.00100102  0:00:04.716655\nridder               4.30646    0.00100102  0:00:06.572922\nscipy_newton         4.17953   8.81086e+31  0:00:03.012467\nbisection            4.23352       1.61306  0:00:21.891091\nmullerBisection      4.23223       1.61304  0:00:22.923028\nnewton               3.53386  6.53992e+303  0:00:02.939189\nhalley               3.40933    0.00586908  0:00:01.901574\nnew_newton           2.82967           inf  0:00:54.998646\nnew_halley           3.91522   2.17325e+06  0:00:08.943274\n\n\n"
     ]
    },
    {
     "name": "stdout",
     "output_type": "stream",
     "text": [
      "This is the test result for initial point sigma 2.00, initial iteration 3 times:\n                log_accuracy          MSE  Time(hh:mm:ss)\nbrentq               4.30646   0.00100102  0:00:04.763834\nbrenth               4.30646   0.00100102  0:00:04.713989\nridder               4.30646   0.00100102  0:00:06.565496\nscipy_newton         4.11627  6.68672e+19  0:00:03.089499\nbisection            4.23352      1.61306  0:00:21.564178\nmullerBisection      4.23223      1.61304  0:00:22.964211\nnewton                3.3724  1.34356e+47  0:00:04.754656\nhalley                 3.136   0.00753054  0:00:01.905688\nnew_newton           2.82967          inf  0:00:54.976493\nnew_halley           3.91522  2.17325e+06  0:00:08.895014\n\n\n"
     ]
    },
    {
     "name": "stdout",
     "output_type": "stream",
     "text": [
      "This is the test result for initial point sigma 0.30, initial iteration 5 times:\n                log_accuracy           MSE  Time(hh:mm:ss)\nbrentq               4.30646    0.00100102  0:00:04.741288\nbrenth               4.30646    0.00100102  0:00:04.712507\nridder               4.30646    0.00100102  0:00:06.531789\nscipy_newton         4.14998   5.85325e+17  0:00:02.669124\nbisection            4.23352       1.61306  0:00:21.482217\nmullerBisection      4.23223       1.61304  0:00:23.006569\nnewton               4.07488  5.82465e+198  0:00:03.461913\nhalley               4.22647     0.0008426  0:00:01.904700\nnew_newton           4.17595   8.85483e+17  0:00:13.731503\nnew_halley            4.2429   1.79205e+07  0:00:13.585007\n\n\n"
     ]
    },
    {
     "name": "stdout",
     "output_type": "stream",
     "text": [
      "This is the test result for initial point sigma 0.50, initial iteration 5 times:\n                log_accuracy           MSE  Time(hh:mm:ss)\nbrentq               4.30646    0.00100102  0:00:04.775634\nbrenth               4.30646    0.00100102  0:00:04.719733\nridder               4.30646    0.00100102  0:00:06.557187\nscipy_newton         4.11276   7.04273e+23  0:00:02.776752\nbisection            4.23352       1.61306  0:00:21.464183\nmullerBisection      4.23223       1.61304  0:00:22.786916\nnewton               4.11989  5.81717e+111  0:00:05.582061\nhalley               3.93286    0.00104206  0:00:01.889803\nnew_newton           4.17595   8.85483e+17  0:00:13.487452\nnew_halley            4.2429   1.79205e+07  0:00:13.455242\n\n\n"
     ]
    },
    {
     "name": "stdout",
     "output_type": "stream",
     "text": [
      "This is the test result for initial point sigma 0.70, initial iteration 5 times:\n                log_accuracy          MSE  Time(hh:mm:ss)\nbrentq               4.30646   0.00100102  0:00:04.725106\nbrenth               4.30646   0.00100102  0:00:04.700936\nridder               4.30646   0.00100102  0:00:06.485523\nscipy_newton         4.12553  7.79877e+37  0:00:02.849189\nbisection            4.23352      1.61306  0:00:21.526729\nmullerBisection      4.23223      1.61304  0:00:22.743956\nnewton               4.19757  2.05935e+42  0:00:03.454922\nhalley                3.7735   0.00167653  0:00:01.895087\nnew_newton           4.17595  8.85483e+17  0:00:13.654694\nnew_halley            4.2429  1.79205e+07  0:00:13.532680\n\n\n"
     ]
    },
    {
     "name": "stdout",
     "output_type": "stream",
     "text": [
      "This is the test result for initial point sigma 1.00, initial iteration 5 times:\n                log_accuracy           MSE  Time(hh:mm:ss)\nbrentq               4.30646    0.00100102  0:00:04.767474\nbrenth               4.30646    0.00100102  0:00:04.698025\nridder               4.30646    0.00100102  0:00:06.527657\nscipy_newton         4.13935   1.40374e+19  0:00:02.893481\nbisection            4.23352       1.61306  0:00:21.627873\nmullerBisection      4.23223       1.61304  0:00:23.033174\nnewton               4.12668  1.55421e+181  0:00:03.291682\nhalley               3.64457    0.00281198  0:00:01.922577\nnew_newton           4.17595   8.85483e+17  0:00:13.704194\nnew_halley            4.2429   1.79205e+07  0:00:13.502682\n\n\n"
     ]
    },
    {
     "name": "stdout",
     "output_type": "stream",
     "text": [
      "This is the test result for initial point sigma 1.50, initial iteration 5 times:\n                log_accuracy          MSE  Time(hh:mm:ss)\nbrentq               4.30646   0.00100102  0:00:04.753700\nbrenth               4.30646   0.00100102  0:00:04.718398\nridder               4.30646   0.00100102  0:00:06.558080\nscipy_newton         4.12278   7.8153e+26  0:00:02.999224\nbisection            4.23352      1.61306  0:00:21.660023\nmullerBisection      4.23223      1.61304  0:00:22.889582\nnewton               4.07301  6.80155e+19  0:00:07.036892\nhalley               3.56188   0.00490749  0:00:01.923057\nnew_newton           4.17595  8.85483e+17  0:00:13.529563\nnew_halley            4.2429  1.79205e+07  0:00:13.525313\n\n\n"
     ]
    },
    {
     "name": "stdout",
     "output_type": "stream",
     "text": [
      "This is the test result for initial point sigma 1.70, initial iteration 5 times:\n                log_accuracy           MSE  Time(hh:mm:ss)\nbrentq               4.30646    0.00100102  0:00:04.753743\nbrenth               4.30646    0.00100102  0:00:04.750648\nridder               4.30646    0.00100102  0:00:06.533123\nscipy_newton         4.17953   8.81086e+31  0:00:03.021517\nbisection            4.23352       1.61306  0:00:21.525027\nmullerBisection      4.23223       1.61304  0:00:22.881668\nnewton               3.53386  6.53992e+303  0:00:02.883564\nhalley               3.40933    0.00586908  0:00:01.904004\nnew_newton           4.17595   8.85483e+17  0:00:13.755857\nnew_halley            4.2429   1.79205e+07  0:00:13.587763\n\n\n"
     ]
    },
    {
     "name": "stdout",
     "output_type": "stream",
     "text": [
      "This is the test result for initial point sigma 2.00, initial iteration 5 times:\n                log_accuracy          MSE  Time(hh:mm:ss)\nbrentq               4.30646   0.00100102  0:00:04.736598\nbrenth               4.30646   0.00100102  0:00:04.739572\nridder               4.30646   0.00100102  0:00:06.534681\nscipy_newton         4.11627  6.68672e+19  0:00:03.075956\nbisection            4.23352      1.61306  0:00:21.475423\nmullerBisection      4.23223      1.61304  0:00:22.709816\nnewton                3.3724  1.34356e+47  0:00:04.798405\nhalley                 3.136   0.00753054  0:00:01.910636\nnew_newton           4.17595  8.85483e+17  0:00:13.559726\nnew_halley            4.2429  1.79205e+07  0:00:13.493049\n\n\n"
     ]
    }
   ],
   "source": [
    "testMethods = ['brentq', 'brenth', 'ridder', 'scipy_newton', 'bisection', 'mullerBisection', 'newton', 'halley', 'new_newton', 'new_halley']                                  \n",
    "testSigma = [0.3, 0.5, 0.7, 1, 1.5, 1.7, 2]\n",
    "testIter = [1, 2, 3, 5]\n",
    "result = pd.DataFrame(index=testMethods, columns=['log_accuracy', 'MSE', 'Time(hh:mm:ss)'])                                                \n",
    "dicResult = {}\n",
    "\n",
    "                                                                                                                                                                                                                                                        \n",
    "for iter in testIter:\n",
    "    dicResult[iter] = {}\n",
    "    for sigma in testSigma:  \n",
    "        for method in testMethods: \n",
    "            result.loc[method, :] = performance(data, method, sigma0=sigma, initialIter=iter)\n",
    "        dicResult[iter][sigma] = result.copy()                                                                                                  \n",
    "        print('This is the test result for initial point sigma {:.2f}, \\\n",
    "initial iteration {:d} times:\\n{}\\n\\n'.format(sigma, iter, result))"
   ]
  },
  {
   "cell_type": "code",
   "execution_count": 12,
   "metadata": {},
   "outputs": [],
   "source": [
    "newDic = dicResult.copy()"
   ]
  },
  {
   "cell_type": "code",
   "execution_count": 6,
   "metadata": {
    "collapsed": false
   },
   "outputs": [],
   "source": [
    "for i in newDic:\n",
    "    for s in newDic[i]:\n",
    "        for ind in newDic[i][s].index:\n",
    "            newDic[i][s].loc[ind, 'Seconds'] = float(newDic[i][s].loc[ind, 'Time(hh:mm:ss)'].split(':')[1])"
   ]
  },
  {
   "cell_type": "code",
   "execution_count": 13,
   "metadata": {
    "collapsed": true
   },
   "outputs": [
    {
     "data": {
      "text/plain": [
       "{1: {0.3:                 log_accuracy           MSE  Time(hh:mm:ss)\n  brentq               4.30646    0.00100102  0:00:04.933965\n  brenth               4.30646    0.00100102  0:00:04.728438\n  ridder               4.30646    0.00100102  0:00:06.583211\n  scipy_newton         4.14998   5.85325e+17  0:00:02.714752\n  bisection            4.23352       1.61306  0:00:21.710789\n  mullerBisection      4.23223       1.61304  0:00:22.911845\n  newton               4.07488  5.82465e+198  0:00:03.470157\n  halley               4.22647     0.0008426  0:00:01.918691\n  new_newton          -14.3382           inf  0:19:02.380316\n  new_halley           -8.8698           inf  0:05:51.802205,\n  0.5:                 log_accuracy           MSE  Time(hh:mm:ss)\n  brentq               4.30646    0.00100102  0:00:04.731362\n  brenth               4.30646    0.00100102  0:00:04.703053\n  ridder               4.30646    0.00100102  0:00:06.529668\n  scipy_newton         4.11276   7.04273e+23  0:00:02.793572\n  bisection            4.23352       1.61306  0:00:21.578024\n  mullerBisection      4.23223       1.61304  0:00:22.806896\n  newton               4.11989  5.81717e+111  0:00:05.621832\n  halley               3.93286    0.00104206  0:00:01.891630\n  new_newton          -14.3382           inf  0:18:50.724173\n  new_halley           -8.8698           inf  0:05:50.458620,\n  0.7:                 log_accuracy          MSE  Time(hh:mm:ss)\n  brentq               4.30646   0.00100102  0:00:04.716007\n  brenth               4.30646   0.00100102  0:00:04.725492\n  ridder               4.30646   0.00100102  0:00:06.541128\n  scipy_newton         4.12553  7.79877e+37  0:00:02.854884\n  bisection            4.23352      1.61306  0:00:21.579581\n  mullerBisection      4.23223      1.61304  0:00:22.749562\n  newton               4.19757  2.05935e+42  0:00:03.487866\n  halley                3.7735   0.00167653  0:00:01.909935\n  new_newton          -14.3382          inf  0:18:58.347385\n  new_halley           -8.8698          inf  0:05:54.047223,\n  1:                 log_accuracy           MSE  Time(hh:mm:ss)\n  brentq               4.30646    0.00100102  0:00:04.733570\n  brenth               4.30646    0.00100102  0:00:04.724741\n  ridder               4.30646    0.00100102  0:00:06.526174\n  scipy_newton         4.13935   1.40374e+19  0:00:02.906407\n  bisection            4.23352       1.61306  0:00:21.609386\n  mullerBisection      4.23223       1.61304  0:00:22.832818\n  newton               4.12668  1.55421e+181  0:00:03.296718\n  halley               3.64457    0.00281198  0:00:01.905420\n  new_newton          -14.3382           inf  0:18:55.251304\n  new_halley           -8.8698           inf  0:05:53.518749,\n  1.5:                 log_accuracy          MSE  Time(hh:mm:ss)\n  brentq               4.30646   0.00100102  0:00:04.775454\n  brenth               4.30646   0.00100102  0:00:04.715441\n  ridder               4.30646   0.00100102  0:00:06.568138\n  scipy_newton         4.12278   7.8153e+26  0:00:02.998072\n  bisection            4.23352      1.61306  0:00:21.745437\n  mullerBisection      4.23223      1.61304  0:00:22.837833\n  newton               4.07301  6.80155e+19  0:00:07.154913\n  halley               3.56188   0.00490749  0:00:01.907732\n  new_newton          -14.3382          inf  0:18:52.160233\n  new_halley           -8.8698          inf  0:05:53.161701,\n  1.7:                 log_accuracy           MSE  Time(hh:mm:ss)\n  brentq               4.30646    0.00100102  0:00:04.744244\n  brenth               4.30646    0.00100102  0:00:04.779090\n  ridder               4.30646    0.00100102  0:00:06.594308\n  scipy_newton         4.17953   8.81086e+31  0:00:03.061615\n  bisection            4.23352       1.61306  0:00:21.925180\n  mullerBisection      4.23223       1.61304  0:00:22.893678\n  newton               3.53386  6.53992e+303  0:00:02.886860\n  halley               3.40933    0.00586908  0:00:01.905126\n  new_newton          -14.3382           inf  0:18:51.505863\n  new_halley           -8.8698           inf  0:05:53.226685,\n  2:                 log_accuracy          MSE  Time(hh:mm:ss)\n  brentq               4.30646   0.00100102  0:00:04.749375\n  brenth               4.30646   0.00100102  0:00:04.728667\n  ridder               4.30646   0.00100102  0:00:06.519713\n  scipy_newton         4.11627  6.68672e+19  0:00:03.098148\n  bisection            4.23352      1.61306  0:00:21.610973\n  mullerBisection      4.23223      1.61304  0:00:23.074377\n  newton                3.3724  1.34356e+47  0:00:04.755880\n  halley                 3.136   0.00753054  0:00:01.916958\n  new_newton          -14.3382          inf  0:18:49.731790\n  new_halley           -8.8698          inf  0:05:51.197230},\n 2: {0.3:                 log_accuracy           MSE  Time(hh:mm:ss)\n  brentq               4.30646    0.00100102  0:00:04.753711\n  brenth               4.30646    0.00100102  0:00:04.711864\n  ridder               4.30646    0.00100102  0:00:06.522023\n  scipy_newton         4.14998   5.85325e+17  0:00:02.667093\n  bisection            4.23352       1.61306  0:00:21.583975\n  mullerBisection      4.23223       1.61304  0:00:22.852475\n  newton               4.07488  5.82465e+198  0:00:03.447181\n  halley               4.22647     0.0008426  0:00:01.900866\n  new_newton           4.03798  7.88275e+266  0:00:10.240788\n  new_halley           4.03232        154124  0:00:06.603519,\n  0.5:                 log_accuracy           MSE  Time(hh:mm:ss)\n  brentq               4.30646    0.00100102  0:00:04.760764\n  brenth               4.30646    0.00100102  0:00:04.713875\n  ridder               4.30646    0.00100102  0:00:06.542184\n  scipy_newton         4.11276   7.04273e+23  0:00:02.789269\n  bisection            4.23352       1.61306  0:00:21.606820\n  mullerBisection      4.23223       1.61304  0:00:22.819395\n  newton               4.11989  5.81717e+111  0:00:05.569983\n  halley               3.93286    0.00104206  0:00:01.903457\n  new_newton           4.03798  7.88275e+266  0:00:10.104743\n  new_halley           4.03232        154124  0:00:06.591064,\n  0.7:                 log_accuracy           MSE  Time(hh:mm:ss)\n  brentq               4.30646    0.00100102  0:00:04.751471\n  brenth               4.30646    0.00100102  0:00:04.715392\n  ridder               4.30646    0.00100102  0:00:06.503318\n  scipy_newton         4.12553   7.79877e+37  0:00:02.833738\n  bisection            4.23352       1.61306  0:00:21.766483\n  mullerBisection      4.23223       1.61304  0:00:22.797415\n  newton               4.19757   2.05935e+42  0:00:03.478937\n  halley                3.7735    0.00167653  0:00:01.899945\n  new_newton           4.03798  7.88275e+266  0:00:10.230001\n  new_halley           4.03232        154124  0:00:06.551651,\n  1:                 log_accuracy           MSE  Time(hh:mm:ss)\n  brentq               4.30646    0.00100102  0:00:04.733515\n  brenth               4.30646    0.00100102  0:00:04.712470\n  ridder               4.30646    0.00100102  0:00:06.493886\n  scipy_newton         4.13935   1.40374e+19  0:00:02.907010\n  bisection            4.23352       1.61306  0:00:21.515502\n  mullerBisection      4.23223       1.61304  0:00:22.987298\n  newton               4.12668  1.55421e+181  0:00:03.303868\n  halley               3.64457    0.00281198  0:00:01.898761\n  new_newton           4.03798  7.88275e+266  0:00:10.139124\n  new_halley           4.03232        154124  0:00:06.565716,\n  1.5:                 log_accuracy           MSE  Time(hh:mm:ss)\n  brentq               4.30646    0.00100102  0:00:04.740477\n  brenth               4.30646    0.00100102  0:00:04.720080\n  ridder               4.30646    0.00100102  0:00:06.533807\n  scipy_newton         4.12278    7.8153e+26  0:00:02.987709\n  bisection            4.23352       1.61306  0:00:21.596035\n  mullerBisection      4.23223       1.61304  0:00:23.072496\n  newton               4.07301   6.80155e+19  0:00:07.107248\n  halley               3.56188    0.00490749  0:00:01.898317\n  new_newton           4.03798  7.88275e+266  0:00:10.176280\n  new_halley           4.03232        154124  0:00:06.605151,\n  1.7:                 log_accuracy           MSE  Time(hh:mm:ss)\n  brentq               4.30646    0.00100102  0:00:04.749106\n  brenth               4.30646    0.00100102  0:00:04.718049\n  ridder               4.30646    0.00100102  0:00:06.528065\n  scipy_newton         4.17953   8.81086e+31  0:00:03.007135\n  bisection            4.23352       1.61306  0:00:21.565830\n  mullerBisection      4.23223       1.61304  0:00:22.803543\n  newton               3.53386  6.53992e+303  0:00:02.880131\n  halley               3.40933    0.00586908  0:00:01.903919\n  new_newton           4.03798  7.88275e+266  0:00:10.211072\n  new_halley           4.03232        154124  0:00:06.589726,\n  2:                 log_accuracy           MSE  Time(hh:mm:ss)\n  brentq               4.30646    0.00100102  0:00:04.766244\n  brenth               4.30646    0.00100102  0:00:04.703795\n  ridder               4.30646    0.00100102  0:00:06.536967\n  scipy_newton         4.11627   6.68672e+19  0:00:03.099349\n  bisection            4.23352       1.61306  0:00:21.602917\n  mullerBisection      4.23223       1.61304  0:00:23.001688\n  newton                3.3724   1.34356e+47  0:00:04.832773\n  halley                 3.136    0.00753054  0:00:01.915886\n  new_newton           4.03798  7.88275e+266  0:00:10.281310\n  new_halley           4.03232        154124  0:00:06.619619},\n 3: {0.3:                 log_accuracy           MSE  Time(hh:mm:ss)\n  brentq               4.30646    0.00100102  0:00:04.752007\n  brenth               4.30646    0.00100102  0:00:04.770726\n  ridder               4.30646    0.00100102  0:00:06.590021\n  scipy_newton         4.14998   5.85325e+17  0:00:02.675322\n  bisection            4.23352       1.61306  0:00:21.625970\n  mullerBisection      4.23223       1.61304  0:00:22.821336\n  newton               4.07488  5.82465e+198  0:00:03.456916\n  halley               4.22647     0.0008426  0:00:01.902747\n  new_newton           2.82967           inf  0:00:55.749268\n  new_halley           3.91522   2.17325e+06  0:00:08.958499,\n  0.5:                 log_accuracy           MSE  Time(hh:mm:ss)\n  brentq               4.30646    0.00100102  0:00:04.765634\n  brenth               4.30646    0.00100102  0:00:04.706255\n  ridder               4.30646    0.00100102  0:00:06.524208\n  scipy_newton         4.11276   7.04273e+23  0:00:02.775053\n  bisection            4.23352       1.61306  0:00:21.630624\n  mullerBisection      4.23223       1.61304  0:00:22.822514\n  newton               4.11989  5.81717e+111  0:00:05.607842\n  halley               3.93286    0.00104206  0:00:01.904253\n  new_newton           2.82967           inf  0:00:55.090526\n  new_halley           3.91522   2.17325e+06  0:00:08.852469,\n  0.7:                 log_accuracy          MSE  Time(hh:mm:ss)\n  brentq               4.30646   0.00100102  0:00:04.754547\n  brenth               4.30646   0.00100102  0:00:04.720813\n  ridder               4.30646   0.00100102  0:00:06.515613\n  scipy_newton         4.12553  7.79877e+37  0:00:02.863673\n  bisection            4.23352      1.61306  0:00:21.609265\n  mullerBisection      4.23223      1.61304  0:00:22.825070\n  newton               4.19757  2.05935e+42  0:00:03.492793\n  halley                3.7735   0.00167653  0:00:01.903444\n  new_newton           2.82967          inf  0:00:55.042568\n  new_halley           3.91522  2.17325e+06  0:00:08.925146,\n  1:                 log_accuracy           MSE  Time(hh:mm:ss)\n  brentq               4.30646    0.00100102  0:00:04.726317\n  brenth               4.30646    0.00100102  0:00:04.814015\n  ridder               4.30646    0.00100102  0:00:06.558268\n  scipy_newton         4.13935   1.40374e+19  0:00:02.908475\n  bisection            4.23352       1.61306  0:00:21.624088\n  mullerBisection      4.23223       1.61304  0:00:22.714291\n  newton               4.12668  1.55421e+181  0:00:03.300622\n  halley               3.64457    0.00281198  0:00:01.919284\n  new_newton           2.82967           inf  0:00:55.217771\n  new_halley           3.91522   2.17325e+06  0:00:09.001761,\n  1.5:                 log_accuracy          MSE  Time(hh:mm:ss)\n  brentq               4.30646   0.00100102  0:00:04.768962\n  brenth               4.30646   0.00100102  0:00:04.719120\n  ridder               4.30646   0.00100102  0:00:06.591364\n  scipy_newton         4.12278   7.8153e+26  0:00:02.993491\n  bisection            4.23352      1.61306  0:00:21.505081\n  mullerBisection      4.23223      1.61304  0:00:22.895378\n  newton               4.07301  6.80155e+19  0:00:07.087239\n  halley               3.56188   0.00490749  0:00:01.899962\n  new_newton           2.82967          inf  0:00:55.152459\n  new_halley           3.91522  2.17325e+06  0:00:08.916262,\n  1.7:                 log_accuracy           MSE  Time(hh:mm:ss)\n  brentq               4.30646    0.00100102  0:00:04.734454\n  brenth               4.30646    0.00100102  0:00:04.716655\n  ridder               4.30646    0.00100102  0:00:06.572922\n  scipy_newton         4.17953   8.81086e+31  0:00:03.012467\n  bisection            4.23352       1.61306  0:00:21.891091\n  mullerBisection      4.23223       1.61304  0:00:22.923028\n  newton               3.53386  6.53992e+303  0:00:02.939189\n  halley               3.40933    0.00586908  0:00:01.901574\n  new_newton           2.82967           inf  0:00:54.998646\n  new_halley           3.91522   2.17325e+06  0:00:08.943274,\n  2:                 log_accuracy          MSE  Time(hh:mm:ss)\n  brentq               4.30646   0.00100102  0:00:04.763834\n  brenth               4.30646   0.00100102  0:00:04.713989\n  ridder               4.30646   0.00100102  0:00:06.565496\n  scipy_newton         4.11627  6.68672e+19  0:00:03.089499\n  bisection            4.23352      1.61306  0:00:21.564178\n  mullerBisection      4.23223      1.61304  0:00:22.964211\n  newton                3.3724  1.34356e+47  0:00:04.754656\n  halley                 3.136   0.00753054  0:00:01.905688\n  new_newton           2.82967          inf  0:00:54.976493\n  new_halley           3.91522  2.17325e+06  0:00:08.895014},\n 5: {0.3:                 log_accuracy           MSE  Time(hh:mm:ss)\n  brentq               4.30646    0.00100102  0:00:04.741288\n  brenth               4.30646    0.00100102  0:00:04.712507\n  ridder               4.30646    0.00100102  0:00:06.531789\n  scipy_newton         4.14998   5.85325e+17  0:00:02.669124\n  bisection            4.23352       1.61306  0:00:21.482217\n  mullerBisection      4.23223       1.61304  0:00:23.006569\n  newton               4.07488  5.82465e+198  0:00:03.461913\n  halley               4.22647     0.0008426  0:00:01.904700\n  new_newton           4.17595   8.85483e+17  0:00:13.731503\n  new_halley            4.2429   1.79205e+07  0:00:13.585007,\n  0.5:                 log_accuracy           MSE  Time(hh:mm:ss)\n  brentq               4.30646    0.00100102  0:00:04.775634\n  brenth               4.30646    0.00100102  0:00:04.719733\n  ridder               4.30646    0.00100102  0:00:06.557187\n  scipy_newton         4.11276   7.04273e+23  0:00:02.776752\n  bisection            4.23352       1.61306  0:00:21.464183\n  mullerBisection      4.23223       1.61304  0:00:22.786916\n  newton               4.11989  5.81717e+111  0:00:05.582061\n  halley               3.93286    0.00104206  0:00:01.889803\n  new_newton           4.17595   8.85483e+17  0:00:13.487452\n  new_halley            4.2429   1.79205e+07  0:00:13.455242,\n  0.7:                 log_accuracy          MSE  Time(hh:mm:ss)\n  brentq               4.30646   0.00100102  0:00:04.725106\n  brenth               4.30646   0.00100102  0:00:04.700936\n  ridder               4.30646   0.00100102  0:00:06.485523\n  scipy_newton         4.12553  7.79877e+37  0:00:02.849189\n  bisection            4.23352      1.61306  0:00:21.526729\n  mullerBisection      4.23223      1.61304  0:00:22.743956\n  newton               4.19757  2.05935e+42  0:00:03.454922\n  halley                3.7735   0.00167653  0:00:01.895087\n  new_newton           4.17595  8.85483e+17  0:00:13.654694\n  new_halley            4.2429  1.79205e+07  0:00:13.532680,\n  1:                 log_accuracy           MSE  Time(hh:mm:ss)\n  brentq               4.30646    0.00100102  0:00:04.767474\n  brenth               4.30646    0.00100102  0:00:04.698025\n  ridder               4.30646    0.00100102  0:00:06.527657\n  scipy_newton         4.13935   1.40374e+19  0:00:02.893481\n  bisection            4.23352       1.61306  0:00:21.627873\n  mullerBisection      4.23223       1.61304  0:00:23.033174\n  newton               4.12668  1.55421e+181  0:00:03.291682\n  halley               3.64457    0.00281198  0:00:01.922577\n  new_newton           4.17595   8.85483e+17  0:00:13.704194\n  new_halley            4.2429   1.79205e+07  0:00:13.502682,\n  1.5:                 log_accuracy          MSE  Time(hh:mm:ss)\n  brentq               4.30646   0.00100102  0:00:04.753700\n  brenth               4.30646   0.00100102  0:00:04.718398\n  ridder               4.30646   0.00100102  0:00:06.558080\n  scipy_newton         4.12278   7.8153e+26  0:00:02.999224\n  bisection            4.23352      1.61306  0:00:21.660023\n  mullerBisection      4.23223      1.61304  0:00:22.889582\n  newton               4.07301  6.80155e+19  0:00:07.036892\n  halley               3.56188   0.00490749  0:00:01.923057\n  new_newton           4.17595  8.85483e+17  0:00:13.529563\n  new_halley            4.2429  1.79205e+07  0:00:13.525313,\n  1.7:                 log_accuracy           MSE  Time(hh:mm:ss)\n  brentq               4.30646    0.00100102  0:00:04.753743\n  brenth               4.30646    0.00100102  0:00:04.750648\n  ridder               4.30646    0.00100102  0:00:06.533123\n  scipy_newton         4.17953   8.81086e+31  0:00:03.021517\n  bisection            4.23352       1.61306  0:00:21.525027\n  mullerBisection      4.23223       1.61304  0:00:22.881668\n  newton               3.53386  6.53992e+303  0:00:02.883564\n  halley               3.40933    0.00586908  0:00:01.904004\n  new_newton           4.17595   8.85483e+17  0:00:13.755857\n  new_halley            4.2429   1.79205e+07  0:00:13.587763,\n  2:                 log_accuracy          MSE  Time(hh:mm:ss)\n  brentq               4.30646   0.00100102  0:00:04.736598\n  brenth               4.30646   0.00100102  0:00:04.739572\n  ridder               4.30646   0.00100102  0:00:06.534681\n  scipy_newton         4.11627  6.68672e+19  0:00:03.075956\n  bisection            4.23352      1.61306  0:00:21.475423\n  mullerBisection      4.23223      1.61304  0:00:22.709816\n  newton                3.3724  1.34356e+47  0:00:04.798405\n  halley                 3.136   0.00753054  0:00:01.910636\n  new_newton           4.17595  8.85483e+17  0:00:13.559726\n  new_halley            4.2429  1.79205e+07  0:00:13.493049}}"
      ]
     },
     "execution_count": 13,
     "metadata": {},
     "output_type": "execute_result"
    }
   ],
   "source": [
    "newDic"
   ]
  },
  {
   "cell_type": "code",
   "execution_count": 44,
   "metadata": {},
   "outputs": [],
   "source": [
    "df_plt = pd.DataFrame(index=testMethods)\n",
    "dic_plt = {}\n",
    "for i in newDic:\n",
    "    for s in testSigma:\n",
    "        df_plt.loc[:, 'acc_{}sigma'.format(s)] = newDic[i][s].loc[:, 'Accuracy']\n",
    "    for s in testSigma:\n",
    "        df_plt.loc[:, 'sec_{}sigma'.format(s)] = newDic[i][s].loc[:, 'Seconds']\n",
    "    dic_plt[i] = df_plt"
   ]
  },
  {
   "cell_type": "code",
   "execution_count": 152,
   "metadata": {},
   "outputs": [
    {
     "data": {
      "text/html": [
       "<div>\n",
       "<table border=\"1\" class=\"dataframe\">\n",
       "  <thead>\n",
       "    <tr style=\"text-align: right;\">\n",
       "      <th></th>\n",
       "      <th>sec_10iter</th>\n",
       "      <th>sec_100iter</th>\n",
       "      <th>sec_500iter</th>\n",
       "      <th>sec_1000iter</th>\n",
       "    </tr>\n",
       "  </thead>\n",
       "  <tbody>\n",
       "    <tr>\n",
       "      <th>brentq</th>\n",
       "      <td>5.218</td>\n",
       "      <td>4.860</td>\n",
       "      <td>4.852</td>\n",
       "      <td>5.566</td>\n",
       "    </tr>\n",
       "    <tr>\n",
       "      <th>brenth</th>\n",
       "      <td>5.179</td>\n",
       "      <td>4.841</td>\n",
       "      <td>4.801</td>\n",
       "      <td>5.591</td>\n",
       "    </tr>\n",
       "    <tr>\n",
       "      <th>ridder</th>\n",
       "      <td>7.503</td>\n",
       "      <td>6.727</td>\n",
       "      <td>6.704</td>\n",
       "      <td>7.811</td>\n",
       "    </tr>\n",
       "    <tr>\n",
       "      <th>scipy_newton</th>\n",
       "      <td>2.838</td>\n",
       "      <td>2.720</td>\n",
       "      <td>2.733</td>\n",
       "      <td>3.092</td>\n",
       "    </tr>\n",
       "    <tr>\n",
       "      <th>bisection</th>\n",
       "      <td>22.817</td>\n",
       "      <td>21.972</td>\n",
       "      <td>22.248</td>\n",
       "      <td>25.447</td>\n",
       "    </tr>\n",
       "    <tr>\n",
       "      <th>mullerBisection</th>\n",
       "      <td>23.939</td>\n",
       "      <td>23.400</td>\n",
       "      <td>23.402</td>\n",
       "      <td>26.473</td>\n",
       "    </tr>\n",
       "    <tr>\n",
       "      <th>newton</th>\n",
       "      <td>3.595</td>\n",
       "      <td>3.519</td>\n",
       "      <td>3.546</td>\n",
       "      <td>4.101</td>\n",
       "    </tr>\n",
       "    <tr>\n",
       "      <th>halley</th>\n",
       "      <td>1.975</td>\n",
       "      <td>1.932</td>\n",
       "      <td>1.954</td>\n",
       "      <td>2.298</td>\n",
       "    </tr>\n",
       "    <tr>\n",
       "      <th>new_newton</th>\n",
       "      <td>23.002</td>\n",
       "      <td>23.643</td>\n",
       "      <td>23.868</td>\n",
       "      <td>28.836</td>\n",
       "    </tr>\n",
       "    <tr>\n",
       "      <th>new_halley</th>\n",
       "      <td>23.471</td>\n",
       "      <td>30.169</td>\n",
       "      <td>24.331</td>\n",
       "      <td>28.684</td>\n",
       "    </tr>\n",
       "  </tbody>\n",
       "</table>\n",
       "</div>"
      ],
      "text/plain": [
       "<div>\n",
       "<table border=\"1\" class=\"dataframe\">\n",
       "  <thead>\n",
       "    <tr style=\"text-align: right;\">\n",
       "      <th></th>\n",
       "      <th>sec_10iter</th>\n",
       "      <th>sec_100iter</th>\n",
       "      <th>sec_500iter</th>\n",
       "      <th>sec_1000iter</th>\n",
       "    </tr>\n",
       "  </thead>\n",
       "  <tbody>\n",
       "    <tr>\n",
       "      <th>brentq</th>\n",
       "      <td>5.218</td>\n",
       "      <td>4.860</td>\n",
       "      <td>4.852</td>\n",
       "      <td>5.566</td>\n",
       "    </tr>\n",
       "    <tr>\n",
       "      <th>brenth</th>\n",
       "      <td>5.179</td>\n",
       "      <td>4.841</td>\n",
       "      <td>4.801</td>\n",
       "      <td>5.591</td>\n",
       "    </tr>\n",
       "    <tr>\n",
       "      <th>ridder</th>\n",
       "      <td>7.503</td>\n",
       "      <td>6.727</td>\n",
       "      <td>6.704</td>\n",
       "      <td>7.811</td>\n",
       "    </tr>\n",
       "    <tr>\n",
       "      <th>scipy_newton</th>\n",
       "      <td>2.838</td>\n",
       "      <td>2.720</td>\n",
       "      <td>2.733</td>\n",
       "      <td>3.092</td>\n",
       "    </tr>\n",
       "    <tr>\n",
       "      <th>bisection</th>\n",
       "      <td>22.817</td>\n",
       "      <td>21.972</td>\n",
       "      <td>22.248</td>\n",
       "      <td>25.447</td>\n",
       "    </tr>\n",
       "    <tr>\n",
       "      <th>mullerBisection</th>\n",
       "      <td>23.939</td>\n",
       "      <td>23.400</td>\n",
       "      <td>23.402</td>\n",
       "      <td>26.473</td>\n",
       "    </tr>\n",
       "    <tr>\n",
       "      <th>newton</th>\n",
       "      <td>3.595</td>\n",
       "      <td>3.519</td>\n",
       "      <td>3.546</td>\n",
       "      <td>4.101</td>\n",
       "    </tr>\n",
       "    <tr>\n",
       "      <th>halley</th>\n",
       "      <td>1.975</td>\n",
       "      <td>1.932</td>\n",
       "      <td>1.954</td>\n",
       "      <td>2.298</td>\n",
       "    </tr>\n",
       "    <tr>\n",
       "      <th>new_newton</th>\n",
       "      <td>23.002</td>\n",
       "      <td>23.643</td>\n",
       "      <td>23.868</td>\n",
       "      <td>28.836</td>\n",
       "    </tr>\n",
       "    <tr>\n",
       "      <th>new_halley</th>\n",
       "      <td>23.471</td>\n",
       "      <td>30.169</td>\n",
       "      <td>24.331</td>\n",
       "      <td>28.684</td>\n",
       "    </tr>\n",
       "  </tbody>\n",
       "</table>\n",
       "</div>"
      ]
     },
     "execution_count": 152,
     "metadata": {},
     "output_type": "execute_result"
    }
   ],
   "source": [
    "df_plt2 = pd.DataFrame(index=testMethods)\n",
    "for i in testIter:\n",
    "    df_plt2.loc[:, 'acc_{}iter'.format(i)] = newDic[i][0.3].loc[:, 'Accuracy']\n",
    "for i in testIter:\n",
    "    df_plt2.loc[:, 'sec_{}iter'.format(i)] = newDic[i][0.3].loc[:, 'Seconds']       \n",
    "\n",
    "df_plt2.iloc[:, 4:]"
   ]
  },
  {
   "cell_type": "code",
   "execution_count": 150,
   "metadata": {
    "collapsed": false
   },
   "outputs": [
    {
     "data": {
      "text/html": [
       "<div>\n",
       "<table border=\"1\" class=\"dataframe\">\n",
       "  <thead>\n",
       "    <tr style=\"text-align: right;\">\n",
       "      <th></th>\n",
       "      <th>sec_0.5sigma</th>\n",
       "      <th>sec_0.7sigma</th>\n",
       "      <th>sec_1sigma</th>\n",
       "      <th>sec_1.5sigma</th>\n",
       "      <th>sec_1.7sigma</th>\n",
       "      <th>sec_2sigma</th>\n",
       "    </tr>\n",
       "  </thead>\n",
       "  <tbody>\n",
       "    <tr>\n",
       "      <th>brentq</th>\n",
       "      <td>4.849</td>\n",
       "      <td>4.863</td>\n",
       "      <td>4.897</td>\n",
       "      <td>5.131</td>\n",
       "      <td>5.654</td>\n",
       "      <td>5.666</td>\n",
       "    </tr>\n",
       "    <tr>\n",
       "      <th>brenth</th>\n",
       "      <td>4.813</td>\n",
       "      <td>4.829</td>\n",
       "      <td>4.812</td>\n",
       "      <td>5.257</td>\n",
       "      <td>5.608</td>\n",
       "      <td>5.668</td>\n",
       "    </tr>\n",
       "    <tr>\n",
       "      <th>ridder</th>\n",
       "      <td>6.692</td>\n",
       "      <td>6.696</td>\n",
       "      <td>6.695</td>\n",
       "      <td>6.871</td>\n",
       "      <td>7.830</td>\n",
       "      <td>7.764</td>\n",
       "    </tr>\n",
       "    <tr>\n",
       "      <th>scipy_newton</th>\n",
       "      <td>2.850</td>\n",
       "      <td>2.933</td>\n",
       "      <td>2.965</td>\n",
       "      <td>3.055</td>\n",
       "      <td>3.513</td>\n",
       "      <td>3.449</td>\n",
       "    </tr>\n",
       "    <tr>\n",
       "      <th>bisection</th>\n",
       "      <td>22.085</td>\n",
       "      <td>22.184</td>\n",
       "      <td>22.723</td>\n",
       "      <td>22.104</td>\n",
       "      <td>24.768</td>\n",
       "      <td>25.376</td>\n",
       "    </tr>\n",
       "    <tr>\n",
       "      <th>mullerBisection</th>\n",
       "      <td>23.479</td>\n",
       "      <td>23.566</td>\n",
       "      <td>23.233</td>\n",
       "      <td>24.013</td>\n",
       "      <td>26.558</td>\n",
       "      <td>26.743</td>\n",
       "    </tr>\n",
       "    <tr>\n",
       "      <th>newton</th>\n",
       "      <td>5.763</td>\n",
       "      <td>3.582</td>\n",
       "      <td>3.355</td>\n",
       "      <td>7.492</td>\n",
       "      <td>3.389</td>\n",
       "      <td>5.264</td>\n",
       "    </tr>\n",
       "    <tr>\n",
       "      <th>halley</th>\n",
       "      <td>1.948</td>\n",
       "      <td>1.925</td>\n",
       "      <td>1.962</td>\n",
       "      <td>1.996</td>\n",
       "      <td>2.179</td>\n",
       "      <td>2.067</td>\n",
       "    </tr>\n",
       "    <tr>\n",
       "      <th>new_newton</th>\n",
       "      <td>23.801</td>\n",
       "      <td>24.088</td>\n",
       "      <td>26.810</td>\n",
       "      <td>25.723</td>\n",
       "      <td>27.294</td>\n",
       "      <td>27.546</td>\n",
       "    </tr>\n",
       "    <tr>\n",
       "      <th>new_halley</th>\n",
       "      <td>24.552</td>\n",
       "      <td>24.887</td>\n",
       "      <td>25.862</td>\n",
       "      <td>28.216</td>\n",
       "      <td>28.053</td>\n",
       "      <td>28.040</td>\n",
       "    </tr>\n",
       "  </tbody>\n",
       "</table>\n",
       "</div>"
      ],
      "text/plain": [
       "<div>\n",
       "<table border=\"1\" class=\"dataframe\">\n",
       "  <thead>\n",
       "    <tr style=\"text-align: right;\">\n",
       "      <th></th>\n",
       "      <th>sec_0.5sigma</th>\n",
       "      <th>sec_0.7sigma</th>\n",
       "      <th>sec_1sigma</th>\n",
       "      <th>sec_1.5sigma</th>\n",
       "      <th>sec_1.7sigma</th>\n",
       "      <th>sec_2sigma</th>\n",
       "    </tr>\n",
       "  </thead>\n",
       "  <tbody>\n",
       "    <tr>\n",
       "      <th>brentq</th>\n",
       "      <td>4.849</td>\n",
       "      <td>4.863</td>\n",
       "      <td>4.897</td>\n",
       "      <td>5.131</td>\n",
       "      <td>5.654</td>\n",
       "      <td>5.666</td>\n",
       "    </tr>\n",
       "    <tr>\n",
       "      <th>brenth</th>\n",
       "      <td>4.813</td>\n",
       "      <td>4.829</td>\n",
       "      <td>4.812</td>\n",
       "      <td>5.257</td>\n",
       "      <td>5.608</td>\n",
       "      <td>5.668</td>\n",
       "    </tr>\n",
       "    <tr>\n",
       "      <th>ridder</th>\n",
       "      <td>6.692</td>\n",
       "      <td>6.696</td>\n",
       "      <td>6.695</td>\n",
       "      <td>6.871</td>\n",
       "      <td>7.830</td>\n",
       "      <td>7.764</td>\n",
       "    </tr>\n",
       "    <tr>\n",
       "      <th>scipy_newton</th>\n",
       "      <td>2.850</td>\n",
       "      <td>2.933</td>\n",
       "      <td>2.965</td>\n",
       "      <td>3.055</td>\n",
       "      <td>3.513</td>\n",
       "      <td>3.449</td>\n",
       "    </tr>\n",
       "    <tr>\n",
       "      <th>bisection</th>\n",
       "      <td>22.085</td>\n",
       "      <td>22.184</td>\n",
       "      <td>22.723</td>\n",
       "      <td>22.104</td>\n",
       "      <td>24.768</td>\n",
       "      <td>25.376</td>\n",
       "    </tr>\n",
       "    <tr>\n",
       "      <th>mullerBisection</th>\n",
       "      <td>23.479</td>\n",
       "      <td>23.566</td>\n",
       "      <td>23.233</td>\n",
       "      <td>24.013</td>\n",
       "      <td>26.558</td>\n",
       "      <td>26.743</td>\n",
       "    </tr>\n",
       "    <tr>\n",
       "      <th>newton</th>\n",
       "      <td>5.763</td>\n",
       "      <td>3.582</td>\n",
       "      <td>3.355</td>\n",
       "      <td>7.492</td>\n",
       "      <td>3.389</td>\n",
       "      <td>5.264</td>\n",
       "    </tr>\n",
       "    <tr>\n",
       "      <th>halley</th>\n",
       "      <td>1.948</td>\n",
       "      <td>1.925</td>\n",
       "      <td>1.962</td>\n",
       "      <td>1.996</td>\n",
       "      <td>2.179</td>\n",
       "      <td>2.067</td>\n",
       "    </tr>\n",
       "    <tr>\n",
       "      <th>new_newton</th>\n",
       "      <td>23.801</td>\n",
       "      <td>24.088</td>\n",
       "      <td>26.810</td>\n",
       "      <td>25.723</td>\n",
       "      <td>27.294</td>\n",
       "      <td>27.546</td>\n",
       "    </tr>\n",
       "    <tr>\n",
       "      <th>new_halley</th>\n",
       "      <td>24.552</td>\n",
       "      <td>24.887</td>\n",
       "      <td>25.862</td>\n",
       "      <td>28.216</td>\n",
       "      <td>28.053</td>\n",
       "      <td>28.040</td>\n",
       "    </tr>\n",
       "  </tbody>\n",
       "</table>\n",
       "</div>"
      ]
     },
     "execution_count": 150,
     "metadata": {},
     "output_type": "execute_result"
    }
   ],
   "source": [
    "dic_plt[10].iloc[:, 8:]"
   ]
  },
  {
   "cell_type": "code",
   "execution_count": 143,
   "metadata": {},
   "outputs": [
    {
     "name": "stdout",
     "output_type": "stream",
     "text": [
      "Using matplotlib backend: MacOSX\n"
     ]
    }
   ],
   "source": [
    "%matplotlib \n",
    "import matplotlib.pyplot as plt\n",
    "# 10 times iter\n",
    "\n",
    "df_acc = dic_plt[10].iloc[:, :7]\n",
    "axes = df_acc.plot(kind='bar', subplots=True, colormap='coolwarm', title='Accuracy Comparison for Different Initial Sigma', grid=True, sort_columns=True, legend=False, figsize=(10,15))\n",
    "axes[0].axvspan(5.5, 6.5, color='g', alpha=0.5)\n",
    "axes[0].axvspan(-0.5, 2.5, color='grey', alpha=0.2)\n",
    "for ax in axes[1:]:\n",
    "    ax.axvspan(6.5, 7.5, color='g', alpha=0.5)\n",
    "    ax.axvspan(-0.5, 2.5, color='grey', alpha=0.2)\n",
    "\n",
    "plt.savefig('acc_sigma.png')"
   ]
  },
  {
   "cell_type": "code",
   "execution_count": 153,
   "metadata": {},
   "outputs": [],
   "source": [
    "df_sec = dic_plt[10].iloc[:, 8:]\n",
    "axes = df_sec.plot(kind='bar', subplots=True, colormap='coolwarm',title='Running Time Comparison for Different Initial Sigma', grid=True, sort_columns=True, legend=False, figsize=(10,15))\n",
    "for ax in axes:\n",
    "    ax.axvspan(6.5, 7.5, color='g', alpha=0.5)\n",
    "    ax.axvspan(2.5, 3.5, color='g', alpha=0.2)\n",
    "\n",
    "plt.savefig('sec_sigma.png')"
   ]
  },
  {
   "cell_type": "code",
   "execution_count": 128,
   "metadata": {},
   "outputs": [],
   "source": [
    "df_acc = dic_plt[100].iloc[:, :7]\n",
    "axes = df_acc.plot(kind='bar', subplots=True, colormap='coolwarm', title='Accuracy Comparison for 100 Iterations', grid=True, sort_columns=True, legend=False, figsize=(10,15))\n",
    "axes[0].axvspan(5.5, 6.5, color='g', alpha=0.5)\n",
    "axes[0].axvspan(-0.5, 2.5, color='grey', alpha=0.2)\n",
    "for ax in axes[1:]:\n",
    "    ax.axvspan(6.5, 7.5, color='g', alpha=0.5)\n",
    "    ax.axvspan(-0.5, 2.5, color='grey', alpha=0.2)\n",
    "\n",
    "plt.savefig('acc_100_iter.png')"
   ]
  },
  {
   "cell_type": "code",
   "execution_count": 130,
   "metadata": {},
   "outputs": [],
   "source": [
    "df_sec = dic_plt[10].iloc[:, 8:]\n",
    "axes = df_sec.plot(kind='bar', subplots=True, colormap='coolwarm',title='Running Time Comparison for 100 Iterations', grid=True, sort_columns=True, legend=False, figsize=(10,15))\n",
    "for ax in axes:\n",
    "    ax.axvspan(6.5, 7.5, color='g', alpha=0.5)\n",
    "    ax.axvspan(2.5, 3.5, color='g', alpha=0.2)\n",
    "\n",
    "plt.savefig('sec_100_iter.png')"
   ]
  },
  {
   "cell_type": "code",
   "execution_count": 132,
   "metadata": {},
   "outputs": [],
   "source": [
    "df_acc = dic_plt[500].iloc[:, :7]\n",
    "axes = df_acc.plot(kind='bar', subplots=True, colormap='coolwarm', title='Accuracy Comparison for 500 Iterations', grid=True, sort_columns=True, legend=False, figsize=(10,15))\n",
    "axes[0].axvspan(5.5, 6.5, color='g', alpha=0.5)\n",
    "axes[0].axvspan(-0.5, 2.5, color='grey', alpha=0.2)\n",
    "for ax in axes[1:]:\n",
    "    ax.axvspan(6.5, 7.5, color='g', alpha=0.5)\n",
    "    ax.axvspan(-0.5, 2.5, color='grey', alpha=0.2)\n",
    "\n",
    "plt.savefig('acc_500_iter.png')"
   ]
  },
  {
   "cell_type": "code",
   "execution_count": 135,
   "metadata": {},
   "outputs": [],
   "source": [
    "df_sec = dic_plt[500].iloc[:, 8:]\n",
    "axes = df_sec.plot(kind='bar', subplots=True, colormap='coolwarm',title='Running Time Comparison for 500 Iterations', grid=True, sort_columns=True, legend=False, figsize=(10,15))\n",
    "for ax in axes:\n",
    "    ax.axvspan(6.5, 7.5, color='g', alpha=0.5)\n",
    "    ax.axvspan(2.5, 3.5, color='g', alpha=0.2)\n",
    "\n",
    "plt.savefig('sec_500_iter.png')"
   ]
  },
  {
   "cell_type": "code",
   "execution_count": 136,
   "metadata": {},
   "outputs": [],
   "source": [
    "df_acc = dic_plt[1000].iloc[:, :7]\n",
    "axes = df_acc.plot(kind='bar', subplots=True, colormap='coolwarm', title='Accuracy Comparison for 1000 Iterations', grid=True, sort_columns=True, legend=False, figsize=(10,15))\n",
    "axes[0].axvspan(5.5, 6.5, color='g', alpha=0.5)\n",
    "axes[0].axvspan(-0.5, 2.5, color='grey', alpha=0.2)\n",
    "for ax in axes[1:]:\n",
    "    ax.axvspan(6.5, 7.5, color='g', alpha=0.5)\n",
    "    ax.axvspan(-0.5, 2.5, color='grey', alpha=0.2)\n",
    "\n",
    "plt.savefig('acc_1000_iter.png')"
   ]
  },
  {
   "cell_type": "code",
   "execution_count": 137,
   "metadata": {},
   "outputs": [],
   "source": [
    "df_sec = dic_plt[1000].iloc[:, 8:]\n",
    "axes = df_sec.plot(kind='bar', subplots=True, colormap='coolwarm',title='Running Time Comparison for 1000 Iterations', grid=True, sort_columns=True, legend=False, figsize=(10,15))\n",
    "for ax in axes:\n",
    "    ax.axvspan(6.5, 7.5, color='g', alpha=0.5)\n",
    "    ax.axvspan(2.5, 3.5, color='g', alpha=0.2)\n",
    "\n",
    "plt.savefig('sec_1000_iter.png')"
   ]
  },
  {
   "cell_type": "code",
   "execution_count": null,
   "metadata": {},
   "outputs": [],
   "source": [
    ""
   ]
  }
 ],
 "metadata": {
  "kernelspec": {
   "display_name": "Python 2",
   "language": "python",
   "name": "python2"
  },
  "language_info": {
   "codemirror_mode": {
    "name": "ipython",
    "version": 2.0
   },
   "file_extension": ".py",
   "mimetype": "text/x-python",
   "name": "python",
   "nbconvert_exporter": "python",
   "pygments_lexer": "ipython2",
   "version": "2.7.6"
  }
 },
 "nbformat": 4,
 "nbformat_minor": 0
}