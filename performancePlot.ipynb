{
 "cells": [
  {
   "cell_type": "code",
   "execution_count": 1,
   "metadata": {
    "collapsed": true
   },
   "outputs": [],
   "source": [
    "from ImpliedVolatility import ImpliedVolatility                                                                                 \n",
    "import pandas as pd                                                                                                             \n",
    "import numpy as np                                                                                                              \n",
    "import datetime                                                                                                                 \n",
    "                                                                                                                                \n",
    "def performance(df, method, r = 0.05, sigma0 = 0.5, initialIter = 10):                                                                            \n",
    "    time_start = datetime.datetime.now()                                                                                        \n",
    "    dfCopy = df.copy()                                                                                                          \n",
    "                                                                                                                                \n",
    "    for i in df.index:                                                                                                          \n",
    "        impVol = ImpliedVolatility(df.ix[i, 'StockPrice'], df.ix[i, 'StrikePrice'], df.ix[i, 'T'], r, sigma0,                   \n",
    "                                   df.ix[i, 'Last'], df.ix[i, 'Type'])                                                          \n",
    "                                                                                                                                \n",
    "        if method == 'bisection':                                                                                               \n",
    "            dfCopy.ix[i, method] = impVol.bsmBisectionVol()                                                                     \n",
    "                                                                                                                                \n",
    "        elif method == 'newton':                                                                                                \n",
    "            dfCopy.ix[i, method] = impVol.bsmNewtonVol()                                                                        \n",
    "                                                                                                                                \n",
    "        elif method == 'mullerBisection':                                                                                       \n",
    "            dfCopy.ix[i, method] = impVol.bsmMullerBisectionVol()                                                               \n",
    "                                                                                                                                \n",
    "        elif method == 'halley':                                                                                                \n",
    "            dfCopy.ix[i, method] = impVol.bsmHalley()                                                                           \n",
    "                                                                                                                                \n",
    "        elif method == 'new_newton':                                                                                            \n",
    "            impVol.bsmMullerBisectionInitial(initialIter=initialIter)                                                                                  \n",
    "            dfCopy.ix[i, method] = impVol.bsmNewtonVol()                                                                        \n",
    "                                                                                                                                \n",
    "        elif method == 'new_halley':                                                                                            \n",
    "            impVol.bsmMullerBisectionInitial(initialIter=initialIter)                                                                                  \n",
    "            dfCopy.ix[i, method] = impVol.bsmHalley()     \n",
    "        \n",
    "        elif method == 'brentq':    \n",
    "            dfCopy.ix[i, method] = impVol.bsmBrentq()\n",
    "        \n",
    "        elif method == 'brenth':   \n",
    "            dfCopy.ix[i, method] = impVol.bsmBrenth()\n",
    "        \n",
    "        elif method == 'ridder':  \n",
    "            dfCopy.ix[i, method] = impVol.bsmRidder()\n",
    "        \n",
    "        elif method == 'scipy_newton': \n",
    "            dfCopy.ix[i, method] = impVol.bsmScipyNewton()                                                                                                                                \n",
    "    \n",
    "    \n",
    "    dfCopy.loc[:, 'Difference'] = -np.log(np.fabs(dfCopy.IV - dfCopy.ix[:, method]))                        \n",
    "                                                                                                                                \n",
    "    accuracy = dfCopy.Difference.mean()                                                                                         \n",
    "    duration = datetime.datetime.now() - time_start                                                                             \n",
    "                                                                                                                                \n",
    "    return accuracy, duration"
   ]
  },
  {
   "cell_type": "code",
   "execution_count": 6,
   "metadata": {
    "collapsed": true
   },
   "outputs": [
    {
     "name": "stdout",
     "output_type": "stream",
     "text": [
      "                Accuracy  Time(hh:mm:ss)\nbisection        4.23352  0:00:25.444272\nmullerBisection      NaN             NaN\nnewton               NaN             NaN\nhalley               NaN             NaN\nnew_newton           NaN             NaN\nnew_halley           NaN             NaN\nbrentq               NaN             NaN\nbrenth               NaN             NaN\nridder               NaN             NaN\nscipy_newton         NaN             NaN\n"
     ]
    },
    {
     "name": "stdout",
     "output_type": "stream",
     "text": [
      "                Accuracy  Time(hh:mm:ss)\nbisection        4.23352  0:00:25.444272\nmullerBisection  4.23223  0:00:26.501831\nnewton               NaN             NaN\nhalley               NaN             NaN\nnew_newton           NaN             NaN\nnew_halley           NaN             NaN\nbrentq               NaN             NaN\nbrenth               NaN             NaN\nridder               NaN             NaN\nscipy_newton         NaN             NaN\n"
     ]
    },
    {
     "name": "stdout",
     "output_type": "stream",
     "text": [
      "                 Accuracy  Time(hh:mm:ss)\nbisection         4.23352  0:00:25.444272\nmullerBisection   4.23223  0:00:26.501831\nnewton           0.267671  0:02:43.836151\nhalley                NaN             NaN\nnew_newton            NaN             NaN\nnew_halley            NaN             NaN\nbrentq                NaN             NaN\nbrenth                NaN             NaN\nridder                NaN             NaN\nscipy_newton          NaN             NaN\n"
     ]
    },
    {
     "name": "stdout",
     "output_type": "stream",
     "text": [
      "                 Accuracy  Time(hh:mm:ss)\nbisection         4.23352  0:00:25.444272\nmullerBisection   4.23223  0:00:26.501831\nnewton           0.267671  0:02:43.836151\nhalley            3.62461  0:01:46.828430\nnew_newton            NaN             NaN\nnew_halley            NaN             NaN\nbrentq                NaN             NaN\nbrenth                NaN             NaN\nridder                NaN             NaN\nscipy_newton          NaN             NaN\n"
     ]
    },
    {
     "name": "stdout",
     "output_type": "stream",
     "text": [
      "                 Accuracy  Time(hh:mm:ss)\nbisection         4.23352  0:00:25.444272\nmullerBisection   4.23223  0:00:26.501831\nnewton           0.267671  0:02:43.836151\nhalley            3.62461  0:01:46.828430\nnew_newton        4.17319  0:00:24.429664\nnew_halley            NaN             NaN\nbrentq                NaN             NaN\nbrenth                NaN             NaN\nridder                NaN             NaN\nscipy_newton          NaN             NaN\n"
     ]
    },
    {
     "name": "stdout",
     "output_type": "stream",
     "text": [
      "                 Accuracy  Time(hh:mm:ss)\nbisection         4.23352  0:00:25.444272\nmullerBisection   4.23223  0:00:26.501831\nnewton           0.267671  0:02:43.836151\nhalley            3.62461  0:01:46.828430\nnew_newton        4.17319  0:00:24.429664\nnew_halley        4.24043  0:00:24.453805\nbrentq                NaN             NaN\nbrenth                NaN             NaN\nridder                NaN             NaN\nscipy_newton          NaN             NaN\n"
     ]
    },
    {
     "ename": "ValueError",
     "evalue": "f(a) and f(b) must have different signs",
     "traceback": [
      "\u001b[0;31m---------------------------------------------------------------------------\u001b[0m",
      "\u001b[0;31mValueError\u001b[0m                                Traceback (most recent call last)",
      "\u001b[0;32m<ipython-input-10-d6ebd91eb482>\u001b[0m in \u001b[0;36m<module>\u001b[0;34m()\u001b[0m\n\u001b[1;32m     10\u001b[0m     \u001b[0;32mfor\u001b[0m \u001b[0msigma\u001b[0m \u001b[0;32min\u001b[0m \u001b[0mtestSigma\u001b[0m\u001b[0;34m:\u001b[0m\u001b[0;34m\u001b[0m\u001b[0m\n\u001b[1;32m     11\u001b[0m         \u001b[0;32mfor\u001b[0m \u001b[0mmethod\u001b[0m \u001b[0;32min\u001b[0m \u001b[0mtestMethods\u001b[0m\u001b[0;34m:\u001b[0m\u001b[0;34m\u001b[0m\u001b[0m\n\u001b[0;32m---> 12\u001b[0;31m             \u001b[0mresult\u001b[0m\u001b[0;34m.\u001b[0m\u001b[0mloc\u001b[0m\u001b[0;34m[\u001b[0m\u001b[0mmethod\u001b[0m\u001b[0;34m,\u001b[0m \u001b[0;34m:\u001b[0m\u001b[0;34m]\u001b[0m \u001b[0;34m=\u001b[0m \u001b[0mperformance\u001b[0m\u001b[0;34m(\u001b[0m\u001b[0mdata\u001b[0m\u001b[0;34m,\u001b[0m \u001b[0mmethod\u001b[0m\u001b[0;34m,\u001b[0m \u001b[0msigma0\u001b[0m\u001b[0;34m=\u001b[0m\u001b[0msigma\u001b[0m\u001b[0;34m,\u001b[0m \u001b[0minitialIter\u001b[0m\u001b[0;34m=\u001b[0m\u001b[0miter\u001b[0m\u001b[0;34m)\u001b[0m\u001b[0;34m\u001b[0m\u001b[0m\n\u001b[0m\u001b[1;32m     13\u001b[0m             \u001b[0mprint\u001b[0m\u001b[0;34m(\u001b[0m\u001b[0mresult\u001b[0m\u001b[0;34m)\u001b[0m\u001b[0;34m\u001b[0m\u001b[0m\n\u001b[1;32m     14\u001b[0m \u001b[0;34m\u001b[0m\u001b[0m\n",
      "\u001b[0;32m<ipython-input-1-ab595be2b72b>\u001b[0m in \u001b[0;36mperformance\u001b[0;34m(df, method, r, sigma0, initialIter)\u001b[0m\n\u001b[1;32m     33\u001b[0m \u001b[0;34m\u001b[0m\u001b[0m\n\u001b[1;32m     34\u001b[0m         \u001b[0;32melif\u001b[0m \u001b[0mmethod\u001b[0m \u001b[0;34m==\u001b[0m \u001b[0;34m'brentq'\u001b[0m\u001b[0;34m:\u001b[0m\u001b[0;34m\u001b[0m\u001b[0m\n\u001b[0;32m---> 35\u001b[0;31m             \u001b[0mdfCopy\u001b[0m\u001b[0;34m.\u001b[0m\u001b[0mix\u001b[0m\u001b[0;34m[\u001b[0m\u001b[0mi\u001b[0m\u001b[0;34m,\u001b[0m \u001b[0mmethod\u001b[0m\u001b[0;34m]\u001b[0m \u001b[0;34m=\u001b[0m \u001b[0mimpVol\u001b[0m\u001b[0;34m.\u001b[0m\u001b[0mbsmBrentq\u001b[0m\u001b[0;34m(\u001b[0m\u001b[0;34m)\u001b[0m\u001b[0;34m\u001b[0m\u001b[0m\n\u001b[0m\u001b[1;32m     36\u001b[0m \u001b[0;34m\u001b[0m\u001b[0m\n\u001b[1;32m     37\u001b[0m         \u001b[0;32melif\u001b[0m \u001b[0mmethod\u001b[0m \u001b[0;34m==\u001b[0m \u001b[0;34m'brenth'\u001b[0m\u001b[0;34m:\u001b[0m\u001b[0;34m\u001b[0m\u001b[0m\n",
      "\u001b[0;32m/Users/Maxwell/PycharmProjects/Github/ProjectXLL/ImpliedVolatility.py\u001b[0m in \u001b[0;36mbsmBrentq\u001b[0;34m(self, a, b)\u001b[0m\n\u001b[1;32m    162\u001b[0m \u001b[0;34m\u001b[0m\u001b[0m\n\u001b[1;32m    163\u001b[0m     \u001b[0;32mdef\u001b[0m \u001b[0mbsmBrentq\u001b[0m\u001b[0;34m(\u001b[0m\u001b[0mself\u001b[0m\u001b[0;34m,\u001b[0m \u001b[0ma\u001b[0m\u001b[0;34m=\u001b[0m\u001b[0;36m1e-15\u001b[0m\u001b[0;34m,\u001b[0m \u001b[0mb\u001b[0m\u001b[0;34m=\u001b[0m\u001b[0;36m10\u001b[0m\u001b[0;34m)\u001b[0m\u001b[0;34m:\u001b[0m\u001b[0;34m\u001b[0m\u001b[0m\n\u001b[0;32m--> 164\u001b[0;31m         \u001b[0;32mreturn\u001b[0m \u001b[0mbrentq\u001b[0m\u001b[0;34m(\u001b[0m\u001b[0mself\u001b[0m\u001b[0;34m.\u001b[0m\u001b[0mf\u001b[0m\u001b[0;34m,\u001b[0m \u001b[0ma\u001b[0m\u001b[0;34m,\u001b[0m \u001b[0mb\u001b[0m\u001b[0;34m)\u001b[0m\u001b[0;34m\u001b[0m\u001b[0m\n\u001b[0m\u001b[1;32m    165\u001b[0m \u001b[0;34m\u001b[0m\u001b[0m\n\u001b[1;32m    166\u001b[0m     \u001b[0;32mdef\u001b[0m \u001b[0mbsmBrenth\u001b[0m\u001b[0;34m(\u001b[0m\u001b[0mself\u001b[0m\u001b[0;34m,\u001b[0m \u001b[0ma\u001b[0m\u001b[0;34m=\u001b[0m\u001b[0;36m1e-15\u001b[0m\u001b[0;34m,\u001b[0m \u001b[0mb\u001b[0m\u001b[0;34m=\u001b[0m\u001b[0;36m10\u001b[0m\u001b[0;34m)\u001b[0m\u001b[0;34m:\u001b[0m\u001b[0;34m\u001b[0m\u001b[0m\n",
      "\u001b[0;32m/Users/Maxwell/anaconda/lib/python3.5/site-packages/scipy/optimize/zeros.py\u001b[0m in \u001b[0;36mbrentq\u001b[0;34m(f, a, b, args, xtol, rtol, maxiter, full_output, disp)\u001b[0m\n\u001b[1;32m    436\u001b[0m     \u001b[0;32mif\u001b[0m \u001b[0mrtol\u001b[0m \u001b[0;34m<\u001b[0m \u001b[0m_rtol\u001b[0m\u001b[0;34m:\u001b[0m\u001b[0;34m\u001b[0m\u001b[0m\n\u001b[1;32m    437\u001b[0m         \u001b[0;32mraise\u001b[0m \u001b[0mValueError\u001b[0m\u001b[0;34m(\u001b[0m\u001b[0;34m\"rtol too small (%g < %g)\"\u001b[0m \u001b[0;34m%\u001b[0m \u001b[0;34m(\u001b[0m\u001b[0mrtol\u001b[0m\u001b[0;34m,\u001b[0m \u001b[0m_rtol\u001b[0m\u001b[0;34m)\u001b[0m\u001b[0;34m)\u001b[0m\u001b[0;34m\u001b[0m\u001b[0m\n\u001b[0;32m--> 438\u001b[0;31m     \u001b[0mr\u001b[0m \u001b[0;34m=\u001b[0m \u001b[0m_zeros\u001b[0m\u001b[0;34m.\u001b[0m\u001b[0m_brentq\u001b[0m\u001b[0;34m(\u001b[0m\u001b[0mf\u001b[0m\u001b[0;34m,\u001b[0m\u001b[0ma\u001b[0m\u001b[0;34m,\u001b[0m\u001b[0mb\u001b[0m\u001b[0;34m,\u001b[0m\u001b[0mxtol\u001b[0m\u001b[0;34m,\u001b[0m\u001b[0mrtol\u001b[0m\u001b[0;34m,\u001b[0m\u001b[0mmaxiter\u001b[0m\u001b[0;34m,\u001b[0m\u001b[0margs\u001b[0m\u001b[0;34m,\u001b[0m\u001b[0mfull_output\u001b[0m\u001b[0;34m,\u001b[0m\u001b[0mdisp\u001b[0m\u001b[0;34m)\u001b[0m\u001b[0;34m\u001b[0m\u001b[0m\n\u001b[0m\u001b[1;32m    439\u001b[0m     \u001b[0;32mreturn\u001b[0m \u001b[0mresults_c\u001b[0m\u001b[0;34m(\u001b[0m\u001b[0mfull_output\u001b[0m\u001b[0;34m,\u001b[0m \u001b[0mr\u001b[0m\u001b[0;34m)\u001b[0m\u001b[0;34m\u001b[0m\u001b[0m\n\u001b[1;32m    440\u001b[0m \u001b[0;34m\u001b[0m\u001b[0m\n",
      "\u001b[0;31mValueError\u001b[0m: f(a) and f(b) must have different signs"
     ],
     "output_type": "error"
    }
   ],
   "source": [
    "data = pd.read_csv('europeanOptions_.01tol.csv')                                                                                       \n",
    "data = data.loc[:, ['currentDate', 'ExpDate', 'StrikePrice', 'Ticker', 'Type', 'Last', 'IV', 'StockPrice', 'T']]\n",
    "data.head()"
   ]
  },
  {
   "cell_type": "code",
   "execution_count": 10,
   "metadata": {
    "collapsed": true
   },
   "outputs": [
    {
     "name": "stdout",
     "output_type": "stream",
     "text": [
      "                Accuracy  Time(hh:mm:ss)\nbisection        4.23352  0:00:25.444272\nmullerBisection      NaN             NaN\nnewton               NaN             NaN\nhalley               NaN             NaN\nnew_newton           NaN             NaN\nnew_halley           NaN             NaN\nbrentq               NaN             NaN\nbrenth               NaN             NaN\nridder               NaN             NaN\nscipy_newton         NaN             NaN\n"
     ]
    },
    {
     "name": "stdout",
     "output_type": "stream",
     "text": [
      "                Accuracy  Time(hh:mm:ss)\nbisection        4.23352  0:00:25.444272\nmullerBisection  4.23223  0:00:26.501831\nnewton               NaN             NaN\nhalley               NaN             NaN\nnew_newton           NaN             NaN\nnew_halley           NaN             NaN\nbrentq               NaN             NaN\nbrenth               NaN             NaN\nridder               NaN             NaN\nscipy_newton         NaN             NaN\n"
     ]
    },
    {
     "name": "stdout",
     "output_type": "stream",
     "text": [
      "                 Accuracy  Time(hh:mm:ss)\nbisection         4.23352  0:00:25.444272\nmullerBisection   4.23223  0:00:26.501831\nnewton           0.267671  0:02:43.836151\nhalley                NaN             NaN\nnew_newton            NaN             NaN\nnew_halley            NaN             NaN\nbrentq                NaN             NaN\nbrenth                NaN             NaN\nridder                NaN             NaN\nscipy_newton          NaN             NaN\n"
     ]
    },
    {
     "name": "stdout",
     "output_type": "stream",
     "text": [
      "                 Accuracy  Time(hh:mm:ss)\nbisection         4.23352  0:00:25.444272\nmullerBisection   4.23223  0:00:26.501831\nnewton           0.267671  0:02:43.836151\nhalley            3.62461  0:01:46.828430\nnew_newton            NaN             NaN\nnew_halley            NaN             NaN\nbrentq                NaN             NaN\nbrenth                NaN             NaN\nridder                NaN             NaN\nscipy_newton          NaN             NaN\n"
     ]
    },
    {
     "name": "stdout",
     "output_type": "stream",
     "text": [
      "                 Accuracy  Time(hh:mm:ss)\nbisection         4.23352  0:00:25.444272\nmullerBisection   4.23223  0:00:26.501831\nnewton           0.267671  0:02:43.836151\nhalley            3.62461  0:01:46.828430\nnew_newton        4.17319  0:00:24.429664\nnew_halley            NaN             NaN\nbrentq                NaN             NaN\nbrenth                NaN             NaN\nridder                NaN             NaN\nscipy_newton          NaN             NaN\n"
     ]
    },
    {
     "name": "stdout",
     "output_type": "stream",
     "text": [
      "                 Accuracy  Time(hh:mm:ss)\nbisection         4.23352  0:00:25.444272\nmullerBisection   4.23223  0:00:26.501831\nnewton           0.267671  0:02:43.836151\nhalley            3.62461  0:01:46.828430\nnew_newton        4.17319  0:00:24.429664\nnew_halley        4.24043  0:00:24.453805\nbrentq                NaN             NaN\nbrenth                NaN             NaN\nridder                NaN             NaN\nscipy_newton          NaN             NaN\n"
     ]
    },
    {
     "ename": "ValueError",
     "evalue": "f(a) and f(b) must have different signs",
     "traceback": [
      "\u001b[0;31m---------------------------------------------------------------------------\u001b[0m",
      "\u001b[0;31mValueError\u001b[0m                                Traceback (most recent call last)",
      "\u001b[0;32m<ipython-input-10-d6ebd91eb482>\u001b[0m in \u001b[0;36m<module>\u001b[0;34m()\u001b[0m\n\u001b[1;32m     10\u001b[0m     \u001b[0;32mfor\u001b[0m \u001b[0msigma\u001b[0m \u001b[0;32min\u001b[0m \u001b[0mtestSigma\u001b[0m\u001b[0;34m:\u001b[0m\u001b[0;34m\u001b[0m\u001b[0m\n\u001b[1;32m     11\u001b[0m         \u001b[0;32mfor\u001b[0m \u001b[0mmethod\u001b[0m \u001b[0;32min\u001b[0m \u001b[0mtestMethods\u001b[0m\u001b[0;34m:\u001b[0m\u001b[0;34m\u001b[0m\u001b[0m\n\u001b[0;32m---> 12\u001b[0;31m             \u001b[0mresult\u001b[0m\u001b[0;34m.\u001b[0m\u001b[0mloc\u001b[0m\u001b[0;34m[\u001b[0m\u001b[0mmethod\u001b[0m\u001b[0;34m,\u001b[0m \u001b[0;34m:\u001b[0m\u001b[0;34m]\u001b[0m \u001b[0;34m=\u001b[0m \u001b[0mperformance\u001b[0m\u001b[0;34m(\u001b[0m\u001b[0mdata\u001b[0m\u001b[0;34m,\u001b[0m \u001b[0mmethod\u001b[0m\u001b[0;34m,\u001b[0m \u001b[0msigma0\u001b[0m\u001b[0;34m=\u001b[0m\u001b[0msigma\u001b[0m\u001b[0;34m,\u001b[0m \u001b[0minitialIter\u001b[0m\u001b[0;34m=\u001b[0m\u001b[0miter\u001b[0m\u001b[0;34m)\u001b[0m\u001b[0;34m\u001b[0m\u001b[0m\n\u001b[0m\u001b[1;32m     13\u001b[0m             \u001b[0mprint\u001b[0m\u001b[0;34m(\u001b[0m\u001b[0mresult\u001b[0m\u001b[0;34m)\u001b[0m\u001b[0;34m\u001b[0m\u001b[0m\n\u001b[1;32m     14\u001b[0m \u001b[0;34m\u001b[0m\u001b[0m\n",
      "\u001b[0;32m<ipython-input-1-ab595be2b72b>\u001b[0m in \u001b[0;36mperformance\u001b[0;34m(df, method, r, sigma0, initialIter)\u001b[0m\n\u001b[1;32m     33\u001b[0m \u001b[0;34m\u001b[0m\u001b[0m\n\u001b[1;32m     34\u001b[0m         \u001b[0;32melif\u001b[0m \u001b[0mmethod\u001b[0m \u001b[0;34m==\u001b[0m \u001b[0;34m'brentq'\u001b[0m\u001b[0;34m:\u001b[0m\u001b[0;34m\u001b[0m\u001b[0m\n\u001b[0;32m---> 35\u001b[0;31m             \u001b[0mdfCopy\u001b[0m\u001b[0;34m.\u001b[0m\u001b[0mix\u001b[0m\u001b[0;34m[\u001b[0m\u001b[0mi\u001b[0m\u001b[0;34m,\u001b[0m \u001b[0mmethod\u001b[0m\u001b[0;34m]\u001b[0m \u001b[0;34m=\u001b[0m \u001b[0mimpVol\u001b[0m\u001b[0;34m.\u001b[0m\u001b[0mbsmBrentq\u001b[0m\u001b[0;34m(\u001b[0m\u001b[0;34m)\u001b[0m\u001b[0;34m\u001b[0m\u001b[0m\n\u001b[0m\u001b[1;32m     36\u001b[0m \u001b[0;34m\u001b[0m\u001b[0m\n\u001b[1;32m     37\u001b[0m         \u001b[0;32melif\u001b[0m \u001b[0mmethod\u001b[0m \u001b[0;34m==\u001b[0m \u001b[0;34m'brenth'\u001b[0m\u001b[0;34m:\u001b[0m\u001b[0;34m\u001b[0m\u001b[0m\n",
      "\u001b[0;32m/Users/Maxwell/PycharmProjects/Github/ProjectXLL/ImpliedVolatility.py\u001b[0m in \u001b[0;36mbsmBrentq\u001b[0;34m(self, a, b)\u001b[0m\n\u001b[1;32m    162\u001b[0m \u001b[0;34m\u001b[0m\u001b[0m\n\u001b[1;32m    163\u001b[0m     \u001b[0;32mdef\u001b[0m \u001b[0mbsmBrentq\u001b[0m\u001b[0;34m(\u001b[0m\u001b[0mself\u001b[0m\u001b[0;34m,\u001b[0m \u001b[0ma\u001b[0m\u001b[0;34m=\u001b[0m\u001b[0;36m1e-15\u001b[0m\u001b[0;34m,\u001b[0m \u001b[0mb\u001b[0m\u001b[0;34m=\u001b[0m\u001b[0;36m10\u001b[0m\u001b[0;34m)\u001b[0m\u001b[0;34m:\u001b[0m\u001b[0;34m\u001b[0m\u001b[0m\n\u001b[0;32m--> 164\u001b[0;31m         \u001b[0;32mreturn\u001b[0m \u001b[0mbrentq\u001b[0m\u001b[0;34m(\u001b[0m\u001b[0mself\u001b[0m\u001b[0;34m.\u001b[0m\u001b[0mf\u001b[0m\u001b[0;34m,\u001b[0m \u001b[0ma\u001b[0m\u001b[0;34m,\u001b[0m \u001b[0mb\u001b[0m\u001b[0;34m)\u001b[0m\u001b[0;34m\u001b[0m\u001b[0m\n\u001b[0m\u001b[1;32m    165\u001b[0m \u001b[0;34m\u001b[0m\u001b[0m\n\u001b[1;32m    166\u001b[0m     \u001b[0;32mdef\u001b[0m \u001b[0mbsmBrenth\u001b[0m\u001b[0;34m(\u001b[0m\u001b[0mself\u001b[0m\u001b[0;34m,\u001b[0m \u001b[0ma\u001b[0m\u001b[0;34m=\u001b[0m\u001b[0;36m1e-15\u001b[0m\u001b[0;34m,\u001b[0m \u001b[0mb\u001b[0m\u001b[0;34m=\u001b[0m\u001b[0;36m10\u001b[0m\u001b[0;34m)\u001b[0m\u001b[0;34m:\u001b[0m\u001b[0;34m\u001b[0m\u001b[0m\n",
      "\u001b[0;32m/Users/Maxwell/anaconda/lib/python3.5/site-packages/scipy/optimize/zeros.py\u001b[0m in \u001b[0;36mbrentq\u001b[0;34m(f, a, b, args, xtol, rtol, maxiter, full_output, disp)\u001b[0m\n\u001b[1;32m    436\u001b[0m     \u001b[0;32mif\u001b[0m \u001b[0mrtol\u001b[0m \u001b[0;34m<\u001b[0m \u001b[0m_rtol\u001b[0m\u001b[0;34m:\u001b[0m\u001b[0;34m\u001b[0m\u001b[0m\n\u001b[1;32m    437\u001b[0m         \u001b[0;32mraise\u001b[0m \u001b[0mValueError\u001b[0m\u001b[0;34m(\u001b[0m\u001b[0;34m\"rtol too small (%g < %g)\"\u001b[0m \u001b[0;34m%\u001b[0m \u001b[0;34m(\u001b[0m\u001b[0mrtol\u001b[0m\u001b[0;34m,\u001b[0m \u001b[0m_rtol\u001b[0m\u001b[0;34m)\u001b[0m\u001b[0;34m)\u001b[0m\u001b[0;34m\u001b[0m\u001b[0m\n\u001b[0;32m--> 438\u001b[0;31m     \u001b[0mr\u001b[0m \u001b[0;34m=\u001b[0m \u001b[0m_zeros\u001b[0m\u001b[0;34m.\u001b[0m\u001b[0m_brentq\u001b[0m\u001b[0;34m(\u001b[0m\u001b[0mf\u001b[0m\u001b[0;34m,\u001b[0m\u001b[0ma\u001b[0m\u001b[0;34m,\u001b[0m\u001b[0mb\u001b[0m\u001b[0;34m,\u001b[0m\u001b[0mxtol\u001b[0m\u001b[0;34m,\u001b[0m\u001b[0mrtol\u001b[0m\u001b[0;34m,\u001b[0m\u001b[0mmaxiter\u001b[0m\u001b[0;34m,\u001b[0m\u001b[0margs\u001b[0m\u001b[0;34m,\u001b[0m\u001b[0mfull_output\u001b[0m\u001b[0;34m,\u001b[0m\u001b[0mdisp\u001b[0m\u001b[0;34m)\u001b[0m\u001b[0;34m\u001b[0m\u001b[0m\n\u001b[0m\u001b[1;32m    439\u001b[0m     \u001b[0;32mreturn\u001b[0m \u001b[0mresults_c\u001b[0m\u001b[0;34m(\u001b[0m\u001b[0mfull_output\u001b[0m\u001b[0;34m,\u001b[0m \u001b[0mr\u001b[0m\u001b[0;34m)\u001b[0m\u001b[0;34m\u001b[0m\u001b[0m\n\u001b[1;32m    440\u001b[0m \u001b[0;34m\u001b[0m\u001b[0m\n",
      "\u001b[0;31mValueError\u001b[0m: f(a) and f(b) must have different signs"
     ],
     "output_type": "error"
    }
   ],
   "source": [
    "testMethods = ['bisection', 'mullerBisection', 'newton', 'halley', 'new_newton', 'new_halley', 'brentq', 'brenth', 'ridder', 'scipy_newton']                                  \n",
    "testSigma = [0.1, 0.3] #0.5, 0.7, 1, 1.3, 1.5, 1.7, 2]\n",
    "testIter = [10, 100] #500, 1000]\n",
    "result = pd.DataFrame(index=testMethods, columns=['Accuracy', 'Time(hh:mm:ss)'])                                                \n",
    "dicResult = {}\n",
    "\n",
    "                                                                                                                                                                                                                                                        \n",
    "for iter in testIter:\n",
    "    dicResult[iter] = {}\n",
    "    for sigma in testSigma:  \n",
    "        for method in testMethods: \n",
    "            result.loc[method, :] = performance(data, method, sigma0=sigma, initialIter=iter)\n",
    "            print(result)\n",
    "        \n",
    "        dicResult[iter][sigma] = result                                                                                                  \n",
    "        print('This is the test result for initial point sigma {}, \\\n",
    "initial iteration {} times for new_newton and new_halley:\\n{}\\n\\n'.format(sigma, iter, result))\n",
    "        "
   ]
  },
  {
   "cell_type": "code",
   "execution_count": 1,
   "metadata": {},
   "outputs": [
    {
     "ename": "NameError",
     "evalue": "name 'dicResult' is not defined",
     "traceback": [
      "\u001b[0;31m\u001b[0m",
      "\u001b[0;31mNameError\u001b[0mTraceback (most recent call last)",
      "\u001b[0;32m<ipython-input-1-f511840e60ea>\u001b[0m in \u001b[0;36m<module>\u001b[0;34m()\u001b[0m\n\u001b[0;32m----> 1\u001b[0;31m \u001b[0;32mfor\u001b[0m \u001b[0mi\u001b[0m \u001b[0;32min\u001b[0m \u001b[0mdicResult\u001b[0m\u001b[0;34m:\u001b[0m\u001b[0;34m\u001b[0m\u001b[0m\n\u001b[0m\u001b[1;32m      2\u001b[0m     \u001b[0;32mfor\u001b[0m \u001b[0ms\u001b[0m \u001b[0;32min\u001b[0m \u001b[0mdicResult\u001b[0m\u001b[0;34m[\u001b[0m\u001b[0mi\u001b[0m\u001b[0;34m]\u001b[0m\u001b[0;34m:\u001b[0m\u001b[0;34m\u001b[0m\u001b[0m\n\u001b[1;32m      3\u001b[0m         \u001b[0;32mfor\u001b[0m \u001b[0mind\u001b[0m \u001b[0;32min\u001b[0m \u001b[0mdicResult\u001b[0m\u001b[0;34m[\u001b[0m\u001b[0mi\u001b[0m\u001b[0;34m]\u001b[0m\u001b[0;34m[\u001b[0m\u001b[0ms\u001b[0m\u001b[0;34m]\u001b[0m\u001b[0;34m.\u001b[0m\u001b[0mindex\u001b[0m\u001b[0;34m:\u001b[0m\u001b[0;34m\u001b[0m\u001b[0m\n\u001b[1;32m      4\u001b[0m             \u001b[0mdicResult\u001b[0m\u001b[0;34m[\u001b[0m\u001b[0mi\u001b[0m\u001b[0;34m]\u001b[0m\u001b[0;34m[\u001b[0m\u001b[0ms\u001b[0m\u001b[0;34m]\u001b[0m\u001b[0;34m.\u001b[0m\u001b[0mloc\u001b[0m\u001b[0;34m[\u001b[0m\u001b[0mind\u001b[0m\u001b[0;34m,\u001b[0m \u001b[0;34m'Seconds'\u001b[0m\u001b[0;34m]\u001b[0m \u001b[0;34m=\u001b[0m \u001b[0mdicResult\u001b[0m\u001b[0;34m[\u001b[0m\u001b[0mi\u001b[0m\u001b[0;34m]\u001b[0m\u001b[0;34m[\u001b[0m\u001b[0ms\u001b[0m\u001b[0;34m]\u001b[0m\u001b[0;34m.\u001b[0m\u001b[0mloc\u001b[0m\u001b[0;34m[\u001b[0m\u001b[0mind\u001b[0m\u001b[0;34m,\u001b[0m \u001b[0;34m'Time(hh:mm:ss)'\u001b[0m\u001b[0;34m]\u001b[0m\u001b[0;34m.\u001b[0m\u001b[0mseconds\u001b[0m\u001b[0;34m\u001b[0m\u001b[0m\n",
      "\u001b[0;31mNameError\u001b[0m: name 'dicResult' is not defined"
     ],
     "output_type": "error"
    }
   ],
   "source": [
    "for i in dicResult:\n",
    "    for s in dicResult[i]:\n",
    "        for ind in dicResult[i][s].index:\n",
    "            dicResult[i][s].loc[ind, 'Seconds'] = dicResult[i][s].loc[ind, 'Time(hh:mm:ss)'].seconds"
   ]
  },
  {
   "cell_type": "code",
   "execution_count": 7,
   "metadata": {},
   "outputs": [
    {
     "name": "stdout",
     "output_type": "stream",
     "text": [
      "Using matplotlib backend: MacOSX\n"
     ]
    }
   ],
   "source": [
    "%matplotlib \n",
    "# 10 times iter\n",
    "for s in dicIter[10]:\n",
    "    dicSigma[s].plot(kind='bar', subplots=True, title= 'Sigma = {}'.format(s))"
   ]
  },
  {
   "cell_type": "code",
   "execution_count": 2,
   "metadata": {},
   "outputs": [
    {
     "ename": "NameError",
     "evalue": "name 'dicResult' is not defined",
     "traceback": [
      "\u001b[0;31m\u001b[0m",
      "\u001b[0;31mNameError\u001b[0mTraceback (most recent call last)",
      "\u001b[0;32m<ipython-input-2-0f01461f358a>\u001b[0m in \u001b[0;36m<module>\u001b[0;34m()\u001b[0m\n\u001b[0;32m----> 1\u001b[0;31m \u001b[0mdicResult\u001b[0m\u001b[0;34m\u001b[0m\u001b[0m\n\u001b[0m",
      "\u001b[0;31mNameError\u001b[0m: name 'dicResult' is not defined"
     ],
     "output_type": "error"
    }
   ],
   "source": [
    "dicResult"
   ]
  },
  {
   "cell_type": "code",
   "execution_count": null,
   "metadata": {},
   "outputs": [],
   "source": [
    ""
   ]
  }
 ],
 "metadata": {
  "kernelspec": {
   "display_name": "Python 2",
   "language": "python",
   "name": "python2"
  },
  "language_info": {
   "codemirror_mode": {
    "name": "ipython",
    "version": 2.0
   },
   "file_extension": ".py",
   "mimetype": "text/x-python",
   "name": "python",
   "nbconvert_exporter": "python",
   "pygments_lexer": "ipython2",
   "version": "2.7.6"
  }
 },
 "nbformat": 4,
 "nbformat_minor": 0
}