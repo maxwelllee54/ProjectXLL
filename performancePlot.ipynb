{
 "cells": [
  {
   "cell_type": "code",
   "execution_count": 1,
   "metadata": {
    "collapsed": true
   },
   "outputs": [
    {
     "name": "stderr",
     "output_type": "stream",
     "text": [
      "/Users/maxwelllee54/GitHubs/ProjectXLL/ImpliedVolatility.py:57: RuntimeWarning: invalid value encountered in double_scalars\n  A = (e0 * h1 - h0 * e1) / det\n/Users/maxwelllee54/GitHubs/ProjectXLL/ImpliedVolatility.py:58: RuntimeWarning: invalid value encountered in double_scalars\n  B = (h0 ** 2 * e1 - h1 ** 2 * e0) / det\n"
     ]
    },
    {
     "name": "stderr",
     "output_type": "stream",
     "text": [
      "/Users/maxwelllee54/GitHubs/ProjectXLL/ImpliedVolatility.py:64: RuntimeWarning: invalid value encountered in sqrt\n  x3 = x2 - 2 * C / (B + np.sqrt(B ** 2 - 4 * A * C))\n"
     ]
    },
    {
     "name": "stderr",
     "output_type": "stream",
     "text": [
      "/Users/maxwelllee54/GitHubs/ProjectXLL/ImpliedVolatility.py:64: RuntimeWarning: divide by zero encountered in double_scalars\n  x3 = x2 - 2 * C / (B + np.sqrt(B ** 2 - 4 * A * C))\n"
     ]
    },
    {
     "name": "stderr",
     "output_type": "stream",
     "text": [
      "/Users/maxwelllee54/GitHubs/ProjectXLL/ImpliedVolatility.py:89: RuntimeWarning: divide by zero encountered in double_scalars\n  self.sigma = sigma - self.f()/self.bsmVega()\n/Users/maxwelllee54/GitHubs/ProjectXLL/ImpliedVolatility.py:23: RuntimeWarning: invalid value encountered in double_scalars\n  d1 = (np.log(self.S / self.K) + (self.r + 0.5 * sigma ** 2) * self.T) / (sigma * np.sqrt(self.T))\n/Users/maxwelllee54/GitHubs/ProjectXLL/ImpliedVolatility.py:38: RuntimeWarning: invalid value encountered in double_scalars\n  d1 = (np.log(self.S / self.K) + (self.r + 0.5 * self.sigma ** 2) * self.T) / (self.sigma * np.sqrt(self.T))\n"
     ]
    },
    {
     "name": "stderr",
     "output_type": "stream",
     "text": [
      "/Users/maxwelllee54/GitHubs/ProjectXLL/ImpliedVolatility.py:23: RuntimeWarning: overflow encountered in double_scalars\n  d1 = (np.log(self.S / self.K) + (self.r + 0.5 * sigma ** 2) * self.T) / (sigma * np.sqrt(self.T))\n/Users/maxwelllee54/GitHubs/ProjectXLL/ImpliedVolatility.py:38: RuntimeWarning: overflow encountered in double_scalars\n  d1 = (np.log(self.S / self.K) + (self.r + 0.5 * self.sigma ** 2) * self.T) / (self.sigma * np.sqrt(self.T))\n"
     ]
    },
    {
     "name": "stderr",
     "output_type": "stream",
     "text": [
      "/Users/maxwelllee54/GitHubs/ProjectXLL/ImpliedVolatility.py:89: RuntimeWarning: overflow encountered in double_scalars\n  self.sigma = sigma - self.f()/self.bsmVega()\n"
     ]
    },
    {
     "name": "stderr",
     "output_type": "stream",
     "text": [
      "/Users/maxwelllee54/GitHubs/ProjectXLL/ImpliedVolatility.py:125: RuntimeWarning: invalid value encountered in sqrt\n  newSigma = self.sigma + (-self.bsmVega() + np.sqrt(self.bsmVega() ** 2 - 2 * self.f() * self.bsmVomma())) / self.bsmVomma()\n"
     ]
    },
    {
     "name": "stderr",
     "output_type": "stream",
     "text": [
      "/Users/maxwelllee54/GitHubs/ProjectXLL/ImpliedVolatility.py:125: RuntimeWarning: invalid value encountered in double_scalars\n  newSigma = self.sigma + (-self.bsmVega() + np.sqrt(self.bsmVega() ** 2 - 2 * self.f() * self.bsmVomma())) / self.bsmVomma()\n"
     ]
    },
    {
     "name": "stdout",
     "output_type": "stream",
     "text": [
      "This is the test result for initial point sigma 0.1,               initial iteration 10 times for new_newton and new_halley:\n                  Accuracy  Time(hh:mm:ss)\nbisection          3.99595  0:01:03.683958\nmullerBisection    3.99442  0:01:09.386603\nnewton             3.85345  0:41:46.430127\nhalley           0.0126243  0:01:46.762409\nnew_newton         4.03708  0:01:47.801954\nnew_halley         3.95493  0:00:58.360176\n\n\n"
     ]
    },
    {
     "name": "stdout",
     "output_type": "stream",
     "text": [
      "This is the test result for initial point sigma 0.3,               initial iteration 10 times for new_newton and new_halley:\n                Accuracy  Time(hh:mm:ss)\nbisection        3.99595  0:00:53.990034\nmullerBisection  3.99442  0:00:51.616799\nnewton           4.01074  0:04:45.711169\nhalley           3.68253  0:00:51.162152\nnew_newton       4.03708  0:01:35.937035\nnew_halley       3.95493  0:00:57.364296\n\n\n"
     ]
    },
    {
     "name": "stdout",
     "output_type": "stream",
     "text": [
      "This is the test result for initial point sigma 0.5,               initial iteration 10 times for new_newton and new_halley:\n                Accuracy  Time(hh:mm:ss)\nbisection        3.99595  0:00:53.623325\nmullerBisection  3.99442  0:00:57.851744\nnewton           4.03019  0:01:35.775796\nhalley           3.72324  0:00:38.013239\nnew_newton       4.03708  0:01:46.985103\nnew_halley       3.95493  0:00:57.894319\n\n\n"
     ]
    },
    {
     "name": "stdout",
     "output_type": "stream",
     "text": [
      "This is the test result for initial point sigma 0.7,               initial iteration 10 times for new_newton and new_halley:\n                Accuracy  Time(hh:mm:ss)\nbisection        3.99595  0:00:53.545090\nmullerBisection  3.99442  0:00:57.268493\nnewton           4.03592  0:01:09.095297\nhalley           3.49094  0:02:19.069266\nnew_newton       4.03708  0:01:47.739033\nnew_halley       3.95493  0:00:57.775359\n\n\n"
     ]
    },
    {
     "name": "stdout",
     "output_type": "stream",
     "text": [
      "This is the test result for initial point sigma 1,               initial iteration 10 times for new_newton and new_halley:\n                Accuracy  Time(hh:mm:ss)\nbisection        3.99595  0:00:54.906415\nmullerBisection  3.99442  0:00:57.748656\nnewton            4.0434  0:01:31.478219\nhalley           3.24607  0:00:58.173016\nnew_newton       4.03708  0:01:45.752609\nnew_halley       3.95493  0:00:57.355112\n\n\n"
     ]
    },
    {
     "name": "stdout",
     "output_type": "stream",
     "text": [
      "This is the test result for initial point sigma 1.3,               initial iteration 10 times for new_newton and new_halley:\n                Accuracy  Time(hh:mm:ss)\nbisection        3.99595  0:00:53.918518\nmullerBisection  3.99442  0:00:58.718121\nnewton            4.0582  0:03:24.552084\nhalley           3.09967  0:00:17.783063\nnew_newton       4.03708  0:01:45.721724\nnew_halley       3.95493  0:00:58.087678\n\n\n"
     ]
    },
    {
     "name": "stdout",
     "output_type": "stream",
     "text": [
      "This is the test result for initial point sigma 1.5,               initial iteration 10 times for new_newton and new_halley:\n                Accuracy  Time(hh:mm:ss)\nbisection        3.99595  0:00:53.924323\nmullerBisection  3.99442  0:00:57.738678\nnewton            4.0809  0:06:16.753664\nhalley           3.03915  0:00:24.239805\nnew_newton       4.03708  0:01:47.853071\nnew_halley       3.95493  0:00:57.468540\n\n\n"
     ]
    },
    {
     "name": "stdout",
     "output_type": "stream",
     "text": [
      "This is the test result for initial point sigma 1.7,               initial iteration 10 times for new_newton and new_halley:\n                Accuracy  Time(hh:mm:ss)\nbisection        3.99595  0:00:53.233937\nmullerBisection  3.99442  0:00:58.070233\nnewton            4.1071  0:10:27.271753\nhalley           2.91239  0:00:10.361468\nnew_newton       4.03708  0:01:46.041423\nnew_halley       3.95493  0:00:54.940609\n\n\n"
     ]
    },
    {
     "name": "stdout",
     "output_type": "stream",
     "text": [
      "This is the test result for initial point sigma 2,               initial iteration 10 times for new_newton and new_halley:\n                Accuracy  Time(hh:mm:ss)\nbisection        3.99595  0:00:56.263723\nmullerBisection  3.99442  0:00:58.839262\nnewton            4.0982  0:13:55.239365\nhalley           2.63681  0:00:11.179310\nnew_newton       4.03708  0:01:46.951743\nnew_halley       3.95493  0:00:57.507490\n\n\n"
     ]
    },
    {
     "name": "stdout",
     "output_type": "stream",
     "text": [
      "This is the test result for initial point sigma 0.1,               initial iteration 100 times for new_newton and new_halley:\n                  Accuracy  Time(hh:mm:ss)\nbisection          3.99595  0:00:54.318056\nmullerBisection    3.99442  0:00:58.000438\nnewton             3.85345  0:38:27.444411\nhalley           0.0126243  0:01:32.955557\nnew_newton         4.03708  0:01:36.461320\nnew_halley         3.95727  0:00:52.269562\n\n\n"
     ]
    },
    {
     "name": "stdout",
     "output_type": "stream",
     "text": [
      "This is the test result for initial point sigma 0.3,               initial iteration 100 times for new_newton and new_halley:\n                Accuracy  Time(hh:mm:ss)\nbisection        3.99595  0:00:46.375889\nmullerBisection  3.99442  0:00:50.537097\nnewton           4.01074  0:04:45.832781\nhalley           3.68253  0:00:51.480838\nnew_newton       4.03708  0:01:36.556053\nnew_halley       3.95727  0:00:52.264338\n\n\n"
     ]
    },
    {
     "name": "stdout",
     "output_type": "stream",
     "text": [
      "This is the test result for initial point sigma 0.5,               initial iteration 100 times for new_newton and new_halley:\n                Accuracy  Time(hh:mm:ss)\nbisection        3.99595  0:00:47.326137\nmullerBisection  3.99442  0:00:50.502759\nnewton           4.03019  0:01:25.428374\nhalley           3.72324  0:00:33.554128\nnew_newton       4.03708  0:01:35.685740\nnew_halley       3.95727  0:00:51.713724\n\n\n"
     ]
    },
    {
     "name": "stdout",
     "output_type": "stream",
     "text": [
      "This is the test result for initial point sigma 0.7,               initial iteration 100 times for new_newton and new_halley:\n                Accuracy  Time(hh:mm:ss)\nbisection        3.99595  0:00:46.851782\nmullerBisection  3.99442  0:00:50.628496\nnewton           4.03592  0:01:01.487226\nhalley           3.49094  0:02:02.662157\nnew_newton       4.03708  0:01:35.601910\nnew_halley       3.95727  0:00:52.071063\n\n\n"
     ]
    },
    {
     "name": "stdout",
     "output_type": "stream",
     "text": [
      "This is the test result for initial point sigma 1,               initial iteration 100 times for new_newton and new_halley:\n                Accuracy  Time(hh:mm:ss)\nbisection        3.99595  0:00:47.063427\nmullerBisection  3.99442  0:00:50.393790\nnewton            4.0434  0:01:21.385535\nhalley           3.24607  0:00:51.152591\nnew_newton       4.03708  0:01:35.716866\nnew_halley       3.95727  0:00:52.570221\n\n\n"
     ]
    },
    {
     "name": "stdout",
     "output_type": "stream",
     "text": [
      "This is the test result for initial point sigma 1.3,               initial iteration 100 times for new_newton and new_halley:\n                Accuracy  Time(hh:mm:ss)\nbisection        3.99595  0:00:46.581472\nmullerBisection  3.99442  0:00:50.625918\nnewton            4.0582  0:02:59.689197\nhalley           3.09967  0:00:15.505079\nnew_newton       4.03708  0:01:36.780664\nnew_halley       3.95727  0:00:52.758049\n\n\n"
     ]
    },
    {
     "name": "stdout",
     "output_type": "stream",
     "text": [
      "This is the test result for initial point sigma 1.5,               initial iteration 100 times for new_newton and new_halley:\n                Accuracy  Time(hh:mm:ss)\nbisection        3.99595  0:00:46.952575\nmullerBisection  3.99442  0:00:49.894286\nnewton            4.0809  0:05:37.135982\nhalley           3.03915  0:00:21.354921\nnew_newton       4.03708  0:01:36.366946\nnew_halley       3.95727  0:00:52.175462\n\n\n"
     ]
    },
    {
     "name": "stdout",
     "output_type": "stream",
     "text": [
      "This is the test result for initial point sigma 1.7,               initial iteration 100 times for new_newton and new_halley:\n                Accuracy  Time(hh:mm:ss)\nbisection        3.99595  0:00:46.506609\nmullerBisection  3.99442  0:00:50.282046\nnewton            4.1071  0:09:12.509900\nhalley           2.91239  0:00:09.498430\nnew_newton       4.03708  0:01:35.884148\nnew_halley       3.95727  0:00:52.181799\n\n\n"
     ]
    },
    {
     "name": "stdout",
     "output_type": "stream",
     "text": [
      "This is the test result for initial point sigma 2,               initial iteration 100 times for new_newton and new_halley:\n                Accuracy  Time(hh:mm:ss)\nbisection        3.99595  0:00:46.627538\nmullerBisection  3.99442  0:00:50.062101\nnewton            4.0982  0:12:10.545311\nhalley           2.63681  0:00:09.517063\nnew_newton       4.03708  0:01:35.345906\nnew_halley       3.95727  0:00:52.159368\n\n\n"
     ]
    },
    {
     "name": "stdout",
     "output_type": "stream",
     "text": [
      "This is the test result for initial point sigma 0.1,               initial iteration 500 times for new_newton and new_halley:\n                  Accuracy  Time(hh:mm:ss)\nbisection          3.99595  0:00:47.184510\nmullerBisection    3.99442  0:00:50.002274\nnewton             3.85345  0:36:50.960916\nhalley           0.0126243  0:01:32.419837\nnew_newton         4.03708  0:01:35.631770\nnew_halley         3.95727  0:00:52.201166\n\n\n"
     ]
    },
    {
     "name": "stdout",
     "output_type": "stream",
     "text": [
      "This is the test result for initial point sigma 0.3,               initial iteration 500 times for new_newton and new_halley:\n                Accuracy  Time(hh:mm:ss)\nbisection        3.99595  0:00:46.459815\nmullerBisection  3.99442  0:00:50.271561\nnewton           4.01074  0:04:42.486890\nhalley           3.68253  0:00:50.862266\nnew_newton       4.03708  0:01:35.799877\nnew_halley       3.95727  0:00:52.079052\n\n\n"
     ]
    },
    {
     "name": "stdout",
     "output_type": "stream",
     "text": [
      "This is the test result for initial point sigma 0.5,               initial iteration 500 times for new_newton and new_halley:\n                Accuracy  Time(hh:mm:ss)\nbisection        3.99595  0:00:46.455729\nmullerBisection  3.99442  0:00:50.716235\nnewton           4.03019  0:01:24.852940\nhalley           3.72324  0:00:33.182488\nnew_newton       4.03708  0:01:36.310714\nnew_halley       3.95727  0:00:52.548560\n\n\n"
     ]
    },
    {
     "name": "stdout",
     "output_type": "stream",
     "text": [
      "This is the test result for initial point sigma 0.7,               initial iteration 500 times for new_newton and new_halley:\n                Accuracy  Time(hh:mm:ss)\nbisection        3.99595  0:00:46.657970\nmullerBisection  3.99442  0:00:50.405579\nnewton           4.03592  0:01:01.451106\nhalley           3.49094  0:02:02.573380\nnew_newton       4.03708  0:01:36.383305\nnew_halley       3.95727  0:00:52.228967\n\n\n"
     ]
    },
    {
     "name": "stdout",
     "output_type": "stream",
     "text": [
      "This is the test result for initial point sigma 1,               initial iteration 500 times for new_newton and new_halley:\n                Accuracy  Time(hh:mm:ss)\nbisection        3.99595  0:00:46.637086\nmullerBisection  3.99442  0:00:50.036864\nnewton            4.0434  0:01:21.091190\nhalley           3.24607  0:00:51.604282\nnew_newton       4.03708  0:01:35.784469\nnew_halley       3.95727  0:00:52.045025\n\n\n"
     ]
    },
    {
     "name": "stdout",
     "output_type": "stream",
     "text": [
      "This is the test result for initial point sigma 1.3,               initial iteration 500 times for new_newton and new_halley:\n                Accuracy  Time(hh:mm:ss)\nbisection        3.99595  0:00:46.391416\nmullerBisection  3.99442  0:00:50.565622\nnewton            4.0582  0:02:59.719294\nhalley           3.09967  0:00:15.449631\nnew_newton       4.03708  0:01:35.066287\nnew_halley       3.95727  0:00:52.202414\n\n\n"
     ]
    },
    {
     "name": "stdout",
     "output_type": "stream",
     "text": [
      "This is the test result for initial point sigma 1.5,               initial iteration 500 times for new_newton and new_halley:\n                Accuracy  Time(hh:mm:ss)\nbisection        3.99595  0:00:46.980273\nmullerBisection  3.99442  0:00:49.790712\nnewton            4.0809  0:05:37.722814\nhalley           3.03915  0:00:21.330185\nnew_newton       4.03708  0:01:35.877677\nnew_halley       3.95727  0:00:52.856568\n\n\n"
     ]
    },
    {
     "name": "stdout",
     "output_type": "stream",
     "text": [
      "This is the test result for initial point sigma 1.7,               initial iteration 500 times for new_newton and new_halley:\n                Accuracy  Time(hh:mm:ss)\nbisection        3.99595  0:00:46.769014\nmullerBisection  3.99442  0:00:50.651899\nnewton            4.1071  0:09:13.431173\nhalley           2.91239  0:00:09.776583\nnew_newton       4.03708  0:01:36.149923\nnew_halley       3.95727  0:00:51.969727\n\n\n"
     ]
    },
    {
     "name": "stdout",
     "output_type": "stream",
     "text": [
      "This is the test result for initial point sigma 2,               initial iteration 500 times for new_newton and new_halley:\n                Accuracy  Time(hh:mm:ss)\nbisection        3.99595  0:00:46.057978\nmullerBisection  3.99442  0:00:50.199292\nnewton            4.0982  0:12:11.574055\nhalley           2.63681  0:00:09.650577\nnew_newton       4.03708  0:01:36.412791\nnew_halley       3.95727  0:00:52.408506\n\n\n"
     ]
    },
    {
     "name": "stdout",
     "output_type": "stream",
     "text": [
      "This is the test result for initial point sigma 0.1,               initial iteration 1000 times for new_newton and new_halley:\n                  Accuracy  Time(hh:mm:ss)\nbisection          3.99595  0:00:47.008337\nmullerBisection    3.99442  0:00:50.646531\nnewton             3.85345  0:36:56.527015\nhalley           0.0126243  0:01:33.125245\nnew_newton         4.03708  0:01:36.237143\nnew_halley         3.95727  0:00:52.788057\n\n\n"
     ]
    },
    {
     "name": "stdout",
     "output_type": "stream",
     "text": [
      "This is the test result for initial point sigma 0.3,               initial iteration 1000 times for new_newton and new_halley:\n                Accuracy  Time(hh:mm:ss)\nbisection        3.99595  0:00:46.379109\nmullerBisection  3.99442  0:00:50.612772\nnewton           4.01074  0:04:45.483508\nhalley           3.68253  0:00:51.013539\nnew_newton       4.03708  0:01:36.760245\nnew_halley       3.95727  0:00:52.727320\n\n\n"
     ]
    },
    {
     "name": "stdout",
     "output_type": "stream",
     "text": [
      "This is the test result for initial point sigma 0.5,               initial iteration 1000 times for new_newton and new_halley:\n                Accuracy  Time(hh:mm:ss)\nbisection        3.99595  0:00:46.599503\nmullerBisection  3.99442  0:00:50.692397\nnewton           4.03019  0:01:25.063990\nhalley           3.72324  0:00:32.701023\nnew_newton       4.03708  0:01:35.862561\nnew_halley       3.95727  0:00:52.722044\n\n\n"
     ]
    },
    {
     "name": "stdout",
     "output_type": "stream",
     "text": [
      "This is the test result for initial point sigma 0.7,               initial iteration 1000 times for new_newton and new_halley:\n                Accuracy  Time(hh:mm:ss)\nbisection        3.99595  0:00:46.861506\nmullerBisection  3.99442  0:00:50.414548\nnewton           4.03592  0:01:01.462707\nhalley           3.49094  0:02:03.041329\nnew_newton       4.03708  0:01:35.379902\nnew_halley       3.95727  0:00:52.759085\n\n\n"
     ]
    },
    {
     "name": "stdout",
     "output_type": "stream",
     "text": [
      "This is the test result for initial point sigma 1,               initial iteration 1000 times for new_newton and new_halley:\n                Accuracy  Time(hh:mm:ss)\nbisection        3.99595  0:00:46.835273\nmullerBisection  3.99442  0:00:50.363391\nnewton            4.0434  0:01:21.276482\nhalley           3.24607  0:00:51.207761\nnew_newton       4.03708  0:01:35.451298\nnew_halley       3.95727  0:00:52.585892\n\n\n"
     ]
    },
    {
     "name": "stdout",
     "output_type": "stream",
     "text": [
      "This is the test result for initial point sigma 1.3,               initial iteration 1000 times for new_newton and new_halley:\n                Accuracy  Time(hh:mm:ss)\nbisection        3.99595  0:00:46.482544\nmullerBisection  3.99442  0:00:50.295682\nnewton            4.0582  0:03:00.541472\nhalley           3.09967  0:00:15.699356\nnew_newton       4.03708  0:01:35.971001\nnew_halley       3.95727  0:00:52.482572\n\n\n"
     ]
    },
    {
     "name": "stdout",
     "output_type": "stream",
     "text": [
      "This is the test result for initial point sigma 1.5,               initial iteration 1000 times for new_newton and new_halley:\n                Accuracy  Time(hh:mm:ss)\nbisection        3.99595  0:00:46.678440\nmullerBisection  3.99442  0:00:50.042809\nnewton            4.0809  0:05:36.608686\nhalley           3.03915  0:00:21.576724\nnew_newton       4.03708  0:01:35.780338\nnew_halley       3.95727  0:00:52.670444\n\n\n"
     ]
    },
    {
     "name": "stdout",
     "output_type": "stream",
     "text": [
      "This is the test result for initial point sigma 1.7,               initial iteration 1000 times for new_newton and new_halley:\n                Accuracy  Time(hh:mm:ss)\nbisection        3.99595  0:00:46.752103\nmullerBisection  3.99442  0:00:50.694828\nnewton            4.1071  0:09:12.326587\nhalley           2.91239  0:00:09.496631\nnew_newton       4.03708  0:01:35.686827\nnew_halley       3.95727  0:00:52.553017\n\n\n"
     ]
    },
    {
     "name": "stdout",
     "output_type": "stream",
     "text": [
      "This is the test result for initial point sigma 2,               initial iteration 1000 times for new_newton and new_halley:\n                Accuracy  Time(hh:mm:ss)\nbisection        3.99595  0:00:46.459702\nmullerBisection  3.99442  0:00:50.551006\nnewton            4.0982  0:12:15.791265\nhalley           2.63681  0:00:09.440028\nnew_newton       4.03708  0:01:36.408547\nnew_halley       3.95727  0:00:52.466796\n\n\n"
     ]
    }
   ],
   "source": [
    "from ImpliedVolatility import ImpliedVolatility                                                                                 \n",
    "import pandas as pd                                                                                                             \n",
    "import numpy as np                                                                                                              \n",
    "import datetime                                                                                                                 \n",
    "                                                                                                                                \n",
    "                                                                                                                                \n",
    "def performance(df, method, r = 0.05, sigma0 = 0.5, initialIter = 10):                                                                            \n",
    "    time_start = datetime.datetime.now()                                                                                        \n",
    "    dfCopy = df.copy()                                                                                                          \n",
    "                                                                                                                                \n",
    "    for i in df.index:                                                                                                          \n",
    "        impVol = ImpliedVolatility(df.ix[i, 'StockPrice'], df.ix[i, 'StrikePrice'], df.ix[i, 'T'], r, sigma0,                   \n",
    "                                   df.ix[i, 'Last'], df.ix[i, 'Type'])                                                          \n",
    "                                                                                                                                \n",
    "        if method == 'bisection':                                                                                               \n",
    "            dfCopy.ix[i, method] = impVol.bsmBisectionVol()                                                                     \n",
    "                                                                                                                                \n",
    "        elif method == 'newton':                                                                                                \n",
    "            dfCopy.ix[i, method] = impVol.bsmNewtonVol()                                                                        \n",
    "                                                                                                                                \n",
    "        elif method == 'mullerBisection':                                                                                       \n",
    "            dfCopy.ix[i, method] = impVol.bsmMullerBisectionVol()                                                               \n",
    "                                                                                                                                \n",
    "        elif method == 'halley':                                                                                                \n",
    "            dfCopy.ix[i, method] = impVol.bsmHalley()                                                                           \n",
    "                                                                                                                                \n",
    "        elif method == 'new_newton':                                                                                            \n",
    "            impVol.bsmMullerBisectionInitial(initialIter=initialIter)                                                                                  \n",
    "            dfCopy.ix[i, method] = impVol.bsmNewtonVol()                                                                        \n",
    "                                                                                                                                \n",
    "        elif method == 'new_halley':                                                                                            \n",
    "            impVol.bsmMullerBisectionInitial(initialIter=initialIter)                                                                                  \n",
    "            dfCopy.ix[i, method] = impVol.bsmHalley()                                                                           \n",
    "                                                                                                                                \n",
    "    dfCopy.loc[:, 'Difference'] = -np.log(np.fabs(dfCopy.IV - dfCopy.ix[:, method]))                        \n",
    "                                                                                                                                \n",
    "    accuracy = dfCopy.Difference.mean()                                                                                         \n",
    "    duration = datetime.datetime.now() - time_start                                                                             \n",
    "                                                                                                                                \n",
    "    return accuracy, duration                                                                                                   \n",
    "                                                                                                                                \n",
    "                                                                                                                                \n",
    "data = pd.read_csv('europeanOptions.csv')                                                                                       \n",
    "data = data.loc[:, ['cDate', 'ExpDate', 'StrikePrice', 'Ticker', 'Type', 'Last', 'IV', 'StockPrice', 'T']]                      \n",
    "                                                                                                                                \n",
    "testMethods = ['bisection', 'mullerBisection', 'newton', 'halley', 'new_newton', 'new_halley']                                  \n",
    "testSigma = [0.1, 0.3, 0.5, 0.7, 1, 1.3, 1.5, 1.7, 2]\n",
    "testIter = [10, 100, 500, 1000]\n",
    "result = pd.DataFrame(index=testMethods, columns=['Accuracy', 'Time(hh:mm:ss)'])                                                \n",
    "dicResult = {}\n",
    "\n",
    "                                                                                                                                \n",
    "                                                                                                                                \n",
    "for iter in testIter:\n",
    "    dicResult[iter] = {}\n",
    "    for sigma in testSigma:                                                                                                         \n",
    "        for method in testMethods:                                                                                                  \n",
    "            result.loc[method, :] = performance(data, method, sigma0=sigma, initialIter=iter)                                                                                                                              \n",
    "        dicResult[iter][sigma] = result                                                                                                   \n",
    "        print('This is the test result for initial point sigma {}, \\\n",
    "initial iteration {} times for new_newton and new_halley:\\n{}\\n\\n'.format(sigma, iter, result))\n"
   ]
  },
  {
   "cell_type": "code",
   "execution_count": 12,
   "metadata": {},
   "outputs": [
    {
     "name": "stderr",
     "output_type": "stream",
     "text": [
      "/Users/maxwelllee54/GitHubs/ProjectXLL/ImpliedVolatility.py:57: RuntimeWarning: invalid value encountered in double_scalars\n  A = (e0 * h1 - h0 * e1) / det\n/Users/maxwelllee54/GitHubs/ProjectXLL/ImpliedVolatility.py:58: RuntimeWarning: invalid value encountered in double_scalars\n  B = (h0 ** 2 * e1 - h1 ** 2 * e0) / det\n"
     ]
    },
    {
     "name": "stderr",
     "output_type": "stream",
     "text": [
      "/Users/maxwelllee54/GitHubs/ProjectXLL/ImpliedVolatility.py:64: RuntimeWarning: invalid value encountered in sqrt\n  x3 = x2 - 2 * C / (B + np.sqrt(B ** 2 - 4 * A * C))\n"
     ]
    },
    {
     "name": "stderr",
     "output_type": "stream",
     "text": [
      "/Users/maxwelllee54/GitHubs/ProjectXLL/ImpliedVolatility.py:64: RuntimeWarning: divide by zero encountered in double_scalars\n  x3 = x2 - 2 * C / (B + np.sqrt(B ** 2 - 4 * A * C))\n"
     ]
    },
    {
     "name": "stderr",
     "output_type": "stream",
     "text": [
      "/Users/maxwelllee54/GitHubs/ProjectXLL/ImpliedVolatility.py:89: RuntimeWarning: divide by zero encountered in double_scalars\n  self.sigma = sigma - self.f()/self.bsmVega()\n/Users/maxwelllee54/GitHubs/ProjectXLL/ImpliedVolatility.py:23: RuntimeWarning: invalid value encountered in double_scalars\n  d1 = (np.log(self.S / self.K) + (self.r + 0.5 * sigma ** 2) * self.T) / (sigma * np.sqrt(self.T))\n/Users/maxwelllee54/GitHubs/ProjectXLL/ImpliedVolatility.py:38: RuntimeWarning: invalid value encountered in double_scalars\n  d1 = (np.log(self.S / self.K) + (self.r + 0.5 * self.sigma ** 2) * self.T) / (self.sigma * np.sqrt(self.T))\n"
     ]
    },
    {
     "name": "stderr",
     "output_type": "stream",
     "text": [
      "/Users/maxwelllee54/GitHubs/ProjectXLL/ImpliedVolatility.py:23: RuntimeWarning: overflow encountered in double_scalars\n  d1 = (np.log(self.S / self.K) + (self.r + 0.5 * sigma ** 2) * self.T) / (sigma * np.sqrt(self.T))\n/Users/maxwelllee54/GitHubs/ProjectXLL/ImpliedVolatility.py:38: RuntimeWarning: overflow encountered in double_scalars\n  d1 = (np.log(self.S / self.K) + (self.r + 0.5 * self.sigma ** 2) * self.T) / (self.sigma * np.sqrt(self.T))\n"
     ]
    },
    {
     "name": "stderr",
     "output_type": "stream",
     "text": [
      "/Users/maxwelllee54/GitHubs/ProjectXLL/ImpliedVolatility.py:89: RuntimeWarning: overflow encountered in double_scalars\n  self.sigma = sigma - self.f()/self.bsmVega()\n"
     ]
    },
    {
     "name": "stderr",
     "output_type": "stream",
     "text": [
      "/Users/maxwelllee54/GitHubs/ProjectXLL/ImpliedVolatility.py:125: RuntimeWarning: invalid value encountered in sqrt\n  newSigma = self.sigma\n"
     ]
    },
    {
     "name": "stderr",
     "output_type": "stream",
     "text": [
      "/Users/maxwelllee54/GitHubs/ProjectXLL/ImpliedVolatility.py:125: RuntimeWarning: invalid value encountered in double_scalars\n  newSigma = self.sigma\n"
     ]
    },
    {
     "name": "stdout",
     "output_type": "stream",
     "text": [
      "This is the test result for initial point sigma 0.1, initial iteration 10 times for new_newton and new_halley:\n                  Accuracy  Time(hh:mm:ss)\nbisection          3.99595  0:00:56.506684\nmullerBisection    3.99442  0:01:02.730131\nnewton             3.85345  0:43:54.629779\nhalley           0.0126243  0:02:00.769730\nnew_newton         4.03708  0:02:14.951541\nnew_halley         3.95493  0:01:20.725661\n\n\n"
     ]
    },
    {
     "name": "stdout",
     "output_type": "stream",
     "text": [
      "This is the test result for initial point sigma 0.3, initial iteration 10 times for new_newton and new_halley:\n                Accuracy  Time(hh:mm:ss)\nbisection        3.99595  0:01:04.033849\nmullerBisection  3.99442  0:00:56.756532\nnewton           4.01074  0:05:39.781541\nhalley           3.68253  0:01:01.456839\nnew_newton       4.03708  0:02:01.830049\nnew_halley       3.95493  0:01:03.565886\n\n\n"
     ]
    },
    {
     "name": "stdout",
     "output_type": "stream",
     "text": [
      "This is the test result for initial point sigma 0.5, initial iteration 10 times for new_newton and new_halley:\n                Accuracy  Time(hh:mm:ss)\nbisection        3.99595  0:00:56.125620\nmullerBisection  3.99442  0:00:57.406283\nnewton           4.03019  0:01:39.560221\nhalley           3.72324  0:00:41.478502\nnew_newton       4.03708  0:01:54.851729\nnew_halley       3.95493  0:00:58.225579\n\n\n"
     ]
    },
    {
     "name": "stdout",
     "output_type": "stream",
     "text": [
      "This is the test result for initial point sigma 0.7, initial iteration 10 times for new_newton and new_halley:\n                Accuracy  Time(hh:mm:ss)\nbisection        3.99595  0:00:53.138427\nmullerBisection  3.99442  0:00:57.458201\nnewton           4.03592  0:01:10.770933\nhalley           3.49094  0:02:18.369553\nnew_newton       4.03708  0:01:43.233662\nnew_halley       3.95493  0:00:56.580779\n\n\n"
     ]
    }
   ],
   "source": [
    "dicResult = {}\n",
    "result = pd.DataFrame(index=testMethods, columns=['Accuracy', 'Time(hh:mm:ss)'])\n",
    "                                                                                                                      \n",
    "for iter in testIter:\n",
    "    dicResult[iter] = {}\n",
    "    for sigma in testSigma:                                                                                                         \n",
    "        for method in testMethods:                                                                                                  \n",
    "            result.loc[method, :] = performance(data, method, sigma0=sigma, initialIter=iter)                                                                                                                            \n",
    "        dicResult[iter][sigma] = result                                                                                                   \n",
    "        print('This is the test result for initial point sigma {}, \\\n",
    "initial iteration {} times for new_newton and new_halley:\\n{}\\n\\n'.format(sigma, iter, result))"
   ]
  },
  {
   "cell_type": "code",
   "execution_count": 3,
   "metadata": {},
   "outputs": [],
   "source": [
    "for i in dicResult:\n",
    "    for s in dicResult[i]:\n",
    "        for ind in dicResult[i][s].index:\n",
    "            dicResult[i][s].loc[ind, 'Seconds'] = dicResult[i][s].loc[ind, 'Time(hh:mm:ss)'].seconds"
   ]
  },
  {
   "cell_type": "code",
   "execution_count": 7,
   "metadata": {},
   "outputs": [
    {
     "name": "stdout",
     "output_type": "stream",
     "text": [
      "Using matplotlib backend: MacOSX\n"
     ]
    }
   ],
   "source": [
    "%matplotlib \n",
    "# 10 times iter\n",
    "for s in dicIter[10]:\n",
    "    dicSigma[s].plot(kind='bar', subplots=True, title= 'Sigma = {}'.format(s))"
   ]
  },
  {
   "cell_type": "code",
   "execution_count": 8,
   "metadata": {},
   "outputs": [
    {
     "data": {
      "text/plain": [
       "{10: {0.1:                 Accuracy  Time(hh:mm:ss)  Seconds\n  bisection        3.99595  0:00:46.459702     46.0\n  mullerBisection  3.99442  0:00:50.551006     50.0\n  newton            4.0982  0:12:15.791265    735.0\n  halley           2.63681  0:00:09.440028      9.0\n  new_newton       4.03708  0:01:36.408547     96.0\n  new_halley       3.95727  0:00:52.466796     52.0,\n  0.3:                 Accuracy  Time(hh:mm:ss)  Seconds\n  bisection        3.99595  0:00:46.459702     46.0\n  mullerBisection  3.99442  0:00:50.551006     50.0\n  newton            4.0982  0:12:15.791265    735.0\n  halley           2.63681  0:00:09.440028      9.0\n  new_newton       4.03708  0:01:36.408547     96.0\n  new_halley       3.95727  0:00:52.466796     52.0,\n  0.5:                 Accuracy  Time(hh:mm:ss)  Seconds\n  bisection        3.99595  0:00:46.459702     46.0\n  mullerBisection  3.99442  0:00:50.551006     50.0\n  newton            4.0982  0:12:15.791265    735.0\n  halley           2.63681  0:00:09.440028      9.0\n  new_newton       4.03708  0:01:36.408547     96.0\n  new_halley       3.95727  0:00:52.466796     52.0,\n  0.7:                 Accuracy  Time(hh:mm:ss)  Seconds\n  bisection        3.99595  0:00:46.459702     46.0\n  mullerBisection  3.99442  0:00:50.551006     50.0\n  newton            4.0982  0:12:15.791265    735.0\n  halley           2.63681  0:00:09.440028      9.0\n  new_newton       4.03708  0:01:36.408547     96.0\n  new_halley       3.95727  0:00:52.466796     52.0,\n  1:                 Accuracy  Time(hh:mm:ss)  Seconds\n  bisection        3.99595  0:00:46.459702     46.0\n  mullerBisection  3.99442  0:00:50.551006     50.0\n  newton            4.0982  0:12:15.791265    735.0\n  halley           2.63681  0:00:09.440028      9.0\n  new_newton       4.03708  0:01:36.408547     96.0\n  new_halley       3.95727  0:00:52.466796     52.0,\n  1.3:                 Accuracy  Time(hh:mm:ss)  Seconds\n  bisection        3.99595  0:00:46.459702     46.0\n  mullerBisection  3.99442  0:00:50.551006     50.0\n  newton            4.0982  0:12:15.791265    735.0\n  halley           2.63681  0:00:09.440028      9.0\n  new_newton       4.03708  0:01:36.408547     96.0\n  new_halley       3.95727  0:00:52.466796     52.0,\n  1.5:                 Accuracy  Time(hh:mm:ss)  Seconds\n  bisection        3.99595  0:00:46.459702     46.0\n  mullerBisection  3.99442  0:00:50.551006     50.0\n  newton            4.0982  0:12:15.791265    735.0\n  halley           2.63681  0:00:09.440028      9.0\n  new_newton       4.03708  0:01:36.408547     96.0\n  new_halley       3.95727  0:00:52.466796     52.0,\n  1.7:                 Accuracy  Time(hh:mm:ss)  Seconds\n  bisection        3.99595  0:00:46.459702     46.0\n  mullerBisection  3.99442  0:00:50.551006     50.0\n  newton            4.0982  0:12:15.791265    735.0\n  halley           2.63681  0:00:09.440028      9.0\n  new_newton       4.03708  0:01:36.408547     96.0\n  new_halley       3.95727  0:00:52.466796     52.0,\n  2:                 Accuracy  Time(hh:mm:ss)  Seconds\n  bisection        3.99595  0:00:46.459702     46.0\n  mullerBisection  3.99442  0:00:50.551006     50.0\n  newton            4.0982  0:12:15.791265    735.0\n  halley           2.63681  0:00:09.440028      9.0\n  new_newton       4.03708  0:01:36.408547     96.0\n  new_halley       3.95727  0:00:52.466796     52.0},\n 100: {0.1:                 Accuracy  Time(hh:mm:ss)  Seconds\n  bisection        3.99595  0:00:46.459702     46.0\n  mullerBisection  3.99442  0:00:50.551006     50.0\n  newton            4.0982  0:12:15.791265    735.0\n  halley           2.63681  0:00:09.440028      9.0\n  new_newton       4.03708  0:01:36.408547     96.0\n  new_halley       3.95727  0:00:52.466796     52.0,\n  0.3:                 Accuracy  Time(hh:mm:ss)  Seconds\n  bisection        3.99595  0:00:46.459702     46.0\n  mullerBisection  3.99442  0:00:50.551006     50.0\n  newton            4.0982  0:12:15.791265    735.0\n  halley           2.63681  0:00:09.440028      9.0\n  new_newton       4.03708  0:01:36.408547     96.0\n  new_halley       3.95727  0:00:52.466796     52.0,\n  0.5:                 Accuracy  Time(hh:mm:ss)  Seconds\n  bisection        3.99595  0:00:46.459702     46.0\n  mullerBisection  3.99442  0:00:50.551006     50.0\n  newton            4.0982  0:12:15.791265    735.0\n  halley           2.63681  0:00:09.440028      9.0\n  new_newton       4.03708  0:01:36.408547     96.0\n  new_halley       3.95727  0:00:52.466796     52.0,\n  0.7:                 Accuracy  Time(hh:mm:ss)  Seconds\n  bisection        3.99595  0:00:46.459702     46.0\n  mullerBisection  3.99442  0:00:50.551006     50.0\n  newton            4.0982  0:12:15.791265    735.0\n  halley           2.63681  0:00:09.440028      9.0\n  new_newton       4.03708  0:01:36.408547     96.0\n  new_halley       3.95727  0:00:52.466796     52.0,\n  1:                 Accuracy  Time(hh:mm:ss)  Seconds\n  bisection        3.99595  0:00:46.459702     46.0\n  mullerBisection  3.99442  0:00:50.551006     50.0\n  newton            4.0982  0:12:15.791265    735.0\n  halley           2.63681  0:00:09.440028      9.0\n  new_newton       4.03708  0:01:36.408547     96.0\n  new_halley       3.95727  0:00:52.466796     52.0,\n  1.3:                 Accuracy  Time(hh:mm:ss)  Seconds\n  bisection        3.99595  0:00:46.459702     46.0\n  mullerBisection  3.99442  0:00:50.551006     50.0\n  newton            4.0982  0:12:15.791265    735.0\n  halley           2.63681  0:00:09.440028      9.0\n  new_newton       4.03708  0:01:36.408547     96.0\n  new_halley       3.95727  0:00:52.466796     52.0,\n  1.5:                 Accuracy  Time(hh:mm:ss)  Seconds\n  bisection        3.99595  0:00:46.459702     46.0\n  mullerBisection  3.99442  0:00:50.551006     50.0\n  newton            4.0982  0:12:15.791265    735.0\n  halley           2.63681  0:00:09.440028      9.0\n  new_newton       4.03708  0:01:36.408547     96.0\n  new_halley       3.95727  0:00:52.466796     52.0,\n  1.7:                 Accuracy  Time(hh:mm:ss)  Seconds\n  bisection        3.99595  0:00:46.459702     46.0\n  mullerBisection  3.99442  0:00:50.551006     50.0\n  newton            4.0982  0:12:15.791265    735.0\n  halley           2.63681  0:00:09.440028      9.0\n  new_newton       4.03708  0:01:36.408547     96.0\n  new_halley       3.95727  0:00:52.466796     52.0,\n  2:                 Accuracy  Time(hh:mm:ss)  Seconds\n  bisection        3.99595  0:00:46.459702     46.0\n  mullerBisection  3.99442  0:00:50.551006     50.0\n  newton            4.0982  0:12:15.791265    735.0\n  halley           2.63681  0:00:09.440028      9.0\n  new_newton       4.03708  0:01:36.408547     96.0\n  new_halley       3.95727  0:00:52.466796     52.0},\n 500: {0.1:                 Accuracy  Time(hh:mm:ss)  Seconds\n  bisection        3.99595  0:00:46.459702     46.0\n  mullerBisection  3.99442  0:00:50.551006     50.0\n  newton            4.0982  0:12:15.791265    735.0\n  halley           2.63681  0:00:09.440028      9.0\n  new_newton       4.03708  0:01:36.408547     96.0\n  new_halley       3.95727  0:00:52.466796     52.0,\n  0.3:                 Accuracy  Time(hh:mm:ss)  Seconds\n  bisection        3.99595  0:00:46.459702     46.0\n  mullerBisection  3.99442  0:00:50.551006     50.0\n  newton            4.0982  0:12:15.791265    735.0\n  halley           2.63681  0:00:09.440028      9.0\n  new_newton       4.03708  0:01:36.408547     96.0\n  new_halley       3.95727  0:00:52.466796     52.0,\n  0.5:                 Accuracy  Time(hh:mm:ss)  Seconds\n  bisection        3.99595  0:00:46.459702     46.0\n  mullerBisection  3.99442  0:00:50.551006     50.0\n  newton            4.0982  0:12:15.791265    735.0\n  halley           2.63681  0:00:09.440028      9.0\n  new_newton       4.03708  0:01:36.408547     96.0\n  new_halley       3.95727  0:00:52.466796     52.0,\n  0.7:                 Accuracy  Time(hh:mm:ss)  Seconds\n  bisection        3.99595  0:00:46.459702     46.0\n  mullerBisection  3.99442  0:00:50.551006     50.0\n  newton            4.0982  0:12:15.791265    735.0\n  halley           2.63681  0:00:09.440028      9.0\n  new_newton       4.03708  0:01:36.408547     96.0\n  new_halley       3.95727  0:00:52.466796     52.0,\n  1:                 Accuracy  Time(hh:mm:ss)  Seconds\n  bisection        3.99595  0:00:46.459702     46.0\n  mullerBisection  3.99442  0:00:50.551006     50.0\n  newton            4.0982  0:12:15.791265    735.0\n  halley           2.63681  0:00:09.440028      9.0\n  new_newton       4.03708  0:01:36.408547     96.0\n  new_halley       3.95727  0:00:52.466796     52.0,\n  1.3:                 Accuracy  Time(hh:mm:ss)  Seconds\n  bisection        3.99595  0:00:46.459702     46.0\n  mullerBisection  3.99442  0:00:50.551006     50.0\n  newton            4.0982  0:12:15.791265    735.0\n  halley           2.63681  0:00:09.440028      9.0\n  new_newton       4.03708  0:01:36.408547     96.0\n  new_halley       3.95727  0:00:52.466796     52.0,\n  1.5:                 Accuracy  Time(hh:mm:ss)  Seconds\n  bisection        3.99595  0:00:46.459702     46.0\n  mullerBisection  3.99442  0:00:50.551006     50.0\n  newton            4.0982  0:12:15.791265    735.0\n  halley           2.63681  0:00:09.440028      9.0\n  new_newton       4.03708  0:01:36.408547     96.0\n  new_halley       3.95727  0:00:52.466796     52.0,\n  1.7:                 Accuracy  Time(hh:mm:ss)  Seconds\n  bisection        3.99595  0:00:46.459702     46.0\n  mullerBisection  3.99442  0:00:50.551006     50.0\n  newton            4.0982  0:12:15.791265    735.0\n  halley           2.63681  0:00:09.440028      9.0\n  new_newton       4.03708  0:01:36.408547     96.0\n  new_halley       3.95727  0:00:52.466796     52.0,\n  2:                 Accuracy  Time(hh:mm:ss)  Seconds\n  bisection        3.99595  0:00:46.459702     46.0\n  mullerBisection  3.99442  0:00:50.551006     50.0\n  newton            4.0982  0:12:15.791265    735.0\n  halley           2.63681  0:00:09.440028      9.0\n  new_newton       4.03708  0:01:36.408547     96.0\n  new_halley       3.95727  0:00:52.466796     52.0},\n 1000: {0.1:                 Accuracy  Time(hh:mm:ss)  Seconds\n  bisection        3.99595  0:00:46.459702     46.0\n  mullerBisection  3.99442  0:00:50.551006     50.0\n  newton            4.0982  0:12:15.791265    735.0\n  halley           2.63681  0:00:09.440028      9.0\n  new_newton       4.03708  0:01:36.408547     96.0\n  new_halley       3.95727  0:00:52.466796     52.0,\n  0.3:                 Accuracy  Time(hh:mm:ss)  Seconds\n  bisection        3.99595  0:00:46.459702     46.0\n  mullerBisection  3.99442  0:00:50.551006     50.0\n  newton            4.0982  0:12:15.791265    735.0\n  halley           2.63681  0:00:09.440028      9.0\n  new_newton       4.03708  0:01:36.408547     96.0\n  new_halley       3.95727  0:00:52.466796     52.0,\n  0.5:                 Accuracy  Time(hh:mm:ss)  Seconds\n  bisection        3.99595  0:00:46.459702     46.0\n  mullerBisection  3.99442  0:00:50.551006     50.0\n  newton            4.0982  0:12:15.791265    735.0\n  halley           2.63681  0:00:09.440028      9.0\n  new_newton       4.03708  0:01:36.408547     96.0\n  new_halley       3.95727  0:00:52.466796     52.0,\n  0.7:                 Accuracy  Time(hh:mm:ss)  Seconds\n  bisection        3.99595  0:00:46.459702     46.0\n  mullerBisection  3.99442  0:00:50.551006     50.0\n  newton            4.0982  0:12:15.791265    735.0\n  halley           2.63681  0:00:09.440028      9.0\n  new_newton       4.03708  0:01:36.408547     96.0\n  new_halley       3.95727  0:00:52.466796     52.0,\n  1:                 Accuracy  Time(hh:mm:ss)  Seconds\n  bisection        3.99595  0:00:46.459702     46.0\n  mullerBisection  3.99442  0:00:50.551006     50.0\n  newton            4.0982  0:12:15.791265    735.0\n  halley           2.63681  0:00:09.440028      9.0\n  new_newton       4.03708  0:01:36.408547     96.0\n  new_halley       3.95727  0:00:52.466796     52.0,\n  1.3:                 Accuracy  Time(hh:mm:ss)  Seconds\n  bisection        3.99595  0:00:46.459702     46.0\n  mullerBisection  3.99442  0:00:50.551006     50.0\n  newton            4.0982  0:12:15.791265    735.0\n  halley           2.63681  0:00:09.440028      9.0\n  new_newton       4.03708  0:01:36.408547     96.0\n  new_halley       3.95727  0:00:52.466796     52.0,\n  1.5:                 Accuracy  Time(hh:mm:ss)  Seconds\n  bisection        3.99595  0:00:46.459702     46.0\n  mullerBisection  3.99442  0:00:50.551006     50.0\n  newton            4.0982  0:12:15.791265    735.0\n  halley           2.63681  0:00:09.440028      9.0\n  new_newton       4.03708  0:01:36.408547     96.0\n  new_halley       3.95727  0:00:52.466796     52.0,\n  1.7:                 Accuracy  Time(hh:mm:ss)  Seconds\n  bisection        3.99595  0:00:46.459702     46.0\n  mullerBisection  3.99442  0:00:50.551006     50.0\n  newton            4.0982  0:12:15.791265    735.0\n  halley           2.63681  0:00:09.440028      9.0\n  new_newton       4.03708  0:01:36.408547     96.0\n  new_halley       3.95727  0:00:52.466796     52.0,\n  2:                 Accuracy  Time(hh:mm:ss)  Seconds\n  bisection        3.99595  0:00:46.459702     46.0\n  mullerBisection  3.99442  0:00:50.551006     50.0\n  newton            4.0982  0:12:15.791265    735.0\n  halley           2.63681  0:00:09.440028      9.0\n  new_newton       4.03708  0:01:36.408547     96.0\n  new_halley       3.95727  0:00:52.466796     52.0}}"
      ]
     },
     "execution_count": 8,
     "metadata": {},
     "output_type": "execute_result"
    }
   ],
   "source": [
    "dicIter"
   ]
  },
  {
   "cell_type": "code",
   "execution_count": null,
   "metadata": {},
   "outputs": [],
   "source": [
    ""
   ]
  }
 ],
 "metadata": {
  "kernelspec": {
   "display_name": "Python 2",
   "language": "python",
   "name": "python2"
  },
  "language_info": {
   "codemirror_mode": {
    "name": "ipython",
    "version": 2.0
   },
   "file_extension": ".py",
   "mimetype": "text/x-python",
   "name": "python",
   "nbconvert_exporter": "python",
   "pygments_lexer": "ipython2",
   "version": "2.7.6"
  }
 },
 "nbformat": 4,
 "nbformat_minor": 0
}