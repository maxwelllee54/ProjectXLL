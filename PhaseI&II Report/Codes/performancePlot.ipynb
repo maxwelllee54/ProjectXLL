{
 "cells": [
  {
   "cell_type": "code",
   "execution_count": 2,
   "metadata": {
    "collapsed": true
   },
   "outputs": [],
   "source": [
    "from ImpliedVolatility import ImpliedVolatility                                                                                 \n",
    "import pandas as pd                                                                                                             \n",
    "import numpy as np                                                                                                              \n",
    "import datetime                                                                                                                 \n",
    "                                                                                                                                \n",
    "def performance(df, method, r = 0.05, sigma0 = 0.5, initialIter = 10):                                                                            \n",
    "    time_start = datetime.datetime.now()                                                                                        \n",
    "    dfCopy = df.copy()                                                                                                          \n",
    "                                                                                                                                \n",
    "    for i in df.index:                                                                                                          \n",
    "        impVol = ImpliedVolatility(df.ix[i, 'StockPrice'], df.ix[i, 'StrikePrice'], df.ix[i, 'T'], r, sigma0,                   \n",
    "                                   df.ix[i, 'Last'], df.ix[i, 'Type'])                                                          \n",
    "                                                                                                                                \n",
    "        if method == 'bisection':                                                                                               \n",
    "            dfCopy.ix[i, method] = impVol.bsmBisectionVol()                                                                     \n",
    "                                                                                                                                \n",
    "        elif method == 'newton':                                                                                                \n",
    "            dfCopy.ix[i, method] = impVol.bsmNewtonVol()                                                                        \n",
    "                                                                                                                                \n",
    "        elif method == 'mullerBisection':                                                                                       \n",
    "            dfCopy.ix[i, method] = impVol.bsmMullerBisectionVol()                                                               \n",
    "                                                                                                                                \n",
    "        elif method == 'halley':                                                                                                \n",
    "            dfCopy.ix[i, method] = impVol.bsmHalley()                                                                           \n",
    "                                                                                                                                \n",
    "        elif method == 'new_newton':                                                                                            \n",
    "            impVol.bsmMullerBisectionInitial(initialIter=initialIter)                                                                                  \n",
    "            dfCopy.ix[i, method] = impVol.bsmNewtonVol()                                                                        \n",
    "                                                                                                                                \n",
    "        elif method == 'new_halley':                                                                                            \n",
    "            impVol.bsmMullerBisectionInitial(initialIter=initialIter)                                                                                  \n",
    "            dfCopy.ix[i, method] = impVol.bsmHalley()     \n",
    "        \n",
    "        elif method == 'brentq':    \n",
    "            dfCopy.ix[i, method] = impVol.bsmBrentq()\n",
    "        \n",
    "        elif method == 'brenth':   \n",
    "            dfCopy.ix[i, method] = impVol.bsmBrenth()\n",
    "        \n",
    "        elif method == 'ridder':  \n",
    "            dfCopy.ix[i, method] = impVol.bsmRidder()\n",
    "        \n",
    "        elif method == 'scipy_newton': \n",
    "            dfCopy.ix[i, method] = impVol.bsmScipyNewton()                                                                                                                                \n",
    "    \n",
    "    \n",
    "    dfCopy.loc[:, 'Difference'] = -np.log(np.fabs(dfCopy.IV - dfCopy.ix[:, method]))                        \n",
    "                                                                                                                                \n",
    "    accuracy = dfCopy.Difference.mean()                                                                                         \n",
    "    duration = datetime.datetime.now() - time_start\n",
    "                                                                                                                                \n",
    "    return accuracy, datetime.time(hour=0, minute=0, second=duration.seconds, microsecond=duration.microseconds).strftime(\"%M:%S.%f\")[:-3]"
   ]
  },
  {
   "cell_type": "code",
   "execution_count": 3,
   "metadata": {
    "collapsed": true
   },
   "outputs": [
    {
     "name": "stderr",
     "output_type": "stream",
     "text": [
      "/Users/Maxwell/anaconda/lib/python3.5/site-packages/scipy/optimize/zeros.py:173: RuntimeWarning: Tolerance of -0.0021106292083 reached\n  warnings.warn(msg, RuntimeWarning)\n"
     ]
    },
    {
     "name": "stderr",
     "output_type": "stream",
     "text": [
      "/Users/Maxwell/anaconda/lib/python3.5/site-packages/scipy/optimize/zeros.py:173: RuntimeWarning: Tolerance of 4834821.20006 reached\n  warnings.warn(msg, RuntimeWarning)\n/Users/Maxwell/anaconda/lib/python3.5/site-packages/scipy/optimize/zeros.py:173: RuntimeWarning: Tolerance of 186100.226642 reached\n  warnings.warn(msg, RuntimeWarning)\n/Users/Maxwell/anaconda/lib/python3.5/site-packages/scipy/optimize/zeros.py:173: RuntimeWarning: Tolerance of 30471.9009936 reached\n  warnings.warn(msg, RuntimeWarning)\n/Users/Maxwell/anaconda/lib/python3.5/site-packages/scipy/optimize/zeros.py:173: RuntimeWarning: Tolerance of 8972692.35162 reached\n  warnings.warn(msg, RuntimeWarning)\n/Users/Maxwell/anaconda/lib/python3.5/site-packages/scipy/optimize/zeros.py:173: RuntimeWarning: Tolerance of -1896851.51349 reached\n  warnings.warn(msg, RuntimeWarning)\n"
     ]
    },
    {
     "name": "stderr",
     "output_type": "stream",
     "text": [
      "/Users/Maxwell/anaconda/lib/python3.5/site-packages/scipy/optimize/zeros.py:173: RuntimeWarning: Tolerance of -0.00332953061931 reached\n  warnings.warn(msg, RuntimeWarning)\n/Users/Maxwell/anaconda/lib/python3.5/site-packages/scipy/optimize/zeros.py:173: RuntimeWarning: Tolerance of -975.944463839 reached\n  warnings.warn(msg, RuntimeWarning)\n"
     ]
    },
    {
     "name": "stderr",
     "output_type": "stream",
     "text": [
      "/Users/Maxwell/anaconda/lib/python3.5/site-packages/scipy/optimize/zeros.py:173: RuntimeWarning: Tolerance of -816096.967203 reached\n  warnings.warn(msg, RuntimeWarning)\n/Users/Maxwell/anaconda/lib/python3.5/site-packages/scipy/optimize/zeros.py:173: RuntimeWarning: Tolerance of 214.978948571 reached\n  warnings.warn(msg, RuntimeWarning)\n/Users/Maxwell/anaconda/lib/python3.5/site-packages/scipy/optimize/zeros.py:173: RuntimeWarning: Tolerance of 6777108.04707 reached\n  warnings.warn(msg, RuntimeWarning)\n/Users/Maxwell/anaconda/lib/python3.5/site-packages/scipy/optimize/zeros.py:173: RuntimeWarning: Tolerance of 23953711.0806 reached\n  warnings.warn(msg, RuntimeWarning)\n/Users/Maxwell/anaconda/lib/python3.5/site-packages/scipy/optimize/zeros.py:173: RuntimeWarning: Tolerance of -0.00753559953767 reached\n  warnings.warn(msg, RuntimeWarning)\n/Users/Maxwell/anaconda/lib/python3.5/site-packages/scipy/optimize/zeros.py:173: RuntimeWarning: Tolerance of 150176548.982 reached\n  warnings.warn(msg, RuntimeWarning)\n/Users/Maxwell/anaconda/lib/python3.5/site-packages/scipy/optimize/zeros.py:173: RuntimeWarning: Tolerance of 73693570476.2 reached\n  warnings.warn(msg, RuntimeWarning)\n/Users/Maxwell/anaconda/lib/python3.5/site-packages/scipy/optimize/zeros.py:173: RuntimeWarning: Tolerance of 594777.592865 reached\n  warnings.warn(msg, RuntimeWarning)\n/Users/Maxwell/anaconda/lib/python3.5/site-packages/scipy/optimize/zeros.py:173: RuntimeWarning: Tolerance of -2.24467018992e-05 reached\n  warnings.warn(msg, RuntimeWarning)\n/Users/Maxwell/anaconda/lib/python3.5/site-packages/scipy/optimize/zeros.py:173: RuntimeWarning: Tolerance of 7444273422.21 reached\n  warnings.warn(msg, RuntimeWarning)\n/Users/Maxwell/anaconda/lib/python3.5/site-packages/scipy/optimize/zeros.py:173: RuntimeWarning: Tolerance of -578055999.569 reached\n  warnings.warn(msg, RuntimeWarning)\n"
     ]
    },
    {
     "name": "stderr",
     "output_type": "stream",
     "text": [
      "/Users/Maxwell/anaconda/lib/python3.5/site-packages/scipy/optimize/zeros.py:173: RuntimeWarning: Tolerance of 837.32687762 reached\n  warnings.warn(msg, RuntimeWarning)\n/Users/Maxwell/anaconda/lib/python3.5/site-packages/scipy/optimize/zeros.py:173: RuntimeWarning: Tolerance of -0.00189988674422 reached\n  warnings.warn(msg, RuntimeWarning)\n"
     ]
    },
    {
     "name": "stderr",
     "output_type": "stream",
     "text": [
      "/Users/Maxwell/anaconda/lib/python3.5/site-packages/scipy/optimize/zeros.py:173: RuntimeWarning: Tolerance of 3412135.69556 reached\n  warnings.warn(msg, RuntimeWarning)\n/Users/Maxwell/anaconda/lib/python3.5/site-packages/scipy/optimize/zeros.py:173: RuntimeWarning: Tolerance of -0.00751754669395 reached\n  warnings.warn(msg, RuntimeWarning)\n/Users/Maxwell/anaconda/lib/python3.5/site-packages/scipy/optimize/zeros.py:173: RuntimeWarning: Tolerance of -0.0020715319247 reached\n  warnings.warn(msg, RuntimeWarning)\n"
     ]
    },
    {
     "name": "stderr",
     "output_type": "stream",
     "text": [
      "/Users/Maxwell/anaconda/lib/python3.5/site-packages/scipy/optimize/zeros.py:173: RuntimeWarning: Tolerance of 4180508932.21 reached\n  warnings.warn(msg, RuntimeWarning)\n/Users/Maxwell/anaconda/lib/python3.5/site-packages/scipy/optimize/zeros.py:173: RuntimeWarning: Tolerance of -0.00893525336774 reached\n  warnings.warn(msg, RuntimeWarning)\n"
     ]
    },
    {
     "name": "stderr",
     "output_type": "stream",
     "text": [
      "/Users/Maxwell/anaconda/lib/python3.5/site-packages/scipy/optimize/zeros.py:173: RuntimeWarning: Tolerance of -3826.58844013 reached\n  warnings.warn(msg, RuntimeWarning)\n/Users/Maxwell/anaconda/lib/python3.5/site-packages/scipy/optimize/zeros.py:173: RuntimeWarning: Tolerance of -0.000535756816249 reached\n  warnings.warn(msg, RuntimeWarning)\n/Users/Maxwell/anaconda/lib/python3.5/site-packages/scipy/optimize/zeros.py:173: RuntimeWarning: Tolerance of -5211338572.83 reached\n  warnings.warn(msg, RuntimeWarning)\n"
     ]
    },
    {
     "name": "stderr",
     "output_type": "stream",
     "text": [
      "/Users/Maxwell/anaconda/lib/python3.5/site-packages/scipy/optimize/zeros.py:173: RuntimeWarning: Tolerance of -0.000179087484186 reached\n  warnings.warn(msg, RuntimeWarning)\n/Users/Maxwell/anaconda/lib/python3.5/site-packages/scipy/optimize/zeros.py:173: RuntimeWarning: Tolerance of -0.000705508815798 reached\n  warnings.warn(msg, RuntimeWarning)\n/Users/Maxwell/anaconda/lib/python3.5/site-packages/scipy/optimize/zeros.py:173: RuntimeWarning: Tolerance of 849.021896213 reached\n  warnings.warn(msg, RuntimeWarning)\n/Users/Maxwell/anaconda/lib/python3.5/site-packages/scipy/optimize/zeros.py:173: RuntimeWarning: Tolerance of -0.00876186237435 reached\n  warnings.warn(msg, RuntimeWarning)\n/Users/Maxwell/anaconda/lib/python3.5/site-packages/scipy/optimize/zeros.py:173: RuntimeWarning: Tolerance of 89606367.3 reached\n  warnings.warn(msg, RuntimeWarning)\n/Users/Maxwell/anaconda/lib/python3.5/site-packages/scipy/optimize/zeros.py:173: RuntimeWarning: Tolerance of -0.02205268116 reached\n  warnings.warn(msg, RuntimeWarning)\n/Users/Maxwell/anaconda/lib/python3.5/site-packages/scipy/optimize/zeros.py:173: RuntimeWarning: Tolerance of -0.00145751857788 reached\n  warnings.warn(msg, RuntimeWarning)\n"
     ]
    },
    {
     "name": "stderr",
     "output_type": "stream",
     "text": [
      "/Users/Maxwell/anaconda/lib/python3.5/site-packages/scipy/optimize/zeros.py:173: RuntimeWarning: Tolerance of 4700.68407643 reached\n  warnings.warn(msg, RuntimeWarning)\n/Users/Maxwell/anaconda/lib/python3.5/site-packages/scipy/optimize/zeros.py:173: RuntimeWarning: Tolerance of -0.000405816461249 reached\n  warnings.warn(msg, RuntimeWarning)\n"
     ]
    },
    {
     "name": "stderr",
     "output_type": "stream",
     "text": [
      "/Users/Maxwell/anaconda/lib/python3.5/site-packages/scipy/optimize/zeros.py:173: RuntimeWarning: Tolerance of 38953.3908495 reached\n  warnings.warn(msg, RuntimeWarning)\n/Users/Maxwell/anaconda/lib/python3.5/site-packages/scipy/optimize/zeros.py:173: RuntimeWarning: Tolerance of -0.00175647602925 reached\n  warnings.warn(msg, RuntimeWarning)\n"
     ]
    },
    {
     "name": "stdout",
     "output_type": "stream",
     "text": [
      "This is the test result for initial point sigma 0.30, initial iteration 10 times:\n                Accuracy Time(hh:mm:ss)\nbrentq           4.30646      00:05.218\nbrenth           4.30646      00:05.179\nridder           4.30646      00:07.503\nscipy_newton     4.14998      00:02.838\nbisection        4.23352      00:22.817\nmullerBisection  4.23223      00:23.939\nnewton           4.07488      00:03.595\nhalley           4.22647      00:01.975\nnew_newton       4.17319      00:23.002\nnew_halley       4.24043      00:23.471\n\n\n"
     ]
    },
    {
     "name": "stderr",
     "output_type": "stream",
     "text": [
      "/Users/Maxwell/anaconda/lib/python3.5/site-packages/scipy/optimize/zeros.py:173: RuntimeWarning: Tolerance of 15043.8384811 reached\n  warnings.warn(msg, RuntimeWarning)\n/Users/Maxwell/anaconda/lib/python3.5/site-packages/scipy/optimize/zeros.py:173: RuntimeWarning: Tolerance of -8.78325982217e-06 reached\n  warnings.warn(msg, RuntimeWarning)\n"
     ]
    },
    {
     "name": "stderr",
     "output_type": "stream",
     "text": [
      "/Users/Maxwell/anaconda/lib/python3.5/site-packages/scipy/optimize/zeros.py:173: RuntimeWarning: Tolerance of 1033715.52342 reached\n  warnings.warn(msg, RuntimeWarning)\n/Users/Maxwell/anaconda/lib/python3.5/site-packages/scipy/optimize/zeros.py:173: RuntimeWarning: Tolerance of -0.00268544053288 reached\n  warnings.warn(msg, RuntimeWarning)\n/Users/Maxwell/anaconda/lib/python3.5/site-packages/scipy/optimize/zeros.py:173: RuntimeWarning: Tolerance of -0.0208351200224 reached\n  warnings.warn(msg, RuntimeWarning)\n/Users/Maxwell/anaconda/lib/python3.5/site-packages/scipy/optimize/zeros.py:173: RuntimeWarning: Tolerance of -0.00275563653178 reached\n  warnings.warn(msg, RuntimeWarning)\n/Users/Maxwell/anaconda/lib/python3.5/site-packages/scipy/optimize/zeros.py:173: RuntimeWarning: Tolerance of -0.00223129576011 reached\n  warnings.warn(msg, RuntimeWarning)\n"
     ]
    },
    {
     "name": "stderr",
     "output_type": "stream",
     "text": [
      "/Users/Maxwell/anaconda/lib/python3.5/site-packages/scipy/optimize/zeros.py:173: RuntimeWarning: Tolerance of 4114267385.28 reached\n  warnings.warn(msg, RuntimeWarning)\n"
     ]
    },
    {
     "name": "stderr",
     "output_type": "stream",
     "text": [
      "/Users/Maxwell/anaconda/lib/python3.5/site-packages/scipy/optimize/zeros.py:173: RuntimeWarning: Tolerance of 11310548238.9 reached\n  warnings.warn(msg, RuntimeWarning)\n/Users/Maxwell/anaconda/lib/python3.5/site-packages/scipy/optimize/zeros.py:173: RuntimeWarning: Tolerance of 3628540284.67 reached\n  warnings.warn(msg, RuntimeWarning)\n/Users/Maxwell/anaconda/lib/python3.5/site-packages/scipy/optimize/zeros.py:173: RuntimeWarning: Tolerance of 270.084656506 reached\n  warnings.warn(msg, RuntimeWarning)\n/Users/Maxwell/anaconda/lib/python3.5/site-packages/scipy/optimize/zeros.py:173: RuntimeWarning: Tolerance of -49679765170.8 reached\n  warnings.warn(msg, RuntimeWarning)\n/Users/Maxwell/anaconda/lib/python3.5/site-packages/scipy/optimize/zeros.py:173: RuntimeWarning: Tolerance of -0.00746502637511 reached\n  warnings.warn(msg, RuntimeWarning)\n/Users/Maxwell/anaconda/lib/python3.5/site-packages/scipy/optimize/zeros.py:173: RuntimeWarning: Tolerance of 68246.8210848 reached\n  warnings.warn(msg, RuntimeWarning)\n/Users/Maxwell/anaconda/lib/python3.5/site-packages/scipy/optimize/zeros.py:173: RuntimeWarning: Tolerance of 3959771826.77 reached\n  warnings.warn(msg, RuntimeWarning)\n/Users/Maxwell/anaconda/lib/python3.5/site-packages/scipy/optimize/zeros.py:173: RuntimeWarning: Tolerance of 42989110552.0 reached\n  warnings.warn(msg, RuntimeWarning)\n/Users/Maxwell/anaconda/lib/python3.5/site-packages/scipy/optimize/zeros.py:173: RuntimeWarning: Tolerance of -0.00938438357576 reached\n  warnings.warn(msg, RuntimeWarning)\n/Users/Maxwell/anaconda/lib/python3.5/site-packages/scipy/optimize/zeros.py:173: RuntimeWarning: Tolerance of 331455444841.0 reached\n  warnings.warn(msg, RuntimeWarning)\n/Users/Maxwell/anaconda/lib/python3.5/site-packages/scipy/optimize/zeros.py:173: RuntimeWarning: Tolerance of 21013150.655 reached\n  warnings.warn(msg, RuntimeWarning)\n"
     ]
    },
    {
     "name": "stderr",
     "output_type": "stream",
     "text": [
      "/Users/Maxwell/anaconda/lib/python3.5/site-packages/scipy/optimize/zeros.py:173: RuntimeWarning: Tolerance of -24.142184356 reached\n  warnings.warn(msg, RuntimeWarning)\n"
     ]
    },
    {
     "name": "stderr",
     "output_type": "stream",
     "text": [
      "/Users/Maxwell/anaconda/lib/python3.5/site-packages/scipy/optimize/zeros.py:173: RuntimeWarning: Tolerance of -0.00202309679337 reached\n  warnings.warn(msg, RuntimeWarning)\n/Users/Maxwell/anaconda/lib/python3.5/site-packages/scipy/optimize/zeros.py:173: RuntimeWarning: Tolerance of -0.00711104531125 reached\n  warnings.warn(msg, RuntimeWarning)\n/Users/Maxwell/anaconda/lib/python3.5/site-packages/scipy/optimize/zeros.py:173: RuntimeWarning: Tolerance of 86938239.0001 reached\n  warnings.warn(msg, RuntimeWarning)\n/Users/Maxwell/anaconda/lib/python3.5/site-packages/scipy/optimize/zeros.py:173: RuntimeWarning: Tolerance of 5421954357.71 reached\n  warnings.warn(msg, RuntimeWarning)\n"
     ]
    },
    {
     "name": "stderr",
     "output_type": "stream",
     "text": [
      "/Users/Maxwell/anaconda/lib/python3.5/site-packages/scipy/optimize/zeros.py:173: RuntimeWarning: Tolerance of -0.00753228669711 reached\n  warnings.warn(msg, RuntimeWarning)\n/Users/Maxwell/anaconda/lib/python3.5/site-packages/scipy/optimize/zeros.py:173: RuntimeWarning: Tolerance of 46205090454.1 reached\n  warnings.warn(msg, RuntimeWarning)\n"
     ]
    },
    {
     "name": "stderr",
     "output_type": "stream",
     "text": [
      "/Users/Maxwell/anaconda/lib/python3.5/site-packages/scipy/optimize/zeros.py:173: RuntimeWarning: Tolerance of -0.00127470323177 reached\n  warnings.warn(msg, RuntimeWarning)\n/Users/Maxwell/anaconda/lib/python3.5/site-packages/scipy/optimize/zeros.py:173: RuntimeWarning: Tolerance of -0.00254041047777 reached\n  warnings.warn(msg, RuntimeWarning)\n/Users/Maxwell/anaconda/lib/python3.5/site-packages/scipy/optimize/zeros.py:173: RuntimeWarning: Tolerance of 3931729.1344 reached\n  warnings.warn(msg, RuntimeWarning)\n"
     ]
    },
    {
     "name": "stderr",
     "output_type": "stream",
     "text": [
      "/Users/Maxwell/anaconda/lib/python3.5/site-packages/scipy/optimize/zeros.py:173: RuntimeWarning: Tolerance of 4458303.43782 reached\n  warnings.warn(msg, RuntimeWarning)\n"
     ]
    },
    {
     "name": "stderr",
     "output_type": "stream",
     "text": [
      "/Users/Maxwell/anaconda/lib/python3.5/site-packages/scipy/optimize/zeros.py:173: RuntimeWarning: Tolerance of -0.0010870837415 reached\n  warnings.warn(msg, RuntimeWarning)\n/Users/Maxwell/anaconda/lib/python3.5/site-packages/scipy/optimize/zeros.py:173: RuntimeWarning: Tolerance of -0.00632166552186 reached\n  warnings.warn(msg, RuntimeWarning)\n/Users/Maxwell/anaconda/lib/python3.5/site-packages/scipy/optimize/zeros.py:173: RuntimeWarning: Tolerance of 326214062.693 reached\n  warnings.warn(msg, RuntimeWarning)\n/Users/Maxwell/anaconda/lib/python3.5/site-packages/scipy/optimize/zeros.py:173: RuntimeWarning: Tolerance of -825.488457018 reached\n  warnings.warn(msg, RuntimeWarning)\n/Users/Maxwell/anaconda/lib/python3.5/site-packages/scipy/optimize/zeros.py:173: RuntimeWarning: Tolerance of -0.000608010431399 reached\n  warnings.warn(msg, RuntimeWarning)\n/Users/Maxwell/anaconda/lib/python3.5/site-packages/scipy/optimize/zeros.py:173: RuntimeWarning: Tolerance of -2.63222694914e+13 reached\n  warnings.warn(msg, RuntimeWarning)\n/Users/Maxwell/anaconda/lib/python3.5/site-packages/scipy/optimize/zeros.py:173: RuntimeWarning: Tolerance of -0.00189289120861 reached\n  warnings.warn(msg, RuntimeWarning)\n"
     ]
    },
    {
     "name": "stderr",
     "output_type": "stream",
     "text": [
      "/Users/Maxwell/anaconda/lib/python3.5/site-packages/scipy/optimize/zeros.py:173: RuntimeWarning: Tolerance of -29.3154703893 reached\n  warnings.warn(msg, RuntimeWarning)\n/Users/Maxwell/anaconda/lib/python3.5/site-packages/scipy/optimize/zeros.py:173: RuntimeWarning: Tolerance of 33118395.1684 reached\n  warnings.warn(msg, RuntimeWarning)\n"
     ]
    },
    {
     "name": "stderr",
     "output_type": "stream",
     "text": [
      "/Users/Maxwell/anaconda/lib/python3.5/site-packages/scipy/optimize/zeros.py:173: RuntimeWarning: Tolerance of 4214649.48987 reached\n  warnings.warn(msg, RuntimeWarning)\n/Users/Maxwell/anaconda/lib/python3.5/site-packages/scipy/optimize/zeros.py:173: RuntimeWarning: Tolerance of 13804607835.3 reached\n  warnings.warn(msg, RuntimeWarning)\n"
     ]
    },
    {
     "name": "stdout",
     "output_type": "stream",
     "text": [
      "This is the test result for initial point sigma 0.50, initial iteration 10 times:\n                Accuracy Time(hh:mm:ss)\nbrentq           4.30646      00:05.142\nbrenth           4.30646      00:04.950\nridder           4.30646      00:06.867\nscipy_newton     4.11276      00:02.898\nbisection        4.23352      00:22.449\nmullerBisection  4.23223      00:23.900\nnewton           4.11989      00:05.823\nhalley           3.93286      00:01.989\nnew_newton       4.17319      00:23.018\nnew_halley       4.24043      00:23.730\n\n\n"
     ]
    },
    {
     "name": "stderr",
     "output_type": "stream",
     "text": [
      "/Users/Maxwell/anaconda/lib/python3.5/site-packages/scipy/optimize/zeros.py:173: RuntimeWarning: Tolerance of -382.389525425 reached\n  warnings.warn(msg, RuntimeWarning)\n/Users/Maxwell/anaconda/lib/python3.5/site-packages/scipy/optimize/zeros.py:173: RuntimeWarning: Tolerance of -0.00152581934372 reached\n  warnings.warn(msg, RuntimeWarning)\n"
     ]
    },
    {
     "name": "stderr",
     "output_type": "stream",
     "text": [
      "/Users/Maxwell/anaconda/lib/python3.5/site-packages/scipy/optimize/zeros.py:173: RuntimeWarning: Tolerance of -6136761.33464 reached\n  warnings.warn(msg, RuntimeWarning)\n/Users/Maxwell/anaconda/lib/python3.5/site-packages/scipy/optimize/zeros.py:173: RuntimeWarning: Tolerance of -3.13025982498e-05 reached\n  warnings.warn(msg, RuntimeWarning)\n/Users/Maxwell/anaconda/lib/python3.5/site-packages/scipy/optimize/zeros.py:173: RuntimeWarning: Tolerance of -0.00927964191539 reached\n  warnings.warn(msg, RuntimeWarning)\n/Users/Maxwell/anaconda/lib/python3.5/site-packages/scipy/optimize/zeros.py:173: RuntimeWarning: Tolerance of -0.00251498453844 reached\n  warnings.warn(msg, RuntimeWarning)\n/Users/Maxwell/anaconda/lib/python3.5/site-packages/scipy/optimize/zeros.py:173: RuntimeWarning: Tolerance of 186024.521259 reached\n  warnings.warn(msg, RuntimeWarning)\n"
     ]
    },
    {
     "name": "stderr",
     "output_type": "stream",
     "text": [
      "/Users/Maxwell/anaconda/lib/python3.5/site-packages/scipy/optimize/zeros.py:173: RuntimeWarning: Tolerance of -7447.57137102 reached\n  warnings.warn(msg, RuntimeWarning)\n"
     ]
    },
    {
     "name": "stderr",
     "output_type": "stream",
     "text": [
      "/Users/Maxwell/anaconda/lib/python3.5/site-packages/scipy/optimize/zeros.py:173: RuntimeWarning: Tolerance of -2.32310937063e-06 reached\n  warnings.warn(msg, RuntimeWarning)\n/Users/Maxwell/anaconda/lib/python3.5/site-packages/scipy/optimize/zeros.py:173: RuntimeWarning: Tolerance of -100.337433189 reached\n  warnings.warn(msg, RuntimeWarning)\n/Users/Maxwell/anaconda/lib/python3.5/site-packages/scipy/optimize/zeros.py:173: RuntimeWarning: Tolerance of -0.00765624213372 reached\n  warnings.warn(msg, RuntimeWarning)\n/Users/Maxwell/anaconda/lib/python3.5/site-packages/scipy/optimize/zeros.py:173: RuntimeWarning: Tolerance of -0.000106972020724 reached\n  warnings.warn(msg, RuntimeWarning)\n/Users/Maxwell/anaconda/lib/python3.5/site-packages/scipy/optimize/zeros.py:173: RuntimeWarning: Tolerance of 359171.979179 reached\n  warnings.warn(msg, RuntimeWarning)\n/Users/Maxwell/anaconda/lib/python3.5/site-packages/scipy/optimize/zeros.py:173: RuntimeWarning: Tolerance of 286005.457133 reached\n  warnings.warn(msg, RuntimeWarning)\n/Users/Maxwell/anaconda/lib/python3.5/site-packages/scipy/optimize/zeros.py:173: RuntimeWarning: Tolerance of -0.000361374125148 reached\n  warnings.warn(msg, RuntimeWarning)\n/Users/Maxwell/anaconda/lib/python3.5/site-packages/scipy/optimize/zeros.py:173: RuntimeWarning: Tolerance of -0.000327180528215 reached\n  warnings.warn(msg, RuntimeWarning)\n/Users/Maxwell/anaconda/lib/python3.5/site-packages/scipy/optimize/zeros.py:173: RuntimeWarning: Tolerance of 4112537.57426 reached\n  warnings.warn(msg, RuntimeWarning)\n/Users/Maxwell/anaconda/lib/python3.5/site-packages/scipy/optimize/zeros.py:173: RuntimeWarning: Tolerance of -355.861938608 reached\n  warnings.warn(msg, RuntimeWarning)\n"
     ]
    },
    {
     "name": "stderr",
     "output_type": "stream",
     "text": [
      "/Users/Maxwell/anaconda/lib/python3.5/site-packages/scipy/optimize/zeros.py:173: RuntimeWarning: Tolerance of -3.82742520832e+13 reached\n  warnings.warn(msg, RuntimeWarning)\n"
     ]
    },
    {
     "name": "stderr",
     "output_type": "stream",
     "text": [
      "/Users/Maxwell/anaconda/lib/python3.5/site-packages/scipy/optimize/zeros.py:173: RuntimeWarning: Tolerance of -0.0028158251272 reached\n  warnings.warn(msg, RuntimeWarning)\n/Users/Maxwell/anaconda/lib/python3.5/site-packages/scipy/optimize/zeros.py:173: RuntimeWarning: Tolerance of -3.92152329385e-05 reached\n  warnings.warn(msg, RuntimeWarning)\n/Users/Maxwell/anaconda/lib/python3.5/site-packages/scipy/optimize/zeros.py:173: RuntimeWarning: Tolerance of 6098927.89509 reached\n  warnings.warn(msg, RuntimeWarning)\n"
     ]
    },
    {
     "name": "stderr",
     "output_type": "stream",
     "text": [
      "/Users/Maxwell/anaconda/lib/python3.5/site-packages/scipy/optimize/zeros.py:173: RuntimeWarning: Tolerance of -0.00635557743559 reached\n  warnings.warn(msg, RuntimeWarning)\n/Users/Maxwell/anaconda/lib/python3.5/site-packages/scipy/optimize/zeros.py:173: RuntimeWarning: Tolerance of 8045070.49444 reached\n  warnings.warn(msg, RuntimeWarning)\n"
     ]
    },
    {
     "name": "stderr",
     "output_type": "stream",
     "text": [
      "/Users/Maxwell/anaconda/lib/python3.5/site-packages/scipy/optimize/zeros.py:173: RuntimeWarning: Tolerance of 137689468.996 reached\n  warnings.warn(msg, RuntimeWarning)\n/Users/Maxwell/anaconda/lib/python3.5/site-packages/scipy/optimize/zeros.py:173: RuntimeWarning: Tolerance of 129992220.654 reached\n  warnings.warn(msg, RuntimeWarning)\n"
     ]
    },
    {
     "name": "stderr",
     "output_type": "stream",
     "text": [
      "/Users/Maxwell/anaconda/lib/python3.5/site-packages/scipy/optimize/zeros.py:173: RuntimeWarning: Tolerance of -2.90194343394e+20 reached\n  warnings.warn(msg, RuntimeWarning)\n/Users/Maxwell/anaconda/lib/python3.5/site-packages/scipy/optimize/zeros.py:173: RuntimeWarning: Tolerance of 10496700.4482 reached\n  warnings.warn(msg, RuntimeWarning)\n"
     ]
    },
    {
     "name": "stderr",
     "output_type": "stream",
     "text": [
      "/Users/Maxwell/anaconda/lib/python3.5/site-packages/scipy/optimize/zeros.py:173: RuntimeWarning: Tolerance of 2424054853.21 reached\n  warnings.warn(msg, RuntimeWarning)\n/Users/Maxwell/anaconda/lib/python3.5/site-packages/scipy/optimize/zeros.py:173: RuntimeWarning: Tolerance of -15333.5067243 reached\n  warnings.warn(msg, RuntimeWarning)\n/Users/Maxwell/anaconda/lib/python3.5/site-packages/scipy/optimize/zeros.py:173: RuntimeWarning: Tolerance of -0.00957568177593 reached\n  warnings.warn(msg, RuntimeWarning)\n/Users/Maxwell/anaconda/lib/python3.5/site-packages/scipy/optimize/zeros.py:173: RuntimeWarning: Tolerance of -0.00067489540598 reached\n  warnings.warn(msg, RuntimeWarning)\n/Users/Maxwell/anaconda/lib/python3.5/site-packages/scipy/optimize/zeros.py:173: RuntimeWarning: Tolerance of 43101986873.9 reached\n  warnings.warn(msg, RuntimeWarning)\n/Users/Maxwell/anaconda/lib/python3.5/site-packages/scipy/optimize/zeros.py:173: RuntimeWarning: Tolerance of -0.00225417798927 reached\n  warnings.warn(msg, RuntimeWarning)\n/Users/Maxwell/anaconda/lib/python3.5/site-packages/scipy/optimize/zeros.py:173: RuntimeWarning: Tolerance of 2234908.33974 reached\n  warnings.warn(msg, RuntimeWarning)\n"
     ]
    },
    {
     "name": "stderr",
     "output_type": "stream",
     "text": [
      "/Users/Maxwell/anaconda/lib/python3.5/site-packages/scipy/optimize/zeros.py:173: RuntimeWarning: Tolerance of 1728058524.82 reached\n  warnings.warn(msg, RuntimeWarning)\n/Users/Maxwell/anaconda/lib/python3.5/site-packages/scipy/optimize/zeros.py:173: RuntimeWarning: Tolerance of -7572500.23242 reached\n  warnings.warn(msg, RuntimeWarning)\n"
     ]
    },
    {
     "name": "stderr",
     "output_type": "stream",
     "text": [
      "/Users/Maxwell/anaconda/lib/python3.5/site-packages/scipy/optimize/zeros.py:173: RuntimeWarning: Tolerance of 249811.802901 reached\n  warnings.warn(msg, RuntimeWarning)\n/Users/Maxwell/anaconda/lib/python3.5/site-packages/scipy/optimize/zeros.py:173: RuntimeWarning: Tolerance of 24997991842.1 reached\n  warnings.warn(msg, RuntimeWarning)\n"
     ]
    },
    {
     "name": "stdout",
     "output_type": "stream",
     "text": [
      "This is the test result for initial point sigma 0.70, initial iteration 10 times:\n                Accuracy Time(hh:mm:ss)\nbrentq           4.30646      00:04.982\nbrenth           4.30646      00:05.006\nridder           4.30646      00:06.929\nscipy_newton     4.12553      00:03.000\nbisection        4.23352      00:22.793\nmullerBisection  4.23223      00:24.092\nnewton           4.19757      00:03.621\nhalley            3.7735      00:01.992\nnew_newton       4.17319      00:22.615\nnew_halley       4.24043      00:23.271\n\n\n"
     ]
    },
    {
     "name": "stderr",
     "output_type": "stream",
     "text": [
      "/Users/Maxwell/anaconda/lib/python3.5/site-packages/scipy/optimize/zeros.py:173: RuntimeWarning: Tolerance of 30206.817939 reached\n  warnings.warn(msg, RuntimeWarning)\n"
     ]
    },
    {
     "name": "stderr",
     "output_type": "stream",
     "text": [
      "/Users/Maxwell/anaconda/lib/python3.5/site-packages/scipy/optimize/zeros.py:173: RuntimeWarning: Tolerance of -0.00140365416065 reached\n  warnings.warn(msg, RuntimeWarning)\n/Users/Maxwell/anaconda/lib/python3.5/site-packages/scipy/optimize/zeros.py:173: RuntimeWarning: Tolerance of 99589.5899029 reached\n  warnings.warn(msg, RuntimeWarning)\n/Users/Maxwell/anaconda/lib/python3.5/site-packages/scipy/optimize/zeros.py:173: RuntimeWarning: Tolerance of -110672.651969 reached\n  warnings.warn(msg, RuntimeWarning)\n/Users/Maxwell/anaconda/lib/python3.5/site-packages/scipy/optimize/zeros.py:173: RuntimeWarning: Tolerance of -0.0079074565165 reached\n  warnings.warn(msg, RuntimeWarning)\n/Users/Maxwell/anaconda/lib/python3.5/site-packages/scipy/optimize/zeros.py:173: RuntimeWarning: Tolerance of -0.00233761232178 reached\n  warnings.warn(msg, RuntimeWarning)\n"
     ]
    },
    {
     "name": "stderr",
     "output_type": "stream",
     "text": [
      "/Users/Maxwell/anaconda/lib/python3.5/site-packages/scipy/optimize/zeros.py:173: RuntimeWarning: Tolerance of 5346422.94494 reached\n  warnings.warn(msg, RuntimeWarning)\n/Users/Maxwell/anaconda/lib/python3.5/site-packages/scipy/optimize/zeros.py:173: RuntimeWarning: Tolerance of 406416.679361 reached\n  warnings.warn(msg, RuntimeWarning)\n"
     ]
    },
    {
     "name": "stderr",
     "output_type": "stream",
     "text": [
      "/Users/Maxwell/anaconda/lib/python3.5/site-packages/scipy/optimize/zeros.py:173: RuntimeWarning: Tolerance of -123139.257949 reached\n  warnings.warn(msg, RuntimeWarning)\n/Users/Maxwell/anaconda/lib/python3.5/site-packages/scipy/optimize/zeros.py:173: RuntimeWarning: Tolerance of -277.380683233 reached\n  warnings.warn(msg, RuntimeWarning)\n/Users/Maxwell/anaconda/lib/python3.5/site-packages/scipy/optimize/zeros.py:173: RuntimeWarning: Tolerance of -26.0951465699 reached\n  warnings.warn(msg, RuntimeWarning)\n/Users/Maxwell/anaconda/lib/python3.5/site-packages/scipy/optimize/zeros.py:173: RuntimeWarning: Tolerance of 8693324.75755 reached\n  warnings.warn(msg, RuntimeWarning)\n/Users/Maxwell/anaconda/lib/python3.5/site-packages/scipy/optimize/zeros.py:173: RuntimeWarning: Tolerance of 36915038.8821 reached\n  warnings.warn(msg, RuntimeWarning)\n/Users/Maxwell/anaconda/lib/python3.5/site-packages/scipy/optimize/zeros.py:173: RuntimeWarning: Tolerance of 263261286.288 reached\n  warnings.warn(msg, RuntimeWarning)\n/Users/Maxwell/anaconda/lib/python3.5/site-packages/scipy/optimize/zeros.py:173: RuntimeWarning: Tolerance of 15021279.0522 reached\n  warnings.warn(msg, RuntimeWarning)\n/Users/Maxwell/anaconda/lib/python3.5/site-packages/scipy/optimize/zeros.py:173: RuntimeWarning: Tolerance of -0.00486873655925 reached\n  warnings.warn(msg, RuntimeWarning)\n/Users/Maxwell/anaconda/lib/python3.5/site-packages/scipy/optimize/zeros.py:173: RuntimeWarning: Tolerance of -0.000435923609033 reached\n  warnings.warn(msg, RuntimeWarning)\n/Users/Maxwell/anaconda/lib/python3.5/site-packages/scipy/optimize/zeros.py:173: RuntimeWarning: Tolerance of -0.00029326926059 reached\n  warnings.warn(msg, RuntimeWarning)\n/Users/Maxwell/anaconda/lib/python3.5/site-packages/scipy/optimize/zeros.py:173: RuntimeWarning: Tolerance of -0.000404536763467 reached\n  warnings.warn(msg, RuntimeWarning)\n"
     ]
    },
    {
     "name": "stderr",
     "output_type": "stream",
     "text": [
      "/Users/Maxwell/anaconda/lib/python3.5/site-packages/scipy/optimize/zeros.py:173: RuntimeWarning: Tolerance of 20701.4071862 reached\n  warnings.warn(msg, RuntimeWarning)\n"
     ]
    },
    {
     "name": "stderr",
     "output_type": "stream",
     "text": [
      "/Users/Maxwell/anaconda/lib/python3.5/site-packages/scipy/optimize/zeros.py:173: RuntimeWarning: Tolerance of -0.00281073030297 reached\n  warnings.warn(msg, RuntimeWarning)\n/Users/Maxwell/anaconda/lib/python3.5/site-packages/scipy/optimize/zeros.py:173: RuntimeWarning: Tolerance of -4.4438422429e-05 reached\n  warnings.warn(msg, RuntimeWarning)\n/Users/Maxwell/anaconda/lib/python3.5/site-packages/scipy/optimize/zeros.py:173: RuntimeWarning: Tolerance of -466339.323522 reached\n  warnings.warn(msg, RuntimeWarning)\n"
     ]
    },
    {
     "name": "stderr",
     "output_type": "stream",
     "text": [
      "/Users/Maxwell/anaconda/lib/python3.5/site-packages/scipy/optimize/zeros.py:173: RuntimeWarning: Tolerance of 356201293623.0 reached\n  warnings.warn(msg, RuntimeWarning)\n/Users/Maxwell/anaconda/lib/python3.5/site-packages/scipy/optimize/zeros.py:173: RuntimeWarning: Tolerance of 5915795.75384 reached\n  warnings.warn(msg, RuntimeWarning)\n/Users/Maxwell/anaconda/lib/python3.5/site-packages/scipy/optimize/zeros.py:173: RuntimeWarning: Tolerance of -129155.088127 reached\n  warnings.warn(msg, RuntimeWarning)\n"
     ]
    },
    {
     "name": "stderr",
     "output_type": "stream",
     "text": [
      "/Users/Maxwell/anaconda/lib/python3.5/site-packages/scipy/optimize/zeros.py:173: RuntimeWarning: Tolerance of -0.000293313068513 reached\n  warnings.warn(msg, RuntimeWarning)\n/Users/Maxwell/anaconda/lib/python3.5/site-packages/scipy/optimize/zeros.py:173: RuntimeWarning: Tolerance of 0.00706832710492 reached\n  warnings.warn(msg, RuntimeWarning)\n"
     ]
    },
    {
     "name": "stderr",
     "output_type": "stream",
     "text": [
      "/Users/Maxwell/anaconda/lib/python3.5/site-packages/scipy/optimize/zeros.py:173: RuntimeWarning: Tolerance of -0.000509073860616 reached\n  warnings.warn(msg, RuntimeWarning)\n/Users/Maxwell/anaconda/lib/python3.5/site-packages/scipy/optimize/zeros.py:173: RuntimeWarning: Tolerance of -0.00611044455416 reached\n  warnings.warn(msg, RuntimeWarning)\n"
     ]
    },
    {
     "name": "stderr",
     "output_type": "stream",
     "text": [
      "/Users/Maxwell/anaconda/lib/python3.5/site-packages/scipy/optimize/zeros.py:173: RuntimeWarning: Tolerance of -0.0101302367913 reached\n  warnings.warn(msg, RuntimeWarning)\n/Users/Maxwell/anaconda/lib/python3.5/site-packages/scipy/optimize/zeros.py:173: RuntimeWarning: Tolerance of -497.191709026 reached\n  warnings.warn(msg, RuntimeWarning)\n/Users/Maxwell/anaconda/lib/python3.5/site-packages/scipy/optimize/zeros.py:173: RuntimeWarning: Tolerance of 27189045593.7 reached\n  warnings.warn(msg, RuntimeWarning)\n/Users/Maxwell/anaconda/lib/python3.5/site-packages/scipy/optimize/zeros.py:173: RuntimeWarning: Tolerance of 28234.2870879 reached\n  warnings.warn(msg, RuntimeWarning)\n/Users/Maxwell/anaconda/lib/python3.5/site-packages/scipy/optimize/zeros.py:173: RuntimeWarning: Tolerance of 19198755737.3 reached\n  warnings.warn(msg, RuntimeWarning)\n/Users/Maxwell/anaconda/lib/python3.5/site-packages/scipy/optimize/zeros.py:173: RuntimeWarning: Tolerance of 44753124618.2 reached\n  warnings.warn(msg, RuntimeWarning)\n/Users/Maxwell/anaconda/lib/python3.5/site-packages/scipy/optimize/zeros.py:173: RuntimeWarning: Tolerance of 231821943.814 reached\n  warnings.warn(msg, RuntimeWarning)\n"
     ]
    },
    {
     "name": "stderr",
     "output_type": "stream",
     "text": [
      "/Users/Maxwell/anaconda/lib/python3.5/site-packages/scipy/optimize/zeros.py:173: RuntimeWarning: Tolerance of 860367.818087 reached\n  warnings.warn(msg, RuntimeWarning)\n/Users/Maxwell/anaconda/lib/python3.5/site-packages/scipy/optimize/zeros.py:173: RuntimeWarning: Tolerance of -4907.94811941 reached\n  warnings.warn(msg, RuntimeWarning)\n"
     ]
    },
    {
     "name": "stderr",
     "output_type": "stream",
     "text": [
      "/Users/Maxwell/anaconda/lib/python3.5/site-packages/scipy/optimize/zeros.py:173: RuntimeWarning: Tolerance of -0.00141053516136 reached\n  warnings.warn(msg, RuntimeWarning)\n/Users/Maxwell/anaconda/lib/python3.5/site-packages/scipy/optimize/zeros.py:173: RuntimeWarning: Tolerance of -27146.1740144 reached\n  warnings.warn(msg, RuntimeWarning)\n"
     ]
    },
    {
     "name": "stdout",
     "output_type": "stream",
     "text": [
      "This is the test result for initial point sigma 1.00, initial iteration 10 times:\n                Accuracy Time(hh:mm:ss)\nbrentq           4.30646      00:04.837\nbrenth           4.30646      00:04.833\nridder           4.30646      00:06.711\nscipy_newton     4.13935      00:02.955\nbisection        4.23352      00:21.983\nmullerBisection  4.23223      00:23.190\nnewton           4.12668      00:03.346\nhalley           3.64457      00:01.952\nnew_newton       4.17319      00:22.343\nnew_halley       4.24043      00:23.110\n\n\n"
     ]
    },
    {
     "name": "stderr",
     "output_type": "stream",
     "text": [
      "/Users/Maxwell/anaconda/lib/python3.5/site-packages/scipy/optimize/zeros.py:173: RuntimeWarning: Tolerance of -0.00223806288895 reached\n  warnings.warn(msg, RuntimeWarning)\n"
     ]
    },
    {
     "name": "stderr",
     "output_type": "stream",
     "text": [
      "/Users/Maxwell/anaconda/lib/python3.5/site-packages/scipy/optimize/zeros.py:173: RuntimeWarning: Tolerance of -0.00139842789295 reached\n  warnings.warn(msg, RuntimeWarning)\n/Users/Maxwell/anaconda/lib/python3.5/site-packages/scipy/optimize/zeros.py:173: RuntimeWarning: Tolerance of -0.00588311513984 reached\n  warnings.warn(msg, RuntimeWarning)\n/Users/Maxwell/anaconda/lib/python3.5/site-packages/scipy/optimize/zeros.py:173: RuntimeWarning: Tolerance of -757.568115372 reached\n  warnings.warn(msg, RuntimeWarning)\n/Users/Maxwell/anaconda/lib/python3.5/site-packages/scipy/optimize/zeros.py:173: RuntimeWarning: Tolerance of 1970546.95176 reached\n  warnings.warn(msg, RuntimeWarning)\n/Users/Maxwell/anaconda/lib/python3.5/site-packages/scipy/optimize/zeros.py:173: RuntimeWarning: Tolerance of -0.00230081143326 reached\n  warnings.warn(msg, RuntimeWarning)\n"
     ]
    },
    {
     "name": "stderr",
     "output_type": "stream",
     "text": [
      "/Users/Maxwell/anaconda/lib/python3.5/site-packages/scipy/optimize/zeros.py:173: RuntimeWarning: Tolerance of 9710393054.55 reached\n  warnings.warn(msg, RuntimeWarning)\n/Users/Maxwell/anaconda/lib/python3.5/site-packages/scipy/optimize/zeros.py:173: RuntimeWarning: Tolerance of -0.00679811571742 reached\n  warnings.warn(msg, RuntimeWarning)\n"
     ]
    },
    {
     "name": "stderr",
     "output_type": "stream",
     "text": [
      "/Users/Maxwell/anaconda/lib/python3.5/site-packages/scipy/optimize/zeros.py:173: RuntimeWarning: Tolerance of -3481.07213298 reached\n  warnings.warn(msg, RuntimeWarning)\n/Users/Maxwell/anaconda/lib/python3.5/site-packages/scipy/optimize/zeros.py:173: RuntimeWarning: Tolerance of -207.368724175 reached\n  warnings.warn(msg, RuntimeWarning)\n/Users/Maxwell/anaconda/lib/python3.5/site-packages/scipy/optimize/zeros.py:173: RuntimeWarning: Tolerance of 426.336486637 reached\n  warnings.warn(msg, RuntimeWarning)\n/Users/Maxwell/anaconda/lib/python3.5/site-packages/scipy/optimize/zeros.py:173: RuntimeWarning: Tolerance of -18562.5079732 reached\n  warnings.warn(msg, RuntimeWarning)\n/Users/Maxwell/anaconda/lib/python3.5/site-packages/scipy/optimize/zeros.py:173: RuntimeWarning: Tolerance of -0.00678227539576 reached\n  warnings.warn(msg, RuntimeWarning)\n/Users/Maxwell/anaconda/lib/python3.5/site-packages/scipy/optimize/zeros.py:173: RuntimeWarning: Tolerance of 663814486.849 reached\n  warnings.warn(msg, RuntimeWarning)\n/Users/Maxwell/anaconda/lib/python3.5/site-packages/scipy/optimize/zeros.py:173: RuntimeWarning: Tolerance of 397130802.78 reached\n  warnings.warn(msg, RuntimeWarning)\n/Users/Maxwell/anaconda/lib/python3.5/site-packages/scipy/optimize/zeros.py:173: RuntimeWarning: Tolerance of -0.00474363257215 reached\n  warnings.warn(msg, RuntimeWarning)\n/Users/Maxwell/anaconda/lib/python3.5/site-packages/scipy/optimize/zeros.py:173: RuntimeWarning: Tolerance of -0.000438710735798 reached\n  warnings.warn(msg, RuntimeWarning)\n/Users/Maxwell/anaconda/lib/python3.5/site-packages/scipy/optimize/zeros.py:173: RuntimeWarning: Tolerance of -0.000298210277503 reached\n  warnings.warn(msg, RuntimeWarning)\n/Users/Maxwell/anaconda/lib/python3.5/site-packages/scipy/optimize/zeros.py:173: RuntimeWarning: Tolerance of -0.00605516568416 reached\n  warnings.warn(msg, RuntimeWarning)\n"
     ]
    },
    {
     "name": "stderr",
     "output_type": "stream",
     "text": [
      "/Users/Maxwell/anaconda/lib/python3.5/site-packages/scipy/optimize/zeros.py:173: RuntimeWarning: Tolerance of -2.73473584072e+13 reached\n  warnings.warn(msg, RuntimeWarning)\n"
     ]
    },
    {
     "name": "stderr",
     "output_type": "stream",
     "text": [
      "/Users/Maxwell/anaconda/lib/python3.5/site-packages/scipy/optimize/zeros.py:173: RuntimeWarning: Tolerance of -0.00219381260194 reached\n  warnings.warn(msg, RuntimeWarning)\n/Users/Maxwell/anaconda/lib/python3.5/site-packages/scipy/optimize/zeros.py:173: RuntimeWarning: Tolerance of -4.3511886288e-05 reached\n  warnings.warn(msg, RuntimeWarning)\n/Users/Maxwell/anaconda/lib/python3.5/site-packages/scipy/optimize/zeros.py:173: RuntimeWarning: Tolerance of -9.13514464928e+14 reached\n  warnings.warn(msg, RuntimeWarning)\n"
     ]
    },
    {
     "name": "stderr",
     "output_type": "stream",
     "text": [
      "/Users/Maxwell/anaconda/lib/python3.5/site-packages/scipy/optimize/zeros.py:173: RuntimeWarning: Tolerance of 12163446.5957 reached\n  warnings.warn(msg, RuntimeWarning)\n/Users/Maxwell/anaconda/lib/python3.5/site-packages/scipy/optimize/zeros.py:173: RuntimeWarning: Tolerance of 38209228369.4 reached\n  warnings.warn(msg, RuntimeWarning)\n/Users/Maxwell/anaconda/lib/python3.5/site-packages/scipy/optimize/zeros.py:173: RuntimeWarning: Tolerance of -499013843.19 reached\n  warnings.warn(msg, RuntimeWarning)\n"
     ]
    },
    {
     "name": "stderr",
     "output_type": "stream",
     "text": [
      "/Users/Maxwell/anaconda/lib/python3.5/site-packages/scipy/optimize/zeros.py:173: RuntimeWarning: Tolerance of 448415532.675 reached\n  warnings.warn(msg, RuntimeWarning)\n/Users/Maxwell/anaconda/lib/python3.5/site-packages/scipy/optimize/zeros.py:173: RuntimeWarning: Tolerance of -244.770847796 reached\n  warnings.warn(msg, RuntimeWarning)\n"
     ]
    },
    {
     "name": "stderr",
     "output_type": "stream",
     "text": [
      "/Users/Maxwell/anaconda/lib/python3.5/site-packages/scipy/optimize/zeros.py:173: RuntimeWarning: Tolerance of -41852.2839074 reached\n  warnings.warn(msg, RuntimeWarning)\n/Users/Maxwell/anaconda/lib/python3.5/site-packages/scipy/optimize/zeros.py:173: RuntimeWarning: Tolerance of -42757327708.9 reached\n  warnings.warn(msg, RuntimeWarning)\n/Users/Maxwell/anaconda/lib/python3.5/site-packages/scipy/optimize/zeros.py:173: RuntimeWarning: Tolerance of 0.00398725052048 reached\n  warnings.warn(msg, RuntimeWarning)\n"
     ]
    },
    {
     "name": "stderr",
     "output_type": "stream",
     "text": [
      "/Users/Maxwell/anaconda/lib/python3.5/site-packages/scipy/optimize/zeros.py:173: RuntimeWarning: Tolerance of 50589.0793399 reached\n  warnings.warn(msg, RuntimeWarning)\n/Users/Maxwell/anaconda/lib/python3.5/site-packages/scipy/optimize/zeros.py:173: RuntimeWarning: Tolerance of -1765.40165702 reached\n  warnings.warn(msg, RuntimeWarning)\n/Users/Maxwell/anaconda/lib/python3.5/site-packages/scipy/optimize/zeros.py:173: RuntimeWarning: Tolerance of 385726.878727 reached\n  warnings.warn(msg, RuntimeWarning)\n/Users/Maxwell/anaconda/lib/python3.5/site-packages/scipy/optimize/zeros.py:173: RuntimeWarning: Tolerance of -177.140296262 reached\n  warnings.warn(msg, RuntimeWarning)\n/Users/Maxwell/anaconda/lib/python3.5/site-packages/scipy/optimize/zeros.py:173: RuntimeWarning: Tolerance of 52753266236.8 reached\n  warnings.warn(msg, RuntimeWarning)\n/Users/Maxwell/anaconda/lib/python3.5/site-packages/scipy/optimize/zeros.py:173: RuntimeWarning: Tolerance of -21375604227.1 reached\n  warnings.warn(msg, RuntimeWarning)\n/Users/Maxwell/anaconda/lib/python3.5/site-packages/scipy/optimize/zeros.py:173: RuntimeWarning: Tolerance of -0.00157758562563 reached\n  warnings.warn(msg, RuntimeWarning)\n"
     ]
    },
    {
     "name": "stderr",
     "output_type": "stream",
     "text": [
      "/Users/Maxwell/anaconda/lib/python3.5/site-packages/scipy/optimize/zeros.py:173: RuntimeWarning: Tolerance of -0.00354550691571 reached\n  warnings.warn(msg, RuntimeWarning)\n/Users/Maxwell/anaconda/lib/python3.5/site-packages/scipy/optimize/zeros.py:173: RuntimeWarning: Tolerance of 10184488317.7 reached\n  warnings.warn(msg, RuntimeWarning)\n"
     ]
    },
    {
     "name": "stderr",
     "output_type": "stream",
     "text": [
      "/Users/Maxwell/anaconda/lib/python3.5/site-packages/scipy/optimize/zeros.py:173: RuntimeWarning: Tolerance of -0.0117091067058 reached\n  warnings.warn(msg, RuntimeWarning)\n/Users/Maxwell/anaconda/lib/python3.5/site-packages/scipy/optimize/zeros.py:173: RuntimeWarning: Tolerance of -0.002254967753 reached\n  warnings.warn(msg, RuntimeWarning)\n"
     ]
    },
    {
     "name": "stdout",
     "output_type": "stream",
     "text": [
      "This is the test result for initial point sigma 1.50, initial iteration 10 times:\n                Accuracy Time(hh:mm:ss)\nbrentq           4.30646      00:04.876\nbrenth           4.30646      00:04.820\nridder           4.30646      00:06.723\nscipy_newton     4.12278      00:03.092\nbisection        4.23352      00:22.072\nmullerBisection  4.23223      00:23.435\nnewton           4.07301      00:07.274\nhalley           3.56188      00:01.958\nnew_newton       4.17319      00:22.487\nnew_halley       4.24043      00:22.847\n\n\n"
     ]
    },
    {
     "name": "stderr",
     "output_type": "stream",
     "text": [
      "/Users/Maxwell/anaconda/lib/python3.5/site-packages/scipy/optimize/zeros.py:173: RuntimeWarning: Tolerance of -0.00578489594169 reached\n  warnings.warn(msg, RuntimeWarning)\n"
     ]
    },
    {
     "name": "stderr",
     "output_type": "stream",
     "text": [
      "/Users/Maxwell/anaconda/lib/python3.5/site-packages/scipy/optimize/zeros.py:173: RuntimeWarning: Tolerance of -0.00145182774427 reached\n  warnings.warn(msg, RuntimeWarning)\n/Users/Maxwell/anaconda/lib/python3.5/site-packages/scipy/optimize/zeros.py:173: RuntimeWarning: Tolerance of -0.000374648302569 reached\n  warnings.warn(msg, RuntimeWarning)\n/Users/Maxwell/anaconda/lib/python3.5/site-packages/scipy/optimize/zeros.py:173: RuntimeWarning: Tolerance of -0.00259964809779 reached\n  warnings.warn(msg, RuntimeWarning)\n/Users/Maxwell/anaconda/lib/python3.5/site-packages/scipy/optimize/zeros.py:173: RuntimeWarning: Tolerance of 870019.539598 reached\n  warnings.warn(msg, RuntimeWarning)\n/Users/Maxwell/anaconda/lib/python3.5/site-packages/scipy/optimize/zeros.py:173: RuntimeWarning: Tolerance of -0.00235160800279 reached\n  warnings.warn(msg, RuntimeWarning)\n"
     ]
    },
    {
     "name": "stderr",
     "output_type": "stream",
     "text": [
      "/Users/Maxwell/anaconda/lib/python3.5/site-packages/scipy/optimize/zeros.py:173: RuntimeWarning: Tolerance of -0.00475232211222 reached\n  warnings.warn(msg, RuntimeWarning)\n/Users/Maxwell/anaconda/lib/python3.5/site-packages/scipy/optimize/zeros.py:173: RuntimeWarning: Tolerance of 262695.970302 reached\n  warnings.warn(msg, RuntimeWarning)\n"
     ]
    },
    {
     "name": "stderr",
     "output_type": "stream",
     "text": [
      "/Users/Maxwell/anaconda/lib/python3.5/site-packages/scipy/optimize/zeros.py:173: RuntimeWarning: Tolerance of -0.0257743880366 reached\n  warnings.warn(msg, RuntimeWarning)\n/Users/Maxwell/anaconda/lib/python3.5/site-packages/scipy/optimize/zeros.py:173: RuntimeWarning: Tolerance of -1969.45765754 reached\n  warnings.warn(msg, RuntimeWarning)\n/Users/Maxwell/anaconda/lib/python3.5/site-packages/scipy/optimize/zeros.py:173: RuntimeWarning: Tolerance of -43.2195022154 reached\n  warnings.warn(msg, RuntimeWarning)\n/Users/Maxwell/anaconda/lib/python3.5/site-packages/scipy/optimize/zeros.py:173: RuntimeWarning: Tolerance of -8570.34792496 reached\n  warnings.warn(msg, RuntimeWarning)\n/Users/Maxwell/anaconda/lib/python3.5/site-packages/scipy/optimize/zeros.py:173: RuntimeWarning: Tolerance of -0.00683043299641 reached\n  warnings.warn(msg, RuntimeWarning)\n/Users/Maxwell/anaconda/lib/python3.5/site-packages/scipy/optimize/zeros.py:173: RuntimeWarning: Tolerance of 12737829890.3 reached\n  warnings.warn(msg, RuntimeWarning)\n/Users/Maxwell/anaconda/lib/python3.5/site-packages/scipy/optimize/zeros.py:173: RuntimeWarning: Tolerance of -0.00036746049966 reached\n  warnings.warn(msg, RuntimeWarning)\n/Users/Maxwell/anaconda/lib/python3.5/site-packages/scipy/optimize/zeros.py:173: RuntimeWarning: Tolerance of -0.00487648892873 reached\n  warnings.warn(msg, RuntimeWarning)\n/Users/Maxwell/anaconda/lib/python3.5/site-packages/scipy/optimize/zeros.py:173: RuntimeWarning: Tolerance of -0.000455026848668 reached\n  warnings.warn(msg, RuntimeWarning)\n/Users/Maxwell/anaconda/lib/python3.5/site-packages/scipy/optimize/zeros.py:173: RuntimeWarning: Tolerance of -0.000950175001836 reached\n  warnings.warn(msg, RuntimeWarning)\n/Users/Maxwell/anaconda/lib/python3.5/site-packages/scipy/optimize/zeros.py:173: RuntimeWarning: Tolerance of -488.630895299 reached\n  warnings.warn(msg, RuntimeWarning)\n/Users/Maxwell/anaconda/lib/python3.5/site-packages/scipy/optimize/zeros.py:173: RuntimeWarning: Tolerance of 619.050447712 reached\n  warnings.warn(msg, RuntimeWarning)\n"
     ]
    },
    {
     "name": "stderr",
     "output_type": "stream",
     "text": [
      "/Users/Maxwell/anaconda/lib/python3.5/site-packages/scipy/optimize/zeros.py:173: RuntimeWarning: Tolerance of 687.627366992 reached\n  warnings.warn(msg, RuntimeWarning)\n"
     ]
    },
    {
     "name": "stderr",
     "output_type": "stream",
     "text": [
      "/Users/Maxwell/anaconda/lib/python3.5/site-packages/scipy/optimize/zeros.py:173: RuntimeWarning: Tolerance of 7.23255298613e+13 reached\n  warnings.warn(msg, RuntimeWarning)\n/Users/Maxwell/anaconda/lib/python3.5/site-packages/scipy/optimize/zeros.py:173: RuntimeWarning: Tolerance of -0.000650129981909 reached\n  warnings.warn(msg, RuntimeWarning)\n/Users/Maxwell/anaconda/lib/python3.5/site-packages/scipy/optimize/zeros.py:173: RuntimeWarning: Tolerance of 2879801.44471 reached\n  warnings.warn(msg, RuntimeWarning)\n"
     ]
    },
    {
     "name": "stderr",
     "output_type": "stream",
     "text": [
      "/Users/Maxwell/anaconda/lib/python3.5/site-packages/scipy/optimize/zeros.py:173: RuntimeWarning: Tolerance of 2717301.29159 reached\n  warnings.warn(msg, RuntimeWarning)\n/Users/Maxwell/anaconda/lib/python3.5/site-packages/scipy/optimize/zeros.py:173: RuntimeWarning: Tolerance of -0.00739287699571 reached\n  warnings.warn(msg, RuntimeWarning)\n/Users/Maxwell/anaconda/lib/python3.5/site-packages/scipy/optimize/zeros.py:173: RuntimeWarning: Tolerance of -0.00176945571858 reached\n  warnings.warn(msg, RuntimeWarning)\n"
     ]
    },
    {
     "name": "stderr",
     "output_type": "stream",
     "text": [
      "/Users/Maxwell/anaconda/lib/python3.5/site-packages/scipy/optimize/zeros.py:173: RuntimeWarning: Tolerance of -181.893269429 reached\n  warnings.warn(msg, RuntimeWarning)\n/Users/Maxwell/anaconda/lib/python3.5/site-packages/scipy/optimize/zeros.py:173: RuntimeWarning: Tolerance of -0.00339261727868 reached\n  warnings.warn(msg, RuntimeWarning)\n"
     ]
    },
    {
     "name": "stderr",
     "output_type": "stream",
     "text": [
      "/Users/Maxwell/anaconda/lib/python3.5/site-packages/scipy/optimize/zeros.py:173: RuntimeWarning: Tolerance of 25420.38511 reached\n  warnings.warn(msg, RuntimeWarning)\n"
     ]
    },
    {
     "name": "stderr",
     "output_type": "stream",
     "text": [
      "/Users/Maxwell/anaconda/lib/python3.5/site-packages/scipy/optimize/zeros.py:173: RuntimeWarning: Tolerance of 62655.4212323 reached\n  warnings.warn(msg, RuntimeWarning)\n/Users/Maxwell/anaconda/lib/python3.5/site-packages/scipy/optimize/zeros.py:173: RuntimeWarning: Tolerance of -0.00588690621404 reached\n  warnings.warn(msg, RuntimeWarning)\n/Users/Maxwell/anaconda/lib/python3.5/site-packages/scipy/optimize/zeros.py:173: RuntimeWarning: Tolerance of -3.05893869404e+17 reached\n  warnings.warn(msg, RuntimeWarning)\n/Users/Maxwell/anaconda/lib/python3.5/site-packages/scipy/optimize/zeros.py:173: RuntimeWarning: Tolerance of -215.477787733 reached\n  warnings.warn(msg, RuntimeWarning)\n/Users/Maxwell/anaconda/lib/python3.5/site-packages/scipy/optimize/zeros.py:173: RuntimeWarning: Tolerance of 338209464145.0 reached\n  warnings.warn(msg, RuntimeWarning)\n/Users/Maxwell/anaconda/lib/python3.5/site-packages/scipy/optimize/zeros.py:173: RuntimeWarning: Tolerance of -469.258002546 reached\n  warnings.warn(msg, RuntimeWarning)\n/Users/Maxwell/anaconda/lib/python3.5/site-packages/scipy/optimize/zeros.py:173: RuntimeWarning: Tolerance of -0.00155573838512 reached\n  warnings.warn(msg, RuntimeWarning)\n"
     ]
    },
    {
     "name": "stderr",
     "output_type": "stream",
     "text": [
      "/Users/Maxwell/anaconda/lib/python3.5/site-packages/scipy/optimize/zeros.py:173: RuntimeWarning: Tolerance of -0.000746037880526 reached\n  warnings.warn(msg, RuntimeWarning)\n/Users/Maxwell/anaconda/lib/python3.5/site-packages/scipy/optimize/zeros.py:173: RuntimeWarning: Tolerance of -0.000366334955399 reached\n  warnings.warn(msg, RuntimeWarning)\n"
     ]
    },
    {
     "name": "stderr",
     "output_type": "stream",
     "text": [
      "/Users/Maxwell/anaconda/lib/python3.5/site-packages/scipy/optimize/zeros.py:173: RuntimeWarning: Tolerance of -1659.42334933 reached\n  warnings.warn(msg, RuntimeWarning)\n/Users/Maxwell/anaconda/lib/python3.5/site-packages/scipy/optimize/zeros.py:173: RuntimeWarning: Tolerance of 6696672.53643 reached\n  warnings.warn(msg, RuntimeWarning)\n"
     ]
    },
    {
     "name": "stdout",
     "output_type": "stream",
     "text": [
      "This is the test result for initial point sigma 1.70, initial iteration 10 times:\n                Accuracy Time(hh:mm:ss)\nbrentq           4.30646      00:04.915\nbrenth           4.30646      00:04.847\nridder           4.30646      00:06.630\nscipy_newton     4.17953      00:03.083\nbisection        4.23352      00:22.878\nmullerBisection  4.23223      00:24.489\nnewton           3.53386      00:03.067\nhalley           3.40933      00:02.018\nnew_newton       4.17319      00:23.555\nnew_halley       4.24043      00:23.779\n\n\n"
     ]
    },
    {
     "name": "stderr",
     "output_type": "stream",
     "text": [
      "/Users/Maxwell/anaconda/lib/python3.5/site-packages/scipy/optimize/zeros.py:173: RuntimeWarning: Tolerance of -4679649928.1 reached\n  warnings.warn(msg, RuntimeWarning)\n"
     ]
    },
    {
     "name": "stderr",
     "output_type": "stream",
     "text": [
      "/Users/Maxwell/anaconda/lib/python3.5/site-packages/scipy/optimize/zeros.py:173: RuntimeWarning: Tolerance of -0.00158392585457 reached\n  warnings.warn(msg, RuntimeWarning)\n/Users/Maxwell/anaconda/lib/python3.5/site-packages/scipy/optimize/zeros.py:173: RuntimeWarning: Tolerance of 61232334.1456 reached\n  warnings.warn(msg, RuntimeWarning)\n/Users/Maxwell/anaconda/lib/python3.5/site-packages/scipy/optimize/zeros.py:173: RuntimeWarning: Tolerance of 1987290288.09 reached\n  warnings.warn(msg, RuntimeWarning)\n/Users/Maxwell/anaconda/lib/python3.5/site-packages/scipy/optimize/zeros.py:173: RuntimeWarning: Tolerance of 1403714.99011 reached\n  warnings.warn(msg, RuntimeWarning)\n/Users/Maxwell/anaconda/lib/python3.5/site-packages/scipy/optimize/zeros.py:173: RuntimeWarning: Tolerance of -0.00249431612562 reached\n  warnings.warn(msg, RuntimeWarning)\n"
     ]
    },
    {
     "name": "stderr",
     "output_type": "stream",
     "text": [
      "/Users/Maxwell/anaconda/lib/python3.5/site-packages/scipy/optimize/zeros.py:173: RuntimeWarning: Tolerance of 297928.588004 reached\n  warnings.warn(msg, RuntimeWarning)\n/Users/Maxwell/anaconda/lib/python3.5/site-packages/scipy/optimize/zeros.py:173: RuntimeWarning: Tolerance of -26424024.6092 reached\n  warnings.warn(msg, RuntimeWarning)\n"
     ]
    },
    {
     "name": "stderr",
     "output_type": "stream",
     "text": [
      "/Users/Maxwell/anaconda/lib/python3.5/site-packages/scipy/optimize/zeros.py:173: RuntimeWarning: Tolerance of -11253.3680848 reached\n  warnings.warn(msg, RuntimeWarning)\n/Users/Maxwell/anaconda/lib/python3.5/site-packages/scipy/optimize/zeros.py:173: RuntimeWarning: Tolerance of 381.271727698 reached\n  warnings.warn(msg, RuntimeWarning)\n/Users/Maxwell/anaconda/lib/python3.5/site-packages/scipy/optimize/zeros.py:173: RuntimeWarning: Tolerance of -0.00695847880299 reached\n  warnings.warn(msg, RuntimeWarning)\n/Users/Maxwell/anaconda/lib/python3.5/site-packages/scipy/optimize/zeros.py:173: RuntimeWarning: Tolerance of -0.0196554690179 reached\n  warnings.warn(msg, RuntimeWarning)\n/Users/Maxwell/anaconda/lib/python3.5/site-packages/scipy/optimize/zeros.py:173: RuntimeWarning: Tolerance of -0.0196651276512 reached\n  warnings.warn(msg, RuntimeWarning)\n/Users/Maxwell/anaconda/lib/python3.5/site-packages/scipy/optimize/zeros.py:173: RuntimeWarning: Tolerance of 1773786.30088 reached\n  warnings.warn(msg, RuntimeWarning)\n/Users/Maxwell/anaconda/lib/python3.5/site-packages/scipy/optimize/zeros.py:173: RuntimeWarning: Tolerance of -24238.8351305 reached\n  warnings.warn(msg, RuntimeWarning)\n/Users/Maxwell/anaconda/lib/python3.5/site-packages/scipy/optimize/zeros.py:173: RuntimeWarning: Tolerance of 11367543475.9 reached\n  warnings.warn(msg, RuntimeWarning)\n/Users/Maxwell/anaconda/lib/python3.5/site-packages/scipy/optimize/zeros.py:173: RuntimeWarning: Tolerance of 6366060.17151 reached\n  warnings.warn(msg, RuntimeWarning)\n/Users/Maxwell/anaconda/lib/python3.5/site-packages/scipy/optimize/zeros.py:173: RuntimeWarning: Tolerance of -0.00656634066978 reached\n  warnings.warn(msg, RuntimeWarning)\n"
     ]
    },
    {
     "name": "stderr",
     "output_type": "stream",
     "text": [
      "/Users/Maxwell/anaconda/lib/python3.5/site-packages/scipy/optimize/zeros.py:173: RuntimeWarning: Tolerance of -60.760941458 reached\n  warnings.warn(msg, RuntimeWarning)\n"
     ]
    },
    {
     "name": "stderr",
     "output_type": "stream",
     "text": [
      "/Users/Maxwell/anaconda/lib/python3.5/site-packages/scipy/optimize/zeros.py:173: RuntimeWarning: Tolerance of -0.0209259759761 reached\n  warnings.warn(msg, RuntimeWarning)\n/Users/Maxwell/anaconda/lib/python3.5/site-packages/scipy/optimize/zeros.py:173: RuntimeWarning: Tolerance of -0.00607654409112 reached\n  warnings.warn(msg, RuntimeWarning)\n/Users/Maxwell/anaconda/lib/python3.5/site-packages/scipy/optimize/zeros.py:173: RuntimeWarning: Tolerance of 169558600.818 reached\n  warnings.warn(msg, RuntimeWarning)\n"
     ]
    },
    {
     "name": "stderr",
     "output_type": "stream",
     "text": [
      "/Users/Maxwell/anaconda/lib/python3.5/site-packages/scipy/optimize/zeros.py:173: RuntimeWarning: Tolerance of -800313364.734 reached\n  warnings.warn(msg, RuntimeWarning)\n/Users/Maxwell/anaconda/lib/python3.5/site-packages/scipy/optimize/zeros.py:173: RuntimeWarning: Tolerance of 339318822.888 reached\n  warnings.warn(msg, RuntimeWarning)\n/Users/Maxwell/anaconda/lib/python3.5/site-packages/scipy/optimize/zeros.py:173: RuntimeWarning: Tolerance of -10082.8784932 reached\n  warnings.warn(msg, RuntimeWarning)\n"
     ]
    },
    {
     "name": "stderr",
     "output_type": "stream",
     "text": [
      "/Users/Maxwell/anaconda/lib/python3.5/site-packages/scipy/optimize/zeros.py:173: RuntimeWarning: Tolerance of 16964777530.5 reached\n  warnings.warn(msg, RuntimeWarning)\n/Users/Maxwell/anaconda/lib/python3.5/site-packages/scipy/optimize/zeros.py:173: RuntimeWarning: Tolerance of -0.000590170418741 reached\n  warnings.warn(msg, RuntimeWarning)\n"
     ]
    },
    {
     "name": "stderr",
     "output_type": "stream",
     "text": [
      "/Users/Maxwell/anaconda/lib/python3.5/site-packages/scipy/optimize/zeros.py:173: RuntimeWarning: Tolerance of -265050453736.0 reached\n  warnings.warn(msg, RuntimeWarning)\n/Users/Maxwell/anaconda/lib/python3.5/site-packages/scipy/optimize/zeros.py:173: RuntimeWarning: Tolerance of -1356.85594484 reached\n  warnings.warn(msg, RuntimeWarning)\n"
     ]
    },
    {
     "name": "stderr",
     "output_type": "stream",
     "text": [
      "/Users/Maxwell/anaconda/lib/python3.5/site-packages/scipy/optimize/zeros.py:173: RuntimeWarning: Tolerance of -0.000754670167486 reached\n  warnings.warn(msg, RuntimeWarning)\n/Users/Maxwell/anaconda/lib/python3.5/site-packages/scipy/optimize/zeros.py:173: RuntimeWarning: Tolerance of 278438501.8 reached\n  warnings.warn(msg, RuntimeWarning)\n/Users/Maxwell/anaconda/lib/python3.5/site-packages/scipy/optimize/zeros.py:173: RuntimeWarning: Tolerance of 185328.133761 reached\n  warnings.warn(msg, RuntimeWarning)\n/Users/Maxwell/anaconda/lib/python3.5/site-packages/scipy/optimize/zeros.py:173: RuntimeWarning: Tolerance of -0.000722280421811 reached\n  warnings.warn(msg, RuntimeWarning)\n/Users/Maxwell/anaconda/lib/python3.5/site-packages/scipy/optimize/zeros.py:173: RuntimeWarning: Tolerance of -0.00107462421423 reached\n  warnings.warn(msg, RuntimeWarning)\n/Users/Maxwell/anaconda/lib/python3.5/site-packages/scipy/optimize/zeros.py:173: RuntimeWarning: Tolerance of -1130916200.61 reached\n  warnings.warn(msg, RuntimeWarning)\n/Users/Maxwell/anaconda/lib/python3.5/site-packages/scipy/optimize/zeros.py:173: RuntimeWarning: Tolerance of -0.0148293965326 reached\n  warnings.warn(msg, RuntimeWarning)\n"
     ]
    },
    {
     "name": "stderr",
     "output_type": "stream",
     "text": [
      "/Users/Maxwell/anaconda/lib/python3.5/site-packages/scipy/optimize/zeros.py:173: RuntimeWarning: Tolerance of 124057526514.0 reached\n  warnings.warn(msg, RuntimeWarning)\n/Users/Maxwell/anaconda/lib/python3.5/site-packages/scipy/optimize/zeros.py:173: RuntimeWarning: Tolerance of 62524812.083 reached\n  warnings.warn(msg, RuntimeWarning)\n/Users/Maxwell/anaconda/lib/python3.5/site-packages/scipy/optimize/zeros.py:173: RuntimeWarning: Tolerance of -162687.059345 reached\n  warnings.warn(msg, RuntimeWarning)\n"
     ]
    },
    {
     "name": "stderr",
     "output_type": "stream",
     "text": [
      "/Users/Maxwell/anaconda/lib/python3.5/site-packages/scipy/optimize/zeros.py:173: RuntimeWarning: Tolerance of -0.0109715693248 reached\n  warnings.warn(msg, RuntimeWarning)\n/Users/Maxwell/anaconda/lib/python3.5/site-packages/scipy/optimize/zeros.py:173: RuntimeWarning: Tolerance of -0.0031000483171 reached\n  warnings.warn(msg, RuntimeWarning)\n"
     ]
    },
    {
     "name": "stdout",
     "output_type": "stream",
     "text": [
      "This is the test result for initial point sigma 2.00, initial iteration 10 times:\n                Accuracy Time(hh:mm:ss)\nbrentq           4.30646      00:05.077\nbrenth           4.30646      00:05.075\nridder           4.30646      00:06.678\nscipy_newton     4.11627      00:03.139\nbisection        4.23352      00:22.198\nmullerBisection  4.23223      00:23.214\nnewton            3.3724      00:04.833\nhalley             3.136      00:01.933\nnew_newton       4.17319      00:22.346\nnew_halley       4.24043      00:22.943\n\n\n"
     ]
    },
    {
     "name": "stdout",
     "output_type": "stream",
     "text": [
      "This is the test result for initial point sigma 0.30, initial iteration 100 times:\n                Accuracy Time(hh:mm:ss)\nbrentq           4.30646      00:04.860\nbrenth           4.30646      00:04.841\nridder           4.30646      00:06.727\nscipy_newton     4.14998      00:02.720\nbisection        4.23352      00:21.972\nmullerBisection  4.23223      00:23.400\nnewton           4.07488      00:03.519\nhalley           4.22647      00:01.932\nnew_newton       4.17311      00:23.643\nnew_halley       4.24037      00:30.169\n\n\n"
     ]
    },
    {
     "name": "stdout",
     "output_type": "stream",
     "text": [
      "This is the test result for initial point sigma 0.50, initial iteration 100 times:\n                Accuracy Time(hh:mm:ss)\nbrentq           4.30646      00:05.150\nbrenth           4.30646      00:05.545\nridder           4.30646      00:07.280\nscipy_newton     4.11276      00:02.970\nbisection        4.23352      00:23.681\nmullerBisection  4.23223      00:27.315\nnewton           4.11989      00:06.479\nhalley           3.93286      00:01.979\nnew_newton       4.17311      00:25.654\nnew_halley       4.24037      00:26.059\n\n\n"
     ]
    },
    {
     "name": "stdout",
     "output_type": "stream",
     "text": [
      "This is the test result for initial point sigma 0.70, initial iteration 100 times:\n                Accuracy Time(hh:mm:ss)\nbrentq           4.30646      00:05.680\nbrenth           4.30646      00:05.500\nridder           4.30646      00:07.560\nscipy_newton     4.12553      00:03.022\nbisection        4.23352      00:23.281\nmullerBisection  4.23223      00:26.615\nnewton           4.19757      00:04.002\nhalley            3.7735      00:02.190\nnew_newton       4.17311      00:25.851\nnew_halley       4.24037      00:26.825\n\n\n"
     ]
    },
    {
     "name": "stdout",
     "output_type": "stream",
     "text": [
      "This is the test result for initial point sigma 1.00, initial iteration 100 times:\n                Accuracy Time(hh:mm:ss)\nbrentq           4.30646      00:05.715\nbrenth           4.30646      00:05.765\nridder           4.30646      00:07.919\nscipy_newton     4.13935      00:03.519\nbisection        4.23352      00:25.517\nmullerBisection  4.23223      00:26.290\nnewton           4.12668      00:03.636\nhalley           3.64457      00:02.099\nnew_newton       4.17311      00:25.591\nnew_halley       4.24037      00:26.361\n\n\n"
     ]
    },
    {
     "name": "stdout",
     "output_type": "stream",
     "text": [
      "This is the test result for initial point sigma 1.50, initial iteration 100 times:\n                Accuracy Time(hh:mm:ss)\nbrentq           4.30646      00:05.515\nbrenth           4.30646      00:05.543\nridder           4.30646      00:06.983\nscipy_newton     4.12278      00:03.157\nbisection        4.23352      00:23.553\nmullerBisection  4.23223      00:25.066\nnewton           4.07301      00:08.165\nhalley           3.56188      00:02.151\nnew_newton       4.17311      00:26.705\nnew_halley       4.24037      00:26.389\n\n\n"
     ]
    },
    {
     "name": "stdout",
     "output_type": "stream",
     "text": [
      "This is the test result for initial point sigma 1.70, initial iteration 100 times:\n                Accuracy Time(hh:mm:ss)\nbrentq           4.30646      00:07.492\nbrenth           4.30646      00:05.382\nridder           4.30646      00:07.665\nscipy_newton     4.17953      00:03.398\nbisection        4.23352      00:24.152\nmullerBisection  4.23223      00:25.821\nnewton           3.53386      00:03.155\nhalley           3.40933      00:01.958\nnew_newton       4.17311      00:26.178\nnew_halley       4.24037      00:26.715\n\n\n"
     ]
    },
    {
     "name": "stdout",
     "output_type": "stream",
     "text": [
      "This is the test result for initial point sigma 2.00, initial iteration 100 times:\n                Accuracy Time(hh:mm:ss)\nbrentq           4.30646      00:05.732\nbrenth           4.30646      00:05.321\nridder           4.30646      00:07.359\nscipy_newton     4.11627      00:03.348\nbisection        4.23352      00:22.764\nmullerBisection  4.23223      00:25.299\nnewton            3.3724      00:05.207\nhalley             3.136      00:02.081\nnew_newton       4.17311      00:25.317\nnew_halley       4.24037      00:25.770\n\n\n"
     ]
    },
    {
     "name": "stdout",
     "output_type": "stream",
     "text": [
      "This is the test result for initial point sigma 0.30, initial iteration 500 times:\n                Accuracy Time(hh:mm:ss)\nbrentq           4.30646      00:04.852\nbrenth           4.30646      00:04.801\nridder           4.30646      00:06.704\nscipy_newton     4.14998      00:02.733\nbisection        4.23352      00:22.248\nmullerBisection  4.23223      00:23.402\nnewton           4.07488      00:03.546\nhalley           4.22647      00:01.954\nnew_newton       4.17311      00:23.868\nnew_halley       4.24037      00:24.331\n\n\n"
     ]
    },
    {
     "name": "stdout",
     "output_type": "stream",
     "text": [
      "This is the test result for initial point sigma 0.50, initial iteration 500 times:\n                Accuracy Time(hh:mm:ss)\nbrentq           4.30646      00:04.849\nbrenth           4.30646      00:04.813\nridder           4.30646      00:06.692\nscipy_newton     4.11276      00:02.850\nbisection        4.23352      00:22.085\nmullerBisection  4.23223      00:23.479\nnewton           4.11989      00:05.763\nhalley           3.93286      00:01.948\nnew_newton       4.17311      00:23.801\nnew_halley       4.24037      00:24.552\n\n\n"
     ]
    },
    {
     "name": "stdout",
     "output_type": "stream",
     "text": [
      "This is the test result for initial point sigma 0.70, initial iteration 500 times:\n                Accuracy Time(hh:mm:ss)\nbrentq           4.30646      00:04.863\nbrenth           4.30646      00:04.829\nridder           4.30646      00:06.696\nscipy_newton     4.12553      00:02.933\nbisection        4.23352      00:22.184\nmullerBisection  4.23223      00:23.566\nnewton           4.19757      00:03.582\nhalley            3.7735      00:01.925\nnew_newton       4.17311      00:24.088\nnew_halley       4.24037      00:24.887\n\n\n"
     ]
    },
    {
     "name": "stdout",
     "output_type": "stream",
     "text": [
      "This is the test result for initial point sigma 1.00, initial iteration 500 times:\n                Accuracy Time(hh:mm:ss)\nbrentq           4.30646      00:04.897\nbrenth           4.30646      00:04.812\nridder           4.30646      00:06.695\nscipy_newton     4.13935      00:02.965\nbisection        4.23352      00:22.723\nmullerBisection  4.23223      00:23.233\nnewton           4.12668      00:03.355\nhalley           3.64457      00:01.962\nnew_newton       4.17311      00:26.810\nnew_halley       4.24037      00:25.862\n\n\n"
     ]
    },
    {
     "name": "stdout",
     "output_type": "stream",
     "text": [
      "This is the test result for initial point sigma 1.50, initial iteration 500 times:\n                Accuracy Time(hh:mm:ss)\nbrentq           4.30646      00:05.131\nbrenth           4.30646      00:05.257\nridder           4.30646      00:06.871\nscipy_newton     4.12278      00:03.055\nbisection        4.23352      00:22.104\nmullerBisection  4.23223      00:24.013\nnewton           4.07301      00:07.492\nhalley           3.56188      00:01.996\nnew_newton       4.17311      00:25.723\nnew_halley       4.24037      00:28.216\n\n\n"
     ]
    },
    {
     "name": "stdout",
     "output_type": "stream",
     "text": [
      "This is the test result for initial point sigma 1.70, initial iteration 500 times:\n                Accuracy Time(hh:mm:ss)\nbrentq           4.30646      00:05.654\nbrenth           4.30646      00:05.608\nridder           4.30646      00:07.830\nscipy_newton     4.17953      00:03.513\nbisection        4.23352      00:24.768\nmullerBisection  4.23223      00:26.558\nnewton           3.53386      00:03.389\nhalley           3.40933      00:02.179\nnew_newton       4.17311      00:27.294\nnew_halley       4.24037      00:28.053\n\n\n"
     ]
    },
    {
     "name": "stdout",
     "output_type": "stream",
     "text": [
      "This is the test result for initial point sigma 2.00, initial iteration 500 times:\n                Accuracy Time(hh:mm:ss)\nbrentq           4.30646      00:05.666\nbrenth           4.30646      00:05.668\nridder           4.30646      00:07.764\nscipy_newton     4.11627      00:03.449\nbisection        4.23352      00:25.376\nmullerBisection  4.23223      00:26.743\nnewton            3.3724      00:05.264\nhalley             3.136      00:02.067\nnew_newton       4.17311      00:27.546\nnew_halley       4.24037      00:28.040\n\n\n"
     ]
    },
    {
     "name": "stdout",
     "output_type": "stream",
     "text": [
      "This is the test result for initial point sigma 0.30, initial iteration 1000 times:\n                Accuracy Time(hh:mm:ss)\nbrentq           4.30646      00:05.566\nbrenth           4.30646      00:05.591\nridder           4.30646      00:07.811\nscipy_newton     4.14998      00:03.092\nbisection        4.23352      00:25.447\nmullerBisection  4.23223      00:26.473\nnewton           4.07488      00:04.101\nhalley           4.22647      00:02.298\nnew_newton       4.17311      00:28.836\nnew_halley       4.24037      00:28.684\n\n\n"
     ]
    },
    {
     "name": "stdout",
     "output_type": "stream",
     "text": [
      "This is the test result for initial point sigma 0.50, initial iteration 1000 times:\n                Accuracy Time(hh:mm:ss)\nbrentq           4.30646      00:05.886\nbrenth           4.30646      00:05.731\nridder           4.30646      00:08.195\nscipy_newton     4.11276      00:03.361\nbisection        4.23352      00:25.740\nmullerBisection  4.23223      00:26.584\nnewton           4.11989      00:06.906\nhalley           3.93286      00:02.207\nnew_newton       4.17311      00:27.715\nnew_halley       4.24037      00:29.529\n\n\n"
     ]
    },
    {
     "name": "stdout",
     "output_type": "stream",
     "text": [
      "This is the test result for initial point sigma 0.70, initial iteration 1000 times:\n                Accuracy Time(hh:mm:ss)\nbrentq           4.30646      00:05.983\nbrenth           4.30646      00:06.053\nridder           4.30646      00:08.289\nscipy_newton     4.12553      00:03.420\nbisection        4.23352      00:26.674\nmullerBisection  4.23223      00:27.483\nnewton           4.19757      00:04.474\nhalley            3.7735      00:02.368\nnew_newton       4.17311      00:28.662\nnew_halley       4.24037      00:29.801\n\n\n"
     ]
    },
    {
     "name": "stdout",
     "output_type": "stream",
     "text": [
      "This is the test result for initial point sigma 1.00, initial iteration 1000 times:\n                Accuracy Time(hh:mm:ss)\nbrentq           4.30646      00:05.933\nbrenth           4.30646      00:05.904\nridder           4.30646      00:07.923\nscipy_newton     4.13935      00:03.512\nbisection        4.23352      00:26.367\nmullerBisection  4.23223      00:27.145\nnewton           4.12668      00:03.666\nhalley           3.64457      00:02.096\nnew_newton       4.17311      00:26.873\nnew_halley       4.24037      00:27.211\n\n\n"
     ]
    },
    {
     "name": "stdout",
     "output_type": "stream",
     "text": [
      "This is the test result for initial point sigma 1.50, initial iteration 1000 times:\n                Accuracy Time(hh:mm:ss)\nbrentq           4.30646      00:05.913\nbrenth           4.30646      00:05.987\nridder           4.30646      00:08.026\nscipy_newton     4.12278      00:03.625\nbisection        4.23352      00:24.803\nmullerBisection  4.23223      00:27.869\nnewton           4.07301      00:08.508\nhalley           3.56188      00:02.275\nnew_newton       4.17311      00:29.000\nnew_halley       4.24037      00:29.005\n\n\n"
     ]
    },
    {
     "name": "stdout",
     "output_type": "stream",
     "text": [
      "This is the test result for initial point sigma 1.70, initial iteration 1000 times:\n                Accuracy Time(hh:mm:ss)\nbrentq           4.30646      00:06.115\nbrenth           4.30646      00:06.030\nridder           4.30646      00:08.399\nscipy_newton     4.17953      00:03.727\nbisection        4.23352      00:26.398\nmullerBisection  4.23223      00:28.327\nnewton           3.53386      00:03.611\nhalley           3.40933      00:02.379\nnew_newton       4.17311      00:29.111\nnew_halley       4.24037      00:29.262\n\n\n"
     ]
    },
    {
     "name": "stdout",
     "output_type": "stream",
     "text": [
      "This is the test result for initial point sigma 2.00, initial iteration 1000 times:\n                Accuracy Time(hh:mm:ss)\nbrentq           4.30646      00:05.800\nbrenth           4.30646      00:05.811\nridder           4.30646      00:08.012\nscipy_newton     4.11627      00:03.732\nbisection        4.23352      00:25.596\nmullerBisection  4.23223      00:24.767\nnewton            3.3724      00:05.398\nhalley             3.136      00:02.182\nnew_newton       4.17311      00:26.493\nnew_halley       4.24037      00:24.964\n\n\n"
     ]
    }
   ],
   "source": [
    "data = pd.read_csv('europeanOptions_.01tol.csv')                                                                                       \n",
    "data = data.loc[:, ['currentDate', 'ExpDate', 'StrikePrice', 'Ticker', 'Type', 'Last', 'IV', 'StockPrice', 'T']]\n",
    "data.head()"
   ]
  },
  {
   "cell_type": "code",
   "execution_count": 4,
   "metadata": {
    "collapsed": false
   },
   "outputs": [
    {
     "name": "stderr",
     "output_type": "stream",
     "text": [
      "/Users/Maxwell/anaconda/lib/python3.5/site-packages/scipy/optimize/zeros.py:173: RuntimeWarning: Tolerance of -0.0021106292083 reached\n  warnings.warn(msg, RuntimeWarning)\n"
     ]
    },
    {
     "name": "stderr",
     "output_type": "stream",
     "text": [
      "/Users/Maxwell/anaconda/lib/python3.5/site-packages/scipy/optimize/zeros.py:173: RuntimeWarning: Tolerance of 4834821.20006 reached\n  warnings.warn(msg, RuntimeWarning)\n/Users/Maxwell/anaconda/lib/python3.5/site-packages/scipy/optimize/zeros.py:173: RuntimeWarning: Tolerance of 186100.226642 reached\n  warnings.warn(msg, RuntimeWarning)\n/Users/Maxwell/anaconda/lib/python3.5/site-packages/scipy/optimize/zeros.py:173: RuntimeWarning: Tolerance of 30471.9009936 reached\n  warnings.warn(msg, RuntimeWarning)\n/Users/Maxwell/anaconda/lib/python3.5/site-packages/scipy/optimize/zeros.py:173: RuntimeWarning: Tolerance of 8972692.35162 reached\n  warnings.warn(msg, RuntimeWarning)\n/Users/Maxwell/anaconda/lib/python3.5/site-packages/scipy/optimize/zeros.py:173: RuntimeWarning: Tolerance of -1896851.51349 reached\n  warnings.warn(msg, RuntimeWarning)\n"
     ]
    },
    {
     "name": "stderr",
     "output_type": "stream",
     "text": [
      "/Users/Maxwell/anaconda/lib/python3.5/site-packages/scipy/optimize/zeros.py:173: RuntimeWarning: Tolerance of -0.00332953061931 reached\n  warnings.warn(msg, RuntimeWarning)\n/Users/Maxwell/anaconda/lib/python3.5/site-packages/scipy/optimize/zeros.py:173: RuntimeWarning: Tolerance of -975.944463839 reached\n  warnings.warn(msg, RuntimeWarning)\n"
     ]
    },
    {
     "name": "stderr",
     "output_type": "stream",
     "text": [
      "/Users/Maxwell/anaconda/lib/python3.5/site-packages/scipy/optimize/zeros.py:173: RuntimeWarning: Tolerance of -816096.967203 reached\n  warnings.warn(msg, RuntimeWarning)\n/Users/Maxwell/anaconda/lib/python3.5/site-packages/scipy/optimize/zeros.py:173: RuntimeWarning: Tolerance of 214.978948571 reached\n  warnings.warn(msg, RuntimeWarning)\n/Users/Maxwell/anaconda/lib/python3.5/site-packages/scipy/optimize/zeros.py:173: RuntimeWarning: Tolerance of 6777108.04707 reached\n  warnings.warn(msg, RuntimeWarning)\n/Users/Maxwell/anaconda/lib/python3.5/site-packages/scipy/optimize/zeros.py:173: RuntimeWarning: Tolerance of 23953711.0806 reached\n  warnings.warn(msg, RuntimeWarning)\n/Users/Maxwell/anaconda/lib/python3.5/site-packages/scipy/optimize/zeros.py:173: RuntimeWarning: Tolerance of -0.00753559953767 reached\n  warnings.warn(msg, RuntimeWarning)\n/Users/Maxwell/anaconda/lib/python3.5/site-packages/scipy/optimize/zeros.py:173: RuntimeWarning: Tolerance of 150176548.982 reached\n  warnings.warn(msg, RuntimeWarning)\n/Users/Maxwell/anaconda/lib/python3.5/site-packages/scipy/optimize/zeros.py:173: RuntimeWarning: Tolerance of 73693570476.2 reached\n  warnings.warn(msg, RuntimeWarning)\n/Users/Maxwell/anaconda/lib/python3.5/site-packages/scipy/optimize/zeros.py:173: RuntimeWarning: Tolerance of 594777.592865 reached\n  warnings.warn(msg, RuntimeWarning)\n/Users/Maxwell/anaconda/lib/python3.5/site-packages/scipy/optimize/zeros.py:173: RuntimeWarning: Tolerance of -2.24467018992e-05 reached\n  warnings.warn(msg, RuntimeWarning)\n/Users/Maxwell/anaconda/lib/python3.5/site-packages/scipy/optimize/zeros.py:173: RuntimeWarning: Tolerance of 7444273422.21 reached\n  warnings.warn(msg, RuntimeWarning)\n/Users/Maxwell/anaconda/lib/python3.5/site-packages/scipy/optimize/zeros.py:173: RuntimeWarning: Tolerance of -578055999.569 reached\n  warnings.warn(msg, RuntimeWarning)\n"
     ]
    },
    {
     "name": "stderr",
     "output_type": "stream",
     "text": [
      "/Users/Maxwell/anaconda/lib/python3.5/site-packages/scipy/optimize/zeros.py:173: RuntimeWarning: Tolerance of 837.32687762 reached\n  warnings.warn(msg, RuntimeWarning)\n/Users/Maxwell/anaconda/lib/python3.5/site-packages/scipy/optimize/zeros.py:173: RuntimeWarning: Tolerance of -0.00189988674422 reached\n  warnings.warn(msg, RuntimeWarning)\n"
     ]
    },
    {
     "name": "stderr",
     "output_type": "stream",
     "text": [
      "/Users/Maxwell/anaconda/lib/python3.5/site-packages/scipy/optimize/zeros.py:173: RuntimeWarning: Tolerance of 3412135.69556 reached\n  warnings.warn(msg, RuntimeWarning)\n/Users/Maxwell/anaconda/lib/python3.5/site-packages/scipy/optimize/zeros.py:173: RuntimeWarning: Tolerance of -0.00751754669395 reached\n  warnings.warn(msg, RuntimeWarning)\n/Users/Maxwell/anaconda/lib/python3.5/site-packages/scipy/optimize/zeros.py:173: RuntimeWarning: Tolerance of -0.0020715319247 reached\n  warnings.warn(msg, RuntimeWarning)\n"
     ]
    },
    {
     "name": "stderr",
     "output_type": "stream",
     "text": [
      "/Users/Maxwell/anaconda/lib/python3.5/site-packages/scipy/optimize/zeros.py:173: RuntimeWarning: Tolerance of 4180508932.21 reached\n  warnings.warn(msg, RuntimeWarning)\n/Users/Maxwell/anaconda/lib/python3.5/site-packages/scipy/optimize/zeros.py:173: RuntimeWarning: Tolerance of -0.00893525336774 reached\n  warnings.warn(msg, RuntimeWarning)\n"
     ]
    },
    {
     "name": "stderr",
     "output_type": "stream",
     "text": [
      "/Users/Maxwell/anaconda/lib/python3.5/site-packages/scipy/optimize/zeros.py:173: RuntimeWarning: Tolerance of -3826.58844013 reached\n  warnings.warn(msg, RuntimeWarning)\n/Users/Maxwell/anaconda/lib/python3.5/site-packages/scipy/optimize/zeros.py:173: RuntimeWarning: Tolerance of -0.000535756816249 reached\n  warnings.warn(msg, RuntimeWarning)\n/Users/Maxwell/anaconda/lib/python3.5/site-packages/scipy/optimize/zeros.py:173: RuntimeWarning: Tolerance of -5211338572.83 reached\n  warnings.warn(msg, RuntimeWarning)\n"
     ]
    },
    {
     "name": "stderr",
     "output_type": "stream",
     "text": [
      "/Users/Maxwell/anaconda/lib/python3.5/site-packages/scipy/optimize/zeros.py:173: RuntimeWarning: Tolerance of -0.000179087484186 reached\n  warnings.warn(msg, RuntimeWarning)\n/Users/Maxwell/anaconda/lib/python3.5/site-packages/scipy/optimize/zeros.py:173: RuntimeWarning: Tolerance of -0.000705508815798 reached\n  warnings.warn(msg, RuntimeWarning)\n/Users/Maxwell/anaconda/lib/python3.5/site-packages/scipy/optimize/zeros.py:173: RuntimeWarning: Tolerance of 849.021896213 reached\n  warnings.warn(msg, RuntimeWarning)\n/Users/Maxwell/anaconda/lib/python3.5/site-packages/scipy/optimize/zeros.py:173: RuntimeWarning: Tolerance of -0.00876186237435 reached\n  warnings.warn(msg, RuntimeWarning)\n/Users/Maxwell/anaconda/lib/python3.5/site-packages/scipy/optimize/zeros.py:173: RuntimeWarning: Tolerance of 89606367.3 reached\n  warnings.warn(msg, RuntimeWarning)\n/Users/Maxwell/anaconda/lib/python3.5/site-packages/scipy/optimize/zeros.py:173: RuntimeWarning: Tolerance of -0.02205268116 reached\n  warnings.warn(msg, RuntimeWarning)\n/Users/Maxwell/anaconda/lib/python3.5/site-packages/scipy/optimize/zeros.py:173: RuntimeWarning: Tolerance of -0.00145751857788 reached\n  warnings.warn(msg, RuntimeWarning)\n"
     ]
    },
    {
     "name": "stderr",
     "output_type": "stream",
     "text": [
      "/Users/Maxwell/anaconda/lib/python3.5/site-packages/scipy/optimize/zeros.py:173: RuntimeWarning: Tolerance of 4700.68407643 reached\n  warnings.warn(msg, RuntimeWarning)\n/Users/Maxwell/anaconda/lib/python3.5/site-packages/scipy/optimize/zeros.py:173: RuntimeWarning: Tolerance of -0.000405816461249 reached\n  warnings.warn(msg, RuntimeWarning)\n"
     ]
    },
    {
     "name": "stderr",
     "output_type": "stream",
     "text": [
      "/Users/Maxwell/anaconda/lib/python3.5/site-packages/scipy/optimize/zeros.py:173: RuntimeWarning: Tolerance of 38953.3908495 reached\n  warnings.warn(msg, RuntimeWarning)\n/Users/Maxwell/anaconda/lib/python3.5/site-packages/scipy/optimize/zeros.py:173: RuntimeWarning: Tolerance of -0.00175647602925 reached\n  warnings.warn(msg, RuntimeWarning)\n"
     ]
    },
    {
     "name": "stdout",
     "output_type": "stream",
     "text": [
      "This is the test result for initial point sigma 0.30, initial iteration 10 times:\n                Accuracy Time(hh:mm:ss)\nbrentq           4.30646      00:05.218\nbrenth           4.30646      00:05.179\nridder           4.30646      00:07.503\nscipy_newton     4.14998      00:02.838\nbisection        4.23352      00:22.817\nmullerBisection  4.23223      00:23.939\nnewton           4.07488      00:03.595\nhalley           4.22647      00:01.975\nnew_newton       4.17319      00:23.002\nnew_halley       4.24043      00:23.471\n\n\n"
     ]
    },
    {
     "name": "stderr",
     "output_type": "stream",
     "text": [
      "/Users/Maxwell/anaconda/lib/python3.5/site-packages/scipy/optimize/zeros.py:173: RuntimeWarning: Tolerance of 15043.8384811 reached\n  warnings.warn(msg, RuntimeWarning)\n/Users/Maxwell/anaconda/lib/python3.5/site-packages/scipy/optimize/zeros.py:173: RuntimeWarning: Tolerance of -8.78325982217e-06 reached\n  warnings.warn(msg, RuntimeWarning)\n"
     ]
    },
    {
     "name": "stderr",
     "output_type": "stream",
     "text": [
      "/Users/Maxwell/anaconda/lib/python3.5/site-packages/scipy/optimize/zeros.py:173: RuntimeWarning: Tolerance of 1033715.52342 reached\n  warnings.warn(msg, RuntimeWarning)\n/Users/Maxwell/anaconda/lib/python3.5/site-packages/scipy/optimize/zeros.py:173: RuntimeWarning: Tolerance of -0.00268544053288 reached\n  warnings.warn(msg, RuntimeWarning)\n/Users/Maxwell/anaconda/lib/python3.5/site-packages/scipy/optimize/zeros.py:173: RuntimeWarning: Tolerance of -0.0208351200224 reached\n  warnings.warn(msg, RuntimeWarning)\n/Users/Maxwell/anaconda/lib/python3.5/site-packages/scipy/optimize/zeros.py:173: RuntimeWarning: Tolerance of -0.00275563653178 reached\n  warnings.warn(msg, RuntimeWarning)\n/Users/Maxwell/anaconda/lib/python3.5/site-packages/scipy/optimize/zeros.py:173: RuntimeWarning: Tolerance of -0.00223129576011 reached\n  warnings.warn(msg, RuntimeWarning)\n"
     ]
    },
    {
     "name": "stderr",
     "output_type": "stream",
     "text": [
      "/Users/Maxwell/anaconda/lib/python3.5/site-packages/scipy/optimize/zeros.py:173: RuntimeWarning: Tolerance of 4114267385.28 reached\n  warnings.warn(msg, RuntimeWarning)\n"
     ]
    },
    {
     "name": "stderr",
     "output_type": "stream",
     "text": [
      "/Users/Maxwell/anaconda/lib/python3.5/site-packages/scipy/optimize/zeros.py:173: RuntimeWarning: Tolerance of 11310548238.9 reached\n  warnings.warn(msg, RuntimeWarning)\n/Users/Maxwell/anaconda/lib/python3.5/site-packages/scipy/optimize/zeros.py:173: RuntimeWarning: Tolerance of 3628540284.67 reached\n  warnings.warn(msg, RuntimeWarning)\n/Users/Maxwell/anaconda/lib/python3.5/site-packages/scipy/optimize/zeros.py:173: RuntimeWarning: Tolerance of 270.084656506 reached\n  warnings.warn(msg, RuntimeWarning)\n/Users/Maxwell/anaconda/lib/python3.5/site-packages/scipy/optimize/zeros.py:173: RuntimeWarning: Tolerance of -49679765170.8 reached\n  warnings.warn(msg, RuntimeWarning)\n/Users/Maxwell/anaconda/lib/python3.5/site-packages/scipy/optimize/zeros.py:173: RuntimeWarning: Tolerance of -0.00746502637511 reached\n  warnings.warn(msg, RuntimeWarning)\n/Users/Maxwell/anaconda/lib/python3.5/site-packages/scipy/optimize/zeros.py:173: RuntimeWarning: Tolerance of 68246.8210848 reached\n  warnings.warn(msg, RuntimeWarning)\n/Users/Maxwell/anaconda/lib/python3.5/site-packages/scipy/optimize/zeros.py:173: RuntimeWarning: Tolerance of 3959771826.77 reached\n  warnings.warn(msg, RuntimeWarning)\n/Users/Maxwell/anaconda/lib/python3.5/site-packages/scipy/optimize/zeros.py:173: RuntimeWarning: Tolerance of 42989110552.0 reached\n  warnings.warn(msg, RuntimeWarning)\n/Users/Maxwell/anaconda/lib/python3.5/site-packages/scipy/optimize/zeros.py:173: RuntimeWarning: Tolerance of -0.00938438357576 reached\n  warnings.warn(msg, RuntimeWarning)\n/Users/Maxwell/anaconda/lib/python3.5/site-packages/scipy/optimize/zeros.py:173: RuntimeWarning: Tolerance of 331455444841.0 reached\n  warnings.warn(msg, RuntimeWarning)\n/Users/Maxwell/anaconda/lib/python3.5/site-packages/scipy/optimize/zeros.py:173: RuntimeWarning: Tolerance of 21013150.655 reached\n  warnings.warn(msg, RuntimeWarning)\n"
     ]
    },
    {
     "name": "stderr",
     "output_type": "stream",
     "text": [
      "/Users/Maxwell/anaconda/lib/python3.5/site-packages/scipy/optimize/zeros.py:173: RuntimeWarning: Tolerance of -24.142184356 reached\n  warnings.warn(msg, RuntimeWarning)\n"
     ]
    },
    {
     "name": "stderr",
     "output_type": "stream",
     "text": [
      "/Users/Maxwell/anaconda/lib/python3.5/site-packages/scipy/optimize/zeros.py:173: RuntimeWarning: Tolerance of -0.00202309679337 reached\n  warnings.warn(msg, RuntimeWarning)\n/Users/Maxwell/anaconda/lib/python3.5/site-packages/scipy/optimize/zeros.py:173: RuntimeWarning: Tolerance of -0.00711104531125 reached\n  warnings.warn(msg, RuntimeWarning)\n/Users/Maxwell/anaconda/lib/python3.5/site-packages/scipy/optimize/zeros.py:173: RuntimeWarning: Tolerance of 86938239.0001 reached\n  warnings.warn(msg, RuntimeWarning)\n/Users/Maxwell/anaconda/lib/python3.5/site-packages/scipy/optimize/zeros.py:173: RuntimeWarning: Tolerance of 5421954357.71 reached\n  warnings.warn(msg, RuntimeWarning)\n"
     ]
    },
    {
     "name": "stderr",
     "output_type": "stream",
     "text": [
      "/Users/Maxwell/anaconda/lib/python3.5/site-packages/scipy/optimize/zeros.py:173: RuntimeWarning: Tolerance of -0.00753228669711 reached\n  warnings.warn(msg, RuntimeWarning)\n/Users/Maxwell/anaconda/lib/python3.5/site-packages/scipy/optimize/zeros.py:173: RuntimeWarning: Tolerance of 46205090454.1 reached\n  warnings.warn(msg, RuntimeWarning)\n"
     ]
    },
    {
     "name": "stderr",
     "output_type": "stream",
     "text": [
      "/Users/Maxwell/anaconda/lib/python3.5/site-packages/scipy/optimize/zeros.py:173: RuntimeWarning: Tolerance of -0.00127470323177 reached\n  warnings.warn(msg, RuntimeWarning)\n/Users/Maxwell/anaconda/lib/python3.5/site-packages/scipy/optimize/zeros.py:173: RuntimeWarning: Tolerance of -0.00254041047777 reached\n  warnings.warn(msg, RuntimeWarning)\n/Users/Maxwell/anaconda/lib/python3.5/site-packages/scipy/optimize/zeros.py:173: RuntimeWarning: Tolerance of 3931729.1344 reached\n  warnings.warn(msg, RuntimeWarning)\n"
     ]
    },
    {
     "name": "stderr",
     "output_type": "stream",
     "text": [
      "/Users/Maxwell/anaconda/lib/python3.5/site-packages/scipy/optimize/zeros.py:173: RuntimeWarning: Tolerance of 4458303.43782 reached\n  warnings.warn(msg, RuntimeWarning)\n"
     ]
    },
    {
     "name": "stderr",
     "output_type": "stream",
     "text": [
      "/Users/Maxwell/anaconda/lib/python3.5/site-packages/scipy/optimize/zeros.py:173: RuntimeWarning: Tolerance of -0.0010870837415 reached\n  warnings.warn(msg, RuntimeWarning)\n/Users/Maxwell/anaconda/lib/python3.5/site-packages/scipy/optimize/zeros.py:173: RuntimeWarning: Tolerance of -0.00632166552186 reached\n  warnings.warn(msg, RuntimeWarning)\n/Users/Maxwell/anaconda/lib/python3.5/site-packages/scipy/optimize/zeros.py:173: RuntimeWarning: Tolerance of 326214062.693 reached\n  warnings.warn(msg, RuntimeWarning)\n/Users/Maxwell/anaconda/lib/python3.5/site-packages/scipy/optimize/zeros.py:173: RuntimeWarning: Tolerance of -825.488457018 reached\n  warnings.warn(msg, RuntimeWarning)\n/Users/Maxwell/anaconda/lib/python3.5/site-packages/scipy/optimize/zeros.py:173: RuntimeWarning: Tolerance of -0.000608010431399 reached\n  warnings.warn(msg, RuntimeWarning)\n/Users/Maxwell/anaconda/lib/python3.5/site-packages/scipy/optimize/zeros.py:173: RuntimeWarning: Tolerance of -2.63222694914e+13 reached\n  warnings.warn(msg, RuntimeWarning)\n/Users/Maxwell/anaconda/lib/python3.5/site-packages/scipy/optimize/zeros.py:173: RuntimeWarning: Tolerance of -0.00189289120861 reached\n  warnings.warn(msg, RuntimeWarning)\n"
     ]
    },
    {
     "name": "stderr",
     "output_type": "stream",
     "text": [
      "/Users/Maxwell/anaconda/lib/python3.5/site-packages/scipy/optimize/zeros.py:173: RuntimeWarning: Tolerance of -29.3154703893 reached\n  warnings.warn(msg, RuntimeWarning)\n/Users/Maxwell/anaconda/lib/python3.5/site-packages/scipy/optimize/zeros.py:173: RuntimeWarning: Tolerance of 33118395.1684 reached\n  warnings.warn(msg, RuntimeWarning)\n"
     ]
    },
    {
     "name": "stderr",
     "output_type": "stream",
     "text": [
      "/Users/Maxwell/anaconda/lib/python3.5/site-packages/scipy/optimize/zeros.py:173: RuntimeWarning: Tolerance of 4214649.48987 reached\n  warnings.warn(msg, RuntimeWarning)\n/Users/Maxwell/anaconda/lib/python3.5/site-packages/scipy/optimize/zeros.py:173: RuntimeWarning: Tolerance of 13804607835.3 reached\n  warnings.warn(msg, RuntimeWarning)\n"
     ]
    },
    {
     "name": "stdout",
     "output_type": "stream",
     "text": [
      "This is the test result for initial point sigma 0.50, initial iteration 10 times:\n                Accuracy Time(hh:mm:ss)\nbrentq           4.30646      00:05.142\nbrenth           4.30646      00:04.950\nridder           4.30646      00:06.867\nscipy_newton     4.11276      00:02.898\nbisection        4.23352      00:22.449\nmullerBisection  4.23223      00:23.900\nnewton           4.11989      00:05.823\nhalley           3.93286      00:01.989\nnew_newton       4.17319      00:23.018\nnew_halley       4.24043      00:23.730\n\n\n"
     ]
    },
    {
     "name": "stderr",
     "output_type": "stream",
     "text": [
      "/Users/Maxwell/anaconda/lib/python3.5/site-packages/scipy/optimize/zeros.py:173: RuntimeWarning: Tolerance of -382.389525425 reached\n  warnings.warn(msg, RuntimeWarning)\n/Users/Maxwell/anaconda/lib/python3.5/site-packages/scipy/optimize/zeros.py:173: RuntimeWarning: Tolerance of -0.00152581934372 reached\n  warnings.warn(msg, RuntimeWarning)\n"
     ]
    },
    {
     "name": "stderr",
     "output_type": "stream",
     "text": [
      "/Users/Maxwell/anaconda/lib/python3.5/site-packages/scipy/optimize/zeros.py:173: RuntimeWarning: Tolerance of -6136761.33464 reached\n  warnings.warn(msg, RuntimeWarning)\n/Users/Maxwell/anaconda/lib/python3.5/site-packages/scipy/optimize/zeros.py:173: RuntimeWarning: Tolerance of -3.13025982498e-05 reached\n  warnings.warn(msg, RuntimeWarning)\n/Users/Maxwell/anaconda/lib/python3.5/site-packages/scipy/optimize/zeros.py:173: RuntimeWarning: Tolerance of -0.00927964191539 reached\n  warnings.warn(msg, RuntimeWarning)\n/Users/Maxwell/anaconda/lib/python3.5/site-packages/scipy/optimize/zeros.py:173: RuntimeWarning: Tolerance of -0.00251498453844 reached\n  warnings.warn(msg, RuntimeWarning)\n/Users/Maxwell/anaconda/lib/python3.5/site-packages/scipy/optimize/zeros.py:173: RuntimeWarning: Tolerance of 186024.521259 reached\n  warnings.warn(msg, RuntimeWarning)\n"
     ]
    },
    {
     "name": "stderr",
     "output_type": "stream",
     "text": [
      "/Users/Maxwell/anaconda/lib/python3.5/site-packages/scipy/optimize/zeros.py:173: RuntimeWarning: Tolerance of -7447.57137102 reached\n  warnings.warn(msg, RuntimeWarning)\n"
     ]
    },
    {
     "name": "stderr",
     "output_type": "stream",
     "text": [
      "/Users/Maxwell/anaconda/lib/python3.5/site-packages/scipy/optimize/zeros.py:173: RuntimeWarning: Tolerance of -2.32310937063e-06 reached\n  warnings.warn(msg, RuntimeWarning)\n/Users/Maxwell/anaconda/lib/python3.5/site-packages/scipy/optimize/zeros.py:173: RuntimeWarning: Tolerance of -100.337433189 reached\n  warnings.warn(msg, RuntimeWarning)\n/Users/Maxwell/anaconda/lib/python3.5/site-packages/scipy/optimize/zeros.py:173: RuntimeWarning: Tolerance of -0.00765624213372 reached\n  warnings.warn(msg, RuntimeWarning)\n/Users/Maxwell/anaconda/lib/python3.5/site-packages/scipy/optimize/zeros.py:173: RuntimeWarning: Tolerance of -0.000106972020724 reached\n  warnings.warn(msg, RuntimeWarning)\n/Users/Maxwell/anaconda/lib/python3.5/site-packages/scipy/optimize/zeros.py:173: RuntimeWarning: Tolerance of 359171.979179 reached\n  warnings.warn(msg, RuntimeWarning)\n/Users/Maxwell/anaconda/lib/python3.5/site-packages/scipy/optimize/zeros.py:173: RuntimeWarning: Tolerance of 286005.457133 reached\n  warnings.warn(msg, RuntimeWarning)\n/Users/Maxwell/anaconda/lib/python3.5/site-packages/scipy/optimize/zeros.py:173: RuntimeWarning: Tolerance of -0.000361374125148 reached\n  warnings.warn(msg, RuntimeWarning)\n/Users/Maxwell/anaconda/lib/python3.5/site-packages/scipy/optimize/zeros.py:173: RuntimeWarning: Tolerance of -0.000327180528215 reached\n  warnings.warn(msg, RuntimeWarning)\n/Users/Maxwell/anaconda/lib/python3.5/site-packages/scipy/optimize/zeros.py:173: RuntimeWarning: Tolerance of 4112537.57426 reached\n  warnings.warn(msg, RuntimeWarning)\n/Users/Maxwell/anaconda/lib/python3.5/site-packages/scipy/optimize/zeros.py:173: RuntimeWarning: Tolerance of -355.861938608 reached\n  warnings.warn(msg, RuntimeWarning)\n"
     ]
    },
    {
     "name": "stderr",
     "output_type": "stream",
     "text": [
      "/Users/Maxwell/anaconda/lib/python3.5/site-packages/scipy/optimize/zeros.py:173: RuntimeWarning: Tolerance of -3.82742520832e+13 reached\n  warnings.warn(msg, RuntimeWarning)\n"
     ]
    },
    {
     "name": "stderr",
     "output_type": "stream",
     "text": [
      "/Users/Maxwell/anaconda/lib/python3.5/site-packages/scipy/optimize/zeros.py:173: RuntimeWarning: Tolerance of -0.0028158251272 reached\n  warnings.warn(msg, RuntimeWarning)\n/Users/Maxwell/anaconda/lib/python3.5/site-packages/scipy/optimize/zeros.py:173: RuntimeWarning: Tolerance of -3.92152329385e-05 reached\n  warnings.warn(msg, RuntimeWarning)\n/Users/Maxwell/anaconda/lib/python3.5/site-packages/scipy/optimize/zeros.py:173: RuntimeWarning: Tolerance of 6098927.89509 reached\n  warnings.warn(msg, RuntimeWarning)\n"
     ]
    },
    {
     "name": "stderr",
     "output_type": "stream",
     "text": [
      "/Users/Maxwell/anaconda/lib/python3.5/site-packages/scipy/optimize/zeros.py:173: RuntimeWarning: Tolerance of -0.00635557743559 reached\n  warnings.warn(msg, RuntimeWarning)\n/Users/Maxwell/anaconda/lib/python3.5/site-packages/scipy/optimize/zeros.py:173: RuntimeWarning: Tolerance of 8045070.49444 reached\n  warnings.warn(msg, RuntimeWarning)\n"
     ]
    },
    {
     "name": "stderr",
     "output_type": "stream",
     "text": [
      "/Users/Maxwell/anaconda/lib/python3.5/site-packages/scipy/optimize/zeros.py:173: RuntimeWarning: Tolerance of 137689468.996 reached\n  warnings.warn(msg, RuntimeWarning)\n/Users/Maxwell/anaconda/lib/python3.5/site-packages/scipy/optimize/zeros.py:173: RuntimeWarning: Tolerance of 129992220.654 reached\n  warnings.warn(msg, RuntimeWarning)\n"
     ]
    },
    {
     "name": "stderr",
     "output_type": "stream",
     "text": [
      "/Users/Maxwell/anaconda/lib/python3.5/site-packages/scipy/optimize/zeros.py:173: RuntimeWarning: Tolerance of -2.90194343394e+20 reached\n  warnings.warn(msg, RuntimeWarning)\n/Users/Maxwell/anaconda/lib/python3.5/site-packages/scipy/optimize/zeros.py:173: RuntimeWarning: Tolerance of 10496700.4482 reached\n  warnings.warn(msg, RuntimeWarning)\n"
     ]
    },
    {
     "name": "stderr",
     "output_type": "stream",
     "text": [
      "/Users/Maxwell/anaconda/lib/python3.5/site-packages/scipy/optimize/zeros.py:173: RuntimeWarning: Tolerance of 2424054853.21 reached\n  warnings.warn(msg, RuntimeWarning)\n/Users/Maxwell/anaconda/lib/python3.5/site-packages/scipy/optimize/zeros.py:173: RuntimeWarning: Tolerance of -15333.5067243 reached\n  warnings.warn(msg, RuntimeWarning)\n/Users/Maxwell/anaconda/lib/python3.5/site-packages/scipy/optimize/zeros.py:173: RuntimeWarning: Tolerance of -0.00957568177593 reached\n  warnings.warn(msg, RuntimeWarning)\n/Users/Maxwell/anaconda/lib/python3.5/site-packages/scipy/optimize/zeros.py:173: RuntimeWarning: Tolerance of -0.00067489540598 reached\n  warnings.warn(msg, RuntimeWarning)\n/Users/Maxwell/anaconda/lib/python3.5/site-packages/scipy/optimize/zeros.py:173: RuntimeWarning: Tolerance of 43101986873.9 reached\n  warnings.warn(msg, RuntimeWarning)\n/Users/Maxwell/anaconda/lib/python3.5/site-packages/scipy/optimize/zeros.py:173: RuntimeWarning: Tolerance of -0.00225417798927 reached\n  warnings.warn(msg, RuntimeWarning)\n/Users/Maxwell/anaconda/lib/python3.5/site-packages/scipy/optimize/zeros.py:173: RuntimeWarning: Tolerance of 2234908.33974 reached\n  warnings.warn(msg, RuntimeWarning)\n"
     ]
    },
    {
     "name": "stderr",
     "output_type": "stream",
     "text": [
      "/Users/Maxwell/anaconda/lib/python3.5/site-packages/scipy/optimize/zeros.py:173: RuntimeWarning: Tolerance of 1728058524.82 reached\n  warnings.warn(msg, RuntimeWarning)\n/Users/Maxwell/anaconda/lib/python3.5/site-packages/scipy/optimize/zeros.py:173: RuntimeWarning: Tolerance of -7572500.23242 reached\n  warnings.warn(msg, RuntimeWarning)\n"
     ]
    },
    {
     "name": "stderr",
     "output_type": "stream",
     "text": [
      "/Users/Maxwell/anaconda/lib/python3.5/site-packages/scipy/optimize/zeros.py:173: RuntimeWarning: Tolerance of 249811.802901 reached\n  warnings.warn(msg, RuntimeWarning)\n/Users/Maxwell/anaconda/lib/python3.5/site-packages/scipy/optimize/zeros.py:173: RuntimeWarning: Tolerance of 24997991842.1 reached\n  warnings.warn(msg, RuntimeWarning)\n"
     ]
    },
    {
     "name": "stdout",
     "output_type": "stream",
     "text": [
      "This is the test result for initial point sigma 0.70, initial iteration 10 times:\n                Accuracy Time(hh:mm:ss)\nbrentq           4.30646      00:04.982\nbrenth           4.30646      00:05.006\nridder           4.30646      00:06.929\nscipy_newton     4.12553      00:03.000\nbisection        4.23352      00:22.793\nmullerBisection  4.23223      00:24.092\nnewton           4.19757      00:03.621\nhalley            3.7735      00:01.992\nnew_newton       4.17319      00:22.615\nnew_halley       4.24043      00:23.271\n\n\n"
     ]
    },
    {
     "name": "stderr",
     "output_type": "stream",
     "text": [
      "/Users/Maxwell/anaconda/lib/python3.5/site-packages/scipy/optimize/zeros.py:173: RuntimeWarning: Tolerance of 30206.817939 reached\n  warnings.warn(msg, RuntimeWarning)\n"
     ]
    },
    {
     "name": "stderr",
     "output_type": "stream",
     "text": [
      "/Users/Maxwell/anaconda/lib/python3.5/site-packages/scipy/optimize/zeros.py:173: RuntimeWarning: Tolerance of -0.00140365416065 reached\n  warnings.warn(msg, RuntimeWarning)\n/Users/Maxwell/anaconda/lib/python3.5/site-packages/scipy/optimize/zeros.py:173: RuntimeWarning: Tolerance of 99589.5899029 reached\n  warnings.warn(msg, RuntimeWarning)\n/Users/Maxwell/anaconda/lib/python3.5/site-packages/scipy/optimize/zeros.py:173: RuntimeWarning: Tolerance of -110672.651969 reached\n  warnings.warn(msg, RuntimeWarning)\n/Users/Maxwell/anaconda/lib/python3.5/site-packages/scipy/optimize/zeros.py:173: RuntimeWarning: Tolerance of -0.0079074565165 reached\n  warnings.warn(msg, RuntimeWarning)\n/Users/Maxwell/anaconda/lib/python3.5/site-packages/scipy/optimize/zeros.py:173: RuntimeWarning: Tolerance of -0.00233761232178 reached\n  warnings.warn(msg, RuntimeWarning)\n"
     ]
    },
    {
     "name": "stderr",
     "output_type": "stream",
     "text": [
      "/Users/Maxwell/anaconda/lib/python3.5/site-packages/scipy/optimize/zeros.py:173: RuntimeWarning: Tolerance of 5346422.94494 reached\n  warnings.warn(msg, RuntimeWarning)\n/Users/Maxwell/anaconda/lib/python3.5/site-packages/scipy/optimize/zeros.py:173: RuntimeWarning: Tolerance of 406416.679361 reached\n  warnings.warn(msg, RuntimeWarning)\n"
     ]
    },
    {
     "name": "stderr",
     "output_type": "stream",
     "text": [
      "/Users/Maxwell/anaconda/lib/python3.5/site-packages/scipy/optimize/zeros.py:173: RuntimeWarning: Tolerance of -123139.257949 reached\n  warnings.warn(msg, RuntimeWarning)\n/Users/Maxwell/anaconda/lib/python3.5/site-packages/scipy/optimize/zeros.py:173: RuntimeWarning: Tolerance of -277.380683233 reached\n  warnings.warn(msg, RuntimeWarning)\n/Users/Maxwell/anaconda/lib/python3.5/site-packages/scipy/optimize/zeros.py:173: RuntimeWarning: Tolerance of -26.0951465699 reached\n  warnings.warn(msg, RuntimeWarning)\n/Users/Maxwell/anaconda/lib/python3.5/site-packages/scipy/optimize/zeros.py:173: RuntimeWarning: Tolerance of 8693324.75755 reached\n  warnings.warn(msg, RuntimeWarning)\n/Users/Maxwell/anaconda/lib/python3.5/site-packages/scipy/optimize/zeros.py:173: RuntimeWarning: Tolerance of 36915038.8821 reached\n  warnings.warn(msg, RuntimeWarning)\n/Users/Maxwell/anaconda/lib/python3.5/site-packages/scipy/optimize/zeros.py:173: RuntimeWarning: Tolerance of 263261286.288 reached\n  warnings.warn(msg, RuntimeWarning)\n/Users/Maxwell/anaconda/lib/python3.5/site-packages/scipy/optimize/zeros.py:173: RuntimeWarning: Tolerance of 15021279.0522 reached\n  warnings.warn(msg, RuntimeWarning)\n/Users/Maxwell/anaconda/lib/python3.5/site-packages/scipy/optimize/zeros.py:173: RuntimeWarning: Tolerance of -0.00486873655925 reached\n  warnings.warn(msg, RuntimeWarning)\n/Users/Maxwell/anaconda/lib/python3.5/site-packages/scipy/optimize/zeros.py:173: RuntimeWarning: Tolerance of -0.000435923609033 reached\n  warnings.warn(msg, RuntimeWarning)\n/Users/Maxwell/anaconda/lib/python3.5/site-packages/scipy/optimize/zeros.py:173: RuntimeWarning: Tolerance of -0.00029326926059 reached\n  warnings.warn(msg, RuntimeWarning)\n/Users/Maxwell/anaconda/lib/python3.5/site-packages/scipy/optimize/zeros.py:173: RuntimeWarning: Tolerance of -0.000404536763467 reached\n  warnings.warn(msg, RuntimeWarning)\n"
     ]
    },
    {
     "name": "stderr",
     "output_type": "stream",
     "text": [
      "/Users/Maxwell/anaconda/lib/python3.5/site-packages/scipy/optimize/zeros.py:173: RuntimeWarning: Tolerance of 20701.4071862 reached\n  warnings.warn(msg, RuntimeWarning)\n"
     ]
    },
    {
     "name": "stderr",
     "output_type": "stream",
     "text": [
      "/Users/Maxwell/anaconda/lib/python3.5/site-packages/scipy/optimize/zeros.py:173: RuntimeWarning: Tolerance of -0.00281073030297 reached\n  warnings.warn(msg, RuntimeWarning)\n/Users/Maxwell/anaconda/lib/python3.5/site-packages/scipy/optimize/zeros.py:173: RuntimeWarning: Tolerance of -4.4438422429e-05 reached\n  warnings.warn(msg, RuntimeWarning)\n/Users/Maxwell/anaconda/lib/python3.5/site-packages/scipy/optimize/zeros.py:173: RuntimeWarning: Tolerance of -466339.323522 reached\n  warnings.warn(msg, RuntimeWarning)\n"
     ]
    },
    {
     "name": "stderr",
     "output_type": "stream",
     "text": [
      "/Users/Maxwell/anaconda/lib/python3.5/site-packages/scipy/optimize/zeros.py:173: RuntimeWarning: Tolerance of 356201293623.0 reached\n  warnings.warn(msg, RuntimeWarning)\n/Users/Maxwell/anaconda/lib/python3.5/site-packages/scipy/optimize/zeros.py:173: RuntimeWarning: Tolerance of 5915795.75384 reached\n  warnings.warn(msg, RuntimeWarning)\n/Users/Maxwell/anaconda/lib/python3.5/site-packages/scipy/optimize/zeros.py:173: RuntimeWarning: Tolerance of -129155.088127 reached\n  warnings.warn(msg, RuntimeWarning)\n"
     ]
    },
    {
     "name": "stderr",
     "output_type": "stream",
     "text": [
      "/Users/Maxwell/anaconda/lib/python3.5/site-packages/scipy/optimize/zeros.py:173: RuntimeWarning: Tolerance of -0.000293313068513 reached\n  warnings.warn(msg, RuntimeWarning)\n/Users/Maxwell/anaconda/lib/python3.5/site-packages/scipy/optimize/zeros.py:173: RuntimeWarning: Tolerance of 0.00706832710492 reached\n  warnings.warn(msg, RuntimeWarning)\n"
     ]
    },
    {
     "name": "stderr",
     "output_type": "stream",
     "text": [
      "/Users/Maxwell/anaconda/lib/python3.5/site-packages/scipy/optimize/zeros.py:173: RuntimeWarning: Tolerance of -0.000509073860616 reached\n  warnings.warn(msg, RuntimeWarning)\n/Users/Maxwell/anaconda/lib/python3.5/site-packages/scipy/optimize/zeros.py:173: RuntimeWarning: Tolerance of -0.00611044455416 reached\n  warnings.warn(msg, RuntimeWarning)\n"
     ]
    },
    {
     "name": "stderr",
     "output_type": "stream",
     "text": [
      "/Users/Maxwell/anaconda/lib/python3.5/site-packages/scipy/optimize/zeros.py:173: RuntimeWarning: Tolerance of -0.0101302367913 reached\n  warnings.warn(msg, RuntimeWarning)\n/Users/Maxwell/anaconda/lib/python3.5/site-packages/scipy/optimize/zeros.py:173: RuntimeWarning: Tolerance of -497.191709026 reached\n  warnings.warn(msg, RuntimeWarning)\n/Users/Maxwell/anaconda/lib/python3.5/site-packages/scipy/optimize/zeros.py:173: RuntimeWarning: Tolerance of 27189045593.7 reached\n  warnings.warn(msg, RuntimeWarning)\n/Users/Maxwell/anaconda/lib/python3.5/site-packages/scipy/optimize/zeros.py:173: RuntimeWarning: Tolerance of 28234.2870879 reached\n  warnings.warn(msg, RuntimeWarning)\n/Users/Maxwell/anaconda/lib/python3.5/site-packages/scipy/optimize/zeros.py:173: RuntimeWarning: Tolerance of 19198755737.3 reached\n  warnings.warn(msg, RuntimeWarning)\n/Users/Maxwell/anaconda/lib/python3.5/site-packages/scipy/optimize/zeros.py:173: RuntimeWarning: Tolerance of 44753124618.2 reached\n  warnings.warn(msg, RuntimeWarning)\n/Users/Maxwell/anaconda/lib/python3.5/site-packages/scipy/optimize/zeros.py:173: RuntimeWarning: Tolerance of 231821943.814 reached\n  warnings.warn(msg, RuntimeWarning)\n"
     ]
    },
    {
     "name": "stderr",
     "output_type": "stream",
     "text": [
      "/Users/Maxwell/anaconda/lib/python3.5/site-packages/scipy/optimize/zeros.py:173: RuntimeWarning: Tolerance of 860367.818087 reached\n  warnings.warn(msg, RuntimeWarning)\n/Users/Maxwell/anaconda/lib/python3.5/site-packages/scipy/optimize/zeros.py:173: RuntimeWarning: Tolerance of -4907.94811941 reached\n  warnings.warn(msg, RuntimeWarning)\n"
     ]
    },
    {
     "name": "stderr",
     "output_type": "stream",
     "text": [
      "/Users/Maxwell/anaconda/lib/python3.5/site-packages/scipy/optimize/zeros.py:173: RuntimeWarning: Tolerance of -0.00141053516136 reached\n  warnings.warn(msg, RuntimeWarning)\n/Users/Maxwell/anaconda/lib/python3.5/site-packages/scipy/optimize/zeros.py:173: RuntimeWarning: Tolerance of -27146.1740144 reached\n  warnings.warn(msg, RuntimeWarning)\n"
     ]
    },
    {
     "name": "stdout",
     "output_type": "stream",
     "text": [
      "This is the test result for initial point sigma 1.00, initial iteration 10 times:\n                Accuracy Time(hh:mm:ss)\nbrentq           4.30646      00:04.837\nbrenth           4.30646      00:04.833\nridder           4.30646      00:06.711\nscipy_newton     4.13935      00:02.955\nbisection        4.23352      00:21.983\nmullerBisection  4.23223      00:23.190\nnewton           4.12668      00:03.346\nhalley           3.64457      00:01.952\nnew_newton       4.17319      00:22.343\nnew_halley       4.24043      00:23.110\n\n\n"
     ]
    },
    {
     "name": "stderr",
     "output_type": "stream",
     "text": [
      "/Users/Maxwell/anaconda/lib/python3.5/site-packages/scipy/optimize/zeros.py:173: RuntimeWarning: Tolerance of -0.00223806288895 reached\n  warnings.warn(msg, RuntimeWarning)\n"
     ]
    },
    {
     "name": "stderr",
     "output_type": "stream",
     "text": [
      "/Users/Maxwell/anaconda/lib/python3.5/site-packages/scipy/optimize/zeros.py:173: RuntimeWarning: Tolerance of -0.00139842789295 reached\n  warnings.warn(msg, RuntimeWarning)\n/Users/Maxwell/anaconda/lib/python3.5/site-packages/scipy/optimize/zeros.py:173: RuntimeWarning: Tolerance of -0.00588311513984 reached\n  warnings.warn(msg, RuntimeWarning)\n/Users/Maxwell/anaconda/lib/python3.5/site-packages/scipy/optimize/zeros.py:173: RuntimeWarning: Tolerance of -757.568115372 reached\n  warnings.warn(msg, RuntimeWarning)\n/Users/Maxwell/anaconda/lib/python3.5/site-packages/scipy/optimize/zeros.py:173: RuntimeWarning: Tolerance of 1970546.95176 reached\n  warnings.warn(msg, RuntimeWarning)\n/Users/Maxwell/anaconda/lib/python3.5/site-packages/scipy/optimize/zeros.py:173: RuntimeWarning: Tolerance of -0.00230081143326 reached\n  warnings.warn(msg, RuntimeWarning)\n"
     ]
    },
    {
     "name": "stderr",
     "output_type": "stream",
     "text": [
      "/Users/Maxwell/anaconda/lib/python3.5/site-packages/scipy/optimize/zeros.py:173: RuntimeWarning: Tolerance of 9710393054.55 reached\n  warnings.warn(msg, RuntimeWarning)\n/Users/Maxwell/anaconda/lib/python3.5/site-packages/scipy/optimize/zeros.py:173: RuntimeWarning: Tolerance of -0.00679811571742 reached\n  warnings.warn(msg, RuntimeWarning)\n"
     ]
    },
    {
     "name": "stderr",
     "output_type": "stream",
     "text": [
      "/Users/Maxwell/anaconda/lib/python3.5/site-packages/scipy/optimize/zeros.py:173: RuntimeWarning: Tolerance of -3481.07213298 reached\n  warnings.warn(msg, RuntimeWarning)\n/Users/Maxwell/anaconda/lib/python3.5/site-packages/scipy/optimize/zeros.py:173: RuntimeWarning: Tolerance of -207.368724175 reached\n  warnings.warn(msg, RuntimeWarning)\n/Users/Maxwell/anaconda/lib/python3.5/site-packages/scipy/optimize/zeros.py:173: RuntimeWarning: Tolerance of 426.336486637 reached\n  warnings.warn(msg, RuntimeWarning)\n/Users/Maxwell/anaconda/lib/python3.5/site-packages/scipy/optimize/zeros.py:173: RuntimeWarning: Tolerance of -18562.5079732 reached\n  warnings.warn(msg, RuntimeWarning)\n/Users/Maxwell/anaconda/lib/python3.5/site-packages/scipy/optimize/zeros.py:173: RuntimeWarning: Tolerance of -0.00678227539576 reached\n  warnings.warn(msg, RuntimeWarning)\n/Users/Maxwell/anaconda/lib/python3.5/site-packages/scipy/optimize/zeros.py:173: RuntimeWarning: Tolerance of 663814486.849 reached\n  warnings.warn(msg, RuntimeWarning)\n/Users/Maxwell/anaconda/lib/python3.5/site-packages/scipy/optimize/zeros.py:173: RuntimeWarning: Tolerance of 397130802.78 reached\n  warnings.warn(msg, RuntimeWarning)\n/Users/Maxwell/anaconda/lib/python3.5/site-packages/scipy/optimize/zeros.py:173: RuntimeWarning: Tolerance of -0.00474363257215 reached\n  warnings.warn(msg, RuntimeWarning)\n/Users/Maxwell/anaconda/lib/python3.5/site-packages/scipy/optimize/zeros.py:173: RuntimeWarning: Tolerance of -0.000438710735798 reached\n  warnings.warn(msg, RuntimeWarning)\n/Users/Maxwell/anaconda/lib/python3.5/site-packages/scipy/optimize/zeros.py:173: RuntimeWarning: Tolerance of -0.000298210277503 reached\n  warnings.warn(msg, RuntimeWarning)\n/Users/Maxwell/anaconda/lib/python3.5/site-packages/scipy/optimize/zeros.py:173: RuntimeWarning: Tolerance of -0.00605516568416 reached\n  warnings.warn(msg, RuntimeWarning)\n"
     ]
    },
    {
     "name": "stderr",
     "output_type": "stream",
     "text": [
      "/Users/Maxwell/anaconda/lib/python3.5/site-packages/scipy/optimize/zeros.py:173: RuntimeWarning: Tolerance of -2.73473584072e+13 reached\n  warnings.warn(msg, RuntimeWarning)\n"
     ]
    },
    {
     "name": "stderr",
     "output_type": "stream",
     "text": [
      "/Users/Maxwell/anaconda/lib/python3.5/site-packages/scipy/optimize/zeros.py:173: RuntimeWarning: Tolerance of -0.00219381260194 reached\n  warnings.warn(msg, RuntimeWarning)\n/Users/Maxwell/anaconda/lib/python3.5/site-packages/scipy/optimize/zeros.py:173: RuntimeWarning: Tolerance of -4.3511886288e-05 reached\n  warnings.warn(msg, RuntimeWarning)\n/Users/Maxwell/anaconda/lib/python3.5/site-packages/scipy/optimize/zeros.py:173: RuntimeWarning: Tolerance of -9.13514464928e+14 reached\n  warnings.warn(msg, RuntimeWarning)\n"
     ]
    },
    {
     "name": "stderr",
     "output_type": "stream",
     "text": [
      "/Users/Maxwell/anaconda/lib/python3.5/site-packages/scipy/optimize/zeros.py:173: RuntimeWarning: Tolerance of 12163446.5957 reached\n  warnings.warn(msg, RuntimeWarning)\n/Users/Maxwell/anaconda/lib/python3.5/site-packages/scipy/optimize/zeros.py:173: RuntimeWarning: Tolerance of 38209228369.4 reached\n  warnings.warn(msg, RuntimeWarning)\n/Users/Maxwell/anaconda/lib/python3.5/site-packages/scipy/optimize/zeros.py:173: RuntimeWarning: Tolerance of -499013843.19 reached\n  warnings.warn(msg, RuntimeWarning)\n"
     ]
    },
    {
     "name": "stderr",
     "output_type": "stream",
     "text": [
      "/Users/Maxwell/anaconda/lib/python3.5/site-packages/scipy/optimize/zeros.py:173: RuntimeWarning: Tolerance of 448415532.675 reached\n  warnings.warn(msg, RuntimeWarning)\n/Users/Maxwell/anaconda/lib/python3.5/site-packages/scipy/optimize/zeros.py:173: RuntimeWarning: Tolerance of -244.770847796 reached\n  warnings.warn(msg, RuntimeWarning)\n"
     ]
    },
    {
     "name": "stderr",
     "output_type": "stream",
     "text": [
      "/Users/Maxwell/anaconda/lib/python3.5/site-packages/scipy/optimize/zeros.py:173: RuntimeWarning: Tolerance of -41852.2839074 reached\n  warnings.warn(msg, RuntimeWarning)\n/Users/Maxwell/anaconda/lib/python3.5/site-packages/scipy/optimize/zeros.py:173: RuntimeWarning: Tolerance of -42757327708.9 reached\n  warnings.warn(msg, RuntimeWarning)\n/Users/Maxwell/anaconda/lib/python3.5/site-packages/scipy/optimize/zeros.py:173: RuntimeWarning: Tolerance of 0.00398725052048 reached\n  warnings.warn(msg, RuntimeWarning)\n"
     ]
    },
    {
     "name": "stderr",
     "output_type": "stream",
     "text": [
      "/Users/Maxwell/anaconda/lib/python3.5/site-packages/scipy/optimize/zeros.py:173: RuntimeWarning: Tolerance of 50589.0793399 reached\n  warnings.warn(msg, RuntimeWarning)\n/Users/Maxwell/anaconda/lib/python3.5/site-packages/scipy/optimize/zeros.py:173: RuntimeWarning: Tolerance of -1765.40165702 reached\n  warnings.warn(msg, RuntimeWarning)\n/Users/Maxwell/anaconda/lib/python3.5/site-packages/scipy/optimize/zeros.py:173: RuntimeWarning: Tolerance of 385726.878727 reached\n  warnings.warn(msg, RuntimeWarning)\n/Users/Maxwell/anaconda/lib/python3.5/site-packages/scipy/optimize/zeros.py:173: RuntimeWarning: Tolerance of -177.140296262 reached\n  warnings.warn(msg, RuntimeWarning)\n/Users/Maxwell/anaconda/lib/python3.5/site-packages/scipy/optimize/zeros.py:173: RuntimeWarning: Tolerance of 52753266236.8 reached\n  warnings.warn(msg, RuntimeWarning)\n/Users/Maxwell/anaconda/lib/python3.5/site-packages/scipy/optimize/zeros.py:173: RuntimeWarning: Tolerance of -21375604227.1 reached\n  warnings.warn(msg, RuntimeWarning)\n/Users/Maxwell/anaconda/lib/python3.5/site-packages/scipy/optimize/zeros.py:173: RuntimeWarning: Tolerance of -0.00157758562563 reached\n  warnings.warn(msg, RuntimeWarning)\n"
     ]
    },
    {
     "name": "stderr",
     "output_type": "stream",
     "text": [
      "/Users/Maxwell/anaconda/lib/python3.5/site-packages/scipy/optimize/zeros.py:173: RuntimeWarning: Tolerance of -0.00354550691571 reached\n  warnings.warn(msg, RuntimeWarning)\n/Users/Maxwell/anaconda/lib/python3.5/site-packages/scipy/optimize/zeros.py:173: RuntimeWarning: Tolerance of 10184488317.7 reached\n  warnings.warn(msg, RuntimeWarning)\n"
     ]
    },
    {
     "name": "stderr",
     "output_type": "stream",
     "text": [
      "/Users/Maxwell/anaconda/lib/python3.5/site-packages/scipy/optimize/zeros.py:173: RuntimeWarning: Tolerance of -0.0117091067058 reached\n  warnings.warn(msg, RuntimeWarning)\n/Users/Maxwell/anaconda/lib/python3.5/site-packages/scipy/optimize/zeros.py:173: RuntimeWarning: Tolerance of -0.002254967753 reached\n  warnings.warn(msg, RuntimeWarning)\n"
     ]
    },
    {
     "name": "stdout",
     "output_type": "stream",
     "text": [
      "This is the test result for initial point sigma 1.50, initial iteration 10 times:\n                Accuracy Time(hh:mm:ss)\nbrentq           4.30646      00:04.876\nbrenth           4.30646      00:04.820\nridder           4.30646      00:06.723\nscipy_newton     4.12278      00:03.092\nbisection        4.23352      00:22.072\nmullerBisection  4.23223      00:23.435\nnewton           4.07301      00:07.274\nhalley           3.56188      00:01.958\nnew_newton       4.17319      00:22.487\nnew_halley       4.24043      00:22.847\n\n\n"
     ]
    },
    {
     "name": "stderr",
     "output_type": "stream",
     "text": [
      "/Users/Maxwell/anaconda/lib/python3.5/site-packages/scipy/optimize/zeros.py:173: RuntimeWarning: Tolerance of -0.00578489594169 reached\n  warnings.warn(msg, RuntimeWarning)\n"
     ]
    },
    {
     "name": "stderr",
     "output_type": "stream",
     "text": [
      "/Users/Maxwell/anaconda/lib/python3.5/site-packages/scipy/optimize/zeros.py:173: RuntimeWarning: Tolerance of -0.00145182774427 reached\n  warnings.warn(msg, RuntimeWarning)\n/Users/Maxwell/anaconda/lib/python3.5/site-packages/scipy/optimize/zeros.py:173: RuntimeWarning: Tolerance of -0.000374648302569 reached\n  warnings.warn(msg, RuntimeWarning)\n/Users/Maxwell/anaconda/lib/python3.5/site-packages/scipy/optimize/zeros.py:173: RuntimeWarning: Tolerance of -0.00259964809779 reached\n  warnings.warn(msg, RuntimeWarning)\n/Users/Maxwell/anaconda/lib/python3.5/site-packages/scipy/optimize/zeros.py:173: RuntimeWarning: Tolerance of 870019.539598 reached\n  warnings.warn(msg, RuntimeWarning)\n/Users/Maxwell/anaconda/lib/python3.5/site-packages/scipy/optimize/zeros.py:173: RuntimeWarning: Tolerance of -0.00235160800279 reached\n  warnings.warn(msg, RuntimeWarning)\n"
     ]
    },
    {
     "name": "stderr",
     "output_type": "stream",
     "text": [
      "/Users/Maxwell/anaconda/lib/python3.5/site-packages/scipy/optimize/zeros.py:173: RuntimeWarning: Tolerance of -0.00475232211222 reached\n  warnings.warn(msg, RuntimeWarning)\n/Users/Maxwell/anaconda/lib/python3.5/site-packages/scipy/optimize/zeros.py:173: RuntimeWarning: Tolerance of 262695.970302 reached\n  warnings.warn(msg, RuntimeWarning)\n"
     ]
    },
    {
     "name": "stderr",
     "output_type": "stream",
     "text": [
      "/Users/Maxwell/anaconda/lib/python3.5/site-packages/scipy/optimize/zeros.py:173: RuntimeWarning: Tolerance of -0.0257743880366 reached\n  warnings.warn(msg, RuntimeWarning)\n/Users/Maxwell/anaconda/lib/python3.5/site-packages/scipy/optimize/zeros.py:173: RuntimeWarning: Tolerance of -1969.45765754 reached\n  warnings.warn(msg, RuntimeWarning)\n/Users/Maxwell/anaconda/lib/python3.5/site-packages/scipy/optimize/zeros.py:173: RuntimeWarning: Tolerance of -43.2195022154 reached\n  warnings.warn(msg, RuntimeWarning)\n/Users/Maxwell/anaconda/lib/python3.5/site-packages/scipy/optimize/zeros.py:173: RuntimeWarning: Tolerance of -8570.34792496 reached\n  warnings.warn(msg, RuntimeWarning)\n/Users/Maxwell/anaconda/lib/python3.5/site-packages/scipy/optimize/zeros.py:173: RuntimeWarning: Tolerance of -0.00683043299641 reached\n  warnings.warn(msg, RuntimeWarning)\n/Users/Maxwell/anaconda/lib/python3.5/site-packages/scipy/optimize/zeros.py:173: RuntimeWarning: Tolerance of 12737829890.3 reached\n  warnings.warn(msg, RuntimeWarning)\n/Users/Maxwell/anaconda/lib/python3.5/site-packages/scipy/optimize/zeros.py:173: RuntimeWarning: Tolerance of -0.00036746049966 reached\n  warnings.warn(msg, RuntimeWarning)\n/Users/Maxwell/anaconda/lib/python3.5/site-packages/scipy/optimize/zeros.py:173: RuntimeWarning: Tolerance of -0.00487648892873 reached\n  warnings.warn(msg, RuntimeWarning)\n/Users/Maxwell/anaconda/lib/python3.5/site-packages/scipy/optimize/zeros.py:173: RuntimeWarning: Tolerance of -0.000455026848668 reached\n  warnings.warn(msg, RuntimeWarning)\n/Users/Maxwell/anaconda/lib/python3.5/site-packages/scipy/optimize/zeros.py:173: RuntimeWarning: Tolerance of -0.000950175001836 reached\n  warnings.warn(msg, RuntimeWarning)\n/Users/Maxwell/anaconda/lib/python3.5/site-packages/scipy/optimize/zeros.py:173: RuntimeWarning: Tolerance of -488.630895299 reached\n  warnings.warn(msg, RuntimeWarning)\n/Users/Maxwell/anaconda/lib/python3.5/site-packages/scipy/optimize/zeros.py:173: RuntimeWarning: Tolerance of 619.050447712 reached\n  warnings.warn(msg, RuntimeWarning)\n"
     ]
    },
    {
     "name": "stderr",
     "output_type": "stream",
     "text": [
      "/Users/Maxwell/anaconda/lib/python3.5/site-packages/scipy/optimize/zeros.py:173: RuntimeWarning: Tolerance of 687.627366992 reached\n  warnings.warn(msg, RuntimeWarning)\n"
     ]
    },
    {
     "name": "stderr",
     "output_type": "stream",
     "text": [
      "/Users/Maxwell/anaconda/lib/python3.5/site-packages/scipy/optimize/zeros.py:173: RuntimeWarning: Tolerance of 7.23255298613e+13 reached\n  warnings.warn(msg, RuntimeWarning)\n/Users/Maxwell/anaconda/lib/python3.5/site-packages/scipy/optimize/zeros.py:173: RuntimeWarning: Tolerance of -0.000650129981909 reached\n  warnings.warn(msg, RuntimeWarning)\n/Users/Maxwell/anaconda/lib/python3.5/site-packages/scipy/optimize/zeros.py:173: RuntimeWarning: Tolerance of 2879801.44471 reached\n  warnings.warn(msg, RuntimeWarning)\n"
     ]
    },
    {
     "name": "stderr",
     "output_type": "stream",
     "text": [
      "/Users/Maxwell/anaconda/lib/python3.5/site-packages/scipy/optimize/zeros.py:173: RuntimeWarning: Tolerance of 2717301.29159 reached\n  warnings.warn(msg, RuntimeWarning)\n/Users/Maxwell/anaconda/lib/python3.5/site-packages/scipy/optimize/zeros.py:173: RuntimeWarning: Tolerance of -0.00739287699571 reached\n  warnings.warn(msg, RuntimeWarning)\n/Users/Maxwell/anaconda/lib/python3.5/site-packages/scipy/optimize/zeros.py:173: RuntimeWarning: Tolerance of -0.00176945571858 reached\n  warnings.warn(msg, RuntimeWarning)\n"
     ]
    },
    {
     "name": "stderr",
     "output_type": "stream",
     "text": [
      "/Users/Maxwell/anaconda/lib/python3.5/site-packages/scipy/optimize/zeros.py:173: RuntimeWarning: Tolerance of -181.893269429 reached\n  warnings.warn(msg, RuntimeWarning)\n/Users/Maxwell/anaconda/lib/python3.5/site-packages/scipy/optimize/zeros.py:173: RuntimeWarning: Tolerance of -0.00339261727868 reached\n  warnings.warn(msg, RuntimeWarning)\n"
     ]
    },
    {
     "name": "stderr",
     "output_type": "stream",
     "text": [
      "/Users/Maxwell/anaconda/lib/python3.5/site-packages/scipy/optimize/zeros.py:173: RuntimeWarning: Tolerance of 25420.38511 reached\n  warnings.warn(msg, RuntimeWarning)\n"
     ]
    },
    {
     "name": "stderr",
     "output_type": "stream",
     "text": [
      "/Users/Maxwell/anaconda/lib/python3.5/site-packages/scipy/optimize/zeros.py:173: RuntimeWarning: Tolerance of 62655.4212323 reached\n  warnings.warn(msg, RuntimeWarning)\n/Users/Maxwell/anaconda/lib/python3.5/site-packages/scipy/optimize/zeros.py:173: RuntimeWarning: Tolerance of -0.00588690621404 reached\n  warnings.warn(msg, RuntimeWarning)\n/Users/Maxwell/anaconda/lib/python3.5/site-packages/scipy/optimize/zeros.py:173: RuntimeWarning: Tolerance of -3.05893869404e+17 reached\n  warnings.warn(msg, RuntimeWarning)\n/Users/Maxwell/anaconda/lib/python3.5/site-packages/scipy/optimize/zeros.py:173: RuntimeWarning: Tolerance of -215.477787733 reached\n  warnings.warn(msg, RuntimeWarning)\n/Users/Maxwell/anaconda/lib/python3.5/site-packages/scipy/optimize/zeros.py:173: RuntimeWarning: Tolerance of 338209464145.0 reached\n  warnings.warn(msg, RuntimeWarning)\n/Users/Maxwell/anaconda/lib/python3.5/site-packages/scipy/optimize/zeros.py:173: RuntimeWarning: Tolerance of -469.258002546 reached\n  warnings.warn(msg, RuntimeWarning)\n/Users/Maxwell/anaconda/lib/python3.5/site-packages/scipy/optimize/zeros.py:173: RuntimeWarning: Tolerance of -0.00155573838512 reached\n  warnings.warn(msg, RuntimeWarning)\n"
     ]
    },
    {
     "name": "stderr",
     "output_type": "stream",
     "text": [
      "/Users/Maxwell/anaconda/lib/python3.5/site-packages/scipy/optimize/zeros.py:173: RuntimeWarning: Tolerance of -0.000746037880526 reached\n  warnings.warn(msg, RuntimeWarning)\n/Users/Maxwell/anaconda/lib/python3.5/site-packages/scipy/optimize/zeros.py:173: RuntimeWarning: Tolerance of -0.000366334955399 reached\n  warnings.warn(msg, RuntimeWarning)\n"
     ]
    },
    {
     "name": "stderr",
     "output_type": "stream",
     "text": [
      "/Users/Maxwell/anaconda/lib/python3.5/site-packages/scipy/optimize/zeros.py:173: RuntimeWarning: Tolerance of -1659.42334933 reached\n  warnings.warn(msg, RuntimeWarning)\n/Users/Maxwell/anaconda/lib/python3.5/site-packages/scipy/optimize/zeros.py:173: RuntimeWarning: Tolerance of 6696672.53643 reached\n  warnings.warn(msg, RuntimeWarning)\n"
     ]
    },
    {
     "name": "stdout",
     "output_type": "stream",
     "text": [
      "This is the test result for initial point sigma 1.70, initial iteration 10 times:\n                Accuracy Time(hh:mm:ss)\nbrentq           4.30646      00:04.915\nbrenth           4.30646      00:04.847\nridder           4.30646      00:06.630\nscipy_newton     4.17953      00:03.083\nbisection        4.23352      00:22.878\nmullerBisection  4.23223      00:24.489\nnewton           3.53386      00:03.067\nhalley           3.40933      00:02.018\nnew_newton       4.17319      00:23.555\nnew_halley       4.24043      00:23.779\n\n\n"
     ]
    },
    {
     "name": "stderr",
     "output_type": "stream",
     "text": [
      "/Users/Maxwell/anaconda/lib/python3.5/site-packages/scipy/optimize/zeros.py:173: RuntimeWarning: Tolerance of -4679649928.1 reached\n  warnings.warn(msg, RuntimeWarning)\n"
     ]
    },
    {
     "name": "stderr",
     "output_type": "stream",
     "text": [
      "/Users/Maxwell/anaconda/lib/python3.5/site-packages/scipy/optimize/zeros.py:173: RuntimeWarning: Tolerance of -0.00158392585457 reached\n  warnings.warn(msg, RuntimeWarning)\n/Users/Maxwell/anaconda/lib/python3.5/site-packages/scipy/optimize/zeros.py:173: RuntimeWarning: Tolerance of 61232334.1456 reached\n  warnings.warn(msg, RuntimeWarning)\n/Users/Maxwell/anaconda/lib/python3.5/site-packages/scipy/optimize/zeros.py:173: RuntimeWarning: Tolerance of 1987290288.09 reached\n  warnings.warn(msg, RuntimeWarning)\n/Users/Maxwell/anaconda/lib/python3.5/site-packages/scipy/optimize/zeros.py:173: RuntimeWarning: Tolerance of 1403714.99011 reached\n  warnings.warn(msg, RuntimeWarning)\n/Users/Maxwell/anaconda/lib/python3.5/site-packages/scipy/optimize/zeros.py:173: RuntimeWarning: Tolerance of -0.00249431612562 reached\n  warnings.warn(msg, RuntimeWarning)\n"
     ]
    },
    {
     "name": "stderr",
     "output_type": "stream",
     "text": [
      "/Users/Maxwell/anaconda/lib/python3.5/site-packages/scipy/optimize/zeros.py:173: RuntimeWarning: Tolerance of 297928.588004 reached\n  warnings.warn(msg, RuntimeWarning)\n/Users/Maxwell/anaconda/lib/python3.5/site-packages/scipy/optimize/zeros.py:173: RuntimeWarning: Tolerance of -26424024.6092 reached\n  warnings.warn(msg, RuntimeWarning)\n"
     ]
    },
    {
     "name": "stderr",
     "output_type": "stream",
     "text": [
      "/Users/Maxwell/anaconda/lib/python3.5/site-packages/scipy/optimize/zeros.py:173: RuntimeWarning: Tolerance of -11253.3680848 reached\n  warnings.warn(msg, RuntimeWarning)\n/Users/Maxwell/anaconda/lib/python3.5/site-packages/scipy/optimize/zeros.py:173: RuntimeWarning: Tolerance of 381.271727698 reached\n  warnings.warn(msg, RuntimeWarning)\n/Users/Maxwell/anaconda/lib/python3.5/site-packages/scipy/optimize/zeros.py:173: RuntimeWarning: Tolerance of -0.00695847880299 reached\n  warnings.warn(msg, RuntimeWarning)\n/Users/Maxwell/anaconda/lib/python3.5/site-packages/scipy/optimize/zeros.py:173: RuntimeWarning: Tolerance of -0.0196554690179 reached\n  warnings.warn(msg, RuntimeWarning)\n/Users/Maxwell/anaconda/lib/python3.5/site-packages/scipy/optimize/zeros.py:173: RuntimeWarning: Tolerance of -0.0196651276512 reached\n  warnings.warn(msg, RuntimeWarning)\n/Users/Maxwell/anaconda/lib/python3.5/site-packages/scipy/optimize/zeros.py:173: RuntimeWarning: Tolerance of 1773786.30088 reached\n  warnings.warn(msg, RuntimeWarning)\n/Users/Maxwell/anaconda/lib/python3.5/site-packages/scipy/optimize/zeros.py:173: RuntimeWarning: Tolerance of -24238.8351305 reached\n  warnings.warn(msg, RuntimeWarning)\n/Users/Maxwell/anaconda/lib/python3.5/site-packages/scipy/optimize/zeros.py:173: RuntimeWarning: Tolerance of 11367543475.9 reached\n  warnings.warn(msg, RuntimeWarning)\n/Users/Maxwell/anaconda/lib/python3.5/site-packages/scipy/optimize/zeros.py:173: RuntimeWarning: Tolerance of 6366060.17151 reached\n  warnings.warn(msg, RuntimeWarning)\n/Users/Maxwell/anaconda/lib/python3.5/site-packages/scipy/optimize/zeros.py:173: RuntimeWarning: Tolerance of -0.00656634066978 reached\n  warnings.warn(msg, RuntimeWarning)\n"
     ]
    },
    {
     "name": "stderr",
     "output_type": "stream",
     "text": [
      "/Users/Maxwell/anaconda/lib/python3.5/site-packages/scipy/optimize/zeros.py:173: RuntimeWarning: Tolerance of -60.760941458 reached\n  warnings.warn(msg, RuntimeWarning)\n"
     ]
    },
    {
     "name": "stderr",
     "output_type": "stream",
     "text": [
      "/Users/Maxwell/anaconda/lib/python3.5/site-packages/scipy/optimize/zeros.py:173: RuntimeWarning: Tolerance of -0.0209259759761 reached\n  warnings.warn(msg, RuntimeWarning)\n/Users/Maxwell/anaconda/lib/python3.5/site-packages/scipy/optimize/zeros.py:173: RuntimeWarning: Tolerance of -0.00607654409112 reached\n  warnings.warn(msg, RuntimeWarning)\n/Users/Maxwell/anaconda/lib/python3.5/site-packages/scipy/optimize/zeros.py:173: RuntimeWarning: Tolerance of 169558600.818 reached\n  warnings.warn(msg, RuntimeWarning)\n"
     ]
    },
    {
     "name": "stderr",
     "output_type": "stream",
     "text": [
      "/Users/Maxwell/anaconda/lib/python3.5/site-packages/scipy/optimize/zeros.py:173: RuntimeWarning: Tolerance of -800313364.734 reached\n  warnings.warn(msg, RuntimeWarning)\n/Users/Maxwell/anaconda/lib/python3.5/site-packages/scipy/optimize/zeros.py:173: RuntimeWarning: Tolerance of 339318822.888 reached\n  warnings.warn(msg, RuntimeWarning)\n/Users/Maxwell/anaconda/lib/python3.5/site-packages/scipy/optimize/zeros.py:173: RuntimeWarning: Tolerance of -10082.8784932 reached\n  warnings.warn(msg, RuntimeWarning)\n"
     ]
    },
    {
     "name": "stderr",
     "output_type": "stream",
     "text": [
      "/Users/Maxwell/anaconda/lib/python3.5/site-packages/scipy/optimize/zeros.py:173: RuntimeWarning: Tolerance of 16964777530.5 reached\n  warnings.warn(msg, RuntimeWarning)\n/Users/Maxwell/anaconda/lib/python3.5/site-packages/scipy/optimize/zeros.py:173: RuntimeWarning: Tolerance of -0.000590170418741 reached\n  warnings.warn(msg, RuntimeWarning)\n"
     ]
    },
    {
     "name": "stderr",
     "output_type": "stream",
     "text": [
      "/Users/Maxwell/anaconda/lib/python3.5/site-packages/scipy/optimize/zeros.py:173: RuntimeWarning: Tolerance of -265050453736.0 reached\n  warnings.warn(msg, RuntimeWarning)\n/Users/Maxwell/anaconda/lib/python3.5/site-packages/scipy/optimize/zeros.py:173: RuntimeWarning: Tolerance of -1356.85594484 reached\n  warnings.warn(msg, RuntimeWarning)\n"
     ]
    },
    {
     "name": "stderr",
     "output_type": "stream",
     "text": [
      "/Users/Maxwell/anaconda/lib/python3.5/site-packages/scipy/optimize/zeros.py:173: RuntimeWarning: Tolerance of -0.000754670167486 reached\n  warnings.warn(msg, RuntimeWarning)\n/Users/Maxwell/anaconda/lib/python3.5/site-packages/scipy/optimize/zeros.py:173: RuntimeWarning: Tolerance of 278438501.8 reached\n  warnings.warn(msg, RuntimeWarning)\n/Users/Maxwell/anaconda/lib/python3.5/site-packages/scipy/optimize/zeros.py:173: RuntimeWarning: Tolerance of 185328.133761 reached\n  warnings.warn(msg, RuntimeWarning)\n/Users/Maxwell/anaconda/lib/python3.5/site-packages/scipy/optimize/zeros.py:173: RuntimeWarning: Tolerance of -0.000722280421811 reached\n  warnings.warn(msg, RuntimeWarning)\n/Users/Maxwell/anaconda/lib/python3.5/site-packages/scipy/optimize/zeros.py:173: RuntimeWarning: Tolerance of -0.00107462421423 reached\n  warnings.warn(msg, RuntimeWarning)\n/Users/Maxwell/anaconda/lib/python3.5/site-packages/scipy/optimize/zeros.py:173: RuntimeWarning: Tolerance of -1130916200.61 reached\n  warnings.warn(msg, RuntimeWarning)\n/Users/Maxwell/anaconda/lib/python3.5/site-packages/scipy/optimize/zeros.py:173: RuntimeWarning: Tolerance of -0.0148293965326 reached\n  warnings.warn(msg, RuntimeWarning)\n"
     ]
    },
    {
     "name": "stderr",
     "output_type": "stream",
     "text": [
      "/Users/Maxwell/anaconda/lib/python3.5/site-packages/scipy/optimize/zeros.py:173: RuntimeWarning: Tolerance of 124057526514.0 reached\n  warnings.warn(msg, RuntimeWarning)\n/Users/Maxwell/anaconda/lib/python3.5/site-packages/scipy/optimize/zeros.py:173: RuntimeWarning: Tolerance of 62524812.083 reached\n  warnings.warn(msg, RuntimeWarning)\n/Users/Maxwell/anaconda/lib/python3.5/site-packages/scipy/optimize/zeros.py:173: RuntimeWarning: Tolerance of -162687.059345 reached\n  warnings.warn(msg, RuntimeWarning)\n"
     ]
    },
    {
     "name": "stderr",
     "output_type": "stream",
     "text": [
      "/Users/Maxwell/anaconda/lib/python3.5/site-packages/scipy/optimize/zeros.py:173: RuntimeWarning: Tolerance of -0.0109715693248 reached\n  warnings.warn(msg, RuntimeWarning)\n/Users/Maxwell/anaconda/lib/python3.5/site-packages/scipy/optimize/zeros.py:173: RuntimeWarning: Tolerance of -0.0031000483171 reached\n  warnings.warn(msg, RuntimeWarning)\n"
     ]
    },
    {
     "name": "stdout",
     "output_type": "stream",
     "text": [
      "This is the test result for initial point sigma 2.00, initial iteration 10 times:\n                Accuracy Time(hh:mm:ss)\nbrentq           4.30646      00:05.077\nbrenth           4.30646      00:05.075\nridder           4.30646      00:06.678\nscipy_newton     4.11627      00:03.139\nbisection        4.23352      00:22.198\nmullerBisection  4.23223      00:23.214\nnewton            3.3724      00:04.833\nhalley             3.136      00:01.933\nnew_newton       4.17319      00:22.346\nnew_halley       4.24043      00:22.943\n\n\n"
     ]
    },
    {
     "name": "stdout",
     "output_type": "stream",
     "text": [
      "This is the test result for initial point sigma 0.30, initial iteration 100 times:\n                Accuracy Time(hh:mm:ss)\nbrentq           4.30646      00:04.860\nbrenth           4.30646      00:04.841\nridder           4.30646      00:06.727\nscipy_newton     4.14998      00:02.720\nbisection        4.23352      00:21.972\nmullerBisection  4.23223      00:23.400\nnewton           4.07488      00:03.519\nhalley           4.22647      00:01.932\nnew_newton       4.17311      00:23.643\nnew_halley       4.24037      00:30.169\n\n\n"
     ]
    },
    {
     "name": "stdout",
     "output_type": "stream",
     "text": [
      "This is the test result for initial point sigma 0.50, initial iteration 100 times:\n                Accuracy Time(hh:mm:ss)\nbrentq           4.30646      00:05.150\nbrenth           4.30646      00:05.545\nridder           4.30646      00:07.280\nscipy_newton     4.11276      00:02.970\nbisection        4.23352      00:23.681\nmullerBisection  4.23223      00:27.315\nnewton           4.11989      00:06.479\nhalley           3.93286      00:01.979\nnew_newton       4.17311      00:25.654\nnew_halley       4.24037      00:26.059\n\n\n"
     ]
    },
    {
     "name": "stdout",
     "output_type": "stream",
     "text": [
      "This is the test result for initial point sigma 0.70, initial iteration 100 times:\n                Accuracy Time(hh:mm:ss)\nbrentq           4.30646      00:05.680\nbrenth           4.30646      00:05.500\nridder           4.30646      00:07.560\nscipy_newton     4.12553      00:03.022\nbisection        4.23352      00:23.281\nmullerBisection  4.23223      00:26.615\nnewton           4.19757      00:04.002\nhalley            3.7735      00:02.190\nnew_newton       4.17311      00:25.851\nnew_halley       4.24037      00:26.825\n\n\n"
     ]
    },
    {
     "name": "stdout",
     "output_type": "stream",
     "text": [
      "This is the test result for initial point sigma 1.00, initial iteration 100 times:\n                Accuracy Time(hh:mm:ss)\nbrentq           4.30646      00:05.715\nbrenth           4.30646      00:05.765\nridder           4.30646      00:07.919\nscipy_newton     4.13935      00:03.519\nbisection        4.23352      00:25.517\nmullerBisection  4.23223      00:26.290\nnewton           4.12668      00:03.636\nhalley           3.64457      00:02.099\nnew_newton       4.17311      00:25.591\nnew_halley       4.24037      00:26.361\n\n\n"
     ]
    },
    {
     "name": "stdout",
     "output_type": "stream",
     "text": [
      "This is the test result for initial point sigma 1.50, initial iteration 100 times:\n                Accuracy Time(hh:mm:ss)\nbrentq           4.30646      00:05.515\nbrenth           4.30646      00:05.543\nridder           4.30646      00:06.983\nscipy_newton     4.12278      00:03.157\nbisection        4.23352      00:23.553\nmullerBisection  4.23223      00:25.066\nnewton           4.07301      00:08.165\nhalley           3.56188      00:02.151\nnew_newton       4.17311      00:26.705\nnew_halley       4.24037      00:26.389\n\n\n"
     ]
    },
    {
     "name": "stdout",
     "output_type": "stream",
     "text": [
      "This is the test result for initial point sigma 1.70, initial iteration 100 times:\n                Accuracy Time(hh:mm:ss)\nbrentq           4.30646      00:07.492\nbrenth           4.30646      00:05.382\nridder           4.30646      00:07.665\nscipy_newton     4.17953      00:03.398\nbisection        4.23352      00:24.152\nmullerBisection  4.23223      00:25.821\nnewton           3.53386      00:03.155\nhalley           3.40933      00:01.958\nnew_newton       4.17311      00:26.178\nnew_halley       4.24037      00:26.715\n\n\n"
     ]
    },
    {
     "name": "stdout",
     "output_type": "stream",
     "text": [
      "This is the test result for initial point sigma 2.00, initial iteration 100 times:\n                Accuracy Time(hh:mm:ss)\nbrentq           4.30646      00:05.732\nbrenth           4.30646      00:05.321\nridder           4.30646      00:07.359\nscipy_newton     4.11627      00:03.348\nbisection        4.23352      00:22.764\nmullerBisection  4.23223      00:25.299\nnewton            3.3724      00:05.207\nhalley             3.136      00:02.081\nnew_newton       4.17311      00:25.317\nnew_halley       4.24037      00:25.770\n\n\n"
     ]
    },
    {
     "name": "stdout",
     "output_type": "stream",
     "text": [
      "This is the test result for initial point sigma 0.30, initial iteration 500 times:\n                Accuracy Time(hh:mm:ss)\nbrentq           4.30646      00:04.852\nbrenth           4.30646      00:04.801\nridder           4.30646      00:06.704\nscipy_newton     4.14998      00:02.733\nbisection        4.23352      00:22.248\nmullerBisection  4.23223      00:23.402\nnewton           4.07488      00:03.546\nhalley           4.22647      00:01.954\nnew_newton       4.17311      00:23.868\nnew_halley       4.24037      00:24.331\n\n\n"
     ]
    },
    {
     "name": "stdout",
     "output_type": "stream",
     "text": [
      "This is the test result for initial point sigma 0.50, initial iteration 500 times:\n                Accuracy Time(hh:mm:ss)\nbrentq           4.30646      00:04.849\nbrenth           4.30646      00:04.813\nridder           4.30646      00:06.692\nscipy_newton     4.11276      00:02.850\nbisection        4.23352      00:22.085\nmullerBisection  4.23223      00:23.479\nnewton           4.11989      00:05.763\nhalley           3.93286      00:01.948\nnew_newton       4.17311      00:23.801\nnew_halley       4.24037      00:24.552\n\n\n"
     ]
    },
    {
     "name": "stdout",
     "output_type": "stream",
     "text": [
      "This is the test result for initial point sigma 0.70, initial iteration 500 times:\n                Accuracy Time(hh:mm:ss)\nbrentq           4.30646      00:04.863\nbrenth           4.30646      00:04.829\nridder           4.30646      00:06.696\nscipy_newton     4.12553      00:02.933\nbisection        4.23352      00:22.184\nmullerBisection  4.23223      00:23.566\nnewton           4.19757      00:03.582\nhalley            3.7735      00:01.925\nnew_newton       4.17311      00:24.088\nnew_halley       4.24037      00:24.887\n\n\n"
     ]
    },
    {
     "name": "stdout",
     "output_type": "stream",
     "text": [
      "This is the test result for initial point sigma 1.00, initial iteration 500 times:\n                Accuracy Time(hh:mm:ss)\nbrentq           4.30646      00:04.897\nbrenth           4.30646      00:04.812\nridder           4.30646      00:06.695\nscipy_newton     4.13935      00:02.965\nbisection        4.23352      00:22.723\nmullerBisection  4.23223      00:23.233\nnewton           4.12668      00:03.355\nhalley           3.64457      00:01.962\nnew_newton       4.17311      00:26.810\nnew_halley       4.24037      00:25.862\n\n\n"
     ]
    },
    {
     "name": "stdout",
     "output_type": "stream",
     "text": [
      "This is the test result for initial point sigma 1.50, initial iteration 500 times:\n                Accuracy Time(hh:mm:ss)\nbrentq           4.30646      00:05.131\nbrenth           4.30646      00:05.257\nridder           4.30646      00:06.871\nscipy_newton     4.12278      00:03.055\nbisection        4.23352      00:22.104\nmullerBisection  4.23223      00:24.013\nnewton           4.07301      00:07.492\nhalley           3.56188      00:01.996\nnew_newton       4.17311      00:25.723\nnew_halley       4.24037      00:28.216\n\n\n"
     ]
    },
    {
     "name": "stdout",
     "output_type": "stream",
     "text": [
      "This is the test result for initial point sigma 1.70, initial iteration 500 times:\n                Accuracy Time(hh:mm:ss)\nbrentq           4.30646      00:05.654\nbrenth           4.30646      00:05.608\nridder           4.30646      00:07.830\nscipy_newton     4.17953      00:03.513\nbisection        4.23352      00:24.768\nmullerBisection  4.23223      00:26.558\nnewton           3.53386      00:03.389\nhalley           3.40933      00:02.179\nnew_newton       4.17311      00:27.294\nnew_halley       4.24037      00:28.053\n\n\n"
     ]
    },
    {
     "name": "stdout",
     "output_type": "stream",
     "text": [
      "This is the test result for initial point sigma 2.00, initial iteration 500 times:\n                Accuracy Time(hh:mm:ss)\nbrentq           4.30646      00:05.666\nbrenth           4.30646      00:05.668\nridder           4.30646      00:07.764\nscipy_newton     4.11627      00:03.449\nbisection        4.23352      00:25.376\nmullerBisection  4.23223      00:26.743\nnewton            3.3724      00:05.264\nhalley             3.136      00:02.067\nnew_newton       4.17311      00:27.546\nnew_halley       4.24037      00:28.040\n\n\n"
     ]
    },
    {
     "name": "stdout",
     "output_type": "stream",
     "text": [
      "This is the test result for initial point sigma 0.30, initial iteration 1000 times:\n                Accuracy Time(hh:mm:ss)\nbrentq           4.30646      00:05.566\nbrenth           4.30646      00:05.591\nridder           4.30646      00:07.811\nscipy_newton     4.14998      00:03.092\nbisection        4.23352      00:25.447\nmullerBisection  4.23223      00:26.473\nnewton           4.07488      00:04.101\nhalley           4.22647      00:02.298\nnew_newton       4.17311      00:28.836\nnew_halley       4.24037      00:28.684\n\n\n"
     ]
    },
    {
     "name": "stdout",
     "output_type": "stream",
     "text": [
      "This is the test result for initial point sigma 0.50, initial iteration 1000 times:\n                Accuracy Time(hh:mm:ss)\nbrentq           4.30646      00:05.886\nbrenth           4.30646      00:05.731\nridder           4.30646      00:08.195\nscipy_newton     4.11276      00:03.361\nbisection        4.23352      00:25.740\nmullerBisection  4.23223      00:26.584\nnewton           4.11989      00:06.906\nhalley           3.93286      00:02.207\nnew_newton       4.17311      00:27.715\nnew_halley       4.24037      00:29.529\n\n\n"
     ]
    },
    {
     "name": "stdout",
     "output_type": "stream",
     "text": [
      "This is the test result for initial point sigma 0.70, initial iteration 1000 times:\n                Accuracy Time(hh:mm:ss)\nbrentq           4.30646      00:05.983\nbrenth           4.30646      00:06.053\nridder           4.30646      00:08.289\nscipy_newton     4.12553      00:03.420\nbisection        4.23352      00:26.674\nmullerBisection  4.23223      00:27.483\nnewton           4.19757      00:04.474\nhalley            3.7735      00:02.368\nnew_newton       4.17311      00:28.662\nnew_halley       4.24037      00:29.801\n\n\n"
     ]
    },
    {
     "name": "stdout",
     "output_type": "stream",
     "text": [
      "This is the test result for initial point sigma 1.00, initial iteration 1000 times:\n                Accuracy Time(hh:mm:ss)\nbrentq           4.30646      00:05.933\nbrenth           4.30646      00:05.904\nridder           4.30646      00:07.923\nscipy_newton     4.13935      00:03.512\nbisection        4.23352      00:26.367\nmullerBisection  4.23223      00:27.145\nnewton           4.12668      00:03.666\nhalley           3.64457      00:02.096\nnew_newton       4.17311      00:26.873\nnew_halley       4.24037      00:27.211\n\n\n"
     ]
    },
    {
     "name": "stdout",
     "output_type": "stream",
     "text": [
      "This is the test result for initial point sigma 1.50, initial iteration 1000 times:\n                Accuracy Time(hh:mm:ss)\nbrentq           4.30646      00:05.913\nbrenth           4.30646      00:05.987\nridder           4.30646      00:08.026\nscipy_newton     4.12278      00:03.625\nbisection        4.23352      00:24.803\nmullerBisection  4.23223      00:27.869\nnewton           4.07301      00:08.508\nhalley           3.56188      00:02.275\nnew_newton       4.17311      00:29.000\nnew_halley       4.24037      00:29.005\n\n\n"
     ]
    },
    {
     "name": "stdout",
     "output_type": "stream",
     "text": [
      "This is the test result for initial point sigma 1.70, initial iteration 1000 times:\n                Accuracy Time(hh:mm:ss)\nbrentq           4.30646      00:06.115\nbrenth           4.30646      00:06.030\nridder           4.30646      00:08.399\nscipy_newton     4.17953      00:03.727\nbisection        4.23352      00:26.398\nmullerBisection  4.23223      00:28.327\nnewton           3.53386      00:03.611\nhalley           3.40933      00:02.379\nnew_newton       4.17311      00:29.111\nnew_halley       4.24037      00:29.262\n\n\n"
     ]
    },
    {
     "name": "stdout",
     "output_type": "stream",
     "text": [
      "This is the test result for initial point sigma 2.00, initial iteration 1000 times:\n                Accuracy Time(hh:mm:ss)\nbrentq           4.30646      00:05.800\nbrenth           4.30646      00:05.811\nridder           4.30646      00:08.012\nscipy_newton     4.11627      00:03.732\nbisection        4.23352      00:25.596\nmullerBisection  4.23223      00:24.767\nnewton            3.3724      00:05.398\nhalley             3.136      00:02.182\nnew_newton       4.17311      00:26.493\nnew_halley       4.24037      00:24.964\n\n\n"
     ]
    }
   ],
   "source": [
    "testMethods = ['brentq', 'brenth', 'ridder', 'scipy_newton', 'bisection', 'mullerBisection', 'newton', 'halley', 'new_newton', 'new_halley']                                  \n",
    "testSigma = [0.3, 0.5, 0.7, 1, 1.5, 1.7, 2]\n",
    "testIter = [10, 100, 500, 1000]\n",
    "result = pd.DataFrame(index=testMethods, columns=['Accuracy', 'Time(hh:mm:ss)'])                                                \n",
    "dicResult = {}\n",
    "\n",
    "                                                                                                                                                                                                                                                        \n",
    "for iter in testIter:\n",
    "    dicResult[iter] = {}\n",
    "    for sigma in testSigma:  \n",
    "        for method in testMethods: \n",
    "            result.loc[method, :] = performance(data, method, sigma0=sigma, initialIter=iter)\n",
    "        dicResult[iter][sigma] = result.copy()                                                                                                  \n",
    "        print('This is the test result for initial point sigma {:.2f}, \\\n",
    "initial iteration {:d} times:\\n{}\\n\\n'.format(sigma, iter, result))"
   ]
  },
  {
   "cell_type": "code",
   "execution_count": 5,
   "metadata": {},
   "outputs": [],
   "source": [
    "newDic = dicResult.copy()"
   ]
  },
  {
   "cell_type": "code",
   "execution_count": 6,
   "metadata": {
    "collapsed": false
   },
   "outputs": [],
   "source": [
    "for i in newDic:\n",
    "    for s in newDic[i]:\n",
    "        for ind in newDic[i][s].index:\n",
    "            newDic[i][s].loc[ind, 'Seconds'] = float(newDic[i][s].loc[ind, 'Time(hh:mm:ss)'].split(':')[1])"
   ]
  },
  {
   "cell_type": "code",
   "execution_count": 14,
   "metadata": {
    "collapsed": true
   },
   "outputs": [
    {
     "data": {
      "text/plain": [
       "{10: {0.3:                 Accuracy Time(hh:mm:ss)  Seconds\n  brentq           4.30646      00:05.218    5.218\n  brenth           4.30646      00:05.179    5.179\n  ridder           4.30646      00:07.503    7.503\n  scipy_newton     4.14998      00:02.838    2.838\n  bisection        4.23352      00:22.817   22.817\n  mullerBisection  4.23223      00:23.939   23.939\n  newton           4.07488      00:03.595    3.595\n  halley           4.22647      00:01.975    1.975\n  new_newton       4.17319      00:23.002   23.002\n  new_halley       4.24043      00:23.471   23.471,\n  0.5:                 Accuracy Time(hh:mm:ss)  Seconds\n  brentq           4.30646      00:05.142    5.142\n  brenth           4.30646      00:04.950    4.950\n  ridder           4.30646      00:06.867    6.867\n  scipy_newton     4.11276      00:02.898    2.898\n  bisection        4.23352      00:22.449   22.449\n  mullerBisection  4.23223      00:23.900   23.900\n  newton           4.11989      00:05.823    5.823\n  halley           3.93286      00:01.989    1.989\n  new_newton       4.17319      00:23.018   23.018\n  new_halley       4.24043      00:23.730   23.730,\n  0.7:                 Accuracy Time(hh:mm:ss)  Seconds\n  brentq           4.30646      00:04.982    4.982\n  brenth           4.30646      00:05.006    5.006\n  ridder           4.30646      00:06.929    6.929\n  scipy_newton     4.12553      00:03.000    3.000\n  bisection        4.23352      00:22.793   22.793\n  mullerBisection  4.23223      00:24.092   24.092\n  newton           4.19757      00:03.621    3.621\n  halley            3.7735      00:01.992    1.992\n  new_newton       4.17319      00:22.615   22.615\n  new_halley       4.24043      00:23.271   23.271,\n  1:                 Accuracy Time(hh:mm:ss)  Seconds\n  brentq           4.30646      00:04.837    4.837\n  brenth           4.30646      00:04.833    4.833\n  ridder           4.30646      00:06.711    6.711\n  scipy_newton     4.13935      00:02.955    2.955\n  bisection        4.23352      00:21.983   21.983\n  mullerBisection  4.23223      00:23.190   23.190\n  newton           4.12668      00:03.346    3.346\n  halley           3.64457      00:01.952    1.952\n  new_newton       4.17319      00:22.343   22.343\n  new_halley       4.24043      00:23.110   23.110,\n  1.5:                 Accuracy Time(hh:mm:ss)  Seconds\n  brentq           4.30646      00:04.876    4.876\n  brenth           4.30646      00:04.820    4.820\n  ridder           4.30646      00:06.723    6.723\n  scipy_newton     4.12278      00:03.092    3.092\n  bisection        4.23352      00:22.072   22.072\n  mullerBisection  4.23223      00:23.435   23.435\n  newton           4.07301      00:07.274    7.274\n  halley           3.56188      00:01.958    1.958\n  new_newton       4.17319      00:22.487   22.487\n  new_halley       4.24043      00:22.847   22.847,\n  1.7:                 Accuracy Time(hh:mm:ss)  Seconds\n  brentq           4.30646      00:04.915    4.915\n  brenth           4.30646      00:04.847    4.847\n  ridder           4.30646      00:06.630    6.630\n  scipy_newton     4.17953      00:03.083    3.083\n  bisection        4.23352      00:22.878   22.878\n  mullerBisection  4.23223      00:24.489   24.489\n  newton           3.53386      00:03.067    3.067\n  halley           3.40933      00:02.018    2.018\n  new_newton       4.17319      00:23.555   23.555\n  new_halley       4.24043      00:23.779   23.779,\n  2:                 Accuracy Time(hh:mm:ss)  Seconds\n  brentq           4.30646      00:05.077    5.077\n  brenth           4.30646      00:05.075    5.075\n  ridder           4.30646      00:06.678    6.678\n  scipy_newton     4.11627      00:03.139    3.139\n  bisection        4.23352      00:22.198   22.198\n  mullerBisection  4.23223      00:23.214   23.214\n  newton            3.3724      00:04.833    4.833\n  halley             3.136      00:01.933    1.933\n  new_newton       4.17319      00:22.346   22.346\n  new_halley       4.24043      00:22.943   22.943},\n 100: {0.3:                 Accuracy Time(hh:mm:ss)  Seconds\n  brentq           4.30646      00:04.860    4.860\n  brenth           4.30646      00:04.841    4.841\n  ridder           4.30646      00:06.727    6.727\n  scipy_newton     4.14998      00:02.720    2.720\n  bisection        4.23352      00:21.972   21.972\n  mullerBisection  4.23223      00:23.400   23.400\n  newton           4.07488      00:03.519    3.519\n  halley           4.22647      00:01.932    1.932\n  new_newton       4.17311      00:23.643   23.643\n  new_halley       4.24037      00:30.169   30.169,\n  0.5:                 Accuracy Time(hh:mm:ss)  Seconds\n  brentq           4.30646      00:05.150    5.150\n  brenth           4.30646      00:05.545    5.545\n  ridder           4.30646      00:07.280    7.280\n  scipy_newton     4.11276      00:02.970    2.970\n  bisection        4.23352      00:23.681   23.681\n  mullerBisection  4.23223      00:27.315   27.315\n  newton           4.11989      00:06.479    6.479\n  halley           3.93286      00:01.979    1.979\n  new_newton       4.17311      00:25.654   25.654\n  new_halley       4.24037      00:26.059   26.059,\n  0.7:                 Accuracy Time(hh:mm:ss)  Seconds\n  brentq           4.30646      00:05.680    5.680\n  brenth           4.30646      00:05.500    5.500\n  ridder           4.30646      00:07.560    7.560\n  scipy_newton     4.12553      00:03.022    3.022\n  bisection        4.23352      00:23.281   23.281\n  mullerBisection  4.23223      00:26.615   26.615\n  newton           4.19757      00:04.002    4.002\n  halley            3.7735      00:02.190    2.190\n  new_newton       4.17311      00:25.851   25.851\n  new_halley       4.24037      00:26.825   26.825,\n  1:                 Accuracy Time(hh:mm:ss)  Seconds\n  brentq           4.30646      00:05.715    5.715\n  brenth           4.30646      00:05.765    5.765\n  ridder           4.30646      00:07.919    7.919\n  scipy_newton     4.13935      00:03.519    3.519\n  bisection        4.23352      00:25.517   25.517\n  mullerBisection  4.23223      00:26.290   26.290\n  newton           4.12668      00:03.636    3.636\n  halley           3.64457      00:02.099    2.099\n  new_newton       4.17311      00:25.591   25.591\n  new_halley       4.24037      00:26.361   26.361,\n  1.5:                 Accuracy Time(hh:mm:ss)  Seconds\n  brentq           4.30646      00:05.515    5.515\n  brenth           4.30646      00:05.543    5.543\n  ridder           4.30646      00:06.983    6.983\n  scipy_newton     4.12278      00:03.157    3.157\n  bisection        4.23352      00:23.553   23.553\n  mullerBisection  4.23223      00:25.066   25.066\n  newton           4.07301      00:08.165    8.165\n  halley           3.56188      00:02.151    2.151\n  new_newton       4.17311      00:26.705   26.705\n  new_halley       4.24037      00:26.389   26.389,\n  1.7:                 Accuracy Time(hh:mm:ss)  Seconds\n  brentq           4.30646      00:07.492    7.492\n  brenth           4.30646      00:05.382    5.382\n  ridder           4.30646      00:07.665    7.665\n  scipy_newton     4.17953      00:03.398    3.398\n  bisection        4.23352      00:24.152   24.152\n  mullerBisection  4.23223      00:25.821   25.821\n  newton           3.53386      00:03.155    3.155\n  halley           3.40933      00:01.958    1.958\n  new_newton       4.17311      00:26.178   26.178\n  new_halley       4.24037      00:26.715   26.715,\n  2:                 Accuracy Time(hh:mm:ss)  Seconds\n  brentq           4.30646      00:05.732    5.732\n  brenth           4.30646      00:05.321    5.321\n  ridder           4.30646      00:07.359    7.359\n  scipy_newton     4.11627      00:03.348    3.348\n  bisection        4.23352      00:22.764   22.764\n  mullerBisection  4.23223      00:25.299   25.299\n  newton            3.3724      00:05.207    5.207\n  halley             3.136      00:02.081    2.081\n  new_newton       4.17311      00:25.317   25.317\n  new_halley       4.24037      00:25.770   25.770},\n 500: {0.3:                 Accuracy Time(hh:mm:ss)  Seconds\n  brentq           4.30646      00:04.852    4.852\n  brenth           4.30646      00:04.801    4.801\n  ridder           4.30646      00:06.704    6.704\n  scipy_newton     4.14998      00:02.733    2.733\n  bisection        4.23352      00:22.248   22.248\n  mullerBisection  4.23223      00:23.402   23.402\n  newton           4.07488      00:03.546    3.546\n  halley           4.22647      00:01.954    1.954\n  new_newton       4.17311      00:23.868   23.868\n  new_halley       4.24037      00:24.331   24.331,\n  0.5:                 Accuracy Time(hh:mm:ss)  Seconds\n  brentq           4.30646      00:04.849    4.849\n  brenth           4.30646      00:04.813    4.813\n  ridder           4.30646      00:06.692    6.692\n  scipy_newton     4.11276      00:02.850    2.850\n  bisection        4.23352      00:22.085   22.085\n  mullerBisection  4.23223      00:23.479   23.479\n  newton           4.11989      00:05.763    5.763\n  halley           3.93286      00:01.948    1.948\n  new_newton       4.17311      00:23.801   23.801\n  new_halley       4.24037      00:24.552   24.552,\n  0.7:                 Accuracy Time(hh:mm:ss)  Seconds\n  brentq           4.30646      00:04.863    4.863\n  brenth           4.30646      00:04.829    4.829\n  ridder           4.30646      00:06.696    6.696\n  scipy_newton     4.12553      00:02.933    2.933\n  bisection        4.23352      00:22.184   22.184\n  mullerBisection  4.23223      00:23.566   23.566\n  newton           4.19757      00:03.582    3.582\n  halley            3.7735      00:01.925    1.925\n  new_newton       4.17311      00:24.088   24.088\n  new_halley       4.24037      00:24.887   24.887,\n  1:                 Accuracy Time(hh:mm:ss)  Seconds\n  brentq           4.30646      00:04.897    4.897\n  brenth           4.30646      00:04.812    4.812\n  ridder           4.30646      00:06.695    6.695\n  scipy_newton     4.13935      00:02.965    2.965\n  bisection        4.23352      00:22.723   22.723\n  mullerBisection  4.23223      00:23.233   23.233\n  newton           4.12668      00:03.355    3.355\n  halley           3.64457      00:01.962    1.962\n  new_newton       4.17311      00:26.810   26.810\n  new_halley       4.24037      00:25.862   25.862,\n  1.5:                 Accuracy Time(hh:mm:ss)  Seconds\n  brentq           4.30646      00:05.131    5.131\n  brenth           4.30646      00:05.257    5.257\n  ridder           4.30646      00:06.871    6.871\n  scipy_newton     4.12278      00:03.055    3.055\n  bisection        4.23352      00:22.104   22.104\n  mullerBisection  4.23223      00:24.013   24.013\n  newton           4.07301      00:07.492    7.492\n  halley           3.56188      00:01.996    1.996\n  new_newton       4.17311      00:25.723   25.723\n  new_halley       4.24037      00:28.216   28.216,\n  1.7:                 Accuracy Time(hh:mm:ss)  Seconds\n  brentq           4.30646      00:05.654    5.654\n  brenth           4.30646      00:05.608    5.608\n  ridder           4.30646      00:07.830    7.830\n  scipy_newton     4.17953      00:03.513    3.513\n  bisection        4.23352      00:24.768   24.768\n  mullerBisection  4.23223      00:26.558   26.558\n  newton           3.53386      00:03.389    3.389\n  halley           3.40933      00:02.179    2.179\n  new_newton       4.17311      00:27.294   27.294\n  new_halley       4.24037      00:28.053   28.053,\n  2:                 Accuracy Time(hh:mm:ss)  Seconds\n  brentq           4.30646      00:05.666    5.666\n  brenth           4.30646      00:05.668    5.668\n  ridder           4.30646      00:07.764    7.764\n  scipy_newton     4.11627      00:03.449    3.449\n  bisection        4.23352      00:25.376   25.376\n  mullerBisection  4.23223      00:26.743   26.743\n  newton            3.3724      00:05.264    5.264\n  halley             3.136      00:02.067    2.067\n  new_newton       4.17311      00:27.546   27.546\n  new_halley       4.24037      00:28.040   28.040},\n 1000: {0.3:                 Accuracy Time(hh:mm:ss)  Seconds\n  brentq           4.30646      00:05.566    5.566\n  brenth           4.30646      00:05.591    5.591\n  ridder           4.30646      00:07.811    7.811\n  scipy_newton     4.14998      00:03.092    3.092\n  bisection        4.23352      00:25.447   25.447\n  mullerBisection  4.23223      00:26.473   26.473\n  newton           4.07488      00:04.101    4.101\n  halley           4.22647      00:02.298    2.298\n  new_newton       4.17311      00:28.836   28.836\n  new_halley       4.24037      00:28.684   28.684,\n  0.5:                 Accuracy Time(hh:mm:ss)  Seconds\n  brentq           4.30646      00:05.886    5.886\n  brenth           4.30646      00:05.731    5.731\n  ridder           4.30646      00:08.195    8.195\n  scipy_newton     4.11276      00:03.361    3.361\n  bisection        4.23352      00:25.740   25.740\n  mullerBisection  4.23223      00:26.584   26.584\n  newton           4.11989      00:06.906    6.906\n  halley           3.93286      00:02.207    2.207\n  new_newton       4.17311      00:27.715   27.715\n  new_halley       4.24037      00:29.529   29.529,\n  0.7:                 Accuracy Time(hh:mm:ss)  Seconds\n  brentq           4.30646      00:05.983    5.983\n  brenth           4.30646      00:06.053    6.053\n  ridder           4.30646      00:08.289    8.289\n  scipy_newton     4.12553      00:03.420    3.420\n  bisection        4.23352      00:26.674   26.674\n  mullerBisection  4.23223      00:27.483   27.483\n  newton           4.19757      00:04.474    4.474\n  halley            3.7735      00:02.368    2.368\n  new_newton       4.17311      00:28.662   28.662\n  new_halley       4.24037      00:29.801   29.801,\n  1:                 Accuracy Time(hh:mm:ss)  Seconds\n  brentq           4.30646      00:05.933    5.933\n  brenth           4.30646      00:05.904    5.904\n  ridder           4.30646      00:07.923    7.923\n  scipy_newton     4.13935      00:03.512    3.512\n  bisection        4.23352      00:26.367   26.367\n  mullerBisection  4.23223      00:27.145   27.145\n  newton           4.12668      00:03.666    3.666\n  halley           3.64457      00:02.096    2.096\n  new_newton       4.17311      00:26.873   26.873\n  new_halley       4.24037      00:27.211   27.211,\n  1.5:                 Accuracy Time(hh:mm:ss)  Seconds\n  brentq           4.30646      00:05.913    5.913\n  brenth           4.30646      00:05.987    5.987\n  ridder           4.30646      00:08.026    8.026\n  scipy_newton     4.12278      00:03.625    3.625\n  bisection        4.23352      00:24.803   24.803\n  mullerBisection  4.23223      00:27.869   27.869\n  newton           4.07301      00:08.508    8.508\n  halley           3.56188      00:02.275    2.275\n  new_newton       4.17311      00:29.000   29.000\n  new_halley       4.24037      00:29.005   29.005,\n  1.7:                 Accuracy Time(hh:mm:ss)  Seconds\n  brentq           4.30646      00:06.115    6.115\n  brenth           4.30646      00:06.030    6.030\n  ridder           4.30646      00:08.399    8.399\n  scipy_newton     4.17953      00:03.727    3.727\n  bisection        4.23352      00:26.398   26.398\n  mullerBisection  4.23223      00:28.327   28.327\n  newton           3.53386      00:03.611    3.611\n  halley           3.40933      00:02.379    2.379\n  new_newton       4.17311      00:29.111   29.111\n  new_halley       4.24037      00:29.262   29.262,\n  2:                 Accuracy Time(hh:mm:ss)  Seconds\n  brentq           4.30646      00:05.800    5.800\n  brenth           4.30646      00:05.811    5.811\n  ridder           4.30646      00:08.012    8.012\n  scipy_newton     4.11627      00:03.732    3.732\n  bisection        4.23352      00:25.596   25.596\n  mullerBisection  4.23223      00:24.767   24.767\n  newton            3.3724      00:05.398    5.398\n  halley             3.136      00:02.182    2.182\n  new_newton       4.17311      00:26.493   26.493\n  new_halley       4.24037      00:24.964   24.964}}"
      ]
     },
     "execution_count": 14,
     "metadata": {},
     "output_type": "execute_result"
    }
   ],
   "source": [
    "newDic"
   ]
  },
  {
   "cell_type": "code",
   "execution_count": 44,
   "metadata": {},
   "outputs": [],
   "source": [
    "df_plt = pd.DataFrame(index=testMethods)\n",
    "dic_plt = {}\n",
    "for i in newDic:\n",
    "    for s in testSigma:\n",
    "        df_plt.loc[:, 'acc_{}sigma'.format(s)] = newDic[i][s].loc[:, 'Accuracy']\n",
    "    for s in testSigma:\n",
    "        df_plt.loc[:, 'sec_{}sigma'.format(s)] = newDic[i][s].loc[:, 'Seconds']\n",
    "    dic_plt[i] = df_plt"
   ]
  },
  {
   "cell_type": "code",
   "execution_count": 152,
   "metadata": {},
   "outputs": [
    {
     "data": {
      "text/html": [
       "<div>\n",
       "<table border=\"1\" class=\"dataframe\">\n",
       "  <thead>\n",
       "    <tr style=\"text-align: right;\">\n",
       "      <th></th>\n",
       "      <th>sec_10iter</th>\n",
       "      <th>sec_100iter</th>\n",
       "      <th>sec_500iter</th>\n",
       "      <th>sec_1000iter</th>\n",
       "    </tr>\n",
       "  </thead>\n",
       "  <tbody>\n",
       "    <tr>\n",
       "      <th>brentq</th>\n",
       "      <td>5.218</td>\n",
       "      <td>4.860</td>\n",
       "      <td>4.852</td>\n",
       "      <td>5.566</td>\n",
       "    </tr>\n",
       "    <tr>\n",
       "      <th>brenth</th>\n",
       "      <td>5.179</td>\n",
       "      <td>4.841</td>\n",
       "      <td>4.801</td>\n",
       "      <td>5.591</td>\n",
       "    </tr>\n",
       "    <tr>\n",
       "      <th>ridder</th>\n",
       "      <td>7.503</td>\n",
       "      <td>6.727</td>\n",
       "      <td>6.704</td>\n",
       "      <td>7.811</td>\n",
       "    </tr>\n",
       "    <tr>\n",
       "      <th>scipy_newton</th>\n",
       "      <td>2.838</td>\n",
       "      <td>2.720</td>\n",
       "      <td>2.733</td>\n",
       "      <td>3.092</td>\n",
       "    </tr>\n",
       "    <tr>\n",
       "      <th>bisection</th>\n",
       "      <td>22.817</td>\n",
       "      <td>21.972</td>\n",
       "      <td>22.248</td>\n",
       "      <td>25.447</td>\n",
       "    </tr>\n",
       "    <tr>\n",
       "      <th>mullerBisection</th>\n",
       "      <td>23.939</td>\n",
       "      <td>23.400</td>\n",
       "      <td>23.402</td>\n",
       "      <td>26.473</td>\n",
       "    </tr>\n",
       "    <tr>\n",
       "      <th>newton</th>\n",
       "      <td>3.595</td>\n",
       "      <td>3.519</td>\n",
       "      <td>3.546</td>\n",
       "      <td>4.101</td>\n",
       "    </tr>\n",
       "    <tr>\n",
       "      <th>halley</th>\n",
       "      <td>1.975</td>\n",
       "      <td>1.932</td>\n",
       "      <td>1.954</td>\n",
       "      <td>2.298</td>\n",
       "    </tr>\n",
       "    <tr>\n",
       "      <th>new_newton</th>\n",
       "      <td>23.002</td>\n",
       "      <td>23.643</td>\n",
       "      <td>23.868</td>\n",
       "      <td>28.836</td>\n",
       "    </tr>\n",
       "    <tr>\n",
       "      <th>new_halley</th>\n",
       "      <td>23.471</td>\n",
       "      <td>30.169</td>\n",
       "      <td>24.331</td>\n",
       "      <td>28.684</td>\n",
       "    </tr>\n",
       "  </tbody>\n",
       "</table>\n",
       "</div>"
      ],
      "text/plain": [
       "<div>\n",
       "<table border=\"1\" class=\"dataframe\">\n",
       "  <thead>\n",
       "    <tr style=\"text-align: right;\">\n",
       "      <th></th>\n",
       "      <th>sec_10iter</th>\n",
       "      <th>sec_100iter</th>\n",
       "      <th>sec_500iter</th>\n",
       "      <th>sec_1000iter</th>\n",
       "    </tr>\n",
       "  </thead>\n",
       "  <tbody>\n",
       "    <tr>\n",
       "      <th>brentq</th>\n",
       "      <td>5.218</td>\n",
       "      <td>4.860</td>\n",
       "      <td>4.852</td>\n",
       "      <td>5.566</td>\n",
       "    </tr>\n",
       "    <tr>\n",
       "      <th>brenth</th>\n",
       "      <td>5.179</td>\n",
       "      <td>4.841</td>\n",
       "      <td>4.801</td>\n",
       "      <td>5.591</td>\n",
       "    </tr>\n",
       "    <tr>\n",
       "      <th>ridder</th>\n",
       "      <td>7.503</td>\n",
       "      <td>6.727</td>\n",
       "      <td>6.704</td>\n",
       "      <td>7.811</td>\n",
       "    </tr>\n",
       "    <tr>\n",
       "      <th>scipy_newton</th>\n",
       "      <td>2.838</td>\n",
       "      <td>2.720</td>\n",
       "      <td>2.733</td>\n",
       "      <td>3.092</td>\n",
       "    </tr>\n",
       "    <tr>\n",
       "      <th>bisection</th>\n",
       "      <td>22.817</td>\n",
       "      <td>21.972</td>\n",
       "      <td>22.248</td>\n",
       "      <td>25.447</td>\n",
       "    </tr>\n",
       "    <tr>\n",
       "      <th>mullerBisection</th>\n",
       "      <td>23.939</td>\n",
       "      <td>23.400</td>\n",
       "      <td>23.402</td>\n",
       "      <td>26.473</td>\n",
       "    </tr>\n",
       "    <tr>\n",
       "      <th>newton</th>\n",
       "      <td>3.595</td>\n",
       "      <td>3.519</td>\n",
       "      <td>3.546</td>\n",
       "      <td>4.101</td>\n",
       "    </tr>\n",
       "    <tr>\n",
       "      <th>halley</th>\n",
       "      <td>1.975</td>\n",
       "      <td>1.932</td>\n",
       "      <td>1.954</td>\n",
       "      <td>2.298</td>\n",
       "    </tr>\n",
       "    <tr>\n",
       "      <th>new_newton</th>\n",
       "      <td>23.002</td>\n",
       "      <td>23.643</td>\n",
       "      <td>23.868</td>\n",
       "      <td>28.836</td>\n",
       "    </tr>\n",
       "    <tr>\n",
       "      <th>new_halley</th>\n",
       "      <td>23.471</td>\n",
       "      <td>30.169</td>\n",
       "      <td>24.331</td>\n",
       "      <td>28.684</td>\n",
       "    </tr>\n",
       "  </tbody>\n",
       "</table>\n",
       "</div>"
      ]
     },
     "execution_count": 152,
     "metadata": {},
     "output_type": "execute_result"
    }
   ],
   "source": [
    "df_plt2 = pd.DataFrame(index=testMethods)\n",
    "for i in testIter:\n",
    "    df_plt2.loc[:, 'acc_{}iter'.format(i)] = newDic[i][0.3].loc[:, 'Accuracy']\n",
    "for i in testIter:\n",
    "    df_plt2.loc[:, 'sec_{}iter'.format(i)] = newDic[i][0.3].loc[:, 'Seconds']       \n",
    "\n",
    "df_plt2.iloc[:, 4:]"
   ]
  },
  {
   "cell_type": "code",
   "execution_count": 150,
   "metadata": {
    "collapsed": false
   },
   "outputs": [
    {
     "data": {
      "text/html": [
       "<div>\n",
       "<table border=\"1\" class=\"dataframe\">\n",
       "  <thead>\n",
       "    <tr style=\"text-align: right;\">\n",
       "      <th></th>\n",
       "      <th>sec_0.5sigma</th>\n",
       "      <th>sec_0.7sigma</th>\n",
       "      <th>sec_1sigma</th>\n",
       "      <th>sec_1.5sigma</th>\n",
       "      <th>sec_1.7sigma</th>\n",
       "      <th>sec_2sigma</th>\n",
       "    </tr>\n",
       "  </thead>\n",
       "  <tbody>\n",
       "    <tr>\n",
       "      <th>brentq</th>\n",
       "      <td>4.849</td>\n",
       "      <td>4.863</td>\n",
       "      <td>4.897</td>\n",
       "      <td>5.131</td>\n",
       "      <td>5.654</td>\n",
       "      <td>5.666</td>\n",
       "    </tr>\n",
       "    <tr>\n",
       "      <th>brenth</th>\n",
       "      <td>4.813</td>\n",
       "      <td>4.829</td>\n",
       "      <td>4.812</td>\n",
       "      <td>5.257</td>\n",
       "      <td>5.608</td>\n",
       "      <td>5.668</td>\n",
       "    </tr>\n",
       "    <tr>\n",
       "      <th>ridder</th>\n",
       "      <td>6.692</td>\n",
       "      <td>6.696</td>\n",
       "      <td>6.695</td>\n",
       "      <td>6.871</td>\n",
       "      <td>7.830</td>\n",
       "      <td>7.764</td>\n",
       "    </tr>\n",
       "    <tr>\n",
       "      <th>scipy_newton</th>\n",
       "      <td>2.850</td>\n",
       "      <td>2.933</td>\n",
       "      <td>2.965</td>\n",
       "      <td>3.055</td>\n",
       "      <td>3.513</td>\n",
       "      <td>3.449</td>\n",
       "    </tr>\n",
       "    <tr>\n",
       "      <th>bisection</th>\n",
       "      <td>22.085</td>\n",
       "      <td>22.184</td>\n",
       "      <td>22.723</td>\n",
       "      <td>22.104</td>\n",
       "      <td>24.768</td>\n",
       "      <td>25.376</td>\n",
       "    </tr>\n",
       "    <tr>\n",
       "      <th>mullerBisection</th>\n",
       "      <td>23.479</td>\n",
       "      <td>23.566</td>\n",
       "      <td>23.233</td>\n",
       "      <td>24.013</td>\n",
       "      <td>26.558</td>\n",
       "      <td>26.743</td>\n",
       "    </tr>\n",
       "    <tr>\n",
       "      <th>newton</th>\n",
       "      <td>5.763</td>\n",
       "      <td>3.582</td>\n",
       "      <td>3.355</td>\n",
       "      <td>7.492</td>\n",
       "      <td>3.389</td>\n",
       "      <td>5.264</td>\n",
       "    </tr>\n",
       "    <tr>\n",
       "      <th>halley</th>\n",
       "      <td>1.948</td>\n",
       "      <td>1.925</td>\n",
       "      <td>1.962</td>\n",
       "      <td>1.996</td>\n",
       "      <td>2.179</td>\n",
       "      <td>2.067</td>\n",
       "    </tr>\n",
       "    <tr>\n",
       "      <th>new_newton</th>\n",
       "      <td>23.801</td>\n",
       "      <td>24.088</td>\n",
       "      <td>26.810</td>\n",
       "      <td>25.723</td>\n",
       "      <td>27.294</td>\n",
       "      <td>27.546</td>\n",
       "    </tr>\n",
       "    <tr>\n",
       "      <th>new_halley</th>\n",
       "      <td>24.552</td>\n",
       "      <td>24.887</td>\n",
       "      <td>25.862</td>\n",
       "      <td>28.216</td>\n",
       "      <td>28.053</td>\n",
       "      <td>28.040</td>\n",
       "    </tr>\n",
       "  </tbody>\n",
       "</table>\n",
       "</div>"
      ],
      "text/plain": [
       "<div>\n",
       "<table border=\"1\" class=\"dataframe\">\n",
       "  <thead>\n",
       "    <tr style=\"text-align: right;\">\n",
       "      <th></th>\n",
       "      <th>sec_0.5sigma</th>\n",
       "      <th>sec_0.7sigma</th>\n",
       "      <th>sec_1sigma</th>\n",
       "      <th>sec_1.5sigma</th>\n",
       "      <th>sec_1.7sigma</th>\n",
       "      <th>sec_2sigma</th>\n",
       "    </tr>\n",
       "  </thead>\n",
       "  <tbody>\n",
       "    <tr>\n",
       "      <th>brentq</th>\n",
       "      <td>4.849</td>\n",
       "      <td>4.863</td>\n",
       "      <td>4.897</td>\n",
       "      <td>5.131</td>\n",
       "      <td>5.654</td>\n",
       "      <td>5.666</td>\n",
       "    </tr>\n",
       "    <tr>\n",
       "      <th>brenth</th>\n",
       "      <td>4.813</td>\n",
       "      <td>4.829</td>\n",
       "      <td>4.812</td>\n",
       "      <td>5.257</td>\n",
       "      <td>5.608</td>\n",
       "      <td>5.668</td>\n",
       "    </tr>\n",
       "    <tr>\n",
       "      <th>ridder</th>\n",
       "      <td>6.692</td>\n",
       "      <td>6.696</td>\n",
       "      <td>6.695</td>\n",
       "      <td>6.871</td>\n",
       "      <td>7.830</td>\n",
       "      <td>7.764</td>\n",
       "    </tr>\n",
       "    <tr>\n",
       "      <th>scipy_newton</th>\n",
       "      <td>2.850</td>\n",
       "      <td>2.933</td>\n",
       "      <td>2.965</td>\n",
       "      <td>3.055</td>\n",
       "      <td>3.513</td>\n",
       "      <td>3.449</td>\n",
       "    </tr>\n",
       "    <tr>\n",
       "      <th>bisection</th>\n",
       "      <td>22.085</td>\n",
       "      <td>22.184</td>\n",
       "      <td>22.723</td>\n",
       "      <td>22.104</td>\n",
       "      <td>24.768</td>\n",
       "      <td>25.376</td>\n",
       "    </tr>\n",
       "    <tr>\n",
       "      <th>mullerBisection</th>\n",
       "      <td>23.479</td>\n",
       "      <td>23.566</td>\n",
       "      <td>23.233</td>\n",
       "      <td>24.013</td>\n",
       "      <td>26.558</td>\n",
       "      <td>26.743</td>\n",
       "    </tr>\n",
       "    <tr>\n",
       "      <th>newton</th>\n",
       "      <td>5.763</td>\n",
       "      <td>3.582</td>\n",
       "      <td>3.355</td>\n",
       "      <td>7.492</td>\n",
       "      <td>3.389</td>\n",
       "      <td>5.264</td>\n",
       "    </tr>\n",
       "    <tr>\n",
       "      <th>halley</th>\n",
       "      <td>1.948</td>\n",
       "      <td>1.925</td>\n",
       "      <td>1.962</td>\n",
       "      <td>1.996</td>\n",
       "      <td>2.179</td>\n",
       "      <td>2.067</td>\n",
       "    </tr>\n",
       "    <tr>\n",
       "      <th>new_newton</th>\n",
       "      <td>23.801</td>\n",
       "      <td>24.088</td>\n",
       "      <td>26.810</td>\n",
       "      <td>25.723</td>\n",
       "      <td>27.294</td>\n",
       "      <td>27.546</td>\n",
       "    </tr>\n",
       "    <tr>\n",
       "      <th>new_halley</th>\n",
       "      <td>24.552</td>\n",
       "      <td>24.887</td>\n",
       "      <td>25.862</td>\n",
       "      <td>28.216</td>\n",
       "      <td>28.053</td>\n",
       "      <td>28.040</td>\n",
       "    </tr>\n",
       "  </tbody>\n",
       "</table>\n",
       "</div>"
      ]
     },
     "execution_count": 150,
     "metadata": {},
     "output_type": "execute_result"
    }
   ],
   "source": [
    "dic_plt[10].iloc[:, 8:]"
   ]
  },
  {
   "cell_type": "code",
   "execution_count": 143,
   "metadata": {},
   "outputs": [
    {
     "name": "stdout",
     "output_type": "stream",
     "text": [
      "Using matplotlib backend: MacOSX\n"
     ]
    }
   ],
   "source": [
    "%matplotlib \n",
    "import matplotlib.pyplot as plt\n",
    "# 10 times iter\n",
    "\n",
    "df_acc = dic_plt[10].iloc[:, :7]\n",
    "axes = df_acc.plot(kind='bar', subplots=True, colormap='coolwarm', title='Accuracy Comparison for Different Initial Sigma', grid=True, sort_columns=True, legend=False, figsize=(10,15))\n",
    "axes[0].axvspan(5.5, 6.5, color='g', alpha=0.5)\n",
    "axes[0].axvspan(-0.5, 2.5, color='grey', alpha=0.2)\n",
    "for ax in axes[1:]:\n",
    "    ax.axvspan(6.5, 7.5, color='g', alpha=0.5)\n",
    "    ax.axvspan(-0.5, 2.5, color='grey', alpha=0.2)\n",
    "\n",
    "plt.savefig('acc_sigma.png')"
   ]
  },
  {
   "cell_type": "code",
   "execution_count": 153,
   "metadata": {},
   "outputs": [],
   "source": [
    "df_sec = dic_plt[10].iloc[:, 8:]\n",
    "axes = df_sec.plot(kind='bar', subplots=True, colormap='coolwarm',title='Running Time Comparison for Different Initial Sigma', grid=True, sort_columns=True, legend=False, figsize=(10,15))\n",
    "for ax in axes:\n",
    "    ax.axvspan(6.5, 7.5, color='g', alpha=0.5)\n",
    "    ax.axvspan(2.5, 3.5, color='g', alpha=0.2)\n",
    "\n",
    "plt.savefig('sec_sigma.png')"
   ]
  },
  {
   "cell_type": "code",
   "execution_count": 128,
   "metadata": {},
   "outputs": [],
   "source": [
    "df_acc = dic_plt[100].iloc[:, :7]\n",
    "axes = df_acc.plot(kind='bar', subplots=True, colormap='coolwarm', title='Accuracy Comparison for 100 Iterations', grid=True, sort_columns=True, legend=False, figsize=(10,15))\n",
    "axes[0].axvspan(5.5, 6.5, color='g', alpha=0.5)\n",
    "axes[0].axvspan(-0.5, 2.5, color='grey', alpha=0.2)\n",
    "for ax in axes[1:]:\n",
    "    ax.axvspan(6.5, 7.5, color='g', alpha=0.5)\n",
    "    ax.axvspan(-0.5, 2.5, color='grey', alpha=0.2)\n",
    "\n",
    "plt.savefig('acc_100_iter.png')"
   ]
  },
  {
   "cell_type": "code",
   "execution_count": 130,
   "metadata": {},
   "outputs": [],
   "source": [
    "df_sec = dic_plt[10].iloc[:, 8:]\n",
    "axes = df_sec.plot(kind='bar', subplots=True, colormap='coolwarm',title='Running Time Comparison for 100 Iterations', grid=True, sort_columns=True, legend=False, figsize=(10,15))\n",
    "for ax in axes:\n",
    "    ax.axvspan(6.5, 7.5, color='g', alpha=0.5)\n",
    "    ax.axvspan(2.5, 3.5, color='g', alpha=0.2)\n",
    "\n",
    "plt.savefig('sec_100_iter.png')"
   ]
  },
  {
   "cell_type": "code",
   "execution_count": 132,
   "metadata": {},
   "outputs": [],
   "source": [
    "df_acc = dic_plt[500].iloc[:, :7]\n",
    "axes = df_acc.plot(kind='bar', subplots=True, colormap='coolwarm', title='Accuracy Comparison for 500 Iterations', grid=True, sort_columns=True, legend=False, figsize=(10,15))\n",
    "axes[0].axvspan(5.5, 6.5, color='g', alpha=0.5)\n",
    "axes[0].axvspan(-0.5, 2.5, color='grey', alpha=0.2)\n",
    "for ax in axes[1:]:\n",
    "    ax.axvspan(6.5, 7.5, color='g', alpha=0.5)\n",
    "    ax.axvspan(-0.5, 2.5, color='grey', alpha=0.2)\n",
    "\n",
    "plt.savefig('acc_500_iter.png')"
   ]
  },
  {
   "cell_type": "code",
   "execution_count": 135,
   "metadata": {},
   "outputs": [],
   "source": [
    "df_sec = dic_plt[500].iloc[:, 8:]\n",
    "axes = df_sec.plot(kind='bar', subplots=True, colormap='coolwarm',title='Running Time Comparison for 500 Iterations', grid=True, sort_columns=True, legend=False, figsize=(10,15))\n",
    "for ax in axes:\n",
    "    ax.axvspan(6.5, 7.5, color='g', alpha=0.5)\n",
    "    ax.axvspan(2.5, 3.5, color='g', alpha=0.2)\n",
    "\n",
    "plt.savefig('sec_500_iter.png')"
   ]
  },
  {
   "cell_type": "code",
   "execution_count": 136,
   "metadata": {},
   "outputs": [],
   "source": [
    "df_acc = dic_plt[1000].iloc[:, :7]\n",
    "axes = df_acc.plot(kind='bar', subplots=True, colormap='coolwarm', title='Accuracy Comparison for 1000 Iterations', grid=True, sort_columns=True, legend=False, figsize=(10,15))\n",
    "axes[0].axvspan(5.5, 6.5, color='g', alpha=0.5)\n",
    "axes[0].axvspan(-0.5, 2.5, color='grey', alpha=0.2)\n",
    "for ax in axes[1:]:\n",
    "    ax.axvspan(6.5, 7.5, color='g', alpha=0.5)\n",
    "    ax.axvspan(-0.5, 2.5, color='grey', alpha=0.2)\n",
    "\n",
    "plt.savefig('acc_1000_iter.png')"
   ]
  },
  {
   "cell_type": "code",
   "execution_count": 137,
   "metadata": {},
   "outputs": [],
   "source": [
    "df_sec = dic_plt[1000].iloc[:, 8:]\n",
    "axes = df_sec.plot(kind='bar', subplots=True, colormap='coolwarm',title='Running Time Comparison for 1000 Iterations', grid=True, sort_columns=True, legend=False, figsize=(10,15))\n",
    "for ax in axes:\n",
    "    ax.axvspan(6.5, 7.5, color='g', alpha=0.5)\n",
    "    ax.axvspan(2.5, 3.5, color='g', alpha=0.2)\n",
    "\n",
    "plt.savefig('sec_1000_iter.png')"
   ]
  },
  {
   "cell_type": "code",
   "execution_count": null,
   "metadata": {},
   "outputs": [],
   "source": [
    ""
   ]
  }
 ],
 "metadata": {
  "kernelspec": {
   "display_name": "Python 2",
   "language": "python",
   "name": "python2"
  },
  "language_info": {
   "codemirror_mode": {
    "name": "ipython",
    "version": 2.0
   },
   "file_extension": ".py",
   "mimetype": "text/x-python",
   "name": "python",
   "nbconvert_exporter": "python",
   "pygments_lexer": "ipython2",
   "version": "2.7.6"
  }
 },
 "nbformat": 4,
 "nbformat_minor": 0
}