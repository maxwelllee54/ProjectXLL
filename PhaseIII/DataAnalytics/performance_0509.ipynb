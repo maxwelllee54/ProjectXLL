{
 "cells": [
  {
   "cell_type": "code",
   "execution_count": 2,
   "metadata": {
    "collapsed": true
   },
   "outputs": [
    {
     "data": {
      "text/html": [
       "<div>\n",
       "<table border=\"1\" class=\"dataframe\">\n",
       "  <thead>\n",
       "    <tr style=\"text-align: right;\">\n",
       "      <th></th>\n",
       "      <th>currentDate</th>\n",
       "      <th>ExpDate</th>\n",
       "      <th>StrikePrice</th>\n",
       "      <th>Ticker</th>\n",
       "      <th>Type</th>\n",
       "      <th>Last</th>\n",
       "      <th>IV</th>\n",
       "      <th>StockPrice</th>\n",
       "      <th>T</th>\n",
       "    </tr>\n",
       "  </thead>\n",
       "  <tbody>\n",
       "    <tr>\n",
       "      <th>0</th>\n",
       "      <td>2017-02-17</td>\n",
       "      <td>2017-03-17</td>\n",
       "      <td>22.5</td>\n",
       "      <td>ARR</td>\n",
       "      <td>Call</td>\n",
       "      <td>0.08</td>\n",
       "      <td>0.13956</td>\n",
       "      <td>21.709999</td>\n",
       "      <td>0.076660</td>\n",
       "    </tr>\n",
       "    <tr>\n",
       "      <th>1</th>\n",
       "      <td>2017-02-17</td>\n",
       "      <td>2017-03-17</td>\n",
       "      <td>20.0</td>\n",
       "      <td>ARR</td>\n",
       "      <td>Put</td>\n",
       "      <td>0.20</td>\n",
       "      <td>0.32783</td>\n",
       "      <td>21.709999</td>\n",
       "      <td>0.076660</td>\n",
       "    </tr>\n",
       "    <tr>\n",
       "      <th>2</th>\n",
       "      <td>2017-02-17</td>\n",
       "      <td>2017-04-21</td>\n",
       "      <td>21.0</td>\n",
       "      <td>ARR</td>\n",
       "      <td>Call</td>\n",
       "      <td>0.75</td>\n",
       "      <td>0.05176</td>\n",
       "      <td>21.709999</td>\n",
       "      <td>0.172485</td>\n",
       "    </tr>\n",
       "    <tr>\n",
       "      <th>3</th>\n",
       "      <td>2017-02-17</td>\n",
       "      <td>2017-04-21</td>\n",
       "      <td>22.0</td>\n",
       "      <td>ARR</td>\n",
       "      <td>Call</td>\n",
       "      <td>0.30</td>\n",
       "      <td>0.10719</td>\n",
       "      <td>21.709999</td>\n",
       "      <td>0.172485</td>\n",
       "    </tr>\n",
       "    <tr>\n",
       "      <th>4</th>\n",
       "      <td>2017-02-17</td>\n",
       "      <td>2017-03-17</td>\n",
       "      <td>180.0</td>\n",
       "      <td>MSG</td>\n",
       "      <td>Put</td>\n",
       "      <td>6.45</td>\n",
       "      <td>0.18380</td>\n",
       "      <td>175.300003</td>\n",
       "      <td>0.076660</td>\n",
       "    </tr>\n",
       "  </tbody>\n",
       "</table>\n",
       "</div>"
      ],
      "text/plain": [
       "<div>\n",
       "<table border=\"1\" class=\"dataframe\">\n",
       "  <thead>\n",
       "    <tr style=\"text-align: right;\">\n",
       "      <th></th>\n",
       "      <th>currentDate</th>\n",
       "      <th>ExpDate</th>\n",
       "      <th>StrikePrice</th>\n",
       "      <th>Ticker</th>\n",
       "      <th>Type</th>\n",
       "      <th>Last</th>\n",
       "      <th>IV</th>\n",
       "      <th>StockPrice</th>\n",
       "      <th>T</th>\n",
       "    </tr>\n",
       "  </thead>\n",
       "  <tbody>\n",
       "    <tr>\n",
       "      <th>0</th>\n",
       "      <td>2017-02-17</td>\n",
       "      <td>2017-03-17</td>\n",
       "      <td>22.5</td>\n",
       "      <td>ARR</td>\n",
       "      <td>Call</td>\n",
       "      <td>0.08</td>\n",
       "      <td>0.13956</td>\n",
       "      <td>21.709999</td>\n",
       "      <td>0.076660</td>\n",
       "    </tr>\n",
       "    <tr>\n",
       "      <th>1</th>\n",
       "      <td>2017-02-17</td>\n",
       "      <td>2017-03-17</td>\n",
       "      <td>20.0</td>\n",
       "      <td>ARR</td>\n",
       "      <td>Put</td>\n",
       "      <td>0.20</td>\n",
       "      <td>0.32783</td>\n",
       "      <td>21.709999</td>\n",
       "      <td>0.076660</td>\n",
       "    </tr>\n",
       "    <tr>\n",
       "      <th>2</th>\n",
       "      <td>2017-02-17</td>\n",
       "      <td>2017-04-21</td>\n",
       "      <td>21.0</td>\n",
       "      <td>ARR</td>\n",
       "      <td>Call</td>\n",
       "      <td>0.75</td>\n",
       "      <td>0.05176</td>\n",
       "      <td>21.709999</td>\n",
       "      <td>0.172485</td>\n",
       "    </tr>\n",
       "    <tr>\n",
       "      <th>3</th>\n",
       "      <td>2017-02-17</td>\n",
       "      <td>2017-04-21</td>\n",
       "      <td>22.0</td>\n",
       "      <td>ARR</td>\n",
       "      <td>Call</td>\n",
       "      <td>0.30</td>\n",
       "      <td>0.10719</td>\n",
       "      <td>21.709999</td>\n",
       "      <td>0.172485</td>\n",
       "    </tr>\n",
       "    <tr>\n",
       "      <th>4</th>\n",
       "      <td>2017-02-17</td>\n",
       "      <td>2017-03-17</td>\n",
       "      <td>180.0</td>\n",
       "      <td>MSG</td>\n",
       "      <td>Put</td>\n",
       "      <td>6.45</td>\n",
       "      <td>0.18380</td>\n",
       "      <td>175.300003</td>\n",
       "      <td>0.076660</td>\n",
       "    </tr>\n",
       "  </tbody>\n",
       "</table>\n",
       "</div>"
      ]
     },
     "execution_count": 2,
     "metadata": {},
     "output_type": "execute_result"
    }
   ],
   "source": [
    "import methods\n",
    "import pandas as pd\n",
    "data = pd.read_csv('europeanOptions_.01tol.csv')                                                                                       \n",
    "data = data.loc[:, ['currentDate', 'ExpDate', 'StrikePrice', 'Ticker', 'Type', 'Last', 'IV', 'StockPrice', 'T']]\n",
    "data.head()"
   ]
  },
  {
   "cell_type": "code",
   "execution_count": 3,
   "metadata": {
    "collapsed": true
   },
   "outputs": [
    {
     "name": "stdout",
     "output_type": "stream",
     "text": [
      "This is the test result for initial point sigma 0.23,                 initial iteration 2 times:\n                log_accuracy          mse      log_mse        duration  \\\nbrentq               4.30646   0.00100102  0.000996404  0:00:09.920838   \nbrenth               4.30646   0.00100102  0.000996404  0:00:09.856188   \nridder               4.30646   0.00100102  0.000996404  0:00:13.539539   \nbisection            2.57088    0.0146558    0.0143068  0:00:10.359204   \nmullerBisection      4.31031   0.00102593   0.00102047  0:00:44.329166   \nnewton               4.20707  9.67833e+89     0.153696  0:00:05.334393   \nhalley               4.26991   0.00119317   0.00117705  0:00:04.294872   \nnew_newton            4.0951          inf          inf  0:00:06.987986   \nnew_halley           4.04742   0.00113145   0.00112833  0:00:06.163671   \nhalleyMomentum       3.92695   0.00157629   0.00156689  0:00:06.699850   \n\n                   steps efficiency  \nbrentq           9.56237   0.294338  \nbrenth           9.78644    0.29174  \nridder           7.15947    0.33053  \nbisection        2.72023   0.535385  \nmullerBisection  6.59992   0.342116  \nnewton           7.08599        inf  \nhalley           17.1324   0.239491  \nnew_newton       7.88212        inf  \nnew_halley        17.939   0.235933  \nhalleyMomentum   1.80662   0.672726  \n\n\n"
     ]
    },
    {
     "name": "stdout",
     "output_type": "stream",
     "text": [
      "This is the test result for initial point sigma 0.23,                 initial iteration 5 times:\n                log_accuracy          mse      log_mse        duration  \\\nbrentq               4.30646   0.00100102  0.000996404  0:00:09.844139   \nbrenth               4.30646   0.00100102  0.000996404  0:00:10.334097   \nridder               4.30646   0.00100102  0.000996404  0:00:13.213242   \nbisection            2.57088    0.0146558    0.0143068  0:00:10.811087   \nmullerBisection      4.31031   0.00102593   0.00102047  0:00:44.189469   \nnewton               4.20707  9.67833e+89     0.153696  0:00:05.107356   \nhalley               4.26991   0.00119317   0.00117705  0:00:04.342517   \nnew_newton           3.39049          inf          inf  0:00:06.296019   \nnew_halley           4.34422  0.000700316  0.000699358  0:00:07.467320   \nhalleyMomentum       3.93499   0.00143631   0.00143139  0:00:07.577139   \n\n                   steps efficiency  \nbrentq           9.56237   0.294338  \nbrenth           9.78644    0.29174  \nridder           7.15947    0.33053  \nbisection        2.72023   0.535385  \nmullerBisection  6.59992   0.342116  \nnewton           7.08599        inf  \nhalley           17.1324   0.239491  \nnew_newton       13.5127        inf  \nnew_halley        17.939   0.235831  \nhalleyMomentum   3.41986   0.467088  \n\n\n"
     ]
    },
    {
     "name": "stdout",
     "output_type": "stream",
     "text": [
      "This is the test result for initial point sigma 0.23,                 initial iteration 8 times:\n                log_accuracy          mse      log_mse        duration  \\\nbrentq               4.30646   0.00100102  0.000996404  0:00:10.299021   \nbrenth               4.30646   0.00100102  0.000996404  0:00:10.276612   \nridder               4.30646   0.00100102  0.000996404  0:00:13.449981   \nbisection            2.57088    0.0146558    0.0143068  0:00:11.164833   \nmullerBisection      4.31031   0.00102593   0.00102047  0:00:43.156249   \nnewton               4.20707  9.67833e+89     0.153696  0:00:05.473967   \nhalley               4.26991   0.00119317   0.00117705  0:00:04.542603   \nnew_newton           3.26949          inf          inf  0:00:06.761548   \nnew_halley           4.34331  0.000703958   0.00070298  0:00:07.882423   \nhalleyMomentum       3.93774   0.00148163   0.00147626  0:00:07.940713   \n\n                   steps efficiency  \nbrentq           9.56237   0.294338  \nbrenth           9.78644    0.29174  \nridder           7.15947    0.33053  \nbisection        2.72023   0.535385  \nmullerBisection  6.59992   0.342116  \nnewton           7.08599        inf  \nhalley           17.1324   0.239491  \nnew_newton       16.7331        inf  \nnew_halley       17.5357   0.237571  \nhalleyMomentum   4.22648   0.419761  \n\n\n"
     ]
    }
   ],
   "source": [
    "import numpy as np\n",
    "testMethods = ['brentq', 'brenth', 'ridder', 'bisection', 'mullerBisection', 'newton', 'new_newton', 'halley', 'new_halley', 'halleyMomentum']  \n",
    "#testMethods = ['halley']\n",
    "#testSigma = [0.33, 0.66 , 0.99, 1.33, 1.66, 1.99]\n",
    "testSigma = np.random.uniform(0,2,1)\n",
    "testIter = [2,5,8]\n",
    "result = pd.DataFrame(index=testMethods, columns=['log_accuracy', 'mse', 'log_mse', 'duration', 'steps', 'efficiency'])                                                \n",
    "dicResult = {}\n",
    "\n",
    "                                                                                                                                                                                                                                                        \n",
    "for iter in testIter:\n",
    "    dicResult[iter] = {}\n",
    "    for sigma in testSigma:  \n",
    "        for method in testMethods: \n",
    "            result.loc[method, :] = methods.performance(data, method, sigma0=sigma, initialIter=iter)\n",
    "        dicResult[iter][sigma] = result.copy()                                                                                                  \n",
    "        print('This is the test result for initial point sigma {:.2f}, \\\n",
    "                initial iteration {:d} times:\\n{}\\n\\n'.format(sigma, iter, result))"
   ]
  },
  {
   "cell_type": "code",
   "execution_count": 4,
   "metadata": {
    "collapsed": true
   },
   "outputs": [
    {
     "data": {
      "text/plain": [
       "{2: {0.22783848623874436:                 log_accuracy          mse      log_mse        duration  \\\n  brentq               4.30646   0.00100102  0.000996404  0:00:09.920838   \n  brenth               4.30646   0.00100102  0.000996404  0:00:09.856188   \n  ridder               4.30646   0.00100102  0.000996404  0:00:13.539539   \n  bisection            2.57088    0.0146558    0.0143068  0:00:10.359204   \n  mullerBisection      4.31031   0.00102593   0.00102047  0:00:44.329166   \n  newton               4.20707  9.67833e+89     0.153696  0:00:05.334393   \n  halley               4.26991   0.00119317   0.00117705  0:00:04.294872   \n  new_newton            4.0951          inf          inf  0:00:06.987986   \n  new_halley           4.04742   0.00113145   0.00112833  0:00:06.163671   \n  halleyMomentum       3.92695   0.00157629   0.00156689  0:00:06.699850   \n  \n                     steps efficiency  \n  brentq           9.56237   0.294338  \n  brenth           9.78644    0.29174  \n  ridder           7.15947    0.33053  \n  bisection        2.72023   0.535385  \n  mullerBisection  6.59992   0.342116  \n  newton           7.08599        inf  \n  halley           17.1324   0.239491  \n  new_newton       7.88212        inf  \n  new_halley        17.939   0.235933  \n  halleyMomentum   1.80662   0.672726  },\n 5: {0.22783848623874436:                 log_accuracy          mse      log_mse        duration  \\\n  brentq               4.30646   0.00100102  0.000996404  0:00:09.844139   \n  brenth               4.30646   0.00100102  0.000996404  0:00:10.334097   \n  ridder               4.30646   0.00100102  0.000996404  0:00:13.213242   \n  bisection            2.57088    0.0146558    0.0143068  0:00:10.811087   \n  mullerBisection      4.31031   0.00102593   0.00102047  0:00:44.189469   \n  newton               4.20707  9.67833e+89     0.153696  0:00:05.107356   \n  halley               4.26991   0.00119317   0.00117705  0:00:04.342517   \n  new_newton           3.39049          inf          inf  0:00:06.296019   \n  new_halley           4.34422  0.000700316  0.000699358  0:00:07.467320   \n  halleyMomentum       3.93499   0.00143631   0.00143139  0:00:07.577139   \n  \n                     steps efficiency  \n  brentq           9.56237   0.294338  \n  brenth           9.78644    0.29174  \n  ridder           7.15947    0.33053  \n  bisection        2.72023   0.535385  \n  mullerBisection  6.59992   0.342116  \n  newton           7.08599        inf  \n  halley           17.1324   0.239491  \n  new_newton       13.5127        inf  \n  new_halley        17.939   0.235831  \n  halleyMomentum   3.41986   0.467088  },\n 8: {0.22783848623874436:                 log_accuracy          mse      log_mse        duration  \\\n  brentq               4.30646   0.00100102  0.000996404  0:00:10.299021   \n  brenth               4.30646   0.00100102  0.000996404  0:00:10.276612   \n  ridder               4.30646   0.00100102  0.000996404  0:00:13.449981   \n  bisection            2.57088    0.0146558    0.0143068  0:00:11.164833   \n  mullerBisection      4.31031   0.00102593   0.00102047  0:00:43.156249   \n  newton               4.20707  9.67833e+89     0.153696  0:00:05.473967   \n  halley               4.26991   0.00119317   0.00117705  0:00:04.542603   \n  new_newton           3.26949          inf          inf  0:00:06.761548   \n  new_halley           4.34331  0.000703958   0.00070298  0:00:07.882423   \n  halleyMomentum       3.93774   0.00148163   0.00147626  0:00:07.940713   \n  \n                     steps efficiency  \n  brentq           9.56237   0.294338  \n  brenth           9.78644    0.29174  \n  ridder           7.15947    0.33053  \n  bisection        2.72023   0.535385  \n  mullerBisection  6.59992   0.342116  \n  newton           7.08599        inf  \n  halley           17.1324   0.239491  \n  new_newton       16.7331        inf  \n  new_halley       17.5357   0.237571  \n  halleyMomentum   4.22648   0.419761  }}"
      ]
     },
     "execution_count": 4,
     "metadata": {},
     "output_type": "execute_result"
    }
   ],
   "source": [
    "newDic = dicResult.copy()\n",
    "newDic"
   ]
  },
  {
   "cell_type": "code",
   "execution_count": 5,
   "metadata": {},
   "outputs": [],
   "source": [
    "import datetime\n",
    "for i in newDic:\n",
    "    for s in newDic[i]:\n",
    "        for ind in newDic[i][s].index:\n",
    "            duration = newDic[i][s].loc[ind, 'duration']\n",
    "            #d = datetime.time(hour=0, minute=0, second=duration.seconds, microsecond=duration.microseconds).strftime(\"%M:%S.%f\")[:-3]\n",
    "\n",
    "            newDic[i][s].loc[ind, 'seconds'] = duration.total_seconds()"
   ]
  },
  {
   "cell_type": "code",
   "execution_count": 72,
   "metadata": {
    "collapsed": true
   },
   "outputs": [
    {
     "data": {
      "text/plain": [
       "{0.22783848623874436:                  log_mse_iteration=2  running_time_iteration=2  \\\n brentq                      0.000996                  9.920838   \n brenth                      0.000996                  9.856188   \n ridder                      0.000996                 13.539539   \n bisection                   0.014307                 10.359204   \n mullerBisection             0.001020                 44.329166   \n newton                      0.153696                  5.334393   \n halley                      0.001177                  4.294872   \n new_newton                       NaN                  6.987986   \n new_halley                  0.001128                  6.163671   \n halleyMomentum              0.001567                  6.699850   \n \n                  steps_iteration=2  efficiency_iteration=2  \\\n brentq                    9.562374                0.294338   \n brenth                    9.786435                0.291740   \n ridder                    7.159467                0.330530   \n bisection                 2.720226                0.535385   \n mullerBisection           6.599919                0.342116   \n newton                    7.085991                     NaN   \n halley                   17.132418                0.239491   \n new_newton                7.882115                     NaN   \n new_halley               17.939039                0.235933   \n halleyMomentum            1.806621                0.672726   \n \n                  log_mse_iteration=5  running_time_iteration=5  \\\n brentq                      0.000996                  9.844139   \n brenth                      0.000996                 10.334097   \n ridder                      0.000996                 13.213242   \n bisection                   0.014307                 10.811087   \n mullerBisection             0.001020                 44.189469   \n newton                      0.153696                  5.107356   \n halley                      0.001177                  4.342517   \n new_newton                       NaN                  6.296019   \n new_halley                  0.000699                  7.467320   \n halleyMomentum              0.001431                  7.577139   \n \n                  steps_iteration=5  efficiency_iteration=5  \\\n brentq                    9.562374                0.294338   \n brenth                    9.786435                0.291740   \n ridder                    7.159467                0.330530   \n bisection                 2.720226                0.535385   \n mullerBisection           6.599919                0.342116   \n newton                    7.085991                     NaN   \n halley                   17.132418                0.239491   \n new_newton               13.512717                     NaN   \n new_halley               17.939039                0.235831   \n halleyMomentum            3.419863                0.467088   \n \n                  log_mse_iteration=8  running_time_iteration=8  \\\n brentq                      0.000996                 10.299021   \n brenth                      0.000996                 10.276612   \n ridder                      0.000996                 13.449981   \n bisection                   0.014307                 11.164833   \n mullerBisection             0.001020                 43.156249   \n newton                      0.153696                  5.473967   \n halley                      0.001177                  4.542603   \n new_newton                       NaN                  6.761548   \n new_halley                  0.000703                  7.882423   \n halleyMomentum              0.001476                  7.940713   \n \n                  steps_iteration=8  efficiency_iteration=8  \n brentq                    9.562374                0.294338  \n brenth                    9.786435                0.291740  \n ridder                    7.159467                0.330530  \n bisection                 2.720226                0.535385  \n mullerBisection           6.599919                0.342116  \n newton                    7.085991                     NaN  \n halley                   17.132418                0.239491  \n new_newton               16.733145                     NaN  \n new_halley               17.535729                0.237571  \n halleyMomentum            4.226484                0.419761  }"
      ]
     },
     "execution_count": 72,
     "metadata": {},
     "output_type": "execute_result"
    }
   ],
   "source": [
    "df_plt = pd.DataFrame(index=testMethods)\n",
    "dic_plt = {}\n",
    "for s in testSigma:\n",
    "    for i in testIter:\n",
    "        df_plt.loc[:, 'log_mse_iteration={:d}'.format(i)] = newDic[i][s].loc[:, 'log_mse']\n",
    "        df_plt.loc[:, 'running_time_iteration={:d}'.format(i)] = newDic[i][s].loc[:, 'seconds']\n",
    "        df_plt.loc[:, 'steps_iteration={:d}'.format(i)] = newDic[i][s].loc[:, 'steps']\n",
    "        df_plt.loc[:, 'efficiency_iteration={:d}'.format(i)] = newDic[i][s].loc[:, 'efficiency']\n",
    "        df_plt.replace(np.inf, np.nan, inplace=True)\n",
    "    \n",
    "    dic_plt[s] = df_plt\n",
    "    df_plt.to_csv('output_sigma_{:.2f}_0509.csv'.format(s))\n",
    "dic_plt"
   ]
  },
  {
   "cell_type": "code",
   "execution_count": 73,
   "metadata": {},
   "outputs": [
    {
     "name": "stdout",
     "output_type": "stream",
     "text": [
      "Using matplotlib backend: MacOSX\n"
     ]
    }
   ],
   "source": [
    "%matplotlib \n",
    "import matplotlib.pyplot as plt\n",
    "\n",
    "df_acc = dic_plt[0.22783848623874436].iloc[:, [0,4,8]]\n",
    "axes = df_acc.plot(kind='line', subplots=False, colormap='coolwarm', title='$\\log(1 + MSE)$ Comparison for $\\sigma=0.22$', grid=True, sort_columns=True, legend=True, figsize=(15,10))\n",
    "axes.set_ylabel('$\\log(1 + MSE)$')\n",
    "axes.legend(['initial_iterations = 2', 'initial_iterations = 5', 'initial_iterations = 8'], loc='best')\n",
    "plt.show()\n",
    "plt.savefig('log_mse_0509.png')"
   ]
  },
  {
   "cell_type": "code",
   "execution_count": 74,
   "metadata": {},
   "outputs": [],
   "source": [
    "df_acc = dic_plt[0.22783848623874436].iloc[:, [1,5,9]]\n",
    "axes = df_acc.plot(kind='line', subplots=False, colormap='coolwarm', title='Running Time Comparison for $\\sigma=0.22$', grid=True, sort_columns=True, legend=True, figsize=(15,10))\n",
    "axes.set_ylabel('Seconds')\n",
    "axes.legend(['initial_iterations = 2', 'initial_iterations = 5', 'initial_iterations = 8'], loc='best')\n",
    "plt.show()\n",
    "plt.savefig('running_time_0509.png')"
   ]
  },
  {
   "cell_type": "code",
   "execution_count": 75,
   "metadata": {},
   "outputs": [],
   "source": [
    "df_acc = dic_plt[0.22783848623874436].iloc[:, [2,6,10]]\n",
    "axes = df_acc.plot(kind='line', subplots=False, colormap='coolwarm', title='Total Iterations Comparison for $\\sigma=0.22$', grid=True, sort_columns=True, legend=True, figsize=(15,10))\n",
    "axes.set_ylabel('Iterations')\n",
    "axes.legend(['initial_iterations = 2', 'initial_iterations = 5', 'initial_iterations = 8'], loc='best')\n",
    "plt.show()\n",
    "plt.savefig('iterations_0509.png')"
   ]
  },
  {
   "cell_type": "code",
   "execution_count": 78,
   "metadata": {},
   "outputs": [],
   "source": [
    "df_acc = dic_plt[0.22783848623874436].iloc[:, [3,7,11]]\n",
    "\n",
    "axes = df_acc.plot(kind='line', subplots=False, colormap='coolwarm', title='Efficiency Comparison for $\\sigma=0.22$', grid=True, sort_columns=True, legend=True, figsize=(15,10))\n",
    "axes.set_ylabel(r'$\\frac{e^{MSE}}{\\log_2(1+iterations)}$')\n",
    "axes.legend(['initial_iterations = 2', 'initial_iterations = 5', 'initial_iterations = 8'], loc='best')\n",
    "plt.show()\n",
    "plt.savefig('efficiency_0509.png')"
   ]
  },
  {
   "cell_type": "code",
   "execution_count": null,
   "metadata": {},
   "outputs": [],
   "source": [
    ""
   ]
  }
 ],
 "metadata": {
  "kernelspec": {
   "display_name": "Python 2",
   "language": "python",
   "name": "python2"
  },
  "language_info": {
   "codemirror_mode": {
    "name": "ipython",
    "version": 2.0
   },
   "file_extension": ".py",
   "mimetype": "text/x-python",
   "name": "python",
   "nbconvert_exporter": "python",
   "pygments_lexer": "ipython2",
   "version": "2.7.6"
  }
 },
 "nbformat": 4,
 "nbformat_minor": 0
}