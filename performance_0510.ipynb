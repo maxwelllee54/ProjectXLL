{
 "cells": [
  {
   "cell_type": "code",
   "execution_count": 1,
   "metadata": {
    "collapsed": true
   },
   "outputs": [
    {
     "data": {
      "text/html": [
       "<div>\n",
       "<table border=\"1\" class=\"dataframe\">\n",
       "  <thead>\n",
       "    <tr style=\"text-align: right;\">\n",
       "      <th></th>\n",
       "      <th>currentDate</th>\n",
       "      <th>ExpDate</th>\n",
       "      <th>StrikePrice</th>\n",
       "      <th>Ticker</th>\n",
       "      <th>Type</th>\n",
       "      <th>Last</th>\n",
       "      <th>IV</th>\n",
       "      <th>StockPrice</th>\n",
       "      <th>T</th>\n",
       "    </tr>\n",
       "  </thead>\n",
       "  <tbody>\n",
       "    <tr>\n",
       "      <th>0</th>\n",
       "      <td>2017-02-17</td>\n",
       "      <td>2017-03-17</td>\n",
       "      <td>22.5</td>\n",
       "      <td>ARR</td>\n",
       "      <td>Call</td>\n",
       "      <td>0.08</td>\n",
       "      <td>0.13956</td>\n",
       "      <td>21.709999</td>\n",
       "      <td>0.076660</td>\n",
       "    </tr>\n",
       "    <tr>\n",
       "      <th>1</th>\n",
       "      <td>2017-02-17</td>\n",
       "      <td>2017-03-17</td>\n",
       "      <td>20.0</td>\n",
       "      <td>ARR</td>\n",
       "      <td>Put</td>\n",
       "      <td>0.20</td>\n",
       "      <td>0.32783</td>\n",
       "      <td>21.709999</td>\n",
       "      <td>0.076660</td>\n",
       "    </tr>\n",
       "    <tr>\n",
       "      <th>2</th>\n",
       "      <td>2017-02-17</td>\n",
       "      <td>2017-04-21</td>\n",
       "      <td>21.0</td>\n",
       "      <td>ARR</td>\n",
       "      <td>Call</td>\n",
       "      <td>0.75</td>\n",
       "      <td>0.05176</td>\n",
       "      <td>21.709999</td>\n",
       "      <td>0.172485</td>\n",
       "    </tr>\n",
       "    <tr>\n",
       "      <th>3</th>\n",
       "      <td>2017-02-17</td>\n",
       "      <td>2017-04-21</td>\n",
       "      <td>22.0</td>\n",
       "      <td>ARR</td>\n",
       "      <td>Call</td>\n",
       "      <td>0.30</td>\n",
       "      <td>0.10719</td>\n",
       "      <td>21.709999</td>\n",
       "      <td>0.172485</td>\n",
       "    </tr>\n",
       "    <tr>\n",
       "      <th>4</th>\n",
       "      <td>2017-02-17</td>\n",
       "      <td>2017-03-17</td>\n",
       "      <td>180.0</td>\n",
       "      <td>MSG</td>\n",
       "      <td>Put</td>\n",
       "      <td>6.45</td>\n",
       "      <td>0.18380</td>\n",
       "      <td>175.300003</td>\n",
       "      <td>0.076660</td>\n",
       "    </tr>\n",
       "  </tbody>\n",
       "</table>\n",
       "</div>"
      ],
      "text/plain": [
       "<div>\n",
       "<table border=\"1\" class=\"dataframe\">\n",
       "  <thead>\n",
       "    <tr style=\"text-align: right;\">\n",
       "      <th></th>\n",
       "      <th>currentDate</th>\n",
       "      <th>ExpDate</th>\n",
       "      <th>StrikePrice</th>\n",
       "      <th>Ticker</th>\n",
       "      <th>Type</th>\n",
       "      <th>Last</th>\n",
       "      <th>IV</th>\n",
       "      <th>StockPrice</th>\n",
       "      <th>T</th>\n",
       "    </tr>\n",
       "  </thead>\n",
       "  <tbody>\n",
       "    <tr>\n",
       "      <th>0</th>\n",
       "      <td>2017-02-17</td>\n",
       "      <td>2017-03-17</td>\n",
       "      <td>22.5</td>\n",
       "      <td>ARR</td>\n",
       "      <td>Call</td>\n",
       "      <td>0.08</td>\n",
       "      <td>0.13956</td>\n",
       "      <td>21.709999</td>\n",
       "      <td>0.076660</td>\n",
       "    </tr>\n",
       "    <tr>\n",
       "      <th>1</th>\n",
       "      <td>2017-02-17</td>\n",
       "      <td>2017-03-17</td>\n",
       "      <td>20.0</td>\n",
       "      <td>ARR</td>\n",
       "      <td>Put</td>\n",
       "      <td>0.20</td>\n",
       "      <td>0.32783</td>\n",
       "      <td>21.709999</td>\n",
       "      <td>0.076660</td>\n",
       "    </tr>\n",
       "    <tr>\n",
       "      <th>2</th>\n",
       "      <td>2017-02-17</td>\n",
       "      <td>2017-04-21</td>\n",
       "      <td>21.0</td>\n",
       "      <td>ARR</td>\n",
       "      <td>Call</td>\n",
       "      <td>0.75</td>\n",
       "      <td>0.05176</td>\n",
       "      <td>21.709999</td>\n",
       "      <td>0.172485</td>\n",
       "    </tr>\n",
       "    <tr>\n",
       "      <th>3</th>\n",
       "      <td>2017-02-17</td>\n",
       "      <td>2017-04-21</td>\n",
       "      <td>22.0</td>\n",
       "      <td>ARR</td>\n",
       "      <td>Call</td>\n",
       "      <td>0.30</td>\n",
       "      <td>0.10719</td>\n",
       "      <td>21.709999</td>\n",
       "      <td>0.172485</td>\n",
       "    </tr>\n",
       "    <tr>\n",
       "      <th>4</th>\n",
       "      <td>2017-02-17</td>\n",
       "      <td>2017-03-17</td>\n",
       "      <td>180.0</td>\n",
       "      <td>MSG</td>\n",
       "      <td>Put</td>\n",
       "      <td>6.45</td>\n",
       "      <td>0.18380</td>\n",
       "      <td>175.300003</td>\n",
       "      <td>0.076660</td>\n",
       "    </tr>\n",
       "  </tbody>\n",
       "</table>\n",
       "</div>"
      ]
     },
     "execution_count": 1,
     "metadata": {},
     "output_type": "execute_result"
    }
   ],
   "source": [
    "import methods\n",
    "import pandas as pd\n",
    "data = pd.read_csv('europeanOptions_0510.01tol.csv')                                                                                       \n",
    "data = data.loc[:, ['currentDate', 'ExpDate', 'StrikePrice', 'Ticker', 'Type', 'Last', 'IV', 'StockPrice', 'T']]\n",
    "data.head()"
   ]
  },
  {
   "cell_type": "code",
   "execution_count": 3,
   "metadata": {
    "collapsed": false
   },
   "outputs": [
    {
     "name": "stdout",
     "output_type": "stream",
     "text": [
      "Newton Diverge!\n\nNewton Diverge!\n\nNewton Diverge!\n\nNewton Diverge!\n\nNewton Diverge!\n\nNewton Diverge!\n\nNewton Diverge!\n\nNewton Diverge!\n\nNewton Diverge!\n\nNewton Diverge!\n\nNewton Diverge!\n\n"
     ]
    },
    {
     "name": "stdout",
     "output_type": "stream",
     "text": [
      "Newton Diverge!\n\nNewton Diverge!\n\nNewton Diverge!\n\nNewton Diverge!\n\nNewton Diverge!\n\nNewton Diverge!\n\nNewton Diverge!\n\nNewton Diverge!\n\nNewton Diverge!\n\n"
     ]
    },
    {
     "name": "stdout",
     "output_type": "stream",
     "text": [
      "Newton Diverge!\n\nNewton Diverge!\n\nNewton Diverge!\n\nNewton Diverge!\n\nNewton Diverge!\n\nNewton Diverge!\n\nNewton Diverge!\n\nNewton Diverge!\n\nNewton Diverge!\n\nNewton Diverge!\n\nNewton Diverge!\n\nNewton Diverge!\n\nNewton Diverge!\n\n"
     ]
    },
    {
     "name": "stdout",
     "output_type": "stream",
     "text": [
      "Newton Diverge!\n\nNewton Diverge!\n\nNewton Diverge!\n\nNewton Diverge!\n\n"
     ]
    },
    {
     "name": "stdout",
     "output_type": "stream",
     "text": [
      "Newton Diverge!\n\nNewton Diverge!\n\nNewton Diverge!\n\nNewton Diverge!\n\nNewton Diverge!\n\nNewton Diverge!\n\nNewton Diverge!\n\nNewton Diverge!\n\nNewton Diverge!\n\nNewton Diverge!\n\nNewton Diverge!\n\nNewton Diverge!\n\nNewton Diverge!\n\nNewton Diverge!\n\nNewton Diverge!\n\nNewton Diverge!\n\nNewton Diverge!\n\nNewton Diverge!\n\nNewton Diverge!\n\nNewton Diverge!\n\nNewton Diverge!\n\nNewton Diverge!\n\nNewton Diverge!\n\nNewton Diverge!\n\nNewton Diverge!\n\n"
     ]
    },
    {
     "name": "stdout",
     "output_type": "stream",
     "text": [
      "Newton Diverge!\n\nNewton Diverge!\n\nNewton Diverge!\n\nNewton Diverge!\n\nNewton Diverge!\n\nNewton Diverge!\n\nNewton Diverge!\n\n"
     ]
    },
    {
     "name": "stdout",
     "output_type": "stream",
     "text": [
      "Newton Diverge!\n\nNewton Diverge!\n\nNewton Diverge!\n\n"
     ]
    },
    {
     "name": "stdout",
     "output_type": "stream",
     "text": [
      "Newton Diverge!\n\nNewton Diverge!\n\nNewton Diverge!\n\nNewton Diverge!\n\nNewton Diverge!\n\nNewton Diverge!\n\nNewton Diverge!\n\nNewton Diverge!\n\nNewton Diverge!\n\nNewton Diverge!\n\n"
     ]
    },
    {
     "name": "stdout",
     "output_type": "stream",
     "text": [
      "Newton Diverge!\n\nNewton Diverge!\n\nNewton Diverge!\n\nNewton Diverge!\n\nNewton Diverge!\n\nNewton Diverge!\n\n"
     ]
    },
    {
     "name": "stdout",
     "output_type": "stream",
     "text": [
      "Newton Diverge!\n\nNewton Diverge!\n\nNewton Diverge!\n\nNewton Diverge!\n\nNewton Diverge!\n\nNewton Diverge!\n\nNewton Diverge!\n\nNewton Diverge!\n\n"
     ]
    },
    {
     "name": "stdout",
     "output_type": "stream",
     "text": [
      "Newton Diverge!\n\nNewton Diverge!\n\nNewton Diverge!\n\nNewton Diverge!\n\nNewton Diverge!\n\nNewton Diverge!\n\nNewton Diverge!\n\n"
     ]
    },
    {
     "name": "stdout",
     "output_type": "stream",
     "text": [
      "Newton Diverge!\n\nNewton Diverge!\n\nNewton Diverge!\n\nNewton Diverge!\n\nNewton Diverge!\n\nNewton Diverge!\n\nNewton Diverge!\n\nNewton Diverge!\n\nNewton Diverge!\n\nNewton Diverge!\n\n"
     ]
    },
    {
     "name": "stdout",
     "output_type": "stream",
     "text": [
      "Newton Diverge!\n\nNewton Diverge!\n\nNewton Diverge!\n\nNewton Diverge!\n\nNewton Diverge!\n\nNewton Diverge!\n\nNewton Diverge!\n\nNewton Diverge!\n\nNewton Diverge!\n\nNewton Diverge!\n\nNewton Diverge!\n\nNewton Diverge!\n\nNewton Diverge!\n\nNewton Diverge!\n\n"
     ]
    },
    {
     "name": "stdout",
     "output_type": "stream",
     "text": [
      "Newton Diverge!\n\nNewton Diverge!\n\nNewton Diverge!\n\nNewton Diverge!\n\n"
     ]
    },
    {
     "name": "stdout",
     "output_type": "stream",
     "text": [
      "Newton Diverge!\n\nNewton Diverge!\n\nNewton Diverge!\n\nNewton Diverge!\n\nNewton Diverge!\n\n"
     ]
    },
    {
     "name": "stdout",
     "output_type": "stream",
     "text": [
      "Newton Diverge!\n\nNewton Diverge!\n\nNewton Diverge!\n\nNewton Diverge!\n\nNewton Diverge!\n\nNewton Diverge!\n\nNewton Diverge!\n\nNewton Diverge!\n\n"
     ]
    },
    {
     "name": "stdout",
     "output_type": "stream",
     "text": [
      "Newton Diverge!\n\nNewton Diverge!\n\nNewton Diverge!\n\nNewton Diverge!\n\nNewton Diverge!\n\nNewton Diverge!\n\nNewton Diverge!\n\nNewton Diverge!\n\nNewton Diverge!\n\nNewton Diverge!\n\nNewton Diverge!\n\n"
     ]
    },
    {
     "name": "stdout",
     "output_type": "stream",
     "text": [
      "Newton Diverge!\n\nNewton Diverge!\n\nNewton Diverge!\n\nNewton Diverge!\n\nNewton Diverge!\n\nNewton Diverge!\n\nNewton Diverge!\n\n"
     ]
    },
    {
     "name": "stdout",
     "output_type": "stream",
     "text": [
      "Newton Diverge!\n\nNewton Diverge!\n\nNewton Diverge!\n\nNewton Diverge!\n\nNewton Diverge!\n\nNewton Diverge!\n\nNewton Diverge!\n\n"
     ]
    },
    {
     "name": "stdout",
     "output_type": "stream",
     "text": [
      "Newton Diverge!\n\nNewton Diverge!\n\nNewton Diverge!\n\nNewton Diverge!\n\nNewton Diverge!\n\nNewton Diverge!\n\nNewton Diverge!\n\nNewton Diverge!\n\nNewton Diverge!\n\nNewton Diverge!\n\n"
     ]
    },
    {
     "name": "stdout",
     "output_type": "stream",
     "text": [
      "Newton Diverge!\n\nNewton Diverge!\n\nNewton Diverge!\n\nNewton Diverge!\n\nNewton Diverge!\n\nNewton Diverge!\n\nNewton Diverge!\n\nNewton Diverge!\n\nNewton Diverge!\n\nNewton Diverge!\n\nNewton Diverge!\n\nNewton Diverge!\n\nNewton Diverge!\n\nNewton Diverge!\n\nNewton Diverge!\n\nNewton Diverge!\n\nNewton Diverge!\n\nNewton Diverge!\n\nNewton Diverge!\n\nNewton Diverge!\n\nNewton Diverge!\n\nNewton Diverge!\n\nNewton Diverge!\n\nNewton Diverge!\n\nNewton Diverge!\n\nNewton Diverge!\n\n"
     ]
    },
    {
     "name": "stdout",
     "output_type": "stream",
     "text": [
      "Newton Diverge!\n\nNewton Diverge!\n\nNewton Diverge!\n\nNewton Diverge!\n\n"
     ]
    },
    {
     "name": "stdout",
     "output_type": "stream",
     "text": [
      "Newton Diverge!\n\nNewton Diverge!\n\nNewton Diverge!\n\nNewton Diverge!\n\nNewton Diverge!\n\nNewton Diverge!\n\nNewton Diverge!\n\nNewton Diverge!\n\n"
     ]
    },
    {
     "name": "stdout",
     "output_type": "stream",
     "text": [
      "Newton Diverge!\n\nNewton Diverge!\n\nNewton Diverge!\n\nNewton Diverge!\n\n"
     ]
    },
    {
     "name": "stdout",
     "output_type": "stream",
     "text": [
      "Newton Diverge!\n\nNewton Diverge!\n\nNewton Diverge!\n\nNewton Diverge!\n\n"
     ]
    },
    {
     "name": "stdout",
     "output_type": "stream",
     "text": [
      "Newton Diverge!\n\nNewton Diverge!\n\nNewton Diverge!\n\nNewton Diverge!\n\nNewton Diverge!\n\nNewton Diverge!\n\nNewton Diverge!\n\nNewton Diverge!\n\n"
     ]
    },
    {
     "name": "stdout",
     "output_type": "stream",
     "text": [
      "Newton Diverge!\n\nNewton Diverge!\n\n"
     ]
    },
    {
     "name": "stdout",
     "output_type": "stream",
     "text": [
      "Newton Diverge!\n\nNewton Diverge!\n\n"
     ]
    },
    {
     "name": "stdout",
     "output_type": "stream",
     "text": [
      "Newton Diverge!\n\nNewton Diverge!\n\nNewton Diverge!\n\nNewton Diverge!\n\n"
     ]
    },
    {
     "name": "stdout",
     "output_type": "stream",
     "text": [
      "Newton Diverge!\n\nNewton Diverge!\n\nNewton Diverge!\n\nNewton Diverge!\n\n"
     ]
    },
    {
     "name": "stdout",
     "output_type": "stream",
     "text": [
      "Newton Diverge!\n\nNewton Diverge!\n\n"
     ]
    },
    {
     "name": "stdout",
     "output_type": "stream",
     "text": [
      "Newton Diverge!\n\nNewton Diverge!\n\n"
     ]
    },
    {
     "name": "stdout",
     "output_type": "stream",
     "text": [
      "Halley Diverge!\n\nHalley Diverge!\n\nHalley Diverge!\n\nHalley Diverge!\n\n"
     ]
    },
    {
     "name": "stdout",
     "output_type": "stream",
     "text": [
      "Halley Diverge!\n\nHalley Diverge!\n\nHalley Diverge!\n\nHalley Diverge!\n\nHalley Diverge!\n\nHalley Diverge!\n\nHalley Diverge!\n\nHalley Diverge!\n\n"
     ]
    },
    {
     "name": "stdout",
     "output_type": "stream",
     "text": [
      "Halley Diverge!\n\nHalley Diverge!\n\nHalley Diverge!\n\nHalley Diverge!\n\n"
     ]
    },
    {
     "name": "stdout",
     "output_type": "stream",
     "text": [
      "Halley Diverge!\n\nHalley Diverge!\n\nHalley Diverge!\n\nHalley Diverge!\n\n"
     ]
    },
    {
     "name": "stdout",
     "output_type": "stream",
     "text": [
      "Halley Diverge!\n\nHalley Diverge!\n\nHalley Diverge!\n\nHalley Diverge!\n\nHalley Diverge!\n\nHalley Diverge!\n\nHalley Diverge!\n\nHalley Diverge!\n\n"
     ]
    },
    {
     "name": "stdout",
     "output_type": "stream",
     "text": [
      "Halley Diverge!\n\nHalley Diverge!\n\n"
     ]
    },
    {
     "name": "stdout",
     "output_type": "stream",
     "text": [
      "Halley Diverge!\n\nHalley Diverge!\n\n"
     ]
    },
    {
     "name": "stdout",
     "output_type": "stream",
     "text": [
      "Halley Diverge!\n\nHalley Diverge!\n\nHalley Diverge!\n\nHalley Diverge!\n\n"
     ]
    },
    {
     "name": "stdout",
     "output_type": "stream",
     "text": [
      "Halley Diverge!\n\nHalley Diverge!\n\nHalley Diverge!\n\nHalley Diverge!\n\n"
     ]
    },
    {
     "name": "stdout",
     "output_type": "stream",
     "text": [
      "Halley Diverge!\n\nHalley Diverge!\n\n"
     ]
    },
    {
     "name": "stdout",
     "output_type": "stream",
     "text": [
      "Halley Diverge!\n\nHalley Diverge!\n\n"
     ]
    },
    {
     "name": "stdout",
     "output_type": "stream",
     "text": [
      "Halley Diverge!\n\nHalley Diverge!\n\nHalley Diverge!\n\nHalley Diverge!\n\n"
     ]
    },
    {
     "name": "stdout",
     "output_type": "stream",
     "text": [
      "Halley Diverge!\n\nHalley Diverge!\n\nHalley Diverge!\n\nHalley Diverge!\n\nHalley Diverge!\n\nHalley Diverge!\n\nHalley Diverge!\n\nHalley Diverge!\n\n"
     ]
    },
    {
     "name": "stdout",
     "output_type": "stream",
     "text": [
      "Halley Diverge!\n\nHalley Diverge!\n\nHalley Diverge!\n\nHalley Diverge!\n\n"
     ]
    },
    {
     "name": "stdout",
     "output_type": "stream",
     "text": [
      "Halley Diverge!\n\nHalley Diverge!\n\nHalley Diverge!\n\nHalley Diverge!\n\n"
     ]
    },
    {
     "name": "stdout",
     "output_type": "stream",
     "text": [
      "Halley Diverge!\n\nHalley Diverge!\n\nHalley Diverge!\n\nHalley Diverge!\n\nHalley Diverge!\n\nHalley Diverge!\n\nHalley Diverge!\n\nHalley Diverge!\n\n"
     ]
    },
    {
     "name": "stdout",
     "output_type": "stream",
     "text": [
      "Halley Diverge!\n\nHalley Diverge!\n\n"
     ]
    },
    {
     "name": "stdout",
     "output_type": "stream",
     "text": [
      "Halley Diverge!\n\nHalley Diverge!\n\n"
     ]
    },
    {
     "name": "stdout",
     "output_type": "stream",
     "text": [
      "Halley Diverge!\n\nHalley Diverge!\n\nHalley Diverge!\n\nHalley Diverge!\n\n"
     ]
    },
    {
     "name": "stdout",
     "output_type": "stream",
     "text": [
      "Halley Diverge!\n\nHalley Diverge!\n\nHalley Diverge!\n\nHalley Diverge!\n\n"
     ]
    },
    {
     "name": "stdout",
     "output_type": "stream",
     "text": [
      "Halley Diverge!\n\nHalley Diverge!\n\n"
     ]
    },
    {
     "name": "stdout",
     "output_type": "stream",
     "text": [
      "Halley Diverge!\n\nHalley Diverge!\n\n"
     ]
    },
    {
     "name": "stdout",
     "output_type": "stream",
     "text": [
      "HalleyMom Diverge!\n\nHalleyMom Diverge!\n\n"
     ]
    },
    {
     "name": "stdout",
     "output_type": "stream",
     "text": [
      "HalleyMom Diverge!\n\nHalleyMom Diverge!\n\n"
     ]
    },
    {
     "name": "stdout",
     "output_type": "stream",
     "text": [
      "HalleyMom Diverge!\n\nHalleyMom Diverge!\n\nHalleyMom Diverge!\n\nHalleyMom Diverge!\n\n"
     ]
    },
    {
     "name": "stdout",
     "output_type": "stream",
     "text": [
      "HalleyMom Diverge!\n\nHalleyMom Diverge!\n\nHalleyMom Diverge!\n\nHalleyMom Diverge!\n\n"
     ]
    },
    {
     "name": "stdout",
     "output_type": "stream",
     "text": [
      "HalleyMom Diverge!\n\nHalleyMom Diverge!\n\nHalleyMom Diverge!\n\nHalleyMom Diverge!\n\n"
     ]
    },
    {
     "name": "stdout",
     "output_type": "stream",
     "text": [
      "HalleyMom Diverge!\n\nHalleyMom Diverge!\n\n"
     ]
    },
    {
     "name": "stdout",
     "output_type": "stream",
     "text": [
      "HalleyMom Diverge!\n\nHalleyMom Diverge!\n\n"
     ]
    },
    {
     "name": "stdout",
     "output_type": "stream",
     "text": [
      "HalleyMom Diverge!\n\nHalleyMom Diverge!\n\nHalleyMom Diverge!\n\nHalleyMom Diverge!\n\nHalleyMom Diverge!\n\nHalleyMom Diverge!\n\n"
     ]
    },
    {
     "name": "stdout",
     "output_type": "stream",
     "text": [
      "HalleyMom Diverge!\n\nHalleyMom Diverge!\n\n"
     ]
    },
    {
     "name": "stdout",
     "output_type": "stream",
     "text": [
      "HalleyMom Diverge!\n\nHalleyMom Diverge!\n\n"
     ]
    },
    {
     "name": "stdout",
     "output_type": "stream",
     "text": [
      "HalleyMom Diverge!\n\nHalleyMom Diverge!\n\n"
     ]
    },
    {
     "name": "stdout",
     "output_type": "stream",
     "text": [
      "HalleyMom Diverge!\n\nHalleyMom Diverge!\n\nHalleyMom Diverge!\n\nHalleyMom Diverge!\n\n"
     ]
    },
    {
     "name": "stdout",
     "output_type": "stream",
     "text": [
      "HalleyMom Diverge!\n\nHalleyMom Diverge!\n\n"
     ]
    },
    {
     "name": "stdout",
     "output_type": "stream",
     "text": [
      "HalleyMom Diverge!\n\nHalleyMom Diverge!\n\n"
     ]
    },
    {
     "name": "stdout",
     "output_type": "stream",
     "text": [
      "HalleyMom Diverge!\n\nHalleyMom Diverge!\n\n"
     ]
    },
    {
     "name": "stdout",
     "output_type": "stream",
     "text": [
      "HalleyMom Diverge!\n\nHalleyMom Diverge!\n\n"
     ]
    },
    {
     "name": "stdout",
     "output_type": "stream",
     "text": [
      "This is the test result for initial point sigma 1.57,                 initial iteration 5 times:\n                log_accuracy          mse      log_mse        duration  \\\nbrentq               5.61836  3.29937e-05  3.29927e-05  0:00:10.284127   \nbrenth               5.61836  3.29937e-05  3.29927e-05  0:00:09.609053   \nridder               5.61836  3.29937e-05  3.29927e-05  0:00:12.748189   \nbisection            5.61836  3.29937e-05  3.29927e-05  0:06:41.357249   \nmullerBisection      5.62736  3.23985e-05  3.23976e-05  0:08:17.205082   \nnewton               5.34833    0.0735792    0.0390879  0:00:05.974502   \nnew_newton           5.61179  5.89468e-05   5.8773e-05  0:00:06.637508   \nhalley               5.59529   0.00135244  0.000854617  0:00:07.778419   \nnew_halley           5.61081   0.00010368  0.000101723  0:00:07.737402   \nhalleyMomentum       3.94776  0.000781353  0.000778811  0:00:21.920517   \n\n                   steps efficiency  \nbrentq           9.17767   0.298755  \nbrenth           9.39696   0.296035  \nridder             7.002   0.333304  \nbisection         123.03   0.143795  \nmullerBisection  95.0436   0.151851  \nnewton           269.168    0.13325  \nnew_newton       89.0264   0.154038  \nhalley           89.0264   0.154238  \nnew_halley       89.0264   0.154045  \nhalleyMomentum   89.0264    0.15415  \n\n\n"
     ]
    },
    {
     "name": "stdout",
     "output_type": "stream",
     "text": [
      "Newton Diverge!\n\nNewton Diverge!\n\nNewton Diverge!\n\nNewton Diverge!\n\nNewton Diverge!\n\nNewton Diverge!\n\nNewton Diverge!\n\nNewton Diverge!\n\n"
     ]
    },
    {
     "name": "stdout",
     "output_type": "stream",
     "text": [
      "Newton Diverge!\n\nNewton Diverge!\n\nNewton Diverge!\n\nNewton Diverge!\n\nNewton Diverge!\n\nNewton Diverge!\n\nNewton Diverge!\n\nNewton Diverge!\n\nNewton Diverge!\n\n"
     ]
    },
    {
     "name": "stdout",
     "output_type": "stream",
     "text": [
      "Newton Diverge!\n\nNewton Diverge!\n\nNewton Diverge!\n\nNewton Diverge!\n\nNewton Diverge!\n\nNewton Diverge!\n\nNewton Diverge!\n\nNewton Diverge!\n\nNewton Diverge!\n\nNewton Diverge!\n\n"
     ]
    },
    {
     "name": "stdout",
     "output_type": "stream",
     "text": [
      "Newton Diverge!\n\nNewton Diverge!\n\nNewton Diverge!\n\nNewton Diverge!\n\nNewton Diverge!\n\nNewton Diverge!\n\nNewton Diverge!\n\nNewton Diverge!\n\nNewton Diverge!\n\nNewton Diverge!\n\nNewton Diverge!\n\nNewton Diverge!\n\nNewton Diverge!\n\nNewton Diverge!\n\n"
     ]
    },
    {
     "name": "stdout",
     "output_type": "stream",
     "text": [
      "Newton Diverge!\n\nNewton Diverge!\n\nNewton Diverge!\n\nNewton Diverge!\n\nNewton Diverge!\n\nNewton Diverge!\n\nNewton Diverge!\n\nNewton Diverge!\n\nNewton Diverge!\n\nNewton Diverge!\n\nNewton Diverge!\n\nNewton Diverge!\n\nNewton Diverge!\n\nNewton Diverge!\n\nNewton Diverge!\n\nNewton Diverge!\n\nNewton Diverge!\n\nNewton Diverge!\n\nNewton Diverge!\n\nNewton Diverge!\n\nNewton Diverge!\n\nNewton Diverge!\n\nNewton Diverge!\n\nNewton Diverge!\n\nNewton Diverge!\n\nNewton Diverge!\n\nNewton Diverge!\n\nNewton Diverge!\n\nNewton Diverge!\n\nNewton Diverge!\n\nNewton Diverge!\n\nNewton Diverge!\n\nNewton Diverge!\n\nNewton Diverge!\n\nNewton Diverge!\n\nNewton Diverge!\n\nNewton Diverge!\n\nNewton Diverge!\n\nNewton Diverge!\n\nNewton Diverge!\n\n"
     ]
    },
    {
     "name": "stdout",
     "output_type": "stream",
     "text": [
      "Newton Diverge!\n\nNewton Diverge!\n\n"
     ]
    },
    {
     "name": "stdout",
     "output_type": "stream",
     "text": [
      "Newton Diverge!\n\nNewton Diverge!\n\nNewton Diverge!\n\nNewton Diverge!\n\nNewton Diverge!\n\nNewton Diverge!\n\nNewton Diverge!\n\nNewton Diverge!\n\nNewton Diverge!\n\nNewton Diverge!\n\nNewton Diverge!\n\nNewton Diverge!\n\nNewton Diverge!\n\nNewton Diverge!\n\n"
     ]
    },
    {
     "name": "stdout",
     "output_type": "stream",
     "text": [
      "Newton Diverge!\n\nNewton Diverge!\n\nNewton Diverge!\n\n"
     ]
    },
    {
     "name": "stdout",
     "output_type": "stream",
     "text": [
      "Newton Diverge!\n\nNewton Diverge!\n\nNewton Diverge!\n\nNewton Diverge!\n\nNewton Diverge!\n\nNewton Diverge!\n\nNewton Diverge!\n\nNewton Diverge!\n\nNewton Diverge!\n\nNewton Diverge!\n\nNewton Diverge!\n\nNewton Diverge!\n\nNewton Diverge!\n\nNewton Diverge!\n\nNewton Diverge!\n\nNewton Diverge!\n\nNewton Diverge!\n\nNewton Diverge!\n\nNewton Diverge!\n\nNewton Diverge!\n\nNewton Diverge!\n\nNewton Diverge!\n\n"
     ]
    },
    {
     "name": "stdout",
     "output_type": "stream",
     "text": [
      "Newton Diverge!\n\nNewton Diverge!\n\nNewton Diverge!\n\nNewton Diverge!\n\nNewton Diverge!\n\nNewton Diverge!\n\nNewton Diverge!\n\nNewton Diverge!\n\nNewton Diverge!\n\nNewton Diverge!\n\n"
     ]
    },
    {
     "name": "stdout",
     "output_type": "stream",
     "text": [
      "Newton Diverge!\n\nNewton Diverge!\n\nNewton Diverge!\n\nNewton Diverge!\n\nNewton Diverge!\n\nNewton Diverge!\n\nNewton Diverge!\n\nNewton Diverge!\n\nNewton Diverge!\n\nNewton Diverge!\n\nNewton Diverge!\n\nNewton Diverge!\n\nNewton Diverge!\n\nNewton Diverge!\n\nNewton Diverge!\n\nNewton Diverge!\n\nNewton Diverge!\n\n"
     ]
    },
    {
     "name": "stdout",
     "output_type": "stream",
     "text": [
      "Newton Diverge!\n\nNewton Diverge!\n\nNewton Diverge!\n\nNewton Diverge!\n\nNewton Diverge!\n\nNewton Diverge!\n\nNewton Diverge!\n\nNewton Diverge!\n\nNewton Diverge!\n\nNewton Diverge!\n\n"
     ]
    },
    {
     "name": "stdout",
     "output_type": "stream",
     "text": [
      "Newton Diverge!\n\nNewton Diverge!\n\nNewton Diverge!\n\nNewton Diverge!\n\nNewton Diverge!\n\nNewton Diverge!\n\nNewton Diverge!\n\nNewton Diverge!\n\nNewton Diverge!\n\nNewton Diverge!\n\nNewton Diverge!\n\nNewton Diverge!\n\nNewton Diverge!\n\nNewton Diverge!\n\n"
     ]
    },
    {
     "name": "stdout",
     "output_type": "stream",
     "text": [
      "Newton Diverge!\n\nNewton Diverge!\n\nNewton Diverge!\n\nNewton Diverge!\n\nNewton Diverge!\n\nNewton Diverge!\n\nNewton Diverge!\n\nNewton Diverge!\n\nNewton Diverge!\n\nNewton Diverge!\n\nNewton Diverge!\n\nNewton Diverge!\n\nNewton Diverge!\n\nNewton Diverge!\n\nNewton Diverge!\n\nNewton Diverge!\n\nNewton Diverge!\n\nNewton Diverge!\n\n"
     ]
    },
    {
     "name": "stdout",
     "output_type": "stream",
     "text": [
      "Newton Diverge!\n\nNewton Diverge!\n\nNewton Diverge!\n\nNewton Diverge!\n\nNewton Diverge!\n\nNewton Diverge!\n\nNewton Diverge!\n\nNewton Diverge!\n\nNewton Diverge!\n\nNewton Diverge!\n\nNewton Diverge!\n\nNewton Diverge!\n\nNewton Diverge!\n\nNewton Diverge!\n\nNewton Diverge!\n\nNewton Diverge!\n\nNewton Diverge!\n\n"
     ]
    },
    {
     "name": "stdout",
     "output_type": "stream",
     "text": [
      "Newton Diverge!\n\nNewton Diverge!\n\nNewton Diverge!\n\nNewton Diverge!\n\nNewton Diverge!\n\nNewton Diverge!\n\nNewton Diverge!\n\nNewton Diverge!\n\nNewton Diverge!\n\nNewton Diverge!\n\nNewton Diverge!\n\nNewton Diverge!\n\nNewton Diverge!\n\nNewton Diverge!\n\nNewton Diverge!\n\n"
     ]
    },
    {
     "name": "stdout",
     "output_type": "stream",
     "text": [
      "Newton Diverge!\n\nNewton Diverge!\n\nNewton Diverge!\n\nNewton Diverge!\n\nNewton Diverge!\n\nNewton Diverge!\n\nNewton Diverge!\n\nNewton Diverge!\n\nNewton Diverge!\n\nNewton Diverge!\n\nNewton Diverge!\n\n"
     ]
    },
    {
     "name": "stdout",
     "output_type": "stream",
     "text": [
      "Newton Diverge!\n\nNewton Diverge!\n\nNewton Diverge!\n\nNewton Diverge!\n\nNewton Diverge!\n\nNewton Diverge!\n\nNewton Diverge!\n\nNewton Diverge!\n\nNewton Diverge!\n\nNewton Diverge!\n\nNewton Diverge!\n\nNewton Diverge!\n\nNewton Diverge!\n\nNewton Diverge!\n\nNewton Diverge!\n\nNewton Diverge!\n\nNewton Diverge!\n\nNewton Diverge!\n\nNewton Diverge!\n\nNewton Diverge!\n\nNewton Diverge!\n\nNewton Diverge!\n\nNewton Diverge!\n\nNewton Diverge!\n\nNewton Diverge!\n\nNewton Diverge!\n\nNewton Diverge!\n\nNewton Diverge!\n\n"
     ]
    },
    {
     "name": "stdout",
     "output_type": "stream",
     "text": [
      "Newton Diverge!\n\nNewton Diverge!\n\nNewton Diverge!\n\nNewton Diverge!\n\nNewton Diverge!\n\nNewton Diverge!\n\nNewton Diverge!\n\nNewton Diverge!\n\nNewton Diverge!\n\nNewton Diverge!\n\nNewton Diverge!\n\nNewton Diverge!\n\nNewton Diverge!\n\nNewton Diverge!\n\nNewton Diverge!\n\nNewton Diverge!\n\nNewton Diverge!\n\n"
     ]
    },
    {
     "name": "stdout",
     "output_type": "stream",
     "text": [
      "Newton Diverge!\n\nNewton Diverge!\n\nNewton Diverge!\n\nNewton Diverge!\n\nNewton Diverge!\n\nNewton Diverge!\n\nNewton Diverge!\n\nNewton Diverge!\n\nNewton Diverge!\n\nNewton Diverge!\n\nNewton Diverge!\n\n"
     ]
    },
    {
     "name": "stdout",
     "output_type": "stream",
     "text": [
      "Newton Diverge!\n\nNewton Diverge!\n\nNewton Diverge!\n\nNewton Diverge!\n\nNewton Diverge!\n\nNewton Diverge!\n\nNewton Diverge!\n\nNewton Diverge!\n\nNewton Diverge!\n\nNewton Diverge!\n\nNewton Diverge!\n\nNewton Diverge!\n\nNewton Diverge!\n\n"
     ]
    },
    {
     "name": "stdout",
     "output_type": "stream",
     "text": [
      "Newton Diverge!\n\nNewton Diverge!\n\nNewton Diverge!\n\nNewton Diverge!\n\nNewton Diverge!\n\nNewton Diverge!\n\nNewton Diverge!\n\nNewton Diverge!\n\nNewton Diverge!\n\nNewton Diverge!\n\nNewton Diverge!\n\nNewton Diverge!\n\nNewton Diverge!\n\nNewton Diverge!\n\nNewton Diverge!\n\n"
     ]
    },
    {
     "name": "stdout",
     "output_type": "stream",
     "text": [
      "Newton Diverge!\n\nNewton Diverge!\n\n"
     ]
    },
    {
     "name": "stdout",
     "output_type": "stream",
     "text": [
      "Newton Diverge!\n\nNewton Diverge!\n\nNewton Diverge!\n\nNewton Diverge!\n\nNewton Diverge!\n\nNewton Diverge!\n\nNewton Diverge!\n\nNewton Diverge!\n\nNewton Diverge!\n\nNewton Diverge!\n\nNewton Diverge!\n\nNewton Diverge!\n\nNewton Diverge!\n\nNewton Diverge!\n\nNewton Diverge!\n\nNewton Diverge!\n\nNewton Diverge!\n\nNewton Diverge!\n\nNewton Diverge!\n\nNewton Diverge!\n\nNewton Diverge!\n\nNewton Diverge!\n\nNewton Diverge!\n\nNewton Diverge!\n\nNewton Diverge!\n\nNewton Diverge!\n\nNewton Diverge!\n\n"
     ]
    },
    {
     "name": "stdout",
     "output_type": "stream",
     "text": [
      "Newton Diverge!\n\nNewton Diverge!\n\nNewton Diverge!\n\nNewton Diverge!\n\nNewton Diverge!\n\nNewton Diverge!\n\nNewton Diverge!\n\nNewton Diverge!\n\nNewton Diverge!\n\nNewton Diverge!\n\nNewton Diverge!\n\nNewton Diverge!\n\n"
     ]
    },
    {
     "name": "stdout",
     "output_type": "stream",
     "text": [
      "Newton Diverge!\n\nNewton Diverge!\n\nNewton Diverge!\n\nNewton Diverge!\n\n"
     ]
    },
    {
     "name": "stdout",
     "output_type": "stream",
     "text": [
      "Newton Diverge!\n\nNewton Diverge!\n\nNewton Diverge!\n\nNewton Diverge!\n\nNewton Diverge!\n\nNewton Diverge!\n\nNewton Diverge!\n\nNewton Diverge!\n\n"
     ]
    },
    {
     "name": "stdout",
     "output_type": "stream",
     "text": [
      "Newton Diverge!\n\nNewton Diverge!\n\nNewton Diverge!\n\nNewton Diverge!\n\n"
     ]
    },
    {
     "name": "stdout",
     "output_type": "stream",
     "text": [
      "Newton Diverge!\n\nNewton Diverge!\n\nNewton Diverge!\n\nNewton Diverge!\n\n"
     ]
    },
    {
     "name": "stdout",
     "output_type": "stream",
     "text": [
      "Newton Diverge!\n\nNewton Diverge!\n\nNewton Diverge!\n\nNewton Diverge!\n\nNewton Diverge!\n\nNewton Diverge!\n\nNewton Diverge!\n\nNewton Diverge!\n\n"
     ]
    },
    {
     "name": "stdout",
     "output_type": "stream",
     "text": [
      "Newton Diverge!\n\nNewton Diverge!\n\n"
     ]
    },
    {
     "name": "stdout",
     "output_type": "stream",
     "text": [
      "Newton Diverge!\n\nNewton Diverge!\n\n"
     ]
    },
    {
     "name": "stdout",
     "output_type": "stream",
     "text": [
      "Newton Diverge!\n\nNewton Diverge!\n\nNewton Diverge!\n\nNewton Diverge!\n\n"
     ]
    },
    {
     "name": "stdout",
     "output_type": "stream",
     "text": [
      "Newton Diverge!\n\nNewton Diverge!\n\nNewton Diverge!\n\nNewton Diverge!\n\n"
     ]
    },
    {
     "name": "stdout",
     "output_type": "stream",
     "text": [
      "Newton Diverge!\n\nNewton Diverge!\n\n"
     ]
    },
    {
     "name": "stdout",
     "output_type": "stream",
     "text": [
      "Newton Diverge!\n\nNewton Diverge!\n\n"
     ]
    },
    {
     "name": "stdout",
     "output_type": "stream",
     "text": [
      "Halley Diverge!\n\nHalley Diverge!\n\nHalley Diverge!\n\nHalley Diverge!\n\n"
     ]
    },
    {
     "name": "stdout",
     "output_type": "stream",
     "text": [
      "Halley Diverge!\n\nHalley Diverge!\n\nHalley Diverge!\n\nHalley Diverge!\n\nHalley Diverge!\n\nHalley Diverge!\n\nHalley Diverge!\n\nHalley Diverge!\n\n"
     ]
    },
    {
     "name": "stdout",
     "output_type": "stream",
     "text": [
      "Halley Diverge!\n\nHalley Diverge!\n\nHalley Diverge!\n\nHalley Diverge!\n\n"
     ]
    },
    {
     "name": "stdout",
     "output_type": "stream",
     "text": [
      "Halley Diverge!\n\nHalley Diverge!\n\nHalley Diverge!\n\nHalley Diverge!\n\n"
     ]
    },
    {
     "name": "stdout",
     "output_type": "stream",
     "text": [
      "Halley Diverge!\n\nHalley Diverge!\n\nHalley Diverge!\n\nHalley Diverge!\n\nHalley Diverge!\n\nHalley Diverge!\n\nHalley Diverge!\n\nHalley Diverge!\n\n"
     ]
    },
    {
     "name": "stdout",
     "output_type": "stream",
     "text": [
      "Halley Diverge!\n\nHalley Diverge!\n\n"
     ]
    },
    {
     "name": "stdout",
     "output_type": "stream",
     "text": [
      "Halley Diverge!\n\nHalley Diverge!\n\n"
     ]
    },
    {
     "name": "stdout",
     "output_type": "stream",
     "text": [
      "Halley Diverge!\n\nHalley Diverge!\n\nHalley Diverge!\n\nHalley Diverge!\n\n"
     ]
    },
    {
     "name": "stdout",
     "output_type": "stream",
     "text": [
      "Halley Diverge!\n\nHalley Diverge!\n\nHalley Diverge!\n\nHalley Diverge!\n\n"
     ]
    },
    {
     "name": "stdout",
     "output_type": "stream",
     "text": [
      "Halley Diverge!\n\nHalley Diverge!\n\n"
     ]
    },
    {
     "name": "stdout",
     "output_type": "stream",
     "text": [
      "Halley Diverge!\n\nHalley Diverge!\n\n"
     ]
    },
    {
     "name": "stdout",
     "output_type": "stream",
     "text": [
      "Halley Diverge!\n\nHalley Diverge!\n\nHalley Diverge!\n\nHalley Diverge!\n\n"
     ]
    },
    {
     "name": "stdout",
     "output_type": "stream",
     "text": [
      "Halley Diverge!\n\nHalley Diverge!\n\nHalley Diverge!\n\nHalley Diverge!\n\nHalley Diverge!\n\nHalley Diverge!\n\nHalley Diverge!\n\nHalley Diverge!\n\n"
     ]
    },
    {
     "name": "stdout",
     "output_type": "stream",
     "text": [
      "Halley Diverge!\n\nHalley Diverge!\n\nHalley Diverge!\n\nHalley Diverge!\n\n"
     ]
    },
    {
     "name": "stdout",
     "output_type": "stream",
     "text": [
      "Halley Diverge!\n\nHalley Diverge!\n\nHalley Diverge!\n\nHalley Diverge!\n\n"
     ]
    },
    {
     "name": "stdout",
     "output_type": "stream",
     "text": [
      "Halley Diverge!\n\nHalley Diverge!\n\nHalley Diverge!\n\nHalley Diverge!\n\nHalley Diverge!\n\nHalley Diverge!\n\nHalley Diverge!\n\nHalley Diverge!\n\n"
     ]
    },
    {
     "name": "stdout",
     "output_type": "stream",
     "text": [
      "Halley Diverge!\n\nHalley Diverge!\n\n"
     ]
    },
    {
     "name": "stdout",
     "output_type": "stream",
     "text": [
      "Halley Diverge!\n\nHalley Diverge!\n\n"
     ]
    },
    {
     "name": "stdout",
     "output_type": "stream",
     "text": [
      "Halley Diverge!\n\nHalley Diverge!\n\nHalley Diverge!\n\nHalley Diverge!\n\n"
     ]
    },
    {
     "name": "stdout",
     "output_type": "stream",
     "text": [
      "Halley Diverge!\n\nHalley Diverge!\n\nHalley Diverge!\n\nHalley Diverge!\n\n"
     ]
    },
    {
     "name": "stdout",
     "output_type": "stream",
     "text": [
      "Halley Diverge!\n\nHalley Diverge!\n\n"
     ]
    },
    {
     "name": "stdout",
     "output_type": "stream",
     "text": [
      "Halley Diverge!\n\nHalley Diverge!\n\n"
     ]
    },
    {
     "name": "stdout",
     "output_type": "stream",
     "text": [
      "HalleyMom Diverge!\n\nHalleyMom Diverge!\n\n"
     ]
    },
    {
     "name": "stdout",
     "output_type": "stream",
     "text": [
      "HalleyMom Diverge!\n\nHalleyMom Diverge!\n\n"
     ]
    },
    {
     "name": "stdout",
     "output_type": "stream",
     "text": [
      "HalleyMom Diverge!\n\nHalleyMom Diverge!\n\nHalleyMom Diverge!\n\nHalleyMom Diverge!\n\n"
     ]
    },
    {
     "name": "stdout",
     "output_type": "stream",
     "text": [
      "HalleyMom Diverge!\n\nHalleyMom Diverge!\n\nHalleyMom Diverge!\n\nHalleyMom Diverge!\n\n"
     ]
    },
    {
     "name": "stdout",
     "output_type": "stream",
     "text": [
      "HalleyMom Diverge!\n\nHalleyMom Diverge!\n\nHalleyMom Diverge!\n\nHalleyMom Diverge!\n\n"
     ]
    },
    {
     "name": "stdout",
     "output_type": "stream",
     "text": [
      "HalleyMom Diverge!\n\nHalleyMom Diverge!\n\n"
     ]
    },
    {
     "name": "stdout",
     "output_type": "stream",
     "text": [
      "HalleyMom Diverge!\n\nHalleyMom Diverge!\n\n"
     ]
    },
    {
     "name": "stdout",
     "output_type": "stream",
     "text": [
      "HalleyMom Diverge!\n\nHalleyMom Diverge!\n\nHalleyMom Diverge!\n\nHalleyMom Diverge!\n\nHalleyMom Diverge!\n\nHalleyMom Diverge!\n\n"
     ]
    },
    {
     "name": "stdout",
     "output_type": "stream",
     "text": [
      "HalleyMom Diverge!\n\nHalleyMom Diverge!\n\n"
     ]
    },
    {
     "name": "stdout",
     "output_type": "stream",
     "text": [
      "HalleyMom Diverge!\n\nHalleyMom Diverge!\n\n"
     ]
    },
    {
     "name": "stdout",
     "output_type": "stream",
     "text": [
      "HalleyMom Diverge!\n\nHalleyMom Diverge!\n\n"
     ]
    },
    {
     "name": "stdout",
     "output_type": "stream",
     "text": [
      "HalleyMom Diverge!\n\nHalleyMom Diverge!\n\nHalleyMom Diverge!\n\nHalleyMom Diverge!\n\n"
     ]
    },
    {
     "name": "stdout",
     "output_type": "stream",
     "text": [
      "HalleyMom Diverge!\n\nHalleyMom Diverge!\n\n"
     ]
    },
    {
     "name": "stdout",
     "output_type": "stream",
     "text": [
      "HalleyMom Diverge!\n\nHalleyMom Diverge!\n\n"
     ]
    },
    {
     "name": "stdout",
     "output_type": "stream",
     "text": [
      "HalleyMom Diverge!\n\nHalleyMom Diverge!\n\n"
     ]
    },
    {
     "name": "stdout",
     "output_type": "stream",
     "text": [
      "HalleyMom Diverge!\n\nHalleyMom Diverge!\n\n"
     ]
    },
    {
     "name": "stdout",
     "output_type": "stream",
     "text": [
      "This is the test result for initial point sigma 1.77,                 initial iteration 5 times:\n                log_accuracy          mse      log_mse        duration  \\\nbrentq               5.61836  3.29937e-05  3.29927e-05  0:00:10.757515   \nbrenth               5.61836  3.29937e-05  3.29927e-05  0:00:10.429195   \nridder               5.61836  3.29937e-05  3.29927e-05  0:00:13.946668   \nbisection            5.61836  3.29937e-05  3.29927e-05  0:06:48.942795   \nmullerBisection      5.62736  3.23985e-05  3.23976e-05  0:08:15.479498   \nnewton               5.04413     0.200394     0.101818  0:00:05.722237   \nnew_newton           5.61179  5.89468e-05   5.8773e-05  0:00:06.248985   \nhalley               5.59666  0.000330351  0.000320417  0:00:07.356524   \nnew_halley           5.61081   0.00010368  0.000101723  0:00:07.202475   \nhalleyMomentum       3.94776  0.000781353  0.000778811  0:00:20.204167   \n\n                   steps efficiency  \nbrentq           9.17767   0.298755  \nbrenth           9.39696   0.296035  \nridder             7.002   0.333304  \nbisection         123.03   0.143795  \nmullerBisection  95.0436   0.151851  \nnewton           389.315   0.141939  \nnew_newton       89.0264   0.154038  \nhalley           89.0264    0.15408  \nnew_halley       89.0264   0.154045  \nhalleyMomentum   89.0264    0.15415  \n\n\n"
     ]
    },
    {
     "name": "stdout",
     "output_type": "stream",
     "text": [
      "Newton Diverge!\n\nNewton Diverge!\n\nNewton Diverge!\n\nNewton Diverge!\n\n"
     ]
    },
    {
     "name": "stdout",
     "output_type": "stream",
     "text": [
      "Newton Diverge!\n\nNewton Diverge!\n\nNewton Diverge!\n\nNewton Diverge!\n\nNewton Diverge!\n\nNewton Diverge!\n\nNewton Diverge!\n\nNewton Diverge!\n\n"
     ]
    },
    {
     "name": "stdout",
     "output_type": "stream",
     "text": [
      "Newton Diverge!\n\nNewton Diverge!\n\nNewton Diverge!\n\nNewton Diverge!\n\n"
     ]
    },
    {
     "name": "stdout",
     "output_type": "stream",
     "text": [
      "Newton Diverge!\n\nNewton Diverge!\n\nNewton Diverge!\n\nNewton Diverge!\n\n"
     ]
    },
    {
     "name": "stdout",
     "output_type": "stream",
     "text": [
      "Newton Diverge!\n\nNewton Diverge!\n\nNewton Diverge!\n\nNewton Diverge!\n\nNewton Diverge!\n\nNewton Diverge!\n\nNewton Diverge!\n\nNewton Diverge!\n\n"
     ]
    },
    {
     "name": "stdout",
     "output_type": "stream",
     "text": [
      "Newton Diverge!\n\nNewton Diverge!\n\n"
     ]
    },
    {
     "name": "stdout",
     "output_type": "stream",
     "text": [
      "Newton Diverge!\n\nNewton Diverge!\n\n"
     ]
    },
    {
     "name": "stdout",
     "output_type": "stream",
     "text": [
      "Newton Diverge!\n\nNewton Diverge!\n\nNewton Diverge!\n\nNewton Diverge!\n\n"
     ]
    },
    {
     "name": "stdout",
     "output_type": "stream",
     "text": [
      "Newton Diverge!\n\nNewton Diverge!\n\nNewton Diverge!\n\nNewton Diverge!\n\n"
     ]
    },
    {
     "name": "stdout",
     "output_type": "stream",
     "text": [
      "Newton Diverge!\n\nNewton Diverge!\n\n"
     ]
    },
    {
     "name": "stdout",
     "output_type": "stream",
     "text": [
      "Newton Diverge!\n\nNewton Diverge!\n\n"
     ]
    },
    {
     "name": "stdout",
     "output_type": "stream",
     "text": [
      "Newton Diverge!\n\nNewton Diverge!\n\nNewton Diverge!\n\nNewton Diverge!\n\n"
     ]
    },
    {
     "name": "stdout",
     "output_type": "stream",
     "text": [
      "Newton Diverge!\n\nNewton Diverge!\n\nNewton Diverge!\n\nNewton Diverge!\n\nNewton Diverge!\n\nNewton Diverge!\n\nNewton Diverge!\n\nNewton Diverge!\n\n"
     ]
    },
    {
     "name": "stdout",
     "output_type": "stream",
     "text": [
      "Newton Diverge!\n\nNewton Diverge!\n\nNewton Diverge!\n\nNewton Diverge!\n\n"
     ]
    },
    {
     "name": "stdout",
     "output_type": "stream",
     "text": [
      "Newton Diverge!\n\nNewton Diverge!\n\nNewton Diverge!\n\nNewton Diverge!\n\n"
     ]
    },
    {
     "name": "stdout",
     "output_type": "stream",
     "text": [
      "Newton Diverge!\n\nNewton Diverge!\n\nNewton Diverge!\n\nNewton Diverge!\n\nNewton Diverge!\n\nNewton Diverge!\n\nNewton Diverge!\n\nNewton Diverge!\n\n"
     ]
    },
    {
     "name": "stdout",
     "output_type": "stream",
     "text": [
      "Newton Diverge!\n\nNewton Diverge!\n\n"
     ]
    },
    {
     "name": "stdout",
     "output_type": "stream",
     "text": [
      "Newton Diverge!\n\nNewton Diverge!\n\n"
     ]
    },
    {
     "name": "stdout",
     "output_type": "stream",
     "text": [
      "Newton Diverge!\n\nNewton Diverge!\n\nNewton Diverge!\n\nNewton Diverge!\n\n"
     ]
    },
    {
     "name": "stdout",
     "output_type": "stream",
     "text": [
      "Newton Diverge!\n\nNewton Diverge!\n\nNewton Diverge!\n\nNewton Diverge!\n\n"
     ]
    },
    {
     "name": "stdout",
     "output_type": "stream",
     "text": [
      "Newton Diverge!\n\nNewton Diverge!\n\n"
     ]
    },
    {
     "name": "stdout",
     "output_type": "stream",
     "text": [
      "Newton Diverge!\n\nNewton Diverge!\n\n"
     ]
    },
    {
     "name": "stdout",
     "output_type": "stream",
     "text": [
      "Halley Diverge!\n\nHalley Diverge!\n\nHalley Diverge!\n\nHalley Diverge!\n\n"
     ]
    },
    {
     "name": "stdout",
     "output_type": "stream",
     "text": [
      "Halley Diverge!\n\nHalley Diverge!\n\nHalley Diverge!\n\nHalley Diverge!\n\nHalley Diverge!\n\nHalley Diverge!\n\nHalley Diverge!\n\nHalley Diverge!\n\n"
     ]
    },
    {
     "name": "stdout",
     "output_type": "stream",
     "text": [
      "Halley Diverge!\n\nHalley Diverge!\n\nHalley Diverge!\n\nHalley Diverge!\n\n"
     ]
    },
    {
     "name": "stdout",
     "output_type": "stream",
     "text": [
      "Halley Diverge!\n\nHalley Diverge!\n\nHalley Diverge!\n\nHalley Diverge!\n\n"
     ]
    },
    {
     "name": "stdout",
     "output_type": "stream",
     "text": [
      "Halley Diverge!\n\nHalley Diverge!\n\nHalley Diverge!\n\nHalley Diverge!\n\nHalley Diverge!\n\nHalley Diverge!\n\nHalley Diverge!\n\nHalley Diverge!\n\n"
     ]
    },
    {
     "name": "stdout",
     "output_type": "stream",
     "text": [
      "Halley Diverge!\n\nHalley Diverge!\n\n"
     ]
    },
    {
     "name": "stdout",
     "output_type": "stream",
     "text": [
      "Halley Diverge!\n\nHalley Diverge!\n\n"
     ]
    },
    {
     "name": "stdout",
     "output_type": "stream",
     "text": [
      "Halley Diverge!\n\nHalley Diverge!\n\nHalley Diverge!\n\nHalley Diverge!\n\n"
     ]
    },
    {
     "name": "stdout",
     "output_type": "stream",
     "text": [
      "Halley Diverge!\n\nHalley Diverge!\n\nHalley Diverge!\n\nHalley Diverge!\n\n"
     ]
    },
    {
     "name": "stdout",
     "output_type": "stream",
     "text": [
      "Halley Diverge!\n\nHalley Diverge!\n\n"
     ]
    },
    {
     "name": "stdout",
     "output_type": "stream",
     "text": [
      "Halley Diverge!\n\nHalley Diverge!\n\n"
     ]
    },
    {
     "name": "stdout",
     "output_type": "stream",
     "text": [
      "Halley Diverge!\n\nHalley Diverge!\n\nHalley Diverge!\n\nHalley Diverge!\n\n"
     ]
    },
    {
     "name": "stdout",
     "output_type": "stream",
     "text": [
      "Halley Diverge!\n\nHalley Diverge!\n\nHalley Diverge!\n\nHalley Diverge!\n\nHalley Diverge!\n\nHalley Diverge!\n\nHalley Diverge!\n\nHalley Diverge!\n\n"
     ]
    },
    {
     "name": "stdout",
     "output_type": "stream",
     "text": [
      "Halley Diverge!\n\nHalley Diverge!\n\nHalley Diverge!\n\nHalley Diverge!\n\n"
     ]
    },
    {
     "name": "stdout",
     "output_type": "stream",
     "text": [
      "Halley Diverge!\n\nHalley Diverge!\n\nHalley Diverge!\n\nHalley Diverge!\n\n"
     ]
    },
    {
     "name": "stdout",
     "output_type": "stream",
     "text": [
      "Halley Diverge!\n\nHalley Diverge!\n\nHalley Diverge!\n\nHalley Diverge!\n\nHalley Diverge!\n\nHalley Diverge!\n\nHalley Diverge!\n\nHalley Diverge!\n\n"
     ]
    },
    {
     "name": "stdout",
     "output_type": "stream",
     "text": [
      "Halley Diverge!\n\nHalley Diverge!\n\n"
     ]
    },
    {
     "name": "stdout",
     "output_type": "stream",
     "text": [
      "Halley Diverge!\n\nHalley Diverge!\n\n"
     ]
    },
    {
     "name": "stdout",
     "output_type": "stream",
     "text": [
      "Halley Diverge!\n\nHalley Diverge!\n\nHalley Diverge!\n\nHalley Diverge!\n\n"
     ]
    },
    {
     "name": "stdout",
     "output_type": "stream",
     "text": [
      "Halley Diverge!\n\nHalley Diverge!\n\nHalley Diverge!\n\nHalley Diverge!\n\n"
     ]
    },
    {
     "name": "stdout",
     "output_type": "stream",
     "text": [
      "Halley Diverge!\n\nHalley Diverge!\n\n"
     ]
    },
    {
     "name": "stdout",
     "output_type": "stream",
     "text": [
      "Halley Diverge!\n\nHalley Diverge!\n\n"
     ]
    },
    {
     "name": "stdout",
     "output_type": "stream",
     "text": [
      "HalleyMom Diverge!\n\nHalleyMom Diverge!\n\n"
     ]
    },
    {
     "name": "stdout",
     "output_type": "stream",
     "text": [
      "HalleyMom Diverge!\n\nHalleyMom Diverge!\n\n"
     ]
    },
    {
     "name": "stdout",
     "output_type": "stream",
     "text": [
      "HalleyMom Diverge!\n\nHalleyMom Diverge!\n\nHalleyMom Diverge!\n\nHalleyMom Diverge!\n\n"
     ]
    },
    {
     "name": "stdout",
     "output_type": "stream",
     "text": [
      "HalleyMom Diverge!\n\nHalleyMom Diverge!\n\nHalleyMom Diverge!\n\nHalleyMom Diverge!\n\n"
     ]
    },
    {
     "name": "stdout",
     "output_type": "stream",
     "text": [
      "HalleyMom Diverge!\n\nHalleyMom Diverge!\n\nHalleyMom Diverge!\n\nHalleyMom Diverge!\n\n"
     ]
    },
    {
     "name": "stdout",
     "output_type": "stream",
     "text": [
      "HalleyMom Diverge!\n\nHalleyMom Diverge!\n\n"
     ]
    },
    {
     "name": "stdout",
     "output_type": "stream",
     "text": [
      "HalleyMom Diverge!\n\nHalleyMom Diverge!\n\n"
     ]
    },
    {
     "name": "stdout",
     "output_type": "stream",
     "text": [
      "HalleyMom Diverge!\n\nHalleyMom Diverge!\n\nHalleyMom Diverge!\n\nHalleyMom Diverge!\n\nHalleyMom Diverge!\n\nHalleyMom Diverge!\n\n"
     ]
    },
    {
     "name": "stdout",
     "output_type": "stream",
     "text": [
      "HalleyMom Diverge!\n\nHalleyMom Diverge!\n\n"
     ]
    },
    {
     "name": "stdout",
     "output_type": "stream",
     "text": [
      "HalleyMom Diverge!\n\nHalleyMom Diverge!\n\n"
     ]
    },
    {
     "name": "stdout",
     "output_type": "stream",
     "text": [
      "HalleyMom Diverge!\n\nHalleyMom Diverge!\n\n"
     ]
    },
    {
     "name": "stdout",
     "output_type": "stream",
     "text": [
      "HalleyMom Diverge!\n\nHalleyMom Diverge!\n\nHalleyMom Diverge!\n\nHalleyMom Diverge!\n\n"
     ]
    },
    {
     "name": "stdout",
     "output_type": "stream",
     "text": [
      "HalleyMom Diverge!\n\nHalleyMom Diverge!\n\n"
     ]
    },
    {
     "name": "stdout",
     "output_type": "stream",
     "text": [
      "HalleyMom Diverge!\n\nHalleyMom Diverge!\n\n"
     ]
    },
    {
     "name": "stdout",
     "output_type": "stream",
     "text": [
      "HalleyMom Diverge!\n\nHalleyMom Diverge!\n\n"
     ]
    },
    {
     "name": "stdout",
     "output_type": "stream",
     "text": [
      "HalleyMom Diverge!\n\nHalleyMom Diverge!\n\n"
     ]
    },
    {
     "name": "stdout",
     "output_type": "stream",
     "text": [
      "This is the test result for initial point sigma 0.73,                 initial iteration 5 times:\n                log_accuracy          mse      log_mse        duration  \\\nbrentq               5.61836  3.29937e-05  3.29927e-05  0:00:09.569806   \nbrenth               5.61836  3.29937e-05  3.29927e-05  0:00:09.750490   \nridder               5.61836  3.29937e-05  3.29927e-05  0:00:12.796906   \nbisection            5.61836  3.29937e-05  3.29927e-05  0:06:38.634941   \nmullerBisection      5.62736  3.23985e-05  3.23976e-05  0:08:15.184358   \nnewton               5.60335   0.00052432  0.000443051  0:00:05.482972   \nnew_newton           5.61179  5.89468e-05   5.8773e-05  0:00:06.258809   \nhalley               5.59508   0.00127601   0.00107002  0:00:07.069532   \nnew_halley           5.61081   0.00010368  0.000101723  0:00:07.184186   \nhalleyMomentum       3.94776  0.000781353  0.000778811  0:00:20.482159   \n\n                   steps efficiency  \nbrentq           9.17767   0.298755  \nbrenth           9.39696   0.296035  \nridder             7.002   0.333304  \nbisection         123.03   0.143795  \nmullerBisection  95.0436   0.151851  \nnewton           89.0264    0.15411  \nnew_newton       89.0264   0.154038  \nhalley           89.0264   0.154226  \nnew_halley       89.0264   0.154045  \nhalleyMomentum   89.0264    0.15415  \n\n\n"
     ]
    },
    {
     "name": "stdout",
     "output_type": "stream",
     "text": [
      "Newton Diverge!\n\nNewton Diverge!\n\nNewton Diverge!\n\nNewton Diverge!\n\nNewton Diverge!\n\nNewton Diverge!\n\nNewton Diverge!\n\nNewton Diverge!\n\n"
     ]
    },
    {
     "name": "stdout",
     "output_type": "stream",
     "text": [
      "Newton Diverge!\n\nNewton Diverge!\n\nNewton Diverge!\n\nNewton Diverge!\n\nNewton Diverge!\n\nNewton Diverge!\n\nNewton Diverge!\n\nNewton Diverge!\n\nNewton Diverge!\n\n"
     ]
    },
    {
     "name": "stdout",
     "output_type": "stream",
     "text": [
      "Newton Diverge!\n\nNewton Diverge!\n\nNewton Diverge!\n\nNewton Diverge!\n\nNewton Diverge!\n\nNewton Diverge!\n\nNewton Diverge!\n\nNewton Diverge!\n\nNewton Diverge!\n\nNewton Diverge!\n\nNewton Diverge!\n\nNewton Diverge!\n\nNewton Diverge!\n\nNewton Diverge!\n\nNewton Diverge!\n\nNewton Diverge!\n\n"
     ]
    },
    {
     "name": "stdout",
     "output_type": "stream",
     "text": [
      "Newton Diverge!\n\nNewton Diverge!\n\nNewton Diverge!\n\nNewton Diverge!\n\n"
     ]
    },
    {
     "name": "stdout",
     "output_type": "stream",
     "text": [
      "Newton Diverge!\n\nNewton Diverge!\n\nNewton Diverge!\n\nNewton Diverge!\n\nNewton Diverge!\n\nNewton Diverge!\n\nNewton Diverge!\n\nNewton Diverge!\n\nNewton Diverge!\n\nNewton Diverge!\n\nNewton Diverge!\n\nNewton Diverge!\n\nNewton Diverge!\n\nNewton Diverge!\n\nNewton Diverge!\n\nNewton Diverge!\n\nNewton Diverge!\n\nNewton Diverge!\n\nNewton Diverge!\n\nNewton Diverge!\n\nNewton Diverge!\n\nNewton Diverge!\n\nNewton Diverge!\n\nNewton Diverge!\n\nNewton Diverge!\n\nNewton Diverge!\n\nNewton Diverge!\n\nNewton Diverge!\n\nNewton Diverge!\n\nNewton Diverge!\n\nNewton Diverge!\n\nNewton Diverge!\n\nNewton Diverge!\n\nNewton Diverge!\n\nNewton Diverge!\n\nNewton Diverge!\n\nNewton Diverge!\n\nNewton Diverge!\n\nNewton Diverge!\n\nNewton Diverge!\n\n"
     ]
    },
    {
     "name": "stdout",
     "output_type": "stream",
     "text": [
      "Newton Diverge!\n\nNewton Diverge!\n\nNewton Diverge!\n\nNewton Diverge!\n\nNewton Diverge!\n\nNewton Diverge!\n\nNewton Diverge!\n\nNewton Diverge!\n\nNewton Diverge!\n\nNewton Diverge!\n\nNewton Diverge!\n\nNewton Diverge!\n\nNewton Diverge!\n\nNewton Diverge!\n\nNewton Diverge!\n\nNewton Diverge!\n\nNewton Diverge!\n\nNewton Diverge!\n\nNewton Diverge!\n\nNewton Diverge!\n\n"
     ]
    },
    {
     "name": "stdout",
     "output_type": "stream",
     "text": [
      "Newton Diverge!\n\nNewton Diverge!\n\nNewton Diverge!\n\n"
     ]
    },
    {
     "name": "stdout",
     "output_type": "stream",
     "text": [
      "Newton Diverge!\n\nNewton Diverge!\n\nNewton Diverge!\n\nNewton Diverge!\n\nNewton Diverge!\n\nNewton Diverge!\n\nNewton Diverge!\n\nNewton Diverge!\n\nNewton Diverge!\n\nNewton Diverge!\n\nNewton Diverge!\n\nNewton Diverge!\n\nNewton Diverge!\n\nNewton Diverge!\n\nNewton Diverge!\n\nNewton Diverge!\n\nNewton Diverge!\n\n"
     ]
    },
    {
     "name": "stdout",
     "output_type": "stream",
     "text": [
      "Newton Diverge!\n\nNewton Diverge!\n\nNewton Diverge!\n\nNewton Diverge!\n\n"
     ]
    },
    {
     "name": "stdout",
     "output_type": "stream",
     "text": [
      "Newton Diverge!\n\nNewton Diverge!\n\nNewton Diverge!\n\nNewton Diverge!\n\nNewton Diverge!\n\nNewton Diverge!\n\nNewton Diverge!\n\nNewton Diverge!\n\nNewton Diverge!\n\nNewton Diverge!\n\nNewton Diverge!\n\nNewton Diverge!\n\nNewton Diverge!\n\nNewton Diverge!\n\nNewton Diverge!\n\nNewton Diverge!\n\n"
     ]
    },
    {
     "name": "stdout",
     "output_type": "stream",
     "text": [
      "Newton Diverge!\n\nNewton Diverge!\n\nNewton Diverge!\n\nNewton Diverge!\n\nNewton Diverge!\n\nNewton Diverge!\n\nNewton Diverge!\n\nNewton Diverge!\n\n"
     ]
    },
    {
     "name": "stdout",
     "output_type": "stream",
     "text": [
      "Newton Diverge!\n\nNewton Diverge!\n\nNewton Diverge!\n\nNewton Diverge!\n\nNewton Diverge!\n\nNewton Diverge!\n\nNewton Diverge!\n\nNewton Diverge!\n\nNewton Diverge!\n\nNewton Diverge!\n\nNewton Diverge!\n\nNewton Diverge!\n\nNewton Diverge!\n\nNewton Diverge!\n\nNewton Diverge!\n\n"
     ]
    },
    {
     "name": "stdout",
     "output_type": "stream",
     "text": [
      "Newton Diverge!\n\nNewton Diverge!\n\nNewton Diverge!\n\nNewton Diverge!\n\nNewton Diverge!\n\nNewton Diverge!\n\nNewton Diverge!\n\nNewton Diverge!\n\nNewton Diverge!\n\nNewton Diverge!\n\nNewton Diverge!\n\nNewton Diverge!\n\nNewton Diverge!\n\nNewton Diverge!\n\nNewton Diverge!\n\nNewton Diverge!\n\nNewton Diverge!\n\nNewton Diverge!\n\nNewton Diverge!\n\n"
     ]
    },
    {
     "name": "stdout",
     "output_type": "stream",
     "text": [
      "Newton Diverge!\n\nNewton Diverge!\n\nNewton Diverge!\n\nNewton Diverge!\n\nNewton Diverge!\n\nNewton Diverge!\n\nNewton Diverge!\n\nNewton Diverge!\n\nNewton Diverge!\n\nNewton Diverge!\n\nNewton Diverge!\n\nNewton Diverge!\n\nNewton Diverge!\n\n"
     ]
    },
    {
     "name": "stdout",
     "output_type": "stream",
     "text": [
      "Newton Diverge!\n\nNewton Diverge!\n\nNewton Diverge!\n\nNewton Diverge!\n\nNewton Diverge!\n\nNewton Diverge!\n\nNewton Diverge!\n\nNewton Diverge!\n\nNewton Diverge!\n\nNewton Diverge!\n\nNewton Diverge!\n\nNewton Diverge!\n\n"
     ]
    },
    {
     "name": "stdout",
     "output_type": "stream",
     "text": [
      "Newton Diverge!\n\nNewton Diverge!\n\nNewton Diverge!\n\nNewton Diverge!\n\nNewton Diverge!\n\nNewton Diverge!\n\nNewton Diverge!\n\nNewton Diverge!\n\nNewton Diverge!\n\nNewton Diverge!\n\nNewton Diverge!\n\nNewton Diverge!\n\nNewton Diverge!\n\nNewton Diverge!\n\n"
     ]
    },
    {
     "name": "stdout",
     "output_type": "stream",
     "text": [
      "Newton Diverge!\n\nNewton Diverge!\n\nNewton Diverge!\n\nNewton Diverge!\n\nNewton Diverge!\n\nNewton Diverge!\n\nNewton Diverge!\n\nNewton Diverge!\n\nNewton Diverge!\n\nNewton Diverge!\n\nNewton Diverge!\n\nNewton Diverge!\n\nNewton Diverge!\n\nNewton Diverge!\n\nNewton Diverge!\n\nNewton Diverge!\n\nNewton Diverge!\n\nNewton Diverge!\n\nNewton Diverge!\n\nNewton Diverge!\n\nNewton Diverge!\n\n"
     ]
    },
    {
     "name": "stdout",
     "output_type": "stream",
     "text": [
      "Newton Diverge!\n\nNewton Diverge!\n\nNewton Diverge!\n\nNewton Diverge!\n\nNewton Diverge!\n\nNewton Diverge!\n\nNewton Diverge!\n\nNewton Diverge!\n\nNewton Diverge!\n\nNewton Diverge!\n\nNewton Diverge!\n\nNewton Diverge!\n\nNewton Diverge!\n\n"
     ]
    },
    {
     "name": "stdout",
     "output_type": "stream",
     "text": [
      "Newton Diverge!\n\nNewton Diverge!\n\nNewton Diverge!\n\nNewton Diverge!\n\nNewton Diverge!\n\nNewton Diverge!\n\nNewton Diverge!\n\nNewton Diverge!\n\n"
     ]
    },
    {
     "name": "stdout",
     "output_type": "stream",
     "text": [
      "Newton Diverge!\n\nNewton Diverge!\n\nNewton Diverge!\n\nNewton Diverge!\n\nNewton Diverge!\n\nNewton Diverge!\n\nNewton Diverge!\n\nNewton Diverge!\n\nNewton Diverge!\n\nNewton Diverge!\n\nNewton Diverge!\n\nNewton Diverge!\n\nNewton Diverge!\n\n"
     ]
    },
    {
     "name": "stdout",
     "output_type": "stream",
     "text": [
      "Newton Diverge!\n\nNewton Diverge!\n\nNewton Diverge!\n\nNewton Diverge!\n\nNewton Diverge!\n\nNewton Diverge!\n\nNewton Diverge!\n\nNewton Diverge!\n\nNewton Diverge!\n\nNewton Diverge!\n\nNewton Diverge!\n\n"
     ]
    },
    {
     "name": "stdout",
     "output_type": "stream",
     "text": [
      "Newton Diverge!\n\nNewton Diverge!\n\n"
     ]
    },
    {
     "name": "stdout",
     "output_type": "stream",
     "text": [
      "Newton Diverge!\n\nNewton Diverge!\n\nNewton Diverge!\n\nNewton Diverge!\n\nNewton Diverge!\n\nNewton Diverge!\n\nNewton Diverge!\n\nNewton Diverge!\n\nNewton Diverge!\n\nNewton Diverge!\n\nNewton Diverge!\n\nNewton Diverge!\n\nNewton Diverge!\n\nNewton Diverge!\n\nNewton Diverge!\n\nNewton Diverge!\n\nNewton Diverge!\n\nNewton Diverge!\n\nNewton Diverge!\n\nNewton Diverge!\n\nNewton Diverge!\n\nNewton Diverge!\n\nNewton Diverge!\n\nNewton Diverge!\n\nNewton Diverge!\n\nNewton Diverge!\n\nNewton Diverge!\n\nNewton Diverge!\n\nNewton Diverge!\n\n"
     ]
    },
    {
     "name": "stdout",
     "output_type": "stream",
     "text": [
      "Newton Diverge!\n\nNewton Diverge!\n\nNewton Diverge!\n\nNewton Diverge!\n\nNewton Diverge!\n\nNewton Diverge!\n\nNewton Diverge!\n\nNewton Diverge!\n\n"
     ]
    },
    {
     "name": "stdout",
     "output_type": "stream",
     "text": [
      "Newton Diverge!\n\nNewton Diverge!\n\nNewton Diverge!\n\nNewton Diverge!\n\nNewton Diverge!\n\nNewton Diverge!\n\nNewton Diverge!\n\nNewton Diverge!\n\nNewton Diverge!\n\nNewton Diverge!\n\nNewton Diverge!\n\nNewton Diverge!\n\n"
     ]
    },
    {
     "name": "stdout",
     "output_type": "stream",
     "text": [
      "Newton Diverge!\n\nNewton Diverge!\n\nNewton Diverge!\n\nNewton Diverge!\n\n"
     ]
    },
    {
     "name": "stdout",
     "output_type": "stream",
     "text": [
      "Newton Diverge!\n\nNewton Diverge!\n\nNewton Diverge!\n\nNewton Diverge!\n\n"
     ]
    },
    {
     "name": "stdout",
     "output_type": "stream",
     "text": [
      "Newton Diverge!\n\nNewton Diverge!\n\nNewton Diverge!\n\nNewton Diverge!\n\nNewton Diverge!\n\nNewton Diverge!\n\nNewton Diverge!\n\nNewton Diverge!\n\n"
     ]
    },
    {
     "name": "stdout",
     "output_type": "stream",
     "text": [
      "Newton Diverge!\n\nNewton Diverge!\n\n"
     ]
    },
    {
     "name": "stdout",
     "output_type": "stream",
     "text": [
      "Newton Diverge!\n\nNewton Diverge!\n\n"
     ]
    },
    {
     "name": "stdout",
     "output_type": "stream",
     "text": [
      "Newton Diverge!\n\nNewton Diverge!\n\nNewton Diverge!\n\nNewton Diverge!\n\n"
     ]
    },
    {
     "name": "stdout",
     "output_type": "stream",
     "text": [
      "Newton Diverge!\n\nNewton Diverge!\n\nNewton Diverge!\n\nNewton Diverge!\n\n"
     ]
    },
    {
     "name": "stdout",
     "output_type": "stream",
     "text": [
      "Newton Diverge!\n\nNewton Diverge!\n\n"
     ]
    },
    {
     "name": "stdout",
     "output_type": "stream",
     "text": [
      "Newton Diverge!\n\nNewton Diverge!\n\n"
     ]
    },
    {
     "name": "stdout",
     "output_type": "stream",
     "text": [
      "Halley Diverge!\n\nHalley Diverge!\n\nHalley Diverge!\n\nHalley Diverge!\n\n"
     ]
    },
    {
     "name": "stdout",
     "output_type": "stream",
     "text": [
      "Halley Diverge!\n\nHalley Diverge!\n\nHalley Diverge!\n\nHalley Diverge!\n\nHalley Diverge!\n\nHalley Diverge!\n\nHalley Diverge!\n\nHalley Diverge!\n\n"
     ]
    },
    {
     "name": "stdout",
     "output_type": "stream",
     "text": [
      "Halley Diverge!\n\nHalley Diverge!\n\nHalley Diverge!\n\nHalley Diverge!\n\n"
     ]
    },
    {
     "name": "stdout",
     "output_type": "stream",
     "text": [
      "Halley Diverge!\n\nHalley Diverge!\n\nHalley Diverge!\n\nHalley Diverge!\n\n"
     ]
    },
    {
     "name": "stdout",
     "output_type": "stream",
     "text": [
      "Halley Diverge!\n\nHalley Diverge!\n\nHalley Diverge!\n\nHalley Diverge!\n\nHalley Diverge!\n\nHalley Diverge!\n\nHalley Diverge!\n\nHalley Diverge!\n\n"
     ]
    },
    {
     "name": "stdout",
     "output_type": "stream",
     "text": [
      "Halley Diverge!\n\nHalley Diverge!\n\n"
     ]
    },
    {
     "name": "stdout",
     "output_type": "stream",
     "text": [
      "Halley Diverge!\n\nHalley Diverge!\n\n"
     ]
    },
    {
     "name": "stdout",
     "output_type": "stream",
     "text": [
      "Halley Diverge!\n\nHalley Diverge!\n\nHalley Diverge!\n\nHalley Diverge!\n\n"
     ]
    },
    {
     "name": "stdout",
     "output_type": "stream",
     "text": [
      "Halley Diverge!\n\nHalley Diverge!\n\nHalley Diverge!\n\nHalley Diverge!\n\n"
     ]
    },
    {
     "name": "stdout",
     "output_type": "stream",
     "text": [
      "Halley Diverge!\n\nHalley Diverge!\n\n"
     ]
    },
    {
     "name": "stdout",
     "output_type": "stream",
     "text": [
      "Halley Diverge!\n\nHalley Diverge!\n\n"
     ]
    },
    {
     "name": "stdout",
     "output_type": "stream",
     "text": [
      "Halley Diverge!\n\nHalley Diverge!\n\nHalley Diverge!\n\nHalley Diverge!\n\n"
     ]
    },
    {
     "name": "stdout",
     "output_type": "stream",
     "text": [
      "Halley Diverge!\n\nHalley Diverge!\n\nHalley Diverge!\n\nHalley Diverge!\n\nHalley Diverge!\n\nHalley Diverge!\n\nHalley Diverge!\n\nHalley Diverge!\n\n"
     ]
    },
    {
     "name": "stdout",
     "output_type": "stream",
     "text": [
      "Halley Diverge!\n\nHalley Diverge!\n\nHalley Diverge!\n\nHalley Diverge!\n\n"
     ]
    },
    {
     "name": "stdout",
     "output_type": "stream",
     "text": [
      "Halley Diverge!\n\nHalley Diverge!\n\nHalley Diverge!\n\nHalley Diverge!\n\n"
     ]
    },
    {
     "name": "stdout",
     "output_type": "stream",
     "text": [
      "Halley Diverge!\n\nHalley Diverge!\n\nHalley Diverge!\n\nHalley Diverge!\n\nHalley Diverge!\n\nHalley Diverge!\n\nHalley Diverge!\n\nHalley Diverge!\n\n"
     ]
    },
    {
     "name": "stdout",
     "output_type": "stream",
     "text": [
      "Halley Diverge!\n\nHalley Diverge!\n\n"
     ]
    },
    {
     "name": "stdout",
     "output_type": "stream",
     "text": [
      "Halley Diverge!\n\nHalley Diverge!\n\n"
     ]
    },
    {
     "name": "stdout",
     "output_type": "stream",
     "text": [
      "Halley Diverge!\n\nHalley Diverge!\n\nHalley Diverge!\n\nHalley Diverge!\n\n"
     ]
    },
    {
     "name": "stdout",
     "output_type": "stream",
     "text": [
      "Halley Diverge!\n\nHalley Diverge!\n\nHalley Diverge!\n\nHalley Diverge!\n\n"
     ]
    },
    {
     "name": "stdout",
     "output_type": "stream",
     "text": [
      "Halley Diverge!\n\nHalley Diverge!\n\n"
     ]
    },
    {
     "name": "stdout",
     "output_type": "stream",
     "text": [
      "Halley Diverge!\n\nHalley Diverge!\n\n"
     ]
    },
    {
     "name": "stdout",
     "output_type": "stream",
     "text": [
      "HalleyMom Diverge!\n\nHalleyMom Diverge!\n\n"
     ]
    },
    {
     "name": "stdout",
     "output_type": "stream",
     "text": [
      "HalleyMom Diverge!\n\nHalleyMom Diverge!\n\n"
     ]
    },
    {
     "name": "stdout",
     "output_type": "stream",
     "text": [
      "HalleyMom Diverge!\n\nHalleyMom Diverge!\n\nHalleyMom Diverge!\n\nHalleyMom Diverge!\n\n"
     ]
    },
    {
     "name": "stdout",
     "output_type": "stream",
     "text": [
      "HalleyMom Diverge!\n\nHalleyMom Diverge!\n\nHalleyMom Diverge!\n\nHalleyMom Diverge!\n\n"
     ]
    },
    {
     "name": "stdout",
     "output_type": "stream",
     "text": [
      "HalleyMom Diverge!\n\nHalleyMom Diverge!\n\nHalleyMom Diverge!\n\nHalleyMom Diverge!\n\n"
     ]
    },
    {
     "name": "stdout",
     "output_type": "stream",
     "text": [
      "HalleyMom Diverge!\n\nHalleyMom Diverge!\n\n"
     ]
    },
    {
     "name": "stdout",
     "output_type": "stream",
     "text": [
      "HalleyMom Diverge!\n\nHalleyMom Diverge!\n\n"
     ]
    },
    {
     "name": "stdout",
     "output_type": "stream",
     "text": [
      "HalleyMom Diverge!\n\nHalleyMom Diverge!\n\nHalleyMom Diverge!\n\nHalleyMom Diverge!\n\nHalleyMom Diverge!\n\nHalleyMom Diverge!\n\n"
     ]
    },
    {
     "name": "stdout",
     "output_type": "stream",
     "text": [
      "HalleyMom Diverge!\n\nHalleyMom Diverge!\n\n"
     ]
    },
    {
     "name": "stdout",
     "output_type": "stream",
     "text": [
      "HalleyMom Diverge!\n\nHalleyMom Diverge!\n\n"
     ]
    },
    {
     "name": "stdout",
     "output_type": "stream",
     "text": [
      "HalleyMom Diverge!\n\nHalleyMom Diverge!\n\n"
     ]
    },
    {
     "name": "stdout",
     "output_type": "stream",
     "text": [
      "HalleyMom Diverge!\n\nHalleyMom Diverge!\n\nHalleyMom Diverge!\n\nHalleyMom Diverge!\n\n"
     ]
    },
    {
     "name": "stdout",
     "output_type": "stream",
     "text": [
      "HalleyMom Diverge!\n\nHalleyMom Diverge!\n\n"
     ]
    },
    {
     "name": "stdout",
     "output_type": "stream",
     "text": [
      "HalleyMom Diverge!\n\nHalleyMom Diverge!\n\n"
     ]
    },
    {
     "name": "stdout",
     "output_type": "stream",
     "text": [
      "HalleyMom Diverge!\n\nHalleyMom Diverge!\n\n"
     ]
    },
    {
     "name": "stdout",
     "output_type": "stream",
     "text": [
      "HalleyMom Diverge!\n\nHalleyMom Diverge!\n\n"
     ]
    },
    {
     "name": "stdout",
     "output_type": "stream",
     "text": [
      "This is the test result for initial point sigma 1.71,                 initial iteration 5 times:\n                log_accuracy          mse      log_mse        duration  \\\nbrentq               5.61836  3.29937e-05  3.29927e-05  0:00:10.078073   \nbrenth               5.61836  3.29937e-05  3.29927e-05  0:00:10.196011   \nridder               5.61836  3.29937e-05  3.29927e-05  0:00:13.140502   \nbisection            5.61836  3.29937e-05  3.29927e-05  0:06:43.345621   \nmullerBisection      5.62736  3.23985e-05  3.23976e-05  0:08:23.125022   \nnewton               5.12687     0.166679    0.0854292  0:00:06.382027   \nnew_newton           5.61179  5.89468e-05   5.8773e-05  0:00:07.079630   \nhalley               5.59693  0.000318775  0.000309544  0:00:07.875974   \nnew_halley           5.61081   0.00010368  0.000101723  0:00:08.959625   \nhalleyMomentum       3.94776  0.000781353  0.000778811  0:00:21.810240   \n\n                   steps efficiency  \nbrentq           9.17767   0.298755  \nbrenth           9.39696   0.296035  \nridder             7.002   0.333304  \nbisection         123.03   0.143795  \nmullerBisection  95.0436   0.151851  \nnewton           385.273   0.137474  \nnew_newton       89.0264   0.154038  \nhalley           89.0264   0.154078  \nnew_halley       89.0264   0.154045  \nhalleyMomentum   89.0264    0.15415  \n\n\n"
     ]
    }
   ],
   "source": [
    "import numpy as np\n",
    "testMethods = ['brentq', 'brenth', 'ridder', 'bisection', 'mullerBisection', 'newton', 'new_newton', 'halley', 'new_halley', 'halleyMomentum']  \n",
    "#testMethods = ['bisection']\n",
    "#testSigma = [0.33, 0.66 , 0.99, 1.33, 1.66, 1.99]\n",
    "testSigma = np.random.uniform(0,2,4)\n",
    "testIter = [5]\n",
    "result = pd.DataFrame(index=testMethods, columns=['log_accuracy', 'mse', 'log_mse', 'duration', 'steps', 'efficiency'])                                                \n",
    "dicResult = {}\n",
    "                                                                                                                                                                                                                                                        \n",
    "for iter in testIter:\n",
    "    dicResult[iter] = {}\n",
    "    for sigma in testSigma:  \n",
    "        for method in testMethods: \n",
    "            result.loc[method, :] = methods.performance(data, method, sigma0=sigma, initialIter=iter)\n",
    "        dicResult[iter][sigma] = result.copy()                                                                                                  \n",
    "        print('This is the test result for initial point sigma {:.2f}, \\\n",
    "                initial iteration {:d} times:\\n{}\\n\\n'.format(sigma, iter, result))"
   ]
  },
  {
   "cell_type": "code",
   "execution_count": 4,
   "metadata": {
    "collapsed": true
   },
   "outputs": [
    {
     "data": {
      "text/plain": [
       "{5: {0.7282975996110943:                 log_accuracy          mse      log_mse        duration  \\\n  brentq               5.61836  3.29937e-05  3.29927e-05  0:00:09.569806   \n  brenth               5.61836  3.29937e-05  3.29927e-05  0:00:09.750490   \n  ridder               5.61836  3.29937e-05  3.29927e-05  0:00:12.796906   \n  bisection            5.61836  3.29937e-05  3.29927e-05  0:06:38.634941   \n  mullerBisection      5.62736  3.23985e-05  3.23976e-05  0:08:15.184358   \n  newton               5.60335   0.00052432  0.000443051  0:00:05.482972   \n  new_newton           5.61179  5.89468e-05   5.8773e-05  0:00:06.258809   \n  halley               5.59508   0.00127601   0.00107002  0:00:07.069532   \n  new_halley           5.61081   0.00010368  0.000101723  0:00:07.184186   \n  halleyMomentum       3.94776  0.000781353  0.000778811  0:00:20.482159   \n  \n                     steps efficiency  \n  brentq           9.17767   0.298755  \n  brenth           9.39696   0.296035  \n  ridder             7.002   0.333304  \n  bisection         123.03   0.143795  \n  mullerBisection  95.0436   0.151851  \n  newton           89.0264    0.15411  \n  new_newton       89.0264   0.154038  \n  halley           89.0264   0.154226  \n  new_halley       89.0264   0.154045  \n  halleyMomentum   89.0264    0.15415  ,\n  1.5688779047570831:                 log_accuracy          mse      log_mse        duration  \\\n  brentq               5.61836  3.29937e-05  3.29927e-05  0:00:10.284127   \n  brenth               5.61836  3.29937e-05  3.29927e-05  0:00:09.609053   \n  ridder               5.61836  3.29937e-05  3.29927e-05  0:00:12.748189   \n  bisection            5.61836  3.29937e-05  3.29927e-05  0:06:41.357249   \n  mullerBisection      5.62736  3.23985e-05  3.23976e-05  0:08:17.205082   \n  newton               5.34833    0.0735792    0.0390879  0:00:05.974502   \n  new_newton           5.61179  5.89468e-05   5.8773e-05  0:00:06.637508   \n  halley               5.59529   0.00135244  0.000854617  0:00:07.778419   \n  new_halley           5.61081   0.00010368  0.000101723  0:00:07.737402   \n  halleyMomentum       3.94776  0.000781353  0.000778811  0:00:21.920517   \n  \n                     steps efficiency  \n  brentq           9.17767   0.298755  \n  brenth           9.39696   0.296035  \n  ridder             7.002   0.333304  \n  bisection         123.03   0.143795  \n  mullerBisection  95.0436   0.151851  \n  newton           269.168    0.13325  \n  new_newton       89.0264   0.154038  \n  halley           89.0264   0.154238  \n  new_halley       89.0264   0.154045  \n  halleyMomentum   89.0264    0.15415  ,\n  1.7084591747338322:                 log_accuracy          mse      log_mse        duration  \\\n  brentq               5.61836  3.29937e-05  3.29927e-05  0:00:10.078073   \n  brenth               5.61836  3.29937e-05  3.29927e-05  0:00:10.196011   \n  ridder               5.61836  3.29937e-05  3.29927e-05  0:00:13.140502   \n  bisection            5.61836  3.29937e-05  3.29927e-05  0:06:43.345621   \n  mullerBisection      5.62736  3.23985e-05  3.23976e-05  0:08:23.125022   \n  newton               5.12687     0.166679    0.0854292  0:00:06.382027   \n  new_newton           5.61179  5.89468e-05   5.8773e-05  0:00:07.079630   \n  halley               5.59693  0.000318775  0.000309544  0:00:07.875974   \n  new_halley           5.61081   0.00010368  0.000101723  0:00:08.959625   \n  halleyMomentum       3.94776  0.000781353  0.000778811  0:00:21.810240   \n  \n                     steps efficiency  \n  brentq           9.17767   0.298755  \n  brenth           9.39696   0.296035  \n  ridder             7.002   0.333304  \n  bisection         123.03   0.143795  \n  mullerBisection  95.0436   0.151851  \n  newton           385.273   0.137474  \n  new_newton       89.0264   0.154038  \n  halley           89.0264   0.154078  \n  new_halley       89.0264   0.154045  \n  halleyMomentum   89.0264    0.15415  ,\n  1.7679723695522405:                 log_accuracy          mse      log_mse        duration  \\\n  brentq               5.61836  3.29937e-05  3.29927e-05  0:00:10.757515   \n  brenth               5.61836  3.29937e-05  3.29927e-05  0:00:10.429195   \n  ridder               5.61836  3.29937e-05  3.29927e-05  0:00:13.946668   \n  bisection            5.61836  3.29937e-05  3.29927e-05  0:06:48.942795   \n  mullerBisection      5.62736  3.23985e-05  3.23976e-05  0:08:15.479498   \n  newton               5.04413     0.200394     0.101818  0:00:05.722237   \n  new_newton           5.61179  5.89468e-05   5.8773e-05  0:00:06.248985   \n  halley               5.59666  0.000330351  0.000320417  0:00:07.356524   \n  new_halley           5.61081   0.00010368  0.000101723  0:00:07.202475   \n  halleyMomentum       3.94776  0.000781353  0.000778811  0:00:20.204167   \n  \n                     steps efficiency  \n  brentq           9.17767   0.298755  \n  brenth           9.39696   0.296035  \n  ridder             7.002   0.333304  \n  bisection         123.03   0.143795  \n  mullerBisection  95.0436   0.151851  \n  newton           389.315   0.141939  \n  new_newton       89.0264   0.154038  \n  halley           89.0264    0.15408  \n  new_halley       89.0264   0.154045  \n  halleyMomentum   89.0264    0.15415  }}"
      ]
     },
     "execution_count": 4,
     "metadata": {},
     "output_type": "execute_result"
    }
   ],
   "source": [
    "newDic = dicResult.copy()\n",
    "newDic"
   ]
  },
  {
   "cell_type": "code",
   "execution_count": null,
   "metadata": {},
   "outputs": [],
   "source": [
    "for i in newDic:\n",
    "    for s in newDic[i]:\n",
    "        for ind in newDic[i][s].index:\n",
    "            duration = newDic[i][s].loc[ind, 'duration']    \n",
    "            newDic[i][s].loc[ind, 'seconds'] = duration.total_seconds()\n",
    "\n",
    "df_plt = pd.DataFrame(index=testMethods)\n",
    "dic_plt = {}\n",
    "for i in newDic:\n",
    "# to keep each category together comparing with difference sigmas\n",
    "for s in testSigma:\n",
    "df_plt.loc[:, 'log_accuracy_sigma={:.2f}'.format(s)] = newDic[i][s].loc[:, 'log_accuracy']\n",
    "\n",
    "for s in testSigma:\n",
    "df_plt.loc[:, 'MSE_sigma={:.2f}'.format(s)] = newDic[i][s].loc[:, 'mse']\n",
    "\n",
    "for s in testSigma:\n",
    "df_plt.loc[:, 'log_mse_sigma={:.2f}'.format(s)] = newDic[i][s].loc[:, 'log_mse']\n",
    "\n",
    "for s in testSigma:\n",
    "df_plt.loc[:, 'running_time_sigma={:.2f}'.format(s)] = newDic[i][s].loc[:, 'seconds']\n",
    "\n",
    "for s in testSigma:\n",
    "df_plt.loc[:, 'steps_sigma={:.2f}'.format(s)] = newDic[i][s].loc[:, 'steps']\n",
    "\n",
    "for s in testSigma:\n",
    "df_plt.loc[:, 'efficiency_sigma={:.2f}'.format(s)] = newDic[i][s].loc[:, 'efficiency']\n",
    "\n",
    "dic_plt[i] = df_plt\n",
    "df_plt.to_csv('output_iter_{:d}_0510e10_final.csv'.format(i))"
   ]
  },
  {
   "cell_type": "code",
   "execution_count": 5,
   "metadata": {},
   "outputs": [],
   "source": [
    "import datetime\n",
    "for i in newDic:\n",
    "    for s in newDic[i]:\n",
    "        for ind in newDic[i][s].index:\n",
    "            duration = newDic[i][s].loc[ind, 'duration']\n",
    "            #d = datetime.time(hour=0, minute=0, second=duration.seconds, microsecond=duration.microseconds).strftime(\"%M:%S.%f\")[:-3]\n",
    "\n",
    "            newDic[i][s].loc[ind, 'seconds'] = duration.total_seconds()"
   ]
  },
  {
   "cell_type": "code",
   "execution_count": 72,
   "metadata": {
    "collapsed": true
   },
   "outputs": [
    {
     "data": {
      "text/plain": [
       "{0.22783848623874436:                  log_mse_iteration=2  running_time_iteration=2  \\\n brentq                      0.000996                  9.920838   \n brenth                      0.000996                  9.856188   \n ridder                      0.000996                 13.539539   \n bisection                   0.014307                 10.359204   \n mullerBisection             0.001020                 44.329166   \n newton                      0.153696                  5.334393   \n halley                      0.001177                  4.294872   \n new_newton                       NaN                  6.987986   \n new_halley                  0.001128                  6.163671   \n halleyMomentum              0.001567                  6.699850   \n \n                  steps_iteration=2  efficiency_iteration=2  \\\n brentq                    9.562374                0.294338   \n brenth                    9.786435                0.291740   \n ridder                    7.159467                0.330530   \n bisection                 2.720226                0.535385   \n mullerBisection           6.599919                0.342116   \n newton                    7.085991                     NaN   \n halley                   17.132418                0.239491   \n new_newton                7.882115                     NaN   \n new_halley               17.939039                0.235933   \n halleyMomentum            1.806621                0.672726   \n \n                  log_mse_iteration=5  running_time_iteration=5  \\\n brentq                      0.000996                  9.844139   \n brenth                      0.000996                 10.334097   \n ridder                      0.000996                 13.213242   \n bisection                   0.014307                 10.811087   \n mullerBisection             0.001020                 44.189469   \n newton                      0.153696                  5.107356   \n halley                      0.001177                  4.342517   \n new_newton                       NaN                  6.296019   \n new_halley                  0.000699                  7.467320   \n halleyMomentum              0.001431                  7.577139   \n \n                  steps_iteration=5  efficiency_iteration=5  \\\n brentq                    9.562374                0.294338   \n brenth                    9.786435                0.291740   \n ridder                    7.159467                0.330530   \n bisection                 2.720226                0.535385   \n mullerBisection           6.599919                0.342116   \n newton                    7.085991                     NaN   \n halley                   17.132418                0.239491   \n new_newton               13.512717                     NaN   \n new_halley               17.939039                0.235831   \n halleyMomentum            3.419863                0.467088   \n \n                  log_mse_iteration=8  running_time_iteration=8  \\\n brentq                      0.000996                 10.299021   \n brenth                      0.000996                 10.276612   \n ridder                      0.000996                 13.449981   \n bisection                   0.014307                 11.164833   \n mullerBisection             0.001020                 43.156249   \n newton                      0.153696                  5.473967   \n halley                      0.001177                  4.542603   \n new_newton                       NaN                  6.761548   \n new_halley                  0.000703                  7.882423   \n halleyMomentum              0.001476                  7.940713   \n \n                  steps_iteration=8  efficiency_iteration=8  \n brentq                    9.562374                0.294338  \n brenth                    9.786435                0.291740  \n ridder                    7.159467                0.330530  \n bisection                 2.720226                0.535385  \n mullerBisection           6.599919                0.342116  \n newton                    7.085991                     NaN  \n halley                   17.132418                0.239491  \n new_newton               16.733145                     NaN  \n new_halley               17.535729                0.237571  \n halleyMomentum            4.226484                0.419761  }"
      ]
     },
     "execution_count": 72,
     "metadata": {},
     "output_type": "execute_result"
    }
   ],
   "source": [
    "df_plt = pd.DataFrame(index=testMethods)\n",
    "dic_plt = {}\n",
    "for s in testSigma:\n",
    "    for i in testIter:\n",
    "        df_plt.loc[:, 'log_mse_iteration={:d}'.format(i)] = newDic[i][s].loc[:, 'log_mse']\n",
    "        df_plt.loc[:, 'running_time_iteration={:d}'.format(i)] = newDic[i][s].loc[:, 'seconds']\n",
    "        df_plt.loc[:, 'steps_iteration={:d}'.format(i)] = newDic[i][s].loc[:, 'steps']\n",
    "        df_plt.loc[:, 'efficiency_iteration={:d}'.format(i)] = newDic[i][s].loc[:, 'efficiency']\n",
    "        df_plt.replace(np.inf, np.nan, inplace=True)\n",
    "    \n",
    "    dic_plt[s] = df_plt\n",
    "    df_plt.to_csv('output_sigma_{:.2f}_0509.csv'.format(s))\n",
    "dic_plt"
   ]
  },
  {
   "cell_type": "code",
   "execution_count": 73,
   "metadata": {},
   "outputs": [
    {
     "name": "stdout",
     "output_type": "stream",
     "text": [
      "Using matplotlib backend: MacOSX\n"
     ]
    }
   ],
   "source": [
    "%matplotlib \n",
    "import matplotlib.pyplot as plt\n",
    "\n",
    "df_acc = dic_plt[0.22783848623874436].iloc[:, [0,4,8]]\n",
    "axes = df_acc.plot(kind='line', subplots=False, colormap='coolwarm', title='$\\log(1 + MSE)$ Comparison for $\\sigma=0.22$', grid=True, sort_columns=True, legend=True, figsize=(15,10))\n",
    "axes.set_ylabel('$\\log(1 + MSE)$')\n",
    "axes.legend(['initial_iterations = 2', 'initial_iterations = 5', 'initial_iterations = 8'], loc='best')\n",
    "plt.show()\n",
    "plt.savefig('log_mse_0509.png')"
   ]
  },
  {
   "cell_type": "code",
   "execution_count": 74,
   "metadata": {},
   "outputs": [],
   "source": [
    "df_acc = dic_plt[0.22783848623874436].iloc[:, [1,5,9]]\n",
    "axes = df_acc.plot(kind='line', subplots=False, colormap='coolwarm', title='Running Time Comparison for $\\sigma=0.22$', grid=True, sort_columns=True, legend=True, figsize=(15,10))\n",
    "axes.set_ylabel('Seconds')\n",
    "axes.legend(['initial_iterations = 2', 'initial_iterations = 5', 'initial_iterations = 8'], loc='best')\n",
    "plt.show()\n",
    "plt.savefig('running_time_0509.png')"
   ]
  },
  {
   "cell_type": "code",
   "execution_count": 75,
   "metadata": {},
   "outputs": [],
   "source": [
    "df_acc = dic_plt[0.22783848623874436].iloc[:, [2,6,10]]\n",
    "axes = df_acc.plot(kind='line', subplots=False, colormap='coolwarm', title='Average Iterations Comparison for $\\sigma=0.22$', grid=True, sort_columns=True, legend=True, figsize=(15,10))\n",
    "axes.set_ylabel('Iterations')\n",
    "axes.legend(['initial_iterations = 2', 'initial_iterations = 5', 'initial_iterations = 8'], loc='best')\n",
    "plt.show()\n",
    "plt.savefig('iterations_0509.png')"
   ]
  },
  {
   "cell_type": "code",
   "execution_count": 78,
   "metadata": {},
   "outputs": [],
   "source": [
    "df_acc = dic_plt[0.22783848623874436].iloc[:, [3,7,11]]\n",
    "\n",
    "axes = df_acc.plot(kind='line', subplots=False, colormap='coolwarm', title='Efficiency Comparison When $\\sigma=0.22$', grid=True, sort_columns=True, legend=True, figsize=(15,10))\n",
    "axes.set_ylabel(r'$\\frac{e^{MSE}}{\\log_2(1+iterations)}$')\n",
    "axes.legend(['initial_iterations = 2', 'initial_iterations = 5', 'initial_iterations = 8'], loc='best')\n",
    "plt.show()\n",
    "plt.savefig('efficiency_0509.png')"
   ]
  },
  {
   "cell_type": "code",
   "execution_count": null,
   "metadata": {},
   "outputs": [],
   "source": [
    ""
   ]
  }
 ],
 "metadata": {
  "kernelspec": {
   "display_name": "Python 2",
   "language": "python",
   "name": "python2"
  },
  "language_info": {
   "codemirror_mode": {
    "name": "ipython",
    "version": 2.0
   },
   "file_extension": ".py",
   "mimetype": "text/x-python",
   "name": "python",
   "nbconvert_exporter": "python",
   "pygments_lexer": "ipython2",
   "version": "2.7.6"
  }
 },
 "nbformat": 4,
 "nbformat_minor": 0
}