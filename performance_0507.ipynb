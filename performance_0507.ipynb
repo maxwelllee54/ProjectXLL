{
 "cells": [
  {
   "cell_type": "code",
   "execution_count": 1,
   "metadata": {
    "collapsed": true
   },
   "outputs": [
    {
     "data": {
      "text/html": [
       "<div>\n",
       "<table border=\"1\" class=\"dataframe\">\n",
       "  <thead>\n",
       "    <tr style=\"text-align: right;\">\n",
       "      <th></th>\n",
       "      <th>currentDate</th>\n",
       "      <th>ExpDate</th>\n",
       "      <th>StrikePrice</th>\n",
       "      <th>Ticker</th>\n",
       "      <th>Type</th>\n",
       "      <th>Last</th>\n",
       "      <th>IV</th>\n",
       "      <th>StockPrice</th>\n",
       "      <th>T</th>\n",
       "    </tr>\n",
       "  </thead>\n",
       "  <tbody>\n",
       "    <tr>\n",
       "      <th>0</th>\n",
       "      <td>2017-02-17</td>\n",
       "      <td>2017-03-17</td>\n",
       "      <td>22.5</td>\n",
       "      <td>ARR</td>\n",
       "      <td>Call</td>\n",
       "      <td>0.08</td>\n",
       "      <td>0.13956</td>\n",
       "      <td>21.709999</td>\n",
       "      <td>0.076660</td>\n",
       "    </tr>\n",
       "    <tr>\n",
       "      <th>1</th>\n",
       "      <td>2017-02-17</td>\n",
       "      <td>2017-03-17</td>\n",
       "      <td>20.0</td>\n",
       "      <td>ARR</td>\n",
       "      <td>Put</td>\n",
       "      <td>0.20</td>\n",
       "      <td>0.32783</td>\n",
       "      <td>21.709999</td>\n",
       "      <td>0.076660</td>\n",
       "    </tr>\n",
       "    <tr>\n",
       "      <th>2</th>\n",
       "      <td>2017-02-17</td>\n",
       "      <td>2017-04-21</td>\n",
       "      <td>21.0</td>\n",
       "      <td>ARR</td>\n",
       "      <td>Call</td>\n",
       "      <td>0.75</td>\n",
       "      <td>0.05176</td>\n",
       "      <td>21.709999</td>\n",
       "      <td>0.172485</td>\n",
       "    </tr>\n",
       "    <tr>\n",
       "      <th>3</th>\n",
       "      <td>2017-02-17</td>\n",
       "      <td>2017-04-21</td>\n",
       "      <td>22.0</td>\n",
       "      <td>ARR</td>\n",
       "      <td>Call</td>\n",
       "      <td>0.30</td>\n",
       "      <td>0.10719</td>\n",
       "      <td>21.709999</td>\n",
       "      <td>0.172485</td>\n",
       "    </tr>\n",
       "    <tr>\n",
       "      <th>4</th>\n",
       "      <td>2017-02-17</td>\n",
       "      <td>2017-03-17</td>\n",
       "      <td>180.0</td>\n",
       "      <td>MSG</td>\n",
       "      <td>Put</td>\n",
       "      <td>6.45</td>\n",
       "      <td>0.18380</td>\n",
       "      <td>175.300003</td>\n",
       "      <td>0.076660</td>\n",
       "    </tr>\n",
       "  </tbody>\n",
       "</table>\n",
       "</div>"
      ],
      "text/plain": [
       "<div>\n",
       "<table border=\"1\" class=\"dataframe\">\n",
       "  <thead>\n",
       "    <tr style=\"text-align: right;\">\n",
       "      <th></th>\n",
       "      <th>currentDate</th>\n",
       "      <th>ExpDate</th>\n",
       "      <th>StrikePrice</th>\n",
       "      <th>Ticker</th>\n",
       "      <th>Type</th>\n",
       "      <th>Last</th>\n",
       "      <th>IV</th>\n",
       "      <th>StockPrice</th>\n",
       "      <th>T</th>\n",
       "    </tr>\n",
       "  </thead>\n",
       "  <tbody>\n",
       "    <tr>\n",
       "      <th>0</th>\n",
       "      <td>2017-02-17</td>\n",
       "      <td>2017-03-17</td>\n",
       "      <td>22.5</td>\n",
       "      <td>ARR</td>\n",
       "      <td>Call</td>\n",
       "      <td>0.08</td>\n",
       "      <td>0.13956</td>\n",
       "      <td>21.709999</td>\n",
       "      <td>0.076660</td>\n",
       "    </tr>\n",
       "    <tr>\n",
       "      <th>1</th>\n",
       "      <td>2017-02-17</td>\n",
       "      <td>2017-03-17</td>\n",
       "      <td>20.0</td>\n",
       "      <td>ARR</td>\n",
       "      <td>Put</td>\n",
       "      <td>0.20</td>\n",
       "      <td>0.32783</td>\n",
       "      <td>21.709999</td>\n",
       "      <td>0.076660</td>\n",
       "    </tr>\n",
       "    <tr>\n",
       "      <th>2</th>\n",
       "      <td>2017-02-17</td>\n",
       "      <td>2017-04-21</td>\n",
       "      <td>21.0</td>\n",
       "      <td>ARR</td>\n",
       "      <td>Call</td>\n",
       "      <td>0.75</td>\n",
       "      <td>0.05176</td>\n",
       "      <td>21.709999</td>\n",
       "      <td>0.172485</td>\n",
       "    </tr>\n",
       "    <tr>\n",
       "      <th>3</th>\n",
       "      <td>2017-02-17</td>\n",
       "      <td>2017-04-21</td>\n",
       "      <td>22.0</td>\n",
       "      <td>ARR</td>\n",
       "      <td>Call</td>\n",
       "      <td>0.30</td>\n",
       "      <td>0.10719</td>\n",
       "      <td>21.709999</td>\n",
       "      <td>0.172485</td>\n",
       "    </tr>\n",
       "    <tr>\n",
       "      <th>4</th>\n",
       "      <td>2017-02-17</td>\n",
       "      <td>2017-03-17</td>\n",
       "      <td>180.0</td>\n",
       "      <td>MSG</td>\n",
       "      <td>Put</td>\n",
       "      <td>6.45</td>\n",
       "      <td>0.18380</td>\n",
       "      <td>175.300003</td>\n",
       "      <td>0.076660</td>\n",
       "    </tr>\n",
       "  </tbody>\n",
       "</table>\n",
       "</div>"
      ]
     },
     "execution_count": 1,
     "metadata": {},
     "output_type": "execute_result"
    }
   ],
   "source": [
    "import methods\n",
    "import pandas as pd\n",
    "data = pd.read_csv('europeanOptions_.01tol.csv')                                                                                       \n",
    "data = data.loc[:, ['currentDate', 'ExpDate', 'StrikePrice', 'Ticker', 'Type', 'Last', 'IV', 'StockPrice', 'T']]\n",
    "data.head()"
   ]
  },
  {
   "cell_type": "code",
   "execution_count": 3,
   "metadata": {
    "collapsed": true
   },
   "outputs": [
    {
     "name": "stdout",
     "output_type": "stream",
     "text": [
      "This is the test result for initial point sigma 0.98,                 initial iteration 2 times:\n                log_accuracy           mse      log_mse        duration  \\\nbrentq               4.30646    0.00100102  0.000996404  0:00:10.193326   \nbrenth               4.30646    0.00100102  0.000996404  0:00:10.218898   \nridder               4.30646    0.00100102  0.000996404  0:00:13.586435   \nbisection            2.57088     0.0146558    0.0143068  0:00:10.814961   \nmullerBisection      4.31031    0.00102593   0.00102047  0:00:44.558582   \nnewton               4.11251  7.32204e+188     0.420222  0:00:05.305509   \nhalley               3.65232    0.00271841   0.00270468  0:00:04.474384   \nnew_newton            4.0951           inf          inf  0:00:06.855622   \nnew_halley           4.04742    0.00113145   0.00112833  0:00:06.129507   \nhalleyMomentum       3.92695    0.00157629   0.00156689  0:00:06.665208   \n\n                   steps efficiency  \nbrentq           9.56237   0.294338  \nbrenth           9.78644    0.29174  \nridder           7.15947    0.33053  \nbisection        2.72023   0.535385  \nmullerBisection  6.59992   0.342116  \nnewton           9.93056        inf  \nhalley           10.2761   0.286885  \nnew_newton       7.88212        inf  \nnew_halley        17.939   0.235933  \nhalleyMomentum   1.80662   0.672726  \n\n\n"
     ]
    },
    {
     "name": "stdout",
     "output_type": "stream",
     "text": [
      "This is the test result for initial point sigma 0.98,                 initial iteration 5 times:\n                log_accuracy           mse      log_mse        duration  \\\nbrentq               4.30646    0.00100102  0.000996404  0:00:10.213386   \nbrenth               4.30646    0.00100102  0.000996404  0:00:10.430611   \nridder               4.30646    0.00100102  0.000996404  0:00:13.544032   \nbisection            2.57088     0.0146558    0.0143068  0:00:10.766914   \nmullerBisection      4.31031    0.00102593   0.00102047  0:00:44.525583   \nnewton               4.11251  7.32204e+188     0.420222  0:00:05.443278   \nhalley               3.65232    0.00271841   0.00270468  0:00:04.433974   \nnew_newton           3.39049           inf          inf  0:00:06.564513   \nnew_halley           4.34422   0.000700316  0.000699358  0:00:07.125882   \nhalleyMomentum       3.93499    0.00143631   0.00143139  0:00:07.798899   \n\n                   steps efficiency  \nbrentq           9.56237   0.294338  \nbrenth           9.78644    0.29174  \nridder           7.15947    0.33053  \nbisection        2.72023   0.535385  \nmullerBisection  6.59992   0.342116  \nnewton           9.93056        inf  \nhalley           10.2761   0.286885  \nnew_newton       13.5127        inf  \nnew_halley        17.939   0.235831  \nhalleyMomentum   3.41986   0.467088  \n\n\n"
     ]
    },
    {
     "name": "stdout",
     "output_type": "stream",
     "text": [
      "This is the test result for initial point sigma 0.98,                 initial iteration 8 times:\n                log_accuracy           mse      log_mse        duration  \\\nbrentq               4.30646    0.00100102  0.000996404  0:00:10.307730   \nbrenth               4.30646    0.00100102  0.000996404  0:00:10.394540   \nridder               4.30646    0.00100102  0.000996404  0:00:14.185784   \nbisection            2.57088     0.0146558    0.0143068  0:00:11.412637   \nmullerBisection      4.31031    0.00102593   0.00102047  0:00:43.515822   \nnewton               4.11251  7.32204e+188     0.420222  0:00:05.273117   \nhalley               3.65232    0.00271841   0.00270468  0:00:04.397506   \nnew_newton           3.26949           inf          inf  0:00:06.557591   \nnew_halley           4.34331   0.000703958   0.00070298  0:00:07.593566   \nhalleyMomentum       3.93774    0.00148163   0.00147626  0:00:08.115420   \n\n                   steps efficiency  \nbrentq           9.56237   0.294338  \nbrenth           9.78644    0.29174  \nridder           7.15947    0.33053  \nbisection        2.72023   0.535385  \nmullerBisection  6.59992   0.342116  \nnewton           9.93056        inf  \nhalley           10.2761   0.286885  \nnew_newton       16.7331        inf  \nnew_halley       17.5357   0.237571  \nhalleyMomentum   4.22648   0.419761  \n\n\n"
     ]
    }
   ],
   "source": [
    "import numpy as np\n",
    "testMethods = ['brentq', 'brenth', 'ridder', 'bisection', 'mullerBisection', 'newton', 'halley', 'new_newton', 'new_halley', 'halleyMomentum']  \n",
    "#testMethods = ['halley']\n",
    "#testSigma = [0.33, 0.66 , 0.99, 1.33, 1.66, 1.99]\n",
    "testSigma = np.random.uniform(0,2,1)\n",
    "testIter = [2,5,8]\n",
    "result = pd.DataFrame(index=testMethods, columns=['log_accuracy', 'mse', 'log_mse', 'duration', 'steps', 'efficiency'])                                                \n",
    "dicResult = {}\n",
    "\n",
    "                                                                                                                                                                                                                                                        \n",
    "for iter in testIter:\n",
    "    dicResult[iter] = {}\n",
    "    for sigma in testSigma:  \n",
    "        for method in testMethods: \n",
    "            result.loc[method, :] = methods.performance(data, method, sigma0=sigma, initialIter=iter)\n",
    "        dicResult[iter][sigma] = result.copy()                                                                                                  \n",
    "        print('This is the test result for initial point sigma {:.2f}, \\\n",
    "                initial iteration {:d} times:\\n{}\\n\\n'.format(sigma, iter, result))"
   ]
  },
  {
   "cell_type": "code",
   "execution_count": 4,
   "metadata": {
    "collapsed": true
   },
   "outputs": [
    {
     "data": {
      "text/plain": [
       "{2: {0.97608067496544137:                 log_accuracy           mse      log_mse        duration  \\\n  brentq               4.30646    0.00100102  0.000996404  0:00:10.193326   \n  brenth               4.30646    0.00100102  0.000996404  0:00:10.218898   \n  ridder               4.30646    0.00100102  0.000996404  0:00:13.586435   \n  bisection            2.57088     0.0146558    0.0143068  0:00:10.814961   \n  mullerBisection      4.31031    0.00102593   0.00102047  0:00:44.558582   \n  newton               4.11251  7.32204e+188     0.420222  0:00:05.305509   \n  halley               3.65232    0.00271841   0.00270468  0:00:04.474384   \n  new_newton            4.0951           inf          inf  0:00:06.855622   \n  new_halley           4.04742    0.00113145   0.00112833  0:00:06.129507   \n  halleyMomentum       3.92695    0.00157629   0.00156689  0:00:06.665208   \n  \n                     steps efficiency  \n  brentq           9.56237   0.294338  \n  brenth           9.78644    0.29174  \n  ridder           7.15947    0.33053  \n  bisection        2.72023   0.535385  \n  mullerBisection  6.59992   0.342116  \n  newton           9.93056        inf  \n  halley           10.2761   0.286885  \n  new_newton       7.88212        inf  \n  new_halley        17.939   0.235933  \n  halleyMomentum   1.80662   0.672726  },\n 5: {0.97608067496544137:                 log_accuracy           mse      log_mse        duration  \\\n  brentq               4.30646    0.00100102  0.000996404  0:00:10.213386   \n  brenth               4.30646    0.00100102  0.000996404  0:00:10.430611   \n  ridder               4.30646    0.00100102  0.000996404  0:00:13.544032   \n  bisection            2.57088     0.0146558    0.0143068  0:00:10.766914   \n  mullerBisection      4.31031    0.00102593   0.00102047  0:00:44.525583   \n  newton               4.11251  7.32204e+188     0.420222  0:00:05.443278   \n  halley               3.65232    0.00271841   0.00270468  0:00:04.433974   \n  new_newton           3.39049           inf          inf  0:00:06.564513   \n  new_halley           4.34422   0.000700316  0.000699358  0:00:07.125882   \n  halleyMomentum       3.93499    0.00143631   0.00143139  0:00:07.798899   \n  \n                     steps efficiency  \n  brentq           9.56237   0.294338  \n  brenth           9.78644    0.29174  \n  ridder           7.15947    0.33053  \n  bisection        2.72023   0.535385  \n  mullerBisection  6.59992   0.342116  \n  newton           9.93056        inf  \n  halley           10.2761   0.286885  \n  new_newton       13.5127        inf  \n  new_halley        17.939   0.235831  \n  halleyMomentum   3.41986   0.467088  },\n 8: {0.97608067496544137:                 log_accuracy           mse      log_mse        duration  \\\n  brentq               4.30646    0.00100102  0.000996404  0:00:10.307730   \n  brenth               4.30646    0.00100102  0.000996404  0:00:10.394540   \n  ridder               4.30646    0.00100102  0.000996404  0:00:14.185784   \n  bisection            2.57088     0.0146558    0.0143068  0:00:11.412637   \n  mullerBisection      4.31031    0.00102593   0.00102047  0:00:43.515822   \n  newton               4.11251  7.32204e+188     0.420222  0:00:05.273117   \n  halley               3.65232    0.00271841   0.00270468  0:00:04.397506   \n  new_newton           3.26949           inf          inf  0:00:06.557591   \n  new_halley           4.34331   0.000703958   0.00070298  0:00:07.593566   \n  halleyMomentum       3.93774    0.00148163   0.00147626  0:00:08.115420   \n  \n                     steps efficiency  \n  brentq           9.56237   0.294338  \n  brenth           9.78644    0.29174  \n  ridder           7.15947    0.33053  \n  bisection        2.72023   0.535385  \n  mullerBisection  6.59992   0.342116  \n  newton           9.93056        inf  \n  halley           10.2761   0.286885  \n  new_newton       16.7331        inf  \n  new_halley       17.5357   0.237571  \n  halleyMomentum   4.22648   0.419761  }}"
      ]
     },
     "execution_count": 4,
     "metadata": {},
     "output_type": "execute_result"
    }
   ],
   "source": [
    "newDic = dicResult.copy()\n",
    "newDic"
   ]
  },
  {
   "cell_type": "code",
   "execution_count": 5,
   "metadata": {},
   "outputs": [],
   "source": [
    "import datetime\n",
    "for i in newDic:\n",
    "    for s in newDic[i]:\n",
    "        for ind in newDic[i][s].index:\n",
    "            duration = newDic[i][s].loc[ind, 'duration']\n",
    "            #d = datetime.time(hour=0, minute=0, second=duration.seconds, microsecond=duration.microseconds).strftime(\"%M:%S.%f\")[:-3]\n",
    "\n",
    "            newDic[i][s].loc[ind, 'seconds'] = duration.total_seconds()"
   ]
  },
  {
   "cell_type": "code",
   "execution_count": 6,
   "metadata": {
    "collapsed": true
   },
   "outputs": [
    {
     "data": {
      "text/plain": [
       "{2:                 log_accuracy_sigma=0.98 MSE_sigma=0.98 log_mse_sigma=0.98  \\\n brentq                          4.30646     0.00100102        0.000996404   \n brenth                          4.30646     0.00100102        0.000996404   \n ridder                          4.30646     0.00100102        0.000996404   \n bisection                       2.57088      0.0146558          0.0143068   \n mullerBisection                 4.31031     0.00102593         0.00102047   \n newton                          4.11251   7.32204e+188           0.420222   \n halley                          3.65232     0.00271841         0.00270468   \n new_newton                      3.39049            inf                inf   \n new_halley                      4.34422    0.000700316        0.000699358   \n halleyMomentum                  3.93499     0.00143631         0.00143139   \n \n                  running_time_sigma=0.98 steps_sigma=0.98  \\\n brentq                         10.213386          9.56237   \n brenth                         10.430611          9.78644   \n ridder                         13.544032          7.15947   \n bisection                      10.766914          2.72023   \n mullerBisection                44.525583          6.59992   \n newton                          5.443278          9.93056   \n halley                          4.433974          10.2761   \n new_newton                      6.564513          13.5127   \n new_halley                      7.125882           17.939   \n halleyMomentum                  7.798899          3.41986   \n \n                 efficiency_sigma=0.98  \n brentq                       0.294338  \n brenth                        0.29174  \n ridder                        0.33053  \n bisection                    0.535385  \n mullerBisection              0.342116  \n newton                            inf  \n halley                       0.286885  \n new_newton                        inf  \n new_halley                   0.235831  \n halleyMomentum               0.467088  ,\n 5:                 log_accuracy_sigma=0.98 MSE_sigma=0.98 log_mse_sigma=0.98  \\\n brentq                          4.30646     0.00100102        0.000996404   \n brenth                          4.30646     0.00100102        0.000996404   \n ridder                          4.30646     0.00100102        0.000996404   \n bisection                       2.57088      0.0146558          0.0143068   \n mullerBisection                 4.31031     0.00102593         0.00102047   \n newton                          4.11251   7.32204e+188           0.420222   \n halley                          3.65232     0.00271841         0.00270468   \n new_newton                      3.39049            inf                inf   \n new_halley                      4.34422    0.000700316        0.000699358   \n halleyMomentum                  3.93499     0.00143631         0.00143139   \n \n                  running_time_sigma=0.98 steps_sigma=0.98  \\\n brentq                         10.213386          9.56237   \n brenth                         10.430611          9.78644   \n ridder                         13.544032          7.15947   \n bisection                      10.766914          2.72023   \n mullerBisection                44.525583          6.59992   \n newton                          5.443278          9.93056   \n halley                          4.433974          10.2761   \n new_newton                      6.564513          13.5127   \n new_halley                      7.125882           17.939   \n halleyMomentum                  7.798899          3.41986   \n \n                 efficiency_sigma=0.98  \n brentq                       0.294338  \n brenth                        0.29174  \n ridder                        0.33053  \n bisection                    0.535385  \n mullerBisection              0.342116  \n newton                            inf  \n halley                       0.286885  \n new_newton                        inf  \n new_halley                   0.235831  \n halleyMomentum               0.467088  ,\n 8:                 log_accuracy_sigma=0.98 MSE_sigma=0.98 log_mse_sigma=0.98  \\\n brentq                          4.30646     0.00100102        0.000996404   \n brenth                          4.30646     0.00100102        0.000996404   \n ridder                          4.30646     0.00100102        0.000996404   \n bisection                       2.57088      0.0146558          0.0143068   \n mullerBisection                 4.31031     0.00102593         0.00102047   \n newton                          4.11251   7.32204e+188           0.420222   \n halley                          3.65232     0.00271841         0.00270468   \n new_newton                      3.39049            inf                inf   \n new_halley                      4.34422    0.000700316        0.000699358   \n halleyMomentum                  3.93499     0.00143631         0.00143139   \n \n                  running_time_sigma=0.98 steps_sigma=0.98  \\\n brentq                         10.213386          9.56237   \n brenth                         10.430611          9.78644   \n ridder                         13.544032          7.15947   \n bisection                      10.766914          2.72023   \n mullerBisection                44.525583          6.59992   \n newton                          5.443278          9.93056   \n halley                          4.433974          10.2761   \n new_newton                      6.564513          13.5127   \n new_halley                      7.125882           17.939   \n halleyMomentum                  7.798899          3.41986   \n \n                 efficiency_sigma=0.98  \n brentq                       0.294338  \n brenth                        0.29174  \n ridder                        0.33053  \n bisection                    0.535385  \n mullerBisection              0.342116  \n newton                            inf  \n halley                       0.286885  \n new_newton                        inf  \n new_halley                   0.235831  \n halleyMomentum               0.467088  }"
      ]
     },
     "execution_count": 6,
     "metadata": {},
     "output_type": "execute_result"
    }
   ],
   "source": [
    "df_plt = pd.DataFrame(index=testMethods)\n",
    "dic_plt = {}\n",
    "for i in newDic:\n",
    "    # to keep each category together comparing with difference sigmas\n",
    "    for s in testSigma:\n",
    "        df_plt.loc[:, 'log_accuracy_sigma={:.2f}'.format(s)] = newDic[i][s].loc[:, 'log_accuracy']\n",
    "    \n",
    "    for s in testSigma:    \n",
    "        df_plt.loc[:, 'MSE_sigma={:.2f}'.format(s)] = newDic[i][s].loc[:, 'mse']\n",
    "    \n",
    "    for s in testSigma:\n",
    "        df_plt.loc[:, 'log_mse_sigma={:.2f}'.format(s)] = newDic[i][s].loc[:, 'log_mse']\n",
    "\n",
    "    for s in testSigma:\n",
    "        df_plt.loc[:, 'running_time_sigma={:.2f}'.format(s)] = newDic[i][s].loc[:, 'seconds']\n",
    "    \n",
    "    for s in testSigma:\n",
    "        df_plt.loc[:, 'steps_sigma={:.2f}'.format(s)] = newDic[i][s].loc[:, 'steps']\n",
    "\n",
    "    for s in testSigma:\n",
    "        df_plt.loc[:, 'efficiency_sigma={:.2f}'.format(s)] = newDic[i][s].loc[:, 'efficiency']\n",
    "    \n",
    "    dic_plt[i] = df_plt\n",
    "    df_plt.to_csv('output_iter_{:d}_0507.csv'.format(i))\n",
    "dic_plt"
   ]
  },
  {
   "cell_type": "code",
   "execution_count": 31,
   "metadata": {},
   "outputs": [
    {
     "name": "stdout",
     "output_type": "stream",
     "text": [
      "Using matplotlib backend: MacOSX\n"
     ]
    }
   ],
   "source": [
    "%matplotlib \n",
    "import matplotlib.pyplot as plt\n",
    "# 5 times iter log accuracy\n",
    "\n",
    "df_acc = dic_plt[5].iloc[:, 0:3]\n",
    "axes = df_acc.plot(kind='bar', subplots=True, colormap='coolwarm', title='Log Accuracy Comparison for Different Initial Sigma', grid=True, sort_columns=True, legend=False, figsize=(15,10))\n",
    "for ax in axes:\n",
    "    #ax.axvspan(6.5, 7.5, color='g', alpha=0.5)\n",
    "    #ax.axvspan(2.5, 3.5, color='g', alpha=0.2)\n",
    "    ax.set_ylabel('log accuracy')\n",
    "    ax.set_ylim([2.5,4.5])\n",
    "plt.show()\n",
    "plt.savefig('log_accuracy_0507.png')"
   ]
  },
  {
   "cell_type": "code",
   "execution_count": 43,
   "metadata": {},
   "outputs": [],
   "source": [
    "df_acc = dic_plt[5].iloc[:, 6:9]\n",
    "axes = df_acc.plot(kind='bar', subplots=True, colormap='coolwarm', title='MSE Accuracy Comparison for Different Initial Sigma', grid=True, sort_columns=True, legend=False, figsize=(10,10))\n",
    "\n",
    "for ax in axes:\n",
    "    ax.axvspan(8.5, 9.5, color='g', alpha=0.2)\n",
    "    ax.axvspan(-0.5, 2.5, color='g', alpha=0.3)\n",
    "    ax.set_ylim([0,0.0015])\n",
    "    ax.set_ylabel('log(1+MSE)')\n",
    "plt.show()\n",
    "plt.savefig('log_mse_0507.png')"
   ]
  },
  {
   "cell_type": "code",
   "execution_count": 49,
   "metadata": {},
   "outputs": [],
   "source": [
    "df_acc = dic_plt[5].iloc[:, -3:]\n",
    "axes = df_acc.plot(kind='bar', subplots=True, colormap='coolwarm', title='MSE Accuracy Comparison for Different Initial Sigma', grid=True, sort_columns=True, legend=False, figsize=(10,10))\n",
    "\n",
    "for ax in axes:\n",
    "    #ax.axvspan(8.5, 9.5, color='g', alpha=0.2)\n",
    "    #ax.axvspan(-0.5, 2.5, color='g', alpha=0.3)\n",
    "    ax.set_ylim([1,3])\n",
    "    ax.set_ylabel('efficiency')\n",
    "plt.show()\n",
    "plt.savefig('efficiency_0507.png')"
   ]
  },
  {
   "cell_type": "code",
   "execution_count": null,
   "metadata": {},
   "outputs": [],
   "source": [
    ""
   ]
  }
 ],
 "metadata": {
  "kernelspec": {
   "display_name": "Python 2",
   "language": "python",
   "name": "python2"
  },
  "language_info": {
   "codemirror_mode": {
    "name": "ipython",
    "version": 2.0
   },
   "file_extension": ".py",
   "mimetype": "text/x-python",
   "name": "python",
   "nbconvert_exporter": "python",
   "pygments_lexer": "ipython2",
   "version": "2.7.6"
  }
 },
 "nbformat": 4,
 "nbformat_minor": 0
}