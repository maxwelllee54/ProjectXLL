{
 "cells": [
  {
   "cell_type": "code",
   "execution_count": 1,
   "metadata": {
    "collapsed": true
   },
   "outputs": [
    {
     "data": {
      "text/html": [
       "<div>\n",
       "<table border=\"1\" class=\"dataframe\">\n",
       "  <thead>\n",
       "    <tr style=\"text-align: right;\">\n",
       "      <th></th>\n",
       "      <th>currentDate</th>\n",
       "      <th>ExpDate</th>\n",
       "      <th>StrikePrice</th>\n",
       "      <th>Ticker</th>\n",
       "      <th>Type</th>\n",
       "      <th>Last</th>\n",
       "      <th>IV</th>\n",
       "      <th>StockPrice</th>\n",
       "      <th>T</th>\n",
       "    </tr>\n",
       "  </thead>\n",
       "  <tbody>\n",
       "    <tr>\n",
       "      <th>0</th>\n",
       "      <td>2017-02-17</td>\n",
       "      <td>2017-03-17</td>\n",
       "      <td>22.5</td>\n",
       "      <td>ARR</td>\n",
       "      <td>Call</td>\n",
       "      <td>0.08</td>\n",
       "      <td>0.13956</td>\n",
       "      <td>21.709999</td>\n",
       "      <td>0.076660</td>\n",
       "    </tr>\n",
       "    <tr>\n",
       "      <th>1</th>\n",
       "      <td>2017-02-17</td>\n",
       "      <td>2017-03-17</td>\n",
       "      <td>20.0</td>\n",
       "      <td>ARR</td>\n",
       "      <td>Put</td>\n",
       "      <td>0.20</td>\n",
       "      <td>0.32783</td>\n",
       "      <td>21.709999</td>\n",
       "      <td>0.076660</td>\n",
       "    </tr>\n",
       "    <tr>\n",
       "      <th>2</th>\n",
       "      <td>2017-02-17</td>\n",
       "      <td>2017-04-21</td>\n",
       "      <td>21.0</td>\n",
       "      <td>ARR</td>\n",
       "      <td>Call</td>\n",
       "      <td>0.75</td>\n",
       "      <td>0.05176</td>\n",
       "      <td>21.709999</td>\n",
       "      <td>0.172485</td>\n",
       "    </tr>\n",
       "    <tr>\n",
       "      <th>3</th>\n",
       "      <td>2017-02-17</td>\n",
       "      <td>2017-04-21</td>\n",
       "      <td>22.0</td>\n",
       "      <td>ARR</td>\n",
       "      <td>Call</td>\n",
       "      <td>0.30</td>\n",
       "      <td>0.10719</td>\n",
       "      <td>21.709999</td>\n",
       "      <td>0.172485</td>\n",
       "    </tr>\n",
       "    <tr>\n",
       "      <th>4</th>\n",
       "      <td>2017-02-17</td>\n",
       "      <td>2017-03-17</td>\n",
       "      <td>180.0</td>\n",
       "      <td>MSG</td>\n",
       "      <td>Put</td>\n",
       "      <td>6.45</td>\n",
       "      <td>0.18380</td>\n",
       "      <td>175.300003</td>\n",
       "      <td>0.076660</td>\n",
       "    </tr>\n",
       "  </tbody>\n",
       "</table>\n",
       "</div>"
      ],
      "text/plain": [
       "<div>\n",
       "<table border=\"1\" class=\"dataframe\">\n",
       "  <thead>\n",
       "    <tr style=\"text-align: right;\">\n",
       "      <th></th>\n",
       "      <th>currentDate</th>\n",
       "      <th>ExpDate</th>\n",
       "      <th>StrikePrice</th>\n",
       "      <th>Ticker</th>\n",
       "      <th>Type</th>\n",
       "      <th>Last</th>\n",
       "      <th>IV</th>\n",
       "      <th>StockPrice</th>\n",
       "      <th>T</th>\n",
       "    </tr>\n",
       "  </thead>\n",
       "  <tbody>\n",
       "    <tr>\n",
       "      <th>0</th>\n",
       "      <td>2017-02-17</td>\n",
       "      <td>2017-03-17</td>\n",
       "      <td>22.5</td>\n",
       "      <td>ARR</td>\n",
       "      <td>Call</td>\n",
       "      <td>0.08</td>\n",
       "      <td>0.13956</td>\n",
       "      <td>21.709999</td>\n",
       "      <td>0.076660</td>\n",
       "    </tr>\n",
       "    <tr>\n",
       "      <th>1</th>\n",
       "      <td>2017-02-17</td>\n",
       "      <td>2017-03-17</td>\n",
       "      <td>20.0</td>\n",
       "      <td>ARR</td>\n",
       "      <td>Put</td>\n",
       "      <td>0.20</td>\n",
       "      <td>0.32783</td>\n",
       "      <td>21.709999</td>\n",
       "      <td>0.076660</td>\n",
       "    </tr>\n",
       "    <tr>\n",
       "      <th>2</th>\n",
       "      <td>2017-02-17</td>\n",
       "      <td>2017-04-21</td>\n",
       "      <td>21.0</td>\n",
       "      <td>ARR</td>\n",
       "      <td>Call</td>\n",
       "      <td>0.75</td>\n",
       "      <td>0.05176</td>\n",
       "      <td>21.709999</td>\n",
       "      <td>0.172485</td>\n",
       "    </tr>\n",
       "    <tr>\n",
       "      <th>3</th>\n",
       "      <td>2017-02-17</td>\n",
       "      <td>2017-04-21</td>\n",
       "      <td>22.0</td>\n",
       "      <td>ARR</td>\n",
       "      <td>Call</td>\n",
       "      <td>0.30</td>\n",
       "      <td>0.10719</td>\n",
       "      <td>21.709999</td>\n",
       "      <td>0.172485</td>\n",
       "    </tr>\n",
       "    <tr>\n",
       "      <th>4</th>\n",
       "      <td>2017-02-17</td>\n",
       "      <td>2017-03-17</td>\n",
       "      <td>180.0</td>\n",
       "      <td>MSG</td>\n",
       "      <td>Put</td>\n",
       "      <td>6.45</td>\n",
       "      <td>0.18380</td>\n",
       "      <td>175.300003</td>\n",
       "      <td>0.076660</td>\n",
       "    </tr>\n",
       "  </tbody>\n",
       "</table>\n",
       "</div>"
      ]
     },
     "execution_count": 1,
     "metadata": {},
     "output_type": "execute_result"
    }
   ],
   "source": [
    "import methods\n",
    "import pandas as pd\n",
    "data = pd.read_csv('europeanOptions_.01tol.csv')                                                                                       \n",
    "data = data.loc[:, ['currentDate', 'ExpDate', 'StrikePrice', 'Ticker', 'Type', 'Last', 'IV', 'StockPrice', 'T']]\n",
    "data.head()"
   ]
  },
  {
   "cell_type": "code",
   "execution_count": 3,
   "metadata": {
    "collapsed": true
   },
   "outputs": [
    {
     "name": "stderr",
     "output_type": "stream",
     "text": [
      "/Users/Maxwell/anaconda/lib/python3.5/site-packages/scipy/optimize/zeros.py:173: RuntimeWarning: Tolerance of 15043.8384811 reached\n  warnings.warn(msg, RuntimeWarning)\n"
     ]
    },
    {
     "name": "stderr",
     "output_type": "stream",
     "text": [
      "/Users/Maxwell/anaconda/lib/python3.5/site-packages/scipy/optimize/zeros.py:173: RuntimeWarning: Tolerance of -8.78325982217e-06 reached\n  warnings.warn(msg, RuntimeWarning)\n/Users/Maxwell/anaconda/lib/python3.5/site-packages/scipy/optimize/zeros.py:173: RuntimeWarning: Tolerance of 1033715.52342 reached\n  warnings.warn(msg, RuntimeWarning)\n"
     ]
    },
    {
     "name": "stderr",
     "output_type": "stream",
     "text": [
      "/Users/Maxwell/anaconda/lib/python3.5/site-packages/scipy/optimize/zeros.py:173: RuntimeWarning: Tolerance of -0.00268544053288 reached\n  warnings.warn(msg, RuntimeWarning)\n/Users/Maxwell/anaconda/lib/python3.5/site-packages/scipy/optimize/zeros.py:173: RuntimeWarning: Tolerance of -0.0208351200224 reached\n  warnings.warn(msg, RuntimeWarning)\n/Users/Maxwell/anaconda/lib/python3.5/site-packages/scipy/optimize/zeros.py:173: RuntimeWarning: Tolerance of -0.00275563653178 reached\n  warnings.warn(msg, RuntimeWarning)\n"
     ]
    },
    {
     "name": "stderr",
     "output_type": "stream",
     "text": [
      "/Users/Maxwell/anaconda/lib/python3.5/site-packages/scipy/optimize/zeros.py:173: RuntimeWarning: Tolerance of -0.00223129576011 reached\n  warnings.warn(msg, RuntimeWarning)\n/Users/Maxwell/anaconda/lib/python3.5/site-packages/scipy/optimize/zeros.py:173: RuntimeWarning: Tolerance of 4114267385.28 reached\n  warnings.warn(msg, RuntimeWarning)\n"
     ]
    },
    {
     "name": "stderr",
     "output_type": "stream",
     "text": [
      "/Users/Maxwell/anaconda/lib/python3.5/site-packages/scipy/optimize/zeros.py:173: RuntimeWarning: Tolerance of 11310548238.9 reached\n  warnings.warn(msg, RuntimeWarning)\n/Users/Maxwell/anaconda/lib/python3.5/site-packages/scipy/optimize/zeros.py:173: RuntimeWarning: Tolerance of 3628540284.67 reached\n  warnings.warn(msg, RuntimeWarning)\n/Users/Maxwell/anaconda/lib/python3.5/site-packages/scipy/optimize/zeros.py:173: RuntimeWarning: Tolerance of 270.084656506 reached\n  warnings.warn(msg, RuntimeWarning)\n/Users/Maxwell/anaconda/lib/python3.5/site-packages/scipy/optimize/zeros.py:173: RuntimeWarning: Tolerance of -49679765170.8 reached\n  warnings.warn(msg, RuntimeWarning)\n/Users/Maxwell/anaconda/lib/python3.5/site-packages/scipy/optimize/zeros.py:173: RuntimeWarning: Tolerance of -0.00746502637511 reached\n  warnings.warn(msg, RuntimeWarning)\n/Users/Maxwell/anaconda/lib/python3.5/site-packages/scipy/optimize/zeros.py:173: RuntimeWarning: Tolerance of 68246.8210848 reached\n  warnings.warn(msg, RuntimeWarning)\n/Users/Maxwell/anaconda/lib/python3.5/site-packages/scipy/optimize/zeros.py:173: RuntimeWarning: Tolerance of 3959771826.77 reached\n  warnings.warn(msg, RuntimeWarning)\n/Users/Maxwell/anaconda/lib/python3.5/site-packages/scipy/optimize/zeros.py:173: RuntimeWarning: Tolerance of 42989110552.0 reached\n  warnings.warn(msg, RuntimeWarning)\n/Users/Maxwell/anaconda/lib/python3.5/site-packages/scipy/optimize/zeros.py:173: RuntimeWarning: Tolerance of -0.00938438357576 reached\n  warnings.warn(msg, RuntimeWarning)\n"
     ]
    },
    {
     "name": "stderr",
     "output_type": "stream",
     "text": [
      "/Users/Maxwell/anaconda/lib/python3.5/site-packages/scipy/optimize/zeros.py:173: RuntimeWarning: Tolerance of 331455444841.0 reached\n  warnings.warn(msg, RuntimeWarning)\n/Users/Maxwell/anaconda/lib/python3.5/site-packages/scipy/optimize/zeros.py:173: RuntimeWarning: Tolerance of 21013150.655 reached\n  warnings.warn(msg, RuntimeWarning)\n"
     ]
    },
    {
     "name": "stderr",
     "output_type": "stream",
     "text": [
      "/Users/Maxwell/anaconda/lib/python3.5/site-packages/scipy/optimize/zeros.py:173: RuntimeWarning: Tolerance of -24.142184356 reached\n  warnings.warn(msg, RuntimeWarning)\n"
     ]
    },
    {
     "name": "stderr",
     "output_type": "stream",
     "text": [
      "/Users/Maxwell/anaconda/lib/python3.5/site-packages/scipy/optimize/zeros.py:173: RuntimeWarning: Tolerance of -0.00202309679337 reached\n  warnings.warn(msg, RuntimeWarning)\n/Users/Maxwell/anaconda/lib/python3.5/site-packages/scipy/optimize/zeros.py:173: RuntimeWarning: Tolerance of -0.00711104531125 reached\n  warnings.warn(msg, RuntimeWarning)\n"
     ]
    },
    {
     "name": "stderr",
     "output_type": "stream",
     "text": [
      "/Users/Maxwell/anaconda/lib/python3.5/site-packages/scipy/optimize/zeros.py:173: RuntimeWarning: Tolerance of 86938239.0001 reached\n  warnings.warn(msg, RuntimeWarning)\n/Users/Maxwell/anaconda/lib/python3.5/site-packages/scipy/optimize/zeros.py:173: RuntimeWarning: Tolerance of 5421954357.71 reached\n  warnings.warn(msg, RuntimeWarning)\n/Users/Maxwell/anaconda/lib/python3.5/site-packages/scipy/optimize/zeros.py:173: RuntimeWarning: Tolerance of -0.00753228669711 reached\n  warnings.warn(msg, RuntimeWarning)\n"
     ]
    },
    {
     "name": "stderr",
     "output_type": "stream",
     "text": [
      "/Users/Maxwell/anaconda/lib/python3.5/site-packages/scipy/optimize/zeros.py:173: RuntimeWarning: Tolerance of 46205090454.1 reached\n  warnings.warn(msg, RuntimeWarning)\n"
     ]
    },
    {
     "name": "stderr",
     "output_type": "stream",
     "text": [
      "/Users/Maxwell/anaconda/lib/python3.5/site-packages/scipy/optimize/zeros.py:173: RuntimeWarning: Tolerance of -0.00127470323177 reached\n  warnings.warn(msg, RuntimeWarning)\n"
     ]
    },
    {
     "name": "stderr",
     "output_type": "stream",
     "text": [
      "/Users/Maxwell/anaconda/lib/python3.5/site-packages/scipy/optimize/zeros.py:173: RuntimeWarning: Tolerance of -0.00254041047777 reached\n  warnings.warn(msg, RuntimeWarning)\n/Users/Maxwell/anaconda/lib/python3.5/site-packages/scipy/optimize/zeros.py:173: RuntimeWarning: Tolerance of 3931729.1344 reached\n  warnings.warn(msg, RuntimeWarning)\n/Users/Maxwell/anaconda/lib/python3.5/site-packages/scipy/optimize/zeros.py:173: RuntimeWarning: Tolerance of 4458303.43782 reached\n  warnings.warn(msg, RuntimeWarning)\n"
     ]
    },
    {
     "name": "stderr",
     "output_type": "stream",
     "text": [
      "/Users/Maxwell/anaconda/lib/python3.5/site-packages/scipy/optimize/zeros.py:173: RuntimeWarning: Tolerance of -0.0010870837415 reached\n  warnings.warn(msg, RuntimeWarning)\n/Users/Maxwell/anaconda/lib/python3.5/site-packages/scipy/optimize/zeros.py:173: RuntimeWarning: Tolerance of -0.00632166552186 reached\n  warnings.warn(msg, RuntimeWarning)\n/Users/Maxwell/anaconda/lib/python3.5/site-packages/scipy/optimize/zeros.py:173: RuntimeWarning: Tolerance of 326214062.693 reached\n  warnings.warn(msg, RuntimeWarning)\n"
     ]
    },
    {
     "name": "stderr",
     "output_type": "stream",
     "text": [
      "/Users/Maxwell/anaconda/lib/python3.5/site-packages/scipy/optimize/zeros.py:173: RuntimeWarning: Tolerance of -825.488457018 reached\n  warnings.warn(msg, RuntimeWarning)\n/Users/Maxwell/anaconda/lib/python3.5/site-packages/scipy/optimize/zeros.py:173: RuntimeWarning: Tolerance of -0.000608010431399 reached\n  warnings.warn(msg, RuntimeWarning)\n/Users/Maxwell/anaconda/lib/python3.5/site-packages/scipy/optimize/zeros.py:173: RuntimeWarning: Tolerance of -2.63222694914e+13 reached\n  warnings.warn(msg, RuntimeWarning)\n/Users/Maxwell/anaconda/lib/python3.5/site-packages/scipy/optimize/zeros.py:173: RuntimeWarning: Tolerance of -0.00189289120861 reached\n  warnings.warn(msg, RuntimeWarning)\n"
     ]
    },
    {
     "name": "stderr",
     "output_type": "stream",
     "text": [
      "/Users/Maxwell/anaconda/lib/python3.5/site-packages/scipy/optimize/zeros.py:173: RuntimeWarning: Tolerance of -29.3154703893 reached\n  warnings.warn(msg, RuntimeWarning)\n/Users/Maxwell/anaconda/lib/python3.5/site-packages/scipy/optimize/zeros.py:173: RuntimeWarning: Tolerance of 33118395.1684 reached\n  warnings.warn(msg, RuntimeWarning)\n"
     ]
    },
    {
     "name": "stderr",
     "output_type": "stream",
     "text": [
      "/Users/Maxwell/anaconda/lib/python3.5/site-packages/scipy/optimize/zeros.py:173: RuntimeWarning: Tolerance of 4214649.48987 reached\n  warnings.warn(msg, RuntimeWarning)\n/Users/Maxwell/anaconda/lib/python3.5/site-packages/scipy/optimize/zeros.py:173: RuntimeWarning: Tolerance of 13804607835.3 reached\n  warnings.warn(msg, RuntimeWarning)\n"
     ]
    },
    {
     "name": "stdout",
     "output_type": "stream",
     "text": [
      "This is the test result for initial point sigma 0.50,                 initial iteration 2 times:\n                log_accuracy          mse      log_mse        duration  \\\nbrentq               4.30646   0.00100102  0.000996404  0:00:08.735582   \nbrenth               4.30646   0.00100102  0.000996404  0:00:08.669411   \nridder               4.30646   0.00100102  0.000996404  0:00:12.009681   \nscipy_newton         4.11276  7.04273e+23     0.344857  0:00:05.495165   \nbisection            4.30647   0.00100102  0.000996404  0:01:08.646549   \nmullerBisection      4.17988   0.00218162   0.00214916  0:01:00.528299   \nnewton                 4.342  0.000744484  0.000741597  0:00:05.006424   \nhalley               4.34644  0.000698934   0.00069798  0:00:06.076776   \nnew_newton           4.34331   0.00070389  0.000702913  0:00:06.065603   \nnew_halley           4.34302  0.000700229  0.000699271  0:00:07.128185   \nhalleyMomentum       3.90009   0.00427253     0.003165  0:00:06.823965   \n\n                   steps efficiency  \nbrentq           9.45862    2.19943  \nbrenth           9.67461    2.19943  \nridder            6.9132    2.56752  \nscipy_newton         100        inf  \nbisection        23.6003    4.23835  \nmullerBisection  9.82398    4.11985  \nnewton           16.5523    1.79309  \nhalley           16.9576    1.94727  \nnew_newton       16.5523    1.94728  \nnew_halley       16.9568     2.0809  \nhalleyMomentum   6.06419    1.95424  \n\n\n"
     ]
    },
    {
     "name": "stderr",
     "output_type": "stream",
     "text": [
      "/Users/Maxwell/anaconda/lib/python3.5/site-packages/scipy/optimize/zeros.py:173: RuntimeWarning: Tolerance of -382.389525425 reached\n  warnings.warn(msg, RuntimeWarning)\n"
     ]
    },
    {
     "name": "stderr",
     "output_type": "stream",
     "text": [
      "/Users/Maxwell/anaconda/lib/python3.5/site-packages/scipy/optimize/zeros.py:173: RuntimeWarning: Tolerance of -0.00152581934372 reached\n  warnings.warn(msg, RuntimeWarning)\n/Users/Maxwell/anaconda/lib/python3.5/site-packages/scipy/optimize/zeros.py:173: RuntimeWarning: Tolerance of -6136761.33464 reached\n  warnings.warn(msg, RuntimeWarning)\n"
     ]
    },
    {
     "name": "stderr",
     "output_type": "stream",
     "text": [
      "/Users/Maxwell/anaconda/lib/python3.5/site-packages/scipy/optimize/zeros.py:173: RuntimeWarning: Tolerance of -3.13025982498e-05 reached\n  warnings.warn(msg, RuntimeWarning)\n/Users/Maxwell/anaconda/lib/python3.5/site-packages/scipy/optimize/zeros.py:173: RuntimeWarning: Tolerance of -0.00927964191539 reached\n  warnings.warn(msg, RuntimeWarning)\n/Users/Maxwell/anaconda/lib/python3.5/site-packages/scipy/optimize/zeros.py:173: RuntimeWarning: Tolerance of -0.00251498453844 reached\n  warnings.warn(msg, RuntimeWarning)\n"
     ]
    },
    {
     "name": "stderr",
     "output_type": "stream",
     "text": [
      "/Users/Maxwell/anaconda/lib/python3.5/site-packages/scipy/optimize/zeros.py:173: RuntimeWarning: Tolerance of 186024.521259 reached\n  warnings.warn(msg, RuntimeWarning)\n/Users/Maxwell/anaconda/lib/python3.5/site-packages/scipy/optimize/zeros.py:173: RuntimeWarning: Tolerance of -7447.57137102 reached\n  warnings.warn(msg, RuntimeWarning)\n"
     ]
    },
    {
     "name": "stderr",
     "output_type": "stream",
     "text": [
      "/Users/Maxwell/anaconda/lib/python3.5/site-packages/scipy/optimize/zeros.py:173: RuntimeWarning: Tolerance of -2.32310937063e-06 reached\n  warnings.warn(msg, RuntimeWarning)\n/Users/Maxwell/anaconda/lib/python3.5/site-packages/scipy/optimize/zeros.py:173: RuntimeWarning: Tolerance of -100.337433189 reached\n  warnings.warn(msg, RuntimeWarning)\n/Users/Maxwell/anaconda/lib/python3.5/site-packages/scipy/optimize/zeros.py:173: RuntimeWarning: Tolerance of -0.00765624213372 reached\n  warnings.warn(msg, RuntimeWarning)\n/Users/Maxwell/anaconda/lib/python3.5/site-packages/scipy/optimize/zeros.py:173: RuntimeWarning: Tolerance of -0.000106972020724 reached\n  warnings.warn(msg, RuntimeWarning)\n/Users/Maxwell/anaconda/lib/python3.5/site-packages/scipy/optimize/zeros.py:173: RuntimeWarning: Tolerance of 359171.979179 reached\n  warnings.warn(msg, RuntimeWarning)\n/Users/Maxwell/anaconda/lib/python3.5/site-packages/scipy/optimize/zeros.py:173: RuntimeWarning: Tolerance of 286005.457133 reached\n  warnings.warn(msg, RuntimeWarning)\n/Users/Maxwell/anaconda/lib/python3.5/site-packages/scipy/optimize/zeros.py:173: RuntimeWarning: Tolerance of -0.000361374125148 reached\n  warnings.warn(msg, RuntimeWarning)\n/Users/Maxwell/anaconda/lib/python3.5/site-packages/scipy/optimize/zeros.py:173: RuntimeWarning: Tolerance of -0.000327180528215 reached\n  warnings.warn(msg, RuntimeWarning)\n/Users/Maxwell/anaconda/lib/python3.5/site-packages/scipy/optimize/zeros.py:173: RuntimeWarning: Tolerance of 4112537.57426 reached\n  warnings.warn(msg, RuntimeWarning)\n/Users/Maxwell/anaconda/lib/python3.5/site-packages/scipy/optimize/zeros.py:173: RuntimeWarning: Tolerance of -355.861938608 reached\n  warnings.warn(msg, RuntimeWarning)\n"
     ]
    },
    {
     "name": "stderr",
     "output_type": "stream",
     "text": [
      "/Users/Maxwell/anaconda/lib/python3.5/site-packages/scipy/optimize/zeros.py:173: RuntimeWarning: Tolerance of -3.82742520832e+13 reached\n  warnings.warn(msg, RuntimeWarning)\n"
     ]
    },
    {
     "name": "stderr",
     "output_type": "stream",
     "text": [
      "/Users/Maxwell/anaconda/lib/python3.5/site-packages/scipy/optimize/zeros.py:173: RuntimeWarning: Tolerance of -0.0028158251272 reached\n  warnings.warn(msg, RuntimeWarning)\n/Users/Maxwell/anaconda/lib/python3.5/site-packages/scipy/optimize/zeros.py:173: RuntimeWarning: Tolerance of -3.92152329385e-05 reached\n  warnings.warn(msg, RuntimeWarning)\n"
     ]
    },
    {
     "name": "stderr",
     "output_type": "stream",
     "text": [
      "/Users/Maxwell/anaconda/lib/python3.5/site-packages/scipy/optimize/zeros.py:173: RuntimeWarning: Tolerance of 6098927.89509 reached\n  warnings.warn(msg, RuntimeWarning)\n"
     ]
    },
    {
     "name": "stderr",
     "output_type": "stream",
     "text": [
      "/Users/Maxwell/anaconda/lib/python3.5/site-packages/scipy/optimize/zeros.py:173: RuntimeWarning: Tolerance of -0.00635557743559 reached\n  warnings.warn(msg, RuntimeWarning)\n"
     ]
    },
    {
     "name": "stderr",
     "output_type": "stream",
     "text": [
      "/Users/Maxwell/anaconda/lib/python3.5/site-packages/scipy/optimize/zeros.py:173: RuntimeWarning: Tolerance of 8045070.49444 reached\n  warnings.warn(msg, RuntimeWarning)\n"
     ]
    },
    {
     "name": "stderr",
     "output_type": "stream",
     "text": [
      "/Users/Maxwell/anaconda/lib/python3.5/site-packages/scipy/optimize/zeros.py:173: RuntimeWarning: Tolerance of 137689468.996 reached\n  warnings.warn(msg, RuntimeWarning)\n"
     ]
    },
    {
     "name": "stderr",
     "output_type": "stream",
     "text": [
      "/Users/Maxwell/anaconda/lib/python3.5/site-packages/scipy/optimize/zeros.py:173: RuntimeWarning: Tolerance of 129992220.654 reached\n  warnings.warn(msg, RuntimeWarning)\n/Users/Maxwell/anaconda/lib/python3.5/site-packages/scipy/optimize/zeros.py:173: RuntimeWarning: Tolerance of -2.90194343394e+20 reached\n  warnings.warn(msg, RuntimeWarning)\n/Users/Maxwell/anaconda/lib/python3.5/site-packages/scipy/optimize/zeros.py:173: RuntimeWarning: Tolerance of 10496700.4482 reached\n  warnings.warn(msg, RuntimeWarning)\n"
     ]
    },
    {
     "name": "stderr",
     "output_type": "stream",
     "text": [
      "/Users/Maxwell/anaconda/lib/python3.5/site-packages/scipy/optimize/zeros.py:173: RuntimeWarning: Tolerance of 2424054853.21 reached\n  warnings.warn(msg, RuntimeWarning)\n/Users/Maxwell/anaconda/lib/python3.5/site-packages/scipy/optimize/zeros.py:173: RuntimeWarning: Tolerance of -15333.5067243 reached\n  warnings.warn(msg, RuntimeWarning)\n/Users/Maxwell/anaconda/lib/python3.5/site-packages/scipy/optimize/zeros.py:173: RuntimeWarning: Tolerance of -0.00957568177593 reached\n  warnings.warn(msg, RuntimeWarning)\n/Users/Maxwell/anaconda/lib/python3.5/site-packages/scipy/optimize/zeros.py:173: RuntimeWarning: Tolerance of -0.00067489540598 reached\n  warnings.warn(msg, RuntimeWarning)\n"
     ]
    },
    {
     "name": "stderr",
     "output_type": "stream",
     "text": [
      "/Users/Maxwell/anaconda/lib/python3.5/site-packages/scipy/optimize/zeros.py:173: RuntimeWarning: Tolerance of 43101986873.9 reached\n  warnings.warn(msg, RuntimeWarning)\n/Users/Maxwell/anaconda/lib/python3.5/site-packages/scipy/optimize/zeros.py:173: RuntimeWarning: Tolerance of -0.00225417798927 reached\n  warnings.warn(msg, RuntimeWarning)\n/Users/Maxwell/anaconda/lib/python3.5/site-packages/scipy/optimize/zeros.py:173: RuntimeWarning: Tolerance of 2234908.33974 reached\n  warnings.warn(msg, RuntimeWarning)\n"
     ]
    },
    {
     "name": "stderr",
     "output_type": "stream",
     "text": [
      "/Users/Maxwell/anaconda/lib/python3.5/site-packages/scipy/optimize/zeros.py:173: RuntimeWarning: Tolerance of 1728058524.82 reached\n  warnings.warn(msg, RuntimeWarning)\n/Users/Maxwell/anaconda/lib/python3.5/site-packages/scipy/optimize/zeros.py:173: RuntimeWarning: Tolerance of -7572500.23242 reached\n  warnings.warn(msg, RuntimeWarning)\n"
     ]
    },
    {
     "name": "stderr",
     "output_type": "stream",
     "text": [
      "/Users/Maxwell/anaconda/lib/python3.5/site-packages/scipy/optimize/zeros.py:173: RuntimeWarning: Tolerance of 249811.802901 reached\n  warnings.warn(msg, RuntimeWarning)\n/Users/Maxwell/anaconda/lib/python3.5/site-packages/scipy/optimize/zeros.py:173: RuntimeWarning: Tolerance of 24997991842.1 reached\n  warnings.warn(msg, RuntimeWarning)\n"
     ]
    },
    {
     "name": "stdout",
     "output_type": "stream",
     "text": [
      "This is the test result for initial point sigma 0.70,                 initial iteration 2 times:\n                log_accuracy          mse      log_mse        duration  \\\nbrentq               4.30646   0.00100102  0.000996404  0:00:08.522243   \nbrenth               4.30646   0.00100102  0.000996404  0:00:08.651001   \nridder               4.30646   0.00100102  0.000996404  0:00:11.551203   \nscipy_newton         4.12553  7.79877e+37     0.319578  0:00:05.478911   \nbisection            4.30647   0.00100102  0.000996404  0:01:08.978037   \nmullerBisection      4.17988   0.00218162   0.00214916  0:00:59.951850   \nnewton               4.34392  0.000701789  0.000700818  0:00:05.049769   \nhalley               4.34285  0.000699133  0.000698177  0:00:06.420502   \nnew_newton           4.34331   0.00070389  0.000702913  0:00:06.025475   \nnew_halley           4.34302  0.000700229  0.000699271  0:00:07.026372   \nhalleyMomentum       3.90009   0.00427253     0.003165  0:00:06.768107   \n\n                   steps efficiency  \nbrentq           9.45862    2.19943  \nbrenth           9.67461    2.19943  \nridder            6.9132     2.4874  \nscipy_newton         100        inf  \nbisection        23.6003    4.23835  \nmullerBisection  9.82398    4.10329  \nnewton            16.956    1.79302  \nhalley           16.9564    1.94727  \nnew_newton       16.5523    1.94728  \nnew_halley       16.9568     2.0809  \nhalleyMomentum   6.06419    1.95424  \n\n\n"
     ]
    },
    {
     "name": "stderr",
     "output_type": "stream",
     "text": [
      "/Users/Maxwell/anaconda/lib/python3.5/site-packages/scipy/optimize/zeros.py:173: RuntimeWarning: Tolerance of 30206.817939 reached\n  warnings.warn(msg, RuntimeWarning)\n"
     ]
    },
    {
     "name": "stderr",
     "output_type": "stream",
     "text": [
      "/Users/Maxwell/anaconda/lib/python3.5/site-packages/scipy/optimize/zeros.py:173: RuntimeWarning: Tolerance of -0.00140365416065 reached\n  warnings.warn(msg, RuntimeWarning)\n/Users/Maxwell/anaconda/lib/python3.5/site-packages/scipy/optimize/zeros.py:173: RuntimeWarning: Tolerance of 99589.5899029 reached\n  warnings.warn(msg, RuntimeWarning)\n"
     ]
    },
    {
     "name": "stderr",
     "output_type": "stream",
     "text": [
      "/Users/Maxwell/anaconda/lib/python3.5/site-packages/scipy/optimize/zeros.py:173: RuntimeWarning: Tolerance of -110672.651969 reached\n  warnings.warn(msg, RuntimeWarning)\n/Users/Maxwell/anaconda/lib/python3.5/site-packages/scipy/optimize/zeros.py:173: RuntimeWarning: Tolerance of -0.0079074565165 reached\n  warnings.warn(msg, RuntimeWarning)\n/Users/Maxwell/anaconda/lib/python3.5/site-packages/scipy/optimize/zeros.py:173: RuntimeWarning: Tolerance of -0.00233761232178 reached\n  warnings.warn(msg, RuntimeWarning)\n"
     ]
    },
    {
     "name": "stderr",
     "output_type": "stream",
     "text": [
      "/Users/Maxwell/anaconda/lib/python3.5/site-packages/scipy/optimize/zeros.py:173: RuntimeWarning: Tolerance of 5346422.94494 reached\n  warnings.warn(msg, RuntimeWarning)\n/Users/Maxwell/anaconda/lib/python3.5/site-packages/scipy/optimize/zeros.py:173: RuntimeWarning: Tolerance of 406416.679361 reached\n  warnings.warn(msg, RuntimeWarning)\n"
     ]
    },
    {
     "name": "stderr",
     "output_type": "stream",
     "text": [
      "/Users/Maxwell/anaconda/lib/python3.5/site-packages/scipy/optimize/zeros.py:173: RuntimeWarning: Tolerance of -123139.257949 reached\n  warnings.warn(msg, RuntimeWarning)\n/Users/Maxwell/anaconda/lib/python3.5/site-packages/scipy/optimize/zeros.py:173: RuntimeWarning: Tolerance of -277.380683233 reached\n  warnings.warn(msg, RuntimeWarning)\n/Users/Maxwell/anaconda/lib/python3.5/site-packages/scipy/optimize/zeros.py:173: RuntimeWarning: Tolerance of -26.0951465699 reached\n  warnings.warn(msg, RuntimeWarning)\n/Users/Maxwell/anaconda/lib/python3.5/site-packages/scipy/optimize/zeros.py:173: RuntimeWarning: Tolerance of 8693324.75755 reached\n  warnings.warn(msg, RuntimeWarning)\n/Users/Maxwell/anaconda/lib/python3.5/site-packages/scipy/optimize/zeros.py:173: RuntimeWarning: Tolerance of 36915038.8821 reached\n  warnings.warn(msg, RuntimeWarning)\n/Users/Maxwell/anaconda/lib/python3.5/site-packages/scipy/optimize/zeros.py:173: RuntimeWarning: Tolerance of 263261286.288 reached\n  warnings.warn(msg, RuntimeWarning)\n/Users/Maxwell/anaconda/lib/python3.5/site-packages/scipy/optimize/zeros.py:173: RuntimeWarning: Tolerance of 15021279.0522 reached\n  warnings.warn(msg, RuntimeWarning)\n/Users/Maxwell/anaconda/lib/python3.5/site-packages/scipy/optimize/zeros.py:173: RuntimeWarning: Tolerance of -0.00486873655925 reached\n  warnings.warn(msg, RuntimeWarning)\n/Users/Maxwell/anaconda/lib/python3.5/site-packages/scipy/optimize/zeros.py:173: RuntimeWarning: Tolerance of -0.000435923609033 reached\n  warnings.warn(msg, RuntimeWarning)\n/Users/Maxwell/anaconda/lib/python3.5/site-packages/scipy/optimize/zeros.py:173: RuntimeWarning: Tolerance of -0.00029326926059 reached\n  warnings.warn(msg, RuntimeWarning)\n/Users/Maxwell/anaconda/lib/python3.5/site-packages/scipy/optimize/zeros.py:173: RuntimeWarning: Tolerance of -0.000404536763467 reached\n  warnings.warn(msg, RuntimeWarning)\n"
     ]
    },
    {
     "name": "stderr",
     "output_type": "stream",
     "text": [
      "/Users/Maxwell/anaconda/lib/python3.5/site-packages/scipy/optimize/zeros.py:173: RuntimeWarning: Tolerance of 20701.4071862 reached\n  warnings.warn(msg, RuntimeWarning)\n"
     ]
    },
    {
     "name": "stderr",
     "output_type": "stream",
     "text": [
      "/Users/Maxwell/anaconda/lib/python3.5/site-packages/scipy/optimize/zeros.py:173: RuntimeWarning: Tolerance of -0.00281073030297 reached\n  warnings.warn(msg, RuntimeWarning)\n/Users/Maxwell/anaconda/lib/python3.5/site-packages/scipy/optimize/zeros.py:173: RuntimeWarning: Tolerance of -4.4438422429e-05 reached\n  warnings.warn(msg, RuntimeWarning)\n"
     ]
    },
    {
     "name": "stderr",
     "output_type": "stream",
     "text": [
      "/Users/Maxwell/anaconda/lib/python3.5/site-packages/scipy/optimize/zeros.py:173: RuntimeWarning: Tolerance of -466339.323522 reached\n  warnings.warn(msg, RuntimeWarning)\n/Users/Maxwell/anaconda/lib/python3.5/site-packages/scipy/optimize/zeros.py:173: RuntimeWarning: Tolerance of 356201293623.0 reached\n  warnings.warn(msg, RuntimeWarning)\n/Users/Maxwell/anaconda/lib/python3.5/site-packages/scipy/optimize/zeros.py:173: RuntimeWarning: Tolerance of 5915795.75384 reached\n  warnings.warn(msg, RuntimeWarning)\n"
     ]
    },
    {
     "name": "stderr",
     "output_type": "stream",
     "text": [
      "/Users/Maxwell/anaconda/lib/python3.5/site-packages/scipy/optimize/zeros.py:173: RuntimeWarning: Tolerance of -129155.088127 reached\n  warnings.warn(msg, RuntimeWarning)\n"
     ]
    },
    {
     "name": "stderr",
     "output_type": "stream",
     "text": [
      "/Users/Maxwell/anaconda/lib/python3.5/site-packages/scipy/optimize/zeros.py:173: RuntimeWarning: Tolerance of -0.000293313068513 reached\n  warnings.warn(msg, RuntimeWarning)\n"
     ]
    },
    {
     "name": "stderr",
     "output_type": "stream",
     "text": [
      "/Users/Maxwell/anaconda/lib/python3.5/site-packages/scipy/optimize/zeros.py:173: RuntimeWarning: Tolerance of 0.00706832710492 reached\n  warnings.warn(msg, RuntimeWarning)\n/Users/Maxwell/anaconda/lib/python3.5/site-packages/scipy/optimize/zeros.py:173: RuntimeWarning: Tolerance of -0.000509073860616 reached\n  warnings.warn(msg, RuntimeWarning)\n/Users/Maxwell/anaconda/lib/python3.5/site-packages/scipy/optimize/zeros.py:173: RuntimeWarning: Tolerance of -0.00611044455416 reached\n  warnings.warn(msg, RuntimeWarning)\n"
     ]
    },
    {
     "name": "stderr",
     "output_type": "stream",
     "text": [
      "/Users/Maxwell/anaconda/lib/python3.5/site-packages/scipy/optimize/zeros.py:173: RuntimeWarning: Tolerance of -0.0101302367913 reached\n  warnings.warn(msg, RuntimeWarning)\n/Users/Maxwell/anaconda/lib/python3.5/site-packages/scipy/optimize/zeros.py:173: RuntimeWarning: Tolerance of -497.191709026 reached\n  warnings.warn(msg, RuntimeWarning)\n/Users/Maxwell/anaconda/lib/python3.5/site-packages/scipy/optimize/zeros.py:173: RuntimeWarning: Tolerance of 27189045593.7 reached\n  warnings.warn(msg, RuntimeWarning)\n"
     ]
    },
    {
     "name": "stderr",
     "output_type": "stream",
     "text": [
      "/Users/Maxwell/anaconda/lib/python3.5/site-packages/scipy/optimize/zeros.py:173: RuntimeWarning: Tolerance of 28234.2870879 reached\n  warnings.warn(msg, RuntimeWarning)\n/Users/Maxwell/anaconda/lib/python3.5/site-packages/scipy/optimize/zeros.py:173: RuntimeWarning: Tolerance of 19198755737.3 reached\n  warnings.warn(msg, RuntimeWarning)\n/Users/Maxwell/anaconda/lib/python3.5/site-packages/scipy/optimize/zeros.py:173: RuntimeWarning: Tolerance of 44753124618.2 reached\n  warnings.warn(msg, RuntimeWarning)\n/Users/Maxwell/anaconda/lib/python3.5/site-packages/scipy/optimize/zeros.py:173: RuntimeWarning: Tolerance of 231821943.814 reached\n  warnings.warn(msg, RuntimeWarning)\n"
     ]
    },
    {
     "name": "stderr",
     "output_type": "stream",
     "text": [
      "/Users/Maxwell/anaconda/lib/python3.5/site-packages/scipy/optimize/zeros.py:173: RuntimeWarning: Tolerance of 860367.818087 reached\n  warnings.warn(msg, RuntimeWarning)\n/Users/Maxwell/anaconda/lib/python3.5/site-packages/scipy/optimize/zeros.py:173: RuntimeWarning: Tolerance of -4907.94811941 reached\n  warnings.warn(msg, RuntimeWarning)\n"
     ]
    },
    {
     "name": "stderr",
     "output_type": "stream",
     "text": [
      "/Users/Maxwell/anaconda/lib/python3.5/site-packages/scipy/optimize/zeros.py:173: RuntimeWarning: Tolerance of -0.00141053516136 reached\n  warnings.warn(msg, RuntimeWarning)\n/Users/Maxwell/anaconda/lib/python3.5/site-packages/scipy/optimize/zeros.py:173: RuntimeWarning: Tolerance of -27146.1740144 reached\n  warnings.warn(msg, RuntimeWarning)\n"
     ]
    },
    {
     "name": "stdout",
     "output_type": "stream",
     "text": [
      "This is the test result for initial point sigma 1.00,                 initial iteration 2 times:\n                log_accuracy          mse      log_mse        duration  \\\nbrentq               4.30646   0.00100102  0.000996404  0:00:08.624780   \nbrenth               4.30646   0.00100102  0.000996404  0:00:08.650338   \nridder               4.30646   0.00100102  0.000996404  0:00:11.716320   \nscipy_newton         4.13935  1.40374e+19     0.290972  0:00:05.652622   \nbisection            4.30647   0.00100102  0.000996404  0:01:09.195534   \nmullerBisection      4.17988   0.00218162   0.00214916  0:01:00.543003   \nnewton               4.34299   0.00109221  0.000972956  0:00:05.155065   \nhalley               4.34442  0.000700137  0.000699179  0:00:06.617564   \nnew_newton           4.34331   0.00070389  0.000702913  0:00:05.980754   \nnew_halley           4.34302  0.000700229  0.000699271  0:00:07.082274   \nhalleyMomentum       3.90009   0.00427253     0.003165  0:00:06.781303   \n\n                   steps efficiency  \nbrentq           9.45862    2.19943  \nbrenth           9.67461    2.19943  \nridder            6.9132     2.4874  \nscipy_newton         100        inf  \nbisection        23.6003    4.25275  \nmullerBisection  9.82398    4.11985  \nnewton           17.3597    1.79372  \nhalley           16.9564    1.94727  \nnew_newton       16.5523    1.79302  \nnew_halley       16.9568     2.0809  \nhalleyMomentum   6.06419    1.95424  \n\n\n"
     ]
    },
    {
     "name": "stdout",
     "output_type": "stream",
     "text": [
      "This is the test result for initial point sigma 0.50,                 initial iteration 5 times:\n                log_accuracy          mse      log_mse        duration  \\\nbrentq               4.30646   0.00100102  0.000996404  0:00:08.516415   \nbrenth               4.30646   0.00100102  0.000996404  0:00:08.666517   \nridder               4.30646   0.00100102  0.000996404  0:00:11.432976   \nscipy_newton         4.11276  7.04273e+23     0.344857  0:00:05.334531   \nbisection            4.30647   0.00100102  0.000996404  0:01:08.850217   \nmullerBisection      4.17988   0.00218162   0.00214916  0:01:00.324005   \nnewton                 4.342  0.000744484  0.000741597  0:00:04.914471   \nhalley               4.34644  0.000698934   0.00069798  0:00:06.054099   \nnew_newton           4.33986   0.00132958   0.00116756  0:00:06.763140   \nnew_halley           4.34349  0.000700308  0.000699349  0:00:06.825936   \nhalleyMomentum       3.93629   0.00177433    0.0017031  0:00:07.410035   \n\n                   steps efficiency  \nbrentq           9.45862    2.19943  \nbrenth           9.67461    2.19943  \nridder            6.9132     2.4874  \nscipy_newton         100        inf  \nbisection        23.6003    4.23835  \nmullerBisection  9.82398    4.11985  \nnewton           16.5523    1.61064  \nhalley           16.9576    1.94727  \nnew_newton       16.5523     1.9485  \nnew_halley       16.9592    1.94727  \nhalleyMomentum   8.88252    2.08313  \n\n\n"
     ]
    },
    {
     "name": "stdout",
     "output_type": "stream",
     "text": [
      "This is the test result for initial point sigma 0.70,                 initial iteration 5 times:\n                log_accuracy          mse      log_mse        duration  \\\nbrentq               4.30646   0.00100102  0.000996404  0:00:08.507174   \nbrenth               4.30646   0.00100102  0.000996404  0:00:08.644305   \nridder               4.30646   0.00100102  0.000996404  0:00:11.423787   \nscipy_newton         4.12553  7.79877e+37     0.319578  0:00:05.386753   \nbisection            4.30647   0.00100102  0.000996404  0:01:08.550107   \nmullerBisection      4.17988   0.00218162   0.00214916  0:00:59.930218   \nnewton               4.34392  0.000701789  0.000700818  0:00:05.037206   \nhalley               4.34285  0.000699133  0.000698177  0:00:06.406358   \nnew_newton           4.33986   0.00132958   0.00116756  0:00:06.824654   \nnew_halley           4.34349  0.000700308  0.000699349  0:00:07.116213   \nhalleyMomentum       3.93629   0.00177433    0.0017031  0:00:07.511572   \n\n                   steps efficiency  \nbrentq           9.45862    2.19943  \nbrenth           9.67461    2.19943  \nridder            6.9132     2.4874  \nscipy_newton         100        inf  \nbisection        23.6003    4.23835  \nmullerBisection  9.82398    4.10329  \nnewton            16.956    1.79302  \nhalley           16.9564    1.94727  \nnew_newton       16.5523     1.9485  \nnew_halley       16.9592     2.0809  \nhalleyMomentum   8.88252    2.08313  \n\n\n"
     ]
    },
    {
     "name": "stdout",
     "output_type": "stream",
     "text": [
      "This is the test result for initial point sigma 1.00,                 initial iteration 5 times:\n                log_accuracy          mse      log_mse        duration  \\\nbrentq               4.30646   0.00100102  0.000996404  0:00:08.583928   \nbrenth               4.30646   0.00100102  0.000996404  0:00:08.716211   \nridder               4.30646   0.00100102  0.000996404  0:00:11.456445   \nscipy_newton         4.13935  1.40374e+19     0.290972  0:00:05.518693   \nbisection            4.30647   0.00100102  0.000996404  0:01:08.873564   \nmullerBisection      4.17988   0.00218162   0.00214916  0:00:59.785601   \nnewton               4.34299   0.00109221  0.000972956  0:00:05.269847   \nhalley               4.34442  0.000700137  0.000699179  0:00:06.736004   \nnew_newton           4.33986   0.00132958   0.00116756  0:00:06.726903   \nnew_halley           4.34349  0.000700308  0.000699349  0:00:06.908769   \nhalleyMomentum       3.93629   0.00177433    0.0017031  0:00:07.518596   \n\n                   steps efficiency  \nbrentq           9.45862    2.19943  \nbrenth           9.67461    2.19943  \nridder            6.9132     2.4874  \nscipy_newton         100        inf  \nbisection        23.6003    4.23835  \nmullerBisection  9.82398    4.10329  \nnewton           17.3597    1.79372  \nhalley           16.9564    1.94727  \nnew_newton       16.5523     1.9485  \nnew_halley       16.9592    1.94727  \nhalleyMomentum   8.88252    2.08313  \n\n\n"
     ]
    },
    {
     "name": "stdout",
     "output_type": "stream",
     "text": [
      "This is the test result for initial point sigma 0.50,                 initial iteration 10 times:\n                log_accuracy          mse      log_mse        duration  \\\nbrentq               4.30646   0.00100102  0.000996404  0:00:08.615306   \nbrenth               4.30646   0.00100102  0.000996404  0:00:08.686326   \nridder               4.30646   0.00100102  0.000996404  0:00:11.466846   \nscipy_newton         4.11276  7.04273e+23     0.344857  0:00:05.333630   \nbisection            4.30647   0.00100102  0.000996404  0:01:08.816511   \nmullerBisection      4.17988   0.00218162   0.00214916  0:01:01.134583   \nnewton                 4.342  0.000744484  0.000741597  0:00:04.939195   \nhalley               4.34644  0.000698934   0.00069798  0:00:06.056873   \nnew_newton           4.34331   0.00070389  0.000702913  0:00:06.345202   \nnew_halley           4.34331   0.00070389  0.000702913  0:00:07.386003   \nhalleyMomentum       3.95641   0.00133179   0.00132828  0:00:07.986002   \n\n                   steps efficiency  \nbrentq           9.45862    2.19943  \nbrenth           9.67461    2.19943  \nridder            6.9132     2.4874  \nscipy_newton         100        inf  \nbisection        23.6003    4.23835  \nmullerBisection  9.82398    4.13615  \nnewton           16.5523    1.61064  \nhalley           16.9576    1.94727  \nnew_newton       16.5523    1.94728  \nnew_halley       16.5523    2.08091  \nhalleyMomentum     14.13    2.08221  \n\n\n"
     ]
    },
    {
     "name": "stdout",
     "output_type": "stream",
     "text": [
      "This is the test result for initial point sigma 0.70,                 initial iteration 10 times:\n                log_accuracy          mse      log_mse        duration  \\\nbrentq               4.30646   0.00100102  0.000996404  0:00:08.485097   \nbrenth               4.30646   0.00100102  0.000996404  0:00:08.711109   \nridder               4.30646   0.00100102  0.000996404  0:00:11.404648   \nscipy_newton         4.12553  7.79877e+37     0.319578  0:00:05.610840   \nbisection            4.30647   0.00100102  0.000996404  0:01:09.066992   \nmullerBisection      4.17988   0.00218162   0.00214916  0:01:00.548404   \nnewton               4.34392  0.000701789  0.000700818  0:00:05.084823   \nhalley               4.34285  0.000699133  0.000698177  0:00:06.394600   \nnew_newton           4.34331   0.00070389  0.000702913  0:00:06.326721   \nnew_halley           4.34331   0.00070389  0.000702913  0:00:07.331138   \nhalleyMomentum       3.95641   0.00133179   0.00132828  0:00:07.970514   \n\n                   steps efficiency  \nbrentq           9.45862    2.19943  \nbrenth           9.67461    2.19943  \nridder            6.9132     2.4874  \nscipy_newton         100        inf  \nbisection        23.6003    4.25275  \nmullerBisection  9.82398    4.11985  \nnewton            16.956    1.79302  \nhalley           16.9564    1.94727  \nnew_newton       16.5523    1.94728  \nnew_halley       16.5523    2.08091  \nhalleyMomentum     14.13    2.08221  \n\n\n"
     ]
    },
    {
     "name": "stdout",
     "output_type": "stream",
     "text": [
      "This is the test result for initial point sigma 1.00,                 initial iteration 10 times:\n                log_accuracy          mse      log_mse        duration  \\\nbrentq               4.30646   0.00100102  0.000996404  0:00:08.578654   \nbrenth               4.30646   0.00100102  0.000996404  0:00:08.641743   \nridder               4.30646   0.00100102  0.000996404  0:00:11.699548   \nscipy_newton         4.13935  1.40374e+19     0.290972  0:00:05.573404   \nbisection            4.30647   0.00100102  0.000996404  0:01:08.948972   \nmullerBisection      4.17988   0.00218162   0.00214916  0:01:00.506957   \nnewton               4.34299   0.00109221  0.000972956  0:00:05.107842   \nhalley               4.34442  0.000700137  0.000699179  0:00:06.634627   \nnew_newton           4.34331   0.00070389  0.000702913  0:00:06.384999   \nnew_halley           4.34331   0.00070389  0.000702913  0:00:07.341157   \nhalleyMomentum       3.95641   0.00133179   0.00132828  0:00:07.987289   \n\n                   steps efficiency  \nbrentq           9.45862    2.19943  \nbrenth           9.67461    2.19943  \nridder            6.9132     2.4874  \nscipy_newton         100        inf  \nbisection        23.6003    4.23835  \nmullerBisection  9.82398    4.11985  \nnewton           17.3597    1.79372  \nhalley           16.9564    1.94727  \nnew_newton       16.5523    1.94728  \nnew_halley       16.5523    2.08091  \nhalleyMomentum     14.13    2.08221  \n\n\n"
     ]
    }
   ],
   "source": [
    "testMethods = ['brentq', 'brenth', 'ridder', 'scipy_newton', 'bisection', 'mullerBisection', 'newton', 'halley', 'new_newton', 'new_halley', 'halleyMomentum']  \n",
    "#testMethods = ['new_halley']\n",
    "testSigma = [0.5, 0.7, 1]\n",
    "testIter = [2,5,10]\n",
    "result = pd.DataFrame(index=testMethods, columns=['log_accuracy', 'mse', 'log_mse', 'duration', 'steps', 'efficiency'])                                                \n",
    "dicResult = {}\n",
    "\n",
    "                                                                                                                                                                                                                                                        \n",
    "for iter in testIter:\n",
    "    dicResult[iter] = {}\n",
    "    for sigma in testSigma:  \n",
    "        for method in testMethods: \n",
    "            result.loc[method, :] = methods.performance(data, method, sigma0=sigma, initialIter=iter)\n",
    "        dicResult[iter][sigma] = result.copy()                                                                                                  \n",
    "        print('This is the test result for initial point sigma {:.2f}, \\\n",
    "                initial iteration {:d} times:\\n{}\\n\\n'.format(sigma, iter, result))"
   ]
  },
  {
   "cell_type": "code",
   "execution_count": 5,
   "metadata": {
    "collapsed": true
   },
   "outputs": [
    {
     "data": {
      "text/plain": [
       "{2: {0.5:                 log_accuracy          mse      log_mse        duration  \\\n  brentq               4.30646   0.00100102  0.000996404  0:00:08.735582   \n  brenth               4.30646   0.00100102  0.000996404  0:00:08.669411   \n  ridder               4.30646   0.00100102  0.000996404  0:00:12.009681   \n  scipy_newton         4.11276  7.04273e+23     0.344857  0:00:05.495165   \n  bisection            4.30647   0.00100102  0.000996404  0:01:08.646549   \n  mullerBisection      4.17988   0.00218162   0.00214916  0:01:00.528299   \n  newton                 4.342  0.000744484  0.000741597  0:00:05.006424   \n  halley               4.34644  0.000698934   0.00069798  0:00:06.076776   \n  new_newton           4.34331   0.00070389  0.000702913  0:00:06.065603   \n  new_halley           4.34302  0.000700229  0.000699271  0:00:07.128185   \n  halleyMomentum       3.90009   0.00427253     0.003165  0:00:06.823965   \n  \n                     steps efficiency  \n  brentq           9.45862    2.19943  \n  brenth           9.67461    2.19943  \n  ridder            6.9132    2.56752  \n  scipy_newton         100        inf  \n  bisection        23.6003    4.23835  \n  mullerBisection  9.82398    4.11985  \n  newton           16.5523    1.79309  \n  halley           16.9576    1.94727  \n  new_newton       16.5523    1.94728  \n  new_halley       16.9568     2.0809  \n  halleyMomentum   6.06419    1.95424  ,\n  0.7:                 log_accuracy          mse      log_mse        duration  \\\n  brentq               4.30646   0.00100102  0.000996404  0:00:08.522243   \n  brenth               4.30646   0.00100102  0.000996404  0:00:08.651001   \n  ridder               4.30646   0.00100102  0.000996404  0:00:11.551203   \n  scipy_newton         4.12553  7.79877e+37     0.319578  0:00:05.478911   \n  bisection            4.30647   0.00100102  0.000996404  0:01:08.978037   \n  mullerBisection      4.17988   0.00218162   0.00214916  0:00:59.951850   \n  newton               4.34392  0.000701789  0.000700818  0:00:05.049769   \n  halley               4.34285  0.000699133  0.000698177  0:00:06.420502   \n  new_newton           4.34331   0.00070389  0.000702913  0:00:06.025475   \n  new_halley           4.34302  0.000700229  0.000699271  0:00:07.026372   \n  halleyMomentum       3.90009   0.00427253     0.003165  0:00:06.768107   \n  \n                     steps efficiency  \n  brentq           9.45862    2.19943  \n  brenth           9.67461    2.19943  \n  ridder            6.9132     2.4874  \n  scipy_newton         100        inf  \n  bisection        23.6003    4.23835  \n  mullerBisection  9.82398    4.10329  \n  newton            16.956    1.79302  \n  halley           16.9564    1.94727  \n  new_newton       16.5523    1.94728  \n  new_halley       16.9568     2.0809  \n  halleyMomentum   6.06419    1.95424  ,\n  1:                 log_accuracy          mse      log_mse        duration  \\\n  brentq               4.30646   0.00100102  0.000996404  0:00:08.624780   \n  brenth               4.30646   0.00100102  0.000996404  0:00:08.650338   \n  ridder               4.30646   0.00100102  0.000996404  0:00:11.716320   \n  scipy_newton         4.13935  1.40374e+19     0.290972  0:00:05.652622   \n  bisection            4.30647   0.00100102  0.000996404  0:01:09.195534   \n  mullerBisection      4.17988   0.00218162   0.00214916  0:01:00.543003   \n  newton               4.34299   0.00109221  0.000972956  0:00:05.155065   \n  halley               4.34442  0.000700137  0.000699179  0:00:06.617564   \n  new_newton           4.34331   0.00070389  0.000702913  0:00:05.980754   \n  new_halley           4.34302  0.000700229  0.000699271  0:00:07.082274   \n  halleyMomentum       3.90009   0.00427253     0.003165  0:00:06.781303   \n  \n                     steps efficiency  \n  brentq           9.45862    2.19943  \n  brenth           9.67461    2.19943  \n  ridder            6.9132     2.4874  \n  scipy_newton         100        inf  \n  bisection        23.6003    4.25275  \n  mullerBisection  9.82398    4.11985  \n  newton           17.3597    1.79372  \n  halley           16.9564    1.94727  \n  new_newton       16.5523    1.79302  \n  new_halley       16.9568     2.0809  \n  halleyMomentum   6.06419    1.95424  },\n 5: {0.5:                 log_accuracy          mse      log_mse        duration  \\\n  brentq               4.30646   0.00100102  0.000996404  0:00:08.516415   \n  brenth               4.30646   0.00100102  0.000996404  0:00:08.666517   \n  ridder               4.30646   0.00100102  0.000996404  0:00:11.432976   \n  scipy_newton         4.11276  7.04273e+23     0.344857  0:00:05.334531   \n  bisection            4.30647   0.00100102  0.000996404  0:01:08.850217   \n  mullerBisection      4.17988   0.00218162   0.00214916  0:01:00.324005   \n  newton                 4.342  0.000744484  0.000741597  0:00:04.914471   \n  halley               4.34644  0.000698934   0.00069798  0:00:06.054099   \n  new_newton           4.33986   0.00132958   0.00116756  0:00:06.763140   \n  new_halley           4.34349  0.000700308  0.000699349  0:00:06.825936   \n  halleyMomentum       3.93629   0.00177433    0.0017031  0:00:07.410035   \n  \n                     steps efficiency  \n  brentq           9.45862    2.19943  \n  brenth           9.67461    2.19943  \n  ridder            6.9132     2.4874  \n  scipy_newton         100        inf  \n  bisection        23.6003    4.23835  \n  mullerBisection  9.82398    4.11985  \n  newton           16.5523    1.61064  \n  halley           16.9576    1.94727  \n  new_newton       16.5523     1.9485  \n  new_halley       16.9592    1.94727  \n  halleyMomentum   8.88252    2.08313  ,\n  0.7:                 log_accuracy          mse      log_mse        duration  \\\n  brentq               4.30646   0.00100102  0.000996404  0:00:08.507174   \n  brenth               4.30646   0.00100102  0.000996404  0:00:08.644305   \n  ridder               4.30646   0.00100102  0.000996404  0:00:11.423787   \n  scipy_newton         4.12553  7.79877e+37     0.319578  0:00:05.386753   \n  bisection            4.30647   0.00100102  0.000996404  0:01:08.550107   \n  mullerBisection      4.17988   0.00218162   0.00214916  0:00:59.930218   \n  newton               4.34392  0.000701789  0.000700818  0:00:05.037206   \n  halley               4.34285  0.000699133  0.000698177  0:00:06.406358   \n  new_newton           4.33986   0.00132958   0.00116756  0:00:06.824654   \n  new_halley           4.34349  0.000700308  0.000699349  0:00:07.116213   \n  halleyMomentum       3.93629   0.00177433    0.0017031  0:00:07.511572   \n  \n                     steps efficiency  \n  brentq           9.45862    2.19943  \n  brenth           9.67461    2.19943  \n  ridder            6.9132     2.4874  \n  scipy_newton         100        inf  \n  bisection        23.6003    4.23835  \n  mullerBisection  9.82398    4.10329  \n  newton            16.956    1.79302  \n  halley           16.9564    1.94727  \n  new_newton       16.5523     1.9485  \n  new_halley       16.9592     2.0809  \n  halleyMomentum   8.88252    2.08313  ,\n  1:                 log_accuracy          mse      log_mse        duration  \\\n  brentq               4.30646   0.00100102  0.000996404  0:00:08.583928   \n  brenth               4.30646   0.00100102  0.000996404  0:00:08.716211   \n  ridder               4.30646   0.00100102  0.000996404  0:00:11.456445   \n  scipy_newton         4.13935  1.40374e+19     0.290972  0:00:05.518693   \n  bisection            4.30647   0.00100102  0.000996404  0:01:08.873564   \n  mullerBisection      4.17988   0.00218162   0.00214916  0:00:59.785601   \n  newton               4.34299   0.00109221  0.000972956  0:00:05.269847   \n  halley               4.34442  0.000700137  0.000699179  0:00:06.736004   \n  new_newton           4.33986   0.00132958   0.00116756  0:00:06.726903   \n  new_halley           4.34349  0.000700308  0.000699349  0:00:06.908769   \n  halleyMomentum       3.93629   0.00177433    0.0017031  0:00:07.518596   \n  \n                     steps efficiency  \n  brentq           9.45862    2.19943  \n  brenth           9.67461    2.19943  \n  ridder            6.9132     2.4874  \n  scipy_newton         100        inf  \n  bisection        23.6003    4.23835  \n  mullerBisection  9.82398    4.10329  \n  newton           17.3597    1.79372  \n  halley           16.9564    1.94727  \n  new_newton       16.5523     1.9485  \n  new_halley       16.9592    1.94727  \n  halleyMomentum   8.88252    2.08313  },\n 10: {0.5:                 log_accuracy          mse      log_mse        duration  \\\n  brentq               4.30646   0.00100102  0.000996404  0:00:08.615306   \n  brenth               4.30646   0.00100102  0.000996404  0:00:08.686326   \n  ridder               4.30646   0.00100102  0.000996404  0:00:11.466846   \n  scipy_newton         4.11276  7.04273e+23     0.344857  0:00:05.333630   \n  bisection            4.30647   0.00100102  0.000996404  0:01:08.816511   \n  mullerBisection      4.17988   0.00218162   0.00214916  0:01:01.134583   \n  newton                 4.342  0.000744484  0.000741597  0:00:04.939195   \n  halley               4.34644  0.000698934   0.00069798  0:00:06.056873   \n  new_newton           4.34331   0.00070389  0.000702913  0:00:06.345202   \n  new_halley           4.34331   0.00070389  0.000702913  0:00:07.386003   \n  halleyMomentum       3.95641   0.00133179   0.00132828  0:00:07.986002   \n  \n                     steps efficiency  \n  brentq           9.45862    2.19943  \n  brenth           9.67461    2.19943  \n  ridder            6.9132     2.4874  \n  scipy_newton         100        inf  \n  bisection        23.6003    4.23835  \n  mullerBisection  9.82398    4.13615  \n  newton           16.5523    1.61064  \n  halley           16.9576    1.94727  \n  new_newton       16.5523    1.94728  \n  new_halley       16.5523    2.08091  \n  halleyMomentum     14.13    2.08221  ,\n  0.7:                 log_accuracy          mse      log_mse        duration  \\\n  brentq               4.30646   0.00100102  0.000996404  0:00:08.485097   \n  brenth               4.30646   0.00100102  0.000996404  0:00:08.711109   \n  ridder               4.30646   0.00100102  0.000996404  0:00:11.404648   \n  scipy_newton         4.12553  7.79877e+37     0.319578  0:00:05.610840   \n  bisection            4.30647   0.00100102  0.000996404  0:01:09.066992   \n  mullerBisection      4.17988   0.00218162   0.00214916  0:01:00.548404   \n  newton               4.34392  0.000701789  0.000700818  0:00:05.084823   \n  halley               4.34285  0.000699133  0.000698177  0:00:06.394600   \n  new_newton           4.34331   0.00070389  0.000702913  0:00:06.326721   \n  new_halley           4.34331   0.00070389  0.000702913  0:00:07.331138   \n  halleyMomentum       3.95641   0.00133179   0.00132828  0:00:07.970514   \n  \n                     steps efficiency  \n  brentq           9.45862    2.19943  \n  brenth           9.67461    2.19943  \n  ridder            6.9132     2.4874  \n  scipy_newton         100        inf  \n  bisection        23.6003    4.25275  \n  mullerBisection  9.82398    4.11985  \n  newton            16.956    1.79302  \n  halley           16.9564    1.94727  \n  new_newton       16.5523    1.94728  \n  new_halley       16.5523    2.08091  \n  halleyMomentum     14.13    2.08221  ,\n  1:                 log_accuracy          mse      log_mse        duration  \\\n  brentq               4.30646   0.00100102  0.000996404  0:00:08.578654   \n  brenth               4.30646   0.00100102  0.000996404  0:00:08.641743   \n  ridder               4.30646   0.00100102  0.000996404  0:00:11.699548   \n  scipy_newton         4.13935  1.40374e+19     0.290972  0:00:05.573404   \n  bisection            4.30647   0.00100102  0.000996404  0:01:08.948972   \n  mullerBisection      4.17988   0.00218162   0.00214916  0:01:00.506957   \n  newton               4.34299   0.00109221  0.000972956  0:00:05.107842   \n  halley               4.34442  0.000700137  0.000699179  0:00:06.634627   \n  new_newton           4.34331   0.00070389  0.000702913  0:00:06.384999   \n  new_halley           4.34331   0.00070389  0.000702913  0:00:07.341157   \n  halleyMomentum       3.95641   0.00133179   0.00132828  0:00:07.987289   \n  \n                     steps efficiency  \n  brentq           9.45862    2.19943  \n  brenth           9.67461    2.19943  \n  ridder            6.9132     2.4874  \n  scipy_newton         100        inf  \n  bisection        23.6003    4.23835  \n  mullerBisection  9.82398    4.11985  \n  newton           17.3597    1.79372  \n  halley           16.9564    1.94727  \n  new_newton       16.5523    1.94728  \n  new_halley       16.5523    2.08091  \n  halleyMomentum     14.13    2.08221  }}"
      ]
     },
     "execution_count": 5,
     "metadata": {},
     "output_type": "execute_result"
    }
   ],
   "source": [
    "newDic = dicResult.copy()\n",
    "newDic"
   ]
  },
  {
   "cell_type": "code",
   "execution_count": 11,
   "metadata": {},
   "outputs": [],
   "source": [
    "import datetime\n",
    "for i in newDic:\n",
    "    for s in newDic[i]:\n",
    "        for ind in newDic[i][s].index:\n",
    "            duration = newDic[i][s].loc[ind, 'duration']\n",
    "            #d = datetime.time(hour=0, minute=0, second=duration.seconds, microsecond=duration.microseconds).strftime(\"%M:%S.%f\")[:-3]\n",
    "\n",
    "            newDic[i][s].loc[ind, 'seconds'] = duration.total_seconds()"
   ]
  },
  {
   "cell_type": "code",
   "execution_count": 13,
   "metadata": {
    "collapsed": true
   },
   "outputs": [
    {
     "data": {
      "text/plain": [
       "{2:                 log_accuracy_sigma=0.50 log_accuracy_sigma=0.70  \\\n brentq                          4.30646                 4.30646   \n brenth                          4.30646                 4.30646   \n ridder                          4.30646                 4.30646   \n scipy_newton                    4.11276                 4.12553   \n bisection                       4.30647                 4.30647   \n mullerBisection                 4.17988                 4.17988   \n newton                            4.342                 4.34392   \n halley                          4.34644                 4.34285   \n new_newton                      4.33986                 4.33986   \n new_halley                      4.34349                 4.34349   \n halleyMomentum                  3.93629                 3.93629   \n \n                 log_accuracy_sigma=1.00 MSE_sigma=0.50 MSE_sigma=0.70  \\\n brentq                          4.30646     0.00100102     0.00100102   \n brenth                          4.30646     0.00100102     0.00100102   \n ridder                          4.30646     0.00100102     0.00100102   \n scipy_newton                    4.13935    7.04273e+23    7.79877e+37   \n bisection                       4.30647     0.00100102     0.00100102   \n mullerBisection                 4.17988     0.00218162     0.00218162   \n newton                          4.34299    0.000744484    0.000701789   \n halley                          4.34442    0.000698934    0.000699133   \n new_newton                      4.33986     0.00132958     0.00132958   \n new_halley                      4.34349    0.000700308    0.000700308   \n halleyMomentum                  3.93629     0.00177433     0.00177433   \n \n                 MSE_sigma=1.00 log_mse_sigma=0.50 log_mse_sigma=0.70  \\\n brentq              0.00100102        0.000996404        0.000996404   \n brenth              0.00100102        0.000996404        0.000996404   \n ridder              0.00100102        0.000996404        0.000996404   \n scipy_newton       1.40374e+19           0.344857           0.319578   \n bisection           0.00100102        0.000996404        0.000996404   \n mullerBisection     0.00218162         0.00214916         0.00214916   \n newton              0.00109221        0.000741597        0.000700818   \n halley             0.000700137         0.00069798        0.000698177   \n new_newton          0.00132958         0.00116756         0.00116756   \n new_halley         0.000700308        0.000699349        0.000699349   \n halleyMomentum      0.00177433          0.0017031          0.0017031   \n \n                 log_mse_sigma=1.00  running_time_sigma=0.50  \\\n brentq                 0.000996404                 8.516415   \n brenth                 0.000996404                 8.666517   \n ridder                 0.000996404                11.432976   \n scipy_newton              0.290972                 5.334531   \n bisection              0.000996404                68.850217   \n mullerBisection         0.00214916                60.324005   \n newton                 0.000972956                 4.914471   \n halley                 0.000699179                 6.054099   \n new_newton              0.00116756                 6.763140   \n new_halley             0.000699349                 6.825936   \n halleyMomentum           0.0017031                 7.410035   \n \n                  running_time_sigma=0.70  running_time_sigma=1.00  \\\n brentq                          8.507174                 8.583928   \n brenth                          8.644305                 8.716211   \n ridder                         11.423787                11.456445   \n scipy_newton                    5.386753                 5.518693   \n bisection                      68.550107                68.873564   \n mullerBisection                59.930218                59.785601   \n newton                          5.037206                 5.269847   \n halley                          6.406358                 6.736004   \n new_newton                      6.824654                 6.726903   \n new_halley                      7.116213                 6.908769   \n halleyMomentum                  7.511572                 7.518596   \n \n                 steps_sigma=0.50 steps_sigma=0.70 steps_sigma=1.00  \\\n brentq                   9.45862          9.45862          9.45862   \n brenth                   9.67461          9.67461          9.67461   \n ridder                    6.9132           6.9132           6.9132   \n scipy_newton                 100              100              100   \n bisection                23.6003          23.6003          23.6003   \n mullerBisection          9.82398          9.82398          9.82398   \n newton                   16.5523           16.956          17.3597   \n halley                   16.9576          16.9564          16.9564   \n new_newton               16.5523          16.5523          16.5523   \n new_halley               16.9592          16.9592          16.9592   \n halleyMomentum           8.88252          8.88252          8.88252   \n \n                 efficiency_sigma=0.50 efficiency_sigma=0.70  \\\n brentq                        2.19943               2.19943   \n brenth                        2.19943               2.19943   \n ridder                         2.4874                2.4874   \n scipy_newton                      inf                   inf   \n bisection                     4.23835               4.23835   \n mullerBisection               4.11985               4.10329   \n newton                        1.61064               1.79302   \n halley                        1.94727               1.94727   \n new_newton                     1.9485                1.9485   \n new_halley                    1.94727                2.0809   \n halleyMomentum                2.08313               2.08313   \n \n                 efficiency_sigma=1.00  \n brentq                        2.19943  \n brenth                        2.19943  \n ridder                         2.4874  \n scipy_newton                      inf  \n bisection                     4.23835  \n mullerBisection               4.10329  \n newton                        1.79372  \n halley                        1.94727  \n new_newton                     1.9485  \n new_halley                    1.94727  \n halleyMomentum                2.08313  ,\n 5:                 log_accuracy_sigma=0.50 log_accuracy_sigma=0.70  \\\n brentq                          4.30646                 4.30646   \n brenth                          4.30646                 4.30646   \n ridder                          4.30646                 4.30646   \n scipy_newton                    4.11276                 4.12553   \n bisection                       4.30647                 4.30647   \n mullerBisection                 4.17988                 4.17988   \n newton                            4.342                 4.34392   \n halley                          4.34644                 4.34285   \n new_newton                      4.33986                 4.33986   \n new_halley                      4.34349                 4.34349   \n halleyMomentum                  3.93629                 3.93629   \n \n                 log_accuracy_sigma=1.00 MSE_sigma=0.50 MSE_sigma=0.70  \\\n brentq                          4.30646     0.00100102     0.00100102   \n brenth                          4.30646     0.00100102     0.00100102   \n ridder                          4.30646     0.00100102     0.00100102   \n scipy_newton                    4.13935    7.04273e+23    7.79877e+37   \n bisection                       4.30647     0.00100102     0.00100102   \n mullerBisection                 4.17988     0.00218162     0.00218162   \n newton                          4.34299    0.000744484    0.000701789   \n halley                          4.34442    0.000698934    0.000699133   \n new_newton                      4.33986     0.00132958     0.00132958   \n new_halley                      4.34349    0.000700308    0.000700308   \n halleyMomentum                  3.93629     0.00177433     0.00177433   \n \n                 MSE_sigma=1.00 log_mse_sigma=0.50 log_mse_sigma=0.70  \\\n brentq              0.00100102        0.000996404        0.000996404   \n brenth              0.00100102        0.000996404        0.000996404   \n ridder              0.00100102        0.000996404        0.000996404   \n scipy_newton       1.40374e+19           0.344857           0.319578   \n bisection           0.00100102        0.000996404        0.000996404   \n mullerBisection     0.00218162         0.00214916         0.00214916   \n newton              0.00109221        0.000741597        0.000700818   \n halley             0.000700137         0.00069798        0.000698177   \n new_newton          0.00132958         0.00116756         0.00116756   \n new_halley         0.000700308        0.000699349        0.000699349   \n halleyMomentum      0.00177433          0.0017031          0.0017031   \n \n                 log_mse_sigma=1.00  running_time_sigma=0.50  \\\n brentq                 0.000996404                 8.516415   \n brenth                 0.000996404                 8.666517   \n ridder                 0.000996404                11.432976   \n scipy_newton              0.290972                 5.334531   \n bisection              0.000996404                68.850217   \n mullerBisection         0.00214916                60.324005   \n newton                 0.000972956                 4.914471   \n halley                 0.000699179                 6.054099   \n new_newton              0.00116756                 6.763140   \n new_halley             0.000699349                 6.825936   \n halleyMomentum           0.0017031                 7.410035   \n \n                  running_time_sigma=0.70  running_time_sigma=1.00  \\\n brentq                          8.507174                 8.583928   \n brenth                          8.644305                 8.716211   \n ridder                         11.423787                11.456445   \n scipy_newton                    5.386753                 5.518693   \n bisection                      68.550107                68.873564   \n mullerBisection                59.930218                59.785601   \n newton                          5.037206                 5.269847   \n halley                          6.406358                 6.736004   \n new_newton                      6.824654                 6.726903   \n new_halley                      7.116213                 6.908769   \n halleyMomentum                  7.511572                 7.518596   \n \n                 steps_sigma=0.50 steps_sigma=0.70 steps_sigma=1.00  \\\n brentq                   9.45862          9.45862          9.45862   \n brenth                   9.67461          9.67461          9.67461   \n ridder                    6.9132           6.9132           6.9132   \n scipy_newton                 100              100              100   \n bisection                23.6003          23.6003          23.6003   \n mullerBisection          9.82398          9.82398          9.82398   \n newton                   16.5523           16.956          17.3597   \n halley                   16.9576          16.9564          16.9564   \n new_newton               16.5523          16.5523          16.5523   \n new_halley               16.9592          16.9592          16.9592   \n halleyMomentum           8.88252          8.88252          8.88252   \n \n                 efficiency_sigma=0.50 efficiency_sigma=0.70  \\\n brentq                        2.19943               2.19943   \n brenth                        2.19943               2.19943   \n ridder                         2.4874                2.4874   \n scipy_newton                      inf                   inf   \n bisection                     4.23835               4.23835   \n mullerBisection               4.11985               4.10329   \n newton                        1.61064               1.79302   \n halley                        1.94727               1.94727   \n new_newton                     1.9485                1.9485   \n new_halley                    1.94727                2.0809   \n halleyMomentum                2.08313               2.08313   \n \n                 efficiency_sigma=1.00  \n brentq                        2.19943  \n brenth                        2.19943  \n ridder                         2.4874  \n scipy_newton                      inf  \n bisection                     4.23835  \n mullerBisection               4.10329  \n newton                        1.79372  \n halley                        1.94727  \n new_newton                     1.9485  \n new_halley                    1.94727  \n halleyMomentum                2.08313  ,\n 10:                 log_accuracy_sigma=0.50 log_accuracy_sigma=0.70  \\\n brentq                          4.30646                 4.30646   \n brenth                          4.30646                 4.30646   \n ridder                          4.30646                 4.30646   \n scipy_newton                    4.11276                 4.12553   \n bisection                       4.30647                 4.30647   \n mullerBisection                 4.17988                 4.17988   \n newton                            4.342                 4.34392   \n halley                          4.34644                 4.34285   \n new_newton                      4.33986                 4.33986   \n new_halley                      4.34349                 4.34349   \n halleyMomentum                  3.93629                 3.93629   \n \n                 log_accuracy_sigma=1.00 MSE_sigma=0.50 MSE_sigma=0.70  \\\n brentq                          4.30646     0.00100102     0.00100102   \n brenth                          4.30646     0.00100102     0.00100102   \n ridder                          4.30646     0.00100102     0.00100102   \n scipy_newton                    4.13935    7.04273e+23    7.79877e+37   \n bisection                       4.30647     0.00100102     0.00100102   \n mullerBisection                 4.17988     0.00218162     0.00218162   \n newton                          4.34299    0.000744484    0.000701789   \n halley                          4.34442    0.000698934    0.000699133   \n new_newton                      4.33986     0.00132958     0.00132958   \n new_halley                      4.34349    0.000700308    0.000700308   \n halleyMomentum                  3.93629     0.00177433     0.00177433   \n \n                 MSE_sigma=1.00 log_mse_sigma=0.50 log_mse_sigma=0.70  \\\n brentq              0.00100102        0.000996404        0.000996404   \n brenth              0.00100102        0.000996404        0.000996404   \n ridder              0.00100102        0.000996404        0.000996404   \n scipy_newton       1.40374e+19           0.344857           0.319578   \n bisection           0.00100102        0.000996404        0.000996404   \n mullerBisection     0.00218162         0.00214916         0.00214916   \n newton              0.00109221        0.000741597        0.000700818   \n halley             0.000700137         0.00069798        0.000698177   \n new_newton          0.00132958         0.00116756         0.00116756   \n new_halley         0.000700308        0.000699349        0.000699349   \n halleyMomentum      0.00177433          0.0017031          0.0017031   \n \n                 log_mse_sigma=1.00  running_time_sigma=0.50  \\\n brentq                 0.000996404                 8.516415   \n brenth                 0.000996404                 8.666517   \n ridder                 0.000996404                11.432976   \n scipy_newton              0.290972                 5.334531   \n bisection              0.000996404                68.850217   \n mullerBisection         0.00214916                60.324005   \n newton                 0.000972956                 4.914471   \n halley                 0.000699179                 6.054099   \n new_newton              0.00116756                 6.763140   \n new_halley             0.000699349                 6.825936   \n halleyMomentum           0.0017031                 7.410035   \n \n                  running_time_sigma=0.70  running_time_sigma=1.00  \\\n brentq                          8.507174                 8.583928   \n brenth                          8.644305                 8.716211   \n ridder                         11.423787                11.456445   \n scipy_newton                    5.386753                 5.518693   \n bisection                      68.550107                68.873564   \n mullerBisection                59.930218                59.785601   \n newton                          5.037206                 5.269847   \n halley                          6.406358                 6.736004   \n new_newton                      6.824654                 6.726903   \n new_halley                      7.116213                 6.908769   \n halleyMomentum                  7.511572                 7.518596   \n \n                 steps_sigma=0.50 steps_sigma=0.70 steps_sigma=1.00  \\\n brentq                   9.45862          9.45862          9.45862   \n brenth                   9.67461          9.67461          9.67461   \n ridder                    6.9132           6.9132           6.9132   \n scipy_newton                 100              100              100   \n bisection                23.6003          23.6003          23.6003   \n mullerBisection          9.82398          9.82398          9.82398   \n newton                   16.5523           16.956          17.3597   \n halley                   16.9576          16.9564          16.9564   \n new_newton               16.5523          16.5523          16.5523   \n new_halley               16.9592          16.9592          16.9592   \n halleyMomentum           8.88252          8.88252          8.88252   \n \n                 efficiency_sigma=0.50 efficiency_sigma=0.70  \\\n brentq                        2.19943               2.19943   \n brenth                        2.19943               2.19943   \n ridder                         2.4874                2.4874   \n scipy_newton                      inf                   inf   \n bisection                     4.23835               4.23835   \n mullerBisection               4.11985               4.10329   \n newton                        1.61064               1.79302   \n halley                        1.94727               1.94727   \n new_newton                     1.9485                1.9485   \n new_halley                    1.94727                2.0809   \n halleyMomentum                2.08313               2.08313   \n \n                 efficiency_sigma=1.00  \n brentq                        2.19943  \n brenth                        2.19943  \n ridder                         2.4874  \n scipy_newton                      inf  \n bisection                     4.23835  \n mullerBisection               4.10329  \n newton                        1.79372  \n halley                        1.94727  \n new_newton                     1.9485  \n new_halley                    1.94727  \n halleyMomentum                2.08313  }"
      ]
     },
     "execution_count": 13,
     "metadata": {},
     "output_type": "execute_result"
    }
   ],
   "source": [
    "df_plt = pd.DataFrame(index=testMethods)\n",
    "dic_plt = {}\n",
    "for i in newDic:\n",
    "    # to keep each category together comparing with difference sigmas\n",
    "    for s in testSigma:\n",
    "        df_plt.loc[:, 'log_accuracy_sigma={:.2f}'.format(s)] = newDic[i][s].loc[:, 'log_accuracy']\n",
    "    \n",
    "    for s in testSigma:    \n",
    "        df_plt.loc[:, 'MSE_sigma={:.2f}'.format(s)] = newDic[i][s].loc[:, 'mse']\n",
    "    \n",
    "    for s in testSigma:\n",
    "        df_plt.loc[:, 'log_mse_sigma={:.2f}'.format(s)] = newDic[i][s].loc[:, 'log_mse']\n",
    "\n",
    "    for s in testSigma:\n",
    "        df_plt.loc[:, 'running_time_sigma={:.2f}'.format(s)] = newDic[i][s].loc[:, 'seconds']\n",
    "    \n",
    "    for s in testSigma:\n",
    "        df_plt.loc[:, 'steps_sigma={:.2f}'.format(s)] = newDic[i][s].loc[:, 'steps']\n",
    "\n",
    "    for s in testSigma:\n",
    "        df_plt.loc[:, 'efficiency_sigma={:.2f}'.format(s)] = newDic[i][s].loc[:, 'efficiency']\n",
    "    \n",
    "    dic_plt[i] = df_plt\n",
    "    df_plt.to_csv('output_iter_{:d}_0507.csv'.format(i))\n",
    "dic_plt"
   ]
  },
  {
   "cell_type": "code",
   "execution_count": 22,
   "metadata": {},
   "outputs": [
    {
     "name": "stdout",
     "output_type": "stream",
     "text": [
      "Using matplotlib backend: MacOSX\n"
     ]
    }
   ],
   "source": [
    "%matplotlib \n",
    "import matplotlib.pyplot as plt\n",
    "# 5 times iter log accuracy\n",
    "\n",
    "df_acc = dic_plt[5].iloc[:, :3]\n",
    "axes = df_acc.plot(kind='bar', subplots=True, colormap='coolwarm', title='Log Accuracy Comparison for Different Initial Sigma', grid=True, sort_columns=True, legend=False, figsize=(15,10))\n",
    "axes[0].set_ylim([3,4.5])\n",
    "axes[0].set_ylabel('log accuracy')\n",
    "axes[0].axvspan(5.5, 6.5, color='red', alpha=0.2)\n",
    "axes[0].axvspan(-0.5, 2.5, color='g', alpha=0.3)\n",
    "for ax in axes[1:]:\n",
    "    ax.axvspan(6.5, 7.5, color='r', alpha=0.2)\n",
    "    ax.axvspan(-0.5, 2.5, color='g', alpha=0.3)\n",
    "    ax.set_ylim([3,4.5])\n",
    "    ax.set_ylabel('log accuracy')\n",
    "plt.show()\n",
    "#plt.savefig('log_accuracy_0507.png')"
   ]
  },
  {
   "cell_type": "code",
   "execution_count": null,
   "metadata": {},
   "outputs": [],
   "source": [
    ""
   ]
  }
 ],
 "metadata": {
  "kernelspec": {
   "display_name": "Python 2",
   "language": "python",
   "name": "python2"
  },
  "language_info": {
   "codemirror_mode": {
    "name": "ipython",
    "version": 2.0
   },
   "file_extension": ".py",
   "mimetype": "text/x-python",
   "name": "python",
   "nbconvert_exporter": "python",
   "pygments_lexer": "ipython2",
   "version": "2.7.6"
  }
 },
 "nbformat": 4,
 "nbformat_minor": 0
}