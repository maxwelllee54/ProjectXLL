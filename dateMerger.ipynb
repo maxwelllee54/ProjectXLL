{
 "cells": [
  {
   "cell_type": "code",
   "execution_count": 1,
   "metadata": {
    "collapsed": true
   },
   "outputs": [],
   "source": [
    "import os\n",
    "\n",
    "directory = os.walk('/Users/maxwelllee54/GitHubs/ProjectXLL')\n",
    "fileList = []\n",
    "\n",
    "for root, dirs, files in directory:\n",
    "    for file in files:\n",
    "        if file[-3:] in ['csv', 'xls'] or file[-4:] == 'xlsx':\n",
    "            fileList.append(os.path.join(root, file))"
   ]
  },
  {
   "cell_type": "code",
   "execution_count": 16,
   "metadata": {},
   "outputs": [],
   "source": [
    "import pandas as pd\n",
    "\n",
    "csv = pd.DataFrame()\n",
    "excel = pd.DataFrame()\n",
    "options = pd.DataFrame()\n",
    "\n",
    "for file in fileList: \n",
    "    \n",
    "    if file[-3:] == 'csv':\n",
    "        \n",
    "        temp = pd.read_csv(file)\n",
    "        \n",
    "        csv = pd.concat([csv, temp])\n",
    "    \n",
    "    else:\n",
    "        \n",
    "        try:\n",
    "            \n",
    "            temp = pd.read_excel(file, None)\n",
    "            \n",
    "            path, fileName = os.path.split(file)\n",
    "            ticker = fileName.split('.')[0]\n",
    "            \n",
    "            temp['CALL'].loc[:, 'Type'] = 'Call'\n",
    "            temp['CALL'].loc[:, 'Ticker'] = ticker\n",
    "            temp['PUT'].loc[:, 'Type'] = 'Put'\n",
    "            temp['PUT'].loc[:, 'Ticker'] = ticker\n",
    "            \n",
    "            temp2 = pd.concat([temp['CALL'], temp['PUT']])\n",
    "        \n",
    "            excel = pd.concat([excel, temp2])\n",
    "            \n",
    "        except KeyError:\n",
    "            continue"
   ]
  },
  {
   "cell_type": "code",
   "execution_count": 18,
   "metadata": {},
   "outputs": [],
   "source": [
    "excel.to_csv('output.csv')"
   ]
  },
  {
   "cell_type": "code",
   "execution_count": null,
   "metadata": {},
   "outputs": [],
   "source": [
    ""
   ]
  }
 ],
 "metadata": {
  "kernelspec": {
   "display_name": "Python 2",
   "language": "python",
   "name": "python2"
  },
  "language_info": {
   "codemirror_mode": {
    "name": "ipython",
    "version": 2.0
   },
   "file_extension": ".py",
   "mimetype": "text/x-python",
   "name": "python",
   "nbconvert_exporter": "python",
   "pygments_lexer": "ipython2",
   "version": "2.7.6"
  }
 },
 "nbformat": 4,
 "nbformat_minor": 0
}