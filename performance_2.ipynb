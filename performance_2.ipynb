{
 "cells": [
  {
   "cell_type": "code",
   "execution_count": 1,
   "metadata": {
    "collapsed": true
   },
   "outputs": [
    {
     "data": {
      "text/html": [
       "<div>\n",
       "<table border=\"1\" class=\"dataframe\">\n",
       "  <thead>\n",
       "    <tr style=\"text-align: right;\">\n",
       "      <th></th>\n",
       "      <th>currentDate</th>\n",
       "      <th>ExpDate</th>\n",
       "      <th>StrikePrice</th>\n",
       "      <th>Ticker</th>\n",
       "      <th>Type</th>\n",
       "      <th>Last</th>\n",
       "      <th>IV</th>\n",
       "      <th>StockPrice</th>\n",
       "      <th>T</th>\n",
       "    </tr>\n",
       "  </thead>\n",
       "  <tbody>\n",
       "    <tr>\n",
       "      <th>0</th>\n",
       "      <td>2017-02-17</td>\n",
       "      <td>2017-03-17</td>\n",
       "      <td>22.5</td>\n",
       "      <td>ARR</td>\n",
       "      <td>Call</td>\n",
       "      <td>0.08</td>\n",
       "      <td>0.13956</td>\n",
       "      <td>21.709999</td>\n",
       "      <td>0.076660</td>\n",
       "    </tr>\n",
       "    <tr>\n",
       "      <th>1</th>\n",
       "      <td>2017-02-17</td>\n",
       "      <td>2017-03-17</td>\n",
       "      <td>20.0</td>\n",
       "      <td>ARR</td>\n",
       "      <td>Put</td>\n",
       "      <td>0.20</td>\n",
       "      <td>0.32783</td>\n",
       "      <td>21.709999</td>\n",
       "      <td>0.076660</td>\n",
       "    </tr>\n",
       "    <tr>\n",
       "      <th>2</th>\n",
       "      <td>2017-02-17</td>\n",
       "      <td>2017-04-21</td>\n",
       "      <td>21.0</td>\n",
       "      <td>ARR</td>\n",
       "      <td>Call</td>\n",
       "      <td>0.75</td>\n",
       "      <td>0.05176</td>\n",
       "      <td>21.709999</td>\n",
       "      <td>0.172485</td>\n",
       "    </tr>\n",
       "    <tr>\n",
       "      <th>3</th>\n",
       "      <td>2017-02-17</td>\n",
       "      <td>2017-04-21</td>\n",
       "      <td>22.0</td>\n",
       "      <td>ARR</td>\n",
       "      <td>Call</td>\n",
       "      <td>0.30</td>\n",
       "      <td>0.10719</td>\n",
       "      <td>21.709999</td>\n",
       "      <td>0.172485</td>\n",
       "    </tr>\n",
       "    <tr>\n",
       "      <th>4</th>\n",
       "      <td>2017-02-17</td>\n",
       "      <td>2017-03-17</td>\n",
       "      <td>180.0</td>\n",
       "      <td>MSG</td>\n",
       "      <td>Put</td>\n",
       "      <td>6.45</td>\n",
       "      <td>0.18380</td>\n",
       "      <td>175.300003</td>\n",
       "      <td>0.076660</td>\n",
       "    </tr>\n",
       "  </tbody>\n",
       "</table>\n",
       "</div>"
      ],
      "text/plain": [
       "<div>\n",
       "<table border=\"1\" class=\"dataframe\">\n",
       "  <thead>\n",
       "    <tr style=\"text-align: right;\">\n",
       "      <th></th>\n",
       "      <th>currentDate</th>\n",
       "      <th>ExpDate</th>\n",
       "      <th>StrikePrice</th>\n",
       "      <th>Ticker</th>\n",
       "      <th>Type</th>\n",
       "      <th>Last</th>\n",
       "      <th>IV</th>\n",
       "      <th>StockPrice</th>\n",
       "      <th>T</th>\n",
       "    </tr>\n",
       "  </thead>\n",
       "  <tbody>\n",
       "    <tr>\n",
       "      <th>0</th>\n",
       "      <td>2017-02-17</td>\n",
       "      <td>2017-03-17</td>\n",
       "      <td>22.5</td>\n",
       "      <td>ARR</td>\n",
       "      <td>Call</td>\n",
       "      <td>0.08</td>\n",
       "      <td>0.13956</td>\n",
       "      <td>21.709999</td>\n",
       "      <td>0.076660</td>\n",
       "    </tr>\n",
       "    <tr>\n",
       "      <th>1</th>\n",
       "      <td>2017-02-17</td>\n",
       "      <td>2017-03-17</td>\n",
       "      <td>20.0</td>\n",
       "      <td>ARR</td>\n",
       "      <td>Put</td>\n",
       "      <td>0.20</td>\n",
       "      <td>0.32783</td>\n",
       "      <td>21.709999</td>\n",
       "      <td>0.076660</td>\n",
       "    </tr>\n",
       "    <tr>\n",
       "      <th>2</th>\n",
       "      <td>2017-02-17</td>\n",
       "      <td>2017-04-21</td>\n",
       "      <td>21.0</td>\n",
       "      <td>ARR</td>\n",
       "      <td>Call</td>\n",
       "      <td>0.75</td>\n",
       "      <td>0.05176</td>\n",
       "      <td>21.709999</td>\n",
       "      <td>0.172485</td>\n",
       "    </tr>\n",
       "    <tr>\n",
       "      <th>3</th>\n",
       "      <td>2017-02-17</td>\n",
       "      <td>2017-04-21</td>\n",
       "      <td>22.0</td>\n",
       "      <td>ARR</td>\n",
       "      <td>Call</td>\n",
       "      <td>0.30</td>\n",
       "      <td>0.10719</td>\n",
       "      <td>21.709999</td>\n",
       "      <td>0.172485</td>\n",
       "    </tr>\n",
       "    <tr>\n",
       "      <th>4</th>\n",
       "      <td>2017-02-17</td>\n",
       "      <td>2017-03-17</td>\n",
       "      <td>180.0</td>\n",
       "      <td>MSG</td>\n",
       "      <td>Put</td>\n",
       "      <td>6.45</td>\n",
       "      <td>0.18380</td>\n",
       "      <td>175.300003</td>\n",
       "      <td>0.076660</td>\n",
       "    </tr>\n",
       "  </tbody>\n",
       "</table>\n",
       "</div>"
      ]
     },
     "execution_count": 1,
     "metadata": {},
     "output_type": "execute_result"
    }
   ],
   "source": [
    "import methods\n",
    "import pandas as pd\n",
    "data = pd.read_csv('europeanOptions_.01tol.csv')                                                                                       \n",
    "data = data.loc[:, ['currentDate', 'ExpDate', 'StrikePrice', 'Ticker', 'Type', 'Last', 'IV', 'StockPrice', 'T']]\n",
    "data.head()"
   ]
  },
  {
   "cell_type": "code",
   "execution_count": 2,
   "metadata": {
    "collapsed": true
   },
   "outputs": [
    {
     "name": "stderr",
     "output_type": "stream",
     "text": [
      "/Users/Maxwell/anaconda/lib/python3.5/site-packages/scipy/optimize/zeros.py:173: RuntimeWarning: Tolerance of -0.0021106292083 reached\n  warnings.warn(msg, RuntimeWarning)\n/Users/Maxwell/anaconda/lib/python3.5/site-packages/scipy/optimize/zeros.py:173: RuntimeWarning: Tolerance of 4834821.20006 reached\n  warnings.warn(msg, RuntimeWarning)\n"
     ]
    },
    {
     "name": "stderr",
     "output_type": "stream",
     "text": [
      "/Users/Maxwell/anaconda/lib/python3.5/site-packages/scipy/optimize/zeros.py:173: RuntimeWarning: Tolerance of 186100.226642 reached\n  warnings.warn(msg, RuntimeWarning)\n/Users/Maxwell/anaconda/lib/python3.5/site-packages/scipy/optimize/zeros.py:173: RuntimeWarning: Tolerance of 30471.9009936 reached\n  warnings.warn(msg, RuntimeWarning)\n/Users/Maxwell/anaconda/lib/python3.5/site-packages/scipy/optimize/zeros.py:173: RuntimeWarning: Tolerance of 8972692.35162 reached\n  warnings.warn(msg, RuntimeWarning)\n/Users/Maxwell/anaconda/lib/python3.5/site-packages/scipy/optimize/zeros.py:173: RuntimeWarning: Tolerance of -1896851.51349 reached\n  warnings.warn(msg, RuntimeWarning)\n/Users/Maxwell/anaconda/lib/python3.5/site-packages/scipy/optimize/zeros.py:173: RuntimeWarning: Tolerance of -0.00332953061931 reached\n  warnings.warn(msg, RuntimeWarning)\n"
     ]
    },
    {
     "name": "stderr",
     "output_type": "stream",
     "text": [
      "/Users/Maxwell/anaconda/lib/python3.5/site-packages/scipy/optimize/zeros.py:173: RuntimeWarning: Tolerance of -975.944463839 reached\n  warnings.warn(msg, RuntimeWarning)\n"
     ]
    },
    {
     "name": "stderr",
     "output_type": "stream",
     "text": [
      "/Users/Maxwell/anaconda/lib/python3.5/site-packages/scipy/optimize/zeros.py:173: RuntimeWarning: Tolerance of -816096.967203 reached\n  warnings.warn(msg, RuntimeWarning)\n/Users/Maxwell/anaconda/lib/python3.5/site-packages/scipy/optimize/zeros.py:173: RuntimeWarning: Tolerance of 214.978948571 reached\n  warnings.warn(msg, RuntimeWarning)\n/Users/Maxwell/anaconda/lib/python3.5/site-packages/scipy/optimize/zeros.py:173: RuntimeWarning: Tolerance of 6777108.04707 reached\n  warnings.warn(msg, RuntimeWarning)\n/Users/Maxwell/anaconda/lib/python3.5/site-packages/scipy/optimize/zeros.py:173: RuntimeWarning: Tolerance of 23953711.0806 reached\n  warnings.warn(msg, RuntimeWarning)\n/Users/Maxwell/anaconda/lib/python3.5/site-packages/scipy/optimize/zeros.py:173: RuntimeWarning: Tolerance of -0.00753559953767 reached\n  warnings.warn(msg, RuntimeWarning)\n/Users/Maxwell/anaconda/lib/python3.5/site-packages/scipy/optimize/zeros.py:173: RuntimeWarning: Tolerance of 150176548.982 reached\n  warnings.warn(msg, RuntimeWarning)\n/Users/Maxwell/anaconda/lib/python3.5/site-packages/scipy/optimize/zeros.py:173: RuntimeWarning: Tolerance of 73693570476.2 reached\n  warnings.warn(msg, RuntimeWarning)\n/Users/Maxwell/anaconda/lib/python3.5/site-packages/scipy/optimize/zeros.py:173: RuntimeWarning: Tolerance of 594777.592865 reached\n  warnings.warn(msg, RuntimeWarning)\n/Users/Maxwell/anaconda/lib/python3.5/site-packages/scipy/optimize/zeros.py:173: RuntimeWarning: Tolerance of -2.24467018992e-05 reached\n  warnings.warn(msg, RuntimeWarning)\n/Users/Maxwell/anaconda/lib/python3.5/site-packages/scipy/optimize/zeros.py:173: RuntimeWarning: Tolerance of 7444273422.21 reached\n  warnings.warn(msg, RuntimeWarning)\n/Users/Maxwell/anaconda/lib/python3.5/site-packages/scipy/optimize/zeros.py:173: RuntimeWarning: Tolerance of -578055999.569 reached\n  warnings.warn(msg, RuntimeWarning)\n"
     ]
    },
    {
     "name": "stderr",
     "output_type": "stream",
     "text": [
      "/Users/Maxwell/anaconda/lib/python3.5/site-packages/scipy/optimize/zeros.py:173: RuntimeWarning: Tolerance of 837.32687762 reached\n  warnings.warn(msg, RuntimeWarning)\n/Users/Maxwell/anaconda/lib/python3.5/site-packages/scipy/optimize/zeros.py:173: RuntimeWarning: Tolerance of -0.00189988674422 reached\n  warnings.warn(msg, RuntimeWarning)\n"
     ]
    },
    {
     "name": "stderr",
     "output_type": "stream",
     "text": [
      "/Users/Maxwell/anaconda/lib/python3.5/site-packages/scipy/optimize/zeros.py:173: RuntimeWarning: Tolerance of 3412135.69556 reached\n  warnings.warn(msg, RuntimeWarning)\n/Users/Maxwell/anaconda/lib/python3.5/site-packages/scipy/optimize/zeros.py:173: RuntimeWarning: Tolerance of -0.00751754669395 reached\n  warnings.warn(msg, RuntimeWarning)\n/Users/Maxwell/anaconda/lib/python3.5/site-packages/scipy/optimize/zeros.py:173: RuntimeWarning: Tolerance of -0.0020715319247 reached\n  warnings.warn(msg, RuntimeWarning)\n"
     ]
    },
    {
     "name": "stderr",
     "output_type": "stream",
     "text": [
      "/Users/Maxwell/anaconda/lib/python3.5/site-packages/scipy/optimize/zeros.py:173: RuntimeWarning: Tolerance of 4180508932.21 reached\n  warnings.warn(msg, RuntimeWarning)\n/Users/Maxwell/anaconda/lib/python3.5/site-packages/scipy/optimize/zeros.py:173: RuntimeWarning: Tolerance of -0.00893525336774 reached\n  warnings.warn(msg, RuntimeWarning)\n"
     ]
    },
    {
     "name": "stderr",
     "output_type": "stream",
     "text": [
      "/Users/Maxwell/anaconda/lib/python3.5/site-packages/scipy/optimize/zeros.py:173: RuntimeWarning: Tolerance of -3826.58844013 reached\n  warnings.warn(msg, RuntimeWarning)\n/Users/Maxwell/anaconda/lib/python3.5/site-packages/scipy/optimize/zeros.py:173: RuntimeWarning: Tolerance of -0.000535756816249 reached\n  warnings.warn(msg, RuntimeWarning)\n/Users/Maxwell/anaconda/lib/python3.5/site-packages/scipy/optimize/zeros.py:173: RuntimeWarning: Tolerance of -5211338572.83 reached\n  warnings.warn(msg, RuntimeWarning)\n"
     ]
    },
    {
     "name": "stderr",
     "output_type": "stream",
     "text": [
      "/Users/Maxwell/anaconda/lib/python3.5/site-packages/scipy/optimize/zeros.py:173: RuntimeWarning: Tolerance of -0.000179087484186 reached\n  warnings.warn(msg, RuntimeWarning)\n/Users/Maxwell/anaconda/lib/python3.5/site-packages/scipy/optimize/zeros.py:173: RuntimeWarning: Tolerance of -0.000705508815798 reached\n  warnings.warn(msg, RuntimeWarning)\n/Users/Maxwell/anaconda/lib/python3.5/site-packages/scipy/optimize/zeros.py:173: RuntimeWarning: Tolerance of 849.021896213 reached\n  warnings.warn(msg, RuntimeWarning)\n/Users/Maxwell/anaconda/lib/python3.5/site-packages/scipy/optimize/zeros.py:173: RuntimeWarning: Tolerance of -0.00876186237435 reached\n  warnings.warn(msg, RuntimeWarning)\n/Users/Maxwell/anaconda/lib/python3.5/site-packages/scipy/optimize/zeros.py:173: RuntimeWarning: Tolerance of 89606367.3 reached\n  warnings.warn(msg, RuntimeWarning)\n/Users/Maxwell/anaconda/lib/python3.5/site-packages/scipy/optimize/zeros.py:173: RuntimeWarning: Tolerance of -0.02205268116 reached\n  warnings.warn(msg, RuntimeWarning)\n/Users/Maxwell/anaconda/lib/python3.5/site-packages/scipy/optimize/zeros.py:173: RuntimeWarning: Tolerance of -0.00145751857788 reached\n  warnings.warn(msg, RuntimeWarning)\n"
     ]
    },
    {
     "name": "stderr",
     "output_type": "stream",
     "text": [
      "/Users/Maxwell/anaconda/lib/python3.5/site-packages/scipy/optimize/zeros.py:173: RuntimeWarning: Tolerance of 4700.68407643 reached\n  warnings.warn(msg, RuntimeWarning)\n/Users/Maxwell/anaconda/lib/python3.5/site-packages/scipy/optimize/zeros.py:173: RuntimeWarning: Tolerance of -0.000405816461249 reached\n  warnings.warn(msg, RuntimeWarning)\n"
     ]
    },
    {
     "name": "stderr",
     "output_type": "stream",
     "text": [
      "/Users/Maxwell/anaconda/lib/python3.5/site-packages/scipy/optimize/zeros.py:173: RuntimeWarning: Tolerance of 38953.3908495 reached\n  warnings.warn(msg, RuntimeWarning)\n/Users/Maxwell/anaconda/lib/python3.5/site-packages/scipy/optimize/zeros.py:173: RuntimeWarning: Tolerance of -0.00175647602925 reached\n  warnings.warn(msg, RuntimeWarning)\n"
     ]
    },
    {
     "name": "stdout",
     "output_type": "stream",
     "text": [
      "This is the test result for initial point sigma 0.30, initial iteration 2 times:\n                log_accuracy           MSE  Time(hh:mm:ss)\nbrentq               4.30646    0.00100102  0:00:04.640004\nbrenth               4.30646    0.00100102  0:00:05.198373\nridder               4.30646    0.00100102  0:00:06.628163\nscipy_newton         4.14998   5.85325e+17  0:00:02.754447\nbisection            4.30646    0.00100102  0:00:41.058587\nmullerBisection      4.30646    0.00100102  0:00:28.294878\nnewton               4.07488  5.82465e+198  0:00:03.396052\nhalley               4.22647     0.0008426  0:00:01.966159\nnew_newton           2.99799           inf  0:00:08.835893\nnew_halley           4.04513   1.89652e+32  0:00:07.352677\n\n\n"
     ]
    },
    {
     "name": "stderr",
     "output_type": "stream",
     "text": [
      "/Users/Maxwell/anaconda/lib/python3.5/site-packages/scipy/optimize/zeros.py:173: RuntimeWarning: Tolerance of 15043.8384811 reached\n  warnings.warn(msg, RuntimeWarning)\n"
     ]
    },
    {
     "name": "stderr",
     "output_type": "stream",
     "text": [
      "/Users/Maxwell/anaconda/lib/python3.5/site-packages/scipy/optimize/zeros.py:173: RuntimeWarning: Tolerance of -8.78325982217e-06 reached\n  warnings.warn(msg, RuntimeWarning)\n/Users/Maxwell/anaconda/lib/python3.5/site-packages/scipy/optimize/zeros.py:173: RuntimeWarning: Tolerance of 1033715.52342 reached\n  warnings.warn(msg, RuntimeWarning)\n/Users/Maxwell/anaconda/lib/python3.5/site-packages/scipy/optimize/zeros.py:173: RuntimeWarning: Tolerance of -0.00268544053288 reached\n  warnings.warn(msg, RuntimeWarning)\n/Users/Maxwell/anaconda/lib/python3.5/site-packages/scipy/optimize/zeros.py:173: RuntimeWarning: Tolerance of -0.0208351200224 reached\n  warnings.warn(msg, RuntimeWarning)\n/Users/Maxwell/anaconda/lib/python3.5/site-packages/scipy/optimize/zeros.py:173: RuntimeWarning: Tolerance of -0.00275563653178 reached\n  warnings.warn(msg, RuntimeWarning)\n"
     ]
    },
    {
     "name": "stderr",
     "output_type": "stream",
     "text": [
      "/Users/Maxwell/anaconda/lib/python3.5/site-packages/scipy/optimize/zeros.py:173: RuntimeWarning: Tolerance of -0.00223129576011 reached\n  warnings.warn(msg, RuntimeWarning)\n/Users/Maxwell/anaconda/lib/python3.5/site-packages/scipy/optimize/zeros.py:173: RuntimeWarning: Tolerance of 4114267385.28 reached\n  warnings.warn(msg, RuntimeWarning)\n"
     ]
    },
    {
     "name": "stderr",
     "output_type": "stream",
     "text": [
      "/Users/Maxwell/anaconda/lib/python3.5/site-packages/scipy/optimize/zeros.py:173: RuntimeWarning: Tolerance of 11310548238.9 reached\n  warnings.warn(msg, RuntimeWarning)\n/Users/Maxwell/anaconda/lib/python3.5/site-packages/scipy/optimize/zeros.py:173: RuntimeWarning: Tolerance of 3628540284.67 reached\n  warnings.warn(msg, RuntimeWarning)\n/Users/Maxwell/anaconda/lib/python3.5/site-packages/scipy/optimize/zeros.py:173: RuntimeWarning: Tolerance of 270.084656506 reached\n  warnings.warn(msg, RuntimeWarning)\n/Users/Maxwell/anaconda/lib/python3.5/site-packages/scipy/optimize/zeros.py:173: RuntimeWarning: Tolerance of -49679765170.8 reached\n  warnings.warn(msg, RuntimeWarning)\n/Users/Maxwell/anaconda/lib/python3.5/site-packages/scipy/optimize/zeros.py:173: RuntimeWarning: Tolerance of -0.00746502637511 reached\n  warnings.warn(msg, RuntimeWarning)\n/Users/Maxwell/anaconda/lib/python3.5/site-packages/scipy/optimize/zeros.py:173: RuntimeWarning: Tolerance of 68246.8210848 reached\n  warnings.warn(msg, RuntimeWarning)\n/Users/Maxwell/anaconda/lib/python3.5/site-packages/scipy/optimize/zeros.py:173: RuntimeWarning: Tolerance of 3959771826.77 reached\n  warnings.warn(msg, RuntimeWarning)\n/Users/Maxwell/anaconda/lib/python3.5/site-packages/scipy/optimize/zeros.py:173: RuntimeWarning: Tolerance of 42989110552.0 reached\n  warnings.warn(msg, RuntimeWarning)\n/Users/Maxwell/anaconda/lib/python3.5/site-packages/scipy/optimize/zeros.py:173: RuntimeWarning: Tolerance of -0.00938438357576 reached\n  warnings.warn(msg, RuntimeWarning)\n/Users/Maxwell/anaconda/lib/python3.5/site-packages/scipy/optimize/zeros.py:173: RuntimeWarning: Tolerance of 331455444841.0 reached\n  warnings.warn(msg, RuntimeWarning)\n/Users/Maxwell/anaconda/lib/python3.5/site-packages/scipy/optimize/zeros.py:173: RuntimeWarning: Tolerance of 21013150.655 reached\n  warnings.warn(msg, RuntimeWarning)\n"
     ]
    },
    {
     "name": "stderr",
     "output_type": "stream",
     "text": [
      "/Users/Maxwell/anaconda/lib/python3.5/site-packages/scipy/optimize/zeros.py:173: RuntimeWarning: Tolerance of -24.142184356 reached\n  warnings.warn(msg, RuntimeWarning)\n"
     ]
    },
    {
     "name": "stderr",
     "output_type": "stream",
     "text": [
      "/Users/Maxwell/anaconda/lib/python3.5/site-packages/scipy/optimize/zeros.py:173: RuntimeWarning: Tolerance of -0.00202309679337 reached\n  warnings.warn(msg, RuntimeWarning)\n/Users/Maxwell/anaconda/lib/python3.5/site-packages/scipy/optimize/zeros.py:173: RuntimeWarning: Tolerance of -0.00711104531125 reached\n  warnings.warn(msg, RuntimeWarning)\n/Users/Maxwell/anaconda/lib/python3.5/site-packages/scipy/optimize/zeros.py:173: RuntimeWarning: Tolerance of 86938239.0001 reached\n  warnings.warn(msg, RuntimeWarning)\n"
     ]
    },
    {
     "name": "stderr",
     "output_type": "stream",
     "text": [
      "/Users/Maxwell/anaconda/lib/python3.5/site-packages/scipy/optimize/zeros.py:173: RuntimeWarning: Tolerance of 5421954357.71 reached\n  warnings.warn(msg, RuntimeWarning)\n/Users/Maxwell/anaconda/lib/python3.5/site-packages/scipy/optimize/zeros.py:173: RuntimeWarning: Tolerance of -0.00753228669711 reached\n  warnings.warn(msg, RuntimeWarning)\n/Users/Maxwell/anaconda/lib/python3.5/site-packages/scipy/optimize/zeros.py:173: RuntimeWarning: Tolerance of 46205090454.1 reached\n  warnings.warn(msg, RuntimeWarning)\n"
     ]
    },
    {
     "name": "stderr",
     "output_type": "stream",
     "text": [
      "/Users/Maxwell/anaconda/lib/python3.5/site-packages/scipy/optimize/zeros.py:173: RuntimeWarning: Tolerance of -0.00127470323177 reached\n  warnings.warn(msg, RuntimeWarning)\n/Users/Maxwell/anaconda/lib/python3.5/site-packages/scipy/optimize/zeros.py:173: RuntimeWarning: Tolerance of -0.00254041047777 reached\n  warnings.warn(msg, RuntimeWarning)\n"
     ]
    },
    {
     "name": "stderr",
     "output_type": "stream",
     "text": [
      "/Users/Maxwell/anaconda/lib/python3.5/site-packages/scipy/optimize/zeros.py:173: RuntimeWarning: Tolerance of 3931729.1344 reached\n  warnings.warn(msg, RuntimeWarning)\n/Users/Maxwell/anaconda/lib/python3.5/site-packages/scipy/optimize/zeros.py:173: RuntimeWarning: Tolerance of 4458303.43782 reached\n  warnings.warn(msg, RuntimeWarning)\n"
     ]
    },
    {
     "name": "stderr",
     "output_type": "stream",
     "text": [
      "/Users/Maxwell/anaconda/lib/python3.5/site-packages/scipy/optimize/zeros.py:173: RuntimeWarning: Tolerance of -0.0010870837415 reached\n  warnings.warn(msg, RuntimeWarning)\n/Users/Maxwell/anaconda/lib/python3.5/site-packages/scipy/optimize/zeros.py:173: RuntimeWarning: Tolerance of -0.00632166552186 reached\n  warnings.warn(msg, RuntimeWarning)\n/Users/Maxwell/anaconda/lib/python3.5/site-packages/scipy/optimize/zeros.py:173: RuntimeWarning: Tolerance of 326214062.693 reached\n  warnings.warn(msg, RuntimeWarning)\n/Users/Maxwell/anaconda/lib/python3.5/site-packages/scipy/optimize/zeros.py:173: RuntimeWarning: Tolerance of -825.488457018 reached\n  warnings.warn(msg, RuntimeWarning)\n/Users/Maxwell/anaconda/lib/python3.5/site-packages/scipy/optimize/zeros.py:173: RuntimeWarning: Tolerance of -0.000608010431399 reached\n  warnings.warn(msg, RuntimeWarning)\n/Users/Maxwell/anaconda/lib/python3.5/site-packages/scipy/optimize/zeros.py:173: RuntimeWarning: Tolerance of -2.63222694914e+13 reached\n  warnings.warn(msg, RuntimeWarning)\n/Users/Maxwell/anaconda/lib/python3.5/site-packages/scipy/optimize/zeros.py:173: RuntimeWarning: Tolerance of -0.00189289120861 reached\n  warnings.warn(msg, RuntimeWarning)\n"
     ]
    },
    {
     "name": "stderr",
     "output_type": "stream",
     "text": [
      "/Users/Maxwell/anaconda/lib/python3.5/site-packages/scipy/optimize/zeros.py:173: RuntimeWarning: Tolerance of -29.3154703893 reached\n  warnings.warn(msg, RuntimeWarning)\n/Users/Maxwell/anaconda/lib/python3.5/site-packages/scipy/optimize/zeros.py:173: RuntimeWarning: Tolerance of 33118395.1684 reached\n  warnings.warn(msg, RuntimeWarning)\n"
     ]
    },
    {
     "name": "stderr",
     "output_type": "stream",
     "text": [
      "/Users/Maxwell/anaconda/lib/python3.5/site-packages/scipy/optimize/zeros.py:173: RuntimeWarning: Tolerance of 4214649.48987 reached\n  warnings.warn(msg, RuntimeWarning)\n/Users/Maxwell/anaconda/lib/python3.5/site-packages/scipy/optimize/zeros.py:173: RuntimeWarning: Tolerance of 13804607835.3 reached\n  warnings.warn(msg, RuntimeWarning)\n"
     ]
    },
    {
     "name": "stdout",
     "output_type": "stream",
     "text": [
      "This is the test result for initial point sigma 0.50, initial iteration 2 times:\n                log_accuracy           MSE  Time(hh:mm:ss)\nbrentq               4.30646    0.00100102  0:00:05.948011\nbrenth               4.30646    0.00100102  0:00:06.321942\nridder               4.30646    0.00100102  0:00:07.055823\nscipy_newton         4.11276   7.04273e+23  0:00:03.128159\nbisection            4.30646    0.00100102  0:00:42.658910\nmullerBisection      4.30646    0.00100102  0:00:28.565580\nnewton               4.11903  5.81482e+111  0:00:03.783664\nhalley               3.93286    0.00104206  0:00:01.904435\nnew_newton           2.99799           inf  0:00:09.082702\nnew_halley           4.04513   1.89652e+32  0:00:07.564471\n\n\n"
     ]
    },
    {
     "name": "stderr",
     "output_type": "stream",
     "text": [
      "/Users/Maxwell/anaconda/lib/python3.5/site-packages/scipy/optimize/zeros.py:173: RuntimeWarning: Tolerance of -382.389525425 reached\n  warnings.warn(msg, RuntimeWarning)\n"
     ]
    },
    {
     "name": "stderr",
     "output_type": "stream",
     "text": [
      "/Users/Maxwell/anaconda/lib/python3.5/site-packages/scipy/optimize/zeros.py:173: RuntimeWarning: Tolerance of -0.00152581934372 reached\n  warnings.warn(msg, RuntimeWarning)\n/Users/Maxwell/anaconda/lib/python3.5/site-packages/scipy/optimize/zeros.py:173: RuntimeWarning: Tolerance of -6136761.33464 reached\n  warnings.warn(msg, RuntimeWarning)\n/Users/Maxwell/anaconda/lib/python3.5/site-packages/scipy/optimize/zeros.py:173: RuntimeWarning: Tolerance of -3.13025982498e-05 reached\n  warnings.warn(msg, RuntimeWarning)\n/Users/Maxwell/anaconda/lib/python3.5/site-packages/scipy/optimize/zeros.py:173: RuntimeWarning: Tolerance of -0.00927964191539 reached\n  warnings.warn(msg, RuntimeWarning)\n/Users/Maxwell/anaconda/lib/python3.5/site-packages/scipy/optimize/zeros.py:173: RuntimeWarning: Tolerance of -0.00251498453844 reached\n  warnings.warn(msg, RuntimeWarning)\n"
     ]
    },
    {
     "name": "stderr",
     "output_type": "stream",
     "text": [
      "/Users/Maxwell/anaconda/lib/python3.5/site-packages/scipy/optimize/zeros.py:173: RuntimeWarning: Tolerance of 186024.521259 reached\n  warnings.warn(msg, RuntimeWarning)\n/Users/Maxwell/anaconda/lib/python3.5/site-packages/scipy/optimize/zeros.py:173: RuntimeWarning: Tolerance of -7447.57137102 reached\n  warnings.warn(msg, RuntimeWarning)\n"
     ]
    },
    {
     "name": "stderr",
     "output_type": "stream",
     "text": [
      "/Users/Maxwell/anaconda/lib/python3.5/site-packages/scipy/optimize/zeros.py:173: RuntimeWarning: Tolerance of -2.32310937063e-06 reached\n  warnings.warn(msg, RuntimeWarning)\n/Users/Maxwell/anaconda/lib/python3.5/site-packages/scipy/optimize/zeros.py:173: RuntimeWarning: Tolerance of -100.337433189 reached\n  warnings.warn(msg, RuntimeWarning)\n/Users/Maxwell/anaconda/lib/python3.5/site-packages/scipy/optimize/zeros.py:173: RuntimeWarning: Tolerance of -0.00765624213372 reached\n  warnings.warn(msg, RuntimeWarning)\n/Users/Maxwell/anaconda/lib/python3.5/site-packages/scipy/optimize/zeros.py:173: RuntimeWarning: Tolerance of -0.000106972020724 reached\n  warnings.warn(msg, RuntimeWarning)\n/Users/Maxwell/anaconda/lib/python3.5/site-packages/scipy/optimize/zeros.py:173: RuntimeWarning: Tolerance of 359171.979179 reached\n  warnings.warn(msg, RuntimeWarning)\n/Users/Maxwell/anaconda/lib/python3.5/site-packages/scipy/optimize/zeros.py:173: RuntimeWarning: Tolerance of 286005.457133 reached\n  warnings.warn(msg, RuntimeWarning)\n/Users/Maxwell/anaconda/lib/python3.5/site-packages/scipy/optimize/zeros.py:173: RuntimeWarning: Tolerance of -0.000361374125148 reached\n  warnings.warn(msg, RuntimeWarning)\n/Users/Maxwell/anaconda/lib/python3.5/site-packages/scipy/optimize/zeros.py:173: RuntimeWarning: Tolerance of -0.000327180528215 reached\n  warnings.warn(msg, RuntimeWarning)\n/Users/Maxwell/anaconda/lib/python3.5/site-packages/scipy/optimize/zeros.py:173: RuntimeWarning: Tolerance of 4112537.57426 reached\n  warnings.warn(msg, RuntimeWarning)\n/Users/Maxwell/anaconda/lib/python3.5/site-packages/scipy/optimize/zeros.py:173: RuntimeWarning: Tolerance of -355.861938608 reached\n  warnings.warn(msg, RuntimeWarning)\n"
     ]
    },
    {
     "name": "stderr",
     "output_type": "stream",
     "text": [
      "/Users/Maxwell/anaconda/lib/python3.5/site-packages/scipy/optimize/zeros.py:173: RuntimeWarning: Tolerance of -3.82742520832e+13 reached\n  warnings.warn(msg, RuntimeWarning)\n"
     ]
    },
    {
     "name": "stderr",
     "output_type": "stream",
     "text": [
      "/Users/Maxwell/anaconda/lib/python3.5/site-packages/scipy/optimize/zeros.py:173: RuntimeWarning: Tolerance of -0.0028158251272 reached\n  warnings.warn(msg, RuntimeWarning)\n/Users/Maxwell/anaconda/lib/python3.5/site-packages/scipy/optimize/zeros.py:173: RuntimeWarning: Tolerance of -3.92152329385e-05 reached\n  warnings.warn(msg, RuntimeWarning)\n/Users/Maxwell/anaconda/lib/python3.5/site-packages/scipy/optimize/zeros.py:173: RuntimeWarning: Tolerance of 6098927.89509 reached\n  warnings.warn(msg, RuntimeWarning)\n"
     ]
    },
    {
     "name": "stderr",
     "output_type": "stream",
     "text": [
      "/Users/Maxwell/anaconda/lib/python3.5/site-packages/scipy/optimize/zeros.py:173: RuntimeWarning: Tolerance of -0.00635557743559 reached\n  warnings.warn(msg, RuntimeWarning)\n/Users/Maxwell/anaconda/lib/python3.5/site-packages/scipy/optimize/zeros.py:173: RuntimeWarning: Tolerance of 8045070.49444 reached\n  warnings.warn(msg, RuntimeWarning)\n"
     ]
    },
    {
     "name": "stderr",
     "output_type": "stream",
     "text": [
      "/Users/Maxwell/anaconda/lib/python3.5/site-packages/scipy/optimize/zeros.py:173: RuntimeWarning: Tolerance of 137689468.996 reached\n  warnings.warn(msg, RuntimeWarning)\n/Users/Maxwell/anaconda/lib/python3.5/site-packages/scipy/optimize/zeros.py:173: RuntimeWarning: Tolerance of 129992220.654 reached\n  warnings.warn(msg, RuntimeWarning)\n"
     ]
    },
    {
     "name": "stderr",
     "output_type": "stream",
     "text": [
      "/Users/Maxwell/anaconda/lib/python3.5/site-packages/scipy/optimize/zeros.py:173: RuntimeWarning: Tolerance of -2.90194343394e+20 reached\n  warnings.warn(msg, RuntimeWarning)\n/Users/Maxwell/anaconda/lib/python3.5/site-packages/scipy/optimize/zeros.py:173: RuntimeWarning: Tolerance of 10496700.4482 reached\n  warnings.warn(msg, RuntimeWarning)\n"
     ]
    },
    {
     "name": "stderr",
     "output_type": "stream",
     "text": [
      "/Users/Maxwell/anaconda/lib/python3.5/site-packages/scipy/optimize/zeros.py:173: RuntimeWarning: Tolerance of 2424054853.21 reached\n  warnings.warn(msg, RuntimeWarning)\n/Users/Maxwell/anaconda/lib/python3.5/site-packages/scipy/optimize/zeros.py:173: RuntimeWarning: Tolerance of -15333.5067243 reached\n  warnings.warn(msg, RuntimeWarning)\n/Users/Maxwell/anaconda/lib/python3.5/site-packages/scipy/optimize/zeros.py:173: RuntimeWarning: Tolerance of -0.00957568177593 reached\n  warnings.warn(msg, RuntimeWarning)\n/Users/Maxwell/anaconda/lib/python3.5/site-packages/scipy/optimize/zeros.py:173: RuntimeWarning: Tolerance of -0.00067489540598 reached\n  warnings.warn(msg, RuntimeWarning)\n/Users/Maxwell/anaconda/lib/python3.5/site-packages/scipy/optimize/zeros.py:173: RuntimeWarning: Tolerance of 43101986873.9 reached\n  warnings.warn(msg, RuntimeWarning)\n/Users/Maxwell/anaconda/lib/python3.5/site-packages/scipy/optimize/zeros.py:173: RuntimeWarning: Tolerance of -0.00225417798927 reached\n  warnings.warn(msg, RuntimeWarning)\n/Users/Maxwell/anaconda/lib/python3.5/site-packages/scipy/optimize/zeros.py:173: RuntimeWarning: Tolerance of 2234908.33974 reached\n  warnings.warn(msg, RuntimeWarning)\n"
     ]
    },
    {
     "name": "stderr",
     "output_type": "stream",
     "text": [
      "/Users/Maxwell/anaconda/lib/python3.5/site-packages/scipy/optimize/zeros.py:173: RuntimeWarning: Tolerance of 1728058524.82 reached\n  warnings.warn(msg, RuntimeWarning)\n/Users/Maxwell/anaconda/lib/python3.5/site-packages/scipy/optimize/zeros.py:173: RuntimeWarning: Tolerance of -7572500.23242 reached\n  warnings.warn(msg, RuntimeWarning)\n"
     ]
    },
    {
     "name": "stderr",
     "output_type": "stream",
     "text": [
      "/Users/Maxwell/anaconda/lib/python3.5/site-packages/scipy/optimize/zeros.py:173: RuntimeWarning: Tolerance of 249811.802901 reached\n  warnings.warn(msg, RuntimeWarning)\n/Users/Maxwell/anaconda/lib/python3.5/site-packages/scipy/optimize/zeros.py:173: RuntimeWarning: Tolerance of 24997991842.1 reached\n  warnings.warn(msg, RuntimeWarning)\n"
     ]
    },
    {
     "name": "stdout",
     "output_type": "stream",
     "text": [
      "This is the test result for initial point sigma 0.70, initial iteration 2 times:\n                log_accuracy          MSE  Time(hh:mm:ss)\nbrentq               4.30646   0.00100102  0:00:04.754577\nbrenth               4.30646   0.00100102  0:00:04.859450\nridder               4.30646   0.00100102  0:00:06.682021\nscipy_newton         4.12553  7.79877e+37  0:00:03.096379\nbisection            4.30646   0.00100102  0:00:46.011604\nmullerBisection      4.30646   0.00100102  0:00:29.453186\nnewton               4.19757  2.05935e+42  0:00:04.957575\nhalley                3.7735   0.00167653  0:00:02.077914\nnew_newton           2.99799          inf  0:00:11.179333\nnew_halley           4.04513  1.89652e+32  0:00:07.719532\n\n\n"
     ]
    },
    {
     "name": "stderr",
     "output_type": "stream",
     "text": [
      "/Users/Maxwell/anaconda/lib/python3.5/site-packages/scipy/optimize/zeros.py:173: RuntimeWarning: Tolerance of 30206.817939 reached\n  warnings.warn(msg, RuntimeWarning)\n"
     ]
    },
    {
     "name": "stderr",
     "output_type": "stream",
     "text": [
      "/Users/Maxwell/anaconda/lib/python3.5/site-packages/scipy/optimize/zeros.py:173: RuntimeWarning: Tolerance of -0.00140365416065 reached\n  warnings.warn(msg, RuntimeWarning)\n/Users/Maxwell/anaconda/lib/python3.5/site-packages/scipy/optimize/zeros.py:173: RuntimeWarning: Tolerance of 99589.5899029 reached\n  warnings.warn(msg, RuntimeWarning)\n/Users/Maxwell/anaconda/lib/python3.5/site-packages/scipy/optimize/zeros.py:173: RuntimeWarning: Tolerance of -110672.651969 reached\n  warnings.warn(msg, RuntimeWarning)\n/Users/Maxwell/anaconda/lib/python3.5/site-packages/scipy/optimize/zeros.py:173: RuntimeWarning: Tolerance of -0.0079074565165 reached\n  warnings.warn(msg, RuntimeWarning)\n/Users/Maxwell/anaconda/lib/python3.5/site-packages/scipy/optimize/zeros.py:173: RuntimeWarning: Tolerance of -0.00233761232178 reached\n  warnings.warn(msg, RuntimeWarning)\n"
     ]
    },
    {
     "name": "stderr",
     "output_type": "stream",
     "text": [
      "/Users/Maxwell/anaconda/lib/python3.5/site-packages/scipy/optimize/zeros.py:173: RuntimeWarning: Tolerance of 5346422.94494 reached\n  warnings.warn(msg, RuntimeWarning)\n/Users/Maxwell/anaconda/lib/python3.5/site-packages/scipy/optimize/zeros.py:173: RuntimeWarning: Tolerance of 406416.679361 reached\n  warnings.warn(msg, RuntimeWarning)\n"
     ]
    },
    {
     "name": "stderr",
     "output_type": "stream",
     "text": [
      "/Users/Maxwell/anaconda/lib/python3.5/site-packages/scipy/optimize/zeros.py:173: RuntimeWarning: Tolerance of -123139.257949 reached\n  warnings.warn(msg, RuntimeWarning)\n/Users/Maxwell/anaconda/lib/python3.5/site-packages/scipy/optimize/zeros.py:173: RuntimeWarning: Tolerance of -277.380683233 reached\n  warnings.warn(msg, RuntimeWarning)\n/Users/Maxwell/anaconda/lib/python3.5/site-packages/scipy/optimize/zeros.py:173: RuntimeWarning: Tolerance of -26.0951465699 reached\n  warnings.warn(msg, RuntimeWarning)\n/Users/Maxwell/anaconda/lib/python3.5/site-packages/scipy/optimize/zeros.py:173: RuntimeWarning: Tolerance of 8693324.75755 reached\n  warnings.warn(msg, RuntimeWarning)\n/Users/Maxwell/anaconda/lib/python3.5/site-packages/scipy/optimize/zeros.py:173: RuntimeWarning: Tolerance of 36915038.8821 reached\n  warnings.warn(msg, RuntimeWarning)\n/Users/Maxwell/anaconda/lib/python3.5/site-packages/scipy/optimize/zeros.py:173: RuntimeWarning: Tolerance of 263261286.288 reached\n  warnings.warn(msg, RuntimeWarning)\n/Users/Maxwell/anaconda/lib/python3.5/site-packages/scipy/optimize/zeros.py:173: RuntimeWarning: Tolerance of 15021279.0522 reached\n  warnings.warn(msg, RuntimeWarning)\n/Users/Maxwell/anaconda/lib/python3.5/site-packages/scipy/optimize/zeros.py:173: RuntimeWarning: Tolerance of -0.00486873655925 reached\n  warnings.warn(msg, RuntimeWarning)\n/Users/Maxwell/anaconda/lib/python3.5/site-packages/scipy/optimize/zeros.py:173: RuntimeWarning: Tolerance of -0.000435923609033 reached\n  warnings.warn(msg, RuntimeWarning)\n/Users/Maxwell/anaconda/lib/python3.5/site-packages/scipy/optimize/zeros.py:173: RuntimeWarning: Tolerance of -0.00029326926059 reached\n  warnings.warn(msg, RuntimeWarning)\n/Users/Maxwell/anaconda/lib/python3.5/site-packages/scipy/optimize/zeros.py:173: RuntimeWarning: Tolerance of -0.000404536763467 reached\n  warnings.warn(msg, RuntimeWarning)\n"
     ]
    },
    {
     "name": "stderr",
     "output_type": "stream",
     "text": [
      "/Users/Maxwell/anaconda/lib/python3.5/site-packages/scipy/optimize/zeros.py:173: RuntimeWarning: Tolerance of 20701.4071862 reached\n  warnings.warn(msg, RuntimeWarning)\n"
     ]
    },
    {
     "name": "stderr",
     "output_type": "stream",
     "text": [
      "/Users/Maxwell/anaconda/lib/python3.5/site-packages/scipy/optimize/zeros.py:173: RuntimeWarning: Tolerance of -0.00281073030297 reached\n  warnings.warn(msg, RuntimeWarning)\n/Users/Maxwell/anaconda/lib/python3.5/site-packages/scipy/optimize/zeros.py:173: RuntimeWarning: Tolerance of -4.4438422429e-05 reached\n  warnings.warn(msg, RuntimeWarning)\n/Users/Maxwell/anaconda/lib/python3.5/site-packages/scipy/optimize/zeros.py:173: RuntimeWarning: Tolerance of -466339.323522 reached\n  warnings.warn(msg, RuntimeWarning)\n"
     ]
    },
    {
     "name": "stderr",
     "output_type": "stream",
     "text": [
      "/Users/Maxwell/anaconda/lib/python3.5/site-packages/scipy/optimize/zeros.py:173: RuntimeWarning: Tolerance of 356201293623.0 reached\n  warnings.warn(msg, RuntimeWarning)\n/Users/Maxwell/anaconda/lib/python3.5/site-packages/scipy/optimize/zeros.py:173: RuntimeWarning: Tolerance of 5915795.75384 reached\n  warnings.warn(msg, RuntimeWarning)\n"
     ]
    },
    {
     "name": "stderr",
     "output_type": "stream",
     "text": [
      "/Users/Maxwell/anaconda/lib/python3.5/site-packages/scipy/optimize/zeros.py:173: RuntimeWarning: Tolerance of -129155.088127 reached\n  warnings.warn(msg, RuntimeWarning)\n"
     ]
    },
    {
     "name": "stderr",
     "output_type": "stream",
     "text": [
      "/Users/Maxwell/anaconda/lib/python3.5/site-packages/scipy/optimize/zeros.py:173: RuntimeWarning: Tolerance of -0.000293313068513 reached\n  warnings.warn(msg, RuntimeWarning)\n/Users/Maxwell/anaconda/lib/python3.5/site-packages/scipy/optimize/zeros.py:173: RuntimeWarning: Tolerance of 0.00706832710492 reached\n  warnings.warn(msg, RuntimeWarning)\n/Users/Maxwell/anaconda/lib/python3.5/site-packages/scipy/optimize/zeros.py:173: RuntimeWarning: Tolerance of -0.000509073860616 reached\n  warnings.warn(msg, RuntimeWarning)\n"
     ]
    },
    {
     "name": "stderr",
     "output_type": "stream",
     "text": [
      "/Users/Maxwell/anaconda/lib/python3.5/site-packages/scipy/optimize/zeros.py:173: RuntimeWarning: Tolerance of -0.00611044455416 reached\n  warnings.warn(msg, RuntimeWarning)\n"
     ]
    },
    {
     "name": "stderr",
     "output_type": "stream",
     "text": [
      "/Users/Maxwell/anaconda/lib/python3.5/site-packages/scipy/optimize/zeros.py:173: RuntimeWarning: Tolerance of -0.0101302367913 reached\n  warnings.warn(msg, RuntimeWarning)\n/Users/Maxwell/anaconda/lib/python3.5/site-packages/scipy/optimize/zeros.py:173: RuntimeWarning: Tolerance of -497.191709026 reached\n  warnings.warn(msg, RuntimeWarning)\n/Users/Maxwell/anaconda/lib/python3.5/site-packages/scipy/optimize/zeros.py:173: RuntimeWarning: Tolerance of 27189045593.7 reached\n  warnings.warn(msg, RuntimeWarning)\n/Users/Maxwell/anaconda/lib/python3.5/site-packages/scipy/optimize/zeros.py:173: RuntimeWarning: Tolerance of 28234.2870879 reached\n  warnings.warn(msg, RuntimeWarning)\n/Users/Maxwell/anaconda/lib/python3.5/site-packages/scipy/optimize/zeros.py:173: RuntimeWarning: Tolerance of 19198755737.3 reached\n  warnings.warn(msg, RuntimeWarning)\n/Users/Maxwell/anaconda/lib/python3.5/site-packages/scipy/optimize/zeros.py:173: RuntimeWarning: Tolerance of 44753124618.2 reached\n  warnings.warn(msg, RuntimeWarning)\n/Users/Maxwell/anaconda/lib/python3.5/site-packages/scipy/optimize/zeros.py:173: RuntimeWarning: Tolerance of 231821943.814 reached\n  warnings.warn(msg, RuntimeWarning)\n"
     ]
    },
    {
     "name": "stderr",
     "output_type": "stream",
     "text": [
      "/Users/Maxwell/anaconda/lib/python3.5/site-packages/scipy/optimize/zeros.py:173: RuntimeWarning: Tolerance of 860367.818087 reached\n  warnings.warn(msg, RuntimeWarning)\n/Users/Maxwell/anaconda/lib/python3.5/site-packages/scipy/optimize/zeros.py:173: RuntimeWarning: Tolerance of -4907.94811941 reached\n  warnings.warn(msg, RuntimeWarning)\n"
     ]
    },
    {
     "name": "stderr",
     "output_type": "stream",
     "text": [
      "/Users/Maxwell/anaconda/lib/python3.5/site-packages/scipy/optimize/zeros.py:173: RuntimeWarning: Tolerance of -0.00141053516136 reached\n  warnings.warn(msg, RuntimeWarning)\n/Users/Maxwell/anaconda/lib/python3.5/site-packages/scipy/optimize/zeros.py:173: RuntimeWarning: Tolerance of -27146.1740144 reached\n  warnings.warn(msg, RuntimeWarning)\n"
     ]
    },
    {
     "name": "stdout",
     "output_type": "stream",
     "text": [
      "This is the test result for initial point sigma 1.00, initial iteration 2 times:\n                log_accuracy           MSE  Time(hh:mm:ss)\nbrentq               4.30646    0.00100102  0:00:05.454724\nbrenth               4.30646    0.00100102  0:00:05.174579\nridder               4.30646    0.00100102  0:00:07.192239\nscipy_newton         4.13935   1.40374e+19  0:00:03.112649\nbisection            4.30646    0.00100102  0:00:47.454981\nmullerBisection      4.30646    0.00100102  0:00:32.997593\nnewton               4.12668  1.55421e+181  0:00:03.522659\nhalley               3.64457    0.00281198  0:00:02.081457\nnew_newton           2.99799           inf  0:00:09.714030\nnew_halley           4.04513   1.89652e+32  0:00:08.218844\n\n\n"
     ]
    },
    {
     "name": "stderr",
     "output_type": "stream",
     "text": [
      "/Users/Maxwell/anaconda/lib/python3.5/site-packages/scipy/optimize/zeros.py:173: RuntimeWarning: Tolerance of -0.00223806288895 reached\n  warnings.warn(msg, RuntimeWarning)\n"
     ]
    },
    {
     "name": "stderr",
     "output_type": "stream",
     "text": [
      "/Users/Maxwell/anaconda/lib/python3.5/site-packages/scipy/optimize/zeros.py:173: RuntimeWarning: Tolerance of -0.00139842789295 reached\n  warnings.warn(msg, RuntimeWarning)\n/Users/Maxwell/anaconda/lib/python3.5/site-packages/scipy/optimize/zeros.py:173: RuntimeWarning: Tolerance of -0.00588311513984 reached\n  warnings.warn(msg, RuntimeWarning)\n/Users/Maxwell/anaconda/lib/python3.5/site-packages/scipy/optimize/zeros.py:173: RuntimeWarning: Tolerance of -757.568115372 reached\n  warnings.warn(msg, RuntimeWarning)\n/Users/Maxwell/anaconda/lib/python3.5/site-packages/scipy/optimize/zeros.py:173: RuntimeWarning: Tolerance of 1970546.95176 reached\n  warnings.warn(msg, RuntimeWarning)\n/Users/Maxwell/anaconda/lib/python3.5/site-packages/scipy/optimize/zeros.py:173: RuntimeWarning: Tolerance of -0.00230081143326 reached\n  warnings.warn(msg, RuntimeWarning)\n"
     ]
    },
    {
     "name": "stderr",
     "output_type": "stream",
     "text": [
      "/Users/Maxwell/anaconda/lib/python3.5/site-packages/scipy/optimize/zeros.py:173: RuntimeWarning: Tolerance of 9710393054.55 reached\n  warnings.warn(msg, RuntimeWarning)\n/Users/Maxwell/anaconda/lib/python3.5/site-packages/scipy/optimize/zeros.py:173: RuntimeWarning: Tolerance of -0.00679811571742 reached\n  warnings.warn(msg, RuntimeWarning)\n"
     ]
    },
    {
     "name": "stderr",
     "output_type": "stream",
     "text": [
      "/Users/Maxwell/anaconda/lib/python3.5/site-packages/scipy/optimize/zeros.py:173: RuntimeWarning: Tolerance of -3481.07213298 reached\n  warnings.warn(msg, RuntimeWarning)\n/Users/Maxwell/anaconda/lib/python3.5/site-packages/scipy/optimize/zeros.py:173: RuntimeWarning: Tolerance of -207.368724175 reached\n  warnings.warn(msg, RuntimeWarning)\n/Users/Maxwell/anaconda/lib/python3.5/site-packages/scipy/optimize/zeros.py:173: RuntimeWarning: Tolerance of 426.336486637 reached\n  warnings.warn(msg, RuntimeWarning)\n/Users/Maxwell/anaconda/lib/python3.5/site-packages/scipy/optimize/zeros.py:173: RuntimeWarning: Tolerance of -18562.5079732 reached\n  warnings.warn(msg, RuntimeWarning)\n/Users/Maxwell/anaconda/lib/python3.5/site-packages/scipy/optimize/zeros.py:173: RuntimeWarning: Tolerance of -0.00678227539576 reached\n  warnings.warn(msg, RuntimeWarning)\n/Users/Maxwell/anaconda/lib/python3.5/site-packages/scipy/optimize/zeros.py:173: RuntimeWarning: Tolerance of 663814486.849 reached\n  warnings.warn(msg, RuntimeWarning)\n/Users/Maxwell/anaconda/lib/python3.5/site-packages/scipy/optimize/zeros.py:173: RuntimeWarning: Tolerance of 397130802.78 reached\n  warnings.warn(msg, RuntimeWarning)\n/Users/Maxwell/anaconda/lib/python3.5/site-packages/scipy/optimize/zeros.py:173: RuntimeWarning: Tolerance of -0.00474363257215 reached\n  warnings.warn(msg, RuntimeWarning)\n/Users/Maxwell/anaconda/lib/python3.5/site-packages/scipy/optimize/zeros.py:173: RuntimeWarning: Tolerance of -0.000438710735798 reached\n  warnings.warn(msg, RuntimeWarning)\n/Users/Maxwell/anaconda/lib/python3.5/site-packages/scipy/optimize/zeros.py:173: RuntimeWarning: Tolerance of -0.000298210277503 reached\n  warnings.warn(msg, RuntimeWarning)\n/Users/Maxwell/anaconda/lib/python3.5/site-packages/scipy/optimize/zeros.py:173: RuntimeWarning: Tolerance of -0.00605516568416 reached\n  warnings.warn(msg, RuntimeWarning)\n"
     ]
    },
    {
     "name": "stderr",
     "output_type": "stream",
     "text": [
      "/Users/Maxwell/anaconda/lib/python3.5/site-packages/scipy/optimize/zeros.py:173: RuntimeWarning: Tolerance of -2.73473584072e+13 reached\n  warnings.warn(msg, RuntimeWarning)\n"
     ]
    },
    {
     "name": "stderr",
     "output_type": "stream",
     "text": [
      "/Users/Maxwell/anaconda/lib/python3.5/site-packages/scipy/optimize/zeros.py:173: RuntimeWarning: Tolerance of -0.00219381260194 reached\n  warnings.warn(msg, RuntimeWarning)\n/Users/Maxwell/anaconda/lib/python3.5/site-packages/scipy/optimize/zeros.py:173: RuntimeWarning: Tolerance of -4.3511886288e-05 reached\n  warnings.warn(msg, RuntimeWarning)\n/Users/Maxwell/anaconda/lib/python3.5/site-packages/scipy/optimize/zeros.py:173: RuntimeWarning: Tolerance of -9.13514464928e+14 reached\n  warnings.warn(msg, RuntimeWarning)\n"
     ]
    },
    {
     "name": "stderr",
     "output_type": "stream",
     "text": [
      "/Users/Maxwell/anaconda/lib/python3.5/site-packages/scipy/optimize/zeros.py:173: RuntimeWarning: Tolerance of 12163446.5957 reached\n  warnings.warn(msg, RuntimeWarning)\n/Users/Maxwell/anaconda/lib/python3.5/site-packages/scipy/optimize/zeros.py:173: RuntimeWarning: Tolerance of 38209228369.4 reached\n  warnings.warn(msg, RuntimeWarning)\n"
     ]
    },
    {
     "name": "stderr",
     "output_type": "stream",
     "text": [
      "/Users/Maxwell/anaconda/lib/python3.5/site-packages/scipy/optimize/zeros.py:173: RuntimeWarning: Tolerance of -499013843.19 reached\n  warnings.warn(msg, RuntimeWarning)\n"
     ]
    },
    {
     "name": "stderr",
     "output_type": "stream",
     "text": [
      "/Users/Maxwell/anaconda/lib/python3.5/site-packages/scipy/optimize/zeros.py:173: RuntimeWarning: Tolerance of 448415532.675 reached\n  warnings.warn(msg, RuntimeWarning)\n/Users/Maxwell/anaconda/lib/python3.5/site-packages/scipy/optimize/zeros.py:173: RuntimeWarning: Tolerance of -244.770847796 reached\n  warnings.warn(msg, RuntimeWarning)\n"
     ]
    },
    {
     "name": "stderr",
     "output_type": "stream",
     "text": [
      "/Users/Maxwell/anaconda/lib/python3.5/site-packages/scipy/optimize/zeros.py:173: RuntimeWarning: Tolerance of -41852.2839074 reached\n  warnings.warn(msg, RuntimeWarning)\n/Users/Maxwell/anaconda/lib/python3.5/site-packages/scipy/optimize/zeros.py:173: RuntimeWarning: Tolerance of -42757327708.9 reached\n  warnings.warn(msg, RuntimeWarning)\n/Users/Maxwell/anaconda/lib/python3.5/site-packages/scipy/optimize/zeros.py:173: RuntimeWarning: Tolerance of 0.00398725052048 reached\n  warnings.warn(msg, RuntimeWarning)\n"
     ]
    },
    {
     "name": "stderr",
     "output_type": "stream",
     "text": [
      "/Users/Maxwell/anaconda/lib/python3.5/site-packages/scipy/optimize/zeros.py:173: RuntimeWarning: Tolerance of 50589.0793399 reached\n  warnings.warn(msg, RuntimeWarning)\n/Users/Maxwell/anaconda/lib/python3.5/site-packages/scipy/optimize/zeros.py:173: RuntimeWarning: Tolerance of -1765.40165702 reached\n  warnings.warn(msg, RuntimeWarning)\n/Users/Maxwell/anaconda/lib/python3.5/site-packages/scipy/optimize/zeros.py:173: RuntimeWarning: Tolerance of 385726.878727 reached\n  warnings.warn(msg, RuntimeWarning)\n/Users/Maxwell/anaconda/lib/python3.5/site-packages/scipy/optimize/zeros.py:173: RuntimeWarning: Tolerance of -177.140296262 reached\n  warnings.warn(msg, RuntimeWarning)\n/Users/Maxwell/anaconda/lib/python3.5/site-packages/scipy/optimize/zeros.py:173: RuntimeWarning: Tolerance of 52753266236.8 reached\n  warnings.warn(msg, RuntimeWarning)\n/Users/Maxwell/anaconda/lib/python3.5/site-packages/scipy/optimize/zeros.py:173: RuntimeWarning: Tolerance of -21375604227.1 reached\n  warnings.warn(msg, RuntimeWarning)\n"
     ]
    },
    {
     "name": "stderr",
     "output_type": "stream",
     "text": [
      "/Users/Maxwell/anaconda/lib/python3.5/site-packages/scipy/optimize/zeros.py:173: RuntimeWarning: Tolerance of -0.00157758562563 reached\n  warnings.warn(msg, RuntimeWarning)\n/Users/Maxwell/anaconda/lib/python3.5/site-packages/scipy/optimize/zeros.py:173: RuntimeWarning: Tolerance of -0.00354550691571 reached\n  warnings.warn(msg, RuntimeWarning)\n/Users/Maxwell/anaconda/lib/python3.5/site-packages/scipy/optimize/zeros.py:173: RuntimeWarning: Tolerance of 10184488317.7 reached\n  warnings.warn(msg, RuntimeWarning)\n"
     ]
    },
    {
     "name": "stderr",
     "output_type": "stream",
     "text": [
      "/Users/Maxwell/anaconda/lib/python3.5/site-packages/scipy/optimize/zeros.py:173: RuntimeWarning: Tolerance of -0.0117091067058 reached\n  warnings.warn(msg, RuntimeWarning)\n/Users/Maxwell/anaconda/lib/python3.5/site-packages/scipy/optimize/zeros.py:173: RuntimeWarning: Tolerance of -0.002254967753 reached\n  warnings.warn(msg, RuntimeWarning)\n"
     ]
    },
    {
     "name": "stdout",
     "output_type": "stream",
     "text": [
      "This is the test result for initial point sigma 1.50, initial iteration 2 times:\n                log_accuracy          MSE  Time(hh:mm:ss)\nbrentq               4.30646   0.00100102  0:00:05.647502\nbrenth               4.30646   0.00100102  0:00:05.542619\nridder               4.30646   0.00100102  0:00:07.476965\nscipy_newton         4.12278   7.8153e+26  0:00:03.400522\nbisection            4.30646   0.00100102  0:00:46.084511\nmullerBisection      4.30646   0.00100102  0:00:32.090494\nnewton                4.0716  6.79605e+19  0:00:03.444403\nhalley               3.56188   0.00490749  0:00:02.209151\nnew_newton           2.99799          inf  0:00:10.153598\nnew_halley           4.04513  1.89652e+32  0:00:08.694541\n\n\n"
     ]
    },
    {
     "name": "stderr",
     "output_type": "stream",
     "text": [
      "/Users/Maxwell/anaconda/lib/python3.5/site-packages/scipy/optimize/zeros.py:173: RuntimeWarning: Tolerance of -0.00578489594169 reached\n  warnings.warn(msg, RuntimeWarning)\n"
     ]
    },
    {
     "name": "stderr",
     "output_type": "stream",
     "text": [
      "/Users/Maxwell/anaconda/lib/python3.5/site-packages/scipy/optimize/zeros.py:173: RuntimeWarning: Tolerance of -0.00145182774427 reached\n  warnings.warn(msg, RuntimeWarning)\n/Users/Maxwell/anaconda/lib/python3.5/site-packages/scipy/optimize/zeros.py:173: RuntimeWarning: Tolerance of -0.000374648302569 reached\n  warnings.warn(msg, RuntimeWarning)\n/Users/Maxwell/anaconda/lib/python3.5/site-packages/scipy/optimize/zeros.py:173: RuntimeWarning: Tolerance of -0.00259964809779 reached\n  warnings.warn(msg, RuntimeWarning)\n/Users/Maxwell/anaconda/lib/python3.5/site-packages/scipy/optimize/zeros.py:173: RuntimeWarning: Tolerance of 870019.539598 reached\n  warnings.warn(msg, RuntimeWarning)\n/Users/Maxwell/anaconda/lib/python3.5/site-packages/scipy/optimize/zeros.py:173: RuntimeWarning: Tolerance of -0.00235160800279 reached\n  warnings.warn(msg, RuntimeWarning)\n"
     ]
    },
    {
     "name": "stderr",
     "output_type": "stream",
     "text": [
      "/Users/Maxwell/anaconda/lib/python3.5/site-packages/scipy/optimize/zeros.py:173: RuntimeWarning: Tolerance of -0.00475232211222 reached\n  warnings.warn(msg, RuntimeWarning)\n/Users/Maxwell/anaconda/lib/python3.5/site-packages/scipy/optimize/zeros.py:173: RuntimeWarning: Tolerance of 262695.970302 reached\n  warnings.warn(msg, RuntimeWarning)\n"
     ]
    },
    {
     "name": "stderr",
     "output_type": "stream",
     "text": [
      "/Users/Maxwell/anaconda/lib/python3.5/site-packages/scipy/optimize/zeros.py:173: RuntimeWarning: Tolerance of -0.0257743880366 reached\n  warnings.warn(msg, RuntimeWarning)\n/Users/Maxwell/anaconda/lib/python3.5/site-packages/scipy/optimize/zeros.py:173: RuntimeWarning: Tolerance of -1969.45765754 reached\n  warnings.warn(msg, RuntimeWarning)\n/Users/Maxwell/anaconda/lib/python3.5/site-packages/scipy/optimize/zeros.py:173: RuntimeWarning: Tolerance of -43.2195022154 reached\n  warnings.warn(msg, RuntimeWarning)\n/Users/Maxwell/anaconda/lib/python3.5/site-packages/scipy/optimize/zeros.py:173: RuntimeWarning: Tolerance of -8570.34792496 reached\n  warnings.warn(msg, RuntimeWarning)\n/Users/Maxwell/anaconda/lib/python3.5/site-packages/scipy/optimize/zeros.py:173: RuntimeWarning: Tolerance of -0.00683043299641 reached\n  warnings.warn(msg, RuntimeWarning)\n/Users/Maxwell/anaconda/lib/python3.5/site-packages/scipy/optimize/zeros.py:173: RuntimeWarning: Tolerance of 12737829890.3 reached\n  warnings.warn(msg, RuntimeWarning)\n/Users/Maxwell/anaconda/lib/python3.5/site-packages/scipy/optimize/zeros.py:173: RuntimeWarning: Tolerance of -0.00036746049966 reached\n  warnings.warn(msg, RuntimeWarning)\n/Users/Maxwell/anaconda/lib/python3.5/site-packages/scipy/optimize/zeros.py:173: RuntimeWarning: Tolerance of -0.00487648892873 reached\n  warnings.warn(msg, RuntimeWarning)\n/Users/Maxwell/anaconda/lib/python3.5/site-packages/scipy/optimize/zeros.py:173: RuntimeWarning: Tolerance of -0.000455026848668 reached\n  warnings.warn(msg, RuntimeWarning)\n/Users/Maxwell/anaconda/lib/python3.5/site-packages/scipy/optimize/zeros.py:173: RuntimeWarning: Tolerance of -0.000950175001836 reached\n  warnings.warn(msg, RuntimeWarning)\n/Users/Maxwell/anaconda/lib/python3.5/site-packages/scipy/optimize/zeros.py:173: RuntimeWarning: Tolerance of -488.630895299 reached\n  warnings.warn(msg, RuntimeWarning)\n"
     ]
    },
    {
     "name": "stderr",
     "output_type": "stream",
     "text": [
      "/Users/Maxwell/anaconda/lib/python3.5/site-packages/scipy/optimize/zeros.py:173: RuntimeWarning: Tolerance of 619.050447712 reached\n  warnings.warn(msg, RuntimeWarning)\n/Users/Maxwell/anaconda/lib/python3.5/site-packages/scipy/optimize/zeros.py:173: RuntimeWarning: Tolerance of 687.627366992 reached\n  warnings.warn(msg, RuntimeWarning)\n"
     ]
    },
    {
     "name": "stderr",
     "output_type": "stream",
     "text": [
      "/Users/Maxwell/anaconda/lib/python3.5/site-packages/scipy/optimize/zeros.py:173: RuntimeWarning: Tolerance of 7.23255298613e+13 reached\n  warnings.warn(msg, RuntimeWarning)\n/Users/Maxwell/anaconda/lib/python3.5/site-packages/scipy/optimize/zeros.py:173: RuntimeWarning: Tolerance of -0.000650129981909 reached\n  warnings.warn(msg, RuntimeWarning)\n/Users/Maxwell/anaconda/lib/python3.5/site-packages/scipy/optimize/zeros.py:173: RuntimeWarning: Tolerance of 2879801.44471 reached\n  warnings.warn(msg, RuntimeWarning)\n"
     ]
    },
    {
     "name": "stderr",
     "output_type": "stream",
     "text": [
      "/Users/Maxwell/anaconda/lib/python3.5/site-packages/scipy/optimize/zeros.py:173: RuntimeWarning: Tolerance of 2717301.29159 reached\n  warnings.warn(msg, RuntimeWarning)\n/Users/Maxwell/anaconda/lib/python3.5/site-packages/scipy/optimize/zeros.py:173: RuntimeWarning: Tolerance of -0.00739287699571 reached\n  warnings.warn(msg, RuntimeWarning)\n"
     ]
    },
    {
     "name": "stderr",
     "output_type": "stream",
     "text": [
      "/Users/Maxwell/anaconda/lib/python3.5/site-packages/scipy/optimize/zeros.py:173: RuntimeWarning: Tolerance of -0.00176945571858 reached\n  warnings.warn(msg, RuntimeWarning)\n"
     ]
    },
    {
     "name": "stderr",
     "output_type": "stream",
     "text": [
      "/Users/Maxwell/anaconda/lib/python3.5/site-packages/scipy/optimize/zeros.py:173: RuntimeWarning: Tolerance of -181.893269429 reached\n  warnings.warn(msg, RuntimeWarning)\n"
     ]
    },
    {
     "name": "stderr",
     "output_type": "stream",
     "text": [
      "/Users/Maxwell/anaconda/lib/python3.5/site-packages/scipy/optimize/zeros.py:173: RuntimeWarning: Tolerance of -0.00339261727868 reached\n  warnings.warn(msg, RuntimeWarning)\n/Users/Maxwell/anaconda/lib/python3.5/site-packages/scipy/optimize/zeros.py:173: RuntimeWarning: Tolerance of 25420.38511 reached\n  warnings.warn(msg, RuntimeWarning)\n"
     ]
    },
    {
     "name": "stderr",
     "output_type": "stream",
     "text": [
      "/Users/Maxwell/anaconda/lib/python3.5/site-packages/scipy/optimize/zeros.py:173: RuntimeWarning: Tolerance of 62655.4212323 reached\n  warnings.warn(msg, RuntimeWarning)\n/Users/Maxwell/anaconda/lib/python3.5/site-packages/scipy/optimize/zeros.py:173: RuntimeWarning: Tolerance of -0.00588690621404 reached\n  warnings.warn(msg, RuntimeWarning)\n/Users/Maxwell/anaconda/lib/python3.5/site-packages/scipy/optimize/zeros.py:173: RuntimeWarning: Tolerance of -3.05893869404e+17 reached\n  warnings.warn(msg, RuntimeWarning)\n/Users/Maxwell/anaconda/lib/python3.5/site-packages/scipy/optimize/zeros.py:173: RuntimeWarning: Tolerance of -215.477787733 reached\n  warnings.warn(msg, RuntimeWarning)\n/Users/Maxwell/anaconda/lib/python3.5/site-packages/scipy/optimize/zeros.py:173: RuntimeWarning: Tolerance of 338209464145.0 reached\n  warnings.warn(msg, RuntimeWarning)\n"
     ]
    },
    {
     "name": "stderr",
     "output_type": "stream",
     "text": [
      "/Users/Maxwell/anaconda/lib/python3.5/site-packages/scipy/optimize/zeros.py:173: RuntimeWarning: Tolerance of -469.258002546 reached\n  warnings.warn(msg, RuntimeWarning)\n/Users/Maxwell/anaconda/lib/python3.5/site-packages/scipy/optimize/zeros.py:173: RuntimeWarning: Tolerance of -0.00155573838512 reached\n  warnings.warn(msg, RuntimeWarning)\n/Users/Maxwell/anaconda/lib/python3.5/site-packages/scipy/optimize/zeros.py:173: RuntimeWarning: Tolerance of -0.000746037880526 reached\n  warnings.warn(msg, RuntimeWarning)\n/Users/Maxwell/anaconda/lib/python3.5/site-packages/scipy/optimize/zeros.py:173: RuntimeWarning: Tolerance of -0.000366334955399 reached\n  warnings.warn(msg, RuntimeWarning)\n"
     ]
    },
    {
     "name": "stderr",
     "output_type": "stream",
     "text": [
      "/Users/Maxwell/anaconda/lib/python3.5/site-packages/scipy/optimize/zeros.py:173: RuntimeWarning: Tolerance of -1659.42334933 reached\n  warnings.warn(msg, RuntimeWarning)\n/Users/Maxwell/anaconda/lib/python3.5/site-packages/scipy/optimize/zeros.py:173: RuntimeWarning: Tolerance of 6696672.53643 reached\n  warnings.warn(msg, RuntimeWarning)\n"
     ]
    },
    {
     "name": "stdout",
     "output_type": "stream",
     "text": [
      "This is the test result for initial point sigma 1.70, initial iteration 2 times:\n                log_accuracy           MSE  Time(hh:mm:ss)\nbrentq               4.30646    0.00100102  0:00:05.517597\nbrenth               4.30646    0.00100102  0:00:05.356964\nridder               4.30646    0.00100102  0:00:07.590569\nscipy_newton         4.17953   8.81086e+31  0:00:03.525623\nbisection            4.30646    0.00100102  0:00:45.482892\nmullerBisection      4.30646    0.00100102  0:00:31.875551\nnewton               3.53386  6.53992e+303  0:00:03.184325\nhalley               3.40933    0.00586908  0:00:02.171488\nnew_newton           2.99799           inf  0:00:09.790418\nnew_halley           4.04513   1.89652e+32  0:00:08.379797\n\n\n"
     ]
    },
    {
     "name": "stderr",
     "output_type": "stream",
     "text": [
      "/Users/Maxwell/anaconda/lib/python3.5/site-packages/scipy/optimize/zeros.py:173: RuntimeWarning: Tolerance of -4679649928.1 reached\n  warnings.warn(msg, RuntimeWarning)\n"
     ]
    },
    {
     "name": "stderr",
     "output_type": "stream",
     "text": [
      "/Users/Maxwell/anaconda/lib/python3.5/site-packages/scipy/optimize/zeros.py:173: RuntimeWarning: Tolerance of -0.00158392585457 reached\n  warnings.warn(msg, RuntimeWarning)\n/Users/Maxwell/anaconda/lib/python3.5/site-packages/scipy/optimize/zeros.py:173: RuntimeWarning: Tolerance of 61232334.1456 reached\n  warnings.warn(msg, RuntimeWarning)\n/Users/Maxwell/anaconda/lib/python3.5/site-packages/scipy/optimize/zeros.py:173: RuntimeWarning: Tolerance of 1987290288.09 reached\n  warnings.warn(msg, RuntimeWarning)\n/Users/Maxwell/anaconda/lib/python3.5/site-packages/scipy/optimize/zeros.py:173: RuntimeWarning: Tolerance of 1403714.99011 reached\n  warnings.warn(msg, RuntimeWarning)\n/Users/Maxwell/anaconda/lib/python3.5/site-packages/scipy/optimize/zeros.py:173: RuntimeWarning: Tolerance of -0.00249431612562 reached\n  warnings.warn(msg, RuntimeWarning)\n"
     ]
    },
    {
     "name": "stderr",
     "output_type": "stream",
     "text": [
      "/Users/Maxwell/anaconda/lib/python3.5/site-packages/scipy/optimize/zeros.py:173: RuntimeWarning: Tolerance of 297928.588004 reached\n  warnings.warn(msg, RuntimeWarning)\n/Users/Maxwell/anaconda/lib/python3.5/site-packages/scipy/optimize/zeros.py:173: RuntimeWarning: Tolerance of -26424024.6092 reached\n  warnings.warn(msg, RuntimeWarning)\n"
     ]
    },
    {
     "name": "stderr",
     "output_type": "stream",
     "text": [
      "/Users/Maxwell/anaconda/lib/python3.5/site-packages/scipy/optimize/zeros.py:173: RuntimeWarning: Tolerance of -11253.3680848 reached\n  warnings.warn(msg, RuntimeWarning)\n/Users/Maxwell/anaconda/lib/python3.5/site-packages/scipy/optimize/zeros.py:173: RuntimeWarning: Tolerance of 381.271727698 reached\n  warnings.warn(msg, RuntimeWarning)\n/Users/Maxwell/anaconda/lib/python3.5/site-packages/scipy/optimize/zeros.py:173: RuntimeWarning: Tolerance of -0.00695847880299 reached\n  warnings.warn(msg, RuntimeWarning)\n/Users/Maxwell/anaconda/lib/python3.5/site-packages/scipy/optimize/zeros.py:173: RuntimeWarning: Tolerance of -0.0196554690179 reached\n  warnings.warn(msg, RuntimeWarning)\n/Users/Maxwell/anaconda/lib/python3.5/site-packages/scipy/optimize/zeros.py:173: RuntimeWarning: Tolerance of -0.0196651276512 reached\n  warnings.warn(msg, RuntimeWarning)\n/Users/Maxwell/anaconda/lib/python3.5/site-packages/scipy/optimize/zeros.py:173: RuntimeWarning: Tolerance of 1773786.30088 reached\n  warnings.warn(msg, RuntimeWarning)\n/Users/Maxwell/anaconda/lib/python3.5/site-packages/scipy/optimize/zeros.py:173: RuntimeWarning: Tolerance of -24238.8351305 reached\n  warnings.warn(msg, RuntimeWarning)\n/Users/Maxwell/anaconda/lib/python3.5/site-packages/scipy/optimize/zeros.py:173: RuntimeWarning: Tolerance of 11367543475.9 reached\n  warnings.warn(msg, RuntimeWarning)\n/Users/Maxwell/anaconda/lib/python3.5/site-packages/scipy/optimize/zeros.py:173: RuntimeWarning: Tolerance of 6366060.17151 reached\n  warnings.warn(msg, RuntimeWarning)\n/Users/Maxwell/anaconda/lib/python3.5/site-packages/scipy/optimize/zeros.py:173: RuntimeWarning: Tolerance of -0.00656634066978 reached\n  warnings.warn(msg, RuntimeWarning)\n"
     ]
    },
    {
     "name": "stderr",
     "output_type": "stream",
     "text": [
      "/Users/Maxwell/anaconda/lib/python3.5/site-packages/scipy/optimize/zeros.py:173: RuntimeWarning: Tolerance of -60.760941458 reached\n  warnings.warn(msg, RuntimeWarning)\n"
     ]
    },
    {
     "name": "stderr",
     "output_type": "stream",
     "text": [
      "/Users/Maxwell/anaconda/lib/python3.5/site-packages/scipy/optimize/zeros.py:173: RuntimeWarning: Tolerance of -0.0209259759761 reached\n  warnings.warn(msg, RuntimeWarning)\n/Users/Maxwell/anaconda/lib/python3.5/site-packages/scipy/optimize/zeros.py:173: RuntimeWarning: Tolerance of -0.00607654409112 reached\n  warnings.warn(msg, RuntimeWarning)\n/Users/Maxwell/anaconda/lib/python3.5/site-packages/scipy/optimize/zeros.py:173: RuntimeWarning: Tolerance of 169558600.818 reached\n  warnings.warn(msg, RuntimeWarning)\n"
     ]
    },
    {
     "name": "stderr",
     "output_type": "stream",
     "text": [
      "/Users/Maxwell/anaconda/lib/python3.5/site-packages/scipy/optimize/zeros.py:173: RuntimeWarning: Tolerance of -800313364.734 reached\n  warnings.warn(msg, RuntimeWarning)\n/Users/Maxwell/anaconda/lib/python3.5/site-packages/scipy/optimize/zeros.py:173: RuntimeWarning: Tolerance of 339318822.888 reached\n  warnings.warn(msg, RuntimeWarning)\n"
     ]
    },
    {
     "name": "stderr",
     "output_type": "stream",
     "text": [
      "/Users/Maxwell/anaconda/lib/python3.5/site-packages/scipy/optimize/zeros.py:173: RuntimeWarning: Tolerance of -10082.8784932 reached\n  warnings.warn(msg, RuntimeWarning)\n"
     ]
    },
    {
     "name": "stderr",
     "output_type": "stream",
     "text": [
      "/Users/Maxwell/anaconda/lib/python3.5/site-packages/scipy/optimize/zeros.py:173: RuntimeWarning: Tolerance of 16964777530.5 reached\n  warnings.warn(msg, RuntimeWarning)\n"
     ]
    },
    {
     "name": "stderr",
     "output_type": "stream",
     "text": [
      "/Users/Maxwell/anaconda/lib/python3.5/site-packages/scipy/optimize/zeros.py:173: RuntimeWarning: Tolerance of -0.000590170418741 reached\n  warnings.warn(msg, RuntimeWarning)\n/Users/Maxwell/anaconda/lib/python3.5/site-packages/scipy/optimize/zeros.py:173: RuntimeWarning: Tolerance of -265050453736.0 reached\n  warnings.warn(msg, RuntimeWarning)\n/Users/Maxwell/anaconda/lib/python3.5/site-packages/scipy/optimize/zeros.py:173: RuntimeWarning: Tolerance of -1356.85594484 reached\n  warnings.warn(msg, RuntimeWarning)\n"
     ]
    },
    {
     "name": "stderr",
     "output_type": "stream",
     "text": [
      "/Users/Maxwell/anaconda/lib/python3.5/site-packages/scipy/optimize/zeros.py:173: RuntimeWarning: Tolerance of -0.000754670167486 reached\n  warnings.warn(msg, RuntimeWarning)\n/Users/Maxwell/anaconda/lib/python3.5/site-packages/scipy/optimize/zeros.py:173: RuntimeWarning: Tolerance of 278438501.8 reached\n  warnings.warn(msg, RuntimeWarning)\n/Users/Maxwell/anaconda/lib/python3.5/site-packages/scipy/optimize/zeros.py:173: RuntimeWarning: Tolerance of 185328.133761 reached\n  warnings.warn(msg, RuntimeWarning)\n/Users/Maxwell/anaconda/lib/python3.5/site-packages/scipy/optimize/zeros.py:173: RuntimeWarning: Tolerance of -0.000722280421811 reached\n  warnings.warn(msg, RuntimeWarning)\n/Users/Maxwell/anaconda/lib/python3.5/site-packages/scipy/optimize/zeros.py:173: RuntimeWarning: Tolerance of -0.00107462421423 reached\n  warnings.warn(msg, RuntimeWarning)\n"
     ]
    },
    {
     "name": "stderr",
     "output_type": "stream",
     "text": [
      "/Users/Maxwell/anaconda/lib/python3.5/site-packages/scipy/optimize/zeros.py:173: RuntimeWarning: Tolerance of -1130916200.61 reached\n  warnings.warn(msg, RuntimeWarning)\n/Users/Maxwell/anaconda/lib/python3.5/site-packages/scipy/optimize/zeros.py:173: RuntimeWarning: Tolerance of -0.0148293965326 reached\n  warnings.warn(msg, RuntimeWarning)\n/Users/Maxwell/anaconda/lib/python3.5/site-packages/scipy/optimize/zeros.py:173: RuntimeWarning: Tolerance of 124057526514.0 reached\n  warnings.warn(msg, RuntimeWarning)\n/Users/Maxwell/anaconda/lib/python3.5/site-packages/scipy/optimize/zeros.py:173: RuntimeWarning: Tolerance of 62524812.083 reached\n  warnings.warn(msg, RuntimeWarning)\n"
     ]
    },
    {
     "name": "stderr",
     "output_type": "stream",
     "text": [
      "/Users/Maxwell/anaconda/lib/python3.5/site-packages/scipy/optimize/zeros.py:173: RuntimeWarning: Tolerance of -162687.059345 reached\n  warnings.warn(msg, RuntimeWarning)\n"
     ]
    },
    {
     "name": "stderr",
     "output_type": "stream",
     "text": [
      "/Users/Maxwell/anaconda/lib/python3.5/site-packages/scipy/optimize/zeros.py:173: RuntimeWarning: Tolerance of -0.0109715693248 reached\n  warnings.warn(msg, RuntimeWarning)\n/Users/Maxwell/anaconda/lib/python3.5/site-packages/scipy/optimize/zeros.py:173: RuntimeWarning: Tolerance of -0.0031000483171 reached\n  warnings.warn(msg, RuntimeWarning)\n"
     ]
    },
    {
     "name": "stdout",
     "output_type": "stream",
     "text": [
      "This is the test result for initial point sigma 2.00, initial iteration 2 times:\n                log_accuracy          MSE  Time(hh:mm:ss)\nbrentq               4.30646   0.00100102  0:00:05.512301\nbrenth               4.30646   0.00100102  0:00:05.543894\nridder               4.30646   0.00100102  0:00:07.559511\nscipy_newton         4.11627  6.68672e+19  0:00:03.501034\nbisection            4.30646   0.00100102  0:00:45.359421\nmullerBisection      4.30646   0.00100102  0:00:31.529770\nnewton               3.37182  1.34302e+47  0:00:02.901845\nhalley                 3.136   0.00753054  0:00:02.068720\nnew_newton           2.99799          inf  0:00:09.717911\nnew_halley           4.04513  1.89652e+32  0:00:08.048271\n\n\n"
     ]
    },
    {
     "name": "stdout",
     "output_type": "stream",
     "text": [
      "This is the test result for initial point sigma 0.30, initial iteration 3 times:\n                log_accuracy           MSE  Time(hh:mm:ss)\nbrentq               4.30646    0.00100102  0:00:05.396616\nbrenth               4.30646    0.00100102  0:00:05.455624\nridder               4.30646    0.00100102  0:00:07.114920\nscipy_newton         4.14998   5.85325e+17  0:00:03.029937\nbisection            4.30646    0.00100102  0:00:45.901675\nmullerBisection      4.30646    0.00100102  0:00:32.530246\nnewton               4.07488  5.82465e+198  0:00:04.097900\nhalley               4.22647     0.0008426  0:00:02.206142\nnew_newton           4.28017   7.71862e+06  0:00:12.547234\nnew_halley           4.24333   2.48595e+06  0:00:11.021251\n\n\n"
     ]
    },
    {
     "name": "stdout",
     "output_type": "stream",
     "text": [
      "This is the test result for initial point sigma 0.50, initial iteration 3 times:\n                log_accuracy           MSE  Time(hh:mm:ss)\nbrentq               4.30646    0.00100102  0:00:05.795137\nbrenth               4.30646    0.00100102  0:00:05.419843\nridder               4.30646    0.00100102  0:00:07.244483\nscipy_newton         4.11276   7.04273e+23  0:00:03.068526\nbisection            4.30646    0.00100102  0:00:46.035302\nmullerBisection      4.30646    0.00100102  0:00:33.461152\nnewton               4.11903  5.81482e+111  0:00:04.068967\nhalley               3.93286    0.00104206  0:00:02.172841\nnew_newton           4.28017   7.71862e+06  0:00:11.590645\nnew_halley           4.24333   2.48595e+06  0:00:10.442780\n\n\n"
     ]
    },
    {
     "name": "stdout",
     "output_type": "stream",
     "text": [
      "This is the test result for initial point sigma 0.70, initial iteration 3 times:\n                log_accuracy          MSE  Time(hh:mm:ss)\nbrentq               4.30646   0.00100102  0:00:05.123024\nbrenth               4.30646   0.00100102  0:00:05.238620\nridder               4.30646   0.00100102  0:00:07.233413\nscipy_newton         4.12553  7.79877e+37  0:00:03.083853\nbisection            4.30646   0.00100102  0:00:46.380854\nmullerBisection      4.30646   0.00100102  0:00:33.679738\nnewton               4.19757  2.05935e+42  0:00:04.240502\nhalley                3.7735   0.00167653  0:00:02.199868\nnew_newton           4.28017  7.71862e+06  0:00:12.338441\nnew_halley           4.24333  2.48595e+06  0:00:11.458646\n\n\n"
     ]
    },
    {
     "name": "stdout",
     "output_type": "stream",
     "text": [
      "This is the test result for initial point sigma 1.00, initial iteration 3 times:\n                log_accuracy           MSE  Time(hh:mm:ss)\nbrentq               4.30646    0.00100102  0:00:05.731281\nbrenth               4.30646    0.00100102  0:00:05.499522\nridder               4.30646    0.00100102  0:00:07.316676\nscipy_newton         4.13935   1.40374e+19  0:00:03.346702\nbisection            4.30646    0.00100102  0:00:45.936737\nmullerBisection      4.30646    0.00100102  0:00:31.160611\nnewton               4.12668  1.55421e+181  0:00:03.774675\nhalley               3.64457    0.00281198  0:00:02.049851\nnew_newton           4.28017   7.71862e+06  0:00:11.788501\nnew_halley           4.24333   2.48595e+06  0:00:11.415600\n\n\n"
     ]
    },
    {
     "name": "stdout",
     "output_type": "stream",
     "text": [
      "This is the test result for initial point sigma 1.50, initial iteration 3 times:\n                log_accuracy          MSE  Time(hh:mm:ss)\nbrentq               4.30646   0.00100102  0:00:05.748952\nbrenth               4.30646   0.00100102  0:00:05.505580\nridder               4.30646   0.00100102  0:00:07.703579\nscipy_newton         4.12278   7.8153e+26  0:00:03.523192\nbisection            4.30646   0.00100102  0:00:45.397006\nmullerBisection      4.30646   0.00100102  0:00:34.256798\nnewton                4.0716  6.79605e+19  0:00:03.639951\nhalley               3.56188   0.00490749  0:00:02.264380\nnew_newton           4.28017  7.71862e+06  0:00:12.769179\nnew_halley           4.24333  2.48595e+06  0:00:10.945341\n\n\n"
     ]
    },
    {
     "name": "stdout",
     "output_type": "stream",
     "text": [
      "This is the test result for initial point sigma 1.70, initial iteration 3 times:\n                log_accuracy           MSE  Time(hh:mm:ss)\nbrentq               4.30646    0.00100102  0:00:05.219745\nbrenth               4.30646    0.00100102  0:00:04.955526\nridder               4.30646    0.00100102  0:00:07.097961\nscipy_newton         4.17953   8.81086e+31  0:00:03.286926\nbisection            4.30646    0.00100102  0:00:59.729016\nmullerBisection      4.30646    0.00100102  0:00:31.618373\nnewton               3.53386  6.53992e+303  0:00:03.682383\nhalley               3.40933    0.00586908  0:00:02.322953\nnew_newton           4.28017   7.71862e+06  0:00:13.645282\nnew_halley           4.24333   2.48595e+06  0:00:11.505148\n\n\n"
     ]
    },
    {
     "name": "stdout",
     "output_type": "stream",
     "text": [
      "This is the test result for initial point sigma 2.00, initial iteration 3 times:\n                log_accuracy          MSE  Time(hh:mm:ss)\nbrentq               4.30646   0.00100102  0:00:06.043909\nbrenth               4.30646   0.00100102  0:00:05.637632\nridder               4.30646   0.00100102  0:00:08.261403\nscipy_newton         4.11627  6.68672e+19  0:00:04.074172\nbisection            4.30646   0.00100102  0:00:46.565977\nmullerBisection      4.30646   0.00100102  0:00:32.760265\nnewton               3.37182  1.34302e+47  0:00:03.122727\nhalley                 3.136   0.00753054  0:00:02.232009\nnew_newton           4.28017  7.71862e+06  0:00:12.617935\nnew_halley           4.24333  2.48595e+06  0:00:11.848882\n\n\n"
     ]
    },
    {
     "name": "stdout",
     "output_type": "stream",
     "text": [
      "This is the test result for initial point sigma 0.30, initial iteration 5 times:\n                log_accuracy           MSE  Time(hh:mm:ss)\nbrentq               4.30646    0.00100102  0:00:05.818020\nbrenth               4.30646    0.00100102  0:00:05.713979\nridder               4.30646    0.00100102  0:00:07.766954\nscipy_newton         4.14998   5.85325e+17  0:00:03.217075\nbisection            4.30646    0.00100102  0:00:46.732029\nmullerBisection      4.30646    0.00100102  0:00:33.706377\nnewton               4.07488  5.82465e+198  0:00:04.095454\nhalley               4.22647     0.0008426  0:00:02.152962\nnew_newton           4.30426      0.215771  0:00:16.443958\nnew_halley           4.30632    0.00100073  0:00:15.848976\n\n\n"
     ]
    },
    {
     "name": "stdout",
     "output_type": "stream",
     "text": [
      "This is the test result for initial point sigma 0.50, initial iteration 5 times:\n                log_accuracy           MSE  Time(hh:mm:ss)\nbrentq               4.30646    0.00100102  0:00:05.564156\nbrenth               4.30646    0.00100102  0:00:05.689654\nridder               4.30646    0.00100102  0:00:07.861966\nscipy_newton         4.11276   7.04273e+23  0:00:03.239693\nbisection            4.30646    0.00100102  0:00:45.635644\nmullerBisection      4.30646    0.00100102  0:00:33.597159\nnewton               4.11903  5.81482e+111  0:00:04.145857\nhalley               3.93286    0.00104206  0:00:02.227147\nnew_newton           4.30426      0.215771  0:00:16.463505\nnew_halley           4.30632    0.00100073  0:00:16.819609\n\n\n"
     ]
    },
    {
     "name": "stdout",
     "output_type": "stream",
     "text": [
      "This is the test result for initial point sigma 0.70, initial iteration 5 times:\n                log_accuracy          MSE  Time(hh:mm:ss)\nbrentq               4.30646   0.00100102  0:00:05.517034\nbrenth               4.30646   0.00100102  0:00:05.444496\nridder               4.30646   0.00100102  0:00:07.633497\nscipy_newton         4.12553  7.79877e+37  0:00:03.272695\nbisection            4.30646   0.00100102  0:00:43.801776\nmullerBisection      4.30646   0.00100102  0:00:32.211688\nnewton               4.19757  2.05935e+42  0:00:04.045593\nhalley                3.7735   0.00167653  0:00:02.157095\nnew_newton           4.30426     0.215771  0:00:16.214639\nnew_halley           4.30632   0.00100073  0:00:16.551176\n\n\n"
     ]
    },
    {
     "name": "stdout",
     "output_type": "stream",
     "text": [
      "This is the test result for initial point sigma 1.00, initial iteration 5 times:\n                log_accuracy           MSE  Time(hh:mm:ss)\nbrentq               4.30646    0.00100102  0:00:05.521184\nbrenth               4.30646    0.00100102  0:00:05.454610\nridder               4.30646    0.00100102  0:00:07.495457\nscipy_newton         4.13935   1.40374e+19  0:00:03.181487\nbisection            4.30646    0.00100102  0:00:44.373280\nmullerBisection      4.30646    0.00100102  0:00:32.589637\nnewton               4.12668  1.55421e+181  0:00:03.925748\nhalley               3.64457    0.00281198  0:00:02.233181\nnew_newton           4.30426      0.215771  0:00:16.462436\nnew_halley           4.30632    0.00100073  0:00:16.477625\n\n\n"
     ]
    },
    {
     "name": "stdout",
     "output_type": "stream",
     "text": [
      "This is the test result for initial point sigma 1.50, initial iteration 5 times:\n                log_accuracy          MSE  Time(hh:mm:ss)\nbrentq               4.30646   0.00100102  0:00:05.537999\nbrenth               4.30646   0.00100102  0:00:05.520102\nridder               4.30646   0.00100102  0:00:07.556908\nscipy_newton         4.12278   7.8153e+26  0:00:03.455592\nbisection            4.30646   0.00100102  0:00:45.806695\nmullerBisection      4.30646   0.00100102  0:00:32.443566\nnewton                4.0716  6.79605e+19  0:00:03.368767\nhalley               3.56188   0.00490749  0:00:02.093203\nnew_newton           4.30426     0.215771  0:00:16.292221\nnew_halley           4.30632   0.00100073  0:00:16.370093\n\n\n"
     ]
    },
    {
     "name": "stdout",
     "output_type": "stream",
     "text": [
      "This is the test result for initial point sigma 1.70, initial iteration 5 times:\n                log_accuracy           MSE  Time(hh:mm:ss)\nbrentq               4.30646    0.00100102  0:00:05.373943\nbrenth               4.30646    0.00100102  0:00:05.510982\nridder               4.30646    0.00100102  0:00:07.575706\nscipy_newton         4.17953   8.81086e+31  0:00:03.460673\nbisection            4.30646    0.00100102  0:00:44.352078\nmullerBisection      4.30646    0.00100102  0:00:31.489587\nnewton               3.53386  6.53992e+303  0:00:04.402740\nhalley               3.40933    0.00586908  0:00:01.941629\nnew_newton           4.30426      0.215771  0:00:14.974144\nnew_halley           4.30632    0.00100073  0:00:16.378036\n\n\n"
     ]
    },
    {
     "name": "stdout",
     "output_type": "stream",
     "text": [
      "This is the test result for initial point sigma 2.00, initial iteration 5 times:\n                log_accuracy          MSE  Time(hh:mm:ss)\nbrentq               4.30646   0.00100102  0:00:05.332030\nbrenth               4.30646   0.00100102  0:00:05.309841\nridder               4.30646   0.00100102  0:00:07.529533\nscipy_newton         4.11627  6.68672e+19  0:00:03.652341\nbisection            4.30646   0.00100102  0:00:45.585546\nmullerBisection      4.30646   0.00100102  0:00:31.208303\nnewton               3.37182  1.34302e+47  0:00:02.926408\nhalley                 3.136   0.00753054  0:00:02.064500\nnew_newton           4.30426     0.215771  0:00:14.926444\nnew_halley           4.30632   0.00100073  0:00:14.698356\n\n\n"
     ]
    },
    {
     "name": "stdout",
     "output_type": "stream",
     "text": [
      "This is the test result for initial point sigma 0.30, initial iteration 10 times:\n                log_accuracy           MSE  Time(hh:mm:ss)\nbrentq               4.30646    0.00100102  0:00:04.962306\nbrenth               4.30646    0.00100102  0:00:04.911635\nridder               4.30646    0.00100102  0:00:06.786120\nscipy_newton         4.14998   5.85325e+17  0:00:02.729186\nbisection            4.30646    0.00100102  0:00:43.755452\nmullerBisection      4.30646    0.00100102  0:00:29.837489\nnewton               4.07488  5.82465e+198  0:00:03.566057\nhalley               4.22647     0.0008426  0:00:01.997612\nnew_newton           4.30646    0.00100102  0:00:23.310190\nnew_halley           4.30646    0.00100102  0:00:21.648049\n\n\n"
     ]
    },
    {
     "name": "stdout",
     "output_type": "stream",
     "text": [
      "This is the test result for initial point sigma 0.50, initial iteration 10 times:\n                log_accuracy           MSE  Time(hh:mm:ss)\nbrentq               4.30646    0.00100102  0:00:04.700867\nbrenth               4.30646    0.00100102  0:00:04.629408\nridder               4.30646    0.00100102  0:00:07.781031\nscipy_newton         4.11276   7.04273e+23  0:00:02.982938\nbisection            4.30646    0.00100102  0:00:42.297600\nmullerBisection      4.30646    0.00100102  0:00:29.363975\nnewton               4.11903  5.81482e+111  0:00:03.587424\nhalley               3.93286    0.00104206  0:00:01.913145\nnew_newton           4.30646    0.00100102  0:00:23.046932\nnew_halley           4.30646    0.00100102  0:00:24.831921\n\n\n"
     ]
    },
    {
     "name": "stdout",
     "output_type": "stream",
     "text": [
      "This is the test result for initial point sigma 0.70, initial iteration 10 times:\n                log_accuracy          MSE  Time(hh:mm:ss)\nbrentq               4.30646   0.00100102  0:00:05.353296\nbrenth               4.30646   0.00100102  0:00:05.241429\nridder               4.30646   0.00100102  0:00:07.360000\nscipy_newton         4.12553  7.79877e+37  0:00:03.152114\nbisection            4.30646   0.00100102  0:00:44.833277\nmullerBisection      4.30646   0.00100102  0:00:31.806666\nnewton               4.19757  2.05935e+42  0:00:03.946364\nhalley                3.7735   0.00167653  0:00:02.035020\nnew_newton           4.30646   0.00100102  0:00:23.744608\nnew_halley           4.30646   0.00100102  0:00:24.608858\n\n\n"
     ]
    },
    {
     "name": "stdout",
     "output_type": "stream",
     "text": [
      "This is the test result for initial point sigma 1.00, initial iteration 10 times:\n                log_accuracy           MSE  Time(hh:mm:ss)\nbrentq               4.30646    0.00100102  0:00:05.364639\nbrenth               4.30646    0.00100102  0:00:05.029312\nridder               4.30646    0.00100102  0:00:07.394921\nscipy_newton         4.13935   1.40374e+19  0:00:03.030371\nbisection            4.30646    0.00100102  0:00:44.425245\nmullerBisection      4.30646    0.00100102  0:00:30.644324\nnewton               4.12668  1.55421e+181  0:00:03.639907\nhalley               3.64457    0.00281198  0:00:02.085196\nnew_newton           4.30646    0.00100102  0:00:24.000412\nnew_halley           4.30646    0.00100102  0:00:24.995902\n\n\n"
     ]
    },
    {
     "name": "stdout",
     "output_type": "stream",
     "text": [
      "This is the test result for initial point sigma 1.50, initial iteration 10 times:\n                log_accuracy          MSE  Time(hh:mm:ss)\nbrentq               4.30646   0.00100102  0:00:05.421655\nbrenth               4.30646   0.00100102  0:00:05.361740\nridder               4.30646   0.00100102  0:00:07.468804\nscipy_newton         4.12278   7.8153e+26  0:00:03.427388\nbisection            4.30646   0.00100102  0:00:42.386582\nmullerBisection      4.30646   0.00100102  0:00:31.604164\nnewton                4.0716  6.79605e+19  0:00:03.337079\nhalley               3.56188   0.00490749  0:00:02.064583\nnew_newton           4.30646   0.00100102  0:00:24.127522\nnew_halley           4.30646   0.00100102  0:00:23.537862\n\n\n"
     ]
    },
    {
     "name": "stdout",
     "output_type": "stream",
     "text": [
      "This is the test result for initial point sigma 1.70, initial iteration 10 times:\n                log_accuracy           MSE  Time(hh:mm:ss)\nbrentq               4.30646    0.00100102  0:00:05.092313\nbrenth               4.30646    0.00100102  0:00:05.048042\nridder               4.30646    0.00100102  0:00:06.878566\nscipy_newton         4.17953   8.81086e+31  0:00:03.342402\nbisection            4.30646    0.00100102  0:00:44.062477\nmullerBisection      4.30646    0.00100102  0:00:30.862330\nnewton               3.53386  6.53992e+303  0:00:03.182857\nhalley               3.40933    0.00586908  0:00:01.963162\nnew_newton           4.30646    0.00100102  0:00:23.976011\nnew_halley           4.30646    0.00100102  0:00:24.924709\n\n\n"
     ]
    },
    {
     "name": "stdout",
     "output_type": "stream",
     "text": [
      "This is the test result for initial point sigma 2.00, initial iteration 10 times:\n                log_accuracy          MSE  Time(hh:mm:ss)\nbrentq               4.30646   0.00100102  0:00:05.337934\nbrenth               4.30646   0.00100102  0:00:05.076755\nridder               4.30646   0.00100102  0:00:06.970133\nscipy_newton         4.11627  6.68672e+19  0:00:03.364994\nbisection            4.30646   0.00100102  0:00:41.622269\nmullerBisection      4.30646   0.00100102  0:00:30.783930\nnewton               3.37182  1.34302e+47  0:00:03.003699\nhalley                 3.136   0.00753054  0:00:02.106891\nnew_newton           4.30646   0.00100102  0:00:23.645231\nnew_halley           4.30646   0.00100102  0:00:24.997871\n\n\n"
     ]
    }
   ],
   "source": [
    "testMethods = ['brentq', 'brenth', 'ridder', 'scipy_newton', 'bisection', 'mullerBisection', 'newton', 'halley', 'new_newton', 'new_halley']                                  \n",
    "testSigma = [0.3, 0.5, 0.7, 1, 1.5, 1.7, 2]\n",
    "testIter = [2, 3, 5, 10]\n",
    "result = pd.DataFrame(index=testMethods, columns=['log_accuracy', 'MSE', 'Time(hh:mm:ss)'])                                                \n",
    "dicResult = {}\n",
    "\n",
    "                                                                                                                                                                                                                                                        \n",
    "for iter in testIter:\n",
    "    dicResult[iter] = {}\n",
    "    for sigma in testSigma:  \n",
    "        for method in testMethods: \n",
    "            result.loc[method, :] = methods.performance(data, method, sigma0=sigma, initialIter=iter)\n",
    "        dicResult[iter][sigma] = result.copy()                                                                                                  \n",
    "        print('This is the test result for initial point sigma {:.2f}, \\\n",
    "initial iteration {:d} times:\\n{}\\n\\n'.format(sigma, iter, result))"
   ]
  },
  {
   "cell_type": "code",
   "execution_count": 6,
   "metadata": {
    "collapsed": true
   },
   "outputs": [
    {
     "data": {
      "text/plain": [
       "{2: {0.3:                 log_accuracy           MSE  Time(hh:mm:ss)  Seconds\n  brentq               4.30646    0.00100102  0:00:04.640004    4.640\n  brenth               4.30646    0.00100102  0:00:05.198373    5.198\n  ridder               4.30646    0.00100102  0:00:06.628163    6.628\n  scipy_newton         4.14998   5.85325e+17  0:00:02.754447    2.754\n  bisection            4.30646    0.00100102  0:00:41.058587   41.058\n  mullerBisection      4.30646    0.00100102  0:00:28.294878   28.294\n  newton               4.07488  5.82465e+198  0:00:03.396052    3.396\n  halley               4.22647     0.0008426  0:00:01.966159    1.966\n  new_newton           2.99799           inf  0:00:08.835893    8.835\n  new_halley           4.04513   1.89652e+32  0:00:07.352677    7.352,\n  0.5:                 log_accuracy           MSE  Time(hh:mm:ss)  Seconds\n  brentq               4.30646    0.00100102  0:00:05.948011    5.948\n  brenth               4.30646    0.00100102  0:00:06.321942    6.321\n  ridder               4.30646    0.00100102  0:00:07.055823    7.055\n  scipy_newton         4.11276   7.04273e+23  0:00:03.128159    3.128\n  bisection            4.30646    0.00100102  0:00:42.658910   42.658\n  mullerBisection      4.30646    0.00100102  0:00:28.565580   28.565\n  newton               4.11903  5.81482e+111  0:00:03.783664    3.783\n  halley               3.93286    0.00104206  0:00:01.904435    1.904\n  new_newton           2.99799           inf  0:00:09.082702    9.082\n  new_halley           4.04513   1.89652e+32  0:00:07.564471    7.564,\n  0.7:                 log_accuracy          MSE  Time(hh:mm:ss)  Seconds\n  brentq               4.30646   0.00100102  0:00:04.754577    4.754\n  brenth               4.30646   0.00100102  0:00:04.859450    4.859\n  ridder               4.30646   0.00100102  0:00:06.682021    6.682\n  scipy_newton         4.12553  7.79877e+37  0:00:03.096379    3.096\n  bisection            4.30646   0.00100102  0:00:46.011604   46.011\n  mullerBisection      4.30646   0.00100102  0:00:29.453186   29.453\n  newton               4.19757  2.05935e+42  0:00:04.957575    4.957\n  halley                3.7735   0.00167653  0:00:02.077914    2.077\n  new_newton           2.99799          inf  0:00:11.179333   11.179\n  new_halley           4.04513  1.89652e+32  0:00:07.719532    7.719,\n  1:                 log_accuracy           MSE  Time(hh:mm:ss)  Seconds\n  brentq               4.30646    0.00100102  0:00:05.454724    5.454\n  brenth               4.30646    0.00100102  0:00:05.174579    5.174\n  ridder               4.30646    0.00100102  0:00:07.192239    7.192\n  scipy_newton         4.13935   1.40374e+19  0:00:03.112649    3.112\n  bisection            4.30646    0.00100102  0:00:47.454981   47.454\n  mullerBisection      4.30646    0.00100102  0:00:32.997593   32.997\n  newton               4.12668  1.55421e+181  0:00:03.522659    3.522\n  halley               3.64457    0.00281198  0:00:02.081457    2.081\n  new_newton           2.99799           inf  0:00:09.714030    9.714\n  new_halley           4.04513   1.89652e+32  0:00:08.218844    8.218,\n  1.5:                 log_accuracy          MSE  Time(hh:mm:ss)  Seconds\n  brentq               4.30646   0.00100102  0:00:05.647502    5.647\n  brenth               4.30646   0.00100102  0:00:05.542619    5.542\n  ridder               4.30646   0.00100102  0:00:07.476965    7.476\n  scipy_newton         4.12278   7.8153e+26  0:00:03.400522    3.400\n  bisection            4.30646   0.00100102  0:00:46.084511   46.084\n  mullerBisection      4.30646   0.00100102  0:00:32.090494   32.090\n  newton                4.0716  6.79605e+19  0:00:03.444403    3.444\n  halley               3.56188   0.00490749  0:00:02.209151    2.209\n  new_newton           2.99799          inf  0:00:10.153598   10.153\n  new_halley           4.04513  1.89652e+32  0:00:08.694541    8.694,\n  1.7:                 log_accuracy           MSE  Time(hh:mm:ss)  Seconds\n  brentq               4.30646    0.00100102  0:00:05.517597    5.517\n  brenth               4.30646    0.00100102  0:00:05.356964    5.356\n  ridder               4.30646    0.00100102  0:00:07.590569    7.590\n  scipy_newton         4.17953   8.81086e+31  0:00:03.525623    3.525\n  bisection            4.30646    0.00100102  0:00:45.482892   45.482\n  mullerBisection      4.30646    0.00100102  0:00:31.875551   31.875\n  newton               3.53386  6.53992e+303  0:00:03.184325    3.184\n  halley               3.40933    0.00586908  0:00:02.171488    2.171\n  new_newton           2.99799           inf  0:00:09.790418    9.790\n  new_halley           4.04513   1.89652e+32  0:00:08.379797    8.379,\n  2:                 log_accuracy          MSE  Time(hh:mm:ss)  Seconds\n  brentq               4.30646   0.00100102  0:00:05.512301    5.512\n  brenth               4.30646   0.00100102  0:00:05.543894    5.543\n  ridder               4.30646   0.00100102  0:00:07.559511    7.559\n  scipy_newton         4.11627  6.68672e+19  0:00:03.501034    3.501\n  bisection            4.30646   0.00100102  0:00:45.359421   45.359\n  mullerBisection      4.30646   0.00100102  0:00:31.529770   31.529\n  newton               3.37182  1.34302e+47  0:00:02.901845    2.901\n  halley                 3.136   0.00753054  0:00:02.068720    2.068\n  new_newton           2.99799          inf  0:00:09.717911    9.717\n  new_halley           4.04513  1.89652e+32  0:00:08.048271    8.048},\n 3: {0.3:                 log_accuracy           MSE  Time(hh:mm:ss)  Seconds\n  brentq               4.30646    0.00100102  0:00:05.396616    5.396\n  brenth               4.30646    0.00100102  0:00:05.455624    5.455\n  ridder               4.30646    0.00100102  0:00:07.114920    7.114\n  scipy_newton         4.14998   5.85325e+17  0:00:03.029937    3.029\n  bisection            4.30646    0.00100102  0:00:45.901675   45.901\n  mullerBisection      4.30646    0.00100102  0:00:32.530246   32.530\n  newton               4.07488  5.82465e+198  0:00:04.097900    4.097\n  halley               4.22647     0.0008426  0:00:02.206142    2.206\n  new_newton           4.28017   7.71862e+06  0:00:12.547234   12.547\n  new_halley           4.24333   2.48595e+06  0:00:11.021251   11.021,\n  0.5:                 log_accuracy           MSE  Time(hh:mm:ss)  Seconds\n  brentq               4.30646    0.00100102  0:00:05.795137    5.795\n  brenth               4.30646    0.00100102  0:00:05.419843    5.419\n  ridder               4.30646    0.00100102  0:00:07.244483    7.244\n  scipy_newton         4.11276   7.04273e+23  0:00:03.068526    3.068\n  bisection            4.30646    0.00100102  0:00:46.035302   46.035\n  mullerBisection      4.30646    0.00100102  0:00:33.461152   33.461\n  newton               4.11903  5.81482e+111  0:00:04.068967    4.068\n  halley               3.93286    0.00104206  0:00:02.172841    2.172\n  new_newton           4.28017   7.71862e+06  0:00:11.590645   11.590\n  new_halley           4.24333   2.48595e+06  0:00:10.442780   10.442,\n  0.7:                 log_accuracy          MSE  Time(hh:mm:ss)  Seconds\n  brentq               4.30646   0.00100102  0:00:05.123024    5.123\n  brenth               4.30646   0.00100102  0:00:05.238620    5.238\n  ridder               4.30646   0.00100102  0:00:07.233413    7.233\n  scipy_newton         4.12553  7.79877e+37  0:00:03.083853    3.083\n  bisection            4.30646   0.00100102  0:00:46.380854   46.380\n  mullerBisection      4.30646   0.00100102  0:00:33.679738   33.679\n  newton               4.19757  2.05935e+42  0:00:04.240502    4.240\n  halley                3.7735   0.00167653  0:00:02.199868    2.199\n  new_newton           4.28017  7.71862e+06  0:00:12.338441   12.338\n  new_halley           4.24333  2.48595e+06  0:00:11.458646   11.458,\n  1:                 log_accuracy           MSE  Time(hh:mm:ss)  Seconds\n  brentq               4.30646    0.00100102  0:00:05.731281    5.731\n  brenth               4.30646    0.00100102  0:00:05.499522    5.499\n  ridder               4.30646    0.00100102  0:00:07.316676    7.316\n  scipy_newton         4.13935   1.40374e+19  0:00:03.346702    3.346\n  bisection            4.30646    0.00100102  0:00:45.936737   45.936\n  mullerBisection      4.30646    0.00100102  0:00:31.160611   31.160\n  newton               4.12668  1.55421e+181  0:00:03.774675    3.774\n  halley               3.64457    0.00281198  0:00:02.049851    2.049\n  new_newton           4.28017   7.71862e+06  0:00:11.788501   11.788\n  new_halley           4.24333   2.48595e+06  0:00:11.415600   11.415,\n  1.5:                 log_accuracy          MSE  Time(hh:mm:ss)  Seconds\n  brentq               4.30646   0.00100102  0:00:05.748952    5.748\n  brenth               4.30646   0.00100102  0:00:05.505580    5.505\n  ridder               4.30646   0.00100102  0:00:07.703579    7.703\n  scipy_newton         4.12278   7.8153e+26  0:00:03.523192    3.523\n  bisection            4.30646   0.00100102  0:00:45.397006   45.397\n  mullerBisection      4.30646   0.00100102  0:00:34.256798   34.256\n  newton                4.0716  6.79605e+19  0:00:03.639951    3.639\n  halley               3.56188   0.00490749  0:00:02.264380    2.264\n  new_newton           4.28017  7.71862e+06  0:00:12.769179   12.769\n  new_halley           4.24333  2.48595e+06  0:00:10.945341   10.945,\n  1.7:                 log_accuracy           MSE  Time(hh:mm:ss)  Seconds\n  brentq               4.30646    0.00100102  0:00:05.219745    5.219\n  brenth               4.30646    0.00100102  0:00:04.955526    4.955\n  ridder               4.30646    0.00100102  0:00:07.097961    7.097\n  scipy_newton         4.17953   8.81086e+31  0:00:03.286926    3.286\n  bisection            4.30646    0.00100102  0:00:59.729016   59.729\n  mullerBisection      4.30646    0.00100102  0:00:31.618373   31.618\n  newton               3.53386  6.53992e+303  0:00:03.682383    3.682\n  halley               3.40933    0.00586908  0:00:02.322953    2.322\n  new_newton           4.28017   7.71862e+06  0:00:13.645282   13.645\n  new_halley           4.24333   2.48595e+06  0:00:11.505148   11.505,\n  2:                 log_accuracy          MSE  Time(hh:mm:ss)  Seconds\n  brentq               4.30646   0.00100102  0:00:06.043909    6.043\n  brenth               4.30646   0.00100102  0:00:05.637632    5.637\n  ridder               4.30646   0.00100102  0:00:08.261403    8.261\n  scipy_newton         4.11627  6.68672e+19  0:00:04.074172    4.074\n  bisection            4.30646   0.00100102  0:00:46.565977   46.565\n  mullerBisection      4.30646   0.00100102  0:00:32.760265   32.760\n  newton               3.37182  1.34302e+47  0:00:03.122727    3.122\n  halley                 3.136   0.00753054  0:00:02.232009    2.232\n  new_newton           4.28017  7.71862e+06  0:00:12.617935   12.617\n  new_halley           4.24333  2.48595e+06  0:00:11.848882   11.848},\n 5: {0.3:                 log_accuracy           MSE  Time(hh:mm:ss)  Seconds\n  brentq               4.30646    0.00100102  0:00:05.818020    5.818\n  brenth               4.30646    0.00100102  0:00:05.713979    5.713\n  ridder               4.30646    0.00100102  0:00:07.766954    7.766\n  scipy_newton         4.14998   5.85325e+17  0:00:03.217075    3.217\n  bisection            4.30646    0.00100102  0:00:46.732029   46.732\n  mullerBisection      4.30646    0.00100102  0:00:33.706377   33.706\n  newton               4.07488  5.82465e+198  0:00:04.095454    4.095\n  halley               4.22647     0.0008426  0:00:02.152962    2.152\n  new_newton           4.30426      0.215771  0:00:16.443958   16.443\n  new_halley           4.30632    0.00100073  0:00:15.848976   15.848,\n  0.5:                 log_accuracy           MSE  Time(hh:mm:ss)  Seconds\n  brentq               4.30646    0.00100102  0:00:05.564156    5.564\n  brenth               4.30646    0.00100102  0:00:05.689654    5.689\n  ridder               4.30646    0.00100102  0:00:07.861966    7.861\n  scipy_newton         4.11276   7.04273e+23  0:00:03.239693    3.239\n  bisection            4.30646    0.00100102  0:00:45.635644   45.635\n  mullerBisection      4.30646    0.00100102  0:00:33.597159   33.597\n  newton               4.11903  5.81482e+111  0:00:04.145857    4.145\n  halley               3.93286    0.00104206  0:00:02.227147    2.227\n  new_newton           4.30426      0.215771  0:00:16.463505   16.463\n  new_halley           4.30632    0.00100073  0:00:16.819609   16.819,\n  0.7:                 log_accuracy          MSE  Time(hh:mm:ss)  Seconds\n  brentq               4.30646   0.00100102  0:00:05.517034    5.517\n  brenth               4.30646   0.00100102  0:00:05.444496    5.444\n  ridder               4.30646   0.00100102  0:00:07.633497    7.633\n  scipy_newton         4.12553  7.79877e+37  0:00:03.272695    3.272\n  bisection            4.30646   0.00100102  0:00:43.801776   43.801\n  mullerBisection      4.30646   0.00100102  0:00:32.211688   32.211\n  newton               4.19757  2.05935e+42  0:00:04.045593    4.045\n  halley                3.7735   0.00167653  0:00:02.157095    2.157\n  new_newton           4.30426     0.215771  0:00:16.214639   16.214\n  new_halley           4.30632   0.00100073  0:00:16.551176   16.551,\n  1:                 log_accuracy           MSE  Time(hh:mm:ss)  Seconds\n  brentq               4.30646    0.00100102  0:00:05.521184    5.521\n  brenth               4.30646    0.00100102  0:00:05.454610    5.454\n  ridder               4.30646    0.00100102  0:00:07.495457    7.495\n  scipy_newton         4.13935   1.40374e+19  0:00:03.181487    3.181\n  bisection            4.30646    0.00100102  0:00:44.373280   44.373\n  mullerBisection      4.30646    0.00100102  0:00:32.589637   32.589\n  newton               4.12668  1.55421e+181  0:00:03.925748    3.925\n  halley               3.64457    0.00281198  0:00:02.233181    2.233\n  new_newton           4.30426      0.215771  0:00:16.462436   16.462\n  new_halley           4.30632    0.00100073  0:00:16.477625   16.477,\n  1.5:                 log_accuracy          MSE  Time(hh:mm:ss)  Seconds\n  brentq               4.30646   0.00100102  0:00:05.537999    5.537\n  brenth               4.30646   0.00100102  0:00:05.520102    5.520\n  ridder               4.30646   0.00100102  0:00:07.556908    7.556\n  scipy_newton         4.12278   7.8153e+26  0:00:03.455592    3.455\n  bisection            4.30646   0.00100102  0:00:45.806695   45.806\n  mullerBisection      4.30646   0.00100102  0:00:32.443566   32.443\n  newton                4.0716  6.79605e+19  0:00:03.368767    3.368\n  halley               3.56188   0.00490749  0:00:02.093203    2.093\n  new_newton           4.30426     0.215771  0:00:16.292221   16.292\n  new_halley           4.30632   0.00100073  0:00:16.370093   16.370,\n  1.7:                 log_accuracy           MSE  Time(hh:mm:ss)  Seconds\n  brentq               4.30646    0.00100102  0:00:05.373943    5.373\n  brenth               4.30646    0.00100102  0:00:05.510982    5.510\n  ridder               4.30646    0.00100102  0:00:07.575706    7.575\n  scipy_newton         4.17953   8.81086e+31  0:00:03.460673    3.460\n  bisection            4.30646    0.00100102  0:00:44.352078   44.352\n  mullerBisection      4.30646    0.00100102  0:00:31.489587   31.489\n  newton               3.53386  6.53992e+303  0:00:04.402740    4.402\n  halley               3.40933    0.00586908  0:00:01.941629    1.941\n  new_newton           4.30426      0.215771  0:00:14.974144   14.974\n  new_halley           4.30632    0.00100073  0:00:16.378036   16.378,\n  2:                 log_accuracy          MSE  Time(hh:mm:ss)  Seconds\n  brentq               4.30646   0.00100102  0:00:05.332030    5.332\n  brenth               4.30646   0.00100102  0:00:05.309841    5.309\n  ridder               4.30646   0.00100102  0:00:07.529533    7.529\n  scipy_newton         4.11627  6.68672e+19  0:00:03.652341    3.652\n  bisection            4.30646   0.00100102  0:00:45.585546   45.585\n  mullerBisection      4.30646   0.00100102  0:00:31.208303   31.208\n  newton               3.37182  1.34302e+47  0:00:02.926408    2.926\n  halley                 3.136   0.00753054  0:00:02.064500    2.064\n  new_newton           4.30426     0.215771  0:00:14.926444   14.926\n  new_halley           4.30632   0.00100073  0:00:14.698356   14.698},\n 10: {0.3:                 log_accuracy           MSE  Time(hh:mm:ss)  Seconds\n  brentq               4.30646    0.00100102  0:00:04.962306    4.962\n  brenth               4.30646    0.00100102  0:00:04.911635    4.911\n  ridder               4.30646    0.00100102  0:00:06.786120    6.786\n  scipy_newton         4.14998   5.85325e+17  0:00:02.729186    2.729\n  bisection            4.30646    0.00100102  0:00:43.755452   43.755\n  mullerBisection      4.30646    0.00100102  0:00:29.837489   29.837\n  newton               4.07488  5.82465e+198  0:00:03.566057    3.566\n  halley               4.22647     0.0008426  0:00:01.997612    1.997\n  new_newton           4.30646    0.00100102  0:00:23.310190   23.310\n  new_halley           4.30646    0.00100102  0:00:21.648049   21.648,\n  0.5:                 log_accuracy           MSE  Time(hh:mm:ss)  Seconds\n  brentq               4.30646    0.00100102  0:00:04.700867    4.700\n  brenth               4.30646    0.00100102  0:00:04.629408    4.629\n  ridder               4.30646    0.00100102  0:00:07.781031    7.781\n  scipy_newton         4.11276   7.04273e+23  0:00:02.982938    2.982\n  bisection            4.30646    0.00100102  0:00:42.297600   42.297\n  mullerBisection      4.30646    0.00100102  0:00:29.363975   29.363\n  newton               4.11903  5.81482e+111  0:00:03.587424    3.587\n  halley               3.93286    0.00104206  0:00:01.913145    1.913\n  new_newton           4.30646    0.00100102  0:00:23.046932   23.046\n  new_halley           4.30646    0.00100102  0:00:24.831921   24.831,\n  0.7:                 log_accuracy          MSE  Time(hh:mm:ss)  Seconds\n  brentq               4.30646   0.00100102  0:00:05.353296    5.353\n  brenth               4.30646   0.00100102  0:00:05.241429    5.241\n  ridder               4.30646   0.00100102  0:00:07.360000    7.360\n  scipy_newton         4.12553  7.79877e+37  0:00:03.152114    3.152\n  bisection            4.30646   0.00100102  0:00:44.833277   44.833\n  mullerBisection      4.30646   0.00100102  0:00:31.806666   31.806\n  newton               4.19757  2.05935e+42  0:00:03.946364    3.946\n  halley                3.7735   0.00167653  0:00:02.035020    2.035\n  new_newton           4.30646   0.00100102  0:00:23.744608   23.744\n  new_halley           4.30646   0.00100102  0:00:24.608858   24.608,\n  1:                 log_accuracy           MSE  Time(hh:mm:ss)  Seconds\n  brentq               4.30646    0.00100102  0:00:05.364639    5.364\n  brenth               4.30646    0.00100102  0:00:05.029312    5.029\n  ridder               4.30646    0.00100102  0:00:07.394921    7.394\n  scipy_newton         4.13935   1.40374e+19  0:00:03.030371    3.030\n  bisection            4.30646    0.00100102  0:00:44.425245   44.425\n  mullerBisection      4.30646    0.00100102  0:00:30.644324   30.644\n  newton               4.12668  1.55421e+181  0:00:03.639907    3.639\n  halley               3.64457    0.00281198  0:00:02.085196    2.085\n  new_newton           4.30646    0.00100102  0:00:24.000412   24.000\n  new_halley           4.30646    0.00100102  0:00:24.995902   24.995,\n  1.5:                 log_accuracy          MSE  Time(hh:mm:ss)  Seconds\n  brentq               4.30646   0.00100102  0:00:05.421655    5.421\n  brenth               4.30646   0.00100102  0:00:05.361740    5.361\n  ridder               4.30646   0.00100102  0:00:07.468804    7.468\n  scipy_newton         4.12278   7.8153e+26  0:00:03.427388    3.427\n  bisection            4.30646   0.00100102  0:00:42.386582   42.386\n  mullerBisection      4.30646   0.00100102  0:00:31.604164   31.604\n  newton                4.0716  6.79605e+19  0:00:03.337079    3.337\n  halley               3.56188   0.00490749  0:00:02.064583    2.064\n  new_newton           4.30646   0.00100102  0:00:24.127522   24.127\n  new_halley           4.30646   0.00100102  0:00:23.537862   23.537,\n  1.7:                 log_accuracy           MSE  Time(hh:mm:ss)  Seconds\n  brentq               4.30646    0.00100102  0:00:05.092313    5.092\n  brenth               4.30646    0.00100102  0:00:05.048042    5.048\n  ridder               4.30646    0.00100102  0:00:06.878566    6.878\n  scipy_newton         4.17953   8.81086e+31  0:00:03.342402    3.342\n  bisection            4.30646    0.00100102  0:00:44.062477   44.062\n  mullerBisection      4.30646    0.00100102  0:00:30.862330   30.862\n  newton               3.53386  6.53992e+303  0:00:03.182857    3.182\n  halley               3.40933    0.00586908  0:00:01.963162    1.963\n  new_newton           4.30646    0.00100102  0:00:23.976011   23.976\n  new_halley           4.30646    0.00100102  0:00:24.924709   24.924,\n  2:                 log_accuracy          MSE  Time(hh:mm:ss)  Seconds\n  brentq               4.30646   0.00100102  0:00:05.337934    5.337\n  brenth               4.30646   0.00100102  0:00:05.076755    5.076\n  ridder               4.30646   0.00100102  0:00:06.970133    6.970\n  scipy_newton         4.11627  6.68672e+19  0:00:03.364994    3.364\n  bisection            4.30646   0.00100102  0:00:41.622269   41.622\n  mullerBisection      4.30646   0.00100102  0:00:30.783930   30.783\n  newton               3.37182  1.34302e+47  0:00:03.003699    3.003\n  halley                 3.136   0.00753054  0:00:02.106891    2.106\n  new_newton           4.30646   0.00100102  0:00:23.645231   23.645\n  new_halley           4.30646   0.00100102  0:00:24.997871   24.997}}"
      ]
     },
     "execution_count": 6,
     "metadata": {},
     "output_type": "execute_result"
    }
   ],
   "source": [
    "newDic = dicResult.copy()\n",
    "newDic"
   ]
  },
  {
   "cell_type": "code",
   "execution_count": 7,
   "metadata": {},
   "outputs": [],
   "source": [
    "import datetime\n",
    "for i in newDic:\n",
    "    for s in newDic[i]:\n",
    "        for ind in newDic[i][s].index:\n",
    "            duration = newDic[i][s].loc[ind, 'Time(hh:mm:ss)']\n",
    "            d = datetime.time(hour=0, minute=0, second=duration.seconds, microsecond=duration.microseconds).strftime(\"%M:%S.%f\")[:-3]\n",
    "            \n",
    "            newDic[i][s].loc[ind, 'Seconds'] = float(d.split(':')[1])"
   ]
  },
  {
   "cell_type": "code",
   "execution_count": 8,
   "metadata": {
    "collapsed": true
   },
   "outputs": [
    {
     "data": {
      "text/plain": [
       "{2: {0.3:                 log_accuracy           MSE  Time(hh:mm:ss)  Seconds\n  brentq               4.30646    0.00100102  0:00:04.640004    4.640\n  brenth               4.30646    0.00100102  0:00:05.198373    5.198\n  ridder               4.30646    0.00100102  0:00:06.628163    6.628\n  scipy_newton         4.14998   5.85325e+17  0:00:02.754447    2.754\n  bisection            4.30646    0.00100102  0:00:41.058587   41.058\n  mullerBisection      4.30646    0.00100102  0:00:28.294878   28.294\n  newton               4.07488  5.82465e+198  0:00:03.396052    3.396\n  halley               4.22647     0.0008426  0:00:01.966159    1.966\n  new_newton           2.99799           inf  0:00:08.835893    8.835\n  new_halley           4.04513   1.89652e+32  0:00:07.352677    7.352,\n  0.5:                 log_accuracy           MSE  Time(hh:mm:ss)  Seconds\n  brentq               4.30646    0.00100102  0:00:05.948011    5.948\n  brenth               4.30646    0.00100102  0:00:06.321942    6.321\n  ridder               4.30646    0.00100102  0:00:07.055823    7.055\n  scipy_newton         4.11276   7.04273e+23  0:00:03.128159    3.128\n  bisection            4.30646    0.00100102  0:00:42.658910   42.658\n  mullerBisection      4.30646    0.00100102  0:00:28.565580   28.565\n  newton               4.11903  5.81482e+111  0:00:03.783664    3.783\n  halley               3.93286    0.00104206  0:00:01.904435    1.904\n  new_newton           2.99799           inf  0:00:09.082702    9.082\n  new_halley           4.04513   1.89652e+32  0:00:07.564471    7.564,\n  0.7:                 log_accuracy          MSE  Time(hh:mm:ss)  Seconds\n  brentq               4.30646   0.00100102  0:00:04.754577    4.754\n  brenth               4.30646   0.00100102  0:00:04.859450    4.859\n  ridder               4.30646   0.00100102  0:00:06.682021    6.682\n  scipy_newton         4.12553  7.79877e+37  0:00:03.096379    3.096\n  bisection            4.30646   0.00100102  0:00:46.011604   46.011\n  mullerBisection      4.30646   0.00100102  0:00:29.453186   29.453\n  newton               4.19757  2.05935e+42  0:00:04.957575    4.957\n  halley                3.7735   0.00167653  0:00:02.077914    2.077\n  new_newton           2.99799          inf  0:00:11.179333   11.179\n  new_halley           4.04513  1.89652e+32  0:00:07.719532    7.719,\n  1:                 log_accuracy           MSE  Time(hh:mm:ss)  Seconds\n  brentq               4.30646    0.00100102  0:00:05.454724    5.454\n  brenth               4.30646    0.00100102  0:00:05.174579    5.174\n  ridder               4.30646    0.00100102  0:00:07.192239    7.192\n  scipy_newton         4.13935   1.40374e+19  0:00:03.112649    3.112\n  bisection            4.30646    0.00100102  0:00:47.454981   47.454\n  mullerBisection      4.30646    0.00100102  0:00:32.997593   32.997\n  newton               4.12668  1.55421e+181  0:00:03.522659    3.522\n  halley               3.64457    0.00281198  0:00:02.081457    2.081\n  new_newton           2.99799           inf  0:00:09.714030    9.714\n  new_halley           4.04513   1.89652e+32  0:00:08.218844    8.218,\n  1.5:                 log_accuracy          MSE  Time(hh:mm:ss)  Seconds\n  brentq               4.30646   0.00100102  0:00:05.647502    5.647\n  brenth               4.30646   0.00100102  0:00:05.542619    5.542\n  ridder               4.30646   0.00100102  0:00:07.476965    7.476\n  scipy_newton         4.12278   7.8153e+26  0:00:03.400522    3.400\n  bisection            4.30646   0.00100102  0:00:46.084511   46.084\n  mullerBisection      4.30646   0.00100102  0:00:32.090494   32.090\n  newton                4.0716  6.79605e+19  0:00:03.444403    3.444\n  halley               3.56188   0.00490749  0:00:02.209151    2.209\n  new_newton           2.99799          inf  0:00:10.153598   10.153\n  new_halley           4.04513  1.89652e+32  0:00:08.694541    8.694,\n  1.7:                 log_accuracy           MSE  Time(hh:mm:ss)  Seconds\n  brentq               4.30646    0.00100102  0:00:05.517597    5.517\n  brenth               4.30646    0.00100102  0:00:05.356964    5.356\n  ridder               4.30646    0.00100102  0:00:07.590569    7.590\n  scipy_newton         4.17953   8.81086e+31  0:00:03.525623    3.525\n  bisection            4.30646    0.00100102  0:00:45.482892   45.482\n  mullerBisection      4.30646    0.00100102  0:00:31.875551   31.875\n  newton               3.53386  6.53992e+303  0:00:03.184325    3.184\n  halley               3.40933    0.00586908  0:00:02.171488    2.171\n  new_newton           2.99799           inf  0:00:09.790418    9.790\n  new_halley           4.04513   1.89652e+32  0:00:08.379797    8.379,\n  2:                 log_accuracy          MSE  Time(hh:mm:ss)  Seconds\n  brentq               4.30646   0.00100102  0:00:05.512301    5.512\n  brenth               4.30646   0.00100102  0:00:05.543894    5.543\n  ridder               4.30646   0.00100102  0:00:07.559511    7.559\n  scipy_newton         4.11627  6.68672e+19  0:00:03.501034    3.501\n  bisection            4.30646   0.00100102  0:00:45.359421   45.359\n  mullerBisection      4.30646   0.00100102  0:00:31.529770   31.529\n  newton               3.37182  1.34302e+47  0:00:02.901845    2.901\n  halley                 3.136   0.00753054  0:00:02.068720    2.068\n  new_newton           2.99799          inf  0:00:09.717911    9.717\n  new_halley           4.04513  1.89652e+32  0:00:08.048271    8.048},\n 3: {0.3:                 log_accuracy           MSE  Time(hh:mm:ss)  Seconds\n  brentq               4.30646    0.00100102  0:00:05.396616    5.396\n  brenth               4.30646    0.00100102  0:00:05.455624    5.455\n  ridder               4.30646    0.00100102  0:00:07.114920    7.114\n  scipy_newton         4.14998   5.85325e+17  0:00:03.029937    3.029\n  bisection            4.30646    0.00100102  0:00:45.901675   45.901\n  mullerBisection      4.30646    0.00100102  0:00:32.530246   32.530\n  newton               4.07488  5.82465e+198  0:00:04.097900    4.097\n  halley               4.22647     0.0008426  0:00:02.206142    2.206\n  new_newton           4.28017   7.71862e+06  0:00:12.547234   12.547\n  new_halley           4.24333   2.48595e+06  0:00:11.021251   11.021,\n  0.5:                 log_accuracy           MSE  Time(hh:mm:ss)  Seconds\n  brentq               4.30646    0.00100102  0:00:05.795137    5.795\n  brenth               4.30646    0.00100102  0:00:05.419843    5.419\n  ridder               4.30646    0.00100102  0:00:07.244483    7.244\n  scipy_newton         4.11276   7.04273e+23  0:00:03.068526    3.068\n  bisection            4.30646    0.00100102  0:00:46.035302   46.035\n  mullerBisection      4.30646    0.00100102  0:00:33.461152   33.461\n  newton               4.11903  5.81482e+111  0:00:04.068967    4.068\n  halley               3.93286    0.00104206  0:00:02.172841    2.172\n  new_newton           4.28017   7.71862e+06  0:00:11.590645   11.590\n  new_halley           4.24333   2.48595e+06  0:00:10.442780   10.442,\n  0.7:                 log_accuracy          MSE  Time(hh:mm:ss)  Seconds\n  brentq               4.30646   0.00100102  0:00:05.123024    5.123\n  brenth               4.30646   0.00100102  0:00:05.238620    5.238\n  ridder               4.30646   0.00100102  0:00:07.233413    7.233\n  scipy_newton         4.12553  7.79877e+37  0:00:03.083853    3.083\n  bisection            4.30646   0.00100102  0:00:46.380854   46.380\n  mullerBisection      4.30646   0.00100102  0:00:33.679738   33.679\n  newton               4.19757  2.05935e+42  0:00:04.240502    4.240\n  halley                3.7735   0.00167653  0:00:02.199868    2.199\n  new_newton           4.28017  7.71862e+06  0:00:12.338441   12.338\n  new_halley           4.24333  2.48595e+06  0:00:11.458646   11.458,\n  1:                 log_accuracy           MSE  Time(hh:mm:ss)  Seconds\n  brentq               4.30646    0.00100102  0:00:05.731281    5.731\n  brenth               4.30646    0.00100102  0:00:05.499522    5.499\n  ridder               4.30646    0.00100102  0:00:07.316676    7.316\n  scipy_newton         4.13935   1.40374e+19  0:00:03.346702    3.346\n  bisection            4.30646    0.00100102  0:00:45.936737   45.936\n  mullerBisection      4.30646    0.00100102  0:00:31.160611   31.160\n  newton               4.12668  1.55421e+181  0:00:03.774675    3.774\n  halley               3.64457    0.00281198  0:00:02.049851    2.049\n  new_newton           4.28017   7.71862e+06  0:00:11.788501   11.788\n  new_halley           4.24333   2.48595e+06  0:00:11.415600   11.415,\n  1.5:                 log_accuracy          MSE  Time(hh:mm:ss)  Seconds\n  brentq               4.30646   0.00100102  0:00:05.748952    5.748\n  brenth               4.30646   0.00100102  0:00:05.505580    5.505\n  ridder               4.30646   0.00100102  0:00:07.703579    7.703\n  scipy_newton         4.12278   7.8153e+26  0:00:03.523192    3.523\n  bisection            4.30646   0.00100102  0:00:45.397006   45.397\n  mullerBisection      4.30646   0.00100102  0:00:34.256798   34.256\n  newton                4.0716  6.79605e+19  0:00:03.639951    3.639\n  halley               3.56188   0.00490749  0:00:02.264380    2.264\n  new_newton           4.28017  7.71862e+06  0:00:12.769179   12.769\n  new_halley           4.24333  2.48595e+06  0:00:10.945341   10.945,\n  1.7:                 log_accuracy           MSE  Time(hh:mm:ss)  Seconds\n  brentq               4.30646    0.00100102  0:00:05.219745    5.219\n  brenth               4.30646    0.00100102  0:00:04.955526    4.955\n  ridder               4.30646    0.00100102  0:00:07.097961    7.097\n  scipy_newton         4.17953   8.81086e+31  0:00:03.286926    3.286\n  bisection            4.30646    0.00100102  0:00:59.729016   59.729\n  mullerBisection      4.30646    0.00100102  0:00:31.618373   31.618\n  newton               3.53386  6.53992e+303  0:00:03.682383    3.682\n  halley               3.40933    0.00586908  0:00:02.322953    2.322\n  new_newton           4.28017   7.71862e+06  0:00:13.645282   13.645\n  new_halley           4.24333   2.48595e+06  0:00:11.505148   11.505,\n  2:                 log_accuracy          MSE  Time(hh:mm:ss)  Seconds\n  brentq               4.30646   0.00100102  0:00:06.043909    6.043\n  brenth               4.30646   0.00100102  0:00:05.637632    5.637\n  ridder               4.30646   0.00100102  0:00:08.261403    8.261\n  scipy_newton         4.11627  6.68672e+19  0:00:04.074172    4.074\n  bisection            4.30646   0.00100102  0:00:46.565977   46.565\n  mullerBisection      4.30646   0.00100102  0:00:32.760265   32.760\n  newton               3.37182  1.34302e+47  0:00:03.122727    3.122\n  halley                 3.136   0.00753054  0:00:02.232009    2.232\n  new_newton           4.28017  7.71862e+06  0:00:12.617935   12.617\n  new_halley           4.24333  2.48595e+06  0:00:11.848882   11.848},\n 5: {0.3:                 log_accuracy           MSE  Time(hh:mm:ss)  Seconds\n  brentq               4.30646    0.00100102  0:00:05.818020    5.818\n  brenth               4.30646    0.00100102  0:00:05.713979    5.713\n  ridder               4.30646    0.00100102  0:00:07.766954    7.766\n  scipy_newton         4.14998   5.85325e+17  0:00:03.217075    3.217\n  bisection            4.30646    0.00100102  0:00:46.732029   46.732\n  mullerBisection      4.30646    0.00100102  0:00:33.706377   33.706\n  newton               4.07488  5.82465e+198  0:00:04.095454    4.095\n  halley               4.22647     0.0008426  0:00:02.152962    2.152\n  new_newton           4.30426      0.215771  0:00:16.443958   16.443\n  new_halley           4.30632    0.00100073  0:00:15.848976   15.848,\n  0.5:                 log_accuracy           MSE  Time(hh:mm:ss)  Seconds\n  brentq               4.30646    0.00100102  0:00:05.564156    5.564\n  brenth               4.30646    0.00100102  0:00:05.689654    5.689\n  ridder               4.30646    0.00100102  0:00:07.861966    7.861\n  scipy_newton         4.11276   7.04273e+23  0:00:03.239693    3.239\n  bisection            4.30646    0.00100102  0:00:45.635644   45.635\n  mullerBisection      4.30646    0.00100102  0:00:33.597159   33.597\n  newton               4.11903  5.81482e+111  0:00:04.145857    4.145\n  halley               3.93286    0.00104206  0:00:02.227147    2.227\n  new_newton           4.30426      0.215771  0:00:16.463505   16.463\n  new_halley           4.30632    0.00100073  0:00:16.819609   16.819,\n  0.7:                 log_accuracy          MSE  Time(hh:mm:ss)  Seconds\n  brentq               4.30646   0.00100102  0:00:05.517034    5.517\n  brenth               4.30646   0.00100102  0:00:05.444496    5.444\n  ridder               4.30646   0.00100102  0:00:07.633497    7.633\n  scipy_newton         4.12553  7.79877e+37  0:00:03.272695    3.272\n  bisection            4.30646   0.00100102  0:00:43.801776   43.801\n  mullerBisection      4.30646   0.00100102  0:00:32.211688   32.211\n  newton               4.19757  2.05935e+42  0:00:04.045593    4.045\n  halley                3.7735   0.00167653  0:00:02.157095    2.157\n  new_newton           4.30426     0.215771  0:00:16.214639   16.214\n  new_halley           4.30632   0.00100073  0:00:16.551176   16.551,\n  1:                 log_accuracy           MSE  Time(hh:mm:ss)  Seconds\n  brentq               4.30646    0.00100102  0:00:05.521184    5.521\n  brenth               4.30646    0.00100102  0:00:05.454610    5.454\n  ridder               4.30646    0.00100102  0:00:07.495457    7.495\n  scipy_newton         4.13935   1.40374e+19  0:00:03.181487    3.181\n  bisection            4.30646    0.00100102  0:00:44.373280   44.373\n  mullerBisection      4.30646    0.00100102  0:00:32.589637   32.589\n  newton               4.12668  1.55421e+181  0:00:03.925748    3.925\n  halley               3.64457    0.00281198  0:00:02.233181    2.233\n  new_newton           4.30426      0.215771  0:00:16.462436   16.462\n  new_halley           4.30632    0.00100073  0:00:16.477625   16.477,\n  1.5:                 log_accuracy          MSE  Time(hh:mm:ss)  Seconds\n  brentq               4.30646   0.00100102  0:00:05.537999    5.537\n  brenth               4.30646   0.00100102  0:00:05.520102    5.520\n  ridder               4.30646   0.00100102  0:00:07.556908    7.556\n  scipy_newton         4.12278   7.8153e+26  0:00:03.455592    3.455\n  bisection            4.30646   0.00100102  0:00:45.806695   45.806\n  mullerBisection      4.30646   0.00100102  0:00:32.443566   32.443\n  newton                4.0716  6.79605e+19  0:00:03.368767    3.368\n  halley               3.56188   0.00490749  0:00:02.093203    2.093\n  new_newton           4.30426     0.215771  0:00:16.292221   16.292\n  new_halley           4.30632   0.00100073  0:00:16.370093   16.370,\n  1.7:                 log_accuracy           MSE  Time(hh:mm:ss)  Seconds\n  brentq               4.30646    0.00100102  0:00:05.373943    5.373\n  brenth               4.30646    0.00100102  0:00:05.510982    5.510\n  ridder               4.30646    0.00100102  0:00:07.575706    7.575\n  scipy_newton         4.17953   8.81086e+31  0:00:03.460673    3.460\n  bisection            4.30646    0.00100102  0:00:44.352078   44.352\n  mullerBisection      4.30646    0.00100102  0:00:31.489587   31.489\n  newton               3.53386  6.53992e+303  0:00:04.402740    4.402\n  halley               3.40933    0.00586908  0:00:01.941629    1.941\n  new_newton           4.30426      0.215771  0:00:14.974144   14.974\n  new_halley           4.30632    0.00100073  0:00:16.378036   16.378,\n  2:                 log_accuracy          MSE  Time(hh:mm:ss)  Seconds\n  brentq               4.30646   0.00100102  0:00:05.332030    5.332\n  brenth               4.30646   0.00100102  0:00:05.309841    5.309\n  ridder               4.30646   0.00100102  0:00:07.529533    7.529\n  scipy_newton         4.11627  6.68672e+19  0:00:03.652341    3.652\n  bisection            4.30646   0.00100102  0:00:45.585546   45.585\n  mullerBisection      4.30646   0.00100102  0:00:31.208303   31.208\n  newton               3.37182  1.34302e+47  0:00:02.926408    2.926\n  halley                 3.136   0.00753054  0:00:02.064500    2.064\n  new_newton           4.30426     0.215771  0:00:14.926444   14.926\n  new_halley           4.30632   0.00100073  0:00:14.698356   14.698},\n 10: {0.3:                 log_accuracy           MSE  Time(hh:mm:ss)  Seconds\n  brentq               4.30646    0.00100102  0:00:04.962306    4.962\n  brenth               4.30646    0.00100102  0:00:04.911635    4.911\n  ridder               4.30646    0.00100102  0:00:06.786120    6.786\n  scipy_newton         4.14998   5.85325e+17  0:00:02.729186    2.729\n  bisection            4.30646    0.00100102  0:00:43.755452   43.755\n  mullerBisection      4.30646    0.00100102  0:00:29.837489   29.837\n  newton               4.07488  5.82465e+198  0:00:03.566057    3.566\n  halley               4.22647     0.0008426  0:00:01.997612    1.997\n  new_newton           4.30646    0.00100102  0:00:23.310190   23.310\n  new_halley           4.30646    0.00100102  0:00:21.648049   21.648,\n  0.5:                 log_accuracy           MSE  Time(hh:mm:ss)  Seconds\n  brentq               4.30646    0.00100102  0:00:04.700867    4.700\n  brenth               4.30646    0.00100102  0:00:04.629408    4.629\n  ridder               4.30646    0.00100102  0:00:07.781031    7.781\n  scipy_newton         4.11276   7.04273e+23  0:00:02.982938    2.982\n  bisection            4.30646    0.00100102  0:00:42.297600   42.297\n  mullerBisection      4.30646    0.00100102  0:00:29.363975   29.363\n  newton               4.11903  5.81482e+111  0:00:03.587424    3.587\n  halley               3.93286    0.00104206  0:00:01.913145    1.913\n  new_newton           4.30646    0.00100102  0:00:23.046932   23.046\n  new_halley           4.30646    0.00100102  0:00:24.831921   24.831,\n  0.7:                 log_accuracy          MSE  Time(hh:mm:ss)  Seconds\n  brentq               4.30646   0.00100102  0:00:05.353296    5.353\n  brenth               4.30646   0.00100102  0:00:05.241429    5.241\n  ridder               4.30646   0.00100102  0:00:07.360000    7.360\n  scipy_newton         4.12553  7.79877e+37  0:00:03.152114    3.152\n  bisection            4.30646   0.00100102  0:00:44.833277   44.833\n  mullerBisection      4.30646   0.00100102  0:00:31.806666   31.806\n  newton               4.19757  2.05935e+42  0:00:03.946364    3.946\n  halley                3.7735   0.00167653  0:00:02.035020    2.035\n  new_newton           4.30646   0.00100102  0:00:23.744608   23.744\n  new_halley           4.30646   0.00100102  0:00:24.608858   24.608,\n  1:                 log_accuracy           MSE  Time(hh:mm:ss)  Seconds\n  brentq               4.30646    0.00100102  0:00:05.364639    5.364\n  brenth               4.30646    0.00100102  0:00:05.029312    5.029\n  ridder               4.30646    0.00100102  0:00:07.394921    7.394\n  scipy_newton         4.13935   1.40374e+19  0:00:03.030371    3.030\n  bisection            4.30646    0.00100102  0:00:44.425245   44.425\n  mullerBisection      4.30646    0.00100102  0:00:30.644324   30.644\n  newton               4.12668  1.55421e+181  0:00:03.639907    3.639\n  halley               3.64457    0.00281198  0:00:02.085196    2.085\n  new_newton           4.30646    0.00100102  0:00:24.000412   24.000\n  new_halley           4.30646    0.00100102  0:00:24.995902   24.995,\n  1.5:                 log_accuracy          MSE  Time(hh:mm:ss)  Seconds\n  brentq               4.30646   0.00100102  0:00:05.421655    5.421\n  brenth               4.30646   0.00100102  0:00:05.361740    5.361\n  ridder               4.30646   0.00100102  0:00:07.468804    7.468\n  scipy_newton         4.12278   7.8153e+26  0:00:03.427388    3.427\n  bisection            4.30646   0.00100102  0:00:42.386582   42.386\n  mullerBisection      4.30646   0.00100102  0:00:31.604164   31.604\n  newton                4.0716  6.79605e+19  0:00:03.337079    3.337\n  halley               3.56188   0.00490749  0:00:02.064583    2.064\n  new_newton           4.30646   0.00100102  0:00:24.127522   24.127\n  new_halley           4.30646   0.00100102  0:00:23.537862   23.537,\n  1.7:                 log_accuracy           MSE  Time(hh:mm:ss)  Seconds\n  brentq               4.30646    0.00100102  0:00:05.092313    5.092\n  brenth               4.30646    0.00100102  0:00:05.048042    5.048\n  ridder               4.30646    0.00100102  0:00:06.878566    6.878\n  scipy_newton         4.17953   8.81086e+31  0:00:03.342402    3.342\n  bisection            4.30646    0.00100102  0:00:44.062477   44.062\n  mullerBisection      4.30646    0.00100102  0:00:30.862330   30.862\n  newton               3.53386  6.53992e+303  0:00:03.182857    3.182\n  halley               3.40933    0.00586908  0:00:01.963162    1.963\n  new_newton           4.30646    0.00100102  0:00:23.976011   23.976\n  new_halley           4.30646    0.00100102  0:00:24.924709   24.924,\n  2:                 log_accuracy          MSE  Time(hh:mm:ss)  Seconds\n  brentq               4.30646   0.00100102  0:00:05.337934    5.337\n  brenth               4.30646   0.00100102  0:00:05.076755    5.076\n  ridder               4.30646   0.00100102  0:00:06.970133    6.970\n  scipy_newton         4.11627  6.68672e+19  0:00:03.364994    3.364\n  bisection            4.30646   0.00100102  0:00:41.622269   41.622\n  mullerBisection      4.30646   0.00100102  0:00:30.783930   30.783\n  newton               3.37182  1.34302e+47  0:00:03.003699    3.003\n  halley                 3.136   0.00753054  0:00:02.106891    2.106\n  new_newton           4.30646   0.00100102  0:00:23.645231   23.645\n  new_halley           4.30646   0.00100102  0:00:24.997871   24.997}}"
      ]
     },
     "execution_count": 8,
     "metadata": {},
     "output_type": "execute_result"
    }
   ],
   "source": [
    "newDic"
   ]
  },
  {
   "cell_type": "code",
   "execution_count": 21,
   "metadata": {
    "collapsed": true
   },
   "outputs": [
    {
     "data": {
      "text/plain": [
       "{2:                 log_accuracy_sigma=0.30 log_accuracy_sigma=0.50  \\\n brentq                          4.30646                 4.30646   \n brenth                          4.30646                 4.30646   \n ridder                          4.30646                 4.30646   \n scipy_newton                    4.14998                 4.11276   \n bisection                       4.30646                 4.30646   \n mullerBisection                 4.30646                 4.30646   \n newton                          4.07488                 4.11903   \n halley                          4.22647                 3.93286   \n new_newton                      4.30426                 4.30426   \n new_halley                      4.30632                 4.30632   \n \n                 log_accuracy_sigma=0.70 log_accuracy_sigma=1.00  \\\n brentq                          4.30646                 4.30646   \n brenth                          4.30646                 4.30646   \n ridder                          4.30646                 4.30646   \n scipy_newton                    4.12553                 4.13935   \n bisection                       4.30646                 4.30646   \n mullerBisection                 4.30646                 4.30646   \n newton                          4.19757                 4.12668   \n halley                           3.7735                 3.64457   \n new_newton                      4.30426                 4.30426   \n new_halley                      4.30632                 4.30632   \n \n                 log_accuracy_sigma=1.50 log_accuracy_sigma=1.70  \\\n brentq                          4.30646                 4.30646   \n brenth                          4.30646                 4.30646   \n ridder                          4.30646                 4.30646   \n scipy_newton                    4.12278                 4.17953   \n bisection                       4.30646                 4.30646   \n mullerBisection                 4.30646                 4.30646   \n newton                           4.0716                 3.53386   \n halley                          3.56188                 3.40933   \n new_newton                      4.30426                 4.30426   \n new_halley                      4.30632                 4.30632   \n \n                 log_accuracy_sigma=2.00 MSE_sigma=0.30 MSE_sigma=0.50  \\\n brentq                          4.30646     0.00100102     0.00100102   \n brenth                          4.30646     0.00100102     0.00100102   \n ridder                          4.30646     0.00100102     0.00100102   \n scipy_newton                    4.11627    5.85325e+17    7.04273e+23   \n bisection                       4.30646     0.00100102     0.00100102   \n mullerBisection                 4.30646     0.00100102     0.00100102   \n newton                          3.37182   5.82465e+198   5.81482e+111   \n halley                            3.136      0.0008426     0.00104206   \n new_newton                      4.30426       0.215771       0.215771   \n new_halley                      4.30632     0.00100073     0.00100073   \n \n                 MSE_sigma=0.70           ...            MSE_sigma=1.50  \\\n brentq              0.00100102           ...                0.00100102   \n brenth              0.00100102           ...                0.00100102   \n ridder              0.00100102           ...                0.00100102   \n scipy_newton       7.79877e+37           ...                7.8153e+26   \n bisection           0.00100102           ...                0.00100102   \n mullerBisection     0.00100102           ...                0.00100102   \n newton             2.05935e+42           ...               6.79605e+19   \n halley              0.00167653           ...                0.00490749   \n new_newton            0.215771           ...                  0.215771   \n new_halley          0.00100073           ...                0.00100073   \n \n                 MSE_sigma=1.70 MSE_sigma=2.00 running_time_sigma=0.30  \\\n brentq              0.00100102     0.00100102                   5.818   \n brenth              0.00100102     0.00100102                   5.713   \n ridder              0.00100102     0.00100102                   7.766   \n scipy_newton       8.81086e+31    6.68672e+19                   3.217   \n bisection           0.00100102     0.00100102                  46.732   \n mullerBisection     0.00100102     0.00100102                  33.706   \n newton            6.53992e+303    1.34302e+47                   4.095   \n halley              0.00586908     0.00753054                   2.152   \n new_newton            0.215771       0.215771                  16.443   \n new_halley          0.00100073     0.00100073                  15.848   \n \n                  running_time_sigma=0.50  running_time_sigma=0.70  \\\n brentq                             5.564                    5.517   \n brenth                             5.689                    5.444   \n ridder                             7.861                    7.633   \n scipy_newton                       3.239                    3.272   \n bisection                         45.635                   43.801   \n mullerBisection                   33.597                   32.211   \n newton                             4.145                    4.045   \n halley                             2.227                    2.157   \n new_newton                        16.463                   16.214   \n new_halley                        16.819                   16.551   \n \n                  running_time_sigma=1.00  running_time_sigma=1.50  \\\n brentq                             5.521                    5.537   \n brenth                             5.454                    5.520   \n ridder                             7.495                    7.556   \n scipy_newton                       3.181                    3.455   \n bisection                         44.373                   45.806   \n mullerBisection                   32.589                   32.443   \n newton                             3.925                    3.368   \n halley                             2.233                    2.093   \n new_newton                        16.462                   16.292   \n new_halley                        16.477                   16.370   \n \n                  running_time_sigma=1.70  running_time_sigma=2.00  \n brentq                             5.373                    5.332  \n brenth                             5.510                    5.309  \n ridder                             7.575                    7.529  \n scipy_newton                       3.460                    3.652  \n bisection                         44.352                   45.585  \n mullerBisection                   31.489                   31.208  \n newton                             4.402                    2.926  \n halley                             1.941                    2.064  \n new_newton                        14.974                   14.926  \n new_halley                        16.378                   14.698  \n \n [10 rows x 21 columns],\n 3:                 log_accuracy_sigma=0.30 log_accuracy_sigma=0.50  \\\n brentq                          4.30646                 4.30646   \n brenth                          4.30646                 4.30646   \n ridder                          4.30646                 4.30646   \n scipy_newton                    4.14998                 4.11276   \n bisection                       4.30646                 4.30646   \n mullerBisection                 4.30646                 4.30646   \n newton                          4.07488                 4.11903   \n halley                          4.22647                 3.93286   \n new_newton                      4.30426                 4.30426   \n new_halley                      4.30632                 4.30632   \n \n                 log_accuracy_sigma=0.70 log_accuracy_sigma=1.00  \\\n brentq                          4.30646                 4.30646   \n brenth                          4.30646                 4.30646   \n ridder                          4.30646                 4.30646   \n scipy_newton                    4.12553                 4.13935   \n bisection                       4.30646                 4.30646   \n mullerBisection                 4.30646                 4.30646   \n newton                          4.19757                 4.12668   \n halley                           3.7735                 3.64457   \n new_newton                      4.30426                 4.30426   \n new_halley                      4.30632                 4.30632   \n \n                 log_accuracy_sigma=1.50 log_accuracy_sigma=1.70  \\\n brentq                          4.30646                 4.30646   \n brenth                          4.30646                 4.30646   \n ridder                          4.30646                 4.30646   \n scipy_newton                    4.12278                 4.17953   \n bisection                       4.30646                 4.30646   \n mullerBisection                 4.30646                 4.30646   \n newton                           4.0716                 3.53386   \n halley                          3.56188                 3.40933   \n new_newton                      4.30426                 4.30426   \n new_halley                      4.30632                 4.30632   \n \n                 log_accuracy_sigma=2.00 MSE_sigma=0.30 MSE_sigma=0.50  \\\n brentq                          4.30646     0.00100102     0.00100102   \n brenth                          4.30646     0.00100102     0.00100102   \n ridder                          4.30646     0.00100102     0.00100102   \n scipy_newton                    4.11627    5.85325e+17    7.04273e+23   \n bisection                       4.30646     0.00100102     0.00100102   \n mullerBisection                 4.30646     0.00100102     0.00100102   \n newton                          3.37182   5.82465e+198   5.81482e+111   \n halley                            3.136      0.0008426     0.00104206   \n new_newton                      4.30426       0.215771       0.215771   \n new_halley                      4.30632     0.00100073     0.00100073   \n \n                 MSE_sigma=0.70           ...            MSE_sigma=1.50  \\\n brentq              0.00100102           ...                0.00100102   \n brenth              0.00100102           ...                0.00100102   \n ridder              0.00100102           ...                0.00100102   \n scipy_newton       7.79877e+37           ...                7.8153e+26   \n bisection           0.00100102           ...                0.00100102   \n mullerBisection     0.00100102           ...                0.00100102   \n newton             2.05935e+42           ...               6.79605e+19   \n halley              0.00167653           ...                0.00490749   \n new_newton            0.215771           ...                  0.215771   \n new_halley          0.00100073           ...                0.00100073   \n \n                 MSE_sigma=1.70 MSE_sigma=2.00 running_time_sigma=0.30  \\\n brentq              0.00100102     0.00100102                   5.818   \n brenth              0.00100102     0.00100102                   5.713   \n ridder              0.00100102     0.00100102                   7.766   \n scipy_newton       8.81086e+31    6.68672e+19                   3.217   \n bisection           0.00100102     0.00100102                  46.732   \n mullerBisection     0.00100102     0.00100102                  33.706   \n newton            6.53992e+303    1.34302e+47                   4.095   \n halley              0.00586908     0.00753054                   2.152   \n new_newton            0.215771       0.215771                  16.443   \n new_halley          0.00100073     0.00100073                  15.848   \n \n                  running_time_sigma=0.50  running_time_sigma=0.70  \\\n brentq                             5.564                    5.517   \n brenth                             5.689                    5.444   \n ridder                             7.861                    7.633   \n scipy_newton                       3.239                    3.272   \n bisection                         45.635                   43.801   \n mullerBisection                   33.597                   32.211   \n newton                             4.145                    4.045   \n halley                             2.227                    2.157   \n new_newton                        16.463                   16.214   \n new_halley                        16.819                   16.551   \n \n                  running_time_sigma=1.00  running_time_sigma=1.50  \\\n brentq                             5.521                    5.537   \n brenth                             5.454                    5.520   \n ridder                             7.495                    7.556   \n scipy_newton                       3.181                    3.455   \n bisection                         44.373                   45.806   \n mullerBisection                   32.589                   32.443   \n newton                             3.925                    3.368   \n halley                             2.233                    2.093   \n new_newton                        16.462                   16.292   \n new_halley                        16.477                   16.370   \n \n                  running_time_sigma=1.70  running_time_sigma=2.00  \n brentq                             5.373                    5.332  \n brenth                             5.510                    5.309  \n ridder                             7.575                    7.529  \n scipy_newton                       3.460                    3.652  \n bisection                         44.352                   45.585  \n mullerBisection                   31.489                   31.208  \n newton                             4.402                    2.926  \n halley                             1.941                    2.064  \n new_newton                        14.974                   14.926  \n new_halley                        16.378                   14.698  \n \n [10 rows x 21 columns],\n 5:                 log_accuracy_sigma=0.30 log_accuracy_sigma=0.50  \\\n brentq                          4.30646                 4.30646   \n brenth                          4.30646                 4.30646   \n ridder                          4.30646                 4.30646   \n scipy_newton                    4.14998                 4.11276   \n bisection                       4.30646                 4.30646   \n mullerBisection                 4.30646                 4.30646   \n newton                          4.07488                 4.11903   \n halley                          4.22647                 3.93286   \n new_newton                      4.30426                 4.30426   \n new_halley                      4.30632                 4.30632   \n \n                 log_accuracy_sigma=0.70 log_accuracy_sigma=1.00  \\\n brentq                          4.30646                 4.30646   \n brenth                          4.30646                 4.30646   \n ridder                          4.30646                 4.30646   \n scipy_newton                    4.12553                 4.13935   \n bisection                       4.30646                 4.30646   \n mullerBisection                 4.30646                 4.30646   \n newton                          4.19757                 4.12668   \n halley                           3.7735                 3.64457   \n new_newton                      4.30426                 4.30426   \n new_halley                      4.30632                 4.30632   \n \n                 log_accuracy_sigma=1.50 log_accuracy_sigma=1.70  \\\n brentq                          4.30646                 4.30646   \n brenth                          4.30646                 4.30646   \n ridder                          4.30646                 4.30646   \n scipy_newton                    4.12278                 4.17953   \n bisection                       4.30646                 4.30646   \n mullerBisection                 4.30646                 4.30646   \n newton                           4.0716                 3.53386   \n halley                          3.56188                 3.40933   \n new_newton                      4.30426                 4.30426   \n new_halley                      4.30632                 4.30632   \n \n                 log_accuracy_sigma=2.00 MSE_sigma=0.30 MSE_sigma=0.50  \\\n brentq                          4.30646     0.00100102     0.00100102   \n brenth                          4.30646     0.00100102     0.00100102   \n ridder                          4.30646     0.00100102     0.00100102   \n scipy_newton                    4.11627    5.85325e+17    7.04273e+23   \n bisection                       4.30646     0.00100102     0.00100102   \n mullerBisection                 4.30646     0.00100102     0.00100102   \n newton                          3.37182   5.82465e+198   5.81482e+111   \n halley                            3.136      0.0008426     0.00104206   \n new_newton                      4.30426       0.215771       0.215771   \n new_halley                      4.30632     0.00100073     0.00100073   \n \n                 MSE_sigma=0.70           ...            MSE_sigma=1.50  \\\n brentq              0.00100102           ...                0.00100102   \n brenth              0.00100102           ...                0.00100102   \n ridder              0.00100102           ...                0.00100102   \n scipy_newton       7.79877e+37           ...                7.8153e+26   \n bisection           0.00100102           ...                0.00100102   \n mullerBisection     0.00100102           ...                0.00100102   \n newton             2.05935e+42           ...               6.79605e+19   \n halley              0.00167653           ...                0.00490749   \n new_newton            0.215771           ...                  0.215771   \n new_halley          0.00100073           ...                0.00100073   \n \n                 MSE_sigma=1.70 MSE_sigma=2.00 running_time_sigma=0.30  \\\n brentq              0.00100102     0.00100102                   5.818   \n brenth              0.00100102     0.00100102                   5.713   \n ridder              0.00100102     0.00100102                   7.766   \n scipy_newton       8.81086e+31    6.68672e+19                   3.217   \n bisection           0.00100102     0.00100102                  46.732   \n mullerBisection     0.00100102     0.00100102                  33.706   \n newton            6.53992e+303    1.34302e+47                   4.095   \n halley              0.00586908     0.00753054                   2.152   \n new_newton            0.215771       0.215771                  16.443   \n new_halley          0.00100073     0.00100073                  15.848   \n \n                  running_time_sigma=0.50  running_time_sigma=0.70  \\\n brentq                             5.564                    5.517   \n brenth                             5.689                    5.444   \n ridder                             7.861                    7.633   \n scipy_newton                       3.239                    3.272   \n bisection                         45.635                   43.801   \n mullerBisection                   33.597                   32.211   \n newton                             4.145                    4.045   \n halley                             2.227                    2.157   \n new_newton                        16.463                   16.214   \n new_halley                        16.819                   16.551   \n \n                  running_time_sigma=1.00  running_time_sigma=1.50  \\\n brentq                             5.521                    5.537   \n brenth                             5.454                    5.520   \n ridder                             7.495                    7.556   \n scipy_newton                       3.181                    3.455   \n bisection                         44.373                   45.806   \n mullerBisection                   32.589                   32.443   \n newton                             3.925                    3.368   \n halley                             2.233                    2.093   \n new_newton                        16.462                   16.292   \n new_halley                        16.477                   16.370   \n \n                  running_time_sigma=1.70  running_time_sigma=2.00  \n brentq                             5.373                    5.332  \n brenth                             5.510                    5.309  \n ridder                             7.575                    7.529  \n scipy_newton                       3.460                    3.652  \n bisection                         44.352                   45.585  \n mullerBisection                   31.489                   31.208  \n newton                             4.402                    2.926  \n halley                             1.941                    2.064  \n new_newton                        14.974                   14.926  \n new_halley                        16.378                   14.698  \n \n [10 rows x 21 columns],\n 10:                 log_accuracy_sigma=0.30 log_accuracy_sigma=0.50  \\\n brentq                          4.30646                 4.30646   \n brenth                          4.30646                 4.30646   \n ridder                          4.30646                 4.30646   \n scipy_newton                    4.14998                 4.11276   \n bisection                       4.30646                 4.30646   \n mullerBisection                 4.30646                 4.30646   \n newton                          4.07488                 4.11903   \n halley                          4.22647                 3.93286   \n new_newton                      4.30426                 4.30426   \n new_halley                      4.30632                 4.30632   \n \n                 log_accuracy_sigma=0.70 log_accuracy_sigma=1.00  \\\n brentq                          4.30646                 4.30646   \n brenth                          4.30646                 4.30646   \n ridder                          4.30646                 4.30646   \n scipy_newton                    4.12553                 4.13935   \n bisection                       4.30646                 4.30646   \n mullerBisection                 4.30646                 4.30646   \n newton                          4.19757                 4.12668   \n halley                           3.7735                 3.64457   \n new_newton                      4.30426                 4.30426   \n new_halley                      4.30632                 4.30632   \n \n                 log_accuracy_sigma=1.50 log_accuracy_sigma=1.70  \\\n brentq                          4.30646                 4.30646   \n brenth                          4.30646                 4.30646   \n ridder                          4.30646                 4.30646   \n scipy_newton                    4.12278                 4.17953   \n bisection                       4.30646                 4.30646   \n mullerBisection                 4.30646                 4.30646   \n newton                           4.0716                 3.53386   \n halley                          3.56188                 3.40933   \n new_newton                      4.30426                 4.30426   \n new_halley                      4.30632                 4.30632   \n \n                 log_accuracy_sigma=2.00 MSE_sigma=0.30 MSE_sigma=0.50  \\\n brentq                          4.30646     0.00100102     0.00100102   \n brenth                          4.30646     0.00100102     0.00100102   \n ridder                          4.30646     0.00100102     0.00100102   \n scipy_newton                    4.11627    5.85325e+17    7.04273e+23   \n bisection                       4.30646     0.00100102     0.00100102   \n mullerBisection                 4.30646     0.00100102     0.00100102   \n newton                          3.37182   5.82465e+198   5.81482e+111   \n halley                            3.136      0.0008426     0.00104206   \n new_newton                      4.30426       0.215771       0.215771   \n new_halley                      4.30632     0.00100073     0.00100073   \n \n                 MSE_sigma=0.70           ...            MSE_sigma=1.50  \\\n brentq              0.00100102           ...                0.00100102   \n brenth              0.00100102           ...                0.00100102   \n ridder              0.00100102           ...                0.00100102   \n scipy_newton       7.79877e+37           ...                7.8153e+26   \n bisection           0.00100102           ...                0.00100102   \n mullerBisection     0.00100102           ...                0.00100102   \n newton             2.05935e+42           ...               6.79605e+19   \n halley              0.00167653           ...                0.00490749   \n new_newton            0.215771           ...                  0.215771   \n new_halley          0.00100073           ...                0.00100073   \n \n                 MSE_sigma=1.70 MSE_sigma=2.00 running_time_sigma=0.30  \\\n brentq              0.00100102     0.00100102                   5.818   \n brenth              0.00100102     0.00100102                   5.713   \n ridder              0.00100102     0.00100102                   7.766   \n scipy_newton       8.81086e+31    6.68672e+19                   3.217   \n bisection           0.00100102     0.00100102                  46.732   \n mullerBisection     0.00100102     0.00100102                  33.706   \n newton            6.53992e+303    1.34302e+47                   4.095   \n halley              0.00586908     0.00753054                   2.152   \n new_newton            0.215771       0.215771                  16.443   \n new_halley          0.00100073     0.00100073                  15.848   \n \n                  running_time_sigma=0.50  running_time_sigma=0.70  \\\n brentq                             5.564                    5.517   \n brenth                             5.689                    5.444   \n ridder                             7.861                    7.633   \n scipy_newton                       3.239                    3.272   \n bisection                         45.635                   43.801   \n mullerBisection                   33.597                   32.211   \n newton                             4.145                    4.045   \n halley                             2.227                    2.157   \n new_newton                        16.463                   16.214   \n new_halley                        16.819                   16.551   \n \n                  running_time_sigma=1.00  running_time_sigma=1.50  \\\n brentq                             5.521                    5.537   \n brenth                             5.454                    5.520   \n ridder                             7.495                    7.556   \n scipy_newton                       3.181                    3.455   \n bisection                         44.373                   45.806   \n mullerBisection                   32.589                   32.443   \n newton                             3.925                    3.368   \n halley                             2.233                    2.093   \n new_newton                        16.462                   16.292   \n new_halley                        16.477                   16.370   \n \n                  running_time_sigma=1.70  running_time_sigma=2.00  \n brentq                             5.373                    5.332  \n brenth                             5.510                    5.309  \n ridder                             7.575                    7.529  \n scipy_newton                       3.460                    3.652  \n bisection                         44.352                   45.585  \n mullerBisection                   31.489                   31.208  \n newton                             4.402                    2.926  \n halley                             1.941                    2.064  \n new_newton                        14.974                   14.926  \n new_halley                        16.378                   14.698  \n \n [10 rows x 21 columns]}"
      ]
     },
     "execution_count": 21,
     "metadata": {},
     "output_type": "execute_result"
    }
   ],
   "source": [
    "df_plt = pd.DataFrame(index=testMethods)\n",
    "dic_plt = {}\n",
    "for i in newDic:\n",
    "    # to keep each category together comparing with difference sigmas\n",
    "    for s in testSigma:\n",
    "        df_plt.loc[:, 'log_accuracy_sigma={:.2f}'.format(s)] = newDic[i][s].loc[:, 'log_accuracy']\n",
    "    \n",
    "    for s in testSigma:    \n",
    "        df_plt.loc[:, 'MSE_sigma={:.2f}'.format(s)] = newDic[i][s].loc[:, 'MSE']\n",
    "    \n",
    "    for s in testSigma:\n",
    "        df_plt.loc[:, 'running_time_sigma={:.2f}'.format(s)] = newDic[i][s].loc[:, 'Seconds']\n",
    "    \n",
    "    dic_plt[i] = df_plt\n",
    "    df_plt.to_csv('output_iter_{:d}.csv'.format(i))\n",
    "dic_plt"
   ]
  },
  {
   "cell_type": "markdown",
   "metadata": {},
   "source": [
    "### Plot Log Accuracy for 5 initial iterations "
   ]
  },
  {
   "cell_type": "code",
   "execution_count": 44,
   "metadata": {},
   "outputs": [
    {
     "name": "stdout",
     "output_type": "stream",
     "text": [
      "Using matplotlib backend: MacOSX\n"
     ]
    }
   ],
   "source": [
    "%matplotlib \n",
    "import matplotlib.pyplot as plt\n",
    "# 5 times iter log accuracy\n",
    "\n",
    "df_acc = dic_plt[5].iloc[:, :7]\n",
    "axes = df_acc.plot(kind='bar', subplots=True, colormap='coolwarm', title='Log Accuracy Comparison for Different Initial Sigma', grid=True, sort_columns=True, legend=False, figsize=(10,15))\n",
    "axes[0].set_ylim([3,4.5])\n",
    "axes[0].set_ylabel('log accuracy')\n",
    "axes[0].axvspan(5.5, 6.5, color='red', alpha=0.2)\n",
    "axes[0].axvspan(-0.5, 2.5, color='g', alpha=0.3)\n",
    "for ax in axes[1:]:\n",
    "    ax.axvspan(6.5, 7.5, color='r', alpha=0.2)\n",
    "    ax.axvspan(-0.5, 2.5, color='g', alpha=0.3)\n",
    "    ax.set_ylim([3,4.5])\n",
    "    ax.set_ylabel('log accuracy')\n",
    "\n",
    "plt.savefig('log_accuracy.png')"
   ]
  },
  {
   "cell_type": "markdown",
   "metadata": {},
   "source": [
    "### Plot MSE for 5 initial iterations"
   ]
  },
  {
   "cell_type": "code",
   "execution_count": 54,
   "metadata": {},
   "outputs": [],
   "source": [
    "df_acc = dic_plt[5].iloc[:, 7:14]\n",
    "axes = df_acc.plot(kind='bar', subplots=True, colormap='coolwarm', title='MSE Accuracy Comparison for Different Initial Sigma', grid=True, sort_columns=True, legend=False, figsize=(10,15))\n",
    "\n",
    "for ax in axes:\n",
    "    ax.axvspan(8.5, 9.5, color='g', alpha=0.2)\n",
    "    ax.axvspan(-0.5, 2.5, color='g', alpha=0.3)\n",
    "    ax.set_ylim([0,0.01])\n",
    "    ax.set_ylabel('MSE')\n",
    "\n",
    "plt.savefig('MSE_accuracy.png')"
   ]
  },
  {
   "cell_type": "markdown",
   "metadata": {},
   "source": [
    "### Plot running time for each methods"
   ]
  },
  {
   "cell_type": "code",
   "execution_count": 48,
   "metadata": {},
   "outputs": [],
   "source": [
    "df_sec = dic_plt[5].iloc[:, 14:]\n",
    "axes = df_sec.plot(kind='bar', subplots=True, colormap='coolwarm',title='Running Time Comparison for Different Initial Sigma', grid=True, sort_columns=True, legend=False, figsize=(10,15))\n",
    "for ax in axes:\n",
    "    ax.axvspan(6.5, 7.5, color='g', alpha=0.5)\n",
    "    ax.axvspan(2.5, 3.5, color='g', alpha=0.2)\n",
    "    ax.set_ylabel('Seconds')\n",
    "\n",
    "plt.savefig('running_duration.png')"
   ]
  },
  {
   "cell_type": "code",
   "execution_count": null,
   "metadata": {},
   "outputs": [],
   "source": [
    ""
   ]
  }
 ],
 "metadata": {
  "kernelspec": {
   "display_name": "Python 2",
   "language": "python",
   "name": "python2"
  },
  "language_info": {
   "codemirror_mode": {
    "name": "ipython",
    "version": 2.0
   },
   "file_extension": ".py",
   "mimetype": "text/x-python",
   "name": "python",
   "nbconvert_exporter": "python",
   "pygments_lexer": "ipython2",
   "version": "2.7.6"
  }
 },
 "nbformat": 4,
 "nbformat_minor": 0
}